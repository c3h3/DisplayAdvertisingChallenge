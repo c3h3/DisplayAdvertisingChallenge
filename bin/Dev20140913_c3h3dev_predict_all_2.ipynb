{
 "metadata": {
  "name": "",
  "signature": "sha256:47f8c8c1a009cfead9746d00c4ae94aaca7582d748876da80b1b3f51b527a0ce"
 },
 "nbformat": 3,
 "nbformat_minor": 0,
 "worksheets": [
  {
   "cells": [
    {
     "cell_type": "markdown",
     "metadata": {},
     "source": [
      "## Shogun NeuralNet:\n",
      "- http://www.shogun-toolbox.org/static/notebook/current/neuralnets_digits.html\n",
      "- http://www.shogun-toolbox.org/static/notebook/current/rbms_dbns.html"
     ]
    },
    {
     "cell_type": "markdown",
     "metadata": {},
     "source": [
      "## LMNN:\n",
      "- http://shogun-toolbox.org/static/notebook/current/LMNN.html\n"
     ]
    },
    {
     "cell_type": "markdown",
     "metadata": {},
     "source": [
      "## Shogun:\n",
      "- http://www.shogun-toolbox.org/page/documentation/notebook\n",
      "- http://www.shogun-toolbox.org/static/notebook/current/gaussian_processes.html\n"
     ]
    },
    {
     "cell_type": "markdown",
     "metadata": {},
     "source": [
      "\n"
     ]
    },
    {
     "cell_type": "markdown",
     "metadata": {},
     "source": [
      "## Bagging:\n",
      "- http://nbviewer.ipython.org/github/ga-students/DS_HK_2/blob/gh-pages/notebooks/14%20-%20Random%20Forests.ipynb"
     ]
    },
    {
     "cell_type": "code",
     "collapsed": false,
     "input": [],
     "language": "python",
     "metadata": {},
     "outputs": [],
     "prompt_number": 0
    },
    {
     "cell_type": "code",
     "collapsed": false,
     "input": [],
     "language": "python",
     "metadata": {},
     "outputs": [],
     "prompt_number": 0
    },
    {
     "cell_type": "code",
     "collapsed": false,
     "input": [
      "from hunkaggle.criteo import tools\n",
      "from hunkaggle.criteo.settings import TRAINING_COLUMN_NAMES\n",
      "import blz, os\n",
      "import numpy as np\n",
      "from hunkaggle.criteo.settings import MODELS_PATH\n"
     ],
     "language": "python",
     "metadata": {},
     "outputs": [],
     "prompt_number": 1
    },
    {
     "cell_type": "code",
     "collapsed": false,
     "input": [],
     "language": "python",
     "metadata": {},
     "outputs": [],
     "prompt_number": 1
    },
    {
     "cell_type": "code",
     "collapsed": false,
     "input": [
      "import uuid\n",
      "\n",
      "DEFAULT_LIMIT_INSTANCE = 5000000\n",
      "\n",
      "\n",
      "class Model(object):\n",
      "    \n",
      "    def __init__(self, model_series = \"TryModels\", model_id=None, model_home = MODELS_PATH):\n",
      "        self.model_series = model_series\n",
      "        self.model_home = model_home\n",
      "        \n",
      "        if model_id==None:\n",
      "            self.create_new_model_id()\n",
      "        else:\n",
      "            self.model_id = model_id\n",
      "            self.model_path = os.path.join(self.model_home, self.model_id)\n",
      "        \n",
      "            if not os.path.exists(self.model_path):\n",
      "                os.mkdir(self.model_path)\n",
      "        \n",
      "        self.all_training_prediction_path = os.path.join(self.model_path, \"all_training_prediction\")\n",
      "        self.all_testing_prediction_path = os.path.join(self.model_path, \"all_testing_prediction\")\n",
      "        \n",
      "        \n",
      "        \n",
      "    @property\n",
      "    def all_models_in_series(self):\n",
      "        return [one_model for one_model in os.listdir(self.model_home) if one_model.startswith(self.model_series)]\n",
      "    \n",
      "    \n",
      "    def create_new_model_id(self):\n",
      "        self.model_id = self.model_series + \"_\" + str(uuid.uuid1())\n",
      "        self.model_path = os.path.join(self.model_home, self.model_id)\n",
      "        \n",
      "        if not os.path.exists(self.model_path):\n",
      "            os.mkdir(self.model_path)\n",
      "        \n",
      "        return self.model_id\n",
      "    \n",
      "    \n",
      "    def set_training_model_type(self, model_type):\n",
      "        self.model_type = model_type\n",
      "        \n",
      "        \n",
      "    def set_training_model_parameters(self, **parameters):\n",
      "        assert \"model_type\" in self.__dict__\n",
      "        self.model_parameters = parameters\n",
      "        \n",
      "    \n",
      "    def set_training_data_slice(self, data_slice):\n",
      "        self.training_data_slices = data_slice\n",
      "        \n",
      "        \n",
      "    def set_training_model(self, model):\n",
      "        self.model = model\n",
      "        self.model_type = type(model)\n",
      "        self.all_model_parameters = model.get_params()\n",
      "        \n",
      "    \n",
      "    def fit_model(self, append_self=True, feature_columns=TRAINING_COLUMN_NAMES[2:], label_columns=TRAINING_COLUMN_NAMES[1]):\n",
      "        \n",
      "        self.feature_columns = [one_col for one_col in TRAINING_COLUMN_NAMES if one_col in feature_columns]\n",
      "        \n",
      "        if isinstance(label_columns,(str,unicode)):\n",
      "            self.label_columns = [label_columns]\n",
      "        \n",
      "        read_columns = self.label_columns + self.feature_columns\n",
      "        \n",
      "        training_cols_blz = map(lambda xx: blz.open(os.path.join(tools.TRAINING_BLZ_PATH,xx)),read_columns)\n",
      "        \n",
      "        if \"training_data_slices\" in self.__dict__:\n",
      "            sample_data_arr = np.c_[map(lambda xx:xx[self.training_data_slices],training_cols_blz)].T\n",
      "        else:\n",
      "            sample_data_arr = np.c_[map(lambda xx:xx[0:],training_cols)].T\n",
      "            \n",
      "        X = sample_data_arr[:,1:]\n",
      "        y = sample_data_arr[:,0]\n",
      "        \n",
      "        \n",
      "        if \"all_model_parameters\" in self.__dict__:\n",
      "            model = self.model_type(**self.all_model_parameters)\n",
      "        \n",
      "        elif \"model_parameters\" in self.__dict__:\n",
      "            model = self.model_type(**self.model_parameters)\n",
      "        \n",
      "        else:\n",
      "            model = self.model_type()\n",
      "        \n",
      "        \n",
      "        if append_self:\n",
      "            self.model = model.fit(X,y)\n",
      "            return self.model\n",
      "        else:\n",
      "            return model.fit(X,y)\n",
      "    \n",
      "    \n",
      "    def predict_all_training_data(self, limit_instances=1000000, prediction_methond=\"decision_function\"):\n",
      "        assert \"feature_columns\" in self.__dict__\n",
      "        assert \"model\" in self.__dict__\n",
      "        assert prediction_methond in dir(self.model)\n",
      "        \n",
      "        prediction_function = getattr(self.model,prediction_methond)\n",
      "        \n",
      "        read_columns = self.feature_columns\n",
      "        \n",
      "        predict_features_blz = map(lambda xx: blz.open(os.path.join(tools.TRAINING_BLZ_PATH,xx)),read_columns)\n",
      "        \n",
      "        totalN = predict_features_blz[0].shape[0]\n",
      "        divideN = limit_instances\n",
      "        \n",
      "        all_pairs = tools.get_separation_pairs(totalN, divideN)\n",
      "        \n",
      "        one_pair = all_pairs[0]\n",
      "        \n",
      "        predict_features_arr = np.c_[map(lambda xx:xx[one_pair[0]:one_pair[1]],predict_features_blz)].T \n",
      "        \n",
      "        prediction_results_blz = blz.barray(prediction_function(predict_features_arr),\n",
      "                                            rootdir=self.all_training_prediction_path)\n",
      "        \n",
      "        for one_pair in all_pairs[1:]:\n",
      "            print \"one_pair = \",one_pair\n",
      "            predict_features_arr = np.c_[map(lambda xx:xx[one_pair[0]:one_pair[1]],predict_features_blz)].T  \n",
      "            \n",
      "            prediction_results_blz.append(prediction_function(predict_features_arr))\n",
      "            del predict_features_arr\n",
      "        \n",
      "        return prediction_results_blz\n",
      "    \n",
      "    \n",
      "    def get_training_prediction_blz(self, **kwagrs):\n",
      "        if os.path.exists(self.all_training_prediction_path):\n",
      "            return blz.open(self.all_training_prediction_path)\n",
      "        else:\n",
      "            limit_instances = kwagrs.get(\"limit_instances\",DEFAULT_LIMIT_INSTANCE)\n",
      "            prediction_methond = kwagrs.get(\"prediction_methond\",\"decision_function\")\n",
      "            \n",
      "            return self.predict_all_training_data(limit_instances=limit_instances,prediction_methond=prediction_methond)\n",
      "        \n",
      "    \n",
      "    \n",
      "#         self.all_training_prediction_blz = blz.barray(\n",
      "#         rfc_pred_barray = blz.barray(rfc.predict_proba(one_test_data_arr)[:,1],rootdir=model_prefix + \"_test_pred\")\n",
      "        \n",
      "    "
     ],
     "language": "python",
     "metadata": {},
     "outputs": [],
     "prompt_number": 22
    },
    {
     "cell_type": "code",
     "collapsed": false,
     "input": [],
     "language": "python",
     "metadata": {},
     "outputs": [],
     "prompt_number": 2
    },
    {
     "cell_type": "code",
     "collapsed": false,
     "input": [],
     "language": "python",
     "metadata": {},
     "outputs": []
    },
    {
     "cell_type": "code",
     "collapsed": false,
     "input": [],
     "language": "python",
     "metadata": {},
     "outputs": []
    },
    {
     "cell_type": "code",
     "collapsed": false,
     "input": [
      "from sklearn.svm import LinearSVC"
     ],
     "language": "python",
     "metadata": {},
     "outputs": [],
     "prompt_number": 3
    },
    {
     "cell_type": "code",
     "collapsed": false,
     "input": [
      "m_svm = Model(model_series = \"TryLSVMs\")"
     ],
     "language": "python",
     "metadata": {},
     "outputs": [],
     "prompt_number": 4
    },
    {
     "cell_type": "code",
     "collapsed": false,
     "input": [
      "m_svm.set_training_data_slice(slice(-1000000,None,None))"
     ],
     "language": "python",
     "metadata": {},
     "outputs": [],
     "prompt_number": 5
    },
    {
     "cell_type": "code",
     "collapsed": false,
     "input": [
      "m_svm.set_training_model_type(LinearSVC)"
     ],
     "language": "python",
     "metadata": {},
     "outputs": [],
     "prompt_number": 6
    },
    {
     "cell_type": "code",
     "collapsed": false,
     "input": [
      "m_svm.set_training_model_parameters(dual=False)"
     ],
     "language": "python",
     "metadata": {},
     "outputs": [],
     "prompt_number": 7
    },
    {
     "cell_type": "code",
     "collapsed": false,
     "input": [
      "m_svm.__dict__"
     ],
     "language": "python",
     "metadata": {},
     "outputs": [
      {
       "metadata": {},
       "output_type": "pyout",
       "prompt_number": 8,
       "text": [
        "{'all_testing_prediction_path': '/home/c3h3/c3h3works/Kaggles/GithubRepos/DisplayAdvertisingChallenge/data/models/TryLSVMs_fa74711c-3bb9-11e4-9db5-681729a3e76a/all_testing_prediction',\n",
        " 'all_training_prediction_path': '/home/c3h3/c3h3works/Kaggles/GithubRepos/DisplayAdvertisingChallenge/data/models/TryLSVMs_fa74711c-3bb9-11e4-9db5-681729a3e76a/all_training_prediction',\n",
        " 'model_home': '/home/c3h3/c3h3works/Kaggles/GithubRepos/DisplayAdvertisingChallenge/data/models',\n",
        " 'model_id': 'TryLSVMs_fa74711c-3bb9-11e4-9db5-681729a3e76a',\n",
        " 'model_parameters': {'dual': False},\n",
        " 'model_path': '/home/c3h3/c3h3works/Kaggles/GithubRepos/DisplayAdvertisingChallenge/data/models/TryLSVMs_fa74711c-3bb9-11e4-9db5-681729a3e76a',\n",
        " 'model_series': 'TryLSVMs',\n",
        " 'model_type': sklearn.svm.classes.LinearSVC,\n",
        " 'training_data_slices': slice(-1000000, None, None)}"
       ]
      }
     ],
     "prompt_number": 8
    },
    {
     "cell_type": "code",
     "collapsed": false,
     "input": [
      "%time m_svm.fit_model()"
     ],
     "language": "python",
     "metadata": {},
     "outputs": [
      {
       "output_type": "stream",
       "stream": "stdout",
       "text": [
        "CPU times: user 35.9 s, sys: 8.62 s, total: 44.6 s\n",
        "Wall time: 33.9 s\n"
       ]
      },
      {
       "metadata": {},
       "output_type": "pyout",
       "prompt_number": 9,
       "text": [
        "LinearSVC(C=1.0, class_weight=None, dual=False, fit_intercept=True,\n",
        "     intercept_scaling=1, loss='l2', multi_class='ovr', penalty='l2',\n",
        "     random_state=None, tol=0.0001, verbose=0)"
       ]
      }
     ],
     "prompt_number": 9
    },
    {
     "cell_type": "code",
     "collapsed": false,
     "input": [
      "#m_svm.__dict__"
     ],
     "language": "python",
     "metadata": {},
     "outputs": [],
     "prompt_number": 10
    },
    {
     "cell_type": "code",
     "collapsed": false,
     "input": [
      "m_svm.model"
     ],
     "language": "python",
     "metadata": {},
     "outputs": [
      {
       "metadata": {},
       "output_type": "pyout",
       "prompt_number": 11,
       "text": [
        "LinearSVC(C=1.0, class_weight=None, dual=False, fit_intercept=True,\n",
        "     intercept_scaling=1, loss='l2', multi_class='ovr', penalty='l2',\n",
        "     random_state=None, tol=0.0001, verbose=0)"
       ]
      }
     ],
     "prompt_number": 11
    },
    {
     "cell_type": "code",
     "collapsed": false,
     "input": [
      "m_svm.all_testing_prediction_path"
     ],
     "language": "python",
     "metadata": {},
     "outputs": [
      {
       "metadata": {},
       "output_type": "pyout",
       "prompt_number": 12,
       "text": [
        "'/home/c3h3/c3h3works/Kaggles/GithubRepos/DisplayAdvertisingChallenge/data/models/TryLSVMs_fa74711c-3bb9-11e4-9db5-681729a3e76a/all_testing_prediction'"
       ]
      }
     ],
     "prompt_number": 12
    },
    {
     "cell_type": "code",
     "collapsed": false,
     "input": [
      "m_svm.all_training_prediction_path"
     ],
     "language": "python",
     "metadata": {},
     "outputs": [
      {
       "metadata": {},
       "output_type": "pyout",
       "prompt_number": 13,
       "text": [
        "'/home/c3h3/c3h3works/Kaggles/GithubRepos/DisplayAdvertisingChallenge/data/models/TryLSVMs_fa74711c-3bb9-11e4-9db5-681729a3e76a/all_training_prediction'"
       ]
      }
     ],
     "prompt_number": 13
    },
    {
     "cell_type": "code",
     "collapsed": false,
     "input": [
      "print m_svm.__dict__"
     ],
     "language": "python",
     "metadata": {},
     "outputs": [
      {
       "output_type": "stream",
       "stream": "stdout",
       "text": [
        "{'model_id': 'TryLSVMs_fa74711c-3bb9-11e4-9db5-681729a3e76a', 'all_testing_prediction_path': '/home/c3h3/c3h3works/Kaggles/GithubRepos/DisplayAdvertisingChallenge/data/models/TryLSVMs_fa74711c-3bb9-11e4-9db5-681729a3e76a/all_testing_prediction', 'model_series': 'TryLSVMs', 'label_columns': ['Label'], 'model_type': <class 'sklearn.svm.classes.LinearSVC'>, 'training_data_slices': slice(-1000000, None, None), 'model_parameters': {'dual': False}, 'model_path': '/home/c3h3/c3h3works/Kaggles/GithubRepos/DisplayAdvertisingChallenge/data/models/TryLSVMs_fa74711c-3bb9-11e4-9db5-681729a3e76a', 'model_home': '/home/c3h3/c3h3works/Kaggles/GithubRepos/DisplayAdvertisingChallenge/data/models', 'all_training_prediction_path': '/home/c3h3/c3h3works/Kaggles/GithubRepos/DisplayAdvertisingChallenge/data/models/TryLSVMs_fa74711c-3bb9-11e4-9db5-681729a3e76a/all_training_prediction', 'model': LinearSVC(C=1.0, class_weight=None, dual=False, fit_intercept=True,\n",
        "     intercept_scaling=1, loss='l2', multi_class='ovr', penalty='l2',\n",
        "     random_state=None, tol=0.0001, verbose=0), 'feature_columns': ['I1', 'I2', 'I3', 'I4', 'I5', 'I6', 'I7', 'I8', 'I9', 'I10', 'I11', 'I12', 'I13', 'C1', 'C2', 'C3', 'C4', 'C5', 'C6', 'C7', 'C8', 'C9', 'C10', 'C11', 'C12', 'C13', 'C14', 'C15', 'C16', 'C17', 'C18', 'C19', 'C20', 'C21', 'C22', 'C23', 'C24', 'C25', 'C26']}\n"
       ]
      }
     ],
     "prompt_number": 14
    },
    {
     "cell_type": "code",
     "collapsed": false,
     "input": [
      "%time result_blz = m_svm.predict_all_training_data(limit_instances=5000000)"
     ],
     "language": "python",
     "metadata": {},
     "outputs": [
      {
       "output_type": "stream",
       "stream": "stdout",
       "text": [
        "one_pair =  (5000000, 10000000)\n",
        "one_pair = "
       ]
      },
      {
       "output_type": "stream",
       "stream": "stdout",
       "text": [
        " (10000000, 15000000)\n",
        "one_pair = "
       ]
      },
      {
       "output_type": "stream",
       "stream": "stdout",
       "text": [
        " (15000000, 20000000)\n",
        "one_pair = "
       ]
      },
      {
       "output_type": "stream",
       "stream": "stdout",
       "text": [
        " (20000000, 25000000)\n",
        "one_pair = "
       ]
      },
      {
       "output_type": "stream",
       "stream": "stdout",
       "text": [
        " (25000000, 30000000)\n",
        "one_pair = "
       ]
      },
      {
       "output_type": "stream",
       "stream": "stdout",
       "text": [
        " (30000000, 35000000)\n",
        "one_pair = "
       ]
      },
      {
       "output_type": "stream",
       "stream": "stdout",
       "text": [
        " (35000000, 40000000)\n",
        "one_pair = "
       ]
      },
      {
       "output_type": "stream",
       "stream": "stdout",
       "text": [
        " (40000000, 45000000)\n",
        "one_pair = "
       ]
      },
      {
       "output_type": "stream",
       "stream": "stdout",
       "text": [
        " (45000000, 45840617)\n",
        "CPU times: user 9min 40s, sys: 19.6 s, total: 10min"
       ]
      },
      {
       "output_type": "stream",
       "stream": "stdout",
       "text": [
        "\n",
        "Wall time: 9min 53s\n"
       ]
      }
     ],
     "prompt_number": 15
    },
    {
     "cell_type": "code",
     "collapsed": false,
     "input": [
      "print map(lambda xx:xx.shape[0],result_blz)"
     ],
     "language": "python",
     "metadata": {},
     "outputs": [
      {
       "output_type": "stream",
       "stream": "stdout",
       "text": [
        "[45840617, 45840617, 45840617, 45840617, 45840617, 45840617, 45840617, 45840617, 45840617, 45840617, 45840617, 45840617, 45840617, 45840617, 45840617, 45840617, 45840617, 45840617, 45840617, 45840617, 45840617, 45840617, 45840617, 45840617, 45840617, 45840617, 45840617, 45840617, 45840617, 45840617, 45840617, 45840617, 45840617, 45840617, 45840617, 45840617, 45840617, 45840617, 45840617]\n"
       ]
      }
     ],
     "prompt_number": 19
    },
    {
     "cell_type": "code",
     "collapsed": false,
     "input": [],
     "language": "python",
     "metadata": {},
     "outputs": []
    },
    {
     "cell_type": "code",
     "collapsed": false,
     "input": [],
     "language": "python",
     "metadata": {},
     "outputs": []
    },
    {
     "cell_type": "code",
     "collapsed": false,
     "input": [],
     "language": "python",
     "metadata": {},
     "outputs": []
    },
    {
     "cell_type": "code",
     "collapsed": false,
     "input": [],
     "language": "python",
     "metadata": {},
     "outputs": []
    },
    {
     "cell_type": "code",
     "collapsed": false,
     "input": [
      "getattr(m_svm.model,\"decision_function\")"
     ],
     "language": "python",
     "metadata": {},
     "outputs": [
      {
       "metadata": {},
       "output_type": "pyout",
       "prompt_number": 20,
       "text": [
        "<bound method LinearSVC.decision_function of LinearSVC(C=1.0, class_weight=None, dual=False, fit_intercept=True,\n",
        "     intercept_scaling=1, loss='l2', multi_class='ovr', penalty='l2',\n",
        "     random_state=None, tol=0.0001, verbose=0)>"
       ]
      }
     ],
     "prompt_number": 20
    },
    {
     "cell_type": "code",
     "collapsed": false,
     "input": [
      "m_svm.model"
     ],
     "language": "python",
     "metadata": {},
     "outputs": []
    },
    {
     "cell_type": "code",
     "collapsed": false,
     "input": [
      "dir(m_svm.model)"
     ],
     "language": "python",
     "metadata": {},
     "outputs": [
      {
       "metadata": {},
       "output_type": "pyout",
       "prompt_number": 18,
       "text": [
        "['C',\n",
        " '__abstractmethods__',\n",
        " '__class__',\n",
        " '__delattr__',\n",
        " '__dict__',\n",
        " '__doc__',\n",
        " '__format__',\n",
        " '__getattribute__',\n",
        " '__hash__',\n",
        " '__init__',\n",
        " '__module__',\n",
        " '__new__',\n",
        " '__reduce__',\n",
        " '__reduce_ex__',\n",
        " '__repr__',\n",
        " '__setattr__',\n",
        " '__sizeof__',\n",
        " '__str__',\n",
        " '__subclasshook__',\n",
        " '__weakref__',\n",
        " '_abc_cache',\n",
        " '_abc_negative_cache',\n",
        " '_abc_negative_cache_version',\n",
        " '_abc_registry',\n",
        " '_enc',\n",
        " '_get_bias',\n",
        " '_get_param_names',\n",
        " '_get_solver_type',\n",
        " '_predict_proba_lr',\n",
        " '_solver_type_dict',\n",
        " 'class_weight',\n",
        " 'class_weight_',\n",
        " 'classes_',\n",
        " 'coef_',\n",
        " 'decision_function',\n",
        " 'densify',\n",
        " 'dual',\n",
        " 'fit',\n",
        " 'fit_intercept',\n",
        " 'fit_transform',\n",
        " 'get_params',\n",
        " 'intercept_',\n",
        " 'intercept_scaling',\n",
        " 'label_',\n",
        " 'loss',\n",
        " 'multi_class',\n",
        " 'penalty',\n",
        " 'predict',\n",
        " 'random_state',\n",
        " 'raw_coef_',\n",
        " 'score',\n",
        " 'set_params',\n",
        " 'sparsify',\n",
        " 'tol',\n",
        " 'transform',\n",
        " 'verbose']"
       ]
      }
     ],
     "prompt_number": 18
    },
    {
     "cell_type": "code",
     "collapsed": false,
     "input": [],
     "language": "python",
     "metadata": {},
     "outputs": []
    },
    {
     "cell_type": "code",
     "collapsed": false,
     "input": [],
     "language": "python",
     "metadata": {},
     "outputs": []
    },
    {
     "cell_type": "code",
     "collapsed": false,
     "input": [],
     "language": "python",
     "metadata": {},
     "outputs": []
    },
    {
     "cell_type": "code",
     "collapsed": false,
     "input": [],
     "language": "python",
     "metadata": {},
     "outputs": []
    },
    {
     "cell_type": "code",
     "collapsed": false,
     "input": [
      "#%time training_data_index = np.arange(training_cols[0].shape[0])[-1000000:]"
     ],
     "language": "python",
     "metadata": {},
     "outputs": [],
     "prompt_number": 2
    },
    {
     "cell_type": "code",
     "collapsed": false,
     "input": [
      "#training_data_index"
     ],
     "language": "python",
     "metadata": {},
     "outputs": [],
     "prompt_number": 3
    },
    {
     "cell_type": "code",
     "collapsed": false,
     "input": [
      "%time sample_data = map(lambda xx:xx[-1000000:],training_cols)"
     ],
     "language": "python",
     "metadata": {},
     "outputs": [
      {
       "output_type": "stream",
       "stream": "stdout",
       "text": [
        "CPU times: user 468 ms, sys: 142 ms, total: 610 ms\n",
        "Wall time: 293 ms\n"
       ]
      }
     ],
     "prompt_number": 4
    },
    {
     "cell_type": "code",
     "collapsed": false,
     "input": [
      "sample_data_arr = np.c_[sample_data].T\n",
      "X = sample_data_arr[:,1:]\n",
      "y = sample_data_arr[:,0]"
     ],
     "language": "python",
     "metadata": {},
     "outputs": [],
     "prompt_number": 5
    },
    {
     "cell_type": "code",
     "collapsed": false,
     "input": [],
     "language": "python",
     "metadata": {},
     "outputs": [],
     "prompt_number": 5
    },
    {
     "cell_type": "code",
     "collapsed": false,
     "input": [
      "from sklearn.ensemble import RandomForestClassifier"
     ],
     "language": "python",
     "metadata": {},
     "outputs": [],
     "prompt_number": 6
    },
    {
     "cell_type": "code",
     "collapsed": false,
     "input": [
      "para = {'min_samples_split': 10, 'n_estimators': 200}"
     ],
     "language": "python",
     "metadata": {},
     "outputs": [],
     "prompt_number": 10
    },
    {
     "cell_type": "code",
     "collapsed": false,
     "input": [
      "rfc = RandomForestClassifier(n_jobs=4,**para)"
     ],
     "language": "python",
     "metadata": {},
     "outputs": [],
     "prompt_number": 11
    },
    {
     "cell_type": "code",
     "collapsed": false,
     "input": [
      "%time rfc.fit(X,y)"
     ],
     "language": "python",
     "metadata": {},
     "outputs": [
      {
       "output_type": "stream",
       "stream": "stdout",
       "text": [
        "CPU times: user 2.86 s, sys: 2.4 s, total: 5.26 s\n",
        "Wall time: 12min 32s\n"
       ]
      },
      {
       "metadata": {},
       "output_type": "pyout",
       "prompt_number": 12,
       "text": [
        "RandomForestClassifier(bootstrap=True, compute_importances=None,\n",
        "            criterion='gini', max_depth=None, max_features='auto',\n",
        "            min_density=None, min_samples_leaf=1, min_samples_split=10,\n",
        "            n_estimators=200, n_jobs=4, oob_score=False, random_state=None,\n",
        "            verbose=0)"
       ]
      }
     ],
     "prompt_number": 12
    },
    {
     "cell_type": "code",
     "collapsed": false,
     "input": [
      "rfc.get_params()"
     ],
     "language": "python",
     "metadata": {},
     "outputs": [
      {
       "metadata": {},
       "output_type": "pyout",
       "prompt_number": 15,
       "text": [
        "{'bootstrap': True,\n",
        " 'compute_importances': None,\n",
        " 'criterion': 'gini',\n",
        " 'max_depth': None,\n",
        " 'max_features': 'auto',\n",
        " 'min_density': None,\n",
        " 'min_samples_leaf': 1,\n",
        " 'min_samples_split': 10,\n",
        " 'n_estimators': 200,\n",
        " 'n_jobs': 4,\n",
        " 'oob_score': False,\n",
        " 'random_state': None,\n",
        " 'verbose': 0}"
       ]
      }
     ],
     "prompt_number": 15
    },
    {
     "cell_type": "code",
     "collapsed": false,
     "input": [],
     "language": "python",
     "metadata": {},
     "outputs": []
    },
    {
     "cell_type": "code",
     "collapsed": false,
     "input": [],
     "language": "python",
     "metadata": {},
     "outputs": [],
     "prompt_number": 68
    },
    {
     "cell_type": "code",
     "collapsed": false,
     "input": [],
     "language": "python",
     "metadata": {},
     "outputs": []
    },
    {
     "cell_type": "code",
     "collapsed": false,
     "input": [],
     "language": "python",
     "metadata": {},
     "outputs": [],
     "prompt_number": 12
    },
    {
     "cell_type": "code",
     "collapsed": false,
     "input": [
      "%time pred_prob = rfc.predict_proba(X)"
     ],
     "language": "python",
     "metadata": {},
     "outputs": [
      {
       "output_type": "stream",
       "stream": "stdout",
       "text": [
        "CPU times: user 1.93 s, sys: 2.14 s, total: 4.07 s\n",
        "Wall time: 57.9 s\n"
       ]
      }
     ],
     "prompt_number": 47
    },
    {
     "cell_type": "code",
     "collapsed": false,
     "input": [
      "pred_prob"
     ],
     "language": "python",
     "metadata": {},
     "outputs": [
      {
       "metadata": {},
       "output_type": "pyout",
       "prompt_number": 48,
       "text": [
        "array([[ 0.43870456,  0.56129544],\n",
        "       [ 0.17252622,  0.82747378],\n",
        "       [ 0.90375698,  0.09624302],\n",
        "       ..., \n",
        "       [ 0.81189794,  0.18810206],\n",
        "       [ 0.84402595,  0.15597405],\n",
        "       [ 0.86004252,  0.13995748]])"
       ]
      }
     ],
     "prompt_number": 48
    },
    {
     "cell_type": "code",
     "collapsed": false,
     "input": [],
     "language": "python",
     "metadata": {},
     "outputs": []
    },
    {
     "cell_type": "code",
     "collapsed": false,
     "input": [],
     "language": "python",
     "metadata": {},
     "outputs": []
    },
    {
     "cell_type": "code",
     "collapsed": false,
     "input": [],
     "language": "python",
     "metadata": {},
     "outputs": []
    },
    {
     "cell_type": "code",
     "collapsed": false,
     "input": [],
     "language": "python",
     "metadata": {},
     "outputs": []
    },
    {
     "cell_type": "code",
     "collapsed": false,
     "input": [],
     "language": "python",
     "metadata": {},
     "outputs": []
    },
    {
     "cell_type": "code",
     "collapsed": false,
     "input": [],
     "language": "python",
     "metadata": {},
     "outputs": []
    },
    {
     "cell_type": "code",
     "collapsed": false,
     "input": [
      "import cPickle as pickle"
     ],
     "language": "python",
     "metadata": {},
     "outputs": [],
     "prompt_number": 12
    },
    {
     "cell_type": "code",
     "collapsed": false,
     "input": [
      "with open(model_prefix + \".model\", \"wb\") as wf:\n",
      "    pickle.dump(rfc, wf)"
     ],
     "language": "python",
     "metadata": {},
     "outputs": [],
     "prompt_number": 13
    },
    {
     "cell_type": "code",
     "collapsed": false,
     "input": [],
     "language": "python",
     "metadata": {},
     "outputs": []
    },
    {
     "cell_type": "code",
     "collapsed": false,
     "input": [],
     "language": "python",
     "metadata": {},
     "outputs": []
    },
    {
     "cell_type": "code",
     "collapsed": false,
     "input": [
      "import cPickle as pickle"
     ],
     "language": "python",
     "metadata": {},
     "outputs": [],
     "prompt_number": 1
    },
    {
     "cell_type": "code",
     "collapsed": false,
     "input": [
      "with open(model_prefix + \".model\", \"rb\") as rf:\n",
      "    rfc = pickle.load(rf)"
     ],
     "language": "python",
     "metadata": {},
     "outputs": [],
     "prompt_number": 2
    },
    {
     "cell_type": "code",
     "collapsed": false,
     "input": [],
     "language": "python",
     "metadata": {},
     "outputs": []
    },
    {
     "cell_type": "code",
     "collapsed": false,
     "input": [],
     "language": "python",
     "metadata": {},
     "outputs": []
    },
    {
     "cell_type": "code",
     "collapsed": false,
     "input": [
      "rfc"
     ],
     "language": "python",
     "metadata": {},
     "outputs": [
      {
       "metadata": {},
       "output_type": "pyout",
       "prompt_number": 14,
       "text": [
        "RandomForestClassifier(bootstrap=True, compute_importances=None,\n",
        "            criterion='gini', max_depth=None, max_features='auto',\n",
        "            min_density=None, min_samples_leaf=1, min_samples_split=20,\n",
        "            n_estimators=170, n_jobs=6, oob_score=False, random_state=None,\n",
        "            verbose=0)"
       ]
      }
     ],
     "prompt_number": 14
    },
    {
     "cell_type": "code",
     "collapsed": false,
     "input": [],
     "language": "python",
     "metadata": {},
     "outputs": []
    },
    {
     "cell_type": "code",
     "collapsed": false,
     "input": [
      "from hunkaggle.criteo.settings import TESTING_BLZ_PATH, TESTING_COLUMN_NAMES\n",
      "from hunkaggle.criteo import tools\n",
      "from hunkaggle.criteo.settings import TRAINING_COLUMN_NAMES\n",
      "import blz, os\n",
      "import numpy as np\n"
     ],
     "language": "python",
     "metadata": {},
     "outputs": [],
     "prompt_number": 15
    },
    {
     "cell_type": "code",
     "collapsed": false,
     "input": [
      "%time test_cols = map(lambda xx: blz.open(os.path.join(tools.TESTING_BLZ_PATH,xx)),TESTING_COLUMN_NAMES[1:])"
     ],
     "language": "python",
     "metadata": {},
     "outputs": [
      {
       "output_type": "stream",
       "stream": "stdout",
       "text": [
        "CPU times: user 6.91 s, sys: 1.09 s, total: 7.99 s\n",
        "Wall time: 13.9 s\n"
       ]
      }
     ],
     "prompt_number": 16
    },
    {
     "cell_type": "code",
     "collapsed": false,
     "input": [
      "totalN = test_cols[0].shape[0]\n",
      "divideN = 500000"
     ],
     "language": "python",
     "metadata": {},
     "outputs": [],
     "prompt_number": 17
    },
    {
     "cell_type": "code",
     "collapsed": false,
     "input": [
      "def get_separation_positions(totalN, divideN):\n",
      "    if totalN % divideN == 0:\n",
      "        return [i*divideN for i in range(totalN / divideN + 1)]\n",
      "    else:\n",
      "        return [i*divideN for i in range(totalN / divideN + 1)] + [totalN]\n",
      "\n",
      "    \n",
      "def get_separation_pairs(totalN, divideN):\n",
      "    return_list = get_separation_positions(totalN, divideN)\n",
      "    return zip(return_list[:-1], return_list[1:])\n",
      "    \n",
      "    "
     ],
     "language": "python",
     "metadata": {},
     "outputs": [],
     "prompt_number": 18
    },
    {
     "cell_type": "code",
     "collapsed": false,
     "input": [
      "#print get_separation_positions(totalN=totalN, divideN=divideN)"
     ],
     "language": "python",
     "metadata": {},
     "outputs": [],
     "prompt_number": 29
    },
    {
     "cell_type": "code",
     "collapsed": false,
     "input": [
      "#res_list = get_separation_positions(totalN=totalN, divideN=divideN)"
     ],
     "language": "python",
     "metadata": {},
     "outputs": [],
     "prompt_number": 30
    },
    {
     "cell_type": "code",
     "collapsed": false,
     "input": [
      "one_pair = get_separation_pairs(totalN, divideN)[0]"
     ],
     "language": "python",
     "metadata": {},
     "outputs": [],
     "prompt_number": 19
    },
    {
     "cell_type": "code",
     "collapsed": false,
     "input": [
      "one_pair"
     ],
     "language": "python",
     "metadata": {},
     "outputs": [
      {
       "metadata": {},
       "output_type": "pyout",
       "prompt_number": 20,
       "text": [
        "(0, 500000)"
       ]
      }
     ],
     "prompt_number": 20
    },
    {
     "cell_type": "code",
     "collapsed": false,
     "input": [
      "%time one_test_data_arr = np.c_[map(lambda xx:xx[one_pair[0]:one_pair[1]],test_cols)].T  "
     ],
     "language": "python",
     "metadata": {},
     "outputs": [
      {
       "output_type": "stream",
       "stream": "stdout",
       "text": [
        "CPU times: user 3.21 s, sys: 586 ms, total: 3.8 s\n",
        "Wall time: 10.6 s\n"
       ]
      }
     ],
     "prompt_number": 21
    },
    {
     "cell_type": "code",
     "collapsed": false,
     "input": [
      "rfc_pred_barray = blz.barray(rfc.predict_proba(one_test_data_arr)[:,1],rootdir=model_prefix + \"_test_pred\")"
     ],
     "language": "python",
     "metadata": {},
     "outputs": [],
     "prompt_number": 23
    },
    {
     "cell_type": "code",
     "collapsed": false,
     "input": [
      "del one_test_data_arr"
     ],
     "language": "python",
     "metadata": {},
     "outputs": [],
     "prompt_number": 24
    },
    {
     "cell_type": "code",
     "collapsed": false,
     "input": [
      "rfc_pred_barray"
     ],
     "language": "python",
     "metadata": {},
     "outputs": [
      {
       "metadata": {},
       "output_type": "pyout",
       "prompt_number": 25,
       "text": [
        "barray((500000,), float64)\n",
        "  nbytes: 3.81 MB; cbytes: 3.41 MB; ratio: 1.12\n",
        "  bparams := bparams(clevel=5, shuffle=True, cname=blosclz)\n",
        "  rootdir := 'rfc_last1000000_mss20_ne170_test_pred'\n",
        "[ 0.1374435   0.3295658   0.35209012 ...,  0.52269737  0.26121158\n",
        "  0.18163806]"
       ]
      }
     ],
     "prompt_number": 25
    },
    {
     "cell_type": "code",
     "collapsed": false,
     "input": [],
     "language": "python",
     "metadata": {},
     "outputs": [],
     "prompt_number": 25
    },
    {
     "cell_type": "code",
     "collapsed": false,
     "input": [
      "for one_pair in get_separation_pairs(totalN, divideN)[1:]:\n",
      "    print \"one_pair = \",one_pair\n",
      "    one_test_data_arr = np.c_[map(lambda xx:xx[one_pair[0]:one_pair[1]],test_cols)].T  \n",
      "    rfc_pred_barray.append(rfc.predict_proba(one_test_data_arr)[:,1])\n",
      "    del one_test_data_arr\n",
      "    "
     ],
     "language": "python",
     "metadata": {},
     "outputs": [
      {
       "output_type": "stream",
       "stream": "stdout",
       "text": [
        "one_pair =  (500000, 1000000)\n"
       ]
      },
      {
       "output_type": "stream",
       "stream": "stdout",
       "text": [
        "one_pair =  (1000000, 1500000)\n"
       ]
      },
      {
       "output_type": "stream",
       "stream": "stdout",
       "text": [
        "one_pair =  (1500000, 2000000)\n"
       ]
      },
      {
       "output_type": "stream",
       "stream": "stdout",
       "text": [
        "one_pair =  (2000000, 2500000)\n"
       ]
      },
      {
       "output_type": "stream",
       "stream": "stdout",
       "text": [
        "one_pair =  (2500000, 3000000)\n"
       ]
      },
      {
       "output_type": "stream",
       "stream": "stdout",
       "text": [
        "one_pair =  (3000000, 3500000)\n"
       ]
      },
      {
       "output_type": "stream",
       "stream": "stdout",
       "text": [
        "one_pair =  (3500000, 4000000)\n"
       ]
      },
      {
       "output_type": "stream",
       "stream": "stdout",
       "text": [
        "one_pair =  (4000000, 4500000)\n"
       ]
      },
      {
       "output_type": "stream",
       "stream": "stdout",
       "text": [
        "one_pair =  (4500000, 5000000)\n"
       ]
      },
      {
       "output_type": "stream",
       "stream": "stdout",
       "text": [
        "one_pair =  (5000000, 5500000)\n"
       ]
      },
      {
       "output_type": "stream",
       "stream": "stdout",
       "text": [
        "one_pair =  (5500000, 6000000)\n"
       ]
      },
      {
       "output_type": "stream",
       "stream": "stdout",
       "text": [
        "one_pair =  (6000000, 6042135)\n"
       ]
      }
     ],
     "prompt_number": 26
    },
    {
     "cell_type": "code",
     "collapsed": false,
     "input": [],
     "language": "python",
     "metadata": {},
     "outputs": [],
     "prompt_number": 26
    },
    {
     "cell_type": "code",
     "collapsed": false,
     "input": [
      "rfc_pred_barray"
     ],
     "language": "python",
     "metadata": {},
     "outputs": [
      {
       "metadata": {},
       "output_type": "pyout",
       "prompt_number": 27,
       "text": [
        "barray((6042135,), float64)\n",
        "  nbytes: 46.10 MB; cbytes: 40.52 MB; ratio: 1.14\n",
        "  bparams := bparams(clevel=5, shuffle=True, cname=blosclz)\n",
        "  rootdir := 'rfc_last1000000_mss20_ne170_test_pred'\n",
        "[ 0.1374435   0.3295658   0.35209012 ...,  0.38631254  0.12844883\n",
        "  0.27032806]"
       ]
      }
     ],
     "prompt_number": 27
    },
    {
     "cell_type": "code",
     "collapsed": false,
     "input": [
      "ids_barray = blz.open(os.path.join(tools.TESTING_BLZ_PATH,TESTING_COLUMN_NAMES[0]))"
     ],
     "language": "python",
     "metadata": {},
     "outputs": [],
     "prompt_number": 28
    },
    {
     "cell_type": "code",
     "collapsed": false,
     "input": [
      "ids_barray"
     ],
     "language": "python",
     "metadata": {},
     "outputs": [
      {
       "metadata": {},
       "output_type": "pyout",
       "prompt_number": 29,
       "text": [
        "barray((6042135,), int64)\n",
        "  nbytes: 46.10 MB; cbytes: 1002.36 KB; ratio: 47.09\n",
        "  bparams := bparams(clevel=5, shuffle=True, cname=blosclz)\n",
        "  rootdir := '/home/c3h3/c3h3works/Kaggles/GithubRepos/DisplayAdvertisingChallenge/data/test_blzs/Id'\n",
        "[60000000 60000001 60000002 ..., 66042132 66042133 66042134]"
       ]
      }
     ],
     "prompt_number": 29
    },
    {
     "cell_type": "code",
     "collapsed": false,
     "input": [],
     "language": "python",
     "metadata": {},
     "outputs": [],
     "prompt_number": 71
    },
    {
     "cell_type": "code",
     "collapsed": false,
     "input": [
      "bt = blz.btable(columns=[ids_barray,rfc_pred_barray], names=[\"Id\",\"Predicted\"])"
     ],
     "language": "python",
     "metadata": {},
     "outputs": [],
     "prompt_number": 30
    },
    {
     "cell_type": "code",
     "collapsed": false,
     "input": [
      "bt"
     ],
     "language": "python",
     "metadata": {},
     "outputs": [
      {
       "metadata": {},
       "output_type": "pyout",
       "prompt_number": 31,
       "text": [
        "btable((6042135,), [('Id', '<i8'), ('Predicted', '<f8')])\n",
        "  nbytes: 92.20 MB; cbytes: 41.50 MB; ratio: 2.22\n",
        "  bparams := bparams(clevel=5, shuffle=True, cname=blosclz)\n",
        "[(60000000, 0.13744349851790627) (60000001, 0.3295657996424063)\n",
        " (60000002, 0.3520901200776838) ..., (66042132, 0.38631253724116005)\n",
        " (66042133, 0.12844883059105472) (66042134, 0.27032805731441645)]"
       ]
      }
     ],
     "prompt_number": 31
    },
    {
     "cell_type": "code",
     "collapsed": false,
     "input": [],
     "language": "python",
     "metadata": {},
     "outputs": [],
     "prompt_number": 31
    },
    {
     "cell_type": "code",
     "collapsed": false,
     "input": [
      "all_results = [\"%d,%.6f\" % tuple(xx) for xx in bt.iter()]"
     ],
     "language": "python",
     "metadata": {},
     "outputs": [],
     "prompt_number": 32
    },
    {
     "cell_type": "code",
     "collapsed": false,
     "input": [
      "res_str = \"\\n\".join([\",\".join(bt.names)] + all_results)"
     ],
     "language": "python",
     "metadata": {},
     "outputs": [],
     "prompt_number": 33
    },
    {
     "cell_type": "code",
     "collapsed": false,
     "input": [
      "with open(model_prefix + \"_test_pred.csv\",\"w\") as wf:\n",
      "    wf.write(res_str)"
     ],
     "language": "python",
     "metadata": {},
     "outputs": [],
     "prompt_number": 34
    },
    {
     "cell_type": "code",
     "collapsed": false,
     "input": [],
     "language": "python",
     "metadata": {},
     "outputs": []
    },
    {
     "cell_type": "code",
     "collapsed": false,
     "input": [
      "len(all_results)"
     ],
     "language": "python",
     "metadata": {},
     "outputs": [
      {
       "metadata": {},
       "output_type": "pyout",
       "prompt_number": 81,
       "text": [
        "6042135"
       ]
      }
     ],
     "prompt_number": 81
    },
    {
     "cell_type": "code",
     "collapsed": false,
     "input": [],
     "language": "python",
     "metadata": {},
     "outputs": []
    },
    {
     "cell_type": "code",
     "collapsed": false,
     "input": [],
     "language": "python",
     "metadata": {},
     "outputs": []
    },
    {
     "cell_type": "code",
     "collapsed": false,
     "input": [
      "training_cols = map(lambda xx: blz.open(os.path.join(tools.TRAINING_BLZ_PATH,xx)),TRAINING_COLUMN_NAMES[2:])"
     ],
     "language": "python",
     "metadata": {},
     "outputs": [],
     "prompt_number": 25
    },
    {
     "cell_type": "code",
     "collapsed": false,
     "input": [],
     "language": "python",
     "metadata": {},
     "outputs": []
    },
    {
     "cell_type": "code",
     "collapsed": false,
     "input": [
      "nSamples = training_cols[0].shape[0]"
     ],
     "language": "python",
     "metadata": {},
     "outputs": [],
     "prompt_number": 26
    },
    {
     "cell_type": "code",
     "collapsed": false,
     "input": [
      "nSamples"
     ],
     "language": "python",
     "metadata": {},
     "outputs": [
      {
       "metadata": {},
       "output_type": "pyout",
       "prompt_number": 27,
       "text": [
        "45840617"
       ]
      }
     ],
     "prompt_number": 27
    },
    {
     "cell_type": "code",
     "collapsed": false,
     "input": [],
     "language": "python",
     "metadata": {},
     "outputs": []
    },
    {
     "cell_type": "code",
     "collapsed": false,
     "input": [],
     "language": "python",
     "metadata": {},
     "outputs": []
    },
    {
     "cell_type": "code",
     "collapsed": false,
     "input": [],
     "language": "python",
     "metadata": {},
     "outputs": []
    },
    {
     "cell_type": "code",
     "collapsed": false,
     "input": [],
     "language": "python",
     "metadata": {},
     "outputs": []
    },
    {
     "cell_type": "code",
     "collapsed": false,
     "input": [],
     "language": "python",
     "metadata": {},
     "outputs": []
    },
    {
     "cell_type": "code",
     "collapsed": false,
     "input": [],
     "language": "python",
     "metadata": {},
     "outputs": []
    },
    {
     "cell_type": "code",
     "collapsed": false,
     "input": [],
     "language": "python",
     "metadata": {},
     "outputs": []
    },
    {
     "cell_type": "code",
     "collapsed": false,
     "input": [],
     "language": "python",
     "metadata": {},
     "outputs": []
    },
    {
     "cell_type": "code",
     "collapsed": false,
     "input": [],
     "language": "python",
     "metadata": {},
     "outputs": []
    },
    {
     "cell_type": "code",
     "collapsed": false,
     "input": [],
     "language": "python",
     "metadata": {},
     "outputs": []
    },
    {
     "cell_type": "code",
     "collapsed": false,
     "input": [],
     "language": "python",
     "metadata": {},
     "outputs": []
    },
    {
     "cell_type": "code",
     "collapsed": false,
     "input": [],
     "language": "python",
     "metadata": {},
     "outputs": []
    },
    {
     "cell_type": "code",
     "collapsed": false,
     "input": [],
     "language": "python",
     "metadata": {},
     "outputs": []
    },
    {
     "cell_type": "code",
     "collapsed": false,
     "input": [],
     "language": "python",
     "metadata": {},
     "outputs": []
    },
    {
     "cell_type": "code",
     "collapsed": false,
     "input": [],
     "language": "python",
     "metadata": {},
     "outputs": []
    },
    {
     "cell_type": "code",
     "collapsed": false,
     "input": [
      "\n"
     ],
     "language": "python",
     "metadata": {},
     "outputs": [],
     "prompt_number": 9
    },
    {
     "cell_type": "code",
     "collapsed": false,
     "input": [],
     "language": "python",
     "metadata": {},
     "outputs": [
      {
       "output_type": "stream",
       "stream": "stdout",
       "text": [
        "CPU times: user 13.4 s, sys: 1.3 s, total: 14.7 s\n",
        "Wall time: 21.2 s\n"
       ]
      }
     ],
     "prompt_number": 10
    },
    {
     "cell_type": "code",
     "collapsed": false,
     "input": [
      "%time testing_data = map(lambda xx:xx[:1000000],test_cols)"
     ],
     "language": "python",
     "metadata": {},
     "outputs": [
      {
       "output_type": "stream",
       "stream": "stdout",
       "text": [
        "CPU times: user 1.02 s, sys: 653 ms, total: 1.67 s\n",
        "Wall time: 17.3 s\n"
       ]
      }
     ],
     "prompt_number": 80
    },
    {
     "cell_type": "code",
     "collapsed": false,
     "input": [
      "%time testingX = np.c_[map(lambda xx:xx[0:],test_cols)].T"
     ],
     "language": "python",
     "metadata": {},
     "outputs": [
      {
       "output_type": "stream",
       "stream": "stdout",
       "text": [
        "CPU times: user 1min 11s, sys: 5.24 s, total: 1min 16s\n",
        "Wall time: 1min 51s\n"
       ]
      }
     ],
     "prompt_number": 11
    },
    {
     "cell_type": "code",
     "collapsed": false,
     "input": [],
     "language": "python",
     "metadata": {},
     "outputs": []
    },
    {
     "cell_type": "code",
     "collapsed": false,
     "input": [],
     "language": "python",
     "metadata": {},
     "outputs": []
    },
    {
     "cell_type": "code",
     "collapsed": false,
     "input": [],
     "language": "python",
     "metadata": {},
     "outputs": [],
     "prompt_number": 4
    },
    {
     "cell_type": "code",
     "collapsed": false,
     "input": [],
     "language": "python",
     "metadata": {},
     "outputs": []
    },
    {
     "cell_type": "code",
     "collapsed": false,
     "input": [],
     "language": "python",
     "metadata": {},
     "outputs": []
    },
    {
     "cell_type": "code",
     "collapsed": false,
     "input": [],
     "language": "python",
     "metadata": {},
     "outputs": []
    },
    {
     "cell_type": "code",
     "collapsed": false,
     "input": [],
     "language": "python",
     "metadata": {},
     "outputs": []
    },
    {
     "cell_type": "code",
     "collapsed": false,
     "input": [],
     "language": "python",
     "metadata": {},
     "outputs": [],
     "prompt_number": 2
    },
    {
     "cell_type": "code",
     "collapsed": false,
     "input": [
      "from modshogun import DeepBeliefNetwork\n",
      "\n",
      "dbn = DeepBeliefNetwork(39) # 256 visible units\n",
      "dbn.add_hidden_layer(200) # 200 units in the first hidden layer\n",
      "dbn.add_hidden_layer(300) # 300 units in the second hidden layer\n",
      "\n",
      "dbn.initialize()"
     ],
     "language": "python",
     "metadata": {},
     "outputs": [
      {
       "ename": "ImportError",
       "evalue": "cannot import name DeepBeliefNetwork",
       "output_type": "pyerr",
       "traceback": [
        "\u001b[1;31m---------------------------------------------------------------------------\u001b[0m\n\u001b[1;31mImportError\u001b[0m                               Traceback (most recent call last)",
        "\u001b[1;32m<ipython-input-3-8a29dd222dd1>\u001b[0m in \u001b[0;36m<module>\u001b[1;34m()\u001b[0m\n\u001b[1;32m----> 1\u001b[1;33m \u001b[1;32mfrom\u001b[0m \u001b[0mmodshogun\u001b[0m \u001b[1;32mimport\u001b[0m \u001b[0mDeepBeliefNetwork\u001b[0m\u001b[1;33m\u001b[0m\u001b[0m\n\u001b[0m\u001b[0;32m      2\u001b[0m \u001b[1;33m\u001b[0m\u001b[0m\n\u001b[0;32m      3\u001b[0m \u001b[0mdbn\u001b[0m \u001b[1;33m=\u001b[0m \u001b[0mDeepBeliefNetwork\u001b[0m\u001b[1;33m(\u001b[0m\u001b[1;36m39\u001b[0m\u001b[1;33m)\u001b[0m \u001b[1;31m# 256 visible units\u001b[0m\u001b[1;33m\u001b[0m\u001b[0m\n\u001b[0;32m      4\u001b[0m \u001b[0mdbn\u001b[0m\u001b[1;33m.\u001b[0m\u001b[0madd_hidden_layer\u001b[0m\u001b[1;33m(\u001b[0m\u001b[1;36m200\u001b[0m\u001b[1;33m)\u001b[0m \u001b[1;31m# 200 units in the first hidden layer\u001b[0m\u001b[1;33m\u001b[0m\u001b[0m\n\u001b[0;32m      5\u001b[0m \u001b[0mdbn\u001b[0m\u001b[1;33m.\u001b[0m\u001b[0madd_hidden_layer\u001b[0m\u001b[1;33m(\u001b[0m\u001b[1;36m300\u001b[0m\u001b[1;33m)\u001b[0m \u001b[1;31m# 300 units in the second hidden layer\u001b[0m\u001b[1;33m\u001b[0m\u001b[0m\n",
        "\u001b[1;31mImportError\u001b[0m: cannot import name DeepBeliefNetwork"
       ]
      }
     ],
     "prompt_number": 3
    },
    {
     "cell_type": "code",
     "collapsed": false,
     "input": [],
     "language": "python",
     "metadata": {},
     "outputs": []
    },
    {
     "cell_type": "code",
     "collapsed": false,
     "input": [],
     "language": "python",
     "metadata": {},
     "outputs": []
    },
    {
     "cell_type": "code",
     "collapsed": false,
     "input": [
      "from hunkaggle.criteo import tools"
     ],
     "language": "python",
     "metadata": {},
     "outputs": [],
     "prompt_number": 1
    },
    {
     "cell_type": "code",
     "collapsed": false,
     "input": [
      "from hunkaggle.criteo.settings import TRAINING_COLUMN_NAMES\n",
      "import blz, os\n",
      "import numpy as np"
     ],
     "language": "python",
     "metadata": {},
     "outputs": [],
     "prompt_number": 2
    },
    {
     "cell_type": "code",
     "collapsed": false,
     "input": [
      "%time training_cols = map(lambda xx: blz.open(os.path.join(tools.TRAINING_BLZ_PATH,xx)),TRAINING_COLUMN_NAMES[1:])"
     ],
     "language": "python",
     "metadata": {},
     "outputs": [
      {
       "output_type": "stream",
       "stream": "stdout",
       "text": [
        "CPU times: user 6.94 s, sys: 742 ms, total: 7.68 s\n",
        "Wall time: 13.6 s\n"
       ]
      }
     ],
     "prompt_number": 3
    },
    {
     "cell_type": "code",
     "collapsed": false,
     "input": [],
     "language": "python",
     "metadata": {},
     "outputs": []
    },
    {
     "cell_type": "code",
     "collapsed": false,
     "input": [],
     "language": "python",
     "metadata": {},
     "outputs": []
    },
    {
     "cell_type": "code",
     "collapsed": false,
     "input": [],
     "language": "python",
     "metadata": {},
     "outputs": []
    },
    {
     "cell_type": "code",
     "collapsed": false,
     "input": [
      "%time sample_data = map(lambda xx:xx[:1000000],training_cols)"
     ],
     "language": "python",
     "metadata": {},
     "outputs": [
      {
       "output_type": "stream",
       "stream": "stdout",
       "text": [
        "CPU times: user 864 ms, sys: 386 ms, total: 1.25 s\n",
        "Wall time: 11.3 s\n"
       ]
      }
     ],
     "prompt_number": 20
    },
    {
     "cell_type": "code",
     "collapsed": false,
     "input": [
      "sample_data_arr = np.c_[sample_data].T"
     ],
     "language": "python",
     "metadata": {},
     "outputs": [],
     "prompt_number": 21
    },
    {
     "cell_type": "code",
     "collapsed": false,
     "input": [],
     "language": "python",
     "metadata": {},
     "outputs": [],
     "prompt_number": 5
    },
    {
     "cell_type": "code",
     "collapsed": false,
     "input": [
      "%time mini_sample_data = map(lambda xx:xx[:10000],training_cols)"
     ],
     "language": "python",
     "metadata": {},
     "outputs": [
      {
       "output_type": "stream",
       "stream": "stdout",
       "text": [
        "CPU times: user 13.3 ms, sys: 4.16 ms, total: 17.4 ms\n",
        "Wall time: 766 ms\n"
       ]
      }
     ],
     "prompt_number": 4
    },
    {
     "cell_type": "code",
     "collapsed": false,
     "input": [
      "mini_sample_data_arr = np.c_[mini_sample_data].T"
     ],
     "language": "python",
     "metadata": {},
     "outputs": [],
     "prompt_number": 5
    },
    {
     "cell_type": "code",
     "collapsed": false,
     "input": [
      "X = mini_sample_data_arr[:,1:]\n",
      "y = mini_sample_data_arr[:,0]"
     ],
     "language": "python",
     "metadata": {},
     "outputs": [],
     "prompt_number": 6
    },
    {
     "cell_type": "code",
     "collapsed": false,
     "input": [
      "from modshogun import RealFeatures, MulticlassLabels\n",
      "\n",
      "features = RealFeatures(X.T.astype(np.float64))\n",
      "labels   = MulticlassLabels(y.astype(np.float64))"
     ],
     "language": "python",
     "metadata": {},
     "outputs": [],
     "prompt_number": 7
    },
    {
     "cell_type": "code",
     "collapsed": false,
     "input": [
      "from modshogun import LMNN\n",
      "\n",
      "# number of target neighbours per example\n",
      "k = 1\n",
      "\n",
      "lmnn = LMNN(features,labels,k)\n",
      "# set an initial transform as a start point of the optimization\n",
      "init_transform = np.eye(39)\n",
      "lmnn.set_maxiter(2000)\n",
      "lmnn.train(init_transform)"
     ],
     "language": "python",
     "metadata": {},
     "outputs": [],
     "prompt_number": 8
    },
    {
     "cell_type": "code",
     "collapsed": false,
     "input": [],
     "language": "python",
     "metadata": {},
     "outputs": [],
     "prompt_number": 8
    },
    {
     "cell_type": "code",
     "collapsed": false,
     "input": [
      "L = lmnn.get_linear_transform()"
     ],
     "language": "python",
     "metadata": {},
     "outputs": [],
     "prompt_number": 9
    },
    {
     "cell_type": "code",
     "collapsed": false,
     "input": [
      "L"
     ],
     "language": "python",
     "metadata": {},
     "outputs": [
      {
       "metadata": {},
       "output_type": "pyout",
       "prompt_number": 10,
       "text": [
        "array([[ -3.28076780e+227,   3.49764372e+240,   9.39573587e+248, ...,\n",
        "         -1.15169777e+242,  -4.78030144e+238,  -3.26031354e+241],\n",
        "       [  3.49764372e+240,  -3.81625746e+253,  -3.32398219e+262, ...,\n",
        "          1.34761132e+255,   3.14052981e+251,  -4.61984293e+253],\n",
        "       [  9.39573587e+248,  -3.32398219e+262,  -5.76156897e+276, ...,\n",
        "         -5.22237918e+265,  -2.63702580e+262,  -8.96216484e+264],\n",
        "       ..., \n",
        "       [ -1.15169777e+242,   1.34761132e+255,  -5.22237918e+265, ...,\n",
        "         -5.73885556e+256,   9.83031419e+252,   4.25687735e+256],\n",
        "       [ -4.78030144e+238,   3.14052981e+251,  -2.63702580e+262, ...,\n",
        "          9.83031419e+252,  -5.08646640e+250,  -9.29953545e+253],\n",
        "       [ -3.26031354e+241,  -4.61984293e+253,  -8.96216484e+264, ...,\n",
        "          4.25687735e+256,  -9.29953545e+253,  -1.80973845e+257]])"
       ]
      }
     ],
     "prompt_number": 10
    },
    {
     "cell_type": "code",
     "collapsed": false,
     "input": [
      "XL = np.dot(X, L.T)"
     ],
     "language": "python",
     "metadata": {},
     "outputs": [],
     "prompt_number": 11
    },
    {
     "cell_type": "code",
     "collapsed": false,
     "input": [],
     "language": "python",
     "metadata": {},
     "outputs": [],
     "prompt_number": 11
    },
    {
     "cell_type": "code",
     "collapsed": false,
     "input": [
      "from sklearn.svm import LinearSVC, SVC"
     ],
     "language": "python",
     "metadata": {},
     "outputs": [],
     "prompt_number": 12
    },
    {
     "cell_type": "code",
     "collapsed": false,
     "input": [
      "clf = LinearSVC(C=100.0,penalty='l1',dual=False)"
     ],
     "language": "python",
     "metadata": {},
     "outputs": [],
     "prompt_number": 13
    },
    {
     "cell_type": "code",
     "collapsed": false,
     "input": [
      "%time clf.fit(XL,y)"
     ],
     "language": "python",
     "metadata": {},
     "outputs": [
      {
       "output_type": "stream",
       "stream": "stdout",
       "text": [
        "CPU times: user 837 ms, sys: 259 \u00b5s, total: 838 ms\n",
        "Wall time: 837 ms\n"
       ]
      },
      {
       "metadata": {},
       "output_type": "pyout",
       "prompt_number": 14,
       "text": [
        "LinearSVC(C=100.0, class_weight=None, dual=False, fit_intercept=True,\n",
        "     intercept_scaling=1, loss='l2', multi_class='ovr', penalty='l1',\n",
        "     random_state=None, tol=0.0001, verbose=0)"
       ]
      }
     ],
     "prompt_number": 14
    },
    {
     "cell_type": "code",
     "collapsed": false,
     "input": [
      "np.sum((clf.predict(XL) - y)**2)"
     ],
     "language": "python",
     "metadata": {},
     "outputs": [
      {
       "metadata": {},
       "output_type": "pyout",
       "prompt_number": 15,
       "text": [
        "2182"
       ]
      }
     ],
     "prompt_number": 15
    },
    {
     "cell_type": "code",
     "collapsed": false,
     "input": [
      "clf.predict(XL).sum()"
     ],
     "language": "python",
     "metadata": {},
     "outputs": [
      {
       "metadata": {},
       "output_type": "pyout",
       "prompt_number": 17,
       "text": [
        "0"
       ]
      }
     ],
     "prompt_number": 17
    },
    {
     "cell_type": "code",
     "collapsed": false,
     "input": [
      "y.sum()"
     ],
     "language": "python",
     "metadata": {},
     "outputs": [
      {
       "metadata": {},
       "output_type": "pyout",
       "prompt_number": 18,
       "text": [
        "2182"
       ]
      }
     ],
     "prompt_number": 18
    },
    {
     "cell_type": "code",
     "collapsed": false,
     "input": [],
     "language": "python",
     "metadata": {},
     "outputs": []
    },
    {
     "cell_type": "code",
     "collapsed": false,
     "input": [],
     "language": "python",
     "metadata": {},
     "outputs": [],
     "prompt_number": 36
    },
    {
     "cell_type": "code",
     "collapsed": false,
     "input": [
      "sample_data_XL = np.dot(sample_data_arr[:,1:], L.T)\n",
      "sample_data_y = sample_data_arr[:,0]"
     ],
     "language": "python",
     "metadata": {},
     "outputs": [],
     "prompt_number": 22
    },
    {
     "cell_type": "code",
     "collapsed": false,
     "input": [
      "np.sum((clf.predict(sample_data_XL) - sample_data_y)**2)"
     ],
     "language": "python",
     "metadata": {},
     "outputs": [
      {
       "metadata": {},
       "output_type": "pyout",
       "prompt_number": 23,
       "text": [
        "254949"
       ]
      }
     ],
     "prompt_number": 23
    },
    {
     "cell_type": "code",
     "collapsed": false,
     "input": [
      "clf.predict(sample_data_XL).sum()"
     ],
     "language": "python",
     "metadata": {},
     "outputs": [
      {
       "metadata": {},
       "output_type": "pyout",
       "prompt_number": 24,
       "text": [
        "0"
       ]
      }
     ],
     "prompt_number": 24
    },
    {
     "cell_type": "code",
     "collapsed": false,
     "input": [
      "sample_data_y.sum()"
     ],
     "language": "python",
     "metadata": {},
     "outputs": [
      {
       "metadata": {},
       "output_type": "pyout",
       "prompt_number": 26,
       "text": [
        "254949"
       ]
      }
     ],
     "prompt_number": 26
    },
    {
     "cell_type": "code",
     "collapsed": false,
     "input": [],
     "language": "python",
     "metadata": {},
     "outputs": []
    },
    {
     "cell_type": "code",
     "collapsed": false,
     "input": [],
     "language": "python",
     "metadata": {},
     "outputs": []
    },
    {
     "cell_type": "code",
     "collapsed": false,
     "input": [],
     "language": "python",
     "metadata": {},
     "outputs": []
    }
   ],
   "metadata": {}
  }
 ]
}