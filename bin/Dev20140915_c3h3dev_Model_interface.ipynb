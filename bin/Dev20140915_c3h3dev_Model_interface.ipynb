{
 "metadata": {
  "name": "",
  "signature": "sha256:4352b632d240019d5296abe022288faca2333008ddb4b1c4361638692a7db415"
 },
 "nbformat": 3,
 "nbformat_minor": 0,
 "worksheets": [
  {
   "cells": [
    {
     "cell_type": "code",
     "collapsed": false,
     "input": [
      "from hunkaggle.criteo.models import *"
     ],
     "language": "python",
     "metadata": {},
     "outputs": [],
     "prompt_number": 1
    },
    {
     "cell_type": "code",
     "collapsed": false,
     "input": [
      "total_n = blz.open(os.path.join(tools.TRAINING_BLZ_PATH,TRAINING_COLUMN_NAMES[0])).shape[0]"
     ],
     "language": "python",
     "metadata": {},
     "outputs": [],
     "prompt_number": 2
    },
    {
     "cell_type": "code",
     "collapsed": false,
     "input": [
      "m_groups = 40"
     ],
     "language": "python",
     "metadata": {},
     "outputs": [],
     "prompt_number": 3
    },
    {
     "cell_type": "code",
     "collapsed": false,
     "input": [
      "dived_n = total_n / m_groups if total_n % m_groups == 0 else total_n / m_groups + 1"
     ],
     "language": "python",
     "metadata": {},
     "outputs": [],
     "prompt_number": 4
    },
    {
     "cell_type": "code",
     "collapsed": false,
     "input": [
      "training_data_slices = map(lambda xx:slice(*xx),tools.get_separation_pairs(total_n,dived_n))"
     ],
     "language": "python",
     "metadata": {},
     "outputs": [],
     "prompt_number": 18
    },
    {
     "cell_type": "code",
     "collapsed": false,
     "input": [],
     "language": "python",
     "metadata": {},
     "outputs": [],
     "prompt_number": 22
    },
    {
     "cell_type": "code",
     "collapsed": false,
     "input": [
      "from sklearn.svm import LinearSVC"
     ],
     "language": "python",
     "metadata": {},
     "outputs": [],
     "prompt_number": 23
    },
    {
     "cell_type": "code",
     "collapsed": false,
     "input": [
      "model_create_template = {\"model_series\":\"TryLSVM\", \n",
      "                         \"model_type\": LinearSVC, \n",
      "                         \"model_parameters\":{\"dual\":False}, \n",
      "                         \"data_slice\":training_data_slices[0],\n",
      "                         \"predict_limit_instances\":5000000}"
     ],
     "language": "python",
     "metadata": {},
     "outputs": [],
     "prompt_number": 24
    },
    {
     "cell_type": "code",
     "collapsed": false,
     "input": [
      "try_model = create_new_model_with_origin_training_data(**model_create_template)"
     ],
     "language": "python",
     "metadata": {},
     "outputs": [
      {
       "output_type": "stream",
       "stream": "stdout",
       "text": [
        "one_pair =  (1000000, 2000000)\n",
        "one_pair = "
       ]
      },
      {
       "output_type": "stream",
       "stream": "stdout",
       "text": [
        " (2000000, 3000000)\n",
        "one_pair = "
       ]
      },
      {
       "output_type": "stream",
       "stream": "stdout",
       "text": [
        " (3000000, 4000000)\n",
        "one_pair = "
       ]
      },
      {
       "output_type": "stream",
       "stream": "stdout",
       "text": [
        " (4000000, 5000000)\n",
        "one_pair = "
       ]
      },
      {
       "output_type": "stream",
       "stream": "stdout",
       "text": [
        " (5000000, 6000000)\n",
        "one_pair = "
       ]
      },
      {
       "output_type": "stream",
       "stream": "stdout",
       "text": [
        " (6000000, 7000000)\n",
        "one_pair = "
       ]
      },
      {
       "output_type": "stream",
       "stream": "stdout",
       "text": [
        " (7000000, 8000000)\n",
        "one_pair = "
       ]
      },
      {
       "output_type": "stream",
       "stream": "stdout",
       "text": [
        " (8000000, 9000000)\n",
        "one_pair = "
       ]
      },
      {
       "output_type": "stream",
       "stream": "stdout",
       "text": [
        " (9000000, 10000000)\n",
        "one_pair = "
       ]
      },
      {
       "output_type": "stream",
       "stream": "stdout",
       "text": [
        " (10000000, 11000000)\n",
        "one_pair = "
       ]
      },
      {
       "output_type": "stream",
       "stream": "stdout",
       "text": [
        " (11000000, 12000000)\n",
        "one_pair = "
       ]
      },
      {
       "output_type": "stream",
       "stream": "stdout",
       "text": [
        " (12000000, 13000000)\n",
        "one_pair = "
       ]
      },
      {
       "output_type": "stream",
       "stream": "stdout",
       "text": [
        " (13000000, 14000000)\n",
        "one_pair = "
       ]
      },
      {
       "output_type": "stream",
       "stream": "stdout",
       "text": [
        " (14000000, 15000000)\n",
        "one_pair = "
       ]
      },
      {
       "output_type": "stream",
       "stream": "stdout",
       "text": [
        " (15000000, 16000000)\n",
        "one_pair = "
       ]
      },
      {
       "output_type": "stream",
       "stream": "stdout",
       "text": [
        " (16000000, 17000000)\n",
        "one_pair = "
       ]
      },
      {
       "output_type": "stream",
       "stream": "stdout",
       "text": [
        " (17000000, 18000000)\n",
        "one_pair = "
       ]
      },
      {
       "output_type": "stream",
       "stream": "stdout",
       "text": [
        " (18000000, 19000000)\n",
        "one_pair = "
       ]
      },
      {
       "output_type": "stream",
       "stream": "stdout",
       "text": [
        " (19000000, 20000000)\n",
        "one_pair = "
       ]
      }
     ]
    },
    {
     "cell_type": "code",
     "collapsed": false,
     "input": [],
     "language": "python",
     "metadata": {},
     "outputs": []
    }
   ],
   "metadata": {}
  }
 ]
}