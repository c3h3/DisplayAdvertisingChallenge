{
 "metadata": {
  "name": "",
  "signature": "sha256:0d461c1d3acb0c54865abf32a448f0ff21ce57aae00330cd06bed9d41f86625d"
 },
 "nbformat": 3,
 "nbformat_minor": 0,
 "worksheets": [
  {
   "cells": [
    {
     "cell_type": "code",
     "collapsed": false,
     "input": [
      "import blz\n",
      "import numpy as np\n",
      "import os"
     ],
     "language": "python",
     "metadata": {},
     "outputs": [],
     "prompt_number": 1
    },
    {
     "cell_type": "code",
     "collapsed": false,
     "input": [
      "results = os.listdir(\"/Users/DboyLiao/Documents/kaggle/DisplayAdvertisingChallenge/data/train_blzs/models_predict/\")"
     ],
     "language": "python",
     "metadata": {},
     "outputs": [],
     "prompt_number": 2
    },
    {
     "cell_type": "code",
     "collapsed": false,
     "input": [
      "results[:5]"
     ],
     "language": "python",
     "metadata": {},
     "outputs": [
      {
       "metadata": {},
       "output_type": "pyout",
       "prompt_number": 4,
       "text": [
        "['Model_No0_predicted_array',\n",
        " 'Model_No100_predicted_array',\n",
        " 'Model_No101_predicted_array',\n",
        " 'Model_No102_predicted_array',\n",
        " 'Model_No103_predicted_array']"
       ]
      }
     ],
     "prompt_number": 4
    },
    {
     "cell_type": "code",
     "collapsed": false,
     "input": [
      "predict_results_barrays = []\n",
      "for result in results:\n",
      "    temp = blz.open(os.path.join(\"../data/train_blzs/models_predict/\",result))\n",
      "    predict_results_barrays.append(temp[\"Predict\"])"
     ],
     "language": "python",
     "metadata": {},
     "outputs": [],
     "prompt_number": 5
    },
    {
     "cell_type": "code",
     "collapsed": false,
     "input": [
      "Labels = blz.open(\"/Users/DboyLiao/Documents/kaggle/DisplayAdvertisingChallenge/data/train_blzs/Label\")\n",
      "Labels"
     ],
     "language": "python",
     "metadata": {},
     "outputs": [
      {
       "metadata": {},
       "output_type": "pyout",
       "prompt_number": 6,
       "text": [
        "barray((45840617,), int64)\n",
        "  nbytes: 349.74 MB; cbytes: 21.65 MB; ratio: 16.15\n",
        "  bparams := bparams(clevel=5, shuffle=True, cname=blosclz)\n",
        "  rootdir := '/Users/DboyLiao/Documents/kaggle/DisplayAdvertisingChallenge/data/train_blzs/Label'\n",
        "[0 0 0 ..., 0 0 0]"
       ]
      }
     ],
     "prompt_number": 6
    },
    {
     "cell_type": "code",
     "collapsed": false,
     "input": [
      "def count_error(predict_barray, labels):\n",
      "    assert len(predict_barray) == len(labels), \"The length of two arrays are not the same!\"\n",
      "    print \"Processing counting error!\"\n",
      "    error = blz.eval(\"sum((labels - predict_barray)**2)\")\n",
      "    return error"
     ],
     "language": "python",
     "metadata": {},
     "outputs": [],
     "prompt_number": 9
    },
    {
     "cell_type": "code",
     "collapsed": false,
     "input": [
      "error_rates = []\n",
      "for predict_barray in predict_results_barrays:\n",
      "    error = count_error(predict_barray, Labels)\n",
      "    error_rate = error/len(Labels)\n",
      "    print \"error_rate:\", error_rate\n",
      "    error_rates.append(error_rate)"
     ],
     "language": "python",
     "metadata": {},
     "outputs": [
      {
       "output_type": "stream",
       "stream": "stdout",
       "text": [
        "Processing counting error!\n",
        "error_rate:"
       ]
      },
      {
       "output_type": "stream",
       "stream": "stdout",
       "text": [
        " 0.441135903559\n",
        "Processing counting error!\n",
        "error_rate:"
       ]
      },
      {
       "output_type": "stream",
       "stream": "stdout",
       "text": [
        " 0.468098127911\n",
        "Processing counting error!\n",
        "error_rate:"
       ]
      },
      {
       "output_type": "stream",
       "stream": "stdout",
       "text": [
        " 0.467745602115\n",
        "Processing counting error!\n",
        "error_rate:"
       ]
      },
      {
       "output_type": "stream",
       "stream": "stdout",
       "text": [
        " 0.469166329066\n",
        "Processing counting error!\n",
        "error_rate:"
       ]
      },
      {
       "output_type": "stream",
       "stream": "stdout",
       "text": [
        " 0.469190456141\n",
        "Processing counting error!\n",
        "error_rate:"
       ]
      },
      {
       "output_type": "stream",
       "stream": "stdout",
       "text": [
        " 0.465495697844\n",
        "Processing counting error!\n",
        "error_rate:"
       ]
      },
      {
       "output_type": "stream",
       "stream": "stdout",
       "text": [
        " 0.469344097179\n",
        "Processing counting error!\n",
        "error_rate:"
       ]
      },
      {
       "output_type": "stream",
       "stream": "stdout",
       "text": [
        " 0.466567367538\n",
        "Processing counting error!\n",
        "error_rate:"
       ]
      },
      {
       "output_type": "stream",
       "stream": "stdout",
       "text": [
        " 0.469905717019\n",
        "Processing counting error!\n",
        "error_rate:"
       ]
      },
      {
       "output_type": "stream",
       "stream": "stdout",
       "text": [
        " 0.470811114955\n",
        "Processing counting error!\n",
        "error_rate:"
       ]
      },
      {
       "output_type": "stream",
       "stream": "stdout",
       "text": [
        " 0.463785685956\n",
        "Processing counting error!\n",
        "error_rate:"
       ]
      },
      {
       "output_type": "stream",
       "stream": "stdout",
       "text": [
        " 0.460299149115\n",
        "Processing counting error!\n",
        "error_rate:"
       ]
      },
      {
       "output_type": "stream",
       "stream": "stdout",
       "text": [
        " 0.464808926983\n",
        "Processing counting error!\n",
        "error_rate:"
       ]
      },
      {
       "output_type": "stream",
       "stream": "stdout",
       "text": [
        " 0.477608820143\n",
        "Processing counting error!\n",
        "error_rate:"
       ]
      },
      {
       "output_type": "stream",
       "stream": "stdout",
       "text": [
        " 0.471947443465\n",
        "Processing counting error!\n",
        "error_rate:"
       ]
      },
      {
       "output_type": "stream",
       "stream": "stdout",
       "text": [
        " 0.466620944478\n",
        "Processing counting error!\n",
        "error_rate:"
       ]
      },
      {
       "output_type": "stream",
       "stream": "stdout",
       "text": [
        " 0.466821770745\n",
        "Processing counting error!\n",
        "error_rate:"
       ]
      },
      {
       "output_type": "stream",
       "stream": "stdout",
       "text": [
        " 0.461808771029\n",
        "Processing counting error!\n",
        "error_rate:"
       ]
      },
      {
       "output_type": "stream",
       "stream": "stdout",
       "text": [
        " 0.458753685623\n",
        "Processing counting error!\n",
        "error_rate:"
       ]
      },
      {
       "output_type": "stream",
       "stream": "stdout",
       "text": [
        " 0.459941736823\n",
        "Processing counting error!\n",
        "error_rate:"
       ]
      },
      {
       "output_type": "stream",
       "stream": "stdout",
       "text": [
        " 0.46170462758\n",
        "Processing counting error!\n",
        "error_rate:"
       ]
      },
      {
       "output_type": "stream",
       "stream": "stdout",
       "text": [
        " 0.464366219155\n",
        "Processing counting error!\n",
        "error_rate:"
       ]
      },
      {
       "output_type": "stream",
       "stream": "stdout",
       "text": [
        " 0.460322032751\n",
        "Processing counting error!\n",
        "error_rate:"
       ]
      },
      {
       "output_type": "stream",
       "stream": "stdout",
       "text": [
        " 0.463888193302\n",
        "Processing counting error!\n",
        "error_rate:"
       ]
      },
      {
       "output_type": "stream",
       "stream": "stdout",
       "text": [
        " 0.463501963772\n",
        "Processing counting error!\n",
        "error_rate:"
       ]
      },
      {
       "output_type": "stream",
       "stream": "stdout",
       "text": [
        " 0.461793129879\n",
        "Processing counting error!\n",
        "error_rate:"
       ]
      },
      {
       "output_type": "stream",
       "stream": "stdout",
       "text": [
        " 0.464658034598\n",
        "Processing counting error!\n",
        "error_rate:"
       ]
      },
      {
       "output_type": "stream",
       "stream": "stdout",
       "text": [
        " 0.466124725154\n",
        "Processing counting error!\n",
        "error_rate:"
       ]
      },
      {
       "output_type": "stream",
       "stream": "stdout",
       "text": [
        " 0.456610564382\n",
        "Processing counting error!\n",
        "error_rate:"
       ]
      },
      {
       "output_type": "stream",
       "stream": "stdout",
       "text": [
        " 0.440952529064\n",
        "Processing counting error!\n",
        "error_rate:"
       ]
      },
      {
       "output_type": "stream",
       "stream": "stdout",
       "text": [
        " 0.434496573203\n",
        "Processing counting error!\n",
        "error_rate:"
       ]
      },
      {
       "output_type": "stream",
       "stream": "stdout",
       "text": [
        " 0.420131670566\n",
        "Processing counting error!\n",
        "error_rate:"
       ]
      },
      {
       "output_type": "stream",
       "stream": "stdout",
       "text": [
        " 0.43502745611\n",
        "Processing counting error!\n",
        "error_rate:"
       ]
      },
      {
       "output_type": "stream",
       "stream": "stdout",
       "text": [
        " 0.462233503532\n",
        "Processing counting error!\n",
        "error_rate:"
       ]
      },
      {
       "output_type": "stream",
       "stream": "stdout",
       "text": [
        " 0.4349072134\n",
        "Processing counting error!\n",
        "error_rate:"
       ]
      },
      {
       "output_type": "stream",
       "stream": "stdout",
       "text": [
        " 0.411226336679\n",
        "Processing counting error!\n",
        "error_rate:"
       ]
      },
      {
       "output_type": "stream",
       "stream": "stdout",
       "text": [
        " 0.4550720816\n",
        "Processing counting error!\n",
        "error_rate:"
       ]
      },
      {
       "output_type": "stream",
       "stream": "stdout",
       "text": [
        " 0.471679907799\n",
        "Processing counting error!\n",
        "error_rate:"
       ]
      },
      {
       "output_type": "stream",
       "stream": "stdout",
       "text": [
        " 0.469339079795\n",
        "Processing counting error!\n",
        "error_rate:"
       ]
      },
      {
       "output_type": "stream",
       "stream": "stdout",
       "text": [
        " 0.467006650456\n",
        "Processing counting error!\n",
        "error_rate:"
       ]
      },
      {
       "output_type": "stream",
       "stream": "stdout",
       "text": [
        " 0.465572965565\n",
        "Processing counting error!\n",
        "error_rate:"
       ]
      },
      {
       "output_type": "stream",
       "stream": "stdout",
       "text": [
        " 0.461308297836\n",
        "Processing counting error!\n",
        "error_rate:"
       ]
      },
      {
       "output_type": "stream",
       "stream": "stdout",
       "text": [
        " 0.460186672444\n",
        "Processing counting error!\n",
        "error_rate:"
       ]
      },
      {
       "output_type": "stream",
       "stream": "stdout",
       "text": [
        " 0.462680138009\n",
        "Processing counting error!\n",
        "error_rate:"
       ]
      },
      {
       "output_type": "stream",
       "stream": "stdout",
       "text": [
        " 0.459438275013\n",
        "Processing counting error!\n",
        "error_rate:"
       ]
      },
      {
       "output_type": "stream",
       "stream": "stdout",
       "text": [
        " 0.465215880493\n",
        "Processing counting error!\n",
        "error_rate:"
       ]
      },
      {
       "output_type": "stream",
       "stream": "stdout",
       "text": [
        " 0.467936589946\n",
        "Processing counting error!\n",
        "error_rate:"
       ]
      },
      {
       "output_type": "stream",
       "stream": "stdout",
       "text": [
        " 0.466664399391\n",
        "Processing counting error!\n",
        "error_rate:"
       ]
      },
      {
       "output_type": "stream",
       "stream": "stdout",
       "text": [
        " 0.466975695375\n",
        "Processing counting error!\n",
        "error_rate:"
       ]
      },
      {
       "output_type": "stream",
       "stream": "stdout",
       "text": [
        " 0.466036026522\n",
        "Processing counting error!\n",
        "error_rate:"
       ]
      },
      {
       "output_type": "stream",
       "stream": "stdout",
       "text": [
        " 0.466639639689\n",
        "Processing counting error!\n",
        "error_rate:"
       ]
      },
      {
       "output_type": "stream",
       "stream": "stdout",
       "text": [
        " 0.466876002127\n",
        "Processing counting error!\n",
        "error_rate:"
       ]
      },
      {
       "output_type": "stream",
       "stream": "stdout",
       "text": [
        " 0.465332632848\n",
        "Processing counting error!\n",
        "error_rate:"
       ]
      },
      {
       "output_type": "stream",
       "stream": "stdout",
       "text": [
        " 0.460504141993\n",
        "Processing counting error!\n",
        "error_rate:"
       ]
      },
      {
       "output_type": "stream",
       "stream": "stdout",
       "text": [
        " 0.465479816731\n",
        "Processing counting error!\n",
        "error_rate:"
       ]
      },
      {
       "output_type": "stream",
       "stream": "stdout",
       "text": [
        " 0.461976831595\n",
        "Processing counting error!\n",
        "error_rate:"
       ]
      },
      {
       "output_type": "stream",
       "stream": "stdout",
       "text": [
        " 0.466144838321\n",
        "Processing counting error!\n",
        "error_rate:"
       ]
      },
      {
       "output_type": "stream",
       "stream": "stdout",
       "text": [
        " 0.467691457992\n",
        "Processing counting error!\n",
        "error_rate:"
       ]
      },
      {
       "output_type": "stream",
       "stream": "stdout",
       "text": [
        " 0.467031868267\n",
        "Processing counting error!\n",
        "error_rate:"
       ]
      },
      {
       "output_type": "stream",
       "stream": "stdout",
       "text": [
        " 0.462030539423\n",
        "Processing counting error!\n",
        "error_rate:"
       ]
      },
      {
       "output_type": "stream",
       "stream": "stdout",
       "text": [
        " 0.465737906625\n",
        "Processing counting error!\n",
        "error_rate:"
       ]
      },
      {
       "output_type": "stream",
       "stream": "stdout",
       "text": [
        " 0.466600962199\n",
        "Processing counting error!\n",
        "error_rate:"
       ]
      },
      {
       "output_type": "stream",
       "stream": "stdout",
       "text": [
        " 0.462985325874\n",
        "Processing counting error!\n",
        "error_rate:"
       ]
      },
      {
       "output_type": "stream",
       "stream": "stdout",
       "text": [
        " 0.463350089725\n",
        "Processing counting error!\n",
        "error_rate:"
       ]
      },
      {
       "output_type": "stream",
       "stream": "stdout",
       "text": [
        " 0.462417750616\n",
        "Processing counting error!\n",
        "error_rate:"
       ]
      },
      {
       "output_type": "stream",
       "stream": "stdout",
       "text": [
        " 0.441946800149\n",
        "Processing counting error!\n",
        "error_rate:"
       ]
      },
      {
       "output_type": "stream",
       "stream": "stdout",
       "text": [
        " 0.426557347603\n",
        "Processing counting error!\n",
        "error_rate:"
       ]
      },
      {
       "output_type": "stream",
       "stream": "stdout",
       "text": [
        " 0.484458444353\n",
        "Processing counting error!\n",
        "error_rate:"
       ]
      },
      {
       "output_type": "stream",
       "stream": "stdout",
       "text": [
        " 0.46892211333\n",
        "Processing counting error!\n",
        "error_rate:"
       ]
      },
      {
       "output_type": "stream",
       "stream": "stdout",
       "text": [
        " 0.458277034098\n",
        "Processing counting error!\n",
        "error_rate:"
       ]
      },
      {
       "output_type": "stream",
       "stream": "stdout",
       "text": [
        " 0.4464804215\n",
        "Processing counting error!\n",
        "error_rate:"
       ]
      },
      {
       "output_type": "stream",
       "stream": "stdout",
       "text": [
        " 0.44176220403\n",
        "Processing counting error!\n",
        "error_rate:"
       ]
      },
      {
       "output_type": "stream",
       "stream": "stdout",
       "text": [
        " 0.438506532318\n",
        "Processing counting error!\n",
        "error_rate:"
       ]
      },
      {
       "output_type": "stream",
       "stream": "stdout",
       "text": [
        " 0.448862632019\n",
        "Processing counting error!\n",
        "error_rate:"
       ]
      },
      {
       "output_type": "stream",
       "stream": "stdout",
       "text": [
        " 0.461447890197\n",
        "Processing counting error!\n",
        "error_rate:"
       ]
      },
      {
       "output_type": "stream",
       "stream": "stdout",
       "text": [
        " 0.456512550867\n",
        "Processing counting error!\n",
        "error_rate:"
       ]
      },
      {
       "output_type": "stream",
       "stream": "stdout",
       "text": [
        " 0.461670727512\n",
        "Processing counting error!\n",
        "error_rate:"
       ]
      },
      {
       "output_type": "stream",
       "stream": "stdout",
       "text": [
        " 0.467797891987\n",
        "Processing counting error!\n",
        "error_rate:"
       ]
      },
      {
       "output_type": "stream",
       "stream": "stdout",
       "text": [
        " 0.467104947562\n",
        "Processing counting error!\n",
        "error_rate:"
       ]
      },
      {
       "output_type": "stream",
       "stream": "stdout",
       "text": [
        " 0.468134493041\n",
        "Processing counting error!\n",
        "error_rate:"
       ]
      },
      {
       "output_type": "stream",
       "stream": "stdout",
       "text": [
        " 0.469083891257\n",
        "Processing counting error!\n",
        "error_rate:"
       ]
      },
      {
       "output_type": "stream",
       "stream": "stdout",
       "text": [
        " 0.466491081479\n",
        "Processing counting error!\n",
        "error_rate:"
       ]
      },
      {
       "output_type": "stream",
       "stream": "stdout",
       "text": [
        " 0.45850739749\n",
        "Processing counting error!\n",
        "error_rate:"
       ]
      },
      {
       "output_type": "stream",
       "stream": "stdout",
       "text": [
        " 0.459152000506\n",
        "Processing counting error!\n",
        "error_rate:"
       ]
      },
      {
       "output_type": "stream",
       "stream": "stdout",
       "text": [
        " 0.451593245353\n",
        "Processing counting error!\n",
        "error_rate:"
       ]
      },
      {
       "output_type": "stream",
       "stream": "stdout",
       "text": [
        " 0.462566832379\n",
        "Processing counting error!\n",
        "error_rate:"
       ]
      },
      {
       "output_type": "stream",
       "stream": "stdout",
       "text": [
        " 0.447101355551\n",
        "Processing counting error!\n",
        "error_rate:"
       ]
      },
      {
       "output_type": "stream",
       "stream": "stdout",
       "text": [
        " 0.458856345673\n",
        "Processing counting error!\n",
        "error_rate:"
       ]
      },
      {
       "output_type": "stream",
       "stream": "stdout",
       "text": [
        " 0.445441473879\n",
        "Processing counting error!\n",
        "error_rate:"
       ]
      },
      {
       "output_type": "stream",
       "stream": "stdout",
       "text": [
        " 0.480713141361\n",
        "Processing counting error!\n",
        "error_rate:"
       ]
      },
      {
       "output_type": "stream",
       "stream": "stdout",
       "text": [
        " 0.48408580539\n",
        "Processing counting error!\n",
        "error_rate:"
       ]
      },
      {
       "output_type": "stream",
       "stream": "stdout",
       "text": [
        " 0.470088044408\n",
        "Processing counting error!\n",
        "error_rate:"
       ]
      },
      {
       "output_type": "stream",
       "stream": "stdout",
       "text": [
        " 0.470656034145\n",
        "Processing counting error!\n",
        "error_rate:"
       ]
      },
      {
       "output_type": "stream",
       "stream": "stdout",
       "text": [
        " 0.459986806024\n",
        "Processing counting error!\n",
        "error_rate:"
       ]
      },
      {
       "output_type": "stream",
       "stream": "stdout",
       "text": [
        " 0.457516551315\n",
        "Processing counting error!\n",
        "error_rate:"
       ]
      },
      {
       "output_type": "stream",
       "stream": "stdout",
       "text": [
        " 0.455278034325\n",
        "Processing counting error!\n",
        "error_rate:"
       ]
      },
      {
       "output_type": "stream",
       "stream": "stdout",
       "text": [
        " 0.464175318583\n",
        "Processing counting error!\n",
        "error_rate:"
       ]
      },
      {
       "output_type": "stream",
       "stream": "stdout",
       "text": [
        " 0.450980579079\n",
        "Processing counting error!\n",
        "error_rate:"
       ]
      },
      {
       "output_type": "stream",
       "stream": "stdout",
       "text": [
        " 0.458231441344\n",
        "Processing counting error!\n",
        "error_rate:"
       ]
      },
      {
       "output_type": "stream",
       "stream": "stdout",
       "text": [
        " 0.460680426705\n",
        "Processing counting error!\n",
        "error_rate:"
       ]
      },
      {
       "output_type": "stream",
       "stream": "stdout",
       "text": [
        " 0.459943591073\n",
        "Processing counting error!\n",
        "error_rate:"
       ]
      },
      {
       "output_type": "stream",
       "stream": "stdout",
       "text": [
        " 0.465131173954\n",
        "Processing counting error!\n",
        "error_rate:"
       ]
      },
      {
       "output_type": "stream",
       "stream": "stdout",
       "text": [
        " 0.468532153483\n",
        "Processing counting error!\n",
        "error_rate:"
       ]
      },
      {
       "output_type": "stream",
       "stream": "stdout",
       "text": [
        " 0.466921856658\n",
        "Processing counting error!\n",
        "error_rate:"
       ]
      },
      {
       "output_type": "stream",
       "stream": "stdout",
       "text": [
        " 0.464654566059\n",
        "Processing counting error!\n",
        "error_rate:"
       ]
      },
      {
       "output_type": "stream",
       "stream": "stdout",
       "text": [
        " 0.462727650459\n",
        "Processing counting error!\n",
        "error_rate:"
       ]
      },
      {
       "output_type": "stream",
       "stream": "stdout",
       "text": [
        " 0.463529821163\n",
        "Processing counting error!\n",
        "error_rate:"
       ]
      },
      {
       "output_type": "stream",
       "stream": "stdout",
       "text": [
        " 0.461175228073\n",
        "Processing counting error!\n",
        "error_rate:"
       ]
      },
      {
       "output_type": "stream",
       "stream": "stdout",
       "text": [
        " 0.449466703295\n",
        "Processing counting error!\n",
        "error_rate:"
       ]
      },
      {
       "output_type": "stream",
       "stream": "stdout",
       "text": [
        " 0.452264985875\n",
        "Processing counting error!\n",
        "error_rate:"
       ]
      },
      {
       "output_type": "stream",
       "stream": "stdout",
       "text": [
        " 0.466686388623\n",
        "Processing counting error!\n",
        "error_rate:"
       ]
      },
      {
       "output_type": "stream",
       "stream": "stdout",
       "text": [
        " 0.456891036174\n",
        "Processing counting error!\n",
        "error_rate:"
       ]
      },
      {
       "output_type": "stream",
       "stream": "stdout",
       "text": [
        " 0.468316711357\n",
        "Processing counting error!\n",
        "error_rate:"
       ]
      },
      {
       "output_type": "stream",
       "stream": "stdout",
       "text": [
        " 0.446057390545\n",
        "Processing counting error!\n",
        "error_rate:"
       ]
      },
      {
       "output_type": "stream",
       "stream": "stdout",
       "text": [
        " 0.478732910598\n",
        "Processing counting error!\n",
        "error_rate:"
       ]
      },
      {
       "output_type": "stream",
       "stream": "stdout",
       "text": [
        " 0.475835109287\n",
        "Processing counting error!\n",
        "error_rate:"
       ]
      },
      {
       "output_type": "stream",
       "stream": "stdout",
       "text": [
        " 0.471643259077\n",
        "Processing counting error!\n",
        "error_rate:"
       ]
      },
      {
       "output_type": "stream",
       "stream": "stdout",
       "text": [
        " 0.470814038127\n",
        "Processing counting error!\n",
        "error_rate:"
       ]
      },
      {
       "output_type": "stream",
       "stream": "stdout",
       "text": [
        " 0.468689241246\n",
        "Processing counting error!\n",
        "error_rate:"
       ]
      },
      {
       "output_type": "stream",
       "stream": "stdout",
       "text": [
        " 0.435628822361\n",
        "Processing counting error!\n",
        "error_rate:"
       ]
      },
      {
       "output_type": "stream",
       "stream": "stdout",
       "text": [
        " 0.458205198242\n",
        "Processing counting error!\n",
        "error_rate:"
       ]
      },
      {
       "output_type": "stream",
       "stream": "stdout",
       "text": [
        " 0.455558549746\n",
        "Processing counting error!\n",
        "error_rate:"
       ]
      },
      {
       "output_type": "stream",
       "stream": "stdout",
       "text": [
        " 0.460666574361\n",
        "Processing counting error!\n",
        "error_rate:"
       ]
      },
      {
       "output_type": "stream",
       "stream": "stdout",
       "text": [
        " 0.463283358512\n",
        "Processing counting error!\n",
        "error_rate:"
       ]
      },
      {
       "output_type": "stream",
       "stream": "stdout",
       "text": [
        " 0.468079978068\n",
        "Processing counting error!\n",
        "error_rate:"
       ]
      },
      {
       "output_type": "stream",
       "stream": "stdout",
       "text": [
        " 0.468200635258\n",
        "Processing counting error!\n",
        "error_rate:"
       ]
      },
      {
       "output_type": "stream",
       "stream": "stdout",
       "text": [
        " 0.466232729808\n",
        "Processing counting error!\n",
        "error_rate:"
       ]
      },
      {
       "output_type": "stream",
       "stream": "stdout",
       "text": [
        " 0.465676040093\n",
        "Processing counting error!\n",
        "error_rate:"
       ]
      },
      {
       "output_type": "stream",
       "stream": "stdout",
       "text": [
        " 0.463749626232\n",
        "Processing counting error!\n",
        "error_rate:"
       ]
      },
      {
       "output_type": "stream",
       "stream": "stdout",
       "text": [
        " 0.460503422107\n",
        "Processing counting error!\n",
        "error_rate:"
       ]
      },
      {
       "output_type": "stream",
       "stream": "stdout",
       "text": [
        " 0.451631748325\n",
        "Processing counting error!\n",
        "error_rate:"
       ]
      },
      {
       "output_type": "stream",
       "stream": "stdout",
       "text": [
        " 0.458688372366\n",
        "Processing counting error!\n",
        "error_rate:"
       ]
      },
      {
       "output_type": "stream",
       "stream": "stdout",
       "text": [
        " 0.460688040041\n",
        "Processing counting error!\n",
        "error_rate:"
       ]
      },
      {
       "output_type": "stream",
       "stream": "stdout",
       "text": [
        " 0.463792230371\n",
        "Processing counting error!\n",
        "error_rate:"
       ]
      },
      {
       "output_type": "stream",
       "stream": "stdout",
       "text": [
        " 0.44911561727\n",
        "Processing counting error!\n",
        "error_rate:"
       ]
      },
      {
       "output_type": "stream",
       "stream": "stdout",
       "text": [
        " 0.458223631676\n",
        "Processing counting error!\n",
        "error_rate:"
       ]
      },
      {
       "output_type": "stream",
       "stream": "stdout",
       "text": [
        " 0.46501132391\n",
        "Processing counting error!\n",
        "error_rate:"
       ]
      },
      {
       "output_type": "stream",
       "stream": "stdout",
       "text": [
        " 0.460501415153\n",
        "Processing counting error!\n",
        "error_rate:"
       ]
      },
      {
       "output_type": "stream",
       "stream": "stdout",
       "text": [
        " 0.436594930649\n",
        "Processing counting error!\n",
        "error_rate:"
       ]
      },
      {
       "output_type": "stream",
       "stream": "stdout",
       "text": [
        " 0.474016023824\n",
        "Processing counting error!\n",
        "error_rate:"
       ]
      },
      {
       "output_type": "stream",
       "stream": "stdout",
       "text": [
        " 0.474559690154\n",
        "Processing counting error!\n",
        "error_rate:"
       ]
      },
      {
       "output_type": "stream",
       "stream": "stdout",
       "text": [
        " 0.457572026136\n",
        "Processing counting error!\n",
        "error_rate:"
       ]
      },
      {
       "output_type": "stream",
       "stream": "stdout",
       "text": [
        " 0.468313744555\n",
        "Processing counting error!\n",
        "error_rate:"
       ]
      },
      {
       "output_type": "stream",
       "stream": "stdout",
       "text": [
        " 0.46653119874\n",
        "Processing counting error!\n",
        "error_rate:"
       ]
      },
      {
       "output_type": "stream",
       "stream": "stdout",
       "text": [
        " 0.466107229752\n",
        "Processing counting error!\n",
        "error_rate:"
       ]
      },
      {
       "output_type": "stream",
       "stream": "stdout",
       "text": [
        " 0.461789661339\n",
        "Processing counting error!\n",
        "error_rate:"
       ]
      },
      {
       "output_type": "stream",
       "stream": "stdout",
       "text": [
        " 0.464115197228\n",
        "Processing counting error!\n",
        "error_rate:"
       ]
      },
      {
       "output_type": "stream",
       "stream": "stdout",
       "text": [
        " 0.465714717583\n",
        "Processing counting error!\n",
        "error_rate:"
       ]
      },
      {
       "output_type": "stream",
       "stream": "stdout",
       "text": [
        " 0.467191879202\n",
        "Processing counting error!\n",
        "error_rate:"
       ]
      },
      {
       "output_type": "stream",
       "stream": "stdout",
       "text": [
        " 0.468532306186\n",
        "Processing counting error!\n",
        "error_rate:"
       ]
      },
      {
       "output_type": "stream",
       "stream": "stdout",
       "text": [
        " 0.468625629537\n",
        "Processing counting error!\n",
        "error_rate:"
       ]
      },
      {
       "output_type": "stream",
       "stream": "stdout",
       "text": [
        " 0.468853746013\n",
        "Processing counting error!\n",
        "error_rate:"
       ]
      },
      {
       "output_type": "stream",
       "stream": "stdout",
       "text": [
        " 0.459182301146\n"
       ]
      }
     ],
     "prompt_number": 10
    },
    {
     "cell_type": "code",
     "collapsed": false,
     "input": [
      "error_rates = np.array(error_rates)"
     ],
     "language": "python",
     "metadata": {},
     "outputs": [],
     "prompt_number": 11
    },
    {
     "cell_type": "code",
     "collapsed": false,
     "input": [
      "error_rates = blz.barray(error_rates, rootdir=\"/Users/DboyLiao/Documents/kaggle/DisplayAdvertisingChallenge/data/train_blzs/models_predict/error_rates\")"
     ],
     "language": "python",
     "metadata": {},
     "outputs": [],
     "prompt_number": 14
    },
    {
     "cell_type": "code",
     "collapsed": false,
     "input": [
      "weights = blz.eval(\"error_rates**-1\")"
     ],
     "language": "python",
     "metadata": {},
     "outputs": [],
     "prompt_number": 15
    },
    {
     "cell_type": "code",
     "collapsed": false,
     "input": [
      "total = error_rates.sum()"
     ],
     "language": "python",
     "metadata": {},
     "outputs": [],
     "prompt_number": 24
    },
    {
     "cell_type": "code",
     "collapsed": false,
     "input": [
      "weights = blz.barray(error_rates / total, rootdir=\"/Users/DboyLiao/Documents/kaggle/DisplayAdvertisingChallenge/data/train_blzs/models_predict/weights\")"
     ],
     "language": "python",
     "metadata": {},
     "outputs": [],
     "prompt_number": 25
    },
    {
     "cell_type": "code",
     "collapsed": false,
     "input": [
      "weights"
     ],
     "language": "python",
     "metadata": {},
     "outputs": [
      {
       "metadata": {},
       "output_type": "pyout",
       "prompt_number": 26,
       "text": [
        "barray((153,), float64)\n",
        "  nbytes: 1.20 KB; cbytes: 16.00 KB; ratio: 0.07\n",
        "  bparams := bparams(clevel=5, shuffle=True, cname=blosclz)\n",
        "  rootdir := '/Users/DboyLiao/Documents/kaggle/DisplayAdvertisingChallenge/data/train_blzs/models_predict/weights'\n",
        "[ 0.00625046  0.00663249  0.0066275   0.00664763  0.00664797  0.00659562\n",
        "  0.00665015  0.0066108   0.00665811  0.00667093  0.00657139  0.00652199\n",
        "  0.00658589  0.00676725  0.00668703  0.00661156  0.00661441  0.00654338\n",
        "  0.00650009  0.00651693  0.0065419   0.00657962  0.00652231  0.00657284\n",
        "  0.00656737  0.00654316  0.00658375  0.00660453  0.00646973  0.00624787\n",
        "  0.00615639  0.00595286  0.00616391  0.0065494   0.00616221  0.00582668\n",
        "  0.00644793  0.00668324  0.00665008  0.00661703  0.00659671  0.00653629\n",
        "  0.0065204   0.00655573  0.00650979  0.00659165  0.0066302   0.00661218\n",
        "  0.00661659  0.00660328  0.00661183  0.00661518  0.00659331  0.00652489\n",
        "  0.00659539  0.00654576  0.00660482  0.00662673  0.00661739  0.00654652\n",
        "  0.00659905  0.00661128  0.00656005  0.00656522  0.00655201  0.00626195\n",
        "  0.0060439   0.0068643   0.00664417  0.00649334  0.00632619  0.00625934\n",
        "  0.00621321  0.00635995  0.00653827  0.00646834  0.00654142  0.00662824\n",
        "  0.00661842  0.00663301  0.00664646  0.00660972  0.0064966   0.00650574\n",
        "  0.00639864  0.00655412  0.00633499  0.00650155  0.00631147  0.00681124\n",
        "  0.00685902  0.00666069  0.00666874  0.00651756  0.00648256  0.00645085\n",
        "  0.00657691  0.00638995  0.00649269  0.00652739  0.00651695  0.00659045\n",
        "  0.00663864  0.00661583  0.0065837   0.0065564   0.00656776  0.0065344\n",
        "  0.0063685   0.00640815  0.00661249  0.0064737   0.00663559  0.0063202\n",
        "  0.00678318  0.00674212  0.00668272  0.00667098  0.00664087  0.00617244\n",
        "  0.00649232  0.00645482  0.0065272   0.00656427  0.00663224  0.00663395\n",
        "  0.00660606  0.00659817  0.00657088  0.00652488  0.00639918  0.00649917\n",
        "  0.0065275   0.00657148  0.00636353  0.00649258  0.00658876  0.00652486\n",
        "  0.00618612  0.00671634  0.00672405  0.00648335  0.00663555  0.00661029\n",
        "  0.00660428  0.00654311  0.00657606  0.00659872  0.00661965  0.00663865\n",
        "  0.00663997  0.0066432   0.00650616]"
       ]
      }
     ],
     "prompt_number": 26
    },
    {
     "cell_type": "code",
     "collapsed": false,
     "input": [],
     "language": "python",
     "metadata": {},
     "outputs": []
    }
   ],
   "metadata": {}
  }
 ]
}