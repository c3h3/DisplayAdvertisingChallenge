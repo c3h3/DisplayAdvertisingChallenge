{
 "metadata": {
  "name": "",
  "signature": "sha256:411f97aa0b75a55e21e9d778757ffb883248c5437ded9bd003c53d14e74675df"
 },
 "nbformat": 3,
 "nbformat_minor": 0,
 "worksheets": [
  {
   "cells": [
    {
     "cell_type": "code",
     "collapsed": false,
     "input": [
      "# import mudules for data io.\n",
      "from hunkaggle.criteo import tools\n",
      "from hunkaggle.criteo.settings import SOURCE_DATA_DIR\n",
      "from hunkaggle.criteo.settings import TRAINING_COLUMN_NAMES\n",
      "from hunkaggle.criteo.settings import TESTING_COLUMN_NAMES\n",
      "import blz, os\n",
      "import numpy as np\n",
      "import cPickle as pickle"
     ],
     "language": "python",
     "metadata": {},
     "outputs": [],
     "prompt_number": 1
    },
    {
     "cell_type": "code",
     "collapsed": false,
     "input": [
      "# few CONSTANCEs\n",
      "print \"TRAINING_COLUMN_NAMES:\\n\", TRAINING_COLUMN_NAMES\n",
      "print\n",
      "print \"TESTING_COLUMN_NAMES:\\n\", TESTING_COLUMN_NAMES\n",
      "print\n",
      "print \"Training barray PATH:\\n\", tools.TRAINING_BLZ_PATH\n",
      "print \n",
      "print \"Testing barray PATH:\\n\", tools.TESTING_BLZ_PATH\n",
      "print \n",
      "print \"Source data PATH:\\n\", tools.TESTING_DATA_PATH"
     ],
     "language": "python",
     "metadata": {},
     "outputs": [
      {
       "output_type": "stream",
       "stream": "stdout",
       "text": [
        "TRAINING_COLUMN_NAMES:\n",
        "['Id', 'Label', 'I1', 'I2', 'I3', 'I4', 'I5', 'I6', 'I7', 'I8', 'I9', 'I10', 'I11', 'I12', 'I13', 'C1', 'C2', 'C3', 'C4', 'C5', 'C6', 'C7', 'C8', 'C9', 'C10', 'C11', 'C12', 'C13', 'C14', 'C15', 'C16', 'C17', 'C18', 'C19', 'C20', 'C21', 'C22', 'C23', 'C24', 'C25', 'C26']\n",
        "\n",
        "TESTING_COLUMN_NAMES:\n",
        "['Id', 'I1', 'I2', 'I3', 'I4', 'I5', 'I6', 'I7', 'I8', 'I9', 'I10', 'I11', 'I12', 'I13', 'C1', 'C2', 'C3', 'C4', 'C5', 'C6', 'C7', 'C8', 'C9', 'C10', 'C11', 'C12', 'C13', 'C14', 'C15', 'C16', 'C17', 'C18', 'C19', 'C20', 'C21', 'C22', 'C23', 'C24', 'C25', 'C26']\n",
        "\n",
        "Training barray PATH:\n",
        "/Users/DboyLiao/Desktop/DisplayAdvertisingChallenge/data/train_blzs\n",
        "\n",
        "Testing barray PATH:\n",
        "/Users/DboyLiao/Desktop/DisplayAdvertisingChallenge/data/test_blzs\n",
        "\n",
        "Source data PATH:\n",
        "/Users/DboyLiao/Desktop/DisplayAdvertisingChallenge/data/test.csv\n"
       ]
      }
     ],
     "prompt_number": 2
    },
    {
     "cell_type": "code",
     "collapsed": false,
     "input": [
      "# Model Predictor: Parallizable\n",
      "def modelPredctor(modelsPath_modelIndex_dataPath_colNames_tuple):\n",
      "    \"\"\"\n",
      "    Input: A tuple, with following two attributes (with order):\n",
      "            modelsPath: string, the path to the trained models. (pickle file)\n",
      "            modelIndex: integer, the index of the model to predict.\n",
      "            dataPath: string, the path to the data.\n",
      "            colNames: a list of strings, column names of the output table. It should be like [\"Id\", \"V1\", ...]\n",
      "    Output: A btable, consists of Id column, Predicted column and the data.\n",
      "    \n",
      "    Notes:\n",
      "    modelPredictor will create following directories for you if they do not exist.\n",
      "            1. Model_No{modelIndex}_predicted_array: it will be under the dataPath.\n",
      "    \"\"\"\n",
      "    # Set up necessary constance.\n",
      "    divideN = 300000\n",
      "    modelsPath, modelIndex, dataPath, colNames = modelsPath_modelIndex_dataPath_colNames_tuple\n",
      "    def data_abspath(colname):\n",
      "        return os.path.abspath(os.path.join(dataPath, colname))\n",
      "    with open(modelsPath, \"rb\") as rf:\n",
      "        models = pickle.load(rf)\n",
      "    model = models[modelIndex]\n",
      "    del models\n",
      "    \n",
      "    # Read in data with btable.\n",
      "    Id = blz.open(os.path.join(dataPath, colNames[0]))\n",
      "    totalN = len(Id)\n",
      "    if totalN % divideN == 0:\n",
      "        nodes_list = [i * divideN for i in range(totalN / divideN + 1)]\n",
      "    else:\n",
      "        nodes_list = [i * divideN for i in range(totalN / divideN + 1)] + [totalN]\n",
      "    nodes_pair_list = zip(nodes_list[:-1], nodes_list[1:])\n",
      "    \n",
      "    # Prediction.\n",
      "    y_predict = np.zeros(totalN)\n",
      "    for begin, end in nodes_pair_list:\n",
      "        print \"[Model No.{modelIndex}] Processing {begin} ~ {end} observations.\".format(modelIndex=modelIndex, begin = begin + 1, end = end)\n",
      "        columns = [blz.open(os.path.join(dataPath, colname))[begin:end] for colname in colNames[1:]]\n",
      "        X = np.column_stack(columns)\n",
      "        temp = model.predict(X)\n",
      "        y_predict[begin:end] = temp\n",
      "    \n",
      "    columns = [Id, blz.barray(y_predict)]\n",
      "    data_rootdir = os.path.join(dataPath, \"Model_No{modelIndex}_predicted_array\".format(modelIndex = modelIndex))\n",
      "    if data_rootdir in os.listdir(dataPath):\n",
      "        print \"Removing Old result_table directory for new btable.\"\n",
      "        command = \"rm -rf \" + data_rootdir\n",
      "        os.system(command)\n",
      "    final_table = blz.btable(columns = columns, names = [\"Id\", \"Predict\"], rootdir = data_rootdir)\n",
      "    print \"The result_table btable rootdir is under {path}\".format(path=data_rootdir)\n",
      "    return final_table    "
     ],
     "language": "python",
     "metadata": {},
     "outputs": [],
     "prompt_number": 31
    },
    {
     "cell_type": "code",
     "collapsed": false,
     "input": [
      "modelsPath_modelIndex_dataPath_colNames_tuple = (SOURCE_DATA_DIR + \"models.pickle\", 3, tools.TESTING_BLZ_PATH, TESTING_COLUMN_NAMES)\n",
      "modelsPath_modelIndex_dataPath_colNames_tuple"
     ],
     "language": "python",
     "metadata": {},
     "outputs": [
      {
       "metadata": {},
       "output_type": "pyout",
       "prompt_number": 29,
       "text": [
        "('/Users/DboyLiao/Desktop/DisplayAdvertisingChallenge/data/models.pickle',\n",
        " 3,\n",
        " '/Users/DboyLiao/Desktop/DisplayAdvertisingChallenge/data/test_blzs',\n",
        " ['Id',\n",
        "  'I1',\n",
        "  'I2',\n",
        "  'I3',\n",
        "  'I4',\n",
        "  'I5',\n",
        "  'I6',\n",
        "  'I7',\n",
        "  'I8',\n",
        "  'I9',\n",
        "  'I10',\n",
        "  'I11',\n",
        "  'I12',\n",
        "  'I13',\n",
        "  'C1',\n",
        "  'C2',\n",
        "  'C3',\n",
        "  'C4',\n",
        "  'C5',\n",
        "  'C6',\n",
        "  'C7',\n",
        "  'C8',\n",
        "  'C9',\n",
        "  'C10',\n",
        "  'C11',\n",
        "  'C12',\n",
        "  'C13',\n",
        "  'C14',\n",
        "  'C15',\n",
        "  'C16',\n",
        "  'C17',\n",
        "  'C18',\n",
        "  'C19',\n",
        "  'C20',\n",
        "  'C21',\n",
        "  'C22',\n",
        "  'C23',\n",
        "  'C24',\n",
        "  'C25',\n",
        "  'C26'])"
       ]
      }
     ],
     "prompt_number": 29
    },
    {
     "cell_type": "code",
     "collapsed": false,
     "input": [],
     "language": "python",
     "metadata": {},
     "outputs": [],
     "prompt_number": 11
    },
    {
     "cell_type": "code",
     "collapsed": false,
     "input": [
      "rr = modelPredctor(modelsPath_modelIndex_dataPath_colNames_tuple)"
     ],
     "language": "python",
     "metadata": {},
     "outputs": []
    },
    {
     "cell_type": "code",
     "collapsed": false,
     "input": [
      "rr"
     ],
     "language": "python",
     "metadata": {},
     "outputs": [
      {
       "metadata": {},
       "output_type": "pyout",
       "prompt_number": 17,
       "text": [
        "btable((6042135,), [('Id', '<i8'), ('Predicted', '<f8')])\n",
        "  nbytes: 92.20 MB; cbytes: 2.54 MB; ratio: 36.30\n",
        "  bparams := bparams(clevel=5, shuffle=True, cname=blosclz)\n",
        "  rootdir := '/Users/DboyLiao/Desktop/DisplayAdvertisingChallenge/data/Model_No_3_Predict'\n",
        "[(60000000, 0.0) (60000001, 1.0) (60000002, 1.0) ..., (66042132, 0.0)\n",
        " (66042133, 0.0) (66042134, 0.0)]"
       ]
      }
     ],
     "prompt_number": 17
    },
    {
     "cell_type": "code",
     "collapsed": false,
     "input": [],
     "language": "python",
     "metadata": {},
     "outputs": []
    },
    {
     "cell_type": "code",
     "collapsed": false,
     "input": [],
     "language": "python",
     "metadata": {},
     "outputs": []
    },
    {
     "cell_type": "code",
     "collapsed": false,
     "input": [],
     "language": "python",
     "metadata": {},
     "outputs": []
    },
    {
     "cell_type": "code",
     "collapsed": false,
     "input": [
      "def get_separation_positions(totalN, divideN):\n",
      "    if totalN % divideN == 0:\n",
      "        return [i*divideN for i in range(totalN / divideN + 1)]\n",
      "    else:\n",
      "        return [i*divideN for i in range(totalN / divideN + 1)] + [totalN]\n",
      "\n",
      "    \n",
      "def get_separation_pairs(totalN, divideN):\n",
      "    return_list = get_separation_positions(totalN, divideN)\n",
      "    return zip(return_list[:-1], return_list[1:])"
     ],
     "language": "python",
     "metadata": {},
     "outputs": [],
     "prompt_number": 17
    },
    {
     "cell_type": "code",
     "collapsed": false,
     "input": [],
     "language": "python",
     "metadata": {},
     "outputs": []
    },
    {
     "cell_type": "code",
     "collapsed": false,
     "input": [
      "os.listdir(tools.TESTING_BLZ_PATH)"
     ],
     "language": "python",
     "metadata": {},
     "outputs": [
      {
       "metadata": {},
       "output_type": "pyout",
       "prompt_number": 21,
       "text": [
        "['C1',\n",
        " 'C10',\n",
        " 'C11',\n",
        " 'C12',\n",
        " 'C13',\n",
        " 'C14',\n",
        " 'C15',\n",
        " 'C16',\n",
        " 'C17',\n",
        " 'C18',\n",
        " 'C19',\n",
        " 'C2',\n",
        " 'C20',\n",
        " 'C21',\n",
        " 'C22',\n",
        " 'C23',\n",
        " 'C24',\n",
        " 'C25',\n",
        " 'C26',\n",
        " 'C3',\n",
        " 'C4',\n",
        " 'C5',\n",
        " 'C6',\n",
        " 'C7',\n",
        " 'C8',\n",
        " 'C9',\n",
        " 'I1',\n",
        " 'I10',\n",
        " 'I11',\n",
        " 'I12',\n",
        " 'I13',\n",
        " 'I2',\n",
        " 'I3',\n",
        " 'I4',\n",
        " 'I5',\n",
        " 'I6',\n",
        " 'I7',\n",
        " 'I8',\n",
        " 'I9',\n",
        " 'Id']"
       ]
      }
     ],
     "prompt_number": 21
    },
    {
     "cell_type": "code",
     "collapsed": false,
     "input": [],
     "language": "python",
     "metadata": {},
     "outputs": [],
     "prompt_number": 10
    },
    {
     "cell_type": "code",
     "collapsed": false,
     "input": [],
     "language": "python",
     "metadata": {},
     "outputs": []
    }
   ],
   "metadata": {}
  }
 ]
}