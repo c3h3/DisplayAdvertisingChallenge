{
 "metadata": {
  "name": "",
  "signature": "sha256:e682b094c6d53a33fd74ccd6e9e2eb575801b2ecdc1aa868ff56e8fa1dd34771"
 },
 "nbformat": 3,
 "nbformat_minor": 0,
 "worksheets": [
  {
   "cells": [
    {
     "cell_type": "markdown",
     "metadata": {},
     "source": [
      "## Shogun NeuralNet:\n",
      "- http://www.shogun-toolbox.org/static/notebook/current/neuralnets_digits.html\n",
      "- http://www.shogun-toolbox.org/static/notebook/current/rbms_dbns.html"
     ]
    },
    {
     "cell_type": "markdown",
     "metadata": {},
     "source": [
      "## LMNN:\n",
      "- http://shogun-toolbox.org/static/notebook/current/LMNN.html\n"
     ]
    },
    {
     "cell_type": "markdown",
     "metadata": {},
     "source": [
      "## Shogun:\n",
      "- http://www.shogun-toolbox.org/page/documentation/notebook\n",
      "- http://www.shogun-toolbox.org/static/notebook/current/gaussian_processes.html\n"
     ]
    },
    {
     "cell_type": "markdown",
     "metadata": {},
     "source": [
      "\n"
     ]
    },
    {
     "cell_type": "markdown",
     "metadata": {},
     "source": [
      "## Bagging:\n",
      "- http://nbviewer.ipython.org/github/ga-students/DS_HK_2/blob/gh-pages/notebooks/14%20-%20Random%20Forests.ipynb"
     ]
    },
    {
     "cell_type": "code",
     "collapsed": false,
     "input": [],
     "language": "python",
     "metadata": {},
     "outputs": [],
     "prompt_number": 0
    },
    {
     "cell_type": "code",
     "collapsed": false,
     "input": [],
     "language": "python",
     "metadata": {},
     "outputs": [],
     "prompt_number": 0
    },
    {
     "cell_type": "code",
     "collapsed": false,
     "input": [
      "from hunkaggle.criteo import tools\n",
      "from hunkaggle.criteo.settings import TRAINING_COLUMN_NAMES, TESTING_COLUMN_NAMES\n",
      "import blz, os\n",
      "import numpy as np\n",
      "from hunkaggle.criteo.settings import MODELS_PATH, SUBMITS_PATH\n"
     ],
     "language": "python",
     "metadata": {},
     "outputs": [],
     "prompt_number": 1
    },
    {
     "cell_type": "code",
     "collapsed": false,
     "input": [
      "from hunkaggle.criteo.settings import SOURCE_DATA_DIR"
     ],
     "language": "python",
     "metadata": {},
     "outputs": [],
     "prompt_number": 2
    },
    {
     "cell_type": "code",
     "collapsed": false,
     "input": [
      "AVG_MODELS_PATH = os.path.join(SOURCE_DATA_DIR, \"avg_models\")\n",
      "if not os.path.exists(AVG_MODELS_PATH):\n",
      "    os.mkdir(AVG_MODELS_PATH)\n"
     ],
     "language": "python",
     "metadata": {},
     "outputs": [],
     "prompt_number": 3
    },
    {
     "cell_type": "code",
     "collapsed": false,
     "input": [
      "from hunkaggle.criteo.models import *"
     ],
     "language": "python",
     "metadata": {},
     "outputs": [],
     "prompt_number": 4
    },
    {
     "cell_type": "code",
     "collapsed": false,
     "input": [
      "def get_labels_barray(selected_slice=None):\n",
      "    if selected_slice==None:\n",
      "        return blz.open(os.path.join(tools.TRAINING_BLZ_PATH,TRAINING_COLUMN_NAMES[1]))\n",
      "    else:\n",
      "        assert isinstance(selected_slice,slice)\n",
      "        return blz.open(os.path.join(tools.TRAINING_BLZ_PATH,TRAINING_COLUMN_NAMES[1]))[selected_slice]\n",
      "    \n",
      "    "
     ],
     "language": "python",
     "metadata": {},
     "outputs": [],
     "prompt_number": 5
    },
    {
     "cell_type": "code",
     "collapsed": false,
     "input": [],
     "language": "python",
     "metadata": {},
     "outputs": [],
     "prompt_number": 5
    },
    {
     "cell_type": "code",
     "collapsed": false,
     "input": [],
     "language": "python",
     "metadata": {},
     "outputs": [],
     "prompt_number": 5
    },
    {
     "cell_type": "code",
     "collapsed": false,
     "input": [],
     "language": "python",
     "metadata": {},
     "outputs": [],
     "prompt_number": 5
    },
    {
     "cell_type": "code",
     "collapsed": false,
     "input": [],
     "language": "python",
     "metadata": {},
     "outputs": [],
     "prompt_number": 5
    },
    {
     "cell_type": "code",
     "collapsed": false,
     "input": [
      "rf_models_v1_models_path = os.path.join(os.path.join(SOURCE_DATA_DIR, \"rf_models_v1\"))\n",
      "rf_series = ModelSeries(series_name=\"RFmss10ne200-40Groups\", series_home=rf_models_v1_models_path)"
     ],
     "language": "python",
     "metadata": {},
     "outputs": [],
     "prompt_number": 6
    },
    {
     "cell_type": "code",
     "collapsed": false,
     "input": [
      "models_list = ModelsList(*rf_series.series_models)"
     ],
     "language": "python",
     "metadata": {},
     "outputs": [],
     "prompt_number": 7
    },
    {
     "cell_type": "code",
     "collapsed": false,
     "input": [
      "barray_list = models_list.load_prediction_blz(datatype=\"training\", valuetype=\"predict_proba\")\n"
     ],
     "language": "python",
     "metadata": {},
     "outputs": [],
     "prompt_number": 8
    },
    {
     "cell_type": "code",
     "collapsed": false,
     "input": [],
     "language": "python",
     "metadata": {},
     "outputs": [],
     "prompt_number": 8
    },
    {
     "cell_type": "code",
     "collapsed": false,
     "input": [
      "data_slices = barray_list.divide_axis_into_eqaul_size_slices(0, limit_n_per_slice=30000000)"
     ],
     "language": "python",
     "metadata": {},
     "outputs": [],
     "prompt_number": 9
    },
    {
     "cell_type": "code",
     "collapsed": false,
     "input": [
      "one_slice = data_slices[0]"
     ],
     "language": "python",
     "metadata": {},
     "outputs": [],
     "prompt_number": 10
    },
    {
     "cell_type": "code",
     "collapsed": false,
     "input": [
      "one_slice = slice(0,None,2)"
     ],
     "language": "python",
     "metadata": {},
     "outputs": [],
     "prompt_number": 14
    },
    {
     "cell_type": "code",
     "collapsed": false,
     "input": [],
     "language": "python",
     "metadata": {},
     "outputs": [],
     "prompt_number": 13
    },
    {
     "cell_type": "code",
     "collapsed": false,
     "input": [],
     "language": "python",
     "metadata": {},
     "outputs": [],
     "prompt_number": 10
    },
    {
     "cell_type": "code",
     "collapsed": false,
     "input": [
      "%time com_arr = barray_list.select_all_barrays((one_slice,1))"
     ],
     "language": "python",
     "metadata": {},
     "outputs": [
      {
       "output_type": "stream",
       "stream": "stdout",
       "text": [
        "CPU times: user 1min 5s, sys: 1min 13s, total: 2min 18s\n",
        "Wall time: 25min 36s\n"
       ]
      }
     ],
     "prompt_number": 15
    },
    {
     "cell_type": "code",
     "collapsed": false,
     "input": [
      "X = com_arr"
     ],
     "language": "python",
     "metadata": {},
     "outputs": [],
     "prompt_number": 16
    },
    {
     "cell_type": "code",
     "collapsed": false,
     "input": [
      "y = get_labels_barray(one_slice)"
     ],
     "language": "python",
     "metadata": {},
     "outputs": [],
     "prompt_number": 17
    },
    {
     "cell_type": "code",
     "collapsed": false,
     "input": [
      "# from sklearn.svm import LinearSVC, SVC\n",
      "# clf = LinearSVC(C=1.0, penalty='l1',dual=False)"
     ],
     "language": "python",
     "metadata": {},
     "outputs": [],
     "prompt_number": 18
    },
    {
     "cell_type": "code",
     "collapsed": false,
     "input": [
      "# %time clf.fit(X,y)"
     ],
     "language": "python",
     "metadata": {},
     "outputs": [],
     "prompt_number": 19
    },
    {
     "cell_type": "code",
     "collapsed": false,
     "input": [],
     "language": "python",
     "metadata": {},
     "outputs": [],
     "prompt_number": 19
    },
    {
     "cell_type": "code",
     "collapsed": false,
     "input": [
      "from sklearn import linear_model"
     ],
     "language": "python",
     "metadata": {},
     "outputs": [],
     "prompt_number": 20
    },
    {
     "cell_type": "code",
     "collapsed": false,
     "input": [
      "sgd = linear_model.SGDClassifier(n_jobs=6,loss=\"log\")"
     ],
     "language": "python",
     "metadata": {},
     "outputs": [],
     "prompt_number": 21
    },
    {
     "cell_type": "code",
     "collapsed": false,
     "input": [
      " "
     ],
     "language": "python",
     "metadata": {},
     "outputs": [],
     "prompt_number": 98
    },
    {
     "cell_type": "code",
     "collapsed": false,
     "input": [],
     "language": "python",
     "metadata": {},
     "outputs": []
    },
    {
     "cell_type": "code",
     "collapsed": false,
     "input": [
      "%time sgd.fit(X,y)"
     ],
     "language": "python",
     "metadata": {},
     "outputs": [
      {
       "output_type": "stream",
       "stream": "stdout",
       "text": [
        "CPU times: user 16.6 s, sys: 0 ns, total: 16.6 s\n",
        "Wall time: 16.1 s\n"
       ]
      },
      {
       "metadata": {},
       "output_type": "pyout",
       "prompt_number": 22,
       "text": [
        "SGDClassifier(alpha=0.0001, class_weight=None, epsilon=0.1, eta0=0.0,\n",
        "       fit_intercept=True, l1_ratio=0.15, learning_rate='optimal',\n",
        "       loss='log', n_iter=5, n_jobs=6, penalty='l2', power_t=0.5,\n",
        "       random_state=None, rho=None, shuffle=False, verbose=0,\n",
        "       warm_start=False)"
       ]
      }
     ],
     "prompt_number": 22
    },
    {
     "cell_type": "code",
     "collapsed": false,
     "input": [
      "clf = sgd"
     ],
     "language": "python",
     "metadata": {},
     "outputs": [],
     "prompt_number": 23
    },
    {
     "cell_type": "code",
     "collapsed": false,
     "input": [],
     "language": "python",
     "metadata": {},
     "outputs": []
    },
    {
     "cell_type": "code",
     "collapsed": false,
     "input": [],
     "language": "python",
     "metadata": {},
     "outputs": []
    },
    {
     "cell_type": "code",
     "collapsed": false,
     "input": [
      "#from sklearn.ensemble import AdaBoostClassifier"
     ],
     "language": "python",
     "metadata": {},
     "outputs": [],
     "prompt_number": 24
    },
    {
     "cell_type": "code",
     "collapsed": false,
     "input": [
      "#ada = AdaBoostClassifier(base_estimator=sgd,n_estimators=5,learning_rate=1)"
     ],
     "language": "python",
     "metadata": {},
     "outputs": [],
     "prompt_number": 25
    },
    {
     "cell_type": "code",
     "collapsed": false,
     "input": [],
     "language": "python",
     "metadata": {},
     "outputs": [],
     "prompt_number": 19
    },
    {
     "cell_type": "code",
     "collapsed": false,
     "input": [
      "#%time ada.fit(X,y)"
     ],
     "language": "python",
     "metadata": {},
     "outputs": [],
     "prompt_number": 26
    },
    {
     "cell_type": "code",
     "collapsed": false,
     "input": [
      "clf.alpha"
     ],
     "language": "python",
     "metadata": {},
     "outputs": [
      {
       "metadata": {},
       "output_type": "pyout",
       "prompt_number": 29,
       "text": [
        "0.0001"
       ]
      }
     ],
     "prompt_number": 29
    },
    {
     "cell_type": "code",
     "collapsed": false,
     "input": [
      "clf.coef_"
     ],
     "language": "python",
     "metadata": {},
     "outputs": [
      {
       "metadata": {},
       "output_type": "pyout",
       "prompt_number": 30,
       "text": [
        "array([[-1.13693373,  1.20257741,  1.00712156,  0.6590648 ,  1.14054556,\n",
        "         0.18434327,  0.46461122,  1.17446432,  0.01290863, -1.38498719,\n",
        "         0.76740266,  1.37397978,  0.59247614,  0.47541524,  0.34376051,\n",
        "         0.02494069,  0.41208606,  0.49672162, -1.29465784, -0.57340027,\n",
        "         0.60864016,  0.30391386,  0.06641969, -0.27717885,  1.60425485,\n",
        "        -0.9684573 , -0.56010257, -0.36689504]])"
       ]
      }
     ],
     "prompt_number": 30
    },
    {
     "cell_type": "code",
     "collapsed": false,
     "input": [
      "pred_py = clf.predict_proba(X)[:,1]"
     ],
     "language": "python",
     "metadata": {},
     "outputs": [],
     "prompt_number": 31
    },
    {
     "cell_type": "code",
     "collapsed": false,
     "input": [
      "\n",
      "pred_py"
     ],
     "language": "python",
     "metadata": {},
     "outputs": [
      {
       "metadata": {},
       "output_type": "pyout",
       "prompt_number": 99,
       "text": [
        "array([ 0.42965269,  0.27086982,  0.39513078, ...,  0.23932049,\n",
        "        0.22048234,  0.19069835])"
       ]
      }
     ],
     "prompt_number": 99
    },
    {
     "cell_type": "code",
     "collapsed": false,
     "input": [
      "%matplotlib inline"
     ],
     "language": "python",
     "metadata": {},
     "outputs": [],
     "prompt_number": 100
    },
    {
     "cell_type": "code",
     "collapsed": false,
     "input": [
      "from matplotlib import pylab\n",
      "pylab.hist(pred_y,bins=200)\n",
      "pylab.xlim([0.0,1.0])\n",
      "pylab.xlabel(\"logloss\")"
     ],
     "language": "python",
     "metadata": {},
     "outputs": [
      {
       "metadata": {},
       "output_type": "pyout",
       "prompt_number": 137,
       "text": [
        "<matplotlib.text.Text at 0x7ff07c626d10>"
       ]
      },
      {
       "metadata": {},
       "output_type": "display_data",
       "png": "[encoded data removed]",
       "text": [
        "<matplotlib.figure.Figure at 0x7ff07c6e7210>"
       ]
      }
     ],
     "prompt_number": 137
    },
    {
     "cell_type": "code",
     "collapsed": false,
     "input": [],
     "language": "python",
     "metadata": {},
     "outputs": []
    },
    {
     "cell_type": "code",
     "collapsed": false,
     "input": [
      "np.where(pred_y > 0.4)[0].shape"
     ],
     "language": "python",
     "metadata": {},
     "outputs": [
      {
       "metadata": {},
       "output_type": "pyout",
       "prompt_number": 111,
       "text": [
        "(1213954,)"
       ]
      }
     ],
     "prompt_number": 111
    },
    {
     "cell_type": "code",
     "collapsed": false,
     "input": [
      "error_data_selector = pred_y > 0.4"
     ],
     "language": "python",
     "metadata": {},
     "outputs": [],
     "prompt_number": 113
    },
    {
     "cell_type": "code",
     "collapsed": false,
     "input": [
      "sgd2 = linear_model.SGDClassifier(n_jobs=6,loss=\"log\")"
     ],
     "language": "python",
     "metadata": {},
     "outputs": [],
     "prompt_number": 116
    },
    {
     "cell_type": "code",
     "collapsed": false,
     "input": [
      "%time sgd2.fit(X[pred_y>0.4,:],y[pred_y>0.4])"
     ],
     "language": "python",
     "metadata": {},
     "outputs": [
      {
       "output_type": "stream",
       "stream": "stdout",
       "text": [
        "CPU times: user 2.65 s, sys: 7.93 ms, total: 2.66 s\n",
        "Wall time: 2.63 s\n"
       ]
      },
      {
       "metadata": {},
       "output_type": "pyout",
       "prompt_number": 144,
       "text": [
        "SGDClassifier(alpha=0.0001, class_weight=None, epsilon=0.1, eta0=0.0,\n",
        "       fit_intercept=True, l1_ratio=0.15, learning_rate='optimal',\n",
        "       loss='log', n_iter=5, n_jobs=6, penalty='l2', power_t=0.5,\n",
        "       random_state=None, rho=None, shuffle=False, verbose=0,\n",
        "       warm_start=False)"
       ]
      }
     ],
     "prompt_number": 144
    },
    {
     "cell_type": "code",
     "collapsed": false,
     "input": [],
     "language": "python",
     "metadata": {},
     "outputs": []
    },
    {
     "cell_type": "code",
     "collapsed": false,
     "input": [
      "pred_py2 = sgd2.predict_proba(X)[:,1]"
     ],
     "language": "python",
     "metadata": {},
     "outputs": [],
     "prompt_number": 118
    },
    {
     "cell_type": "code",
     "collapsed": false,
     "input": [
      "pred_py2"
     ],
     "language": "python",
     "metadata": {},
     "outputs": [
      {
       "metadata": {},
       "output_type": "pyout",
       "prompt_number": 119,
       "text": [
        "array([ 0.20634783,  0.09524499,  0.44329296, ...,  0.25619159,\n",
        "        0.04612388,  0.20602913])"
       ]
      }
     ],
     "prompt_number": 119
    },
    {
     "cell_type": "code",
     "collapsed": false,
     "input": [
      "e1 = blz_llvec_fun(y, pred_py ).mean()\n",
      "e2 = blz_llvec_fun(y, pred_py2 ).mean()\n",
      "w1 = 1/e1\n",
      "w2 = 1/e2\n"
     ],
     "language": "python",
     "metadata": {},
     "outputs": [],
     "prompt_number": 133
    },
    {
     "cell_type": "code",
     "collapsed": false,
     "input": [
      "w1,w2"
     ],
     "language": "python",
     "metadata": {},
     "outputs": [
      {
       "metadata": {},
       "output_type": "pyout",
       "prompt_number": 134,
       "text": [
        "(2.0734562506291447, 1.5876848291188084)"
       ]
      }
     ],
     "prompt_number": 134
    },
    {
     "cell_type": "code",
     "collapsed": false,
     "input": [
      "blz_llvec_fun(y, (w1*pred_py+w2*pred_py2)/(w1+w2) ).mean()"
     ],
     "language": "python",
     "metadata": {},
     "outputs": [
      {
       "metadata": {},
       "output_type": "pyout",
       "prompt_number": 135,
       "text": [
        "0.48538057252352457"
       ]
      }
     ],
     "prompt_number": 135
    },
    {
     "cell_type": "code",
     "collapsed": false,
     "input": [],
     "language": "python",
     "metadata": {},
     "outputs": []
    },
    {
     "cell_type": "code",
     "collapsed": false,
     "input": [
      "w_pred_y = (w1*pred_py+w2*pred_py2)/(w1+w2)"
     ],
     "language": "python",
     "metadata": {},
     "outputs": [],
     "prompt_number": 136
    },
    {
     "cell_type": "code",
     "collapsed": false,
     "input": [
      "pylab.hist(w_pred_y,bins=200)\n",
      "pylab.xlim([0.0,1.0])\n",
      "pylab.xlabel(\"logloss\")"
     ],
     "language": "python",
     "metadata": {},
     "outputs": [
      {
       "metadata": {},
       "output_type": "pyout",
       "prompt_number": 138,
       "text": [
        "<matplotlib.text.Text at 0x7ff073ecdbd0>"
       ]
      },
      {
       "metadata": {},
       "output_type": "display_data",
       "png": "[encoded data removed]",
       "text": [
        "<matplotlib.figure.Figure at 0x7ff07c74e790>"
       ]
      }
     ],
     "prompt_number": 138
    },
    {
     "cell_type": "code",
     "collapsed": false,
     "input": [
      "np.where(w_pred_y > 0.2)[0].shape"
     ],
     "language": "python",
     "metadata": {},
     "outputs": [
      {
       "metadata": {},
       "output_type": "pyout",
       "prompt_number": 141,
       "text": [
        "(11154776,)"
       ]
      }
     ],
     "prompt_number": 141
    },
    {
     "cell_type": "code",
     "collapsed": false,
     "input": [
      "sgd3 = linear_model.SGDClassifier(n_jobs=6,loss=\"log\")"
     ],
     "language": "python",
     "metadata": {},
     "outputs": [],
     "prompt_number": 145
    },
    {
     "cell_type": "code",
     "collapsed": false,
     "input": [
      "%time sgd3.fit(X[w_pred_y > 0.2,:],y[w_pred_y > 0.2])"
     ],
     "language": "python",
     "metadata": {},
     "outputs": [
      {
       "output_type": "stream",
       "stream": "stdout",
       "text": [
        "CPU times: user 23.4 s, sys: 7.09 s, total: 30.5 s\n",
        "Wall time: 30.5 s\n"
       ]
      },
      {
       "metadata": {},
       "output_type": "pyout",
       "prompt_number": 146,
       "text": [
        "SGDClassifier(alpha=0.0001, class_weight=None, epsilon=0.1, eta0=0.0,\n",
        "       fit_intercept=True, l1_ratio=0.15, learning_rate='optimal',\n",
        "       loss='log', n_iter=5, n_jobs=6, penalty='l2', power_t=0.5,\n",
        "       random_state=None, rho=None, shuffle=False, verbose=0,\n",
        "       warm_start=False)"
       ]
      }
     ],
     "prompt_number": 146
    },
    {
     "cell_type": "code",
     "collapsed": false,
     "input": [
      "pred_py3 = sgd3.predict_proba(X)[:,1]"
     ],
     "language": "python",
     "metadata": {},
     "outputs": [],
     "prompt_number": 147
    },
    {
     "cell_type": "code",
     "collapsed": false,
     "input": [
      "e1 = blz_llvec_fun(y, pred_py ).mean()\n",
      "e2 = blz_llvec_fun(y, pred_py2 ).mean()\n",
      "e3 = blz_llvec_fun(y, pred_py3 ).mean()\n",
      "w1 = 1/e1\n",
      "w2 = 1/e2\n",
      "w3 = 1/e3"
     ],
     "language": "python",
     "metadata": {},
     "outputs": [],
     "prompt_number": 148
    },
    {
     "cell_type": "code",
     "collapsed": false,
     "input": [
      "w1,w2,w3"
     ],
     "language": "python",
     "metadata": {},
     "outputs": [
      {
       "metadata": {},
       "output_type": "pyout",
       "prompt_number": 149,
       "text": [
        "(2.0734562506291447, 1.5876848291188084, 2.0580707625943577)"
       ]
      }
     ],
     "prompt_number": 149
    },
    {
     "cell_type": "code",
     "collapsed": false,
     "input": [
      "w_pred_y3 = (w1*pred_py+w2*pred_py2+w3*pred_py3)/(w1+w2+w3)"
     ],
     "language": "python",
     "metadata": {},
     "outputs": [],
     "prompt_number": 150
    },
    {
     "cell_type": "code",
     "collapsed": false,
     "input": [
      "blz_llvec_fun(y, w_pred_y3 ).mean()"
     ],
     "language": "python",
     "metadata": {},
     "outputs": [
      {
       "metadata": {},
       "output_type": "pyout",
       "prompt_number": 151,
       "text": [
        "0.47855186065992"
       ]
      }
     ],
     "prompt_number": 151
    },
    {
     "cell_type": "code",
     "collapsed": false,
     "input": [
      "new_pred_prob = lambda XX: (w1*sgd.predict_proba(XX)[:,1]+w2*sgd2.predict_proba(XX)[:,1]+w3*sgd3.predict_proba(XX)[:,1])/(w1+w2+w3)"
     ],
     "language": "python",
     "metadata": {},
     "outputs": [],
     "prompt_number": 153
    },
    {
     "cell_type": "code",
     "collapsed": false,
     "input": [],
     "language": "python",
     "metadata": {},
     "outputs": []
    },
    {
     "cell_type": "code",
     "collapsed": false,
     "input": [
      "testX"
     ],
     "language": "python",
     "metadata": {},
     "outputs": [
      {
       "metadata": {},
       "output_type": "pyout",
       "prompt_number": 152,
       "text": [
        "array([[ 0.13414013,  0.15539327,  0.14581854, ...,  0.1620077 ,\n",
        "         0.12733278,  0.13673205],\n",
        "       [ 0.27061647,  0.2412793 ,  0.26536705, ...,  0.2439741 ,\n",
        "         0.19358482,  0.25123778],\n",
        "       [ 0.34938549,  0.32267601,  0.29932878, ...,  0.28274655,\n",
        "         0.299391  ,  0.29984075],\n",
        "       ..., \n",
        "       [ 0.30186111,  0.35004324,  0.34581358, ...,  0.37821937,\n",
        "         0.34791775,  0.32656575],\n",
        "       [ 0.14669652,  0.15978272,  0.13906528, ...,  0.12408951,\n",
        "         0.09845212,  0.11141909],\n",
        "       [ 0.24286908,  0.29686409,  0.26535211, ...,  0.25934161,\n",
        "         0.32765173,  0.22983039]])"
       ]
      }
     ],
     "prompt_number": 152
    },
    {
     "cell_type": "code",
     "collapsed": false,
     "input": [],
     "language": "python",
     "metadata": {},
     "outputs": []
    },
    {
     "cell_type": "code",
     "collapsed": false,
     "input": [],
     "language": "python",
     "metadata": {},
     "outputs": []
    },
    {
     "cell_type": "code",
     "collapsed": false,
     "input": [
      "fx = clf.decision_function(X)"
     ],
     "language": "python",
     "metadata": {},
     "outputs": [],
     "prompt_number": 33
    },
    {
     "cell_type": "code",
     "collapsed": false,
     "input": [
      "np.sum((clf.predict(X) - y)**2)"
     ],
     "language": "python",
     "metadata": {},
     "outputs": [
      {
       "metadata": {},
       "output_type": "pyout",
       "prompt_number": 34,
       "text": [
        "5102250"
       ]
      }
     ],
     "prompt_number": 34
    },
    {
     "cell_type": "code",
     "collapsed": false,
     "input": [
      "y.sum(), clf.predict(X).sum()"
     ],
     "language": "python",
     "metadata": {},
     "outputs": [
      {
       "metadata": {},
       "output_type": "pyout",
       "prompt_number": 35,
       "text": [
        "(5871501, 2646077)"
       ]
      }
     ],
     "prompt_number": 35
    },
    {
     "cell_type": "code",
     "collapsed": false,
     "input": [],
     "language": "python",
     "metadata": {},
     "outputs": []
    },
    {
     "cell_type": "code",
     "collapsed": false,
     "input": [
      "prob_func=lambda xx:0.5 + 0.5*erf(xx/(2**0.5))"
     ],
     "language": "python",
     "metadata": {},
     "outputs": [],
     "prompt_number": 36
    },
    {
     "cell_type": "code",
     "collapsed": false,
     "input": [
      "py = prob_func(fx)"
     ],
     "language": "python",
     "metadata": {},
     "outputs": [],
     "prompt_number": 37
    },
    {
     "cell_type": "code",
     "collapsed": false,
     "input": [
      "py"
     ],
     "language": "python",
     "metadata": {},
     "outputs": [
      {
       "metadata": {},
       "output_type": "pyout",
       "prompt_number": 38,
       "text": [
        "array([ 0.38848559,  0.16103478,  0.33512844, ...,  0.12375706,\n",
        "        0.10332015,  0.07416172])"
       ]
      }
     ],
     "prompt_number": 38
    },
    {
     "cell_type": "code",
     "collapsed": false,
     "input": [
      "lle = blz_llvec_fun(y, pred_py)"
     ],
     "language": "python",
     "metadata": {},
     "outputs": [],
     "prompt_number": 39
    },
    {
     "cell_type": "code",
     "collapsed": false,
     "input": [
      "lle.mean()"
     ],
     "language": "python",
     "metadata": {},
     "outputs": [
      {
       "metadata": {},
       "output_type": "pyout",
       "prompt_number": 40,
       "text": [
        "0.48228652024684487"
       ]
      }
     ],
     "prompt_number": 40
    },
    {
     "cell_type": "code",
     "collapsed": false,
     "input": [
      "lle"
     ],
     "language": "python",
     "metadata": {},
     "outputs": [
      {
       "metadata": {},
       "output_type": "pyout",
       "prompt_number": 41,
       "text": [
        "array([ 0.56150979,  0.315903  ,  0.50274301, ...,  0.27354316,\n",
        "        0.24907994,  0.21158357])"
       ]
      }
     ],
     "prompt_number": 41
    },
    {
     "cell_type": "code",
     "collapsed": false,
     "input": [
      "lle = blz_llvec_fun(y, py)"
     ],
     "language": "python",
     "metadata": {},
     "outputs": [],
     "prompt_number": 42
    },
    {
     "cell_type": "code",
     "collapsed": false,
     "input": [
      "lle.mean()"
     ],
     "language": "python",
     "metadata": {},
     "outputs": [
      {
       "metadata": {},
       "output_type": "pyout",
       "prompt_number": 43,
       "text": [
        "0.5415193472367813"
       ]
      }
     ],
     "prompt_number": 43
    },
    {
     "cell_type": "code",
     "collapsed": false,
     "input": [],
     "language": "python",
     "metadata": {},
     "outputs": [],
     "prompt_number": 33
    },
    {
     "cell_type": "code",
     "collapsed": false,
     "input": [
      "X"
     ],
     "language": "python",
     "metadata": {},
     "outputs": [
      {
       "metadata": {},
       "output_type": "pyout",
       "prompt_number": 98,
       "text": [
        "array([[ 0.3718933 ,  0.39495171,  0.40121028, ...,  0.37160311,\n",
        "         0.38222427,  0.37605154],\n",
        "       [ 0.29312695,  0.24503231,  0.27499109, ...,  0.21550165,\n",
        "         0.27722129,  0.34824829],\n",
        "       [ 0.39258165,  0.35301869,  0.39484548, ...,  0.41029788,\n",
        "         0.33245695,  0.27661734],\n",
        "       ..., \n",
        "       [ 0.36378526,  0.25827003,  0.34493063, ...,  0.26124015,\n",
        "         0.30116759,  0.2867253 ],\n",
        "       [ 0.26290212,  0.28464631,  0.35847923, ...,  0.25669399,\n",
        "         0.25714538,  0.21400756],\n",
        "       [ 0.18535669,  0.24681334,  0.24996835, ...,  0.22706912,\n",
        "         0.23553082,  0.27836587]])"
       ]
      }
     ],
     "prompt_number": 98
    },
    {
     "cell_type": "code",
     "collapsed": false,
     "input": [
      "#del X"
     ],
     "language": "python",
     "metadata": {},
     "outputs": [],
     "prompt_number": 71
    },
    {
     "cell_type": "code",
     "collapsed": false,
     "input": [
      "data_slices[0]"
     ],
     "language": "python",
     "metadata": {},
     "outputs": [
      {
       "metadata": {},
       "output_type": "pyout",
       "prompt_number": 44,
       "text": [
        "slice(0, 22920309, None)"
       ]
      }
     ],
     "prompt_number": 44
    },
    {
     "cell_type": "code",
     "collapsed": false,
     "input": [
      "test_slice = slice(1,100000,2)"
     ],
     "language": "python",
     "metadata": {},
     "outputs": [],
     "prompt_number": 46
    },
    {
     "cell_type": "code",
     "collapsed": false,
     "input": [
      "s0 = 43000000"
     ],
     "language": "python",
     "metadata": {},
     "outputs": [],
     "prompt_number": 178
    },
    {
     "cell_type": "code",
     "collapsed": false,
     "input": [
      "test_slice = slice(s0+0,s0+1000000,2)"
     ],
     "language": "python",
     "metadata": {},
     "outputs": [],
     "prompt_number": 179
    },
    {
     "cell_type": "code",
     "collapsed": false,
     "input": [
      "%time testXX = barray_list.select_all_barrays((test_slice,1))"
     ],
     "language": "python",
     "metadata": {},
     "outputs": [
      {
       "output_type": "stream",
       "stream": "stdout",
       "text": [
        "CPU times: user 1.78 s, sys: 2.37 s, total: 4.14 s\n",
        "Wall time: 33.1 s\n"
       ]
      }
     ],
     "prompt_number": 180
    },
    {
     "cell_type": "code",
     "collapsed": false,
     "input": [
      "testy = get_labels_barray(test_slice)"
     ],
     "language": "python",
     "metadata": {},
     "outputs": [],
     "prompt_number": 181
    },
    {
     "cell_type": "code",
     "collapsed": false,
     "input": [
      "testXX_py = new_pred_prob(testXX)"
     ],
     "language": "python",
     "metadata": {},
     "outputs": [],
     "prompt_number": 182
    },
    {
     "cell_type": "code",
     "collapsed": false,
     "input": [
      "testXX_py"
     ],
     "language": "python",
     "metadata": {},
     "outputs": [
      {
       "metadata": {},
       "output_type": "pyout",
       "prompt_number": 183,
       "text": [
        "array([ 0.14518575,  0.75668702,  0.08392243, ...,  0.49273153,\n",
        "        0.24744461,  0.1525763 ])"
       ]
      }
     ],
     "prompt_number": 183
    },
    {
     "cell_type": "code",
     "collapsed": false,
     "input": [
      " blz_llvec_fun(testy, testXX_py).mean()"
     ],
     "language": "python",
     "metadata": {},
     "outputs": [
      {
       "metadata": {},
       "output_type": "pyout",
       "prompt_number": 184,
       "text": [
        "0.49652730402930578"
       ]
      }
     ],
     "prompt_number": 184
    },
    {
     "cell_type": "code",
     "collapsed": false,
     "input": [],
     "language": "python",
     "metadata": {},
     "outputs": []
    },
    {
     "cell_type": "code",
     "collapsed": false,
     "input": [],
     "language": "python",
     "metadata": {},
     "outputs": []
    },
    {
     "cell_type": "code",
     "collapsed": false,
     "input": [],
     "language": "python",
     "metadata": {},
     "outputs": []
    },
    {
     "cell_type": "code",
     "collapsed": false,
     "input": [
      "np.sum((clf.predict(testX) - testy)**2)"
     ],
     "language": "python",
     "metadata": {},
     "outputs": [
      {
       "metadata": {},
       "output_type": "pyout",
       "prompt_number": 78,
       "text": [
        "10678"
       ]
      }
     ],
     "prompt_number": 78
    },
    {
     "cell_type": "code",
     "collapsed": false,
     "input": [
      "clf.predict(testX).sum(), testy.sum()"
     ],
     "language": "python",
     "metadata": {},
     "outputs": [
      {
       "metadata": {},
       "output_type": "pyout",
       "prompt_number": 79,
       "text": [
        "(6089, 13083)"
       ]
      }
     ],
     "prompt_number": 79
    },
    {
     "cell_type": "code",
     "collapsed": false,
     "input": [
      "testpy = prob_func(testfx)"
     ],
     "language": "python",
     "metadata": {},
     "outputs": [],
     "prompt_number": 80
    },
    {
     "cell_type": "code",
     "collapsed": false,
     "input": [
      "testpy"
     ],
     "language": "python",
     "metadata": {},
     "outputs": [
      {
       "metadata": {},
       "output_type": "pyout",
       "prompt_number": 81,
       "text": [
        "array([ 0.99165794,  0.13006476,  0.66332557, ...,  0.07461157,\n",
        "        0.86368174,  0.04936835])"
       ]
      }
     ],
     "prompt_number": 81
    },
    {
     "cell_type": "code",
     "collapsed": false,
     "input": [
      "test_lle = blz_llvec_fun(testy, testpy)"
     ],
     "language": "python",
     "metadata": {},
     "outputs": [],
     "prompt_number": 82
    },
    {
     "cell_type": "code",
     "collapsed": false,
     "input": [
      "test_lle.mean()"
     ],
     "language": "python",
     "metadata": {},
     "outputs": [
      {
       "metadata": {},
       "output_type": "pyout",
       "prompt_number": 83,
       "text": [
        "0.50316178439294279"
       ]
      }
     ],
     "prompt_number": 83
    },
    {
     "cell_type": "code",
     "collapsed": false,
     "input": [
      "test_pred_py = clf.predict_proba(testX)[:,1]"
     ],
     "language": "python",
     "metadata": {},
     "outputs": [],
     "prompt_number": 84
    },
    {
     "cell_type": "code",
     "collapsed": false,
     "input": [
      "test_lle = blz_llvec_fun(testy, test_pred_py)"
     ],
     "language": "python",
     "metadata": {},
     "outputs": [],
     "prompt_number": 85
    },
    {
     "cell_type": "code",
     "collapsed": false,
     "input": [
      "test_lle.mean()"
     ],
     "language": "python",
     "metadata": {},
     "outputs": [
      {
       "metadata": {},
       "output_type": "pyout",
       "prompt_number": 86,
       "text": [
        "0.46451169668740649"
       ]
      }
     ],
     "prompt_number": 86
    },
    {
     "cell_type": "code",
     "collapsed": false,
     "input": [],
     "language": "python",
     "metadata": {},
     "outputs": []
    },
    {
     "cell_type": "code",
     "collapsed": false,
     "input": [],
     "language": "python",
     "metadata": {},
     "outputs": [],
     "prompt_number": 87
    },
    {
     "cell_type": "code",
     "collapsed": false,
     "input": [
      "test_barray_list = models_list.load_prediction_blz(datatype=\"testing\", valuetype=\"predict_proba\")\n"
     ],
     "language": "python",
     "metadata": {},
     "outputs": [],
     "prompt_number": 88
    },
    {
     "cell_type": "code",
     "collapsed": false,
     "input": [
      "test_barray_list[:3]"
     ],
     "language": "python",
     "metadata": {},
     "outputs": [
      {
       "metadata": {},
       "output_type": "pyout",
       "prompt_number": 90,
       "text": [
        "[barray((6042135, 2), float64)\n",
        "   nbytes: 92.20 MB; cbytes: 81.01 MB; ratio: 1.14\n",
        "   bparams := bparams(clevel=5, shuffle=True, cname=blosclz)\n",
        "   rootdir := '/home/c3h3/c3h3works/Kaggles/GithubRepos/DisplayAdvertisingChallenge/data/rf_models_v1/RFmss10ne200-40Groups_ffca52ca-3d54-11e4-9872-5a1064dce9ab/all_testing_prediction/predict_proba'\n",
        " [[ 0.86585987  0.13414013]\n",
        "  [ 0.72938353  0.27061647]\n",
        "  [ 0.65061451  0.34938549]\n",
        "  ..., \n",
        "  [ 0.69813889  0.30186111]\n",
        "  [ 0.85330348  0.14669652]\n",
        "  [ 0.75713092  0.24286908]], barray((6042135, 2), float64)\n",
        "   nbytes: 92.20 MB; cbytes: 81.01 MB; ratio: 1.14\n",
        "   bparams := bparams(clevel=5, shuffle=True, cname=blosclz)\n",
        "   rootdir := '/home/c3h3/c3h3works/Kaggles/GithubRepos/DisplayAdvertisingChallenge/data/rf_models_v1/RFmss10ne200-40Groups_96e6dfac-3dfa-11e4-9872-5a1064dce9ab/all_testing_prediction/predict_proba'\n",
        " [[ 0.84460673  0.15539327]\n",
        "  [ 0.7587207   0.2412793 ]\n",
        "  [ 0.67732399  0.32267601]\n",
        "  ..., \n",
        "  [ 0.64995676  0.35004324]\n",
        "  [ 0.84021728  0.15978272]\n",
        "  [ 0.70313591  0.29686409]], barray((6042135, 2), float64)\n",
        "   nbytes: 92.20 MB; cbytes: 81.01 MB; ratio: 1.14\n",
        "   bparams := bparams(clevel=5, shuffle=True, cname=blosclz)\n",
        "   rootdir := '/home/c3h3/c3h3works/Kaggles/GithubRepos/DisplayAdvertisingChallenge/data/rf_models_v1/RFmss10ne200-40Groups_1ef4e8dc-3de5-11e4-9872-5a1064dce9ab/all_testing_prediction/predict_proba'\n",
        " [[ 0.85418146  0.14581854]\n",
        "  [ 0.73463295  0.26536705]\n",
        "  [ 0.70067122  0.29932878]\n",
        "  ..., \n",
        "  [ 0.65418642  0.34581358]\n",
        "  [ 0.86093472  0.13906528]\n",
        "  [ 0.73464789  0.26535211]]]"
       ]
      }
     ],
     "prompt_number": 90
    },
    {
     "cell_type": "code",
     "collapsed": false,
     "input": [
      "testX.shape"
     ],
     "language": "python",
     "metadata": {},
     "outputs": [
      {
       "metadata": {},
       "output_type": "pyout",
       "prompt_number": 154,
       "text": [
        "(6042135, 28)"
       ]
      }
     ],
     "prompt_number": 154
    },
    {
     "cell_type": "code",
     "collapsed": false,
     "input": [
      "%time testX = test_barray_list.select_all_barrays((slice(0,None,None),1))"
     ],
     "language": "python",
     "metadata": {},
     "outputs": [
      {
       "output_type": "stream",
       "stream": "stdout",
       "text": [
        "CPU times: user 8.9 s, sys: 8.21 s, total: 17.1 s\n",
        "Wall time: 3min 5s\n"
       ]
      }
     ],
     "prompt_number": 91
    },
    {
     "cell_type": "code",
     "collapsed": false,
     "input": [
      "pred_y = new_pred_prob(testX)"
     ],
     "language": "python",
     "metadata": {},
     "outputs": [],
     "prompt_number": 155
    },
    {
     "cell_type": "code",
     "collapsed": false,
     "input": [
      "pred_y"
     ],
     "language": "python",
     "metadata": {},
     "outputs": [
      {
       "metadata": {},
       "output_type": "pyout",
       "prompt_number": 156,
       "text": [
        "array([ 0.1130362 ,  0.19875298,  0.28399803, ...,  0.33737572,\n",
        "        0.10764523,  0.20692918])"
       ]
      }
     ],
     "prompt_number": 156
    },
    {
     "cell_type": "code",
     "collapsed": false,
     "input": [],
     "language": "python",
     "metadata": {},
     "outputs": []
    },
    {
     "cell_type": "code",
     "collapsed": false,
     "input": [
      "prediction_prob = pred_y\n",
      "submit_format=\"%d,%.10f\"\n",
      "ids_barray = blz.open(os.path.join(tools.TESTING_BLZ_PATH,TESTING_COLUMN_NAMES[0]))\n",
      "bt = blz.btable(columns=[ids_barray,prediction_prob], names=[\"Id\",\"Predicted\"])\n",
      "all_results = [submit_format % tuple(xx) for xx in bt.iter()]\n",
      "all_results_string = \"\\n\".join([\",\".join(bt.names)] + all_results)\n",
      "        \n",
      "submit_filename = \"%s_%s.csv\" % (\"sgd_on_rf_models_v2\", datetime.datetime.now().strftime(\"%Y%m%d%H%M%S\"))\n",
      "        \n",
      "submit_filepath = os.path.join(SUBMITS_PATH,submit_filename)\n",
      "        \n",
      "with open(submit_filepath,\"w\") as wf:\n",
      "    wf.write(all_results_string)"
     ],
     "language": "python",
     "metadata": {},
     "outputs": [],
     "prompt_number": 157
    },
    {
     "cell_type": "code",
     "collapsed": false,
     "input": [],
     "language": "python",
     "metadata": {},
     "outputs": []
    },
    {
     "cell_type": "code",
     "collapsed": false,
     "input": [],
     "language": "python",
     "metadata": {},
     "outputs": []
    },
    {
     "cell_type": "code",
     "collapsed": false,
     "input": [],
     "language": "python",
     "metadata": {},
     "outputs": []
    },
    {
     "cell_type": "code",
     "collapsed": false,
     "input": [],
     "language": "python",
     "metadata": {},
     "outputs": []
    },
    {
     "cell_type": "code",
     "collapsed": false,
     "input": [],
     "language": "python",
     "metadata": {},
     "outputs": []
    },
    {
     "cell_type": "code",
     "collapsed": false,
     "input": [],
     "language": "python",
     "metadata": {},
     "outputs": []
    },
    {
     "cell_type": "code",
     "collapsed": false,
     "input": [
      "from modshogun import RealFeatures, MulticlassLabels\n",
      "\n",
      "features = RealFeatures(X.T)\n",
      "labels   = MulticlassLabels(y.astype(np.float64))"
     ],
     "language": "python",
     "metadata": {},
     "outputs": [],
     "prompt_number": 14
    },
    {
     "cell_type": "code",
     "collapsed": false,
     "input": [],
     "language": "python",
     "metadata": {},
     "outputs": [],
     "prompt_number": 14
    },
    {
     "cell_type": "code",
     "collapsed": false,
     "input": [
      "from modshogun import LMNN\n",
      "\n",
      "# number of target neighbours per example\n",
      "k = 1\n",
      "\n"
     ],
     "language": "python",
     "metadata": {},
     "outputs": [],
     "prompt_number": 15
    },
    {
     "cell_type": "code",
     "collapsed": false,
     "input": [
      "%time lmnn = LMNN(features,labels,k)"
     ],
     "language": "python",
     "metadata": {},
     "outputs": [
      {
       "output_type": "stream",
       "stream": "stdout",
       "text": [
        "CPU times: user 75 \u00b5s, sys: 120 \u00b5s, total: 195 \u00b5s\n",
        "Wall time: 22.4 ms\n"
       ]
      }
     ],
     "prompt_number": 16
    },
    {
     "cell_type": "code",
     "collapsed": false,
     "input": [
      "# set an initial transform as a start point of the optimization\n",
      "init_transform = np.eye(X.shape[1])\n"
     ],
     "language": "python",
     "metadata": {},
     "outputs": [],
     "prompt_number": 17
    },
    {
     "cell_type": "code",
     "collapsed": false,
     "input": [
      "%time lmnn.set_maxiter(5000)"
     ],
     "language": "python",
     "metadata": {},
     "outputs": [
      {
       "output_type": "stream",
       "stream": "stdout",
       "text": [
        "CPU times: user 7 \u00b5s, sys: 3 \u00b5s, total: 10 \u00b5s\n",
        "Wall time: 13.1 \u00b5s\n"
       ]
      }
     ],
     "prompt_number": 18
    },
    {
     "cell_type": "code",
     "collapsed": false,
     "input": [
      "%time lmnn.train(init_transform)"
     ],
     "language": "python",
     "metadata": {},
     "outputs": [
      {
       "output_type": "stream",
       "stream": "stdout",
       "text": [
        "CPU times: user 2min 17s, sys: 1.02 s, total: 2min 18s\n",
        "Wall time: 2min 16s\n"
       ]
      }
     ],
     "prompt_number": 19
    },
    {
     "cell_type": "code",
     "collapsed": false,
     "input": [],
     "language": "python",
     "metadata": {},
     "outputs": [],
     "prompt_number": 19
    },
    {
     "cell_type": "code",
     "collapsed": false,
     "input": [
      "L = lmnn.get_linear_transform()"
     ],
     "language": "python",
     "metadata": {},
     "outputs": [],
     "prompt_number": 20
    },
    {
     "cell_type": "code",
     "collapsed": false,
     "input": [
      "#L"
     ],
     "language": "python",
     "metadata": {},
     "outputs": [],
     "prompt_number": 35
    },
    {
     "cell_type": "code",
     "collapsed": false,
     "input": [],
     "language": "python",
     "metadata": {},
     "outputs": [],
     "prompt_number": 49
    },
    {
     "cell_type": "code",
     "collapsed": false,
     "input": [
      "XL = np.dot(X, L.T)"
     ],
     "language": "python",
     "metadata": {},
     "outputs": [],
     "prompt_number": 21
    },
    {
     "cell_type": "code",
     "collapsed": false,
     "input": [
      "from sklearn.svm import LinearSVC, SVC"
     ],
     "language": "python",
     "metadata": {},
     "outputs": [],
     "prompt_number": 22
    },
    {
     "cell_type": "code",
     "collapsed": false,
     "input": [
      "clf = LinearSVC(penalty='l1',dual=False)"
     ],
     "language": "python",
     "metadata": {},
     "outputs": [],
     "prompt_number": 23
    },
    {
     "cell_type": "code",
     "collapsed": false,
     "input": [
      "%time clf.fit(XL,y)"
     ],
     "language": "python",
     "metadata": {},
     "outputs": [
      {
       "output_type": "stream",
       "stream": "stdout",
       "text": [
        "CPU times: user 34.9 ms, sys: 333 \u00b5s, total: 35.2 ms\n",
        "Wall time: 34.9 ms\n"
       ]
      },
      {
       "metadata": {},
       "output_type": "pyout",
       "prompt_number": 24,
       "text": [
        "LinearSVC(C=1.0, class_weight=None, dual=False, fit_intercept=True,\n",
        "     intercept_scaling=1, loss='l2', multi_class='ovr', penalty='l1',\n",
        "     random_state=None, tol=0.0001, verbose=0)"
       ]
      }
     ],
     "prompt_number": 24
    },
    {
     "cell_type": "code",
     "collapsed": false,
     "input": [
      "pred = clf.predict(XL) "
     ],
     "language": "python",
     "metadata": {},
     "outputs": [],
     "prompt_number": 25
    },
    {
     "cell_type": "code",
     "collapsed": false,
     "input": [
      "np.sum((clf.predict(XL) - y)**2)"
     ],
     "language": "python",
     "metadata": {},
     "outputs": [
      {
       "metadata": {},
       "output_type": "pyout",
       "prompt_number": 32,
       "text": [
        "0"
       ]
      }
     ],
     "prompt_number": 32
    },
    {
     "cell_type": "code",
     "collapsed": false,
     "input": [
      "y"
     ],
     "language": "python",
     "metadata": {},
     "outputs": [
      {
       "metadata": {},
       "output_type": "pyout",
       "prompt_number": 31,
       "text": [
        "array([0, 0, 0, ..., 0, 0, 0])"
       ]
      }
     ],
     "prompt_number": 31
    },
    {
     "cell_type": "code",
     "collapsed": false,
     "input": [
      "\n"
     ],
     "language": "python",
     "metadata": {},
     "outputs": []
    },
    {
     "cell_type": "code",
     "collapsed": false,
     "input": [
      "new_slice = barray_list.divide_axis_into_eqaul_size_slices(0, limit_n_per_slice=5000000)[-1]"
     ],
     "language": "python",
     "metadata": {},
     "outputs": [],
     "prompt_number": 36
    },
    {
     "cell_type": "code",
     "collapsed": false,
     "input": [
      "%time newX = barray_list.select_all_barrays((new_slice,1))"
     ],
     "language": "python",
     "metadata": {},
     "outputs": [
      {
       "output_type": "stream",
       "stream": "stdout",
       "text": [
        "CPU times: user 7.71 s, sys: 6.08 s, total: 13.8 s\n",
        "Wall time: 3min 1s\n"
       ]
      }
     ],
     "prompt_number": 37
    },
    {
     "cell_type": "code",
     "collapsed": false,
     "input": [
      "%time y = get_labels_barray(new_slice)"
     ],
     "language": "python",
     "metadata": {},
     "outputs": [
      {
       "output_type": "stream",
       "stream": "stdout",
       "text": [
        "CPU times: user 96 ms, sys: 43.7 ms, total: 140 ms\n",
        "Wall time: 1.12 s\n"
       ]
      }
     ],
     "prompt_number": 41
    },
    {
     "cell_type": "code",
     "collapsed": false,
     "input": [
      "newX.shape"
     ],
     "language": "python",
     "metadata": {},
     "outputs": [
      {
       "metadata": {},
       "output_type": "pyout",
       "prompt_number": 39,
       "text": [
        "(4584059, 28)"
       ]
      }
     ],
     "prompt_number": 39
    },
    {
     "cell_type": "code",
     "collapsed": false,
     "input": [
      "newXL = np.dot(newX, L.T)"
     ],
     "language": "python",
     "metadata": {},
     "outputs": [],
     "prompt_number": 40
    },
    {
     "cell_type": "code",
     "collapsed": false,
     "input": [
      "pred = clf.predict(newXL) "
     ],
     "language": "python",
     "metadata": {},
     "outputs": [],
     "prompt_number": 43
    },
    {
     "cell_type": "code",
     "collapsed": false,
     "input": [
      "np.sum((pred - y)**2)"
     ],
     "language": "python",
     "metadata": {},
     "outputs": [
      {
       "metadata": {},
       "output_type": "pyout",
       "prompt_number": 46,
       "text": [
        "1123883"
       ]
      }
     ],
     "prompt_number": 46
    },
    {
     "cell_type": "code",
     "collapsed": false,
     "input": [
      "y.sum()"
     ],
     "language": "python",
     "metadata": {},
     "outputs": [
      {
       "metadata": {},
       "output_type": "pyout",
       "prompt_number": 47,
       "text": [
        "1188540"
       ]
      }
     ],
     "prompt_number": 47
    },
    {
     "cell_type": "code",
     "collapsed": false,
     "input": [
      "pred.sum()"
     ],
     "language": "python",
     "metadata": {},
     "outputs": [
      {
       "metadata": {},
       "output_type": "pyout",
       "prompt_number": 48,
       "text": [
        "596603"
       ]
      }
     ],
     "prompt_number": 48
    },
    {
     "cell_type": "code",
     "collapsed": false,
     "input": [],
     "language": "python",
     "metadata": {},
     "outputs": []
    },
    {
     "cell_type": "code",
     "collapsed": false,
     "input": [],
     "language": "python",
     "metadata": {},
     "outputs": []
    },
    {
     "cell_type": "code",
     "collapsed": false,
     "input": [],
     "language": "python",
     "metadata": {},
     "outputs": []
    },
    {
     "cell_type": "code",
     "collapsed": false,
     "input": [],
     "language": "python",
     "metadata": {},
     "outputs": []
    },
    {
     "cell_type": "code",
     "collapsed": false,
     "input": [],
     "language": "python",
     "metadata": {},
     "outputs": []
    },
    {
     "cell_type": "code",
     "collapsed": false,
     "input": [],
     "language": "python",
     "metadata": {},
     "outputs": []
    },
    {
     "cell_type": "code",
     "collapsed": false,
     "input": [
      "one_slice = barray_list.generate_axis_dividing_slice_selectors()"
     ],
     "language": "python",
     "metadata": {},
     "outputs": []
    },
    {
     "cell_type": "code",
     "collapsed": false,
     "input": [
      "one_slice = barray_list.divide_axis_into_eqaul_size_slices(0, limit_n_per_slice=2000000)[0]"
     ],
     "language": "python",
     "metadata": {},
     "outputs": []
    },
    {
     "cell_type": "code",
     "collapsed": false,
     "input": [
      "%time barr = barray_list.select_and_apply(limit_n_per_slice = 1000000)"
     ],
     "language": "python",
     "metadata": {},
     "outputs": [
      {
       "output_type": "stream",
       "stream": "stdout",
       "text": [
        "selected_slices =  [(slice(0, 996536, None), slice(1, 2, None)), (slice(996536, 1993072, None), slice(1, 2, None)), (slice(1993072, 2989608, None), slice(1, 2, None)), (slice(2989608, 3986144, None), slice(1, 2, None)), (slice(3986144, 4982680, None), slice(1, 2, None)), (slice(4982680, 5979216, None), slice(1, 2, None)), (slice(5979216, 6975752, None), slice(1, 2, None)), (slice(6975752, 7972288, None), slice(1, 2, None)), (slice(7972288, 8968824, None), slice(1, 2, None)), (slice(8968824, 9965360, None), slice(1, 2, None)), (slice(9965360, 10961896, None), slice(1, 2, None)), (slice(10961896, 11958432, None), slice(1, 2, None)), (slice(11958432, 12954968, None), slice(1, 2, None)), (slice(12954968, 13951504, None), slice(1, 2, None)), (slice(13951504, 14948040, None), slice(1, 2, None)), (slice(14948040, 15944576, None), slice(1, 2, None)), (slice(15944576, 16941112, None), slice(1, 2, None)), (slice(16941112, 17937648, None), slice(1, 2, None)), (slice(17937648, 18934184, None), slice(1, 2, None)), (slice(18934184, 19930720, None), slice(1, 2, None)), (slice(19930720, 20927256, None), slice(1, 2, None)), (slice(20927256, 21923792, None), slice(1, 2, None)), (slice(21923792, 22920328, None), slice(1, 2, None)), (slice(22920328, 23916864, None), slice(1, 2, None)), (slice(23916864, 24913400, None), slice(1, 2, None)), (slice(24913400, 25909936, None), slice(1, 2, None)), (slice(25909936, 26906472, None), slice(1, 2, None)), (slice(26906472, 27903008, None), slice(1, 2, None)), (slice(27903008, 28899544, None), slice(1, 2, None)), (slice(28899544, 29896080, None), slice(1, 2, None)), (slice(29896080, 30892616, None), slice(1, 2, None)), (slice(30892616, 31889152, None), slice(1, 2, None)), (slice(31889152, 32885688, None), slice(1, 2, None)), (slice(32885688, 33882224, None), slice(1, 2, None)), (slice(33882224, 34878760, None), slice(1, 2, None)), (slice(34878760, 35875296, None), slice(1, 2, None)), (slice(35875296, 36871832, None), slice(1, 2, None)), (slice(36871832, 37868368, None), slice(1, 2, None)), (slice(37868368, 38864904, None), slice(1, 2, None)), (slice(38864904, 39861440, None), slice(1, 2, None)), (slice(39861440, 40857976, None), slice(1, 2, None)), (slice(40857976, 41854512, None), slice(1, 2, None)), (slice(41854512, 42851048, None), slice(1, 2, None)), (slice(42851048, 43847584, None), slice(1, 2, None)), (slice(43847584, 44844120, None), slice(1, 2, None)), (slice(44844120, 45840617, None), slice(1, 2, None))]\n",
        "applying one_selected_slices = "
       ]
      },
      {
       "output_type": "stream",
       "stream": "stdout",
       "text": [
        " (slice(996536, 1993072, None), slice(1, 2, None))\n",
        "applying one_selected_slices = "
       ]
      },
      {
       "output_type": "stream",
       "stream": "stdout",
       "text": [
        " (slice(1993072, 2989608, None), slice(1, 2, None))\n",
        "applying one_selected_slices = "
       ]
      },
      {
       "output_type": "stream",
       "stream": "stdout",
       "text": [
        " (slice(2989608, 3986144, None), slice(1, 2, None))\n",
        "applying one_selected_slices = "
       ]
      },
      {
       "output_type": "stream",
       "stream": "stdout",
       "text": [
        " (slice(3986144, 4982680, None), slice(1, 2, None))\n",
        "applying one_selected_slices = "
       ]
      },
      {
       "output_type": "stream",
       "stream": "stdout",
       "text": [
        " (slice(4982680, 5979216, None), slice(1, 2, None))\n",
        "applying one_selected_slices = "
       ]
      },
      {
       "output_type": "stream",
       "stream": "stdout",
       "text": [
        " (slice(5979216, 6975752, None), slice(1, 2, None))\n",
        "applying one_selected_slices = "
       ]
      },
      {
       "output_type": "stream",
       "stream": "stdout",
       "text": [
        " (slice(6975752, 7972288, None), slice(1, 2, None))\n",
        "applying one_selected_slices = "
       ]
      },
      {
       "output_type": "stream",
       "stream": "stdout",
       "text": [
        " (slice(7972288, 8968824, None), slice(1, 2, None))\n",
        "applying one_selected_slices = "
       ]
      },
      {
       "output_type": "stream",
       "stream": "stdout",
       "text": [
        " (slice(8968824, 9965360, None), slice(1, 2, None))\n",
        "applying one_selected_slices = "
       ]
      },
      {
       "output_type": "stream",
       "stream": "stdout",
       "text": [
        " (slice(9965360, 10961896, None), slice(1, 2, None))\n",
        "applying one_selected_slices = "
       ]
      },
      {
       "output_type": "stream",
       "stream": "stdout",
       "text": [
        " (slice(10961896, 11958432, None), slice(1, 2, None))\n",
        "applying one_selected_slices = "
       ]
      },
      {
       "output_type": "stream",
       "stream": "stdout",
       "text": [
        " (slice(11958432, 12954968, None), slice(1, 2, None))\n",
        "applying one_selected_slices = "
       ]
      },
      {
       "output_type": "stream",
       "stream": "stdout",
       "text": [
        " (slice(12954968, 13951504, None), slice(1, 2, None))\n",
        "applying one_selected_slices = "
       ]
      },
      {
       "output_type": "stream",
       "stream": "stdout",
       "text": [
        " (slice(13951504, 14948040, None), slice(1, 2, None))\n",
        "applying one_selected_slices = "
       ]
      },
      {
       "output_type": "stream",
       "stream": "stdout",
       "text": [
        " (slice(14948040, 15944576, None), slice(1, 2, None))\n",
        "applying one_selected_slices = "
       ]
      },
      {
       "output_type": "stream",
       "stream": "stdout",
       "text": [
        " (slice(15944576, 16941112, None), slice(1, 2, None))\n",
        "applying one_selected_slices = "
       ]
      },
      {
       "output_type": "stream",
       "stream": "stdout",
       "text": [
        " (slice(16941112, 17937648, None), slice(1, 2, None))\n",
        "applying one_selected_slices = "
       ]
      },
      {
       "output_type": "stream",
       "stream": "stdout",
       "text": [
        " (slice(17937648, 18934184, None), slice(1, 2, None))\n",
        "applying one_selected_slices = "
       ]
      },
      {
       "output_type": "stream",
       "stream": "stdout",
       "text": [
        " (slice(18934184, 19930720, None), slice(1, 2, None))\n",
        "applying one_selected_slices = "
       ]
      },
      {
       "output_type": "stream",
       "stream": "stdout",
       "text": [
        " (slice(19930720, 20927256, None), slice(1, 2, None))\n",
        "applying one_selected_slices = "
       ]
      },
      {
       "output_type": "stream",
       "stream": "stdout",
       "text": [
        " (slice(20927256, 21923792, None), slice(1, 2, None))\n",
        "applying one_selected_slices = "
       ]
      },
      {
       "output_type": "stream",
       "stream": "stdout",
       "text": [
        " (slice(21923792, 22920328, None), slice(1, 2, None))\n",
        "applying one_selected_slices = "
       ]
      },
      {
       "output_type": "stream",
       "stream": "stdout",
       "text": [
        " (slice(22920328, 23916864, None), slice(1, 2, None))\n",
        "applying one_selected_slices = "
       ]
      },
      {
       "output_type": "stream",
       "stream": "stdout",
       "text": [
        " (slice(23916864, 24913400, None), slice(1, 2, None))\n",
        "applying one_selected_slices = "
       ]
      },
      {
       "output_type": "stream",
       "stream": "stdout",
       "text": [
        " (slice(24913400, 25909936, None), slice(1, 2, None))\n",
        "applying one_selected_slices = "
       ]
      },
      {
       "output_type": "stream",
       "stream": "stdout",
       "text": [
        " (slice(25909936, 26906472, None), slice(1, 2, None))\n",
        "applying one_selected_slices = "
       ]
      }
     ]
    },
    {
     "cell_type": "code",
     "collapsed": false,
     "input": [
      "barr"
     ],
     "language": "python",
     "metadata": {},
     "outputs": [
      {
       "metadata": {},
       "output_type": "pyout",
       "prompt_number": 426,
       "text": [
        "barray((6042135,), float64)\n",
        "  nbytes: 46.10 MB; cbytes: 40.51 MB; ratio: 1.14\n",
        "  bparams := bparams(clevel=5, shuffle=True, cname=blosclz)\n",
        "[ 0.15030296  0.2599234   0.32604179 ...,  0.34768324  0.13922195\n",
        "  0.28222874]"
       ]
      }
     ],
     "prompt_number": 426
    },
    {
     "cell_type": "code",
     "collapsed": false,
     "input": [],
     "language": "python",
     "metadata": {},
     "outputs": []
    },
    {
     "cell_type": "code",
     "collapsed": false,
     "input": [
      "prediction_prob = barr\n",
      "submit_format=\"%d,%.10f\"\n",
      "ids_barray = blz.open(os.path.join(tools.TESTING_BLZ_PATH,TESTING_COLUMN_NAMES[0]))\n",
      "bt = blz.btable(columns=[ids_barray,prediction_prob], names=[\"Id\",\"Predicted\"])\n",
      "all_results = [submit_format % tuple(xx) for xx in bt.iter()]\n",
      "all_results_string = \"\\n\".join([\",\".join(bt.names)] + all_results)\n",
      "        \n",
      "submit_filename = \"%s_%s.csv\" % (\"avg_28_rf_models_v1\", datetime.datetime.now().strftime(\"%Y%m%d%H%M%S\"))\n",
      "        \n",
      "submit_filepath = os.path.join(SUBMITS_PATH,submit_filename)\n",
      "        \n",
      "with open(submit_filepath,\"w\") as wf:\n",
      "    wf.write(all_results_string)"
     ],
     "language": "python",
     "metadata": {},
     "outputs": [],
     "prompt_number": 428
    },
    {
     "cell_type": "code",
     "collapsed": false,
     "input": [],
     "language": "python",
     "metadata": {},
     "outputs": []
    },
    {
     "cell_type": "code",
     "collapsed": false,
     "input": [],
     "language": "python",
     "metadata": {},
     "outputs": []
    },
    {
     "cell_type": "code",
     "collapsed": false,
     "input": [],
     "language": "python",
     "metadata": {},
     "outputs": []
    },
    {
     "cell_type": "code",
     "collapsed": false,
     "input": [],
     "language": "python",
     "metadata": {},
     "outputs": []
    },
    {
     "cell_type": "code",
     "collapsed": false,
     "input": [],
     "language": "python",
     "metadata": {},
     "outputs": []
    },
    {
     "cell_type": "code",
     "collapsed": false,
     "input": [],
     "language": "python",
     "metadata": {},
     "outputs": []
    },
    {
     "cell_type": "code",
     "collapsed": false,
     "input": [],
     "language": "python",
     "metadata": {},
     "outputs": []
    },
    {
     "cell_type": "code",
     "collapsed": false,
     "input": [],
     "language": "python",
     "metadata": {},
     "outputs": [
      {
       "metadata": {},
       "output_type": "pyout",
       "prompt_number": 397,
       "text": [
        "[(slice(0, 1993071, None), slice(1, 2, None)),\n",
        " (slice(1993071, 3986142, None), slice(1, 2, None)),\n",
        " (slice(3986142, 5979213, None), slice(1, 2, None)),\n",
        " (slice(5979213, 7972284, None), slice(1, 2, None)),\n",
        " (slice(7972284, 9965355, None), slice(1, 2, None)),\n",
        " (slice(9965355, 11958426, None), slice(1, 2, None)),\n",
        " (slice(11958426, 13951497, None), slice(1, 2, None)),\n",
        " (slice(13951497, 15944568, None), slice(1, 2, None)),\n",
        " (slice(15944568, 17937639, None), slice(1, 2, None)),\n",
        " (slice(17937639, 19930710, None), slice(1, 2, None)),\n",
        " (slice(19930710, 21923781, None), slice(1, 2, None)),\n",
        " (slice(21923781, 23916852, None), slice(1, 2, None)),\n",
        " (slice(23916852, 25909923, None), slice(1, 2, None)),\n",
        " (slice(25909923, 27902994, None), slice(1, 2, None)),\n",
        " (slice(27902994, 29896065, None), slice(1, 2, None)),\n",
        " (slice(29896065, 31889136, None), slice(1, 2, None)),\n",
        " (slice(31889136, 33882207, None), slice(1, 2, None)),\n",
        " (slice(33882207, 35875278, None), slice(1, 2, None)),\n",
        " (slice(35875278, 37868349, None), slice(1, 2, None)),\n",
        " (slice(37868349, 39861420, None), slice(1, 2, None)),\n",
        " (slice(39861420, 41854491, None), slice(1, 2, None)),\n",
        " (slice(41854491, 43847562, None), slice(1, 2, None)),\n",
        " (slice(43847562, 45840617, None), slice(1, 2, None))]"
       ]
      }
     ],
     "prompt_number": 397
    },
    {
     "cell_type": "code",
     "collapsed": false,
     "input": [],
     "language": "python",
     "metadata": {},
     "outputs": [],
     "prompt_number": 14
    },
    {
     "cell_type": "code",
     "collapsed": false,
     "input": [
      "one_slice"
     ],
     "language": "python",
     "metadata": {},
     "outputs": [
      {
       "metadata": {},
       "output_type": "pyout",
       "prompt_number": 15,
       "text": [
        "slice(0, 1993071, None)"
       ]
      }
     ],
     "prompt_number": 15
    },
    {
     "cell_type": "code",
     "collapsed": false,
     "input": [],
     "language": "python",
     "metadata": {},
     "outputs": [
      {
       "output_type": "stream",
       "stream": "stdout",
       "text": [
        "CPU times: user 2.99 s, sys: 2.77 s, total: 5.76 s\n",
        "Wall time: 1min 4s\n"
       ]
      }
     ],
     "prompt_number": 16
    },
    {
     "cell_type": "code",
     "collapsed": false,
     "input": [],
     "language": "python",
     "metadata": {},
     "outputs": []
    },
    {
     "cell_type": "code",
     "collapsed": false,
     "input": [
      "com_arr.shape"
     ],
     "language": "python",
     "metadata": {},
     "outputs": [
      {
       "metadata": {},
       "output_type": "pyout",
       "prompt_number": 18,
       "text": [
        "(1993071, 28)"
       ]
      }
     ],
     "prompt_number": 18
    },
    {
     "cell_type": "code",
     "collapsed": false,
     "input": [
      "from modshogun import RealFeatures, MulticlassLabels\n",
      "\n",
      "features = RealFeatures(newX.T.astype(np.float64))\n",
      "labels   = MulticlassLabels(y.astype(np.float64))"
     ],
     "language": "python",
     "metadata": {},
     "outputs": [
      {
       "ename": "NameError",
       "evalue": "name 'newX' is not defined",
       "output_type": "pyerr",
       "traceback": [
        "\u001b[1;31m---------------------------------------------------------------------------\u001b[0m\n\u001b[1;31mNameError\u001b[0m                                 Traceback (most recent call last)",
        "\u001b[1;32m<ipython-input-19-8d864e4fedab>\u001b[0m in \u001b[0;36m<module>\u001b[1;34m()\u001b[0m\n\u001b[0;32m      1\u001b[0m \u001b[1;32mfrom\u001b[0m \u001b[0mmodshogun\u001b[0m \u001b[1;32mimport\u001b[0m \u001b[0mRealFeatures\u001b[0m\u001b[1;33m,\u001b[0m \u001b[0mMulticlassLabels\u001b[0m\u001b[1;33m\u001b[0m\u001b[0m\n\u001b[0;32m      2\u001b[0m \u001b[1;33m\u001b[0m\u001b[0m\n\u001b[1;32m----> 3\u001b[1;33m \u001b[0mfeatures\u001b[0m \u001b[1;33m=\u001b[0m \u001b[0mRealFeatures\u001b[0m\u001b[1;33m(\u001b[0m\u001b[0mnewX\u001b[0m\u001b[1;33m.\u001b[0m\u001b[0mT\u001b[0m\u001b[1;33m.\u001b[0m\u001b[0mastype\u001b[0m\u001b[1;33m(\u001b[0m\u001b[0mnp\u001b[0m\u001b[1;33m.\u001b[0m\u001b[0mfloat64\u001b[0m\u001b[1;33m)\u001b[0m\u001b[1;33m)\u001b[0m\u001b[1;33m\u001b[0m\u001b[0m\n\u001b[0m\u001b[0;32m      4\u001b[0m \u001b[0mlabels\u001b[0m   \u001b[1;33m=\u001b[0m \u001b[0mMulticlassLabels\u001b[0m\u001b[1;33m(\u001b[0m\u001b[0my\u001b[0m\u001b[1;33m.\u001b[0m\u001b[0mastype\u001b[0m\u001b[1;33m(\u001b[0m\u001b[0mnp\u001b[0m\u001b[1;33m.\u001b[0m\u001b[0mfloat64\u001b[0m\u001b[1;33m)\u001b[0m\u001b[1;33m)\u001b[0m\u001b[1;33m\u001b[0m\u001b[0m\n",
        "\u001b[1;31mNameError\u001b[0m: name 'newX' is not defined"
       ]
      }
     ],
     "prompt_number": 19
    },
    {
     "cell_type": "code",
     "collapsed": false,
     "input": [],
     "language": "python",
     "metadata": {},
     "outputs": []
    },
    {
     "cell_type": "code",
     "collapsed": false,
     "input": [],
     "language": "python",
     "metadata": {},
     "outputs": []
    },
    {
     "cell_type": "code",
     "collapsed": false,
     "input": [],
     "language": "python",
     "metadata": {},
     "outputs": []
    },
    {
     "cell_type": "code",
     "collapsed": false,
     "input": [
      "com_arr.shape"
     ],
     "language": "python",
     "metadata": {},
     "outputs": [
      {
       "metadata": {},
       "output_type": "pyout",
       "prompt_number": 363,
       "text": [
        "(1993071, 28)"
       ]
      }
     ],
     "prompt_number": 363
    },
    {
     "cell_type": "code",
     "collapsed": false,
     "input": [
      "%time np.dot(com_arr,np.ones(com_arr.shape[1]) / com_arr.shape[1])"
     ],
     "language": "python",
     "metadata": {},
     "outputs": [
      {
       "output_type": "stream",
       "stream": "stdout",
       "text": [
        "CPU times: user 64.3 ms, sys: 1.03 ms, total: 65.3 ms\n",
        "Wall time: 65 ms\n"
       ]
      },
      {
       "metadata": {},
       "output_type": "pyout",
       "prompt_number": 368,
       "text": [
        "array([ 0.37883865,  0.16200219,  0.2760789 , ...,  0.18235488,\n",
        "        0.1735119 ,  0.21696359])"
       ]
      }
     ],
     "prompt_number": 368
    },
    {
     "cell_type": "code",
     "collapsed": false,
     "input": [
      "%time com_arr.mean(1)"
     ],
     "language": "python",
     "metadata": {},
     "outputs": [
      {
       "output_type": "stream",
       "stream": "stdout",
       "text": [
        "CPU times: user 59.5 ms, sys: 1.43 ms, total: 60.9 ms\n",
        "Wall time: 60.4 ms\n"
       ]
      },
      {
       "metadata": {},
       "output_type": "pyout",
       "prompt_number": 369,
       "text": [
        "array([ 0.37883865,  0.16200219,  0.2760789 , ...,  0.18235488,\n",
        "        0.1735119 ,  0.21696359])"
       ]
      }
     ],
     "prompt_number": 369
    },
    {
     "cell_type": "code",
     "collapsed": false,
     "input": [],
     "language": "python",
     "metadata": {},
     "outputs": []
    },
    {
     "cell_type": "code",
     "collapsed": false,
     "input": [],
     "language": "python",
     "metadata": {},
     "outputs": []
    },
    {
     "cell_type": "code",
     "collapsed": false,
     "input": [
      "#%time con_arr = np.c_[barray_list.select_all_barrays(one_slice,1)]"
     ],
     "language": "python",
     "metadata": {},
     "outputs": [],
     "prompt_number": 328
    },
    {
     "cell_type": "code",
     "collapsed": false,
     "input": [
      "con_arr.shape"
     ],
     "language": "python",
     "metadata": {},
     "outputs": [
      {
       "metadata": {},
       "output_type": "pyout",
       "prompt_number": 333,
       "text": [
        "(996536, 28)"
       ]
      }
     ],
     "prompt_number": 333
    },
    {
     "cell_type": "code",
     "collapsed": false,
     "input": [
      "con_arr.mean(1).shape"
     ],
     "language": "python",
     "metadata": {},
     "outputs": [
      {
       "metadata": {},
       "output_type": "pyout",
       "prompt_number": 334,
       "text": [
        "(996536,)"
       ]
      }
     ],
     "prompt_number": 334
    },
    {
     "cell_type": "code",
     "collapsed": false,
     "input": [
      "con_arr.mean(1)"
     ],
     "language": "python",
     "metadata": {},
     "outputs": [
      {
       "metadata": {},
       "output_type": "pyout",
       "prompt_number": 335,
       "text": [
        "array([ 0.37883865,  0.16200219,  0.2760789 , ...,  0.09601189,\n",
        "        0.13123739,  0.5249712 ])"
       ]
      }
     ],
     "prompt_number": 335
    },
    {
     "cell_type": "code",
     "collapsed": false,
     "input": [],
     "language": "python",
     "metadata": {},
     "outputs": [],
     "prompt_number": 326
    },
    {
     "cell_type": "code",
     "collapsed": false,
     "input": [],
     "language": "python",
     "metadata": {},
     "outputs": []
    },
    {
     "cell_type": "code",
     "collapsed": false,
     "input": [],
     "language": "python",
     "metadata": {},
     "outputs": []
    },
    {
     "cell_type": "code",
     "collapsed": false,
     "input": [
      "barray_list.select_all_barrays()"
     ],
     "language": "python",
     "metadata": {},
     "outputs": [
      {
       "ename": "NameError",
       "evalue": "name 'barray_list' is not defined",
       "output_type": "pyerr",
       "traceback": [
        "\u001b[1;31m---------------------------------------------------------------------------\u001b[0m\n\u001b[1;31mNameError\u001b[0m                                 Traceback (most recent call last)",
        "\u001b[1;32m<ipython-input-7-53b404108a2c>\u001b[0m in \u001b[0;36m<module>\u001b[1;34m()\u001b[0m\n\u001b[1;32m----> 1\u001b[1;33m \u001b[0mbarray_list\u001b[0m\u001b[1;33m.\u001b[0m\u001b[0mselect_all_barrays\u001b[0m\u001b[1;33m(\u001b[0m\u001b[1;33m)\u001b[0m\u001b[1;33m\u001b[0m\u001b[0m\n\u001b[0m",
        "\u001b[1;31mNameError\u001b[0m: name 'barray_list' is not defined"
       ]
      }
     ],
     "prompt_number": 7
    },
    {
     "cell_type": "code",
     "collapsed": false,
     "input": [],
     "language": "python",
     "metadata": {},
     "outputs": [],
     "prompt_number": 138
    },
    {
     "cell_type": "code",
     "collapsed": false,
     "input": [],
     "language": "python",
     "metadata": {},
     "outputs": []
    },
    {
     "cell_type": "code",
     "collapsed": false,
     "input": [
      "from math import log"
     ],
     "language": "python",
     "metadata": {},
     "outputs": [],
     "prompt_number": 70
    },
    {
     "cell_type": "code",
     "collapsed": false,
     "input": [
      "logloss_eval = lambda y,p, eps=1e-15: -y*log(min(max(p,eps),1-eps)) - (1-y)*log(1-min(max(p,eps),1-eps))"
     ],
     "language": "python",
     "metadata": {},
     "outputs": [],
     "prompt_number": 94
    },
    {
     "cell_type": "code",
     "collapsed": false,
     "input": [
      "np.linspace(0,1,11)"
     ],
     "language": "python",
     "metadata": {},
     "outputs": [
      {
       "metadata": {},
       "output_type": "pyout",
       "prompt_number": 95,
       "text": [
        "array([ 0. ,  0.1,  0.2,  0.3,  0.4,  0.5,  0.6,  0.7,  0.8,  0.9,  1. ])"
       ]
      }
     ],
     "prompt_number": 95
    },
    {
     "cell_type": "code",
     "collapsed": false,
     "input": [
      "p2=0.3\n",
      "p1=0.7"
     ],
     "language": "python",
     "metadata": {},
     "outputs": [],
     "prompt_number": 128
    },
    {
     "cell_type": "code",
     "collapsed": false,
     "input": [
      "(logloss_eval(1,p1) - logloss_eval(1,p2)), (logloss_eval(0,p1) - logloss_eval(0,p2))"
     ],
     "language": "python",
     "metadata": {},
     "outputs": [
      {
       "metadata": {},
       "output_type": "pyout",
       "prompt_number": 129,
       "text": [
        "(-0.8472978603872037, 0.8472978603872034)"
       ]
      }
     ],
     "prompt_number": 129
    },
    {
     "cell_type": "code",
     "collapsed": false,
     "input": [],
     "language": "python",
     "metadata": {},
     "outputs": []
    },
    {
     "cell_type": "code",
     "collapsed": false,
     "input": [
      "np.concatenate(barray_list.select_all_barrays(slice(4,10),1),1).shape"
     ],
     "language": "python",
     "metadata": {},
     "outputs": [
      {
       "metadata": {},
       "output_type": "pyout",
       "prompt_number": 57,
       "text": [
        "(6, 28)"
       ]
      }
     ],
     "prompt_number": 57
    },
    {
     "cell_type": "code",
     "collapsed": false,
     "input": [
      "np.c_[barray_list[0][barray_list.select(slice(4,10),1)],barray_list[1][barray_list.select(slice(4,10),1)]]"
     ],
     "language": "python",
     "metadata": {},
     "outputs": [
      {
       "metadata": {},
       "output_type": "pyout",
       "prompt_number": 34,
       "text": [
        "array([[ 0.39258165,  0.35301869],\n",
        "       [ 0.16120944,  0.10348338],\n",
        "       [ 0.16869803,  0.18707696],\n",
        "       [ 0.48444017,  0.5618772 ],\n",
        "       [ 0.09760631,  0.0973686 ],\n",
        "       [ 0.39725577,  0.42093928]])"
       ]
      }
     ],
     "prompt_number": 34
    },
    {
     "cell_type": "code",
     "collapsed": false,
     "input": [
      "barray_list[0][(slice(1,10,None),1)]"
     ],
     "language": "python",
     "metadata": {},
     "outputs": [
      {
       "metadata": {},
       "output_type": "pyout",
       "prompt_number": 26,
       "text": [
        "array([ 0.18297656,  0.29312695,  0.18910477,  0.39258165,  0.16120944,\n",
        "        0.16869803,  0.48444017,  0.09760631,  0.39725577])"
       ]
      }
     ],
     "prompt_number": 26
    },
    {
     "cell_type": "code",
     "collapsed": false,
     "input": [
      "barray_list[0][slice(0,1000,None),slice(1,2,None)]"
     ],
     "language": "python",
     "metadata": {},
     "outputs": [
      {
       "ename": "NameError",
       "evalue": "name 'barray_list' is not defined",
       "output_type": "pyerr",
       "traceback": [
        "\u001b[1;31m---------------------------------------------------------------------------\u001b[0m\n\u001b[1;31mNameError\u001b[0m                                 Traceback (most recent call last)",
        "\u001b[1;32m<ipython-input-16-f58712623446>\u001b[0m in \u001b[0;36m<module>\u001b[1;34m()\u001b[0m\n\u001b[1;32m----> 1\u001b[1;33m \u001b[0mbarray_list\u001b[0m\u001b[1;33m[\u001b[0m\u001b[1;36m0\u001b[0m\u001b[1;33m]\u001b[0m\u001b[1;33m[\u001b[0m\u001b[0mslice\u001b[0m\u001b[1;33m(\u001b[0m\u001b[1;36m0\u001b[0m\u001b[1;33m,\u001b[0m\u001b[1;36m1000\u001b[0m\u001b[1;33m,\u001b[0m\u001b[0mNone\u001b[0m\u001b[1;33m)\u001b[0m\u001b[1;33m,\u001b[0m\u001b[0mslice\u001b[0m\u001b[1;33m(\u001b[0m\u001b[1;36m1\u001b[0m\u001b[1;33m,\u001b[0m\u001b[1;36m2\u001b[0m\u001b[1;33m,\u001b[0m\u001b[0mNone\u001b[0m\u001b[1;33m)\u001b[0m\u001b[1;33m]\u001b[0m\u001b[1;33m\u001b[0m\u001b[0m\n\u001b[0m",
        "\u001b[1;31mNameError\u001b[0m: name 'barray_list' is not defined"
       ]
      }
     ],
     "prompt_number": 16
    },
    {
     "cell_type": "code",
     "collapsed": false,
     "input": [],
     "language": "python",
     "metadata": {},
     "outputs": [],
     "prompt_number": 16
    },
    {
     "cell_type": "code",
     "collapsed": false,
     "input": [
      "total_n = blz.open(os.path.join(tools.TRAINING_BLZ_PATH,TRAINING_COLUMN_NAMES[0])).shape[0]\n",
      "m_groups = 40\n",
      "dived_n = total_n / m_groups if total_n % m_groups == 0 else total_n / m_groups + 1\n",
      "training_data_slices = map(lambda xx:slice(*xx),tools.get_separation_pairs(total_n,dived_n))\n"
     ],
     "language": "python",
     "metadata": {},
     "outputs": [],
     "prompt_number": 17
    },
    {
     "cell_type": "code",
     "collapsed": false,
     "input": [
      "training_data_slices"
     ],
     "language": "python",
     "metadata": {},
     "outputs": [
      {
       "metadata": {},
       "output_type": "pyout",
       "prompt_number": 18,
       "text": [
        "[slice(0, 1146016, None),\n",
        " slice(1146016, 2292032, None),\n",
        " slice(2292032, 3438048, None),\n",
        " slice(3438048, 4584064, None),\n",
        " slice(4584064, 5730080, None),\n",
        " slice(5730080, 6876096, None),\n",
        " slice(6876096, 8022112, None),\n",
        " slice(8022112, 9168128, None),\n",
        " slice(9168128, 10314144, None),\n",
        " slice(10314144, 11460160, None),\n",
        " slice(11460160, 12606176, None),\n",
        " slice(12606176, 13752192, None),\n",
        " slice(13752192, 14898208, None),\n",
        " slice(14898208, 16044224, None),\n",
        " slice(16044224, 17190240, None),\n",
        " slice(17190240, 18336256, None),\n",
        " slice(18336256, 19482272, None),\n",
        " slice(19482272, 20628288, None),\n",
        " slice(20628288, 21774304, None),\n",
        " slice(21774304, 22920320, None),\n",
        " slice(22920320, 24066336, None),\n",
        " slice(24066336, 25212352, None),\n",
        " slice(25212352, 26358368, None),\n",
        " slice(26358368, 27504384, None),\n",
        " slice(27504384, 28650400, None),\n",
        " slice(28650400, 29796416, None),\n",
        " slice(29796416, 30942432, None),\n",
        " slice(30942432, 32088448, None),\n",
        " slice(32088448, 33234464, None),\n",
        " slice(33234464, 34380480, None),\n",
        " slice(34380480, 35526496, None),\n",
        " slice(35526496, 36672512, None),\n",
        " slice(36672512, 37818528, None),\n",
        " slice(37818528, 38964544, None),\n",
        " slice(38964544, 40110560, None),\n",
        " slice(40110560, 41256576, None),\n",
        " slice(41256576, 42402592, None),\n",
        " slice(42402592, 43548608, None),\n",
        " slice(43548608, 44694624, None),\n",
        " slice(44694624, 45840617, None)]"
       ]
      }
     ],
     "prompt_number": 18
    },
    {
     "cell_type": "code",
     "collapsed": false,
     "input": [
      "avg_models"
     ],
     "language": "python",
     "metadata": {},
     "outputs": [
      {
       "ename": "NameError",
       "evalue": "name 'avg_models' is not defined",
       "output_type": "pyerr",
       "traceback": [
        "\u001b[1;31m---------------------------------------------------------------------------\u001b[0m\n\u001b[1;31mNameError\u001b[0m                                 Traceback (most recent call last)",
        "\u001b[1;32m<ipython-input-19-1c6c3a541322>\u001b[0m in \u001b[0;36m<module>\u001b[1;34m()\u001b[0m\n\u001b[1;32m----> 1\u001b[1;33m \u001b[0mavg_models\u001b[0m\u001b[1;33m\u001b[0m\u001b[0m\n\u001b[0m",
        "\u001b[1;31mNameError\u001b[0m: name 'avg_models' is not defined"
       ]
      }
     ],
     "prompt_number": 19
    },
    {
     "cell_type": "code",
     "collapsed": false,
     "input": [],
     "language": "python",
     "metadata": {},
     "outputs": [],
     "prompt_number": 19
    },
    {
     "cell_type": "code",
     "collapsed": false,
     "input": [
      "rf_models_v1_models_path = os.path.join(os.path.join(SOURCE_DATA_DIR, \"rf_models_v1\"))\n",
      "rf_series = ModelSeries(series_name=\"RFmss10ne200-40Groups\", series_home=rf_models_v1_models_path)"
     ],
     "language": "python",
     "metadata": {},
     "outputs": [],
     "prompt_number": 20
    },
    {
     "cell_type": "code",
     "collapsed": false,
     "input": [
      "map(lambda xx:xx.model_path,rf_series.series_models)"
     ],
     "language": "python",
     "metadata": {},
     "outputs": [
      {
       "metadata": {},
       "output_type": "pyout",
       "prompt_number": 21,
       "text": [
        "['/home/c3h3/c3h3works/Kaggles/GithubRepos/DisplayAdvertisingChallenge/data/rf_models_v1/RFmss10ne200-40Groups_ffca52ca-3d54-11e4-9872-5a1064dce9ab',\n",
        " '/home/c3h3/c3h3works/Kaggles/GithubRepos/DisplayAdvertisingChallenge/data/rf_models_v1/RFmss10ne200-40Groups_96e6dfac-3dfa-11e4-9872-5a1064dce9ab',\n",
        " '/home/c3h3/c3h3works/Kaggles/GithubRepos/DisplayAdvertisingChallenge/data/rf_models_v1/RFmss10ne200-40Groups_1ef4e8dc-3de5-11e4-9872-5a1064dce9ab',\n",
        " '/home/c3h3/c3h3works/Kaggles/GithubRepos/DisplayAdvertisingChallenge/data/rf_models_v1/RFmss10ne200-40Groups_6d99e818-3dcf-11e4-9872-5a1064dce9ab',\n",
        " '/home/c3h3/c3h3works/Kaggles/GithubRepos/DisplayAdvertisingChallenge/data/rf_models_v1/RFmss10ne200-40Groups_732cc740-3df3-11e4-9872-5a1064dce9ab',\n",
        " '/home/c3h3/c3h3works/Kaggles/GithubRepos/DisplayAdvertisingChallenge/data/rf_models_v1/RFmss10ne200-40Groups_e1d006ca-3d95-11e4-9872-5a1064dce9ab',\n",
        " '/home/c3h3/c3h3works/Kaggles/GithubRepos/DisplayAdvertisingChallenge/data/rf_models_v1/RFmss10ne200-40Groups_7ac82f46-3dab-11e4-9872-5a1064dce9ab',\n",
        " '/home/c3h3/c3h3works/Kaggles/GithubRepos/DisplayAdvertisingChallenge/data/rf_models_v1/RFmss10ne200-40Groups_55b2f6c8-3dec-11e4-9872-5a1064dce9ab',\n",
        " '/home/c3h3/c3h3works/Kaggles/GithubRepos/DisplayAdvertisingChallenge/data/rf_models_v1/RFmss10ne200-40Groups_ae25dd7e-3d8e-11e4-9872-5a1064dce9ab',\n",
        " '/home/c3h3/c3h3works/Kaggles/GithubRepos/DisplayAdvertisingChallenge/data/rf_models_v1/RFmss10ne200-40Groups_d2df0bd6-3d4d-11e4-9872-5a1064dce9ab',\n",
        " '/home/c3h3/c3h3works/Kaggles/GithubRepos/DisplayAdvertisingChallenge/data/rf_models_v1/RFmss10ne200-40Groups_e947a10e-3ddd-11e4-9872-5a1064dce9ab',\n",
        " '/home/c3h3/c3h3works/Kaggles/GithubRepos/DisplayAdvertisingChallenge/data/rf_models_v1/RFmss10ne200-40Groups_baf2be96-3e01-11e4-9872-5a1064dce9ab',\n",
        " '/home/c3h3/c3h3works/Kaggles/GithubRepos/DisplayAdvertisingChallenge/data/rf_models_v1/RFmss10ne200-40Groups_b93c14c4-3dd6-11e4-9872-5a1064dce9ab',\n",
        " '/home/c3h3/c3h3works/Kaggles/GithubRepos/DisplayAdvertisingChallenge/data/rf_models_v1/RFmss10ne200-40Groups_201f9140-3dc1-11e4-9872-5a1064dce9ab',\n",
        " '/home/c3h3/c3h3works/Kaggles/GithubRepos/DisplayAdvertisingChallenge/data/rf_models_v1/RFmss10ne200-40Groups_410053ac-3dc8-11e4-9872-5a1064dce9ab',\n",
        " '/home/c3h3/c3h3works/Kaggles/GithubRepos/DisplayAdvertisingChallenge/data/rf_models_v1/RFmss10ne200-40Groups_14f5ca92-3d9d-11e4-9872-5a1064dce9ab',\n",
        " '/home/c3h3/c3h3works/Kaggles/GithubRepos/DisplayAdvertisingChallenge/data/rf_models_v1/RFmss10ne200-40Groups_4315ad96-3da4-11e4-9872-5a1064dce9ab',\n",
        " '/home/c3h3/c3h3works/Kaggles/GithubRepos/DisplayAdvertisingChallenge/data/rf_models_v1/RFmss10ne200-40Groups_b627f178-3db2-11e4-9872-5a1064dce9ab',\n",
        " '/home/c3h3/c3h3works/Kaggles/GithubRepos/DisplayAdvertisingChallenge/data/rf_models_v1/RFmss10ne200-40Groups_9a8d6d4c-3d46-11e4-9872-5a1064dce9ab',\n",
        " '/home/c3h3/c3h3works/Kaggles/GithubRepos/DisplayAdvertisingChallenge/data/rf_models_v1/RFmss10ne200-40Groups_817e0644-3d6a-11e4-9872-5a1064dce9ab',\n",
        " '/home/c3h3/c3h3works/Kaggles/GithubRepos/DisplayAdvertisingChallenge/data/rf_models_v1/RFmss10ne200-40Groups_e7007d40-3db9-11e4-9872-5a1064dce9ab',\n",
        " '/home/c3h3/c3h3works/Kaggles/GithubRepos/DisplayAdvertisingChallenge/data/rf_models_v1/RFmss10ne200-40Groups_671fc284-3d87-11e4-9872-5a1064dce9ab',\n",
        " '/home/c3h3/c3h3works/Kaggles/GithubRepos/DisplayAdvertisingChallenge/data/rf_models_v1/RFmss10ne200-40Groups_061893a0-3d80-11e4-9872-5a1064dce9ab',\n",
        " '/home/c3h3/c3h3works/Kaggles/GithubRepos/DisplayAdvertisingChallenge/data/rf_models_v1/RFmss10ne200-40Groups_adeba392-3d71-11e4-9872-5a1064dce9ab',\n",
        " '/home/c3h3/c3h3works/Kaggles/GithubRepos/DisplayAdvertisingChallenge/data/rf_models_v1/RFmss10ne200-40Groups_e5d1d7c6-3e08-11e4-9872-5a1064dce9ab',\n",
        " '/home/c3h3/c3h3works/Kaggles/GithubRepos/DisplayAdvertisingChallenge/data/rf_models_v1/RFmss10ne200-40Groups_28456df0-3d5c-11e4-9872-5a1064dce9ab',\n",
        " '/home/c3h3/c3h3works/Kaggles/GithubRepos/DisplayAdvertisingChallenge/data/rf_models_v1/RFmss10ne200-40Groups_53e6a918-3d63-11e4-9872-5a1064dce9ab',\n",
        " '/home/c3h3/c3h3works/Kaggles/GithubRepos/DisplayAdvertisingChallenge/data/rf_models_v1/RFmss10ne200-40Groups_d5b12cc4-3d78-11e4-9872-5a1064dce9ab']"
       ]
      }
     ],
     "prompt_number": 21
    },
    {
     "cell_type": "code",
     "collapsed": false,
     "input": [],
     "language": "python",
     "metadata": {},
     "outputs": []
    },
    {
     "cell_type": "code",
     "collapsed": false,
     "input": [
      "blzs = map(lambda xx:xx.load_prediction_blz(datatype=\"testing\", valuetype=\"predict_proba\"),rf_series.series_models)"
     ],
     "language": "python",
     "metadata": {},
     "outputs": [],
     "prompt_number": 52
    },
    {
     "cell_type": "code",
     "collapsed": false,
     "input": [
      "blz.btable(blzs)"
     ],
     "language": "python",
     "metadata": {},
     "outputs": [
      {
       "metadata": {},
       "output_type": "pyout",
       "prompt_number": 54,
       "text": [
        "<repr(<blz.btable.btable at 0x7fd7d0ee5bd0>) failed: ValueError: could not broadcast input array from shape (3,2) into shape (3)>"
       ]
      }
     ],
     "prompt_number": 54
    },
    {
     "cell_type": "code",
     "collapsed": false,
     "input": [],
     "language": "python",
     "metadata": {},
     "outputs": []
    },
    {
     "cell_type": "code",
     "collapsed": false,
     "input": [],
     "language": "python",
     "metadata": {},
     "outputs": []
    },
    {
     "cell_type": "code",
     "collapsed": false,
     "input": [],
     "language": "python",
     "metadata": {},
     "outputs": []
    },
    {
     "cell_type": "code",
     "collapsed": false,
     "input": [],
     "language": "python",
     "metadata": {},
     "outputs": [],
     "prompt_number": 12
    },
    {
     "cell_type": "code",
     "collapsed": false,
     "input": [
      "ss = slice(0,None,None)"
     ],
     "language": "python",
     "metadata": {},
     "outputs": [],
     "prompt_number": 22
    },
    {
     "cell_type": "code",
     "collapsed": false,
     "input": [
      "str(ss)"
     ],
     "language": "python",
     "metadata": {},
     "outputs": [
      {
       "metadata": {},
       "output_type": "pyout",
       "prompt_number": 32,
       "text": [
        "'slice(0, None, None)'"
       ]
      }
     ],
     "prompt_number": 32
    },
    {
     "cell_type": "code",
     "collapsed": false,
     "input": [],
     "language": "python",
     "metadata": {},
     "outputs": []
    },
    {
     "cell_type": "code",
     "collapsed": false,
     "input": [
      "type(slice(0,None,None))"
     ],
     "language": "python",
     "metadata": {},
     "outputs": [
      {
       "metadata": {},
       "output_type": "pyout",
       "prompt_number": 20,
       "text": [
        "slice"
       ]
      }
     ],
     "prompt_number": 20
    },
    {
     "cell_type": "code",
     "collapsed": false,
     "input": [],
     "language": "python",
     "metadata": {},
     "outputs": []
    },
    {
     "cell_type": "code",
     "collapsed": false,
     "input": [
      "svm_models_v1_models_path = os.path.join(os.path.join(SOURCE_DATA_DIR, \"svm_models_v1\"),\"models\")"
     ],
     "language": "python",
     "metadata": {},
     "outputs": [],
     "prompt_number": 13
    },
    {
     "cell_type": "code",
     "collapsed": false,
     "input": [],
     "language": "python",
     "metadata": {},
     "outputs": [],
     "prompt_number": 13
    },
    {
     "cell_type": "code",
     "collapsed": false,
     "input": [
      "svm_series = ModelSeries(series_name=\"LSVM40Groups\", series_home=svm_models_v1_models_path)"
     ],
     "language": "python",
     "metadata": {},
     "outputs": [],
     "prompt_number": 14
    },
    {
     "cell_type": "code",
     "collapsed": false,
     "input": [
      "svm_series.series_models"
     ],
     "language": "python",
     "metadata": {},
     "outputs": [
      {
       "metadata": {},
       "output_type": "pyout",
       "prompt_number": 15,
       "text": [
        "[LSVM40Groups_4e925d02-3c9d-11e4-b2c2-1e5ff811d93a : {'training_dataset': 'origin', 'training_data_slices': slice(14898208, 16044224, None), 'feature_columns': ['I1', 'I2', 'I3', 'I4', 'I5', 'I6', 'I7', 'I8', 'I9', 'I10', 'I11', 'I12', 'I13', 'C1', 'C2', 'C3', 'C4', 'C5', 'C6', 'C7', 'C8', 'C9', 'C10', 'C11', 'C12', 'C13', 'C14', 'C15', 'C16', 'C17', 'C18', 'C19', 'C20', 'C21', 'C22', 'C23', 'C24', 'C25', 'C26'], 'additional_feature_columns': [], 'model_type': <class 'sklearn.svm.classes.LinearSVC'>, 'model_paramters': {'dual': False}},\n",
        " LSVM40Groups_98795626-3ca4-11e4-b7d7-1e5ff811d93a : {'training_dataset': 'origin', 'training_data_slices': slice(37818528, 38964544, None), 'feature_columns': ['I1', 'I2', 'I3', 'I4', 'I5', 'I6', 'I7', 'I8', 'I9', 'I10', 'I11', 'I12', 'I13', 'C1', 'C2', 'C3', 'C4', 'C5', 'C6', 'C7', 'C8', 'C9', 'C10', 'C11', 'C12', 'C13', 'C14', 'C15', 'C16', 'C17', 'C18', 'C19', 'C20', 'C21', 'C22', 'C23', 'C24', 'C25', 'C26'], 'additional_feature_columns': [], 'model_type': <class 'sklearn.svm.classes.LinearSVC'>, 'model_paramters': {'dual': False}},\n",
        " LSVM40Groups_6cfbc9ea-3c9d-11e4-b3ae-1e5ff811d93a : {'training_dataset': 'origin', 'training_data_slices': slice(5730080, 6876096, None), 'feature_columns': ['I1', 'I2', 'I3', 'I4', 'I5', 'I6', 'I7', 'I8', 'I9', 'I10', 'I11', 'I12', 'I13', 'C1', 'C2', 'C3', 'C4', 'C5', 'C6', 'C7', 'C8', 'C9', 'C10', 'C11', 'C12', 'C13', 'C14', 'C15', 'C16', 'C17', 'C18', 'C19', 'C20', 'C21', 'C22', 'C23', 'C24', 'C25', 'C26'], 'additional_feature_columns': [], 'model_type': <class 'sklearn.svm.classes.LinearSVC'>, 'model_paramters': {'dual': False}},\n",
        " LSVM40Groups_65c582d8-3c9d-11e4-97fc-1e5ff811d93a : {'training_dataset': 'origin', 'training_data_slices': slice(1146016, 2292032, None), 'feature_columns': ['I1', 'I2', 'I3', 'I4', 'I5', 'I6', 'I7', 'I8', 'I9', 'I10', 'I11', 'I12', 'I13', 'C1', 'C2', 'C3', 'C4', 'C5', 'C6', 'C7', 'C8', 'C9', 'C10', 'C11', 'C12', 'C13', 'C14', 'C15', 'C16', 'C17', 'C18', 'C19', 'C20', 'C21', 'C22', 'C23', 'C24', 'C25', 'C26'], 'additional_feature_columns': [], 'model_type': <class 'sklearn.svm.classes.LinearSVC'>, 'model_paramters': {'dual': False}},\n",
        " LSVM40Groups_0c8989ca-3ca3-11e4-87dc-1e5ff811d93a : {'training_dataset': 'origin', 'training_data_slices': slice(38964544, 40110560, None), 'feature_columns': ['I1', 'I2', 'I3', 'I4', 'I5', 'I6', 'I7', 'I8', 'I9', 'I10', 'I11', 'I12', 'I13', 'C1', 'C2', 'C3', 'C4', 'C5', 'C6', 'C7', 'C8', 'C9', 'C10', 'C11', 'C12', 'C13', 'C14', 'C15', 'C16', 'C17', 'C18', 'C19', 'C20', 'C21', 'C22', 'C23', 'C24', 'C25', 'C26'], 'additional_feature_columns': [], 'model_type': <class 'sklearn.svm.classes.LinearSVC'>, 'model_paramters': {'dual': False}},\n",
        " LSVM40Groups_601b8f68-3ca1-11e4-97fc-1e5ff811d93a : {'training_dataset': 'origin', 'training_data_slices': slice(28650400, 29796416, None), 'feature_columns': ['I1', 'I2', 'I3', 'I4', 'I5', 'I6', 'I7', 'I8', 'I9', 'I10', 'I11', 'I12', 'I13', 'C1', 'C2', 'C3', 'C4', 'C5', 'C6', 'C7', 'C8', 'C9', 'C10', 'C11', 'C12', 'C13', 'C14', 'C15', 'C16', 'C17', 'C18', 'C19', 'C20', 'C21', 'C22', 'C23', 'C24', 'C25', 'C26'], 'additional_feature_columns': [], 'model_type': <class 'sklearn.svm.classes.LinearSVC'>, 'model_paramters': {'dual': False}},\n",
        " LSVM40Groups_1704ade6-3ca1-11e4-87dc-1e5ff811d93a : {'training_dataset': 'origin', 'training_data_slices': slice(24066336, 25212352, None), 'feature_columns': ['I1', 'I2', 'I3', 'I4', 'I5', 'I6', 'I7', 'I8', 'I9', 'I10', 'I11', 'I12', 'I13', 'C1', 'C2', 'C3', 'C4', 'C5', 'C6', 'C7', 'C8', 'C9', 'C10', 'C11', 'C12', 'C13', 'C14', 'C15', 'C16', 'C17', 'C18', 'C19', 'C20', 'C21', 'C22', 'C23', 'C24', 'C25', 'C26'], 'additional_feature_columns': [], 'model_type': <class 'sklearn.svm.classes.LinearSVC'>, 'model_paramters': {'dual': False}},\n",
        " LSVM40Groups_3305f8ea-3ca3-11e4-a445-1e5ff811d93a : {'training_dataset': 'origin', 'training_data_slices': slice(41256576, 42402592, None), 'feature_columns': ['I1', 'I2', 'I3', 'I4', 'I5', 'I6', 'I7', 'I8', 'I9', 'I10', 'I11', 'I12', 'I13', 'C1', 'C2', 'C3', 'C4', 'C5', 'C6', 'C7', 'C8', 'C9', 'C10', 'C11', 'C12', 'C13', 'C14', 'C15', 'C16', 'C17', 'C18', 'C19', 'C20', 'C21', 'C22', 'C23', 'C24', 'C25', 'C26'], 'additional_feature_columns': [], 'model_type': <class 'sklearn.svm.classes.LinearSVC'>, 'model_paramters': {'dual': False}},\n",
        " LSVM40Groups_54b83064-3c9b-11e4-87dc-1e5ff811d93a : {'training_dataset': 'origin', 'training_data_slices': slice(2292032, 3438048, None), 'feature_columns': ['I1', 'I2', 'I3', 'I4', 'I5', 'I6', 'I7', 'I8', 'I9', 'I10', 'I11', 'I12', 'I13', 'C1', 'C2', 'C3', 'C4', 'C5', 'C6', 'C7', 'C8', 'C9', 'C10', 'C11', 'C12', 'C13', 'C14', 'C15', 'C16', 'C17', 'C18', 'C19', 'C20', 'C21', 'C22', 'C23', 'C24', 'C25', 'C26'], 'additional_feature_columns': [], 'model_type': <class 'sklearn.svm.classes.LinearSVC'>, 'model_paramters': {'dual': False}},\n",
        " LSVM40Groups_6e0417e8-3c9d-11e4-94ef-1e5ff811d93a : {'training_dataset': 'origin', 'training_data_slices': slice(8022112, 9168128, None), 'feature_columns': ['I1', 'I2', 'I3', 'I4', 'I5', 'I6', 'I7', 'I8', 'I9', 'I10', 'I11', 'I12', 'I13', 'C1', 'C2', 'C3', 'C4', 'C5', 'C6', 'C7', 'C8', 'C9', 'C10', 'C11', 'C12', 'C13', 'C14', 'C15', 'C16', 'C17', 'C18', 'C19', 'C20', 'C21', 'C22', 'C23', 'C24', 'C25', 'C26'], 'additional_feature_columns': [], 'model_type': <class 'sklearn.svm.classes.LinearSVC'>, 'model_paramters': {'dual': False}},\n",
        " LSVM40Groups_0baa5160-3ca3-11e4-b7d7-1e5ff811d93a : {'training_dataset': 'origin', 'training_data_slices': slice(36672512, 37818528, None), 'feature_columns': ['I1', 'I2', 'I3', 'I4', 'I5', 'I6', 'I7', 'I8', 'I9', 'I10', 'I11', 'I12', 'I13', 'C1', 'C2', 'C3', 'C4', 'C5', 'C6', 'C7', 'C8', 'C9', 'C10', 'C11', 'C12', 'C13', 'C14', 'C15', 'C16', 'C17', 'C18', 'C19', 'C20', 'C21', 'C22', 'C23', 'C24', 'C25', 'C26'], 'additional_feature_columns': [], 'model_type': <class 'sklearn.svm.classes.LinearSVC'>, 'model_paramters': {'dual': False}},\n",
        " LSVM40Groups_5368a0d2-3c9f-11e4-97fc-1e5ff811d93a : {'training_dataset': 'origin', 'training_data_slices': slice(27504384, 28650400, None), 'feature_columns': ['I1', 'I2', 'I3', 'I4', 'I5', 'I6', 'I7', 'I8', 'I9', 'I10', 'I11', 'I12', 'I13', 'C1', 'C2', 'C3', 'C4', 'C5', 'C6', 'C7', 'C8', 'C9', 'C10', 'C11', 'C12', 'C13', 'C14', 'C15', 'C16', 'C17', 'C18', 'C19', 'C20', 'C21', 'C22', 'C23', 'C24', 'C25', 'C26'], 'additional_feature_columns': [], 'model_type': <class 'sklearn.svm.classes.LinearSVC'>, 'model_paramters': {'dual': False}},\n",
        " LSVM40Groups_54b82b3c-3c9b-11e4-b3ae-1e5ff811d93a : {'training_dataset': 'origin', 'training_data_slices': slice(4584064, 5730080, None), 'feature_columns': ['I1', 'I2', 'I3', 'I4', 'I5', 'I6', 'I7', 'I8', 'I9', 'I10', 'I11', 'I12', 'I13', 'C1', 'C2', 'C3', 'C4', 'C5', 'C6', 'C7', 'C8', 'C9', 'C10', 'C11', 'C12', 'C13', 'C14', 'C15', 'C16', 'C17', 'C18', 'C19', 'C20', 'C21', 'C22', 'C23', 'C24', 'C25', 'C26'], 'additional_feature_columns': [], 'model_type': <class 'sklearn.svm.classes.LinearSVC'>, 'model_paramters': {'dual': False}},\n",
        " LSVM40Groups_31df6250-3ca1-11e4-b7d7-1e5ff811d93a : {'training_dataset': 'origin', 'training_data_slices': slice(26358368, 27504384, None), 'feature_columns': ['I1', 'I2', 'I3', 'I4', 'I5', 'I6', 'I7', 'I8', 'I9', 'I10', 'I11', 'I12', 'I13', 'C1', 'C2', 'C3', 'C4', 'C5', 'C6', 'C7', 'C8', 'C9', 'C10', 'C11', 'C12', 'C13', 'C14', 'C15', 'C16', 'C17', 'C18', 'C19', 'C20', 'C21', 'C22', 'C23', 'C24', 'C25', 'C26'], 'additional_feature_columns': [], 'model_type': <class 'sklearn.svm.classes.LinearSVC'>, 'model_paramters': {'dual': False}},\n",
        " LSVM40Groups_54bb5e9c-3c9b-11e4-b7d7-1e5ff811d93a : {'training_dataset': 'origin', 'training_data_slices': slice(11460160, 12606176, None), 'feature_columns': ['I1', 'I2', 'I3', 'I4', 'I5', 'I6', 'I7', 'I8', 'I9', 'I10', 'I11', 'I12', 'I13', 'C1', 'C2', 'C3', 'C4', 'C5', 'C6', 'C7', 'C8', 'C9', 'C10', 'C11', 'C12', 'C13', 'C14', 'C15', 'C16', 'C17', 'C18', 'C19', 'C20', 'C21', 'C22', 'C23', 'C24', 'C25', 'C26'], 'additional_feature_columns': [], 'model_type': <class 'sklearn.svm.classes.LinearSVC'>, 'model_paramters': {'dual': False}},\n",
        " LSVM40Groups_4a73396a-3c9f-11e4-b7d7-1e5ff811d93a : {'training_dataset': 'origin', 'training_data_slices': slice(25212352, 26358368, None), 'feature_columns': ['I1', 'I2', 'I3', 'I4', 'I5', 'I6', 'I7', 'I8', 'I9', 'I10', 'I11', 'I12', 'I13', 'C1', 'C2', 'C3', 'C4', 'C5', 'C6', 'C7', 'C8', 'C9', 'C10', 'C11', 'C12', 'C13', 'C14', 'C15', 'C16', 'C17', 'C18', 'C19', 'C20', 'C21', 'C22', 'C23', 'C24', 'C25', 'C26'], 'additional_feature_columns': [], 'model_type': <class 'sklearn.svm.classes.LinearSVC'>, 'model_paramters': {'dual': False}},\n",
        " LSVM40Groups_4d3f40f6-3ca1-11e4-a445-1e5ff811d93a : {'training_dataset': 'origin', 'training_data_slices': slice(33234464, 34380480, None), 'feature_columns': ['I1', 'I2', 'I3', 'I4', 'I5', 'I6', 'I7', 'I8', 'I9', 'I10', 'I11', 'I12', 'I13', 'C1', 'C2', 'C3', 'C4', 'C5', 'C6', 'C7', 'C8', 'C9', 'C10', 'C11', 'C12', 'C13', 'C14', 'C15', 'C16', 'C17', 'C18', 'C19', 'C20', 'C21', 'C22', 'C23', 'C24', 'C25', 'C26'], 'additional_feature_columns': [], 'model_type': <class 'sklearn.svm.classes.LinearSVC'>, 'model_paramters': {'dual': False}},\n",
        " LSVM40Groups_8032570c-3ca4-11e4-87dc-1e5ff811d93a : {'training_dataset': 'origin', 'training_data_slices': slice(40110560, 41256576, None), 'feature_columns': ['I1', 'I2', 'I3', 'I4', 'I5', 'I6', 'I7', 'I8', 'I9', 'I10', 'I11', 'I12', 'I13', 'C1', 'C2', 'C3', 'C4', 'C5', 'C6', 'C7', 'C8', 'C9', 'C10', 'C11', 'C12', 'C13', 'C14', 'C15', 'C16', 'C17', 'C18', 'C19', 'C20', 'C21', 'C22', 'C23', 'C24', 'C25', 'C26'], 'additional_feature_columns': [], 'model_type': <class 'sklearn.svm.classes.LinearSVC'>, 'model_paramters': {'dual': False}},\n",
        " LSVM40Groups_8e68d470-3ca1-11e4-a643-1e5ff811d93a : {'training_dataset': 'origin', 'training_data_slices': slice(19482272, 20628288, None), 'feature_columns': ['I1', 'I2', 'I3', 'I4', 'I5', 'I6', 'I7', 'I8', 'I9', 'I10', 'I11', 'I12', 'I13', 'C1', 'C2', 'C3', 'C4', 'C5', 'C6', 'C7', 'C8', 'C9', 'C10', 'C11', 'C12', 'C13', 'C14', 'C15', 'C16', 'C17', 'C18', 'C19', 'C20', 'C21', 'C22', 'C23', 'C24', 'C25', 'C26'], 'additional_feature_columns': [], 'model_type': <class 'sklearn.svm.classes.LinearSVC'>, 'model_paramters': {'dual': False}},\n",
        " LSVM40Groups_7e67eab6-3ca1-11e4-b3ae-1e5ff811d93a : {'training_dataset': 'origin', 'training_data_slices': slice(35526496, 36672512, None), 'feature_columns': ['I1', 'I2', 'I3', 'I4', 'I5', 'I6', 'I7', 'I8', 'I9', 'I10', 'I11', 'I12', 'I13', 'C1', 'C2', 'C3', 'C4', 'C5', 'C6', 'C7', 'C8', 'C9', 'C10', 'C11', 'C12', 'C13', 'C14', 'C15', 'C16', 'C17', 'C18', 'C19', 'C20', 'C21', 'C22', 'C23', 'C24', 'C25', 'C26'], 'additional_feature_columns': [], 'model_type': <class 'sklearn.svm.classes.LinearSVC'>, 'model_paramters': {'dual': False}},\n",
        " LSVM40Groups_35db1fd6-3c9f-11e4-b2c2-1e5ff811d93a : {'training_dataset': 'origin', 'training_data_slices': slice(20628288, 21774304, None), 'feature_columns': ['I1', 'I2', 'I3', 'I4', 'I5', 'I6', 'I7', 'I8', 'I9', 'I10', 'I11', 'I12', 'I13', 'C1', 'C2', 'C3', 'C4', 'C5', 'C6', 'C7', 'C8', 'C9', 'C10', 'C11', 'C12', 'C13', 'C14', 'C15', 'C16', 'C17', 'C18', 'C19', 'C20', 'C21', 'C22', 'C23', 'C24', 'C25', 'C26'], 'additional_feature_columns': [], 'model_type': <class 'sklearn.svm.classes.LinearSVC'>, 'model_paramters': {'dual': False}},\n",
        " LSVM40Groups_54b919e8-3c9b-11e4-94ef-1e5ff811d93a : {'training_dataset': 'origin', 'training_data_slices': slice(6876096, 8022112, None), 'feature_columns': ['I1', 'I2', 'I3', 'I4', 'I5', 'I6', 'I7', 'I8', 'I9', 'I10', 'I11', 'I12', 'I13', 'C1', 'C2', 'C3', 'C4', 'C5', 'C6', 'C7', 'C8', 'C9', 'C10', 'C11', 'C12', 'C13', 'C14', 'C15', 'C16', 'C17', 'C18', 'C19', 'C20', 'C21', 'C22', 'C23', 'C24', 'C25', 'C26'], 'additional_feature_columns': [], 'model_type': <class 'sklearn.svm.classes.LinearSVC'>, 'model_paramters': {'dual': False}},\n",
        " LSVM40Groups_54bcb56c-3c9b-11e4-97fc-1e5ff811d93a : {'training_dataset': 'origin', 'training_data_slices': slice(0, 1146016, None), 'feature_columns': ['I1', 'I2', 'I3', 'I4', 'I5', 'I6', 'I7', 'I8', 'I9', 'I10', 'I11', 'I12', 'I13', 'C1', 'C2', 'C3', 'C4', 'C5', 'C6', 'C7', 'C8', 'C9', 'C10', 'C11', 'C12', 'C13', 'C14', 'C15', 'C16', 'C17', 'C18', 'C19', 'C20', 'C21', 'C22', 'C23', 'C24', 'C25', 'C26'], 'additional_feature_columns': [], 'model_type': <class 'sklearn.svm.classes.LinearSVC'>, 'model_paramters': {'dual': False}},\n",
        " LSVM40Groups_54b7f2e8-3c9b-11e4-a643-1e5ff811d93a : {'training_dataset': 'origin', 'training_data_slices': slice(9168128, 10314144, None), 'feature_columns': ['I1', 'I2', 'I3', 'I4', 'I5', 'I6', 'I7', 'I8', 'I9', 'I10', 'I11', 'I12', 'I13', 'C1', 'C2', 'C3', 'C4', 'C5', 'C6', 'C7', 'C8', 'C9', 'C10', 'C11', 'C12', 'C13', 'C14', 'C15', 'C16', 'C17', 'C18', 'C19', 'C20', 'C21', 'C22', 'C23', 'C24', 'C25', 'C26'], 'additional_feature_columns': [], 'model_type': <class 'sklearn.svm.classes.LinearSVC'>, 'model_paramters': {'dual': False}},\n",
        " LSVM40Groups_6c1c1002-3c9d-11e4-a445-1e5ff811d93a : {'training_dataset': 'origin', 'training_data_slices': slice(17190240, 18336256, None), 'feature_columns': ['I1', 'I2', 'I3', 'I4', 'I5', 'I6', 'I7', 'I8', 'I9', 'I10', 'I11', 'I12', 'I13', 'C1', 'C2', 'C3', 'C4', 'C5', 'C6', 'C7', 'C8', 'C9', 'C10', 'C11', 'C12', 'C13', 'C14', 'C15', 'C16', 'C17', 'C18', 'C19', 'C20', 'C21', 'C22', 'C23', 'C24', 'C25', 'C26'], 'additional_feature_columns': [], 'model_type': <class 'sklearn.svm.classes.LinearSVC'>, 'model_paramters': {'dual': False}},\n",
        " LSVM40Groups_33ddaf8a-3ca1-11e4-b2c2-1e5ff811d93a : {'training_dataset': 'origin', 'training_data_slices': slice(21774304, 22920320, None), 'feature_columns': ['I1', 'I2', 'I3', 'I4', 'I5', 'I6', 'I7', 'I8', 'I9', 'I10', 'I11', 'I12', 'I13', 'C1', 'C2', 'C3', 'C4', 'C5', 'C6', 'C7', 'C8', 'C9', 'C10', 'C11', 'C12', 'C13', 'C14', 'C15', 'C16', 'C17', 'C18', 'C19', 'C20', 'C21', 'C22', 'C23', 'C24', 'C25', 'C26'], 'additional_feature_columns': [], 'model_type': <class 'sklearn.svm.classes.LinearSVC'>, 'model_paramters': {'dual': False}},\n",
        " LSVM40Groups_61268950-3c9f-11e4-94ef-1e5ff811d93a : {'training_dataset': 'origin', 'training_data_slices': slice(29796416, 30942432, None), 'feature_columns': ['I1', 'I2', 'I3', 'I4', 'I5', 'I6', 'I7', 'I8', 'I9', 'I10', 'I11', 'I12', 'I13', 'C1', 'C2', 'C3', 'C4', 'C5', 'C6', 'C7', 'C8', 'C9', 'C10', 'C11', 'C12', 'C13', 'C14', 'C15', 'C16', 'C17', 'C18', 'C19', 'C20', 'C21', 'C22', 'C23', 'C24', 'C25', 'C26'], 'additional_feature_columns': [], 'model_type': <class 'sklearn.svm.classes.LinearSVC'>, 'model_paramters': {'dual': False}},\n",
        " LSVM40Groups_54bb4ce0-3c9b-11e4-a445-1e5ff811d93a : {'training_dataset': 'origin', 'training_data_slices': slice(16044224, 17190240, None), 'feature_columns': ['I1', 'I2', 'I3', 'I4', 'I5', 'I6', 'I7', 'I8', 'I9', 'I10', 'I11', 'I12', 'I13', 'C1', 'C2', 'C3', 'C4', 'C5', 'C6', 'C7', 'C8', 'C9', 'C10', 'C11', 'C12', 'C13', 'C14', 'C15', 'C16', 'C17', 'C18', 'C19', 'C20', 'C21', 'C22', 'C23', 'C24', 'C25', 'C26'], 'additional_feature_columns': [], 'model_type': <class 'sklearn.svm.classes.LinearSVC'>, 'model_paramters': {'dual': False}},\n",
        " LSVM40Groups_b8f2a560-3ca4-11e4-a445-1e5ff811d93a : {'training_dataset': 'origin', 'training_data_slices': slice(42402592, 43548608, None), 'feature_columns': ['I1', 'I2', 'I3', 'I4', 'I5', 'I6', 'I7', 'I8', 'I9', 'I10', 'I11', 'I12', 'I13', 'C1', 'C2', 'C3', 'C4', 'C5', 'C6', 'C7', 'C8', 'C9', 'C10', 'C11', 'C12', 'C13', 'C14', 'C15', 'C16', 'C17', 'C18', 'C19', 'C20', 'C21', 'C22', 'C23', 'C24', 'C25', 'C26'], 'additional_feature_columns': [], 'model_type': <class 'sklearn.svm.classes.LinearSVC'>, 'model_paramters': {'dual': False}},\n",
        " LSVM40Groups_2049a8c2-3ca4-11e4-94ef-1e5ff811d93a : {'training_dataset': 'origin', 'training_data_slices': slice(30942432, 32088448, None), 'feature_columns': ['I1', 'I2', 'I3', 'I4', 'I5', 'I6', 'I7', 'I8', 'I9', 'I10', 'I11', 'I12', 'I13', 'C1', 'C2', 'C3', 'C4', 'C5', 'C6', 'C7', 'C8', 'C9', 'C10', 'C11', 'C12', 'C13', 'C14', 'C15', 'C16', 'C17', 'C18', 'C19', 'C20', 'C21', 'C22', 'C23', 'C24', 'C25', 'C26'], 'additional_feature_columns': [], 'model_type': <class 'sklearn.svm.classes.LinearSVC'>, 'model_paramters': {'dual': False}},\n",
        " LSVM40Groups_4e724044-3c9d-11e4-b7d7-1e5ff811d93a : {'training_dataset': 'origin', 'training_data_slices': slice(12606176, 13752192, None), 'feature_columns': ['I1', 'I2', 'I3', 'I4', 'I5', 'I6', 'I7', 'I8', 'I9', 'I10', 'I11', 'I12', 'I13', 'C1', 'C2', 'C3', 'C4', 'C5', 'C6', 'C7', 'C8', 'C9', 'C10', 'C11', 'C12', 'C13', 'C14', 'C15', 'C16', 'C17', 'C18', 'C19', 'C20', 'C21', 'C22', 'C23', 'C24', 'C25', 'C26'], 'additional_feature_columns': [], 'model_type': <class 'sklearn.svm.classes.LinearSVC'>, 'model_paramters': {'dual': False}},\n",
        " LSVM40Groups_66ade418-3c9f-11e4-a445-1e5ff811d93a : {'training_dataset': 'origin', 'training_data_slices': slice(32088448, 33234464, None), 'feature_columns': ['I1', 'I2', 'I3', 'I4', 'I5', 'I6', 'I7', 'I8', 'I9', 'I10', 'I11', 'I12', 'I13', 'C1', 'C2', 'C3', 'C4', 'C5', 'C6', 'C7', 'C8', 'C9', 'C10', 'C11', 'C12', 'C13', 'C14', 'C15', 'C16', 'C17', 'C18', 'C19', 'C20', 'C21', 'C22', 'C23', 'C24', 'C25', 'C26'], 'additional_feature_columns': [], 'model_type': <class 'sklearn.svm.classes.LinearSVC'>, 'model_paramters': {'dual': False}},\n",
        " LSVM40Groups_4582c3d6-3ca3-11e4-b2c2-1e5ff811d93a : {'training_dataset': 'origin', 'training_data_slices': slice(43548608, 44694624, None), 'feature_columns': ['I1', 'I2', 'I3', 'I4', 'I5', 'I6', 'I7', 'I8', 'I9', 'I10', 'I11', 'I12', 'I13', 'C1', 'C2', 'C3', 'C4', 'C5', 'C6', 'C7', 'C8', 'C9', 'C10', 'C11', 'C12', 'C13', 'C14', 'C15', 'C16', 'C17', 'C18', 'C19', 'C20', 'C21', 'C22', 'C23', 'C24', 'C25', 'C26'], 'additional_feature_columns': [], 'model_type': <class 'sklearn.svm.classes.LinearSVC'>, 'model_paramters': {'dual': False}},\n",
        " LSVM40Groups_c1fd4c46-3ca4-11e4-b2c2-1e5ff811d93a : {'training_dataset': 'origin', 'training_data_slices': slice(44694624, 45840617, None), 'feature_columns': ['I1', 'I2', 'I3', 'I4', 'I5', 'I6', 'I7', 'I8', 'I9', 'I10', 'I11', 'I12', 'I13', 'C1', 'C2', 'C3', 'C4', 'C5', 'C6', 'C7', 'C8', 'C9', 'C10', 'C11', 'C12', 'C13', 'C14', 'C15', 'C16', 'C17', 'C18', 'C19', 'C20', 'C21', 'C22', 'C23', 'C24', 'C25', 'C26'], 'additional_feature_columns': [], 'model_type': <class 'sklearn.svm.classes.LinearSVC'>, 'model_paramters': {'dual': False}},\n",
        " LSVM40Groups_4e0ab6d6-3c9d-11e4-a643-1e5ff811d93a : {'training_dataset': 'origin', 'training_data_slices': slice(10314144, 11460160, None), 'feature_columns': ['I1', 'I2', 'I3', 'I4', 'I5', 'I6', 'I7', 'I8', 'I9', 'I10', 'I11', 'I12', 'I13', 'C1', 'C2', 'C3', 'C4', 'C5', 'C6', 'C7', 'C8', 'C9', 'C10', 'C11', 'C12', 'C13', 'C14', 'C15', 'C16', 'C17', 'C18', 'C19', 'C20', 'C21', 'C22', 'C23', 'C24', 'C25', 'C26'], 'additional_feature_columns': [], 'model_type': <class 'sklearn.svm.classes.LinearSVC'>, 'model_paramters': {'dual': False}},\n",
        " LSVM40Groups_54b9953a-3c9b-11e4-b2c2-1e5ff811d93a : {'training_dataset': 'origin', 'training_data_slices': slice(13752192, 14898208, None), 'feature_columns': ['I1', 'I2', 'I3', 'I4', 'I5', 'I6', 'I7', 'I8', 'I9', 'I10', 'I11', 'I12', 'I13', 'C1', 'C2', 'C3', 'C4', 'C5', 'C6', 'C7', 'C8', 'C9', 'C10', 'C11', 'C12', 'C13', 'C14', 'C15', 'C16', 'C17', 'C18', 'C19', 'C20', 'C21', 'C22', 'C23', 'C24', 'C25', 'C26'], 'additional_feature_columns': [], 'model_type': <class 'sklearn.svm.classes.LinearSVC'>, 'model_paramters': {'dual': False}},\n",
        " LSVM40Groups_60352300-3c9d-11e4-87dc-1e5ff811d93a : {'training_dataset': 'origin', 'training_data_slices': slice(3438048, 4584064, None), 'feature_columns': ['I1', 'I2', 'I3', 'I4', 'I5', 'I6', 'I7', 'I8', 'I9', 'I10', 'I11', 'I12', 'I13', 'C1', 'C2', 'C3', 'C4', 'C5', 'C6', 'C7', 'C8', 'C9', 'C10', 'C11', 'C12', 'C13', 'C14', 'C15', 'C16', 'C17', 'C18', 'C19', 'C20', 'C21', 'C22', 'C23', 'C24', 'C25', 'C26'], 'additional_feature_columns': [], 'model_type': <class 'sklearn.svm.classes.LinearSVC'>, 'model_paramters': {'dual': False}},\n",
        " LSVM40Groups_70b79ecc-3c9f-11e4-b3ae-1e5ff811d93a : {'training_dataset': 'origin', 'training_data_slices': slice(34380480, 35526496, None), 'feature_columns': ['I1', 'I2', 'I3', 'I4', 'I5', 'I6', 'I7', 'I8', 'I9', 'I10', 'I11', 'I12', 'I13', 'C1', 'C2', 'C3', 'C4', 'C5', 'C6', 'C7', 'C8', 'C9', 'C10', 'C11', 'C12', 'C13', 'C14', 'C15', 'C16', 'C17', 'C18', 'C19', 'C20', 'C21', 'C22', 'C23', 'C24', 'C25', 'C26'], 'additional_feature_columns': [], 'model_type': <class 'sklearn.svm.classes.LinearSVC'>, 'model_paramters': {'dual': False}},\n",
        " LSVM40Groups_43f8dd92-3c9f-11e4-87dc-1e5ff811d93a : {'training_dataset': 'origin', 'training_data_slices': slice(22920320, 24066336, None), 'feature_columns': ['I1', 'I2', 'I3', 'I4', 'I5', 'I6', 'I7', 'I8', 'I9', 'I10', 'I11', 'I12', 'I13', 'C1', 'C2', 'C3', 'C4', 'C5', 'C6', 'C7', 'C8', 'C9', 'C10', 'C11', 'C12', 'C13', 'C14', 'C15', 'C16', 'C17', 'C18', 'C19', 'C20', 'C21', 'C22', 'C23', 'C24', 'C25', 'C26'], 'additional_feature_columns': [], 'model_type': <class 'sklearn.svm.classes.LinearSVC'>, 'model_paramters': {'dual': False}},\n",
        " LSVM40Groups_0a49be54-3c9f-11e4-a643-1e5ff811d93a : {'training_dataset': 'origin', 'training_data_slices': slice(18336256, 19482272, None), 'feature_columns': ['I1', 'I2', 'I3', 'I4', 'I5', 'I6', 'I7', 'I8', 'I9', 'I10', 'I11', 'I12', 'I13', 'C1', 'C2', 'C3', 'C4', 'C5', 'C6', 'C7', 'C8', 'C9', 'C10', 'C11', 'C12', 'C13', 'C14', 'C15', 'C16', 'C17', 'C18', 'C19', 'C20', 'C21', 'C22', 'C23', 'C24', 'C25', 'C26'], 'additional_feature_columns': [], 'model_type': <class 'sklearn.svm.classes.LinearSVC'>, 'model_paramters': {'dual': False}}]"
       ]
      }
     ],
     "prompt_number": 15
    },
    {
     "cell_type": "code",
     "collapsed": false,
     "input": [],
     "language": "python",
     "metadata": {},
     "outputs": []
    },
    {
     "cell_type": "code",
     "collapsed": false,
     "input": [
      "1/np.subtract(1,-np.exp(np.subtract(0.725,xx))"
     ],
     "language": "python",
     "metadata": {},
     "outputs": []
    },
    {
     "cell_type": "code",
     "collapsed": false,
     "input": [
      "erf(1.*np.subtract(xx,-0.625)"
     ],
     "language": "python",
     "metadata": {},
     "outputs": []
    },
    {
     "cell_type": "code",
     "collapsed": false,
     "input": [],
     "language": "python",
     "metadata": {},
     "outputs": [
      {
       "metadata": {},
       "output_type": "pyout",
       "prompt_number": 19,
       "text": [
        "<ufunc 'exp'>"
       ]
      }
     ],
     "prompt_number": 19
    },
    {
     "cell_type": "code",
     "collapsed": false,
     "input": [
      "logloss_dict = svm_series.compute_training_data_logloss(prob_func=lambda xx:erf(0.3*np.subtract(xx,-1.15)),\n",
      "                                                        use_prediction=\"decision_function\",\n",
      "                                                        sample_slice  = slice(0,1000000,None))"
     ],
     "language": "python",
     "metadata": {},
     "outputs": [
      {
       "output_type": "stream",
       "stream": "stdout",
       "text": [
        "[LSVM40Groups_4e925d02-3c9d-11e4-b2c2-1e5ff811d93a] [compute_training_data_logloss] conpute logloss with decision_function \n",
        "[LSVM40Groups_4e925d02-3c9d-11e4-b2c2-1e5ff811d93a] [compute_training_data_logloss] logloss_value = 0.552715412156 "
       ]
      },
      {
       "output_type": "stream",
       "stream": "stdout",
       "text": [
        "\n",
        "[LSVM40Groups_98795626-3ca4-11e4-b7d7-1e5ff811d93a] [compute_training_data_logloss] conpute logloss with decision_function \n",
        "[LSVM40Groups_98795626-3ca4-11e4-b7d7-1e5ff811d93a] [compute_training_data_logloss] logloss_value = 0.553659189274 "
       ]
      },
      {
       "output_type": "stream",
       "stream": "stdout",
       "text": [
        "\n",
        "[LSVM40Groups_6cfbc9ea-3c9d-11e4-b3ae-1e5ff811d93a] [compute_training_data_logloss] conpute logloss with decision_function \n",
        "[LSVM40Groups_6cfbc9ea-3c9d-11e4-b3ae-1e5ff811d93a] [compute_training_data_logloss] logloss_value = 0.553274926082 "
       ]
      },
      {
       "output_type": "stream",
       "stream": "stdout",
       "text": [
        "\n",
        "[LSVM40Groups_65c582d8-3c9d-11e4-97fc-1e5ff811d93a] [compute_training_data_logloss] conpute logloss with decision_function \n",
        "[LSVM40Groups_65c582d8-3c9d-11e4-97fc-1e5ff811d93a] [compute_training_data_logloss] logloss_value = 0.554174912852 "
       ]
      },
      {
       "output_type": "stream",
       "stream": "stdout",
       "text": [
        "\n",
        "[LSVM40Groups_0c8989ca-3ca3-11e4-87dc-1e5ff811d93a] [compute_training_data_logloss] conpute logloss with decision_function \n",
        "[LSVM40Groups_0c8989ca-3ca3-11e4-87dc-1e5ff811d93a] [compute_training_data_logloss] logloss_value = 0.553218579772 "
       ]
      },
      {
       "output_type": "stream",
       "stream": "stdout",
       "text": [
        "\n",
        "[LSVM40Groups_601b8f68-3ca1-11e4-97fc-1e5ff811d93a] [compute_training_data_logloss] conpute logloss with decision_function \n",
        "[LSVM40Groups_601b8f68-3ca1-11e4-97fc-1e5ff811d93a] [compute_training_data_logloss] logloss_value = 0.550903928145 "
       ]
      },
      {
       "output_type": "stream",
       "stream": "stdout",
       "text": [
        "\n",
        "[LSVM40Groups_1704ade6-3ca1-11e4-87dc-1e5ff811d93a] [compute_training_data_logloss] conpute logloss with decision_function \n",
        "[LSVM40Groups_1704ade6-3ca1-11e4-87dc-1e5ff811d93a] [compute_training_data_logloss] logloss_value = 0.553477048995 "
       ]
      },
      {
       "output_type": "stream",
       "stream": "stdout",
       "text": [
        "\n",
        "[LSVM40Groups_3305f8ea-3ca3-11e4-a445-1e5ff811d93a] [compute_training_data_logloss] conpute logloss with decision_function \n",
        "[LSVM40Groups_3305f8ea-3ca3-11e4-a445-1e5ff811d93a] [compute_training_data_logloss] logloss_value = 0.552021205979 "
       ]
      },
      {
       "output_type": "stream",
       "stream": "stdout",
       "text": [
        "\n",
        "[LSVM40Groups_54b83064-3c9b-11e4-87dc-1e5ff811d93a] [compute_training_data_logloss] conpute logloss with decision_function \n",
        "[LSVM40Groups_54b83064-3c9b-11e4-87dc-1e5ff811d93a] [compute_training_data_logloss] logloss_value = 0.553269234789 "
       ]
      },
      {
       "output_type": "stream",
       "stream": "stdout",
       "text": [
        "\n",
        "[LSVM40Groups_6e0417e8-3c9d-11e4-94ef-1e5ff811d93a] [compute_training_data_logloss] conpute logloss with decision_function \n",
        "[LSVM40Groups_6e0417e8-3c9d-11e4-94ef-1e5ff811d93a] [compute_training_data_logloss] logloss_value = 0.553058584441 "
       ]
      },
      {
       "output_type": "stream",
       "stream": "stdout",
       "text": [
        "\n",
        "[LSVM40Groups_0baa5160-3ca3-11e4-b7d7-1e5ff811d93a] [compute_training_data_logloss] conpute logloss with decision_function \n",
        "[LSVM40Groups_0baa5160-3ca3-11e4-b7d7-1e5ff811d93a] [compute_training_data_logloss] logloss_value = 0.552396804688 "
       ]
      },
      {
       "output_type": "stream",
       "stream": "stdout",
       "text": [
        "\n",
        "[LSVM40Groups_5368a0d2-3c9f-11e4-97fc-1e5ff811d93a] [compute_training_data_logloss] conpute logloss with decision_function \n",
        "[LSVM40Groups_5368a0d2-3c9f-11e4-97fc-1e5ff811d93a] [compute_training_data_logloss] logloss_value = 0.551324942179 "
       ]
      },
      {
       "output_type": "stream",
       "stream": "stdout",
       "text": [
        "\n",
        "[LSVM40Groups_54b82b3c-3c9b-11e4-b3ae-1e5ff811d93a] [compute_training_data_logloss] conpute logloss with decision_function \n",
        "[LSVM40Groups_54b82b3c-3c9b-11e4-b3ae-1e5ff811d93a] [compute_training_data_logloss] logloss_value = 0.553508322929 "
       ]
      },
      {
       "output_type": "stream",
       "stream": "stdout",
       "text": [
        "\n",
        "[LSVM40Groups_31df6250-3ca1-11e4-b7d7-1e5ff811d93a] [compute_training_data_logloss] conpute logloss with decision_function \n",
        "[LSVM40Groups_31df6250-3ca1-11e4-b7d7-1e5ff811d93a] [compute_training_data_logloss] logloss_value = 0.55069243879 "
       ]
      },
      {
       "output_type": "stream",
       "stream": "stdout",
       "text": [
        "\n",
        "[LSVM40Groups_54bb5e9c-3c9b-11e4-b7d7-1e5ff811d93a] [compute_training_data_logloss] conpute logloss with decision_function \n",
        "[LSVM40Groups_54bb5e9c-3c9b-11e4-b7d7-1e5ff811d93a] [compute_training_data_logloss] logloss_value = 0.554253709382 "
       ]
      },
      {
       "output_type": "stream",
       "stream": "stdout",
       "text": [
        "\n",
        "[LSVM40Groups_4a73396a-3c9f-11e4-b7d7-1e5ff811d93a] [compute_training_data_logloss] conpute logloss with decision_function \n",
        "[LSVM40Groups_4a73396a-3c9f-11e4-b7d7-1e5ff811d93a] [compute_training_data_logloss] logloss_value = 0.55374711297 "
       ]
      },
      {
       "output_type": "stream",
       "stream": "stdout",
       "text": [
        "\n",
        "[LSVM40Groups_4d3f40f6-3ca1-11e4-a445-1e5ff811d93a] [compute_training_data_logloss] conpute logloss with decision_function \n",
        "[LSVM40Groups_4d3f40f6-3ca1-11e4-a445-1e5ff811d93a] [compute_training_data_logloss] logloss_value = 0.55089484836 "
       ]
      },
      {
       "output_type": "stream",
       "stream": "stdout",
       "text": [
        "\n",
        "[LSVM40Groups_8032570c-3ca4-11e4-87dc-1e5ff811d93a] [compute_training_data_logloss] conpute logloss with decision_function \n",
        "[LSVM40Groups_8032570c-3ca4-11e4-87dc-1e5ff811d93a] [compute_training_data_logloss] logloss_value = 0.55178417679 "
       ]
      },
      {
       "output_type": "stream",
       "stream": "stdout",
       "text": [
        "\n",
        "[LSVM40Groups_8e68d470-3ca1-11e4-a643-1e5ff811d93a] [compute_training_data_logloss] conpute logloss with decision_function \n",
        "[LSVM40Groups_8e68d470-3ca1-11e4-a643-1e5ff811d93a] [compute_training_data_logloss] logloss_value = 0.550592421913 "
       ]
      },
      {
       "output_type": "stream",
       "stream": "stdout",
       "text": [
        "\n",
        "[LSVM40Groups_7e67eab6-3ca1-11e4-b3ae-1e5ff811d93a] [compute_training_data_logloss] conpute logloss with decision_function \n",
        "[LSVM40Groups_7e67eab6-3ca1-11e4-b3ae-1e5ff811d93a] [compute_training_data_logloss] logloss_value = 0.551992745504 "
       ]
      },
      {
       "output_type": "stream",
       "stream": "stdout",
       "text": [
        "\n",
        "[LSVM40Groups_35db1fd6-3c9f-11e4-b2c2-1e5ff811d93a] [compute_training_data_logloss] conpute logloss with decision_function \n",
        "[LSVM40Groups_35db1fd6-3c9f-11e4-b2c2-1e5ff811d93a] [compute_training_data_logloss] logloss_value = 0.552282233303 "
       ]
      },
      {
       "output_type": "stream",
       "stream": "stdout",
       "text": [
        "\n",
        "[LSVM40Groups_54b919e8-3c9b-11e4-94ef-1e5ff811d93a] [compute_training_data_logloss] conpute logloss with decision_function \n",
        "[LSVM40Groups_54b919e8-3c9b-11e4-94ef-1e5ff811d93a] [compute_training_data_logloss] logloss_value = 0.553070844493 "
       ]
      },
      {
       "output_type": "stream",
       "stream": "stdout",
       "text": [
        "\n",
        "[LSVM40Groups_54bcb56c-3c9b-11e4-97fc-1e5ff811d93a] [compute_training_data_logloss] conpute logloss with decision_function \n",
        "[LSVM40Groups_54bcb56c-3c9b-11e4-97fc-1e5ff811d93a] [compute_training_data_logloss] logloss_value = 0.553009592269 "
       ]
      },
      {
       "output_type": "stream",
       "stream": "stdout",
       "text": [
        "\n",
        "[LSVM40Groups_54b7f2e8-3c9b-11e4-a643-1e5ff811d93a] [compute_training_data_logloss] conpute logloss with decision_function \n",
        "[LSVM40Groups_54b7f2e8-3c9b-11e4-a643-1e5ff811d93a] [compute_training_data_logloss] logloss_value = 0.552294753335 "
       ]
      },
      {
       "output_type": "stream",
       "stream": "stdout",
       "text": [
        "\n",
        "[LSVM40Groups_6c1c1002-3c9d-11e4-a445-1e5ff811d93a] [compute_training_data_logloss] conpute logloss with decision_function \n",
        "[LSVM40Groups_6c1c1002-3c9d-11e4-a445-1e5ff811d93a] [compute_training_data_logloss] logloss_value = 0.553014959348 "
       ]
      },
      {
       "output_type": "stream",
       "stream": "stdout",
       "text": [
        "\n",
        "[LSVM40Groups_33ddaf8a-3ca1-11e4-b2c2-1e5ff811d93a] [compute_training_data_logloss] conpute logloss with decision_function \n",
        "[LSVM40Groups_33ddaf8a-3ca1-11e4-b2c2-1e5ff811d93a] [compute_training_data_logloss] logloss_value = 0.551555451837 "
       ]
      },
      {
       "output_type": "stream",
       "stream": "stdout",
       "text": [
        "\n",
        "[LSVM40Groups_61268950-3c9f-11e4-94ef-1e5ff811d93a] [compute_training_data_logloss] conpute logloss with decision_function \n",
        "[LSVM40Groups_61268950-3c9f-11e4-94ef-1e5ff811d93a] [compute_training_data_logloss] logloss_value = 0.551331558127 "
       ]
      },
      {
       "output_type": "stream",
       "stream": "stdout",
       "text": [
        "\n",
        "[LSVM40Groups_54bb4ce0-3c9b-11e4-a445-1e5ff811d93a] [compute_training_data_logloss] conpute logloss with decision_function \n",
        "[LSVM40Groups_54bb4ce0-3c9b-11e4-a445-1e5ff811d93a] [compute_training_data_logloss] logloss_value = 0.552280674694 "
       ]
      },
      {
       "output_type": "stream",
       "stream": "stdout",
       "text": [
        "\n",
        "[LSVM40Groups_b8f2a560-3ca4-11e4-a445-1e5ff811d93a] [compute_training_data_logloss] conpute logloss with decision_function \n",
        "[LSVM40Groups_b8f2a560-3ca4-11e4-a445-1e5ff811d93a] [compute_training_data_logloss] logloss_value = 0.55165873123 "
       ]
      },
      {
       "output_type": "stream",
       "stream": "stdout",
       "text": [
        "\n",
        "[LSVM40Groups_2049a8c2-3ca4-11e4-94ef-1e5ff811d93a] [compute_training_data_logloss] conpute logloss with decision_function \n",
        "[LSVM40Groups_2049a8c2-3ca4-11e4-94ef-1e5ff811d93a] [compute_training_data_logloss] logloss_value = 0.551615523589 "
       ]
      },
      {
       "output_type": "stream",
       "stream": "stdout",
       "text": [
        "\n",
        "[LSVM40Groups_4e724044-3c9d-11e4-b7d7-1e5ff811d93a] [compute_training_data_logloss] conpute logloss with decision_function \n",
        "[LSVM40Groups_4e724044-3c9d-11e4-b7d7-1e5ff811d93a] [compute_training_data_logloss] logloss_value = 0.551121658803 "
       ]
      },
      {
       "output_type": "stream",
       "stream": "stdout",
       "text": [
        "\n",
        "[LSVM40Groups_66ade418-3c9f-11e4-a445-1e5ff811d93a] [compute_training_data_logloss] conpute logloss with decision_function \n",
        "[LSVM40Groups_66ade418-3c9f-11e4-a445-1e5ff811d93a] [compute_training_data_logloss] logloss_value = 0.551745413838 "
       ]
      },
      {
       "output_type": "stream",
       "stream": "stdout",
       "text": [
        "\n",
        "[LSVM40Groups_4582c3d6-3ca3-11e4-b2c2-1e5ff811d93a] [compute_training_data_logloss] conpute logloss with decision_function \n",
        "[LSVM40Groups_4582c3d6-3ca3-11e4-b2c2-1e5ff811d93a] [compute_training_data_logloss] logloss_value = 0.552505885908 "
       ]
      },
      {
       "output_type": "stream",
       "stream": "stdout",
       "text": [
        "\n",
        "[LSVM40Groups_c1fd4c46-3ca4-11e4-b2c2-1e5ff811d93a] [compute_training_data_logloss] conpute logloss with decision_function \n",
        "[LSVM40Groups_c1fd4c46-3ca4-11e4-b2c2-1e5ff811d93a] [compute_training_data_logloss] logloss_value = 0.55290508908 "
       ]
      },
      {
       "output_type": "stream",
       "stream": "stdout",
       "text": [
        "\n",
        "[LSVM40Groups_4e0ab6d6-3c9d-11e4-a643-1e5ff811d93a] [compute_training_data_logloss] conpute logloss with decision_function \n",
        "[LSVM40Groups_4e0ab6d6-3c9d-11e4-a643-1e5ff811d93a] [compute_training_data_logloss] logloss_value = 0.552643534339 "
       ]
      },
      {
       "output_type": "stream",
       "stream": "stdout",
       "text": [
        "\n",
        "[LSVM40Groups_54b9953a-3c9b-11e4-b2c2-1e5ff811d93a] [compute_training_data_logloss] conpute logloss with decision_function \n",
        "[LSVM40Groups_54b9953a-3c9b-11e4-b2c2-1e5ff811d93a] [compute_training_data_logloss] logloss_value = 0.552668625851 "
       ]
      },
      {
       "output_type": "stream",
       "stream": "stdout",
       "text": [
        "\n",
        "[LSVM40Groups_60352300-3c9d-11e4-87dc-1e5ff811d93a] [compute_training_data_logloss] conpute logloss with decision_function \n",
        "[LSVM40Groups_60352300-3c9d-11e4-87dc-1e5ff811d93a] [compute_training_data_logloss] logloss_value = 0.553079282307 "
       ]
      },
      {
       "output_type": "stream",
       "stream": "stdout",
       "text": [
        "\n",
        "[LSVM40Groups_70b79ecc-3c9f-11e4-b3ae-1e5ff811d93a] [compute_training_data_logloss] conpute logloss with decision_function \n",
        "[LSVM40Groups_70b79ecc-3c9f-11e4-b3ae-1e5ff811d93a] [compute_training_data_logloss] logloss_value = 0.552410066287 "
       ]
      },
      {
       "output_type": "stream",
       "stream": "stdout",
       "text": [
        "\n",
        "[LSVM40Groups_43f8dd92-3c9f-11e4-87dc-1e5ff811d93a] [compute_training_data_logloss] conpute logloss with decision_function \n",
        "[LSVM40Groups_43f8dd92-3c9f-11e4-87dc-1e5ff811d93a] [compute_training_data_logloss] logloss_value = 0.551994277689 "
       ]
      },
      {
       "output_type": "stream",
       "stream": "stdout",
       "text": [
        "\n",
        "[LSVM40Groups_0a49be54-3c9f-11e4-a643-1e5ff811d93a] [compute_training_data_logloss] conpute logloss with decision_function \n",
        "[LSVM40Groups_0a49be54-3c9f-11e4-a643-1e5ff811d93a] [compute_training_data_logloss] logloss_value = 0.553377644009 "
       ]
      },
      {
       "output_type": "stream",
       "stream": "stdout",
       "text": [
        "\n"
       ]
      }
     ],
     "prompt_number": 45
    },
    {
     "cell_type": "code",
     "collapsed": false,
     "input": [
      "m = svm_series.series_models[0]"
     ],
     "language": "python",
     "metadata": {},
     "outputs": [],
     "prompt_number": 17
    },
    {
     "cell_type": "code",
     "collapsed": false,
     "input": [
      "%time m.compute_training_data_logloss(prob_func=lambda xx:erf(0.3*np.subtract(xx,-1.3)),use_prediction=\"decision_function\",sample_slice  = slice(0,None,None))"
     ],
     "language": "python",
     "metadata": {},
     "outputs": [
      {
       "output_type": "stream",
       "stream": "stdout",
       "text": [
        "[LSVM40Groups_4e925d02-3c9d-11e4-b2c2-1e5ff811d93a] [compute_training_data_logloss] conpute logloss with decision_function \n",
        "[LSVM40Groups_4e925d02-3c9d-11e4-b2c2-1e5ff811d93a] [compute_training_data_logloss] logloss_value = 0.55569811621 "
       ]
      },
      {
       "output_type": "stream",
       "stream": "stdout",
       "text": [
        "\n",
        "CPU times: user 12.7 s, sys: 1.85 s, total: 14.5 s"
       ]
      },
      {
       "output_type": "stream",
       "stream": "stdout",
       "text": [
        "\n",
        "Wall time: 4.76 s\n"
       ]
      },
      {
       "metadata": {},
       "output_type": "pyout",
       "prompt_number": 18,
       "text": [
        "0.55569811621003096"
       ]
      }
     ],
     "prompt_number": 18
    },
    {
     "cell_type": "code",
     "collapsed": false,
     "input": [
      "#logloss_dict"
     ],
     "language": "python",
     "metadata": {},
     "outputs": [],
     "prompt_number": 22
    },
    {
     "cell_type": "code",
     "collapsed": false,
     "input": [],
     "language": "python",
     "metadata": {},
     "outputs": []
    },
    {
     "cell_type": "code",
     "collapsed": false,
     "input": [],
     "language": "python",
     "metadata": {},
     "outputs": [],
     "prompt_number": 35
    },
    {
     "cell_type": "code",
     "collapsed": false,
     "input": [],
     "language": "python",
     "metadata": {},
     "outputs": [],
     "prompt_number": 36
    },
    {
     "cell_type": "code",
     "collapsed": false,
     "input": [
      "#rf_series.series_models"
     ],
     "language": "python",
     "metadata": {},
     "outputs": [],
     "prompt_number": 37
    },
    {
     "cell_type": "code",
     "collapsed": false,
     "input": [
      "rf_logloss_dict1 = rf_series.compute_training_data_logloss(use_prediction=\"predict_proba\",\n",
      "                                                           sample_slice  = slice(0,1000000,None))"
     ],
     "language": "python",
     "metadata": {},
     "outputs": [
      {
       "output_type": "stream",
       "stream": "stdout",
       "text": [
        "[RFmss10ne200-40Groups_ffca52ca-3d54-11e4-9872-5a1064dce9ab] [compute_training_data_logloss] conpute logloss with predict_proba \n",
        "[RFmss10ne200-40Groups_ffca52ca-3d54-11e4-9872-5a1064dce9ab] [compute_training_data_logloss] logloss_value = 0.49174389931 "
       ]
      },
      {
       "output_type": "stream",
       "stream": "stdout",
       "text": [
        "\n",
        "[RFmss10ne200-40Groups_96e6dfac-3dfa-11e4-9872-5a1064dce9ab] [compute_training_data_logloss] conpute logloss with predict_proba \n",
        "[RFmss10ne200-40Groups_96e6dfac-3dfa-11e4-9872-5a1064dce9ab] [compute_training_data_logloss] logloss_value = 0.493043958186 "
       ]
      },
      {
       "output_type": "stream",
       "stream": "stdout",
       "text": [
        "\n",
        "[RFmss10ne200-40Groups_1ef4e8dc-3de5-11e4-9872-5a1064dce9ab] [compute_training_data_logloss] conpute logloss with predict_proba \n",
        "[RFmss10ne200-40Groups_1ef4e8dc-3de5-11e4-9872-5a1064dce9ab] [compute_training_data_logloss] logloss_value = 0.49391074478 "
       ]
      },
      {
       "output_type": "stream",
       "stream": "stdout",
       "text": [
        "\n",
        "[RFmss10ne200-40Groups_6d99e818-3dcf-11e4-9872-5a1064dce9ab] [compute_training_data_logloss] conpute logloss with predict_proba \n",
        "[RFmss10ne200-40Groups_6d99e818-3dcf-11e4-9872-5a1064dce9ab] [compute_training_data_logloss] logloss_value = 0.493110209797 "
       ]
      },
      {
       "output_type": "stream",
       "stream": "stdout",
       "text": [
        "\n",
        "[RFmss10ne200-40Groups_732cc740-3df3-11e4-9872-5a1064dce9ab] [compute_training_data_logloss] conpute logloss with predict_proba \n",
        "[RFmss10ne200-40Groups_732cc740-3df3-11e4-9872-5a1064dce9ab] [compute_training_data_logloss] logloss_value = 0.492651314135 "
       ]
      },
      {
       "output_type": "stream",
       "stream": "stdout",
       "text": [
        "\n",
        "[RFmss10ne200-40Groups_e1d006ca-3d95-11e4-9872-5a1064dce9ab] [compute_training_data_logloss] conpute logloss with predict_proba \n",
        "[RFmss10ne200-40Groups_e1d006ca-3d95-11e4-9872-5a1064dce9ab] [compute_training_data_logloss] logloss_value = 0.49310169048 "
       ]
      },
      {
       "output_type": "stream",
       "stream": "stdout",
       "text": [
        "\n",
        "[RFmss10ne200-40Groups_7ac82f46-3dab-11e4-9872-5a1064dce9ab] [compute_training_data_logloss] conpute logloss with predict_proba \n",
        "[RFmss10ne200-40Groups_7ac82f46-3dab-11e4-9872-5a1064dce9ab] [compute_training_data_logloss] logloss_value = 0.494157777558 "
       ]
      },
      {
       "output_type": "stream",
       "stream": "stdout",
       "text": [
        "\n",
        "[RFmss10ne200-40Groups_55b2f6c8-3dec-11e4-9872-5a1064dce9ab] [compute_training_data_logloss] conpute logloss with predict_proba \n",
        "[RFmss10ne200-40Groups_55b2f6c8-3dec-11e4-9872-5a1064dce9ab] [compute_training_data_logloss] logloss_value = 0.491728651088 "
       ]
      },
      {
       "output_type": "stream",
       "stream": "stdout",
       "text": [
        "\n",
        "[RFmss10ne200-40Groups_ae25dd7e-3d8e-11e4-9872-5a1064dce9ab] [compute_training_data_logloss] conpute logloss with predict_proba \n",
        "[RFmss10ne200-40Groups_ae25dd7e-3d8e-11e4-9872-5a1064dce9ab] [compute_training_data_logloss] logloss_value = 0.494057191077 "
       ]
      },
      {
       "output_type": "stream",
       "stream": "stdout",
       "text": [
        "\n",
        "[RFmss10ne200-40Groups_d2df0bd6-3d4d-11e4-9872-5a1064dce9ab] [compute_training_data_logloss] conpute logloss with predict_proba \n",
        "[RFmss10ne200-40Groups_d2df0bd6-3d4d-11e4-9872-5a1064dce9ab] [compute_training_data_logloss] logloss_value = 0.491247716999 "
       ]
      },
      {
       "output_type": "stream",
       "stream": "stdout",
       "text": [
        "\n",
        "[RFmss10ne200-40Groups_e947a10e-3ddd-11e4-9872-5a1064dce9ab] [compute_training_data_logloss] conpute logloss with predict_proba \n",
        "[RFmss10ne200-40Groups_e947a10e-3ddd-11e4-9872-5a1064dce9ab] [compute_training_data_logloss] logloss_value = 0.493935765851 "
       ]
      },
      {
       "output_type": "stream",
       "stream": "stdout",
       "text": [
        "\n",
        "[RFmss10ne200-40Groups_baf2be96-3e01-11e4-9872-5a1064dce9ab] [compute_training_data_logloss] conpute logloss with predict_proba \n",
        "[RFmss10ne200-40Groups_baf2be96-3e01-11e4-9872-5a1064dce9ab] [compute_training_data_logloss] logloss_value = 0.496096141493 "
       ]
      },
      {
       "output_type": "stream",
       "stream": "stdout",
       "text": [
        "\n",
        "[RFmss10ne200-40Groups_b93c14c4-3dd6-11e4-9872-5a1064dce9ab] [compute_training_data_logloss] conpute logloss with predict_proba \n",
        "[RFmss10ne200-40Groups_b93c14c4-3dd6-11e4-9872-5a1064dce9ab] [compute_training_data_logloss] logloss_value = 0.493510925611 "
       ]
      },
      {
       "output_type": "stream",
       "stream": "stdout",
       "text": [
        "\n",
        "[RFmss10ne200-40Groups_201f9140-3dc1-11e4-9872-5a1064dce9ab] [compute_training_data_logloss] conpute logloss with predict_proba \n",
        "[RFmss10ne200-40Groups_201f9140-3dc1-11e4-9872-5a1064dce9ab] [compute_training_data_logloss] logloss_value = 0.49174687825 "
       ]
      },
      {
       "output_type": "stream",
       "stream": "stdout",
       "text": [
        "\n",
        "[RFmss10ne200-40Groups_410053ac-3dc8-11e4-9872-5a1064dce9ab] [compute_training_data_logloss] conpute logloss with predict_proba \n",
        "[RFmss10ne200-40Groups_410053ac-3dc8-11e4-9872-5a1064dce9ab] [compute_training_data_logloss] logloss_value = 0.492454545081 "
       ]
      },
      {
       "output_type": "stream",
       "stream": "stdout",
       "text": [
        "\n",
        "[RFmss10ne200-40Groups_14f5ca92-3d9d-11e4-9872-5a1064dce9ab] [compute_training_data_logloss] conpute logloss with predict_proba \n",
        "[RFmss10ne200-40Groups_14f5ca92-3d9d-11e4-9872-5a1064dce9ab] [compute_training_data_logloss] logloss_value = 0.493622124097 "
       ]
      },
      {
       "output_type": "stream",
       "stream": "stdout",
       "text": [
        "\n",
        "[RFmss10ne200-40Groups_4315ad96-3da4-11e4-9872-5a1064dce9ab] [compute_training_data_logloss] conpute logloss with predict_proba \n",
        "[RFmss10ne200-40Groups_4315ad96-3da4-11e4-9872-5a1064dce9ab] [compute_training_data_logloss] logloss_value = 0.493717025108 "
       ]
      },
      {
       "output_type": "stream",
       "stream": "stdout",
       "text": [
        "\n",
        "[RFmss10ne200-40Groups_b627f178-3db2-11e4-9872-5a1064dce9ab] [compute_training_data_logloss] conpute logloss with predict_proba \n",
        "[RFmss10ne200-40Groups_b627f178-3db2-11e4-9872-5a1064dce9ab] [compute_training_data_logloss] logloss_value = 0.494760115931 "
       ]
      },
      {
       "output_type": "stream",
       "stream": "stdout",
       "text": [
        "\n",
        "[RFmss10ne200-40Groups_9a8d6d4c-3d46-11e4-9872-5a1064dce9ab] [compute_training_data_logloss] conpute logloss with predict_proba \n",
        "[RFmss10ne200-40Groups_9a8d6d4c-3d46-11e4-9872-5a1064dce9ab] [compute_training_data_logloss] logloss_value = 0.235398760933 "
       ]
      },
      {
       "output_type": "stream",
       "stream": "stdout",
       "text": [
        "\n",
        "[RFmss10ne200-40Groups_817e0644-3d6a-11e4-9872-5a1064dce9ab] [compute_training_data_logloss] conpute logloss with predict_proba \n",
        "[RFmss10ne200-40Groups_817e0644-3d6a-11e4-9872-5a1064dce9ab] [compute_training_data_logloss] logloss_value = 0.491878112309 "
       ]
      },
      {
       "output_type": "stream",
       "stream": "stdout",
       "text": [
        "\n",
        "[RFmss10ne200-40Groups_e7007d40-3db9-11e4-9872-5a1064dce9ab] [compute_training_data_logloss] conpute logloss with predict_proba \n",
        "[RFmss10ne200-40Groups_e7007d40-3db9-11e4-9872-5a1064dce9ab] [compute_training_data_logloss] logloss_value = 0.493313311509 "
       ]
      },
      {
       "output_type": "stream",
       "stream": "stdout",
       "text": [
        "\n",
        "[RFmss10ne200-40Groups_671fc284-3d87-11e4-9872-5a1064dce9ab] [compute_training_data_logloss] conpute logloss with predict_proba \n",
        "[RFmss10ne200-40Groups_671fc284-3d87-11e4-9872-5a1064dce9ab] [compute_training_data_logloss] logloss_value = 0.494596318346 "
       ]
      },
      {
       "output_type": "stream",
       "stream": "stdout",
       "text": [
        "\n",
        "[RFmss10ne200-40Groups_061893a0-3d80-11e4-9872-5a1064dce9ab] [compute_training_data_logloss] conpute logloss with predict_proba \n",
        "[RFmss10ne200-40Groups_061893a0-3d80-11e4-9872-5a1064dce9ab] [compute_training_data_logloss] logloss_value = 0.494098622534 "
       ]
      },
      {
       "output_type": "stream",
       "stream": "stdout",
       "text": [
        "\n",
        "[RFmss10ne200-40Groups_adeba392-3d71-11e4-9872-5a1064dce9ab] [compute_training_data_logloss] conpute logloss with predict_proba \n",
        "[RFmss10ne200-40Groups_adeba392-3d71-11e4-9872-5a1064dce9ab] [compute_training_data_logloss] logloss_value = 0.491959524472 "
       ]
      },
      {
       "output_type": "stream",
       "stream": "stdout",
       "text": [
        "\n",
        "[RFmss10ne200-40Groups_e5d1d7c6-3e08-11e4-9872-5a1064dce9ab] [compute_training_data_logloss] conpute logloss with predict_proba \n",
        "[RFmss10ne200-40Groups_e5d1d7c6-3e08-11e4-9872-5a1064dce9ab] [compute_training_data_logloss] logloss_value = 0.49667056782 "
       ]
      },
      {
       "output_type": "stream",
       "stream": "stdout",
       "text": [
        "\n",
        "[RFmss10ne200-40Groups_28456df0-3d5c-11e4-9872-5a1064dce9ab] [compute_training_data_logloss] conpute logloss with predict_proba \n",
        "[RFmss10ne200-40Groups_28456df0-3d5c-11e4-9872-5a1064dce9ab] [compute_training_data_logloss] logloss_value = 0.492442936797 "
       ]
      },
      {
       "output_type": "stream",
       "stream": "stdout",
       "text": [
        "\n",
        "[RFmss10ne200-40Groups_53e6a918-3d63-11e4-9872-5a1064dce9ab] [compute_training_data_logloss] conpute logloss with predict_proba \n",
        "[RFmss10ne200-40Groups_53e6a918-3d63-11e4-9872-5a1064dce9ab] [compute_training_data_logloss] logloss_value = 0.493147948826 "
       ]
      },
      {
       "output_type": "stream",
       "stream": "stdout",
       "text": [
        "\n",
        "[RFmss10ne200-40Groups_d5b12cc4-3d78-11e4-9872-5a1064dce9ab] [compute_training_data_logloss] conpute logloss with predict_proba \n",
        "[RFmss10ne200-40Groups_d5b12cc4-3d78-11e4-9872-5a1064dce9ab] [compute_training_data_logloss] logloss_value = 0.492972787273 "
       ]
      },
      {
       "output_type": "stream",
       "stream": "stdout",
       "text": [
        "\n"
       ]
      }
     ],
     "prompt_number": 47
    },
    {
     "cell_type": "code",
     "collapsed": false,
     "input": [
      "rf_logloss_dict2 = rf_series.compute_training_data_logloss(use_prediction=\"predict_proba\",\n",
      "                                                           sample_slice  = slice(1000000,3000000,None))"
     ],
     "language": "python",
     "metadata": {},
     "outputs": [
      {
       "output_type": "stream",
       "stream": "stdout",
       "text": [
        "[RFmss10ne200-40Groups_ffca52ca-3d54-11e4-9872-5a1064dce9ab] [compute_training_data_logloss] conpute logloss with predict_proba \n",
        "[RFmss10ne200-40Groups_ffca52ca-3d54-11e4-9872-5a1064dce9ab] [compute_training_data_logloss] logloss_value = 0.398071203213 "
       ]
      },
      {
       "output_type": "stream",
       "stream": "stdout",
       "text": [
        "\n",
        "[RFmss10ne200-40Groups_96e6dfac-3dfa-11e4-9872-5a1064dce9ab] [compute_training_data_logloss] conpute logloss with predict_proba \n",
        "[RFmss10ne200-40Groups_96e6dfac-3dfa-11e4-9872-5a1064dce9ab] [compute_training_data_logloss] logloss_value = 0.489711423641 "
       ]
      },
      {
       "output_type": "stream",
       "stream": "stdout",
       "text": [
        "\n",
        "[RFmss10ne200-40Groups_1ef4e8dc-3de5-11e4-9872-5a1064dce9ab] [compute_training_data_logloss] conpute logloss with predict_proba \n",
        "[RFmss10ne200-40Groups_1ef4e8dc-3de5-11e4-9872-5a1064dce9ab] [compute_training_data_logloss] logloss_value = 0.490286945556 "
       ]
      },
      {
       "output_type": "stream",
       "stream": "stdout",
       "text": [
        "\n",
        "[RFmss10ne200-40Groups_6d99e818-3dcf-11e4-9872-5a1064dce9ab] [compute_training_data_logloss] conpute logloss with predict_proba \n",
        "[RFmss10ne200-40Groups_6d99e818-3dcf-11e4-9872-5a1064dce9ab] [compute_training_data_logloss] logloss_value = 0.489523456792 "
       ]
      },
      {
       "output_type": "stream",
       "stream": "stdout",
       "text": [
        "\n",
        "[RFmss10ne200-40Groups_732cc740-3df3-11e4-9872-5a1064dce9ab] [compute_training_data_logloss] conpute logloss with predict_proba \n",
        "[RFmss10ne200-40Groups_732cc740-3df3-11e4-9872-5a1064dce9ab] [compute_training_data_logloss] logloss_value = 0.489420722114 "
       ]
      },
      {
       "output_type": "stream",
       "stream": "stdout",
       "text": [
        "\n",
        "[RFmss10ne200-40Groups_e1d006ca-3d95-11e4-9872-5a1064dce9ab] [compute_training_data_logloss] conpute logloss with predict_proba \n",
        "[RFmss10ne200-40Groups_e1d006ca-3d95-11e4-9872-5a1064dce9ab] [compute_training_data_logloss] logloss_value = 0.491611067619 "
       ]
      },
      {
       "output_type": "stream",
       "stream": "stdout",
       "text": [
        "\n",
        "[RFmss10ne200-40Groups_7ac82f46-3dab-11e4-9872-5a1064dce9ab] [compute_training_data_logloss] conpute logloss with predict_proba \n",
        "[RFmss10ne200-40Groups_7ac82f46-3dab-11e4-9872-5a1064dce9ab] [compute_training_data_logloss] logloss_value = 0.490905650238 "
       ]
      },
      {
       "output_type": "stream",
       "stream": "stdout",
       "text": [
        "\n",
        "[RFmss10ne200-40Groups_55b2f6c8-3dec-11e4-9872-5a1064dce9ab] [compute_training_data_logloss] conpute logloss with predict_proba \n",
        "[RFmss10ne200-40Groups_55b2f6c8-3dec-11e4-9872-5a1064dce9ab] [compute_training_data_logloss] logloss_value = 0.490310959146 "
       ]
      },
      {
       "output_type": "stream",
       "stream": "stdout",
       "text": [
        "\n",
        "[RFmss10ne200-40Groups_ae25dd7e-3d8e-11e4-9872-5a1064dce9ab] [compute_training_data_logloss] conpute logloss with predict_proba \n",
        "[RFmss10ne200-40Groups_ae25dd7e-3d8e-11e4-9872-5a1064dce9ab] [compute_training_data_logloss] logloss_value = 0.490826040186 "
       ]
      },
      {
       "output_type": "stream",
       "stream": "stdout",
       "text": [
        "\n",
        "[RFmss10ne200-40Groups_d2df0bd6-3d4d-11e4-9872-5a1064dce9ab] [compute_training_data_logloss] conpute logloss with predict_proba \n",
        "[RFmss10ne200-40Groups_d2df0bd6-3d4d-11e4-9872-5a1064dce9ab] [compute_training_data_logloss] logloss_value = 0.342921624441 "
       ]
      },
      {
       "output_type": "stream",
       "stream": "stdout",
       "text": [
        "\n",
        "[RFmss10ne200-40Groups_e947a10e-3ddd-11e4-9872-5a1064dce9ab] [compute_training_data_logloss] conpute logloss with predict_proba \n",
        "[RFmss10ne200-40Groups_e947a10e-3ddd-11e4-9872-5a1064dce9ab] [compute_training_data_logloss] logloss_value = 0.490465930092 "
       ]
      },
      {
       "output_type": "stream",
       "stream": "stdout",
       "text": [
        "\n",
        "[RFmss10ne200-40Groups_baf2be96-3e01-11e4-9872-5a1064dce9ab] [compute_training_data_logloss] conpute logloss with predict_proba \n",
        "[RFmss10ne200-40Groups_baf2be96-3e01-11e4-9872-5a1064dce9ab] [compute_training_data_logloss] logloss_value = 0.492606988738 "
       ]
      },
      {
       "output_type": "stream",
       "stream": "stdout",
       "text": [
        "\n",
        "[RFmss10ne200-40Groups_b93c14c4-3dd6-11e4-9872-5a1064dce9ab] [compute_training_data_logloss] conpute logloss with predict_proba \n",
        "[RFmss10ne200-40Groups_b93c14c4-3dd6-11e4-9872-5a1064dce9ab] [compute_training_data_logloss] logloss_value = 0.489893264993 "
       ]
      },
      {
       "output_type": "stream",
       "stream": "stdout",
       "text": [
        "\n",
        "[RFmss10ne200-40Groups_201f9140-3dc1-11e4-9872-5a1064dce9ab] [compute_training_data_logloss] conpute logloss with predict_proba \n",
        "[RFmss10ne200-40Groups_201f9140-3dc1-11e4-9872-5a1064dce9ab] [compute_training_data_logloss] logloss_value = 0.490213062125 "
       ]
      },
      {
       "output_type": "stream",
       "stream": "stdout",
       "text": [
        "\n",
        "[RFmss10ne200-40Groups_410053ac-3dc8-11e4-9872-5a1064dce9ab] [compute_training_data_logloss] conpute logloss with predict_proba \n",
        "[RFmss10ne200-40Groups_410053ac-3dc8-11e4-9872-5a1064dce9ab] [compute_training_data_logloss] logloss_value = 0.48923141827 "
       ]
      },
      {
       "output_type": "stream",
       "stream": "stdout",
       "text": [
        "\n",
        "[RFmss10ne200-40Groups_14f5ca92-3d9d-11e4-9872-5a1064dce9ab] [compute_training_data_logloss] conpute logloss with predict_proba \n",
        "[RFmss10ne200-40Groups_14f5ca92-3d9d-11e4-9872-5a1064dce9ab] [compute_training_data_logloss] logloss_value = 0.490216921469 "
       ]
      },
      {
       "output_type": "stream",
       "stream": "stdout",
       "text": [
        "\n",
        "[RFmss10ne200-40Groups_4315ad96-3da4-11e4-9872-5a1064dce9ab] [compute_training_data_logloss] conpute logloss with predict_proba \n",
        "[RFmss10ne200-40Groups_4315ad96-3da4-11e4-9872-5a1064dce9ab] [compute_training_data_logloss] logloss_value = 0.490327346428 "
       ]
      },
      {
       "output_type": "stream",
       "stream": "stdout",
       "text": [
        "\n",
        "[RFmss10ne200-40Groups_b627f178-3db2-11e4-9872-5a1064dce9ab] [compute_training_data_logloss] conpute logloss with predict_proba \n",
        "[RFmss10ne200-40Groups_b627f178-3db2-11e4-9872-5a1064dce9ab] [compute_training_data_logloss] logloss_value = 0.491283132004 "
       ]
      },
      {
       "output_type": "stream",
       "stream": "stdout",
       "text": [
        "\n",
        "[RFmss10ne200-40Groups_9a8d6d4c-3d46-11e4-9872-5a1064dce9ab] [compute_training_data_logloss] conpute logloss with predict_proba \n",
        "[RFmss10ne200-40Groups_9a8d6d4c-3d46-11e4-9872-5a1064dce9ab] [compute_training_data_logloss] logloss_value = 0.47026071813 "
       ]
      },
      {
       "output_type": "stream",
       "stream": "stdout",
       "text": [
        "\n",
        "[RFmss10ne200-40Groups_817e0644-3d6a-11e4-9872-5a1064dce9ab] [compute_training_data_logloss] conpute logloss with predict_proba \n",
        "[RFmss10ne200-40Groups_817e0644-3d6a-11e4-9872-5a1064dce9ab] [compute_training_data_logloss] logloss_value = 0.489610638248 "
       ]
      },
      {
       "output_type": "stream",
       "stream": "stdout",
       "text": [
        "\n",
        "[RFmss10ne200-40Groups_e7007d40-3db9-11e4-9872-5a1064dce9ab] [compute_training_data_logloss] conpute logloss with predict_proba \n",
        "[RFmss10ne200-40Groups_e7007d40-3db9-11e4-9872-5a1064dce9ab] [compute_training_data_logloss] logloss_value = 0.490495934982 "
       ]
      },
      {
       "output_type": "stream",
       "stream": "stdout",
       "text": [
        "\n",
        "[RFmss10ne200-40Groups_671fc284-3d87-11e4-9872-5a1064dce9ab] [compute_training_data_logloss] conpute logloss with predict_proba \n",
        "[RFmss10ne200-40Groups_671fc284-3d87-11e4-9872-5a1064dce9ab] [compute_training_data_logloss] logloss_value = 0.491295658736 "
       ]
      },
      {
       "output_type": "stream",
       "stream": "stdout",
       "text": [
        "\n",
        "[RFmss10ne200-40Groups_061893a0-3d80-11e4-9872-5a1064dce9ab] [compute_training_data_logloss] conpute logloss with predict_proba \n",
        "[RFmss10ne200-40Groups_061893a0-3d80-11e4-9872-5a1064dce9ab] [compute_training_data_logloss] logloss_value = 0.490976931657 "
       ]
      },
      {
       "output_type": "stream",
       "stream": "stdout",
       "text": [
        "\n",
        "[RFmss10ne200-40Groups_adeba392-3d71-11e4-9872-5a1064dce9ab] [compute_training_data_logloss] conpute logloss with predict_proba \n",
        "[RFmss10ne200-40Groups_adeba392-3d71-11e4-9872-5a1064dce9ab] [compute_training_data_logloss] logloss_value = 0.489654894095 "
       ]
      },
      {
       "output_type": "stream",
       "stream": "stdout",
       "text": [
        "\n",
        "[RFmss10ne200-40Groups_e5d1d7c6-3e08-11e4-9872-5a1064dce9ab] [compute_training_data_logloss] conpute logloss with predict_proba \n",
        "[RFmss10ne200-40Groups_e5d1d7c6-3e08-11e4-9872-5a1064dce9ab] [compute_training_data_logloss] logloss_value = 0.493065503862 "
       ]
      },
      {
       "output_type": "stream",
       "stream": "stdout",
       "text": [
        "\n",
        "[RFmss10ne200-40Groups_28456df0-3d5c-11e4-9872-5a1064dce9ab] [compute_training_data_logloss] conpute logloss with predict_proba \n",
        "[RFmss10ne200-40Groups_28456df0-3d5c-11e4-9872-5a1064dce9ab] [compute_training_data_logloss] logloss_value = 0.489096889176 "
       ]
      },
      {
       "output_type": "stream",
       "stream": "stdout",
       "text": [
        "\n",
        "[RFmss10ne200-40Groups_53e6a918-3d63-11e4-9872-5a1064dce9ab] [compute_training_data_logloss] conpute logloss with predict_proba \n",
        "[RFmss10ne200-40Groups_53e6a918-3d63-11e4-9872-5a1064dce9ab] [compute_training_data_logloss] logloss_value = 0.489821594131 "
       ]
      },
      {
       "output_type": "stream",
       "stream": "stdout",
       "text": [
        "\n",
        "[RFmss10ne200-40Groups_d5b12cc4-3d78-11e4-9872-5a1064dce9ab] [compute_training_data_logloss] conpute logloss with predict_proba \n",
        "[RFmss10ne200-40Groups_d5b12cc4-3d78-11e4-9872-5a1064dce9ab] [compute_training_data_logloss] logloss_value = 0.489774171002 "
       ]
      },
      {
       "output_type": "stream",
       "stream": "stdout",
       "text": [
        "\n"
       ]
      }
     ],
     "prompt_number": 48
    },
    {
     "cell_type": "code",
     "collapsed": false,
     "input": [],
     "language": "python",
     "metadata": {},
     "outputs": []
    },
    {
     "cell_type": "code",
     "collapsed": false,
     "input": [
      "import pandas as pd"
     ],
     "language": "python",
     "metadata": {},
     "outputs": [],
     "prompt_number": 42
    },
    {
     "cell_type": "code",
     "collapsed": false,
     "input": [
      "pd.DataFrame([pd.Series(rf_logloss_dict1),pd.Series(rf_logloss_dict2)])"
     ],
     "language": "python",
     "metadata": {},
     "outputs": [
      {
       "html": [
        "<div style=\"max-height:1000px;max-width:1500px;overflow:auto;\">\n",
        "<table border=\"1\" class=\"dataframe\">\n",
        "  <thead>\n",
        "    <tr style=\"text-align: right;\">\n",
        "      <th></th>\n",
        "      <th>RFmss10ne200-40Groups_061893a0-3d80-11e4-9872-5a1064dce9ab</th>\n",
        "      <th>RFmss10ne200-40Groups_14f5ca92-3d9d-11e4-9872-5a1064dce9ab</th>\n",
        "      <th>RFmss10ne200-40Groups_1ef4e8dc-3de5-11e4-9872-5a1064dce9ab</th>\n",
        "      <th>RFmss10ne200-40Groups_201f9140-3dc1-11e4-9872-5a1064dce9ab</th>\n",
        "      <th>RFmss10ne200-40Groups_28456df0-3d5c-11e4-9872-5a1064dce9ab</th>\n",
        "      <th>RFmss10ne200-40Groups_410053ac-3dc8-11e4-9872-5a1064dce9ab</th>\n",
        "      <th>RFmss10ne200-40Groups_4315ad96-3da4-11e4-9872-5a1064dce9ab</th>\n",
        "      <th>RFmss10ne200-40Groups_53e6a918-3d63-11e4-9872-5a1064dce9ab</th>\n",
        "      <th>RFmss10ne200-40Groups_55b2f6c8-3dec-11e4-9872-5a1064dce9ab</th>\n",
        "      <th>RFmss10ne200-40Groups_671fc284-3d87-11e4-9872-5a1064dce9ab</th>\n",
        "      <th>...</th>\n",
        "      <th>RFmss10ne200-40Groups_b627f178-3db2-11e4-9872-5a1064dce9ab</th>\n",
        "      <th>RFmss10ne200-40Groups_b93c14c4-3dd6-11e4-9872-5a1064dce9ab</th>\n",
        "      <th>RFmss10ne200-40Groups_baf2be96-3e01-11e4-9872-5a1064dce9ab</th>\n",
        "      <th>RFmss10ne200-40Groups_d2df0bd6-3d4d-11e4-9872-5a1064dce9ab</th>\n",
        "      <th>RFmss10ne200-40Groups_d5b12cc4-3d78-11e4-9872-5a1064dce9ab</th>\n",
        "      <th>RFmss10ne200-40Groups_e1d006ca-3d95-11e4-9872-5a1064dce9ab</th>\n",
        "      <th>RFmss10ne200-40Groups_e5d1d7c6-3e08-11e4-9872-5a1064dce9ab</th>\n",
        "      <th>RFmss10ne200-40Groups_e7007d40-3db9-11e4-9872-5a1064dce9ab</th>\n",
        "      <th>RFmss10ne200-40Groups_e947a10e-3ddd-11e4-9872-5a1064dce9ab</th>\n",
        "      <th>RFmss10ne200-40Groups_ffca52ca-3d54-11e4-9872-5a1064dce9ab</th>\n",
        "    </tr>\n",
        "  </thead>\n",
        "  <tbody>\n",
        "    <tr>\n",
        "      <th>0</th>\n",
        "      <td> 0.494099</td>\n",
        "      <td> 0.493622</td>\n",
        "      <td> 0.493911</td>\n",
        "      <td> 0.491747</td>\n",
        "      <td> 0.492443</td>\n",
        "      <td> 0.492455</td>\n",
        "      <td> 0.493717</td>\n",
        "      <td> 0.493148</td>\n",
        "      <td> 0.491729</td>\n",
        "      <td> 0.494596</td>\n",
        "      <td>...</td>\n",
        "      <td> 0.49476</td>\n",
        "      <td> 0.493511</td>\n",
        "      <td> 0.496096</td>\n",
        "      <td> 0.491248</td>\n",
        "      <td> 0.492973</td>\n",
        "      <td> 0.493102</td>\n",
        "      <td> 0.496671</td>\n",
        "      <td> 0.493313</td>\n",
        "      <td> 0.493936</td>\n",
        "      <td> 0.491744</td>\n",
        "    </tr>\n",
        "    <tr>\n",
        "      <th>1</th>\n",
        "      <td> 0.490848</td>\n",
        "      <td> 0.490041</td>\n",
        "      <td> 0.490086</td>\n",
        "      <td> 0.489542</td>\n",
        "      <td> 0.488935</td>\n",
        "      <td> 0.488459</td>\n",
        "      <td> 0.490326</td>\n",
        "      <td> 0.489738</td>\n",
        "      <td> 0.489665</td>\n",
        "      <td> 0.491192</td>\n",
        "      <td>...</td>\n",
        "      <td> 0.49117</td>\n",
        "      <td> 0.489714</td>\n",
        "      <td> 0.492364</td>\n",
        "      <td> 0.270906</td>\n",
        "      <td> 0.489504</td>\n",
        "      <td> 0.491249</td>\n",
        "      <td> 0.492727</td>\n",
        "      <td> 0.490304</td>\n",
        "      <td> 0.490176</td>\n",
        "      <td> 0.487866</td>\n",
        "    </tr>\n",
        "  </tbody>\n",
        "</table>\n",
        "<p>2 rows \u00d7 28 columns</p>\n",
        "</div>"
       ],
       "metadata": {},
       "output_type": "pyout",
       "prompt_number": 44,
       "text": [
        "   RFmss10ne200-40Groups_061893a0-3d80-11e4-9872-5a1064dce9ab  \\\n",
        "0                                           0.494099            \n",
        "1                                           0.490848            \n",
        "\n",
        "   RFmss10ne200-40Groups_14f5ca92-3d9d-11e4-9872-5a1064dce9ab  \\\n",
        "0                                           0.493622            \n",
        "1                                           0.490041            \n",
        "\n",
        "   RFmss10ne200-40Groups_1ef4e8dc-3de5-11e4-9872-5a1064dce9ab  \\\n",
        "0                                           0.493911            \n",
        "1                                           0.490086            \n",
        "\n",
        "   RFmss10ne200-40Groups_201f9140-3dc1-11e4-9872-5a1064dce9ab  \\\n",
        "0                                           0.491747            \n",
        "1                                           0.489542            \n",
        "\n",
        "   RFmss10ne200-40Groups_28456df0-3d5c-11e4-9872-5a1064dce9ab  \\\n",
        "0                                           0.492443            \n",
        "1                                           0.488935            \n",
        "\n",
        "   RFmss10ne200-40Groups_410053ac-3dc8-11e4-9872-5a1064dce9ab  \\\n",
        "0                                           0.492455            \n",
        "1                                           0.488459            \n",
        "\n",
        "   RFmss10ne200-40Groups_4315ad96-3da4-11e4-9872-5a1064dce9ab  \\\n",
        "0                                           0.493717            \n",
        "1                                           0.490326            \n",
        "\n",
        "   RFmss10ne200-40Groups_53e6a918-3d63-11e4-9872-5a1064dce9ab  \\\n",
        "0                                           0.493148            \n",
        "1                                           0.489738            \n",
        "\n",
        "   RFmss10ne200-40Groups_55b2f6c8-3dec-11e4-9872-5a1064dce9ab  \\\n",
        "0                                           0.491729            \n",
        "1                                           0.489665            \n",
        "\n",
        "   RFmss10ne200-40Groups_671fc284-3d87-11e4-9872-5a1064dce9ab  \\\n",
        "0                                           0.494596            \n",
        "1                                           0.491192            \n",
        "\n",
        "                              ...                              \\\n",
        "0                             ...                               \n",
        "1                             ...                               \n",
        "\n",
        "   RFmss10ne200-40Groups_b627f178-3db2-11e4-9872-5a1064dce9ab  \\\n",
        "0                                            0.49476            \n",
        "1                                            0.49117            \n",
        "\n",
        "   RFmss10ne200-40Groups_b93c14c4-3dd6-11e4-9872-5a1064dce9ab  \\\n",
        "0                                           0.493511            \n",
        "1                                           0.489714            \n",
        "\n",
        "   RFmss10ne200-40Groups_baf2be96-3e01-11e4-9872-5a1064dce9ab  \\\n",
        "0                                           0.496096            \n",
        "1                                           0.492364            \n",
        "\n",
        "   RFmss10ne200-40Groups_d2df0bd6-3d4d-11e4-9872-5a1064dce9ab  \\\n",
        "0                                           0.491248            \n",
        "1                                           0.270906            \n",
        "\n",
        "   RFmss10ne200-40Groups_d5b12cc4-3d78-11e4-9872-5a1064dce9ab  \\\n",
        "0                                           0.492973            \n",
        "1                                           0.489504            \n",
        "\n",
        "   RFmss10ne200-40Groups_e1d006ca-3d95-11e4-9872-5a1064dce9ab  \\\n",
        "0                                           0.493102            \n",
        "1                                           0.491249            \n",
        "\n",
        "   RFmss10ne200-40Groups_e5d1d7c6-3e08-11e4-9872-5a1064dce9ab  \\\n",
        "0                                           0.496671            \n",
        "1                                           0.492727            \n",
        "\n",
        "   RFmss10ne200-40Groups_e7007d40-3db9-11e4-9872-5a1064dce9ab  \\\n",
        "0                                           0.493313            \n",
        "1                                           0.490304            \n",
        "\n",
        "   RFmss10ne200-40Groups_e947a10e-3ddd-11e4-9872-5a1064dce9ab  \\\n",
        "0                                           0.493936            \n",
        "1                                           0.490176            \n",
        "\n",
        "   RFmss10ne200-40Groups_ffca52ca-3d54-11e4-9872-5a1064dce9ab  \n",
        "0                                           0.491744           \n",
        "1                                           0.487866           \n",
        "\n",
        "[2 rows x 28 columns]"
       ]
      }
     ],
     "prompt_number": 44
    },
    {
     "cell_type": "code",
     "collapsed": false,
     "input": [],
     "language": "python",
     "metadata": {},
     "outputs": []
    },
    {
     "cell_type": "code",
     "collapsed": false,
     "input": [
      "rf_series.series_models[-5].compute_training_data_logloss(use_prediction=\"predict_proba\",\n",
      "                                                          sample_slice=slice(0,None,None))"
     ],
     "language": "python",
     "metadata": {},
     "outputs": [
      {
       "output_type": "stream",
       "stream": "stdout",
       "text": [
        "[RFmss10ne200-40Groups_adeba392-3d71-11e4-9872-5a1064dce9ab] [compute_training_data_logloss] conpute logloss with predict_proba \n",
        "[RFmss10ne200-40Groups_adeba392-3d71-11e4-9872-5a1064dce9ab] [compute_training_data_logloss] logloss_value = 0.490573258 "
       ]
      },
      {
       "output_type": "stream",
       "stream": "stdout",
       "text": [
        "\n"
       ]
      },
      {
       "metadata": {},
       "output_type": "pyout",
       "prompt_number": 57,
       "text": [
        "0.49057325799981127"
       ]
      }
     ],
     "prompt_number": 57
    },
    {
     "cell_type": "code",
     "collapsed": false,
     "input": [
      "rf_test = rf_series.series_models[-5]"
     ],
     "language": "python",
     "metadata": {},
     "outputs": [],
     "prompt_number": 58
    },
    {
     "cell_type": "code",
     "collapsed": false,
     "input": [
      "rf_test.create_kaggle_submit_csv()"
     ],
     "language": "python",
     "metadata": {},
     "outputs": [],
     "prompt_number": 59
    },
    {
     "cell_type": "code",
     "collapsed": false,
     "input": [
      "print rf_test.model_info"
     ],
     "language": "python",
     "metadata": {},
     "outputs": [
      {
       "output_type": "stream",
       "stream": "stdout",
       "text": [
        "{'training_dataset': 'origin', 'training_data_slices': slice(8022112, 9168128, None), 'feature_columns': ['I1', 'I2', 'I3', 'I4', 'I5', 'I6', 'I7', 'I8', 'I9', 'I10', 'I11', 'I12', 'I13', 'C1', 'C2', 'C3', 'C4', 'C5', 'C6', 'C7', 'C8', 'C9', 'C10', 'C11', 'C12', 'C13', 'C14', 'C15', 'C16', 'C17', 'C18', 'C19', 'C20', 'C21', 'C22', 'C23', 'C24', 'C25', 'C26'], 'additional_feature_columns': [], 'model_type': <class 'sklearn.ensemble.forest.RandomForestClassifier'>, 'model_paramters': {'min_samples_split': 10, 'n_estimators': 200, 'n_jobs': 12}}\n"
       ]
      }
     ],
     "prompt_number": 52
    },
    {
     "cell_type": "code",
     "collapsed": false,
     "input": [],
     "language": "python",
     "metadata": {},
     "outputs": []
    },
    {
     "cell_type": "code",
     "collapsed": false,
     "input": [
      "rf_logloss_dict"
     ],
     "language": "python",
     "metadata": {},
     "outputs": [
      {
       "metadata": {},
       "output_type": "pyout",
       "prompt_number": 45,
       "text": [
        "{'RFmss10ne200-40Groups_061893a0-3d80-11e4-9872-5a1064dce9ab': 0.489599970482471,\n",
        " 'RFmss10ne200-40Groups_14f5ca92-3d9d-11e4-9872-5a1064dce9ab': 0.48994279184044626,\n",
        " 'RFmss10ne200-40Groups_1ef4e8dc-3de5-11e4-9872-5a1064dce9ab': 0.48959618246315523,\n",
        " 'RFmss10ne200-40Groups_201f9140-3dc1-11e4-9872-5a1064dce9ab': 0.49159424300064641,\n",
        " 'RFmss10ne200-40Groups_28456df0-3d5c-11e4-9872-5a1064dce9ab': 0.39165913843461958,\n",
        " 'RFmss10ne200-40Groups_410053ac-3dc8-11e4-9872-5a1064dce9ab': 0.49061222672294413,\n",
        " 'RFmss10ne200-40Groups_4315ad96-3da4-11e4-9872-5a1064dce9ab': 0.48921711718325234,\n",
        " 'RFmss10ne200-40Groups_53e6a918-3d63-11e4-9872-5a1064dce9ab': 0.39124762673226082,\n",
        " 'RFmss10ne200-40Groups_55b2f6c8-3dec-11e4-9872-5a1064dce9ab': 0.49183123801214101,\n",
        " 'RFmss10ne200-40Groups_671fc284-3d87-11e4-9872-5a1064dce9ab': 0.48948440584835867,\n",
        " 'RFmss10ne200-40Groups_6d99e818-3dcf-11e4-9872-5a1064dce9ab': 0.49004810606423821,\n",
        " 'RFmss10ne200-40Groups_732cc740-3df3-11e4-9872-5a1064dce9ab': 0.49073638734647734,\n",
        " 'RFmss10ne200-40Groups_7ac82f46-3dab-11e4-9872-5a1064dce9ab': 0.48948073492059091,\n",
        " 'RFmss10ne200-40Groups_817e0644-3d6a-11e4-9872-5a1064dce9ab': 0.46577445786186167,\n",
        " 'RFmss10ne200-40Groups_96e6dfac-3dfa-11e4-9872-5a1064dce9ab': 0.49026521139058565,\n",
        " 'RFmss10ne200-40Groups_9a8d6d4c-3d46-11e4-9872-5a1064dce9ab': 0.49066093461810628,\n",
        " 'RFmss10ne200-40Groups_adeba392-3d71-11e4-9872-5a1064dce9ab': 0.48970086123520268,\n",
        " 'RFmss10ne200-40Groups_ae25dd7e-3d8e-11e4-9872-5a1064dce9ab': 0.48911096792733794,\n",
        " 'RFmss10ne200-40Groups_b627f178-3db2-11e4-9872-5a1064dce9ab': 0.48968930439267949,\n",
        " 'RFmss10ne200-40Groups_b93c14c4-3dd6-11e4-9872-5a1064dce9ab': 0.48960670716402344,\n",
        " 'RFmss10ne200-40Groups_baf2be96-3e01-11e4-9872-5a1064dce9ab': 0.49224846632786817,\n",
        " 'RFmss10ne200-40Groups_d2df0bd6-3d4d-11e4-9872-5a1064dce9ab': 0.49035719949286166,\n",
        " 'RFmss10ne200-40Groups_d5b12cc4-3d78-11e4-9872-5a1064dce9ab': 0.48923239076814196,\n",
        " 'RFmss10ne200-40Groups_e1d006ca-3d95-11e4-9872-5a1064dce9ab': 0.491264373707261,\n",
        " 'RFmss10ne200-40Groups_e5d1d7c6-3e08-11e4-9872-5a1064dce9ab': 0.49208316193514595,\n",
        " 'RFmss10ne200-40Groups_e7007d40-3db9-11e4-9872-5a1064dce9ab': 0.48945882383789163,\n",
        " 'RFmss10ne200-40Groups_e947a10e-3ddd-11e4-9872-5a1064dce9ab': 0.48951480239097384,\n",
        " 'RFmss10ne200-40Groups_ffca52ca-3d54-11e4-9872-5a1064dce9ab': 0.45155530208057698}"
       ]
      }
     ],
     "prompt_number": 45
    },
    {
     "cell_type": "code",
     "collapsed": false,
     "input": [],
     "language": "python",
     "metadata": {},
     "outputs": []
    },
    {
     "cell_type": "code",
     "collapsed": false,
     "input": [],
     "language": "python",
     "metadata": {},
     "outputs": []
    },
    {
     "cell_type": "code",
     "collapsed": false,
     "input": [],
     "language": "python",
     "metadata": {},
     "outputs": []
    }
   ],
   "metadata": {}
  }
 ]
}