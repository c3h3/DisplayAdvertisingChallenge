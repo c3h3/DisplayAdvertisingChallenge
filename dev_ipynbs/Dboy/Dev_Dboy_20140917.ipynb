{
 "metadata": {
  "name": "",
  "signature": "sha256:fcec1b7382ef0d605622517887725d74a1ef1b6037036a9f2f093d83777cf473"
 },
 "nbformat": 3,
 "nbformat_minor": 0,
 "worksheets": [
  {
   "cells": [
    {
     "cell_type": "code",
     "collapsed": false,
     "input": [
      "import blz\n",
      "import numpy as np\n",
      "import os\n",
      "import scipy as sp"
     ],
     "language": "python",
     "metadata": {},
     "outputs": [],
     "prompt_number": 1
    },
    {
     "cell_type": "code",
     "collapsed": false,
     "input": [
      "# log-loss function\n",
      "def llfun(act, pred):\n",
      "    epsilon = 1e-15\n",
      "    pred = sp.maximum(epsilon, pred)\n",
      "    pred = sp.minimum(1-epsilon, pred)\n",
      "    ll = np.sum(act*sp.log(pred) + sp.subtract(1,act)*sp.log(sp.subtract(1,pred)))\n",
      "    ll = ll * -1.0/len(act)\n",
      "    return ll"
     ],
     "language": "python",
     "metadata": {},
     "outputs": [],
     "prompt_number": 2
    },
    {
     "cell_type": "code",
     "collapsed": false,
     "input": [
      "def weighting_fun(barrays, weights, log_period = 20):\n",
      "    \"\"\"\n",
      "    Inputs:\n",
      "        barrays: a list of blz.barray instances.\n",
      "        weights: a ndarray or a barray of weights for each barray in barrays\n",
      "        log_period: an integer, the period of sending log information. The default is 20.\n",
      "    Outputs:\n",
      "        weighting_result: A list, weighted barrays of original barrays. \n",
      "    \"\"\"\n",
      "    # Testing validity of inputs\n",
      "    test_instance = map(lambda barray: isinstance(barray, blz.barray), barrays)\n",
      "    test_length = len(barrays) == len(weights)\n",
      "    test_array_length = map(lambda barray: len(barray) == len(barrays[0]), barrays)\n",
      "    assert np.all(test_instance), \"Only support barray(s).\"\n",
      "    assert test_length, \"The number of columns does not mathch the length of weights.\"\n",
      "    assert np.all(test_array_length), \"All barrays should be of the same length.\"\n",
      "    assert isinstance(log_period, int), \"log_period must be integer\"\n",
      "    \n",
      "    results = []\n",
      "    for i in range(len(barrays)):\n",
      "        barray = barrays[i]\n",
      "        weight = float(weights[i])\n",
      "        temp = blz.eval(\"barray * weight\")\n",
      "        results.append(temp)\n",
      "        if i % 20 == 0:\n",
      "            print \"{i} columns have been weighted. Processing...\".format(i = i + 1)\n",
      "    print \"Process complete.\"\n",
      "    return results"
     ],
     "language": "python",
     "metadata": {},
     "outputs": [],
     "prompt_number": 3
    },
    {
     "cell_type": "code",
     "collapsed": false,
     "input": [
      "def sum_cols(results_cols):\n",
      "    result = results_cols[0]\n",
      "    for i in range(1, len(results_cols)):\n",
      "        temp = results_cols[i]\n",
      "        result = blz.eval(\"result + temp\")\n",
      "        if i % 20 == 0:\n",
      "            print \"{i} columns complete. Processing....\".format(i=i+1)\n",
      "    print \"Process complete!\"\n",
      "    return result"
     ],
     "language": "python",
     "metadata": {},
     "outputs": [],
     "prompt_number": 4
    },
    {
     "cell_type": "code",
     "collapsed": false,
     "input": [
      "def convert(score, offset, scale):\n",
      "    return 1.0/(1 + sp.exp((offset - score)/float(scale)))"
     ],
     "language": "python",
     "metadata": {},
     "outputs": [],
     "prompt_number": 5
    },
    {
     "cell_type": "code",
     "collapsed": false,
     "input": [
      "def array_to_submit_string(Id, results):\n",
      "    assert len(Id) == len(results), \"The number of id and predict results do not match.\"\n",
      "    pairs = zip(Id[:], results[:])\n",
      "    results = [(\"{0:.0f}\".format(i), str(r)) for i, r in pairs]\n",
      "    submits = map(lambda rr: \",\".join(rr), results)\n",
      "    return \"\\n\".join(submits)"
     ],
     "language": "python",
     "metadata": {},
     "outputs": [],
     "prompt_number": 6
    },
    {
     "cell_type": "code",
     "collapsed": false,
     "input": [
      "train_confidence_score = []\n",
      "for modeldir in os.listdir(\"/Users/DboyLiao/Documents/kaggle/DisplayAdvertisingChallenge/data/models_c3h3/\"):\n",
      "    if modeldir.startswith(\"LSVM\"):\n",
      "        rootdir = \"/Users/DboyLiao/Documents/kaggle/DisplayAdvertisingChallenge/data/models_c3h3/\" + modeldir + \"/all_training_prediction/decision_function\"\n",
      "        temp = blz.open(rootdir)\n",
      "        train_confidence_score.append(temp)"
     ],
     "language": "python",
     "metadata": {},
     "outputs": [],
     "prompt_number": 7
    },
    {
     "cell_type": "code",
     "collapsed": false,
     "input": [
      "test_confidence_score = []\n",
      "for modeldir in os.listdir(\"/Users/DboyLiao/Documents/kaggle/DisplayAdvertisingChallenge/data/models_c3h3/\"):\n",
      "    if modeldir.startswith(\"LSVM\"):\n",
      "        rootdir = \"/Users/DboyLiao/Documents/kaggle/DisplayAdvertisingChallenge/data/models_c3h3/\" + modeldir + \"/all_training_prediction/decision_function\"\n",
      "        temp = blz.open(rootdir)\n",
      "        test_confidence_score.append(temp)"
     ],
     "language": "python",
     "metadata": {},
     "outputs": [],
     "prompt_number": 8
    },
    {
     "cell_type": "code",
     "collapsed": false,
     "input": [
      "Label = blz.open(\"/Users/DboyLiao/Documents/kaggle/DisplayAdvertisingChallenge/data/train_blzs/Label/\")"
     ],
     "language": "python",
     "metadata": {},
     "outputs": [],
     "prompt_number": 9
    },
    {
     "cell_type": "code",
     "collapsed": false,
     "input": [
      "from scipy.optimize import minimize\n",
      "\n",
      "def test(x, a, b):\n",
      "    return x**2 + a**x + b"
     ],
     "language": "python",
     "metadata": {},
     "outputs": [],
     "prompt_number": 12
    },
    {
     "cell_type": "code",
     "collapsed": false,
     "input": [
      "res = minimize(test, 1, (3, 2))"
     ],
     "language": "python",
     "metadata": {},
     "outputs": [],
     "prompt_number": 13
    },
    {
     "cell_type": "code",
     "collapsed": false,
     "input": [
      "res"
     ],
     "language": "python",
     "metadata": {},
     "outputs": [
      {
       "metadata": {},
       "output_type": "pyout",
       "prompt_number": 14,
       "text": [
        "   status: 0\n",
        "  success: True\n",
        "     njev: 7\n",
        "     nfev: 21\n",
        " hess_inv: array([[ 0.35627423]])\n",
        "      fun: 2.8028736566892727\n",
        "        x: array([-0.36702705])\n",
        "  message: 'Optimization terminated successfully.'\n",
        "      jac: array([ 0.])"
       ]
      }
     ],
     "prompt_number": 14
    },
    {
     "cell_type": "code",
     "collapsed": false,
     "input": [
      "def converted_loss(par, data, label):\n",
      "    offset = par[0]\n",
      "    scale = par[1]\n",
      "    weight = np.array(par[2:])\n",
      "    test = np.array(map(len, data)) == len(data[0])\n",
      "    assert np.all(test), \"The # of predicted results are not the same among models.\"\n",
      "    num_of_models = len(data)\n",
      "    num_of_predictions = len(data[0])\n",
      "    converted_results = np.empty((num_of_models, num_of_predictions))\n",
      "    for col_ind in range(num_of_models):\n",
      "        temp = np.apply_along_axis(lambda xx: convert(xx, offset, scale), 0, data[col_ind][:])\n",
      "        converted_results[col_ind] = temp\n",
      "    loss_results = np.apply_along_axis(lambda xx: llfun(label[:], xx), 1, converted_results)\n",
      "    return np.inner(loss_results, weight)    "
     ],
     "language": "python",
     "metadata": {},
     "outputs": [],
     "prompt_number": 43
    },
    {
     "cell_type": "code",
     "collapsed": false,
     "input": [
      "%time a = converted_loss((1, 2), train_confidence_score[:2], Label)"
     ],
     "language": "python",
     "metadata": {},
     "outputs": [
      {
       "output_type": "stream",
       "stream": "stdout",
       "text": [
        "CPU times: user 13.6 s, sys: 12.4 s, total: 25.9 s\n",
        "Wall time: 1min 55s\n"
       ]
      }
     ],
     "prompt_number": 21
    },
    {
     "cell_type": "code",
     "collapsed": false,
     "input": [],
     "language": "python",
     "metadata": {},
     "outputs": [
      {
       "metadata": {},
       "output_type": "pyout",
       "prompt_number": 22,
       "text": [
        "0.57376591121994391"
       ]
      }
     ],
     "prompt_number": 22
    },
    {
     "cell_type": "code",
     "collapsed": false,
     "input": [
      "ind = np.random.choice(np.arange(40), size = 10, replace = False)"
     ],
     "language": "python",
     "metadata": {},
     "outputs": [],
     "prompt_number": 25
    },
    {
     "cell_type": "code",
     "collapsed": false,
     "input": [
      "data = []\n",
      "for i in ind:\n",
      "    temp = train_confidence_score[i]\n",
      "    data.append(temp)"
     ],
     "language": "python",
     "metadata": {},
     "outputs": [],
     "prompt_number": 28
    },
    {
     "cell_type": "code",
     "collapsed": false,
     "input": [
      "weights = tuple([1.0/len(data) for i in range(len(data))])"
     ],
     "language": "python",
     "metadata": {},
     "outputs": [],
     "prompt_number": 36
    },
    {
     "cell_type": "code",
     "collapsed": false,
     "input": [
      "par0 = (0.5, 0.5) + weights"
     ],
     "language": "python",
     "metadata": {},
     "outputs": [],
     "prompt_number": 38
    },
    {
     "cell_type": "code",
     "collapsed": false,
     "input": [
      "par0"
     ],
     "language": "python",
     "metadata": {},
     "outputs": [
      {
       "metadata": {},
       "output_type": "pyout",
       "prompt_number": 44,
       "text": [
        "(0.5, 0.5, 0.1, 0.1, 0.1, 0.1, 0.1, 0.1, 0.1, 0.1, 0.1, 0.1)"
       ]
      }
     ],
     "prompt_number": 44
    },
    {
     "cell_type": "code",
     "collapsed": false,
     "input": [
      "cons = {'type': 'eq', 'fun': lambda x: sum(x[2:]) - 1}"
     ],
     "language": "python",
     "metadata": {},
     "outputs": [],
     "prompt_number": 46
    },
    {
     "cell_type": "code",
     "collapsed": false,
     "input": [
      "res = minimize(converted_loss, par0, (data, Label), constraints = cons)"
     ],
     "language": "python",
     "metadata": {},
     "outputs": []
    },
    {
     "cell_type": "code",
     "collapsed": false,
     "input": [],
     "language": "python",
     "metadata": {},
     "outputs": []
    },
    {
     "cell_type": "code",
     "collapsed": false,
     "input": [],
     "language": "python",
     "metadata": {},
     "outputs": []
    },
    {
     "cell_type": "code",
     "collapsed": false,
     "input": [],
     "language": "python",
     "metadata": {},
     "outputs": []
    },
    {
     "cell_type": "code",
     "collapsed": false,
     "input": [],
     "language": "python",
     "metadata": {},
     "outputs": []
    },
    {
     "cell_type": "code",
     "collapsed": false,
     "input": [],
     "language": "python",
     "metadata": {},
     "outputs": []
    },
    {
     "cell_type": "code",
     "collapsed": false,
     "input": [],
     "language": "python",
     "metadata": {},
     "outputs": []
    },
    {
     "cell_type": "code",
     "collapsed": false,
     "input": [],
     "language": "python",
     "metadata": {},
     "outputs": []
    },
    {
     "cell_type": "code",
     "collapsed": false,
     "input": [],
     "language": "python",
     "metadata": {},
     "outputs": []
    },
    {
     "cell_type": "code",
     "collapsed": false,
     "input": [],
     "language": "python",
     "metadata": {},
     "outputs": []
    }
   ],
   "metadata": {}
  }
 ]
}