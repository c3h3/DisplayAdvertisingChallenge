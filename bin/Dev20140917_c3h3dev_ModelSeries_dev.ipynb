{
 "metadata": {
  "name": "",
  "signature": "sha256:789cdece46c7d8da95a44ec56dc7490283e3af82aa3eb230cc97cef1377ba30a"
 },
 "nbformat": 3,
 "nbformat_minor": 0,
 "worksheets": [
  {
   "cells": [
    {
     "cell_type": "markdown",
     "metadata": {},
     "source": [
      "## Shogun NeuralNet:\n",
      "- http://www.shogun-toolbox.org/static/notebook/current/neuralnets_digits.html\n",
      "- http://www.shogun-toolbox.org/static/notebook/current/rbms_dbns.html"
     ]
    },
    {
     "cell_type": "markdown",
     "metadata": {},
     "source": [
      "## LMNN:\n",
      "- http://shogun-toolbox.org/static/notebook/current/LMNN.html\n"
     ]
    },
    {
     "cell_type": "markdown",
     "metadata": {},
     "source": [
      "## Shogun:\n",
      "- http://www.shogun-toolbox.org/page/documentation/notebook\n",
      "- http://www.shogun-toolbox.org/static/notebook/current/gaussian_processes.html\n"
     ]
    },
    {
     "cell_type": "markdown",
     "metadata": {},
     "source": [
      "\n"
     ]
    },
    {
     "cell_type": "markdown",
     "metadata": {},
     "source": [
      "## Bagging:\n",
      "- http://nbviewer.ipython.org/github/ga-students/DS_HK_2/blob/gh-pages/notebooks/14%20-%20Random%20Forests.ipynb"
     ]
    },
    {
     "cell_type": "code",
     "collapsed": false,
     "input": [],
     "language": "python",
     "metadata": {},
     "outputs": [],
     "prompt_number": 0
    },
    {
     "cell_type": "code",
     "collapsed": false,
     "input": [],
     "language": "python",
     "metadata": {},
     "outputs": [],
     "prompt_number": 0
    },
    {
     "cell_type": "code",
     "collapsed": false,
     "input": [
      "from hunkaggle.criteo import tools\n",
      "from hunkaggle.criteo.settings import TRAINING_COLUMN_NAMES, TESTING_COLUMN_NAMES\n",
      "import blz, os\n",
      "import numpy as np\n",
      "from hunkaggle.criteo.settings import MODELS_PATH, SUBMITS_PATH\n"
     ],
     "language": "python",
     "metadata": {},
     "outputs": [],
     "prompt_number": 3
    },
    {
     "cell_type": "code",
     "collapsed": false,
     "input": [
      "from hunkaggle.criteo.settings import SOURCE_DATA_DIR"
     ],
     "language": "python",
     "metadata": {},
     "outputs": [],
     "prompt_number": 4
    },
    {
     "cell_type": "code",
     "collapsed": false,
     "input": [
      "AVG_MODELS_PATH = os.path.join(SOURCE_DATA_DIR, \"avg_models\")\n",
      "if not os.path.exists(AVG_MODELS_PATH):\n",
      "    os.mkdir(AVG_MODELS_PATH)\n"
     ],
     "language": "python",
     "metadata": {},
     "outputs": [],
     "prompt_number": 55
    },
    {
     "cell_type": "code",
     "collapsed": false,
     "input": [
      "from hunkaggle.criteo.models import *"
     ],
     "language": "python",
     "metadata": {},
     "outputs": [],
     "prompt_number": 5
    },
    {
     "cell_type": "code",
     "collapsed": false,
     "input": [
      "class Model(object):\n",
      "    # Change self.model_home to self.MODELS_HOME\n",
      "    MODELS_HOME = MODELS_PATH \n",
      "    \n",
      "    \n",
      "    def __init__(self, model_series = \"TryModels\", model_id=None, model_home = MODELS_PATH):\n",
      "        \n",
      "        self.model_series = model_series\n",
      "        self.model_home = model_home\n",
      "        \n",
      "        if model_id==None:\n",
      "            self.create_new_model_id()\n",
      "        else:\n",
      "            self.model_id = self.model_id = self.model_series + \"_\" + model_id\n",
      "            self.model_path = os.path.join(self.model_home, self.model_id)\n",
      "        \n",
      "            if not os.path.exists(self.model_path):\n",
      "                os.mkdir(self.model_path)\n",
      "        \n",
      "        self.all_training_prediction_path = os.path.join(self.model_path, \"all_training_prediction\")\n",
      "        if not os.path.exists(self.all_training_prediction_path):\n",
      "            os.mkdir(self.all_training_prediction_path)\n",
      "        \n",
      "        self.all_testing_prediction_path = os.path.join(self.model_path, \"all_testing_prediction\")\n",
      "        if not os.path.exists(self.all_testing_prediction_path):\n",
      "            os.mkdir(self.all_testing_prediction_path)\n",
      "        \n",
      "    \n",
      "    def __unicode__(self):\n",
      "        if self.has_model_info:\n",
      "            return self.model_id + \" : \" + unicode(self.model_info)\n",
      "        else:\n",
      "            return self.model_id\n",
      "    \n",
      "    \n",
      "    def __repr__(self):\n",
      "        return self.__unicode__()\n",
      "        \n",
      "    \n",
      "    @property\n",
      "    def all_models_in_series(self):\n",
      "        return [one_model for one_model in os.listdir(self.model_home) if one_model.startswith(self.model_series)]\n",
      "    \n",
      "    \n",
      "    def create_new_model_id(self):\n",
      "        \n",
      "        self.model_id = self.model_series + \"_\" + str(uuid.uuid1())\n",
      "        self.model_path = os.path.join(self.model_home, self.model_id)\n",
      "        \n",
      "        if not os.path.exists(self.model_path):\n",
      "            os.mkdir(self.model_path)\n",
      "        \n",
      "        return self.model_id\n",
      "    \n",
      "    \n",
      "    def set_training_model_type(self, model_type):\n",
      "        self.model_type = model_type\n",
      "        \n",
      "        \n",
      "    def set_training_model_parameters(self, **parameters):\n",
      "        assert \"model_type\" in self.__dict__\n",
      "        self.model_parameters = parameters\n",
      "        \n",
      "    \n",
      "    def set_training_data_slice(self, data_slice):\n",
      "        self.training_data_slices = data_slice\n",
      "        \n",
      "        \n",
      "    def set_training_model(self, model):\n",
      "        self.model = model\n",
      "        self.model_type = type(model)\n",
      "        self.all_model_parameters = model.get_params()\n",
      "        \n",
      "    \n",
      "    def fit_model(self, append_self=True, feature_columns=TRAINING_COLUMN_NAMES[2:], label_columns=TRAINING_COLUMN_NAMES[1]):\n",
      "        \n",
      "        print PRINT_MESSAGE_FORMAT.format(model_id=self.model_id,message=\"[fit_model] get features ... \")\n",
      "        \n",
      "        self.feature_columns = [one_col for one_col in TRAINING_COLUMN_NAMES if one_col in feature_columns]\n",
      "        \n",
      "        print PRINT_MESSAGE_FORMAT.format(model_id=self.model_id,message=\"[fit_model] get labels ... \")\n",
      "        \n",
      "        if isinstance(label_columns,(str,unicode)):\n",
      "            self.label_columns = [label_columns]\n",
      "        \n",
      "        read_columns = self.label_columns + self.feature_columns\n",
      "        \n",
      "        print PRINT_MESSAGE_FORMAT.format(model_id=self.model_id,message=\"[fit_model] build features blz ... \")\n",
      "        \n",
      "        training_cols_blz = map(lambda xx: blz.open(os.path.join(tools.TRAINING_BLZ_PATH,xx)),read_columns)\n",
      "        \n",
      "        \n",
      "        print PRINT_MESSAGE_FORMAT.format(model_id=self.model_id,message=\"[fit_model] get training_data_slices from blz ... \")\n",
      "        \n",
      "        if \"training_data_slices\" in self.__dict__:\n",
      "            sample_data_arr = np.c_[map(lambda xx:xx[self.training_data_slices],training_cols_blz)].T\n",
      "        else:\n",
      "            sample_data_arr = np.c_[map(lambda xx:xx[0:],training_cols_blz)].T\n",
      "            \n",
      "        X = sample_data_arr[:,1:]\n",
      "        y = sample_data_arr[:,0]\n",
      "        \n",
      "        print PRINT_MESSAGE_FORMAT.format(model_id=self.model_id,message=\"[fit_model] init model ... \")\n",
      "        \n",
      "        if \"all_model_parameters\" in self.__dict__:\n",
      "            model = self.model_type(**self.all_model_parameters)\n",
      "        \n",
      "        elif \"model_parameters\" in self.__dict__:\n",
      "            model = self.model_type(**self.model_parameters)\n",
      "        \n",
      "        else:\n",
      "            model = self.model_type()\n",
      "        \n",
      "        print PRINT_MESSAGE_FORMAT.format(model_id=self.model_id,message=\"[fit_model] save model_info ... \")\n",
      "        \n",
      "        self.save_model_info()\n",
      "        \n",
      "        print PRINT_MESSAGE_FORMAT.format(model_id=self.model_id,message=\"[fit_model] fit model and return ... \")\n",
      "        \n",
      "        if append_self:\n",
      "            self.model = model.fit(X,y)\n",
      "            return self.model\n",
      "        else:\n",
      "            return model.fit(X,y)\n",
      "    \n",
      "    \n",
      "#     def predict_all_training_data(self, prediction_methond=\"decision_function\",limit_instances=1000000):\n",
      "#         pass\n",
      "    \n",
      "        \n",
      "    def predict_data(self, prediction_methond=\"decision_function\", limit_instances=1000000, on_which_data=\"training\"):\n",
      "    \n",
      "        assert \"feature_columns\" in self.__dict__\n",
      "        assert \"model\" in self.__dict__\n",
      "        assert prediction_methond in dir(self.model)\n",
      "        assert on_which_data in [\"training\",\"testing\"]\n",
      "        \n",
      "        read_columns = self.feature_columns\n",
      "        \n",
      "        print PRINT_MESSAGE_FORMAT.format(model_id=self.model_id,message=\"[predict_data] read predict_features_blz ... \")\n",
      "        \n",
      "        if on_which_data == \"training\":\n",
      "            prediction_results_blz_path = os.path.join(self.all_training_prediction_path, prediction_methond)\n",
      "            predict_features_blz_path_list = map(lambda xx: os.path.join(tools.TRAINING_BLZ_PATH,xx),read_columns)\n",
      "        else:\n",
      "            prediction_results_blz_path = os.path.join(self.all_testing_prediction_path, prediction_methond)\n",
      "            predict_features_blz_path_list = map(lambda xx: os.path.join(tools.TESTING_BLZ_PATH,xx),read_columns)\n",
      "        \n",
      "        print PRINT_MESSAGE_FORMAT.format(model_id=self.model_id,message=\"[predict_data] checking prediction results ... \")\n",
      "            \n",
      "        if os.path.exists(prediction_results_blz_path):\n",
      "            print PRINT_MESSAGE_FORMAT.format(model_id=self.model_id,message=\"[predict_data] there already exist prediction results ... \")\n",
      "            return blz.open(prediction_results_blz_path)\n",
      "        else:\n",
      "            \n",
      "            print PRINT_MESSAGE_FORMAT.format(model_id=self.model_id,message=\"[predict_data] there is no prediction result ... \")\n",
      "            print PRINT_MESSAGE_FORMAT.format(model_id=self.model_id,message=\"[predict_data] load predict_features_blz ... \")\n",
      "            \n",
      "            predict_features_blz = map(blz.open, predict_features_blz_path_list)\n",
      "            \n",
      "            print PRINT_MESSAGE_FORMAT.format(model_id=self.model_id,message=\"[predict_data] load prediction_function ... \")\n",
      "            \n",
      "            prediction_function = getattr(self.model,prediction_methond)\n",
      "        \n",
      "        \n",
      "            #predict_features_blz = map(lambda xx: blz.open(os.path.join(tools.TRAINING_BLZ_PATH,xx)),read_columns)\n",
      "        \n",
      "            totalN = predict_features_blz[0].shape[0]\n",
      "            divideN = limit_instances\n",
      "        \n",
      "            all_pairs = tools.get_separation_pairs(totalN, divideN)\n",
      "        \n",
      "            one_pair = all_pairs[0]\n",
      "            print PRINT_MESSAGE_FORMAT.format(model_id=self.model_id,message=\"[predict_data] predict data slice %s ~ %s \" % tuple(one_pair))\n",
      "        \n",
      "        \n",
      "            predict_features_arr = np.c_[map(lambda xx:xx[one_pair[0]:one_pair[1]],predict_features_blz)].T \n",
      "        \n",
      "            prediction_results_blz = blz.barray(prediction_function(predict_features_arr),\n",
      "                                            rootdir=prediction_results_blz_path)\n",
      "        \n",
      "            for one_pair in all_pairs[1:]:\n",
      "                print PRINT_MESSAGE_FORMAT.format(model_id=self.model_id,message=\"[predict_data] predict data slice %s ~ %s \" % tuple(one_pair))\n",
      "        \n",
      "                predict_features_arr = np.c_[map(lambda xx:xx[one_pair[0]:one_pair[1]],predict_features_blz)].T  \n",
      "            \n",
      "                prediction_results_blz.append(prediction_function(predict_features_arr))\n",
      "                del predict_features_arr\n",
      "                \n",
      "            prediction_results_blz.flush()\n",
      "            print PRINT_MESSAGE_FORMAT.format(model_id=self.model_id,message=\"[predict_data] finished prediction_results_blz.flush() and return\")\n",
      "    \n",
      "        \n",
      "            return prediction_results_blz\n",
      "    \n",
      "    @property\n",
      "    def list_all_predictions(self):\n",
      "        return {\"training\":os.listdir(self.all_training_prediction_path),\n",
      "                \"testing\":os.listdir(self.all_testing_prediction_path)}\n",
      "    \n",
      "    \n",
      "    def load_prediction_blz(self, datatype=\"training\", valuetype=\"decision_function\", limit_instances=1000000):\n",
      "        assert datatype in [\"training\",\"testing\"]\n",
      "        if datatype == \"training\":\n",
      "            loading_blz_path = os.path.join(self.all_training_prediction_path,valuetype)\n",
      "        else:\n",
      "            loading_blz_path = os.path.join(self.all_testing_prediction_path,valuetype)\n",
      "        \n",
      "        #return os.path.exists(loading_blz_path), loading_blz_path\n",
      "    \n",
      "        if os.path.exists(loading_blz_path):\n",
      "            return blz.open(loading_blz_path)\n",
      "        \n",
      "            \n",
      "    def save_model_info(self):\n",
      "        model_pickle_file_path = os.path.join(self.model_path,\"model_info.pickle\")\n",
      "        model_info = {}\n",
      "        \n",
      "        model_info[\"model_type\"] = self.model_type\n",
      "        model_info[\"training_data_slices\"] = self.training_data_slices\n",
      "        \n",
      "        if \"training_dataset\" in self.__dict__:\n",
      "            model_info[\"training_dataset\"] = self.training_dataset\n",
      "        else:\n",
      "            model_info[\"training_dataset\"] = \"origin\"\n",
      "\n",
      "        \n",
      "        \n",
      "        if \"model\" in self.__dict__:\n",
      "            model_info[\"model_paramters\"] = self.model.get_params()\n",
      "            \n",
      "        else:\n",
      "            if \"all_model_parameters\" in self.__dict__:\n",
      "                model_info[\"model_paramters\"] = self.all_model_parameters\n",
      "            else:\n",
      "                model_info[\"model_paramters\"] = self.model_parameters\n",
      "                \n",
      "            \n",
      "        if \"feature_columns\" in self.__dict__:\n",
      "            model_info[\"feature_columns\"] = self.feature_columns\n",
      "        else:\n",
      "            model_info[\"feature_columns\"] = TRAINING_COLUMN_NAMES[2:]\n",
      "        \n",
      "        \n",
      "        if \"additional_feature_columns\" in self.__dict__:\n",
      "            model_info[\"additional_feature_columns\"] = self.additional_feature_columns\n",
      "        else:\n",
      "            model_info[\"additional_feature_columns\"] = []\n",
      "        \n",
      "            \n",
      "        \n",
      "        with open(model_pickle_file_path, \"wb\") as wf:\n",
      "            pickle.dump(model_info,wf)\n",
      "            \n",
      "        return model_info\n",
      "    \n",
      "    \n",
      "    @property\n",
      "    def has_model_info(self):\n",
      "        return \"model_info.pickle\" in os.listdir(self.model_path)\n",
      "    \n",
      "    \n",
      "    @property\n",
      "    def model_info(self):\n",
      "        assert \"model_info.pickle\" in os.listdir(self.model_path)\n",
      "        model_pickle_file_path = os.path.join(self.model_path,\"model_info.pickle\")\n",
      "        with open(model_pickle_file_path, \"rb\") as wf:\n",
      "            model_info = pickle.load(wf)\n",
      "            \n",
      "        return model_info\n",
      "    \n",
      "\n",
      "    \n",
      "    def compute_training_data_logloss(self, return_type=\"value\", \n",
      "                                      use_prediction=\"predict_proba\", \n",
      "                                      prob_func=lambda xx:erf(np.subtract(xx,-0.9)),\n",
      "                                      output_vector_type = \"numpy\",\n",
      "                                      sample_slice  = slice(0,None,None)\n",
      "                                      ):\n",
      "    \n",
      "        assert return_type in [\"value\", \"vector\"]\n",
      "        assert output_vector_type in [\"blz\",\"numpy\"]\n",
      "        assert use_prediction in self.list_all_predictions[\"training\"]\n",
      "        \n",
      "        print PRINT_MESSAGE_FORMAT.format(model_id=self.model_id,message=\"[compute_training_data_logloss] conpute logloss with %s \" % use_prediction)\n",
      "        \n",
      "        use_prediction_blz = self.load_prediction_blz(datatype=\"training\", valuetype=use_prediction)\n",
      "        \n",
      "        \n",
      "        if use_prediction == \"predict_proba\":\n",
      "            prediction_prob = use_prediction_blz[sample_slice,1]\n",
      "        else:\n",
      "            #_vec_prob_func = np.vectorize(prob_func)\n",
      "            #prediction_prob = np.apply_along_axis(prob_func,0,use_prediction_blz[0:])\n",
      "            prediction_prob = prob_func(use_prediction_blz[sample_slice])\n",
      "            \n",
      "            #prediction_prob = blz.eval(\"prob_func(use_prediction_blz)\", vm=\"python\")\n",
      "        \n",
      "        #return prediction_prob\n",
      "        \n",
      "        exact_ans = blz.open(os.path.join(tools.TRAINING_BLZ_PATH,TRAINING_COLUMN_NAMES[1]))[sample_slice]\n",
      "        \n",
      "#         exact_ans = blz.open(os.path.join(tools.TRAINING_BLZ_PATH,TRAINING_COLUMN_NAMES[1]))\n",
      "#         bt = blz.btable(columns=[prediction_prob,exact_ans],names=[\"y\",\"py\"])\n",
      "        \n",
      "        logloss_vector = blz_llvec_fun(exact_ans,prediction_prob,output_vector_type)\n",
      "        logloss_value = logloss_vector.sum()/logloss_vector.shape[0]\n",
      "        print PRINT_MESSAGE_FORMAT.format(model_id=self.model_id,message=\"[compute_training_data_logloss] logloss_value = %s \" % logloss_value)\n",
      "        \n",
      "        if return_type == \"value\":\n",
      "            return logloss_value\n",
      "        else:\n",
      "            return logloss_vector\n",
      "    \n",
      "    \n",
      "    def create_kaggle_submit_csv(self, submit_format=\"%d,%.6f\"):\n",
      "        assert \"predict_proba\" in self.list_all_predictions[\"testing\"]\n",
      "        prediction_prob = self.load_prediction_blz(datatype=\"testing\", valuetype=\"predict_proba\")[:,1]\n",
      "        ids_barray = blz.open(os.path.join(tools.TESTING_BLZ_PATH,TESTING_COLUMN_NAMES[0]))\n",
      "        bt = blz.btable(columns=[ids_barray,prediction_prob], names=[\"Id\",\"Predicted\"])\n",
      "        all_results = [submit_format % tuple(xx) for xx in bt.iter()]\n",
      "        all_results_string = \"\\n\".join([\",\".join(bt.names)] + all_results)\n",
      "        \n",
      "        submit_filename = \"%s_%s.csv\" % (self.model_id, datetime.datetime.now().strftime(\"%Y%m%d%H%M%S\"))\n",
      "        \n",
      "        submit_filepath = os.path.join(SUBMITS_PATH,submit_filename)\n",
      "        \n",
      "        with open(submit_filepath,\"w\") as wf:\n",
      "            wf.write(all_results_string)\n",
      "        \n",
      "        \n",
      "        "
     ],
     "language": "python",
     "metadata": {},
     "outputs": [],
     "prompt_number": 10
    },
    {
     "cell_type": "code",
     "collapsed": false,
     "input": [],
     "language": "python",
     "metadata": {},
     "outputs": []
    },
    {
     "cell_type": "code",
     "collapsed": false,
     "input": [
      "class ModelSeries(object):\n",
      "    \n",
      "    def __init__(self, series_name, series_home):\n",
      "        self.series_name = series_name\n",
      "        self.series_home = series_home\n",
      "    \n",
      "    \n",
      "    @property\n",
      "    def series_model_ids(self):\n",
      "        return [ xx.replace(self.series_name+\"_\",\"\") for xx in os.listdir(self.series_home) if xx.startswith(self.series_name)]\n",
      "    \n",
      "    \n",
      "    @property\n",
      "    def series_model_series_ids(self):\n",
      "        return [ xx for xx in os.listdir(self.series_home) if xx.startswith(self.series_name)]\n",
      "    \n",
      "        \n",
      "        \n",
      "    @property\n",
      "    def series_models(self):\n",
      "        return [Model(model_series=self.series_name, \n",
      "                      model_id=one_id, \n",
      "                      model_home = self.series_home) for one_id in self.series_model_ids]\n",
      "        \n",
      "    \n",
      "    def compute_training_data_logloss(self,**kwargs):\n",
      "        \n",
      "        logloss_dict = {}\n",
      "        \n",
      "        for one_model in self.series_models:\n",
      "            logloss_dict[one_model.model_id] = one_model.compute_training_data_logloss(**kwargs)\n",
      "        return logloss_dict\n",
      "    \n",
      "    \n",
      "    def create_averging_model(self, model_series=\"AvgModels\", model_id=None, model_home=AVG_MODELS_PATH):\n",
      "        \n",
      "        pass\n",
      "    \n",
      "    \n",
      "    \n",
      "    "
     ],
     "language": "python",
     "metadata": {},
     "outputs": [],
     "prompt_number": 63
    },
    {
     "cell_type": "code",
     "collapsed": false,
     "input": [],
     "language": "python",
     "metadata": {},
     "outputs": [],
     "prompt_number": 98
    },
    {
     "cell_type": "code",
     "collapsed": false,
     "input": [
      "\n",
      "def convert_int_to_slice(int_or_slice):\n",
      "    assert isinstance(int_or_slice, (int,slice))\n",
      "    \n",
      "    if isinstance(int_or_slice, int):\n",
      "        return slice(int_or_slice,int_or_slice+1,None)\n",
      "    else:\n",
      "        return int_or_slice\n",
      "    \n",
      "    \n",
      "\n",
      "class BlzArraysList(list):\n",
      "    def __init__(self, *barrays):\n",
      "        \n",
      "        # checking if one_barray is blz.barray's instance\n",
      "        for one_barray in barrays:\n",
      "            assert isinstance(one_barray, blz.barray)\n",
      "        \n",
      "        # checking there is only one shape in barrays\n",
      "        assert len(set(map(lambda xx:xx.shape,barrays))) == 1\n",
      "        \n",
      "        list.__init__(self, barrays)\n",
      "        \n",
      "    \n",
      "    @property\n",
      "    def common_shape(self):\n",
      "        return self[0].shape\n",
      "        \n",
      "        \n",
      "    def select(self, *select_slices):\n",
      "        \n",
      "        # checking select_slices has the same len to self.common_shape\n",
      "        assert len(select_slices) == len(self.common_shape)\n",
      "        \n",
      "        _select_slices = tuple(map(convert_int_to_slice,select_slices))\n",
      "        \n",
      "        return _select_slices\n",
      "        \n",
      "        \n",
      "    "
     ],
     "language": "python",
     "metadata": {},
     "outputs": [],
     "prompt_number": 140
    },
    {
     "cell_type": "code",
     "collapsed": false,
     "input": [
      "class ModelsList(list):\n",
      "    def __init__(self,*models):\n",
      "        list.__init__(self, models)\n",
      "        \n",
      "    def load_prediction_blz(self,datatype=\"training\", valuetype=\"predict_proba\"):\n",
      "        return BlzArraysList(*map(lambda xx:xx.load_prediction_blz(datatype, valuetype),self))\n",
      "        \n",
      "        \n",
      "class AverageModels(ModelsList):\n",
      "    pass\n",
      "\n"
     ],
     "language": "python",
     "metadata": {},
     "outputs": [],
     "prompt_number": 141
    },
    {
     "cell_type": "code",
     "collapsed": false,
     "input": [
      "models_list = ModelsList(*rf_series.series_models)"
     ],
     "language": "python",
     "metadata": {},
     "outputs": [],
     "prompt_number": 142
    },
    {
     "cell_type": "code",
     "collapsed": false,
     "input": [
      "barray_list = models_list.load_prediction_blz()"
     ],
     "language": "python",
     "metadata": {},
     "outputs": [],
     "prompt_number": 143
    },
    {
     "cell_type": "code",
     "collapsed": false,
     "input": [
      "barray_list[0][barray_list.select(4,5)]"
     ],
     "language": "python",
     "metadata": {},
     "outputs": [
      {
       "metadata": {},
       "output_type": "pyout",
       "prompt_number": 147,
       "text": [
        "array([], shape=(1, 0), dtype=float64)"
       ]
      }
     ],
     "prompt_number": 147
    },
    {
     "cell_type": "code",
     "collapsed": false,
     "input": [
      "barray_list[0][(slice(1,10,None),slice(0,2,None))]"
     ],
     "language": "python",
     "metadata": {},
     "outputs": [
      {
       "metadata": {},
       "output_type": "pyout",
       "prompt_number": 139,
       "text": [
        "array([[ 0.81702344,  0.18297656],\n",
        "       [ 0.70687305,  0.29312695],\n",
        "       [ 0.81089523,  0.18910477],\n",
        "       [ 0.60741835,  0.39258165],\n",
        "       [ 0.83879056,  0.16120944],\n",
        "       [ 0.83130197,  0.16869803],\n",
        "       [ 0.51555983,  0.48444017],\n",
        "       [ 0.90239369,  0.09760631],\n",
        "       [ 0.60274423,  0.39725577]])"
       ]
      }
     ],
     "prompt_number": 139
    },
    {
     "cell_type": "code",
     "collapsed": false,
     "input": [
      "barray_list[0][slice(0,1000,None),slice(1,2,None)]"
     ],
     "language": "python",
     "metadata": {},
     "outputs": [
      {
       "metadata": {},
       "output_type": "pyout",
       "prompt_number": 112,
       "text": [
        "array([[ 0.3718933 ],\n",
        "       [ 0.18297656],\n",
        "       [ 0.29312695],\n",
        "       [ 0.18910477],\n",
        "       [ 0.39258165],\n",
        "       [ 0.16120944],\n",
        "       [ 0.16869803],\n",
        "       [ 0.48444017],\n",
        "       [ 0.09760631],\n",
        "       [ 0.39725577],\n",
        "       [ 0.07806135],\n",
        "       [ 0.18657542],\n",
        "       [ 0.56810861],\n",
        "       [ 0.2154079 ],\n",
        "       [ 0.18685879],\n",
        "       [ 0.17538364],\n",
        "       [ 0.30093357],\n",
        "       [ 0.10852445],\n",
        "       [ 0.26257096],\n",
        "       [ 0.35433348],\n",
        "       [ 0.51014317],\n",
        "       [ 0.13688224],\n",
        "       [ 0.18302255],\n",
        "       [ 0.05778127],\n",
        "       [ 0.13107539],\n",
        "       [ 0.27135014],\n",
        "       [ 0.28462591],\n",
        "       [ 0.27065953],\n",
        "       [ 0.15845289],\n",
        "       [ 0.2186686 ],\n",
        "       [ 0.3006846 ],\n",
        "       [ 0.02343669],\n",
        "       [ 0.47600312],\n",
        "       [ 0.16431207],\n",
        "       [ 0.48599687],\n",
        "       [ 0.43381934],\n",
        "       [ 0.02100354],\n",
        "       [ 0.42977399],\n",
        "       [ 0.0807456 ],\n",
        "       [ 0.16026192],\n",
        "       [ 0.33451951],\n",
        "       [ 0.48941934],\n",
        "       [ 0.23160092],\n",
        "       [ 0.0875572 ],\n",
        "       [ 0.1143395 ],\n",
        "       [ 0.06653109],\n",
        "       [ 0.08166626],\n",
        "       [ 0.32828386],\n",
        "       [ 0.47834225],\n",
        "       [ 0.50942253],\n",
        "       [ 0.22363458],\n",
        "       [ 0.27665652],\n",
        "       [ 0.13329707],\n",
        "       [ 0.09052577],\n",
        "       [ 0.26980199],\n",
        "       [ 0.46695724],\n",
        "       [ 0.13075994],\n",
        "       [ 0.21244328],\n",
        "       [ 0.1693837 ],\n",
        "       [ 0.13469279],\n",
        "       [ 0.00502273],\n",
        "       [ 0.12535614],\n",
        "       [ 0.22597702],\n",
        "       [ 0.17915849],\n",
        "       [ 0.30696092],\n",
        "       [ 0.30495349],\n",
        "       [ 0.37727789],\n",
        "       [ 0.1516589 ],\n",
        "       [ 0.35671566],\n",
        "       [ 0.08780862],\n",
        "       [ 0.10514196],\n",
        "       [ 0.27643312],\n",
        "       [ 0.4514951 ],\n",
        "       [ 0.19394644],\n",
        "       [ 0.10359654],\n",
        "       [ 0.11688095],\n",
        "       [ 0.2665233 ],\n",
        "       [ 0.27946075],\n",
        "       [ 0.2397301 ],\n",
        "       [ 0.29902167],\n",
        "       [ 0.06679444],\n",
        "       [ 0.20525296],\n",
        "       [ 0.05149302],\n",
        "       [ 0.20519897],\n",
        "       [ 0.16864574],\n",
        "       [ 0.37864782],\n",
        "       [ 0.5362057 ],\n",
        "       [ 0.25108629],\n",
        "       [ 0.40599011],\n",
        "       [ 0.05206175],\n",
        "       [ 0.231714  ],\n",
        "       [ 0.0701022 ],\n",
        "       [ 0.06334834],\n",
        "       [ 0.23431906],\n",
        "       [ 0.30935715],\n",
        "       [ 0.05578542],\n",
        "       [ 0.13224598],\n",
        "       [ 0.15744327],\n",
        "       [ 0.38966779],\n",
        "       [ 0.23331629],\n",
        "       [ 0.60932983],\n",
        "       [ 0.2636286 ],\n",
        "       [ 0.23819236],\n",
        "       [ 0.13178217],\n",
        "       [ 0.26144813],\n",
        "       [ 0.23621847],\n",
        "       [ 0.09979425],\n",
        "       [ 0.41736314],\n",
        "       [ 0.00562637],\n",
        "       [ 0.49852277],\n",
        "       [ 0.32279695],\n",
        "       [ 0.11588606],\n",
        "       [ 0.3663657 ],\n",
        "       [ 0.38761471],\n",
        "       [ 0.08776597],\n",
        "       [ 0.21046581],\n",
        "       [ 0.14012807],\n",
        "       [ 0.29017923],\n",
        "       [ 0.12698534],\n",
        "       [ 0.44867118],\n",
        "       [ 0.0841191 ],\n",
        "       [ 0.27835356],\n",
        "       [ 0.1225356 ],\n",
        "       [ 0.33566319],\n",
        "       [ 0.33308005],\n",
        "       [ 0.10764446],\n",
        "       [ 0.19931288],\n",
        "       [ 0.40860255],\n",
        "       [ 0.40471901],\n",
        "       [ 0.5292932 ],\n",
        "       [ 0.53442802],\n",
        "       [ 0.31996935],\n",
        "       [ 0.44313868],\n",
        "       [ 0.21693404],\n",
        "       [ 0.0771162 ],\n",
        "       [ 0.02912277],\n",
        "       [ 0.16247571],\n",
        "       [ 0.31428451],\n",
        "       [ 0.0503418 ],\n",
        "       [ 0.18229954],\n",
        "       [ 0.16396595],\n",
        "       [ 0.39720776],\n",
        "       [ 0.10204176],\n",
        "       [ 0.57211095],\n",
        "       [ 0.33816632],\n",
        "       [ 0.27072138],\n",
        "       [ 0.33545105],\n",
        "       [ 0.18749144],\n",
        "       [ 0.56265374],\n",
        "       [ 0.48041154],\n",
        "       [ 0.32194137],\n",
        "       [ 0.09850773],\n",
        "       [ 0.30007092],\n",
        "       [ 0.34489849],\n",
        "       [ 0.10753134],\n",
        "       [ 0.48831435],\n",
        "       [ 0.0759867 ],\n",
        "       [ 0.51716152],\n",
        "       [ 0.12500544],\n",
        "       [ 0.39407117],\n",
        "       [ 0.31096395],\n",
        "       [ 0.1581073 ],\n",
        "       [ 0.03204383],\n",
        "       [ 0.48174155],\n",
        "       [ 0.12385476],\n",
        "       [ 0.26042704],\n",
        "       [ 0.54920142],\n",
        "       [ 0.31289431],\n",
        "       [ 0.25905079],\n",
        "       [ 0.2104279 ],\n",
        "       [ 0.37726376],\n",
        "       [ 0.039642  ],\n",
        "       [ 0.18615378],\n",
        "       [ 0.09693699],\n",
        "       [ 0.26303141],\n",
        "       [ 0.12268444],\n",
        "       [ 0.04759943],\n",
        "       [ 0.17854899],\n",
        "       [ 0.06660397],\n",
        "       [ 0.22682981],\n",
        "       [ 0.17343506],\n",
        "       [ 0.86096928],\n",
        "       [ 0.44550662],\n",
        "       [ 0.07333203],\n",
        "       [ 0.37091835],\n",
        "       [ 0.27125202],\n",
        "       [ 0.57468824],\n",
        "       [ 0.17574176],\n",
        "       [ 0.59040638],\n",
        "       [ 0.1367598 ],\n",
        "       [ 0.12657236],\n",
        "       [ 0.32823867],\n",
        "       [ 0.24794185],\n",
        "       [ 0.150095  ],\n",
        "       [ 0.08311393],\n",
        "       [ 0.05728768],\n",
        "       [ 0.2590704 ],\n",
        "       [ 0.23687968],\n",
        "       [ 0.18215139],\n",
        "       [ 0.12451366],\n",
        "       [ 0.0892257 ],\n",
        "       [ 0.06663272],\n",
        "       [ 0.1234881 ],\n",
        "       [ 0.19350741],\n",
        "       [ 0.38318171],\n",
        "       [ 0.41223122],\n",
        "       [ 0.11980365],\n",
        "       [ 0.06151369],\n",
        "       [ 0.70933547],\n",
        "       [ 0.15127228],\n",
        "       [ 0.27148126],\n",
        "       [ 0.55663545],\n",
        "       [ 0.22795027],\n",
        "       [ 0.41145663],\n",
        "       [ 0.24969557],\n",
        "       [ 0.12694506],\n",
        "       [ 0.49644074],\n",
        "       [ 0.16566017],\n",
        "       [ 0.25704505],\n",
        "       [ 0.12611987],\n",
        "       [ 0.42721539],\n",
        "       [ 0.15178625],\n",
        "       [ 0.2797143 ],\n",
        "       [ 0.33881395],\n",
        "       [ 0.07760148],\n",
        "       [ 0.25039589],\n",
        "       [ 0.14751778],\n",
        "       [ 0.12675653],\n",
        "       [ 0.06687323],\n",
        "       [ 0.08470473],\n",
        "       [ 0.42557147],\n",
        "       [ 0.33870041],\n",
        "       [ 0.1436805 ],\n",
        "       [ 0.2449726 ],\n",
        "       [ 0.42062852],\n",
        "       [ 0.14094001],\n",
        "       [ 0.47628382],\n",
        "       [ 0.19688958],\n",
        "       [ 0.39107297],\n",
        "       [ 0.3066679 ],\n",
        "       [ 0.16106857],\n",
        "       [ 0.24286743],\n",
        "       [ 0.36185715],\n",
        "       [ 0.10377405],\n",
        "       [ 0.0793446 ],\n",
        "       [ 0.41325647],\n",
        "       [ 0.27199877],\n",
        "       [ 0.39449425],\n",
        "       [ 0.55320259],\n",
        "       [ 0.44048044],\n",
        "       [ 0.07639499],\n",
        "       [ 0.23925865],\n",
        "       [ 0.04184063],\n",
        "       [ 0.18228748],\n",
        "       [ 0.11996513],\n",
        "       [ 0.02843559],\n",
        "       [ 0.21745811],\n",
        "       [ 0.28867219],\n",
        "       [ 0.26240649],\n",
        "       [ 0.55931241],\n",
        "       [ 0.15742557],\n",
        "       [ 0.03197336],\n",
        "       [ 0.68772474],\n",
        "       [ 0.23787727],\n",
        "       [ 0.15921576],\n",
        "       [ 0.44524699],\n",
        "       [ 0.44528551],\n",
        "       [ 0.53630063],\n",
        "       [ 0.14905997],\n",
        "       [ 0.08932008],\n",
        "       [ 0.22537425],\n",
        "       [ 0.19370452],\n",
        "       [ 0.20452989],\n",
        "       [ 0.3680348 ],\n",
        "       [ 0.0783871 ],\n",
        "       [ 0.06594981],\n",
        "       [ 0.23443988],\n",
        "       [ 0.14804287],\n",
        "       [ 0.07568169],\n",
        "       [ 0.14145641],\n",
        "       [ 0.39812634],\n",
        "       [ 0.37213642],\n",
        "       [ 0.24993825],\n",
        "       [ 0.09228132],\n",
        "       [ 0.32663803],\n",
        "       [ 0.49970852],\n",
        "       [ 0.49991846],\n",
        "       [ 0.32527008],\n",
        "       [ 0.23872007],\n",
        "       [ 0.44282612],\n",
        "       [ 0.09623516],\n",
        "       [ 0.03346169],\n",
        "       [ 0.03096353],\n",
        "       [ 0.46071046],\n",
        "       [ 0.23063979],\n",
        "       [ 0.42500927],\n",
        "       [ 0.13307178],\n",
        "       [ 0.30774399],\n",
        "       [ 0.04282326],\n",
        "       [ 0.12263646],\n",
        "       [ 0.23791387],\n",
        "       [ 0.14079348],\n",
        "       [ 0.05053975],\n",
        "       [ 0.19917496],\n",
        "       [ 0.25175513],\n",
        "       [ 0.4145089 ],\n",
        "       [ 0.07691488],\n",
        "       [ 0.20906149],\n",
        "       [ 0.23868385],\n",
        "       [ 0.06907269],\n",
        "       [ 0.11698384],\n",
        "       [ 0.3230747 ],\n",
        "       [ 0.10002901],\n",
        "       [ 0.0995301 ],\n",
        "       [ 0.1178079 ],\n",
        "       [ 0.10960913],\n",
        "       [ 0.21131707],\n",
        "       [ 0.20029354],\n",
        "       [ 0.20323579],\n",
        "       [ 0.26314803],\n",
        "       [ 0.11702258],\n",
        "       [ 0.13528151],\n",
        "       [ 0.25110834],\n",
        "       [ 0.45250735],\n",
        "       [ 0.38477305],\n",
        "       [ 0.23062578],\n",
        "       [ 0.21739264],\n",
        "       [ 0.20093996],\n",
        "       [ 0.23725614],\n",
        "       [ 0.13961926],\n",
        "       [ 0.38509167],\n",
        "       [ 0.12425139],\n",
        "       [ 0.36598176],\n",
        "       [ 0.53439251],\n",
        "       [ 0.30849009],\n",
        "       [ 0.04126466],\n",
        "       [ 0.34514879],\n",
        "       [ 0.29927181],\n",
        "       [ 0.12358602],\n",
        "       [ 0.13230373],\n",
        "       [ 0.13732863],\n",
        "       [ 0.03845326],\n",
        "       [ 0.47553841],\n",
        "       [ 0.23390285],\n",
        "       [ 0.1467537 ],\n",
        "       [ 0.11342736],\n",
        "       [ 0.26915513],\n",
        "       [ 0.57860952],\n",
        "       [ 0.14820548],\n",
        "       [ 0.07563352],\n",
        "       [ 0.10256079],\n",
        "       [ 0.08732766],\n",
        "       [ 0.43920499],\n",
        "       [ 0.13938416],\n",
        "       [ 0.158765  ],\n",
        "       [ 0.11388907],\n",
        "       [ 0.5164597 ],\n",
        "       [ 0.11535639],\n",
        "       [ 0.05128849],\n",
        "       [ 0.1881052 ],\n",
        "       [ 0.09694988],\n",
        "       [ 0.22879914],\n",
        "       [ 0.10352616],\n",
        "       [ 0.14031225],\n",
        "       [ 0.22871559],\n",
        "       [ 0.18552155],\n",
        "       [ 0.50561194],\n",
        "       [ 0.54573943],\n",
        "       [ 0.57101358],\n",
        "       [ 0.2236358 ],\n",
        "       [ 0.26600865],\n",
        "       [ 0.21807789],\n",
        "       [ 0.03817491],\n",
        "       [ 0.14221137],\n",
        "       [ 0.19483809],\n",
        "       [ 0.17959302],\n",
        "       [ 0.32072102],\n",
        "       [ 0.15998714],\n",
        "       [ 0.28187709],\n",
        "       [ 0.2683387 ],\n",
        "       [ 0.16516742],\n",
        "       [ 0.11750132],\n",
        "       [ 0.13662161],\n",
        "       [ 0.24839043],\n",
        "       [ 0.43336458],\n",
        "       [ 0.1432467 ],\n",
        "       [ 0.19571644],\n",
        "       [ 0.11871692],\n",
        "       [ 0.4227868 ],\n",
        "       [ 0.04827455],\n",
        "       [ 0.43700696],\n",
        "       [ 0.16386063],\n",
        "       [ 0.1207064 ],\n",
        "       [ 0.10632912],\n",
        "       [ 0.1392033 ],\n",
        "       [ 0.48311109],\n",
        "       [ 0.23674707],\n",
        "       [ 0.680915  ],\n",
        "       [ 0.15104217],\n",
        "       [ 0.32119323],\n",
        "       [ 0.13208006],\n",
        "       [ 0.08171563],\n",
        "       [ 0.3828609 ],\n",
        "       [ 0.11252096],\n",
        "       [ 0.10451832],\n",
        "       [ 0.37081075],\n",
        "       [ 0.17570217],\n",
        "       [ 0.42628164],\n",
        "       [ 0.44266797],\n",
        "       [ 0.11298606],\n",
        "       [ 0.42888029],\n",
        "       [ 0.27770281],\n",
        "       [ 0.2986435 ],\n",
        "       [ 0.30848763],\n",
        "       [ 0.21447008],\n",
        "       [ 0.12291957],\n",
        "       [ 0.054884  ],\n",
        "       [ 0.21746002],\n",
        "       [ 0.0524795 ],\n",
        "       [ 0.33782802],\n",
        "       [ 0.38241863],\n",
        "       [ 0.22141674],\n",
        "       [ 0.31091924],\n",
        "       [ 0.15589721],\n",
        "       [ 0.11430088],\n",
        "       [ 0.36675777],\n",
        "       [ 0.62130473],\n",
        "       [ 0.25945923],\n",
        "       [ 0.30804195],\n",
        "       [ 0.23074925],\n",
        "       [ 0.36270946],\n",
        "       [ 0.16099866],\n",
        "       [ 0.0588251 ],\n",
        "       [ 0.0860855 ],\n",
        "       [ 0.22743137],\n",
        "       [ 0.18858237],\n",
        "       [ 0.13678606],\n",
        "       [ 0.31063465],\n",
        "       [ 0.40279981],\n",
        "       [ 0.5114875 ],\n",
        "       [ 0.49897193],\n",
        "       [ 0.06349492],\n",
        "       [ 0.27598727],\n",
        "       [ 0.13131507],\n",
        "       [ 0.2643152 ],\n",
        "       [ 0.12425318],\n",
        "       [ 0.19285866],\n",
        "       [ 0.45351845],\n",
        "       [ 0.60191154],\n",
        "       [ 0.04755991],\n",
        "       [ 0.31500962],\n",
        "       [ 0.12036969],\n",
        "       [ 0.07321704],\n",
        "       [ 0.24447689],\n",
        "       [ 0.22863023],\n",
        "       [ 0.30320152],\n",
        "       [ 0.39443793],\n",
        "       [ 0.08173692],\n",
        "       [ 0.17764964],\n",
        "       [ 0.18236551],\n",
        "       [ 0.11581584],\n",
        "       [ 0.16660521],\n",
        "       [ 0.20087037],\n",
        "       [ 0.13606128],\n",
        "       [ 0.25660278],\n",
        "       [ 0.10483953],\n",
        "       [ 0.29715513],\n",
        "       [ 0.19745165],\n",
        "       [ 0.47766719],\n",
        "       [ 0.26547865],\n",
        "       [ 0.15406767],\n",
        "       [ 0.04443885],\n",
        "       [ 0.10210702],\n",
        "       [ 0.33784864],\n",
        "       [ 0.17749451],\n",
        "       [ 0.04519801],\n",
        "       [ 0.21143667],\n",
        "       [ 0.09820543],\n",
        "       [ 0.38615563],\n",
        "       [ 0.22518188],\n",
        "       [ 0.27171649],\n",
        "       [ 0.08962628],\n",
        "       [ 0.27121712],\n",
        "       [ 0.12634198],\n",
        "       [ 0.24134915],\n",
        "       [ 0.45836295],\n",
        "       [ 0.51716327],\n",
        "       [ 0.09178885],\n",
        "       [ 0.18163622],\n",
        "       [ 0.29184803],\n",
        "       [ 0.23812059],\n",
        "       [ 0.26887579],\n",
        "       [ 0.26309953],\n",
        "       [ 0.23272404],\n",
        "       [ 0.20076824],\n",
        "       [ 0.2669893 ],\n",
        "       [ 0.43864583],\n",
        "       [ 0.5468722 ],\n",
        "       [ 0.38465278],\n",
        "       [ 0.23238942],\n",
        "       [ 0.38533212],\n",
        "       [ 0.34787624],\n",
        "       [ 0.04031517],\n",
        "       [ 0.20926548],\n",
        "       [ 0.15120932],\n",
        "       [ 0.39148252],\n",
        "       [ 0.03566212],\n",
        "       [ 0.28424691],\n",
        "       [ 0.12246762],\n",
        "       [ 0.19954932],\n",
        "       [ 0.38071805],\n",
        "       [ 0.20364397],\n",
        "       [ 0.19596336],\n",
        "       [ 0.22413192],\n",
        "       [ 0.34463228],\n",
        "       [ 0.1314687 ],\n",
        "       [ 0.53420659],\n",
        "       [ 0.55211656],\n",
        "       [ 0.02670405],\n",
        "       [ 0.0918807 ],\n",
        "       [ 0.16490271],\n",
        "       [ 0.24332071],\n",
        "       [ 0.19136886],\n",
        "       [ 0.24396728],\n",
        "       [ 0.08603841],\n",
        "       [ 0.24165613],\n",
        "       [ 0.47551256],\n",
        "       [ 0.14937217],\n",
        "       [ 0.07878221],\n",
        "       [ 0.29961493],\n",
        "       [ 0.30530619],\n",
        "       [ 0.38300349],\n",
        "       [ 0.23300787],\n",
        "       [ 0.12150764],\n",
        "       [ 0.2802156 ],\n",
        "       [ 0.18929829],\n",
        "       [ 0.45053208],\n",
        "       [ 0.37068822],\n",
        "       [ 0.13913101],\n",
        "       [ 0.18537259],\n",
        "       [ 0.4127494 ],\n",
        "       [ 0.17812951],\n",
        "       [ 0.17517145],\n",
        "       [ 0.05854563],\n",
        "       [ 0.33249503],\n",
        "       [ 0.33696484],\n",
        "       [ 0.03839858],\n",
        "       [ 0.18199581],\n",
        "       [ 0.25102686],\n",
        "       [ 0.4317389 ],\n",
        "       [ 0.0832185 ],\n",
        "       [ 0.17311865],\n",
        "       [ 0.05628785],\n",
        "       [ 0.3845854 ],\n",
        "       [ 0.22956851],\n",
        "       [ 0.17661216],\n",
        "       [ 0.0636011 ],\n",
        "       [ 0.55331531],\n",
        "       [ 0.10754244],\n",
        "       [ 0.34044595],\n",
        "       [ 0.05573246],\n",
        "       [ 0.11065636],\n",
        "       [ 0.05859975],\n",
        "       [ 0.05268012],\n",
        "       [ 0.3594212 ],\n",
        "       [ 0.1459835 ],\n",
        "       [ 0.45361064],\n",
        "       [ 0.29696801],\n",
        "       [ 0.38415398],\n",
        "       [ 0.09808418],\n",
        "       [ 0.20720635],\n",
        "       [ 0.29195187],\n",
        "       [ 0.11075583],\n",
        "       [ 0.02821429],\n",
        "       [ 0.04421795],\n",
        "       [ 0.39763085],\n",
        "       [ 0.50438648],\n",
        "       [ 0.11219147],\n",
        "       [ 0.30645496],\n",
        "       [ 0.30089616],\n",
        "       [ 0.13313366],\n",
        "       [ 0.32449914],\n",
        "       [ 0.26968875],\n",
        "       [ 0.29180268],\n",
        "       [ 0.09411899],\n",
        "       [ 0.3419913 ],\n",
        "       [ 0.18953708],\n",
        "       [ 0.10433766],\n",
        "       [ 0.06080579],\n",
        "       [ 0.31460206],\n",
        "       [ 0.14860548],\n",
        "       [ 0.04710351],\n",
        "       [ 0.27147493],\n",
        "       [ 0.08715115],\n",
        "       [ 0.49104096],\n",
        "       [ 0.30363301],\n",
        "       [ 0.14324674],\n",
        "       [ 0.46768893],\n",
        "       [ 0.56273436],\n",
        "       [ 0.24277031],\n",
        "       [ 0.10364058],\n",
        "       [ 0.22480588],\n",
        "       [ 0.17858714],\n",
        "       [ 0.16813316],\n",
        "       [ 0.29167043],\n",
        "       [ 0.26479682],\n",
        "       [ 0.2424703 ],\n",
        "       [ 0.07592999],\n",
        "       [ 0.15151135],\n",
        "       [ 0.12276745],\n",
        "       [ 0.16634806],\n",
        "       [ 0.14650165],\n",
        "       [ 0.04762243],\n",
        "       [ 0.11736825],\n",
        "       [ 0.05644351],\n",
        "       [ 0.46195335],\n",
        "       [ 0.51013975],\n",
        "       [ 0.12542299],\n",
        "       [ 0.33316142],\n",
        "       [ 0.08314827],\n",
        "       [ 0.24238418],\n",
        "       [ 0.13853979],\n",
        "       [ 0.22743999],\n",
        "       [ 0.24105449],\n",
        "       [ 0.20950143],\n",
        "       [ 0.55018957],\n",
        "       [ 0.34282384],\n",
        "       [ 0.26472784],\n",
        "       [ 0.14286934],\n",
        "       [ 0.07034841],\n",
        "       [ 0.1645316 ],\n",
        "       [ 0.03305682],\n",
        "       [ 0.34488651],\n",
        "       [ 0.34529211],\n",
        "       [ 0.38866625],\n",
        "       [ 0.05638376],\n",
        "       [ 0.18665268],\n",
        "       [ 0.0438131 ],\n",
        "       [ 0.22243662],\n",
        "       [ 0.59766198],\n",
        "       [ 0.08849395],\n",
        "       [ 0.07017911],\n",
        "       [ 0.21004863],\n",
        "       [ 0.21439848],\n",
        "       [ 0.28697321],\n",
        "       [ 0.16570945],\n",
        "       [ 0.21725508],\n",
        "       [ 0.11871844],\n",
        "       [ 0.26639535],\n",
        "       [ 0.18088952],\n",
        "       [ 0.15652269],\n",
        "       [ 0.2172357 ],\n",
        "       [ 0.53432848],\n",
        "       [ 0.26624308],\n",
        "       [ 0.08027148],\n",
        "       [ 0.15031506],\n",
        "       [ 0.21370043],\n",
        "       [ 0.21824933],\n",
        "       [ 0.04552115],\n",
        "       [ 0.63710385],\n",
        "       [ 0.18667001],\n",
        "       [ 0.17354288],\n",
        "       [ 0.06627063],\n",
        "       [ 0.13571414],\n",
        "       [ 0.33924998],\n",
        "       [ 0.64281782],\n",
        "       [ 0.15993245],\n",
        "       [ 0.16061991],\n",
        "       [ 0.16625269],\n",
        "       [ 0.06986922],\n",
        "       [ 0.2793972 ],\n",
        "       [ 0.149565  ],\n",
        "       [ 0.49871563],\n",
        "       [ 0.1516985 ],\n",
        "       [ 0.1326734 ],\n",
        "       [ 0.14315145],\n",
        "       [ 0.58275032],\n",
        "       [ 0.23743253],\n",
        "       [ 0.34444961],\n",
        "       [ 0.12606723],\n",
        "       [ 0.29159493],\n",
        "       [ 0.15389468],\n",
        "       [ 0.17851837],\n",
        "       [ 0.32902668],\n",
        "       [ 0.03153354],\n",
        "       [ 0.18128367],\n",
        "       [ 0.08610748],\n",
        "       [ 0.47823084],\n",
        "       [ 0.22783417],\n",
        "       [ 0.25087574],\n",
        "       [ 0.09111652],\n",
        "       [ 0.32185654],\n",
        "       [ 0.31478707],\n",
        "       [ 0.31730716],\n",
        "       [ 0.09132859],\n",
        "       [ 0.10783945],\n",
        "       [ 0.1926853 ],\n",
        "       [ 0.14685346],\n",
        "       [ 0.40904918],\n",
        "       [ 0.08206911],\n",
        "       [ 0.57128231],\n",
        "       [ 0.41229192],\n",
        "       [ 0.23979173],\n",
        "       [ 0.27327985],\n",
        "       [ 0.16739147],\n",
        "       [ 0.10682536],\n",
        "       [ 0.16329069],\n",
        "       [ 0.09181322],\n",
        "       [ 0.20690013],\n",
        "       [ 0.370801  ],\n",
        "       [ 0.0955674 ],\n",
        "       [ 0.25929719],\n",
        "       [ 0.12098503],\n",
        "       [ 0.1296687 ],\n",
        "       [ 0.33057719],\n",
        "       [ 0.4260451 ],\n",
        "       [ 0.13407277],\n",
        "       [ 0.08111159],\n",
        "       [ 0.40286899],\n",
        "       [ 0.07966137],\n",
        "       [ 0.20737886],\n",
        "       [ 0.17383094],\n",
        "       [ 0.1662427 ],\n",
        "       [ 0.12124152],\n",
        "       [ 0.25498867],\n",
        "       [ 0.11236801],\n",
        "       [ 0.07736346],\n",
        "       [ 0.19810217],\n",
        "       [ 0.35346509],\n",
        "       [ 0.14261045],\n",
        "       [ 0.483113  ],\n",
        "       [ 0.20113542],\n",
        "       [ 0.15083297],\n",
        "       [ 0.10452872],\n",
        "       [ 0.18288302],\n",
        "       [ 0.08275747],\n",
        "       [ 0.06616305],\n",
        "       [ 0.05149172],\n",
        "       [ 0.34045994],\n",
        "       [ 0.30020112],\n",
        "       [ 0.29200739],\n",
        "       [ 0.19611289],\n",
        "       [ 0.2538051 ],\n",
        "       [ 0.53927621],\n",
        "       [ 0.1409541 ],\n",
        "       [ 0.39284939],\n",
        "       [ 0.32360688],\n",
        "       [ 0.54950199],\n",
        "       [ 0.02782215],\n",
        "       [ 0.14348464],\n",
        "       [ 0.12324073],\n",
        "       [ 0.36942832],\n",
        "       [ 0.13558027],\n",
        "       [ 0.6377045 ],\n",
        "       [ 0.10337151],\n",
        "       [ 0.07199345],\n",
        "       [ 0.21080662],\n",
        "       [ 0.39281855],\n",
        "       [ 0.28655324],\n",
        "       [ 0.19303846],\n",
        "       [ 0.05328626],\n",
        "       [ 0.09573122],\n",
        "       [ 0.18792162],\n",
        "       [ 0.11593686],\n",
        "       [ 0.16328485],\n",
        "       [ 0.2948845 ],\n",
        "       [ 0.23357773],\n",
        "       [ 0.41402857],\n",
        "       [ 0.33812619],\n",
        "       [ 0.43113091],\n",
        "       [ 0.51713035],\n",
        "       [ 0.19626892],\n",
        "       [ 0.05804754],\n",
        "       [ 0.16727009],\n",
        "       [ 0.19014821],\n",
        "       [ 0.0571369 ],\n",
        "       [ 0.07035748],\n",
        "       [ 0.37703259],\n",
        "       [ 0.39309721],\n",
        "       [ 0.57140798],\n",
        "       [ 0.18323934],\n",
        "       [ 0.2178976 ],\n",
        "       [ 0.19080959],\n",
        "       [ 0.08001557],\n",
        "       [ 0.01645742],\n",
        "       [ 0.07260164],\n",
        "       [ 0.3618525 ],\n",
        "       [ 0.72492394],\n",
        "       [ 0.87049318],\n",
        "       [ 0.11892224],\n",
        "       [ 0.1854494 ],\n",
        "       [ 0.22709832],\n",
        "       [ 0.2804174 ],\n",
        "       [ 0.73188287],\n",
        "       [ 0.62874299],\n",
        "       [ 0.30279238],\n",
        "       [ 0.27147123],\n",
        "       [ 0.06999867],\n",
        "       [ 0.0722812 ],\n",
        "       [ 0.13311237],\n",
        "       [ 0.39228513],\n",
        "       [ 0.22182834],\n",
        "       [ 0.03810317],\n",
        "       [ 0.08394021],\n",
        "       [ 0.42915843],\n",
        "       [ 0.23226081],\n",
        "       [ 0.38170984],\n",
        "       [ 0.35345323],\n",
        "       [ 0.1445331 ],\n",
        "       [ 0.19662275],\n",
        "       [ 0.14559651],\n",
        "       [ 0.26717845],\n",
        "       [ 0.26944105],\n",
        "       [ 0.20495269],\n",
        "       [ 0.11122575],\n",
        "       [ 0.18580389],\n",
        "       [ 0.15770571],\n",
        "       [ 0.45054248],\n",
        "       [ 0.23970282],\n",
        "       [ 0.17423248],\n",
        "       [ 0.09683611],\n",
        "       [ 0.32206595],\n",
        "       [ 0.1214817 ],\n",
        "       [ 0.15318021],\n",
        "       [ 0.09852607],\n",
        "       [ 0.48170979],\n",
        "       [ 0.38136237],\n",
        "       [ 0.15620478],\n",
        "       [ 0.02789835],\n",
        "       [ 0.30560024],\n",
        "       [ 0.07851028],\n",
        "       [ 0.26309738],\n",
        "       [ 0.24550037],\n",
        "       [ 0.14616134],\n",
        "       [ 0.35526253],\n",
        "       [ 0.26389363],\n",
        "       [ 0.62162211],\n",
        "       [ 0.52564315],\n",
        "       [ 0.300225  ],\n",
        "       [ 0.1378896 ],\n",
        "       [ 0.156559  ],\n",
        "       [ 0.15662927],\n",
        "       [ 0.15177199],\n",
        "       [ 0.12149442],\n",
        "       [ 0.32108002],\n",
        "       [ 0.83548749],\n",
        "       [ 0.17578814],\n",
        "       [ 0.15299827],\n",
        "       [ 0.40535547],\n",
        "       [ 0.05277335],\n",
        "       [ 0.10570318],\n",
        "       [ 0.10558996],\n",
        "       [ 0.23548106],\n",
        "       [ 0.03402234],\n",
        "       [ 0.1214465 ],\n",
        "       [ 0.16371501],\n",
        "       [ 0.27672689],\n",
        "       [ 0.62826896],\n",
        "       [ 0.29510029],\n",
        "       [ 0.11634068],\n",
        "       [ 0.29711311],\n",
        "       [ 0.1419898 ],\n",
        "       [ 0.14734604],\n",
        "       [ 0.1152373 ],\n",
        "       [ 0.15257645],\n",
        "       [ 0.2261602 ],\n",
        "       [ 0.17451721],\n",
        "       [ 0.43900573],\n",
        "       [ 0.07868713],\n",
        "       [ 0.29327822],\n",
        "       [ 0.20553934],\n",
        "       [ 0.18054412],\n",
        "       [ 0.22123175],\n",
        "       [ 0.09374731],\n",
        "       [ 0.19786601],\n",
        "       [ 0.07392915],\n",
        "       [ 0.28148401],\n",
        "       [ 0.25190988],\n",
        "       [ 0.24102444],\n",
        "       [ 0.07714659],\n",
        "       [ 0.17803151],\n",
        "       [ 0.12493684],\n",
        "       [ 0.10425812],\n",
        "       [ 0.04292361],\n",
        "       [ 0.40630821],\n",
        "       [ 0.24550915],\n",
        "       [ 0.32596627],\n",
        "       [ 0.13204706],\n",
        "       [ 0.14400805],\n",
        "       [ 0.03430635],\n",
        "       [ 0.08691471],\n",
        "       [ 0.22246598],\n",
        "       [ 0.43839719],\n",
        "       [ 0.32785435],\n",
        "       [ 0.17681022],\n",
        "       [ 0.11248368],\n",
        "       [ 0.15635696],\n",
        "       [ 0.08427002],\n",
        "       [ 0.50102232],\n",
        "       [ 0.37823641],\n",
        "       [ 0.14541447],\n",
        "       [ 0.20613226],\n",
        "       [ 0.06985065],\n",
        "       [ 0.11337802],\n",
        "       [ 0.21891459],\n",
        "       [ 0.36617945],\n",
        "       [ 0.25076884],\n",
        "       [ 0.10998235],\n",
        "       [ 0.19781731],\n",
        "       [ 0.18504925],\n",
        "       [ 0.07521705],\n",
        "       [ 0.07568588],\n",
        "       [ 0.09236096],\n",
        "       [ 0.30027461],\n",
        "       [ 0.66451054],\n",
        "       [ 0.23624702],\n",
        "       [ 0.12066386],\n",
        "       [ 0.23213198],\n",
        "       [ 0.21978617],\n",
        "       [ 0.51123392],\n",
        "       [ 0.22982143],\n",
        "       [ 0.24151831],\n",
        "       [ 0.34766079],\n",
        "       [ 0.22668116],\n",
        "       [ 0.69081102],\n",
        "       [ 0.12075531],\n",
        "       [ 0.06005536],\n",
        "       [ 0.05798142],\n",
        "       [ 0.2326244 ],\n",
        "       [ 0.16790306],\n",
        "       [ 0.11739735],\n",
        "       [ 0.06786547],\n",
        "       [ 0.30604353],\n",
        "       [ 0.36788308],\n",
        "       [ 0.26280424],\n",
        "       [ 0.07913078],\n",
        "       [ 0.09213309],\n",
        "       [ 0.14191304],\n",
        "       [ 0.34674667],\n",
        "       [ 0.36706159],\n",
        "       [ 0.33624611],\n",
        "       [ 0.22165455],\n",
        "       [ 0.18723309],\n",
        "       [ 0.09430023],\n",
        "       [ 0.25356445],\n",
        "       [ 0.23973434],\n",
        "       [ 0.1592039 ],\n",
        "       [ 0.21791358],\n",
        "       [ 0.46181931],\n",
        "       [ 0.31478225],\n",
        "       [ 0.08930178],\n",
        "       [ 0.30646548],\n",
        "       [ 0.35232752],\n",
        "       [ 0.10778102],\n",
        "       [ 0.25776584],\n",
        "       [ 0.20409869],\n",
        "       [ 0.11112226],\n",
        "       [ 0.10567199],\n",
        "       [ 0.36418202],\n",
        "       [ 0.43278518],\n",
        "       [ 0.19334229],\n",
        "       [ 0.25983301],\n",
        "       [ 0.43727196],\n",
        "       [ 0.16348746],\n",
        "       [ 0.26076802],\n",
        "       [ 0.44212598],\n",
        "       [ 0.10289601],\n",
        "       [ 0.37450829],\n",
        "       [ 0.29128502],\n",
        "       [ 0.37819909],\n",
        "       [ 0.12258524],\n",
        "       [ 0.14153999],\n",
        "       [ 0.13969205],\n",
        "       [ 0.06973708],\n",
        "       [ 0.20639278],\n",
        "       [ 0.18513428],\n",
        "       [ 0.39474269],\n",
        "       [ 0.20417776],\n",
        "       [ 0.44352669],\n",
        "       [ 0.23725444],\n",
        "       [ 0.0959074 ],\n",
        "       [ 0.1887285 ],\n",
        "       [ 0.06503627],\n",
        "       [ 0.05400933],\n",
        "       [ 0.12104797],\n",
        "       [ 0.20694036],\n",
        "       [ 0.32089474],\n",
        "       [ 0.34730594],\n",
        "       [ 0.45127834],\n",
        "       [ 0.10175688],\n",
        "       [ 0.34587769],\n",
        "       [ 0.22685188],\n",
        "       [ 0.20777397],\n",
        "       [ 0.20320033],\n",
        "       [ 0.04640368],\n",
        "       [ 0.15366267],\n",
        "       [ 0.37929715],\n",
        "       [ 0.07612693],\n",
        "       [ 0.33178824],\n",
        "       [ 0.22733167]])"
       ]
      }
     ],
     "prompt_number": 112
    },
    {
     "cell_type": "code",
     "collapsed": false,
     "input": [],
     "language": "python",
     "metadata": {},
     "outputs": []
    },
    {
     "cell_type": "code",
     "collapsed": false,
     "input": [
      "total_n = blz.open(os.path.join(tools.TRAINING_BLZ_PATH,TRAINING_COLUMN_NAMES[0])).shape[0]\n",
      "m_groups = 40\n",
      "dived_n = total_n / m_groups if total_n % m_groups == 0 else total_n / m_groups + 1\n",
      "training_data_slices = map(lambda xx:slice(*xx),tools.get_separation_pairs(total_n,dived_n))\n"
     ],
     "language": "python",
     "metadata": {},
     "outputs": [],
     "prompt_number": 87
    },
    {
     "cell_type": "code",
     "collapsed": false,
     "input": [
      "training_data_slices"
     ],
     "language": "python",
     "metadata": {},
     "outputs": [
      {
       "metadata": {},
       "output_type": "pyout",
       "prompt_number": 88,
       "text": [
        "[slice(0, 1146016, None),\n",
        " slice(1146016, 2292032, None),\n",
        " slice(2292032, 3438048, None),\n",
        " slice(3438048, 4584064, None),\n",
        " slice(4584064, 5730080, None),\n",
        " slice(5730080, 6876096, None),\n",
        " slice(6876096, 8022112, None),\n",
        " slice(8022112, 9168128, None),\n",
        " slice(9168128, 10314144, None),\n",
        " slice(10314144, 11460160, None),\n",
        " slice(11460160, 12606176, None),\n",
        " slice(12606176, 13752192, None),\n",
        " slice(13752192, 14898208, None),\n",
        " slice(14898208, 16044224, None),\n",
        " slice(16044224, 17190240, None),\n",
        " slice(17190240, 18336256, None),\n",
        " slice(18336256, 19482272, None),\n",
        " slice(19482272, 20628288, None),\n",
        " slice(20628288, 21774304, None),\n",
        " slice(21774304, 22920320, None),\n",
        " slice(22920320, 24066336, None),\n",
        " slice(24066336, 25212352, None),\n",
        " slice(25212352, 26358368, None),\n",
        " slice(26358368, 27504384, None),\n",
        " slice(27504384, 28650400, None),\n",
        " slice(28650400, 29796416, None),\n",
        " slice(29796416, 30942432, None),\n",
        " slice(30942432, 32088448, None),\n",
        " slice(32088448, 33234464, None),\n",
        " slice(33234464, 34380480, None),\n",
        " slice(34380480, 35526496, None),\n",
        " slice(35526496, 36672512, None),\n",
        " slice(36672512, 37818528, None),\n",
        " slice(37818528, 38964544, None),\n",
        " slice(38964544, 40110560, None),\n",
        " slice(40110560, 41256576, None),\n",
        " slice(41256576, 42402592, None),\n",
        " slice(42402592, 43548608, None),\n",
        " slice(43548608, 44694624, None),\n",
        " slice(44694624, 45840617, None)]"
       ]
      }
     ],
     "prompt_number": 88
    },
    {
     "cell_type": "code",
     "collapsed": false,
     "input": [
      "avg_models"
     ],
     "language": "python",
     "metadata": {},
     "outputs": [
      {
       "metadata": {},
       "output_type": "pyout",
       "prompt_number": 86,
       "text": [
        "[RFmss10ne200-40Groups_ffca52ca-3d54-11e4-9872-5a1064dce9ab : {'training_dataset': 'origin', 'training_data_slices': slice(2292032, 3438048, None), 'feature_columns': ['I1', 'I2', 'I3', 'I4', 'I5', 'I6', 'I7', 'I8', 'I9', 'I10', 'I11', 'I12', 'I13', 'C1', 'C2', 'C3', 'C4', 'C5', 'C6', 'C7', 'C8', 'C9', 'C10', 'C11', 'C12', 'C13', 'C14', 'C15', 'C16', 'C17', 'C18', 'C19', 'C20', 'C21', 'C22', 'C23', 'C24', 'C25', 'C26'], 'additional_feature_columns': [], 'model_type': <class 'sklearn.ensemble.forest.RandomForestClassifier'>, 'model_paramters': {'min_samples_split': 10, 'n_estimators': 200, 'n_jobs': 12}},\n",
        " RFmss10ne200-40Groups_96e6dfac-3dfa-11e4-9872-5a1064dce9ab : {'training_dataset': 'origin', 'training_data_slices': slice(28650400, 29796416, None), 'feature_columns': ['I1', 'I2', 'I3', 'I4', 'I5', 'I6', 'I7', 'I8', 'I9', 'I10', 'I11', 'I12', 'I13', 'C1', 'C2', 'C3', 'C4', 'C5', 'C6', 'C7', 'C8', 'C9', 'C10', 'C11', 'C12', 'C13', 'C14', 'C15', 'C16', 'C17', 'C18', 'C19', 'C20', 'C21', 'C22', 'C23', 'C24', 'C25', 'C26'], 'additional_feature_columns': [], 'model_type': <class 'sklearn.ensemble.forest.RandomForestClassifier'>, 'model_paramters': {'min_samples_split': 10, 'n_estimators': 200, 'n_jobs': 12}},\n",
        " RFmss10ne200-40Groups_1ef4e8dc-3de5-11e4-9872-5a1064dce9ab : {'training_dataset': 'origin', 'training_data_slices': slice(25212352, 26358368, None), 'feature_columns': ['I1', 'I2', 'I3', 'I4', 'I5', 'I6', 'I7', 'I8', 'I9', 'I10', 'I11', 'I12', 'I13', 'C1', 'C2', 'C3', 'C4', 'C5', 'C6', 'C7', 'C8', 'C9', 'C10', 'C11', 'C12', 'C13', 'C14', 'C15', 'C16', 'C17', 'C18', 'C19', 'C20', 'C21', 'C22', 'C23', 'C24', 'C25', 'C26'], 'additional_feature_columns': [], 'model_type': <class 'sklearn.ensemble.forest.RandomForestClassifier'>, 'model_paramters': {'min_samples_split': 10, 'n_estimators': 200, 'n_jobs': 12}},\n",
        " RFmss10ne200-40Groups_6d99e818-3dcf-11e4-9872-5a1064dce9ab : {'training_dataset': 'origin', 'training_data_slices': slice(21774304, 22920320, None), 'feature_columns': ['I1', 'I2', 'I3', 'I4', 'I5', 'I6', 'I7', 'I8', 'I9', 'I10', 'I11', 'I12', 'I13', 'C1', 'C2', 'C3', 'C4', 'C5', 'C6', 'C7', 'C8', 'C9', 'C10', 'C11', 'C12', 'C13', 'C14', 'C15', 'C16', 'C17', 'C18', 'C19', 'C20', 'C21', 'C22', 'C23', 'C24', 'C25', 'C26'], 'additional_feature_columns': [], 'model_type': <class 'sklearn.ensemble.forest.RandomForestClassifier'>, 'model_paramters': {'min_samples_split': 10, 'n_estimators': 200, 'n_jobs': 12}},\n",
        " RFmss10ne200-40Groups_732cc740-3df3-11e4-9872-5a1064dce9ab : {'training_dataset': 'origin', 'training_data_slices': slice(27504384, 28650400, None), 'feature_columns': ['I1', 'I2', 'I3', 'I4', 'I5', 'I6', 'I7', 'I8', 'I9', 'I10', 'I11', 'I12', 'I13', 'C1', 'C2', 'C3', 'C4', 'C5', 'C6', 'C7', 'C8', 'C9', 'C10', 'C11', 'C12', 'C13', 'C14', 'C15', 'C16', 'C17', 'C18', 'C19', 'C20', 'C21', 'C22', 'C23', 'C24', 'C25', 'C26'], 'additional_feature_columns': [], 'model_type': <class 'sklearn.ensemble.forest.RandomForestClassifier'>, 'model_paramters': {'min_samples_split': 10, 'n_estimators': 200, 'n_jobs': 12}},\n",
        " RFmss10ne200-40Groups_e1d006ca-3d95-11e4-9872-5a1064dce9ab : {'training_dataset': 'origin', 'training_data_slices': slice(12606176, 13752192, None), 'feature_columns': ['I1', 'I2', 'I3', 'I4', 'I5', 'I6', 'I7', 'I8', 'I9', 'I10', 'I11', 'I12', 'I13', 'C1', 'C2', 'C3', 'C4', 'C5', 'C6', 'C7', 'C8', 'C9', 'C10', 'C11', 'C12', 'C13', 'C14', 'C15', 'C16', 'C17', 'C18', 'C19', 'C20', 'C21', 'C22', 'C23', 'C24', 'C25', 'C26'], 'additional_feature_columns': [], 'model_type': <class 'sklearn.ensemble.forest.RandomForestClassifier'>, 'model_paramters': {'min_samples_split': 10, 'n_estimators': 200, 'n_jobs': 12}},\n",
        " RFmss10ne200-40Groups_7ac82f46-3dab-11e4-9872-5a1064dce9ab : {'training_dataset': 'origin', 'training_data_slices': slice(16044224, 17190240, None), 'feature_columns': ['I1', 'I2', 'I3', 'I4', 'I5', 'I6', 'I7', 'I8', 'I9', 'I10', 'I11', 'I12', 'I13', 'C1', 'C2', 'C3', 'C4', 'C5', 'C6', 'C7', 'C8', 'C9', 'C10', 'C11', 'C12', 'C13', 'C14', 'C15', 'C16', 'C17', 'C18', 'C19', 'C20', 'C21', 'C22', 'C23', 'C24', 'C25', 'C26'], 'additional_feature_columns': [], 'model_type': <class 'sklearn.ensemble.forest.RandomForestClassifier'>, 'model_paramters': {'min_samples_split': 10, 'n_estimators': 200, 'n_jobs': 12}},\n",
        " RFmss10ne200-40Groups_55b2f6c8-3dec-11e4-9872-5a1064dce9ab : {'training_dataset': 'origin', 'training_data_slices': slice(26358368, 27504384, None), 'feature_columns': ['I1', 'I2', 'I3', 'I4', 'I5', 'I6', 'I7', 'I8', 'I9', 'I10', 'I11', 'I12', 'I13', 'C1', 'C2', 'C3', 'C4', 'C5', 'C6', 'C7', 'C8', 'C9', 'C10', 'C11', 'C12', 'C13', 'C14', 'C15', 'C16', 'C17', 'C18', 'C19', 'C20', 'C21', 'C22', 'C23', 'C24', 'C25', 'C26'], 'additional_feature_columns': [], 'model_type': <class 'sklearn.ensemble.forest.RandomForestClassifier'>, 'model_paramters': {'min_samples_split': 10, 'n_estimators': 200, 'n_jobs': 12}},\n",
        " RFmss10ne200-40Groups_ae25dd7e-3d8e-11e4-9872-5a1064dce9ab : {'training_dataset': 'origin', 'training_data_slices': slice(11460160, 12606176, None), 'feature_columns': ['I1', 'I2', 'I3', 'I4', 'I5', 'I6', 'I7', 'I8', 'I9', 'I10', 'I11', 'I12', 'I13', 'C1', 'C2', 'C3', 'C4', 'C5', 'C6', 'C7', 'C8', 'C9', 'C10', 'C11', 'C12', 'C13', 'C14', 'C15', 'C16', 'C17', 'C18', 'C19', 'C20', 'C21', 'C22', 'C23', 'C24', 'C25', 'C26'], 'additional_feature_columns': [], 'model_type': <class 'sklearn.ensemble.forest.RandomForestClassifier'>, 'model_paramters': {'min_samples_split': 10, 'n_estimators': 200, 'n_jobs': 12}},\n",
        " RFmss10ne200-40Groups_d2df0bd6-3d4d-11e4-9872-5a1064dce9ab : {'training_dataset': 'origin', 'training_data_slices': slice(1146016, 2292032, None), 'feature_columns': ['I1', 'I2', 'I3', 'I4', 'I5', 'I6', 'I7', 'I8', 'I9', 'I10', 'I11', 'I12', 'I13', 'C1', 'C2', 'C3', 'C4', 'C5', 'C6', 'C7', 'C8', 'C9', 'C10', 'C11', 'C12', 'C13', 'C14', 'C15', 'C16', 'C17', 'C18', 'C19', 'C20', 'C21', 'C22', 'C23', 'C24', 'C25', 'C26'], 'additional_feature_columns': [], 'model_type': <class 'sklearn.ensemble.forest.RandomForestClassifier'>, 'model_paramters': {'min_samples_split': 10, 'n_estimators': 200, 'n_jobs': 12}},\n",
        " RFmss10ne200-40Groups_e947a10e-3ddd-11e4-9872-5a1064dce9ab : {'training_dataset': 'origin', 'training_data_slices': slice(24066336, 25212352, None), 'feature_columns': ['I1', 'I2', 'I3', 'I4', 'I5', 'I6', 'I7', 'I8', 'I9', 'I10', 'I11', 'I12', 'I13', 'C1', 'C2', 'C3', 'C4', 'C5', 'C6', 'C7', 'C8', 'C9', 'C10', 'C11', 'C12', 'C13', 'C14', 'C15', 'C16', 'C17', 'C18', 'C19', 'C20', 'C21', 'C22', 'C23', 'C24', 'C25', 'C26'], 'additional_feature_columns': [], 'model_type': <class 'sklearn.ensemble.forest.RandomForestClassifier'>, 'model_paramters': {'min_samples_split': 10, 'n_estimators': 200, 'n_jobs': 12}},\n",
        " RFmss10ne200-40Groups_baf2be96-3e01-11e4-9872-5a1064dce9ab : {'training_dataset': 'origin', 'training_data_slices': slice(29796416, 30942432, None), 'feature_columns': ['I1', 'I2', 'I3', 'I4', 'I5', 'I6', 'I7', 'I8', 'I9', 'I10', 'I11', 'I12', 'I13', 'C1', 'C2', 'C3', 'C4', 'C5', 'C6', 'C7', 'C8', 'C9', 'C10', 'C11', 'C12', 'C13', 'C14', 'C15', 'C16', 'C17', 'C18', 'C19', 'C20', 'C21', 'C22', 'C23', 'C24', 'C25', 'C26'], 'additional_feature_columns': [], 'model_type': <class 'sklearn.ensemble.forest.RandomForestClassifier'>, 'model_paramters': {'min_samples_split': 10, 'n_estimators': 200, 'n_jobs': 12}},\n",
        " RFmss10ne200-40Groups_b93c14c4-3dd6-11e4-9872-5a1064dce9ab : {'training_dataset': 'origin', 'training_data_slices': slice(22920320, 24066336, None), 'feature_columns': ['I1', 'I2', 'I3', 'I4', 'I5', 'I6', 'I7', 'I8', 'I9', 'I10', 'I11', 'I12', 'I13', 'C1', 'C2', 'C3', 'C4', 'C5', 'C6', 'C7', 'C8', 'C9', 'C10', 'C11', 'C12', 'C13', 'C14', 'C15', 'C16', 'C17', 'C18', 'C19', 'C20', 'C21', 'C22', 'C23', 'C24', 'C25', 'C26'], 'additional_feature_columns': [], 'model_type': <class 'sklearn.ensemble.forest.RandomForestClassifier'>, 'model_paramters': {'min_samples_split': 10, 'n_estimators': 200, 'n_jobs': 12}},\n",
        " RFmss10ne200-40Groups_201f9140-3dc1-11e4-9872-5a1064dce9ab : {'training_dataset': 'origin', 'training_data_slices': slice(19482272, 20628288, None), 'feature_columns': ['I1', 'I2', 'I3', 'I4', 'I5', 'I6', 'I7', 'I8', 'I9', 'I10', 'I11', 'I12', 'I13', 'C1', 'C2', 'C3', 'C4', 'C5', 'C6', 'C7', 'C8', 'C9', 'C10', 'C11', 'C12', 'C13', 'C14', 'C15', 'C16', 'C17', 'C18', 'C19', 'C20', 'C21', 'C22', 'C23', 'C24', 'C25', 'C26'], 'additional_feature_columns': [], 'model_type': <class 'sklearn.ensemble.forest.RandomForestClassifier'>, 'model_paramters': {'min_samples_split': 10, 'n_estimators': 200, 'n_jobs': 12}},\n",
        " RFmss10ne200-40Groups_410053ac-3dc8-11e4-9872-5a1064dce9ab : {'training_dataset': 'origin', 'training_data_slices': slice(20628288, 21774304, None), 'feature_columns': ['I1', 'I2', 'I3', 'I4', 'I5', 'I6', 'I7', 'I8', 'I9', 'I10', 'I11', 'I12', 'I13', 'C1', 'C2', 'C3', 'C4', 'C5', 'C6', 'C7', 'C8', 'C9', 'C10', 'C11', 'C12', 'C13', 'C14', 'C15', 'C16', 'C17', 'C18', 'C19', 'C20', 'C21', 'C22', 'C23', 'C24', 'C25', 'C26'], 'additional_feature_columns': [], 'model_type': <class 'sklearn.ensemble.forest.RandomForestClassifier'>, 'model_paramters': {'min_samples_split': 10, 'n_estimators': 200, 'n_jobs': 12}},\n",
        " RFmss10ne200-40Groups_14f5ca92-3d9d-11e4-9872-5a1064dce9ab : {'training_dataset': 'origin', 'training_data_slices': slice(13752192, 14898208, None), 'feature_columns': ['I1', 'I2', 'I3', 'I4', 'I5', 'I6', 'I7', 'I8', 'I9', 'I10', 'I11', 'I12', 'I13', 'C1', 'C2', 'C3', 'C4', 'C5', 'C6', 'C7', 'C8', 'C9', 'C10', 'C11', 'C12', 'C13', 'C14', 'C15', 'C16', 'C17', 'C18', 'C19', 'C20', 'C21', 'C22', 'C23', 'C24', 'C25', 'C26'], 'additional_feature_columns': [], 'model_type': <class 'sklearn.ensemble.forest.RandomForestClassifier'>, 'model_paramters': {'min_samples_split': 10, 'n_estimators': 200, 'n_jobs': 12}},\n",
        " RFmss10ne200-40Groups_4315ad96-3da4-11e4-9872-5a1064dce9ab : {'training_dataset': 'origin', 'training_data_slices': slice(14898208, 16044224, None), 'feature_columns': ['I1', 'I2', 'I3', 'I4', 'I5', 'I6', 'I7', 'I8', 'I9', 'I10', 'I11', 'I12', 'I13', 'C1', 'C2', 'C3', 'C4', 'C5', 'C6', 'C7', 'C8', 'C9', 'C10', 'C11', 'C12', 'C13', 'C14', 'C15', 'C16', 'C17', 'C18', 'C19', 'C20', 'C21', 'C22', 'C23', 'C24', 'C25', 'C26'], 'additional_feature_columns': [], 'model_type': <class 'sklearn.ensemble.forest.RandomForestClassifier'>, 'model_paramters': {'min_samples_split': 10, 'n_estimators': 200, 'n_jobs': 12}},\n",
        " RFmss10ne200-40Groups_b627f178-3db2-11e4-9872-5a1064dce9ab : {'training_dataset': 'origin', 'training_data_slices': slice(17190240, 18336256, None), 'feature_columns': ['I1', 'I2', 'I3', 'I4', 'I5', 'I6', 'I7', 'I8', 'I9', 'I10', 'I11', 'I12', 'I13', 'C1', 'C2', 'C3', 'C4', 'C5', 'C6', 'C7', 'C8', 'C9', 'C10', 'C11', 'C12', 'C13', 'C14', 'C15', 'C16', 'C17', 'C18', 'C19', 'C20', 'C21', 'C22', 'C23', 'C24', 'C25', 'C26'], 'additional_feature_columns': [], 'model_type': <class 'sklearn.ensemble.forest.RandomForestClassifier'>, 'model_paramters': {'min_samples_split': 10, 'n_estimators': 200, 'n_jobs': 12}},\n",
        " RFmss10ne200-40Groups_9a8d6d4c-3d46-11e4-9872-5a1064dce9ab : {'training_dataset': 'origin', 'training_data_slices': slice(0, 1146016, None), 'feature_columns': ['I1', 'I2', 'I3', 'I4', 'I5', 'I6', 'I7', 'I8', 'I9', 'I10', 'I11', 'I12', 'I13', 'C1', 'C2', 'C3', 'C4', 'C5', 'C6', 'C7', 'C8', 'C9', 'C10', 'C11', 'C12', 'C13', 'C14', 'C15', 'C16', 'C17', 'C18', 'C19', 'C20', 'C21', 'C22', 'C23', 'C24', 'C25', 'C26'], 'additional_feature_columns': [], 'model_type': <class 'sklearn.ensemble.forest.RandomForestClassifier'>, 'model_paramters': {'min_samples_split': 10, 'n_estimators': 200, 'n_jobs': 12}},\n",
        " RFmss10ne200-40Groups_817e0644-3d6a-11e4-9872-5a1064dce9ab : {'training_dataset': 'origin', 'training_data_slices': slice(5730080, 6876096, None), 'feature_columns': ['I1', 'I2', 'I3', 'I4', 'I5', 'I6', 'I7', 'I8', 'I9', 'I10', 'I11', 'I12', 'I13', 'C1', 'C2', 'C3', 'C4', 'C5', 'C6', 'C7', 'C8', 'C9', 'C10', 'C11', 'C12', 'C13', 'C14', 'C15', 'C16', 'C17', 'C18', 'C19', 'C20', 'C21', 'C22', 'C23', 'C24', 'C25', 'C26'], 'additional_feature_columns': [], 'model_type': <class 'sklearn.ensemble.forest.RandomForestClassifier'>, 'model_paramters': {'min_samples_split': 10, 'n_estimators': 200, 'n_jobs': 12}},\n",
        " RFmss10ne200-40Groups_e7007d40-3db9-11e4-9872-5a1064dce9ab : {'training_dataset': 'origin', 'training_data_slices': slice(18336256, 19482272, None), 'feature_columns': ['I1', 'I2', 'I3', 'I4', 'I5', 'I6', 'I7', 'I8', 'I9', 'I10', 'I11', 'I12', 'I13', 'C1', 'C2', 'C3', 'C4', 'C5', 'C6', 'C7', 'C8', 'C9', 'C10', 'C11', 'C12', 'C13', 'C14', 'C15', 'C16', 'C17', 'C18', 'C19', 'C20', 'C21', 'C22', 'C23', 'C24', 'C25', 'C26'], 'additional_feature_columns': [], 'model_type': <class 'sklearn.ensemble.forest.RandomForestClassifier'>, 'model_paramters': {'min_samples_split': 10, 'n_estimators': 200, 'n_jobs': 12}},\n",
        " RFmss10ne200-40Groups_671fc284-3d87-11e4-9872-5a1064dce9ab : {'training_dataset': 'origin', 'training_data_slices': slice(10314144, 11460160, None), 'feature_columns': ['I1', 'I2', 'I3', 'I4', 'I5', 'I6', 'I7', 'I8', 'I9', 'I10', 'I11', 'I12', 'I13', 'C1', 'C2', 'C3', 'C4', 'C5', 'C6', 'C7', 'C8', 'C9', 'C10', 'C11', 'C12', 'C13', 'C14', 'C15', 'C16', 'C17', 'C18', 'C19', 'C20', 'C21', 'C22', 'C23', 'C24', 'C25', 'C26'], 'additional_feature_columns': [], 'model_type': <class 'sklearn.ensemble.forest.RandomForestClassifier'>, 'model_paramters': {'min_samples_split': 10, 'n_estimators': 200, 'n_jobs': 12}},\n",
        " RFmss10ne200-40Groups_061893a0-3d80-11e4-9872-5a1064dce9ab : {'training_dataset': 'origin', 'training_data_slices': slice(9168128, 10314144, None), 'feature_columns': ['I1', 'I2', 'I3', 'I4', 'I5', 'I6', 'I7', 'I8', 'I9', 'I10', 'I11', 'I12', 'I13', 'C1', 'C2', 'C3', 'C4', 'C5', 'C6', 'C7', 'C8', 'C9', 'C10', 'C11', 'C12', 'C13', 'C14', 'C15', 'C16', 'C17', 'C18', 'C19', 'C20', 'C21', 'C22', 'C23', 'C24', 'C25', 'C26'], 'additional_feature_columns': [], 'model_type': <class 'sklearn.ensemble.forest.RandomForestClassifier'>, 'model_paramters': {'min_samples_split': 10, 'n_estimators': 200, 'n_jobs': 12}},\n",
        " RFmss10ne200-40Groups_adeba392-3d71-11e4-9872-5a1064dce9ab : {'training_dataset': 'origin', 'training_data_slices': slice(6876096, 8022112, None), 'feature_columns': ['I1', 'I2', 'I3', 'I4', 'I5', 'I6', 'I7', 'I8', 'I9', 'I10', 'I11', 'I12', 'I13', 'C1', 'C2', 'C3', 'C4', 'C5', 'C6', 'C7', 'C8', 'C9', 'C10', 'C11', 'C12', 'C13', 'C14', 'C15', 'C16', 'C17', 'C18', 'C19', 'C20', 'C21', 'C22', 'C23', 'C24', 'C25', 'C26'], 'additional_feature_columns': [], 'model_type': <class 'sklearn.ensemble.forest.RandomForestClassifier'>, 'model_paramters': {'min_samples_split': 10, 'n_estimators': 200, 'n_jobs': 12}},\n",
        " RFmss10ne200-40Groups_e5d1d7c6-3e08-11e4-9872-5a1064dce9ab : {'training_dataset': 'origin', 'training_data_slices': slice(30942432, 32088448, None), 'feature_columns': ['I1', 'I2', 'I3', 'I4', 'I5', 'I6', 'I7', 'I8', 'I9', 'I10', 'I11', 'I12', 'I13', 'C1', 'C2', 'C3', 'C4', 'C5', 'C6', 'C7', 'C8', 'C9', 'C10', 'C11', 'C12', 'C13', 'C14', 'C15', 'C16', 'C17', 'C18', 'C19', 'C20', 'C21', 'C22', 'C23', 'C24', 'C25', 'C26'], 'additional_feature_columns': [], 'model_type': <class 'sklearn.ensemble.forest.RandomForestClassifier'>, 'model_paramters': {'min_samples_split': 10, 'n_estimators': 200, 'n_jobs': 12}},\n",
        " RFmss10ne200-40Groups_28456df0-3d5c-11e4-9872-5a1064dce9ab : {'training_dataset': 'origin', 'training_data_slices': slice(3438048, 4584064, None), 'feature_columns': ['I1', 'I2', 'I3', 'I4', 'I5', 'I6', 'I7', 'I8', 'I9', 'I10', 'I11', 'I12', 'I13', 'C1', 'C2', 'C3', 'C4', 'C5', 'C6', 'C7', 'C8', 'C9', 'C10', 'C11', 'C12', 'C13', 'C14', 'C15', 'C16', 'C17', 'C18', 'C19', 'C20', 'C21', 'C22', 'C23', 'C24', 'C25', 'C26'], 'additional_feature_columns': [], 'model_type': <class 'sklearn.ensemble.forest.RandomForestClassifier'>, 'model_paramters': {'min_samples_split': 10, 'n_estimators': 200, 'n_jobs': 12}},\n",
        " RFmss10ne200-40Groups_53e6a918-3d63-11e4-9872-5a1064dce9ab : {'training_dataset': 'origin', 'training_data_slices': slice(4584064, 5730080, None), 'feature_columns': ['I1', 'I2', 'I3', 'I4', 'I5', 'I6', 'I7', 'I8', 'I9', 'I10', 'I11', 'I12', 'I13', 'C1', 'C2', 'C3', 'C4', 'C5', 'C6', 'C7', 'C8', 'C9', 'C10', 'C11', 'C12', 'C13', 'C14', 'C15', 'C16', 'C17', 'C18', 'C19', 'C20', 'C21', 'C22', 'C23', 'C24', 'C25', 'C26'], 'additional_feature_columns': [], 'model_type': <class 'sklearn.ensemble.forest.RandomForestClassifier'>, 'model_paramters': {'min_samples_split': 10, 'n_estimators': 200, 'n_jobs': 12}},\n",
        " RFmss10ne200-40Groups_d5b12cc4-3d78-11e4-9872-5a1064dce9ab : {'training_dataset': 'origin', 'training_data_slices': slice(8022112, 9168128, None), 'feature_columns': ['I1', 'I2', 'I3', 'I4', 'I5', 'I6', 'I7', 'I8', 'I9', 'I10', 'I11', 'I12', 'I13', 'C1', 'C2', 'C3', 'C4', 'C5', 'C6', 'C7', 'C8', 'C9', 'C10', 'C11', 'C12', 'C13', 'C14', 'C15', 'C16', 'C17', 'C18', 'C19', 'C20', 'C21', 'C22', 'C23', 'C24', 'C25', 'C26'], 'additional_feature_columns': [], 'model_type': <class 'sklearn.ensemble.forest.RandomForestClassifier'>, 'model_paramters': {'min_samples_split': 10, 'n_estimators': 200, 'n_jobs': 12}}]"
       ]
      }
     ],
     "prompt_number": 86
    },
    {
     "cell_type": "code",
     "collapsed": false,
     "input": [],
     "language": "python",
     "metadata": {},
     "outputs": [],
     "prompt_number": 80
    },
    {
     "cell_type": "code",
     "collapsed": false,
     "input": [
      "rf_models_v1_models_path = os.path.join(os.path.join(SOURCE_DATA_DIR, \"rf_models_v1\"))\n",
      "rf_series = ModelSeries(series_name=\"RFmss10ne200-40Groups\", series_home=rf_models_v1_models_path)"
     ],
     "language": "python",
     "metadata": {},
     "outputs": [],
     "prompt_number": 65
    },
    {
     "cell_type": "code",
     "collapsed": false,
     "input": [
      "map(lambda xx:xx.model_path,rf_series.series_models)"
     ],
     "language": "python",
     "metadata": {},
     "outputs": [
      {
       "metadata": {},
       "output_type": "pyout",
       "prompt_number": 59,
       "text": [
        "['/home/c3h3/c3h3works/Kaggles/GithubRepos/DisplayAdvertisingChallenge/data/rf_models_v1/RFmss10ne200-40Groups_ffca52ca-3d54-11e4-9872-5a1064dce9ab',\n",
        " '/home/c3h3/c3h3works/Kaggles/GithubRepos/DisplayAdvertisingChallenge/data/rf_models_v1/RFmss10ne200-40Groups_96e6dfac-3dfa-11e4-9872-5a1064dce9ab',\n",
        " '/home/c3h3/c3h3works/Kaggles/GithubRepos/DisplayAdvertisingChallenge/data/rf_models_v1/RFmss10ne200-40Groups_1ef4e8dc-3de5-11e4-9872-5a1064dce9ab',\n",
        " '/home/c3h3/c3h3works/Kaggles/GithubRepos/DisplayAdvertisingChallenge/data/rf_models_v1/RFmss10ne200-40Groups_6d99e818-3dcf-11e4-9872-5a1064dce9ab',\n",
        " '/home/c3h3/c3h3works/Kaggles/GithubRepos/DisplayAdvertisingChallenge/data/rf_models_v1/RFmss10ne200-40Groups_732cc740-3df3-11e4-9872-5a1064dce9ab',\n",
        " '/home/c3h3/c3h3works/Kaggles/GithubRepos/DisplayAdvertisingChallenge/data/rf_models_v1/RFmss10ne200-40Groups_e1d006ca-3d95-11e4-9872-5a1064dce9ab',\n",
        " '/home/c3h3/c3h3works/Kaggles/GithubRepos/DisplayAdvertisingChallenge/data/rf_models_v1/RFmss10ne200-40Groups_7ac82f46-3dab-11e4-9872-5a1064dce9ab',\n",
        " '/home/c3h3/c3h3works/Kaggles/GithubRepos/DisplayAdvertisingChallenge/data/rf_models_v1/RFmss10ne200-40Groups_55b2f6c8-3dec-11e4-9872-5a1064dce9ab',\n",
        " '/home/c3h3/c3h3works/Kaggles/GithubRepos/DisplayAdvertisingChallenge/data/rf_models_v1/RFmss10ne200-40Groups_ae25dd7e-3d8e-11e4-9872-5a1064dce9ab',\n",
        " '/home/c3h3/c3h3works/Kaggles/GithubRepos/DisplayAdvertisingChallenge/data/rf_models_v1/RFmss10ne200-40Groups_d2df0bd6-3d4d-11e4-9872-5a1064dce9ab',\n",
        " '/home/c3h3/c3h3works/Kaggles/GithubRepos/DisplayAdvertisingChallenge/data/rf_models_v1/RFmss10ne200-40Groups_e947a10e-3ddd-11e4-9872-5a1064dce9ab',\n",
        " '/home/c3h3/c3h3works/Kaggles/GithubRepos/DisplayAdvertisingChallenge/data/rf_models_v1/RFmss10ne200-40Groups_baf2be96-3e01-11e4-9872-5a1064dce9ab',\n",
        " '/home/c3h3/c3h3works/Kaggles/GithubRepos/DisplayAdvertisingChallenge/data/rf_models_v1/RFmss10ne200-40Groups_b93c14c4-3dd6-11e4-9872-5a1064dce9ab',\n",
        " '/home/c3h3/c3h3works/Kaggles/GithubRepos/DisplayAdvertisingChallenge/data/rf_models_v1/RFmss10ne200-40Groups_201f9140-3dc1-11e4-9872-5a1064dce9ab',\n",
        " '/home/c3h3/c3h3works/Kaggles/GithubRepos/DisplayAdvertisingChallenge/data/rf_models_v1/RFmss10ne200-40Groups_410053ac-3dc8-11e4-9872-5a1064dce9ab',\n",
        " '/home/c3h3/c3h3works/Kaggles/GithubRepos/DisplayAdvertisingChallenge/data/rf_models_v1/RFmss10ne200-40Groups_14f5ca92-3d9d-11e4-9872-5a1064dce9ab',\n",
        " '/home/c3h3/c3h3works/Kaggles/GithubRepos/DisplayAdvertisingChallenge/data/rf_models_v1/RFmss10ne200-40Groups_4315ad96-3da4-11e4-9872-5a1064dce9ab',\n",
        " '/home/c3h3/c3h3works/Kaggles/GithubRepos/DisplayAdvertisingChallenge/data/rf_models_v1/RFmss10ne200-40Groups_b627f178-3db2-11e4-9872-5a1064dce9ab',\n",
        " '/home/c3h3/c3h3works/Kaggles/GithubRepos/DisplayAdvertisingChallenge/data/rf_models_v1/RFmss10ne200-40Groups_9a8d6d4c-3d46-11e4-9872-5a1064dce9ab',\n",
        " '/home/c3h3/c3h3works/Kaggles/GithubRepos/DisplayAdvertisingChallenge/data/rf_models_v1/RFmss10ne200-40Groups_817e0644-3d6a-11e4-9872-5a1064dce9ab',\n",
        " '/home/c3h3/c3h3works/Kaggles/GithubRepos/DisplayAdvertisingChallenge/data/rf_models_v1/RFmss10ne200-40Groups_e7007d40-3db9-11e4-9872-5a1064dce9ab',\n",
        " '/home/c3h3/c3h3works/Kaggles/GithubRepos/DisplayAdvertisingChallenge/data/rf_models_v1/RFmss10ne200-40Groups_671fc284-3d87-11e4-9872-5a1064dce9ab',\n",
        " '/home/c3h3/c3h3works/Kaggles/GithubRepos/DisplayAdvertisingChallenge/data/rf_models_v1/RFmss10ne200-40Groups_061893a0-3d80-11e4-9872-5a1064dce9ab',\n",
        " '/home/c3h3/c3h3works/Kaggles/GithubRepos/DisplayAdvertisingChallenge/data/rf_models_v1/RFmss10ne200-40Groups_adeba392-3d71-11e4-9872-5a1064dce9ab',\n",
        " '/home/c3h3/c3h3works/Kaggles/GithubRepos/DisplayAdvertisingChallenge/data/rf_models_v1/RFmss10ne200-40Groups_e5d1d7c6-3e08-11e4-9872-5a1064dce9ab',\n",
        " '/home/c3h3/c3h3works/Kaggles/GithubRepos/DisplayAdvertisingChallenge/data/rf_models_v1/RFmss10ne200-40Groups_28456df0-3d5c-11e4-9872-5a1064dce9ab',\n",
        " '/home/c3h3/c3h3works/Kaggles/GithubRepos/DisplayAdvertisingChallenge/data/rf_models_v1/RFmss10ne200-40Groups_53e6a918-3d63-11e4-9872-5a1064dce9ab',\n",
        " '/home/c3h3/c3h3works/Kaggles/GithubRepos/DisplayAdvertisingChallenge/data/rf_models_v1/RFmss10ne200-40Groups_d5b12cc4-3d78-11e4-9872-5a1064dce9ab']"
       ]
      }
     ],
     "prompt_number": 59
    },
    {
     "cell_type": "code",
     "collapsed": false,
     "input": [],
     "language": "python",
     "metadata": {},
     "outputs": []
    },
    {
     "cell_type": "code",
     "collapsed": false,
     "input": [
      "blzs = map(lambda xx:xx.load_prediction_blz(datatype=\"testing\", valuetype=\"predict_proba\"),rf_series.series_models)"
     ],
     "language": "python",
     "metadata": {},
     "outputs": [],
     "prompt_number": 52
    },
    {
     "cell_type": "code",
     "collapsed": false,
     "input": [
      "blz.btable(blzs)"
     ],
     "language": "python",
     "metadata": {},
     "outputs": [
      {
       "metadata": {},
       "output_type": "pyout",
       "prompt_number": 54,
       "text": [
        "<repr(<blz.btable.btable at 0x7fd7d0ee5bd0>) failed: ValueError: could not broadcast input array from shape (3,2) into shape (3)>"
       ]
      }
     ],
     "prompt_number": 54
    },
    {
     "cell_type": "code",
     "collapsed": false,
     "input": [],
     "language": "python",
     "metadata": {},
     "outputs": []
    },
    {
     "cell_type": "code",
     "collapsed": false,
     "input": [],
     "language": "python",
     "metadata": {},
     "outputs": []
    },
    {
     "cell_type": "code",
     "collapsed": false,
     "input": [],
     "language": "python",
     "metadata": {},
     "outputs": []
    },
    {
     "cell_type": "code",
     "collapsed": false,
     "input": [],
     "language": "python",
     "metadata": {},
     "outputs": [],
     "prompt_number": 12
    },
    {
     "cell_type": "code",
     "collapsed": false,
     "input": [
      "ss = slice(0,None,None)"
     ],
     "language": "python",
     "metadata": {},
     "outputs": [],
     "prompt_number": 22
    },
    {
     "cell_type": "code",
     "collapsed": false,
     "input": [
      "str(ss)"
     ],
     "language": "python",
     "metadata": {},
     "outputs": [
      {
       "metadata": {},
       "output_type": "pyout",
       "prompt_number": 32,
       "text": [
        "'slice(0, None, None)'"
       ]
      }
     ],
     "prompt_number": 32
    },
    {
     "cell_type": "code",
     "collapsed": false,
     "input": [],
     "language": "python",
     "metadata": {},
     "outputs": []
    },
    {
     "cell_type": "code",
     "collapsed": false,
     "input": [
      "type(slice(0,None,None))"
     ],
     "language": "python",
     "metadata": {},
     "outputs": [
      {
       "metadata": {},
       "output_type": "pyout",
       "prompt_number": 20,
       "text": [
        "slice"
       ]
      }
     ],
     "prompt_number": 20
    },
    {
     "cell_type": "code",
     "collapsed": false,
     "input": [],
     "language": "python",
     "metadata": {},
     "outputs": []
    },
    {
     "cell_type": "code",
     "collapsed": false,
     "input": [
      "svm_models_v1_models_path = os.path.join(os.path.join(SOURCE_DATA_DIR, \"svm_models_v1\"),\"models\")"
     ],
     "language": "python",
     "metadata": {},
     "outputs": [],
     "prompt_number": 13
    },
    {
     "cell_type": "code",
     "collapsed": false,
     "input": [],
     "language": "python",
     "metadata": {},
     "outputs": [],
     "prompt_number": 13
    },
    {
     "cell_type": "code",
     "collapsed": false,
     "input": [
      "svm_series = ModelSeries(series_name=\"LSVM40Groups\", series_home=svm_models_v1_models_path)"
     ],
     "language": "python",
     "metadata": {},
     "outputs": [],
     "prompt_number": 14
    },
    {
     "cell_type": "code",
     "collapsed": false,
     "input": [
      "svm_series.series_models"
     ],
     "language": "python",
     "metadata": {},
     "outputs": [
      {
       "metadata": {},
       "output_type": "pyout",
       "prompt_number": 15,
       "text": [
        "[LSVM40Groups_4e925d02-3c9d-11e4-b2c2-1e5ff811d93a : {'training_dataset': 'origin', 'training_data_slices': slice(14898208, 16044224, None), 'feature_columns': ['I1', 'I2', 'I3', 'I4', 'I5', 'I6', 'I7', 'I8', 'I9', 'I10', 'I11', 'I12', 'I13', 'C1', 'C2', 'C3', 'C4', 'C5', 'C6', 'C7', 'C8', 'C9', 'C10', 'C11', 'C12', 'C13', 'C14', 'C15', 'C16', 'C17', 'C18', 'C19', 'C20', 'C21', 'C22', 'C23', 'C24', 'C25', 'C26'], 'additional_feature_columns': [], 'model_type': <class 'sklearn.svm.classes.LinearSVC'>, 'model_paramters': {'dual': False}},\n",
        " LSVM40Groups_98795626-3ca4-11e4-b7d7-1e5ff811d93a : {'training_dataset': 'origin', 'training_data_slices': slice(37818528, 38964544, None), 'feature_columns': ['I1', 'I2', 'I3', 'I4', 'I5', 'I6', 'I7', 'I8', 'I9', 'I10', 'I11', 'I12', 'I13', 'C1', 'C2', 'C3', 'C4', 'C5', 'C6', 'C7', 'C8', 'C9', 'C10', 'C11', 'C12', 'C13', 'C14', 'C15', 'C16', 'C17', 'C18', 'C19', 'C20', 'C21', 'C22', 'C23', 'C24', 'C25', 'C26'], 'additional_feature_columns': [], 'model_type': <class 'sklearn.svm.classes.LinearSVC'>, 'model_paramters': {'dual': False}},\n",
        " LSVM40Groups_6cfbc9ea-3c9d-11e4-b3ae-1e5ff811d93a : {'training_dataset': 'origin', 'training_data_slices': slice(5730080, 6876096, None), 'feature_columns': ['I1', 'I2', 'I3', 'I4', 'I5', 'I6', 'I7', 'I8', 'I9', 'I10', 'I11', 'I12', 'I13', 'C1', 'C2', 'C3', 'C4', 'C5', 'C6', 'C7', 'C8', 'C9', 'C10', 'C11', 'C12', 'C13', 'C14', 'C15', 'C16', 'C17', 'C18', 'C19', 'C20', 'C21', 'C22', 'C23', 'C24', 'C25', 'C26'], 'additional_feature_columns': [], 'model_type': <class 'sklearn.svm.classes.LinearSVC'>, 'model_paramters': {'dual': False}},\n",
        " LSVM40Groups_65c582d8-3c9d-11e4-97fc-1e5ff811d93a : {'training_dataset': 'origin', 'training_data_slices': slice(1146016, 2292032, None), 'feature_columns': ['I1', 'I2', 'I3', 'I4', 'I5', 'I6', 'I7', 'I8', 'I9', 'I10', 'I11', 'I12', 'I13', 'C1', 'C2', 'C3', 'C4', 'C5', 'C6', 'C7', 'C8', 'C9', 'C10', 'C11', 'C12', 'C13', 'C14', 'C15', 'C16', 'C17', 'C18', 'C19', 'C20', 'C21', 'C22', 'C23', 'C24', 'C25', 'C26'], 'additional_feature_columns': [], 'model_type': <class 'sklearn.svm.classes.LinearSVC'>, 'model_paramters': {'dual': False}},\n",
        " LSVM40Groups_0c8989ca-3ca3-11e4-87dc-1e5ff811d93a : {'training_dataset': 'origin', 'training_data_slices': slice(38964544, 40110560, None), 'feature_columns': ['I1', 'I2', 'I3', 'I4', 'I5', 'I6', 'I7', 'I8', 'I9', 'I10', 'I11', 'I12', 'I13', 'C1', 'C2', 'C3', 'C4', 'C5', 'C6', 'C7', 'C8', 'C9', 'C10', 'C11', 'C12', 'C13', 'C14', 'C15', 'C16', 'C17', 'C18', 'C19', 'C20', 'C21', 'C22', 'C23', 'C24', 'C25', 'C26'], 'additional_feature_columns': [], 'model_type': <class 'sklearn.svm.classes.LinearSVC'>, 'model_paramters': {'dual': False}},\n",
        " LSVM40Groups_601b8f68-3ca1-11e4-97fc-1e5ff811d93a : {'training_dataset': 'origin', 'training_data_slices': slice(28650400, 29796416, None), 'feature_columns': ['I1', 'I2', 'I3', 'I4', 'I5', 'I6', 'I7', 'I8', 'I9', 'I10', 'I11', 'I12', 'I13', 'C1', 'C2', 'C3', 'C4', 'C5', 'C6', 'C7', 'C8', 'C9', 'C10', 'C11', 'C12', 'C13', 'C14', 'C15', 'C16', 'C17', 'C18', 'C19', 'C20', 'C21', 'C22', 'C23', 'C24', 'C25', 'C26'], 'additional_feature_columns': [], 'model_type': <class 'sklearn.svm.classes.LinearSVC'>, 'model_paramters': {'dual': False}},\n",
        " LSVM40Groups_1704ade6-3ca1-11e4-87dc-1e5ff811d93a : {'training_dataset': 'origin', 'training_data_slices': slice(24066336, 25212352, None), 'feature_columns': ['I1', 'I2', 'I3', 'I4', 'I5', 'I6', 'I7', 'I8', 'I9', 'I10', 'I11', 'I12', 'I13', 'C1', 'C2', 'C3', 'C4', 'C5', 'C6', 'C7', 'C8', 'C9', 'C10', 'C11', 'C12', 'C13', 'C14', 'C15', 'C16', 'C17', 'C18', 'C19', 'C20', 'C21', 'C22', 'C23', 'C24', 'C25', 'C26'], 'additional_feature_columns': [], 'model_type': <class 'sklearn.svm.classes.LinearSVC'>, 'model_paramters': {'dual': False}},\n",
        " LSVM40Groups_3305f8ea-3ca3-11e4-a445-1e5ff811d93a : {'training_dataset': 'origin', 'training_data_slices': slice(41256576, 42402592, None), 'feature_columns': ['I1', 'I2', 'I3', 'I4', 'I5', 'I6', 'I7', 'I8', 'I9', 'I10', 'I11', 'I12', 'I13', 'C1', 'C2', 'C3', 'C4', 'C5', 'C6', 'C7', 'C8', 'C9', 'C10', 'C11', 'C12', 'C13', 'C14', 'C15', 'C16', 'C17', 'C18', 'C19', 'C20', 'C21', 'C22', 'C23', 'C24', 'C25', 'C26'], 'additional_feature_columns': [], 'model_type': <class 'sklearn.svm.classes.LinearSVC'>, 'model_paramters': {'dual': False}},\n",
        " LSVM40Groups_54b83064-3c9b-11e4-87dc-1e5ff811d93a : {'training_dataset': 'origin', 'training_data_slices': slice(2292032, 3438048, None), 'feature_columns': ['I1', 'I2', 'I3', 'I4', 'I5', 'I6', 'I7', 'I8', 'I9', 'I10', 'I11', 'I12', 'I13', 'C1', 'C2', 'C3', 'C4', 'C5', 'C6', 'C7', 'C8', 'C9', 'C10', 'C11', 'C12', 'C13', 'C14', 'C15', 'C16', 'C17', 'C18', 'C19', 'C20', 'C21', 'C22', 'C23', 'C24', 'C25', 'C26'], 'additional_feature_columns': [], 'model_type': <class 'sklearn.svm.classes.LinearSVC'>, 'model_paramters': {'dual': False}},\n",
        " LSVM40Groups_6e0417e8-3c9d-11e4-94ef-1e5ff811d93a : {'training_dataset': 'origin', 'training_data_slices': slice(8022112, 9168128, None), 'feature_columns': ['I1', 'I2', 'I3', 'I4', 'I5', 'I6', 'I7', 'I8', 'I9', 'I10', 'I11', 'I12', 'I13', 'C1', 'C2', 'C3', 'C4', 'C5', 'C6', 'C7', 'C8', 'C9', 'C10', 'C11', 'C12', 'C13', 'C14', 'C15', 'C16', 'C17', 'C18', 'C19', 'C20', 'C21', 'C22', 'C23', 'C24', 'C25', 'C26'], 'additional_feature_columns': [], 'model_type': <class 'sklearn.svm.classes.LinearSVC'>, 'model_paramters': {'dual': False}},\n",
        " LSVM40Groups_0baa5160-3ca3-11e4-b7d7-1e5ff811d93a : {'training_dataset': 'origin', 'training_data_slices': slice(36672512, 37818528, None), 'feature_columns': ['I1', 'I2', 'I3', 'I4', 'I5', 'I6', 'I7', 'I8', 'I9', 'I10', 'I11', 'I12', 'I13', 'C1', 'C2', 'C3', 'C4', 'C5', 'C6', 'C7', 'C8', 'C9', 'C10', 'C11', 'C12', 'C13', 'C14', 'C15', 'C16', 'C17', 'C18', 'C19', 'C20', 'C21', 'C22', 'C23', 'C24', 'C25', 'C26'], 'additional_feature_columns': [], 'model_type': <class 'sklearn.svm.classes.LinearSVC'>, 'model_paramters': {'dual': False}},\n",
        " LSVM40Groups_5368a0d2-3c9f-11e4-97fc-1e5ff811d93a : {'training_dataset': 'origin', 'training_data_slices': slice(27504384, 28650400, None), 'feature_columns': ['I1', 'I2', 'I3', 'I4', 'I5', 'I6', 'I7', 'I8', 'I9', 'I10', 'I11', 'I12', 'I13', 'C1', 'C2', 'C3', 'C4', 'C5', 'C6', 'C7', 'C8', 'C9', 'C10', 'C11', 'C12', 'C13', 'C14', 'C15', 'C16', 'C17', 'C18', 'C19', 'C20', 'C21', 'C22', 'C23', 'C24', 'C25', 'C26'], 'additional_feature_columns': [], 'model_type': <class 'sklearn.svm.classes.LinearSVC'>, 'model_paramters': {'dual': False}},\n",
        " LSVM40Groups_54b82b3c-3c9b-11e4-b3ae-1e5ff811d93a : {'training_dataset': 'origin', 'training_data_slices': slice(4584064, 5730080, None), 'feature_columns': ['I1', 'I2', 'I3', 'I4', 'I5', 'I6', 'I7', 'I8', 'I9', 'I10', 'I11', 'I12', 'I13', 'C1', 'C2', 'C3', 'C4', 'C5', 'C6', 'C7', 'C8', 'C9', 'C10', 'C11', 'C12', 'C13', 'C14', 'C15', 'C16', 'C17', 'C18', 'C19', 'C20', 'C21', 'C22', 'C23', 'C24', 'C25', 'C26'], 'additional_feature_columns': [], 'model_type': <class 'sklearn.svm.classes.LinearSVC'>, 'model_paramters': {'dual': False}},\n",
        " LSVM40Groups_31df6250-3ca1-11e4-b7d7-1e5ff811d93a : {'training_dataset': 'origin', 'training_data_slices': slice(26358368, 27504384, None), 'feature_columns': ['I1', 'I2', 'I3', 'I4', 'I5', 'I6', 'I7', 'I8', 'I9', 'I10', 'I11', 'I12', 'I13', 'C1', 'C2', 'C3', 'C4', 'C5', 'C6', 'C7', 'C8', 'C9', 'C10', 'C11', 'C12', 'C13', 'C14', 'C15', 'C16', 'C17', 'C18', 'C19', 'C20', 'C21', 'C22', 'C23', 'C24', 'C25', 'C26'], 'additional_feature_columns': [], 'model_type': <class 'sklearn.svm.classes.LinearSVC'>, 'model_paramters': {'dual': False}},\n",
        " LSVM40Groups_54bb5e9c-3c9b-11e4-b7d7-1e5ff811d93a : {'training_dataset': 'origin', 'training_data_slices': slice(11460160, 12606176, None), 'feature_columns': ['I1', 'I2', 'I3', 'I4', 'I5', 'I6', 'I7', 'I8', 'I9', 'I10', 'I11', 'I12', 'I13', 'C1', 'C2', 'C3', 'C4', 'C5', 'C6', 'C7', 'C8', 'C9', 'C10', 'C11', 'C12', 'C13', 'C14', 'C15', 'C16', 'C17', 'C18', 'C19', 'C20', 'C21', 'C22', 'C23', 'C24', 'C25', 'C26'], 'additional_feature_columns': [], 'model_type': <class 'sklearn.svm.classes.LinearSVC'>, 'model_paramters': {'dual': False}},\n",
        " LSVM40Groups_4a73396a-3c9f-11e4-b7d7-1e5ff811d93a : {'training_dataset': 'origin', 'training_data_slices': slice(25212352, 26358368, None), 'feature_columns': ['I1', 'I2', 'I3', 'I4', 'I5', 'I6', 'I7', 'I8', 'I9', 'I10', 'I11', 'I12', 'I13', 'C1', 'C2', 'C3', 'C4', 'C5', 'C6', 'C7', 'C8', 'C9', 'C10', 'C11', 'C12', 'C13', 'C14', 'C15', 'C16', 'C17', 'C18', 'C19', 'C20', 'C21', 'C22', 'C23', 'C24', 'C25', 'C26'], 'additional_feature_columns': [], 'model_type': <class 'sklearn.svm.classes.LinearSVC'>, 'model_paramters': {'dual': False}},\n",
        " LSVM40Groups_4d3f40f6-3ca1-11e4-a445-1e5ff811d93a : {'training_dataset': 'origin', 'training_data_slices': slice(33234464, 34380480, None), 'feature_columns': ['I1', 'I2', 'I3', 'I4', 'I5', 'I6', 'I7', 'I8', 'I9', 'I10', 'I11', 'I12', 'I13', 'C1', 'C2', 'C3', 'C4', 'C5', 'C6', 'C7', 'C8', 'C9', 'C10', 'C11', 'C12', 'C13', 'C14', 'C15', 'C16', 'C17', 'C18', 'C19', 'C20', 'C21', 'C22', 'C23', 'C24', 'C25', 'C26'], 'additional_feature_columns': [], 'model_type': <class 'sklearn.svm.classes.LinearSVC'>, 'model_paramters': {'dual': False}},\n",
        " LSVM40Groups_8032570c-3ca4-11e4-87dc-1e5ff811d93a : {'training_dataset': 'origin', 'training_data_slices': slice(40110560, 41256576, None), 'feature_columns': ['I1', 'I2', 'I3', 'I4', 'I5', 'I6', 'I7', 'I8', 'I9', 'I10', 'I11', 'I12', 'I13', 'C1', 'C2', 'C3', 'C4', 'C5', 'C6', 'C7', 'C8', 'C9', 'C10', 'C11', 'C12', 'C13', 'C14', 'C15', 'C16', 'C17', 'C18', 'C19', 'C20', 'C21', 'C22', 'C23', 'C24', 'C25', 'C26'], 'additional_feature_columns': [], 'model_type': <class 'sklearn.svm.classes.LinearSVC'>, 'model_paramters': {'dual': False}},\n",
        " LSVM40Groups_8e68d470-3ca1-11e4-a643-1e5ff811d93a : {'training_dataset': 'origin', 'training_data_slices': slice(19482272, 20628288, None), 'feature_columns': ['I1', 'I2', 'I3', 'I4', 'I5', 'I6', 'I7', 'I8', 'I9', 'I10', 'I11', 'I12', 'I13', 'C1', 'C2', 'C3', 'C4', 'C5', 'C6', 'C7', 'C8', 'C9', 'C10', 'C11', 'C12', 'C13', 'C14', 'C15', 'C16', 'C17', 'C18', 'C19', 'C20', 'C21', 'C22', 'C23', 'C24', 'C25', 'C26'], 'additional_feature_columns': [], 'model_type': <class 'sklearn.svm.classes.LinearSVC'>, 'model_paramters': {'dual': False}},\n",
        " LSVM40Groups_7e67eab6-3ca1-11e4-b3ae-1e5ff811d93a : {'training_dataset': 'origin', 'training_data_slices': slice(35526496, 36672512, None), 'feature_columns': ['I1', 'I2', 'I3', 'I4', 'I5', 'I6', 'I7', 'I8', 'I9', 'I10', 'I11', 'I12', 'I13', 'C1', 'C2', 'C3', 'C4', 'C5', 'C6', 'C7', 'C8', 'C9', 'C10', 'C11', 'C12', 'C13', 'C14', 'C15', 'C16', 'C17', 'C18', 'C19', 'C20', 'C21', 'C22', 'C23', 'C24', 'C25', 'C26'], 'additional_feature_columns': [], 'model_type': <class 'sklearn.svm.classes.LinearSVC'>, 'model_paramters': {'dual': False}},\n",
        " LSVM40Groups_35db1fd6-3c9f-11e4-b2c2-1e5ff811d93a : {'training_dataset': 'origin', 'training_data_slices': slice(20628288, 21774304, None), 'feature_columns': ['I1', 'I2', 'I3', 'I4', 'I5', 'I6', 'I7', 'I8', 'I9', 'I10', 'I11', 'I12', 'I13', 'C1', 'C2', 'C3', 'C4', 'C5', 'C6', 'C7', 'C8', 'C9', 'C10', 'C11', 'C12', 'C13', 'C14', 'C15', 'C16', 'C17', 'C18', 'C19', 'C20', 'C21', 'C22', 'C23', 'C24', 'C25', 'C26'], 'additional_feature_columns': [], 'model_type': <class 'sklearn.svm.classes.LinearSVC'>, 'model_paramters': {'dual': False}},\n",
        " LSVM40Groups_54b919e8-3c9b-11e4-94ef-1e5ff811d93a : {'training_dataset': 'origin', 'training_data_slices': slice(6876096, 8022112, None), 'feature_columns': ['I1', 'I2', 'I3', 'I4', 'I5', 'I6', 'I7', 'I8', 'I9', 'I10', 'I11', 'I12', 'I13', 'C1', 'C2', 'C3', 'C4', 'C5', 'C6', 'C7', 'C8', 'C9', 'C10', 'C11', 'C12', 'C13', 'C14', 'C15', 'C16', 'C17', 'C18', 'C19', 'C20', 'C21', 'C22', 'C23', 'C24', 'C25', 'C26'], 'additional_feature_columns': [], 'model_type': <class 'sklearn.svm.classes.LinearSVC'>, 'model_paramters': {'dual': False}},\n",
        " LSVM40Groups_54bcb56c-3c9b-11e4-97fc-1e5ff811d93a : {'training_dataset': 'origin', 'training_data_slices': slice(0, 1146016, None), 'feature_columns': ['I1', 'I2', 'I3', 'I4', 'I5', 'I6', 'I7', 'I8', 'I9', 'I10', 'I11', 'I12', 'I13', 'C1', 'C2', 'C3', 'C4', 'C5', 'C6', 'C7', 'C8', 'C9', 'C10', 'C11', 'C12', 'C13', 'C14', 'C15', 'C16', 'C17', 'C18', 'C19', 'C20', 'C21', 'C22', 'C23', 'C24', 'C25', 'C26'], 'additional_feature_columns': [], 'model_type': <class 'sklearn.svm.classes.LinearSVC'>, 'model_paramters': {'dual': False}},\n",
        " LSVM40Groups_54b7f2e8-3c9b-11e4-a643-1e5ff811d93a : {'training_dataset': 'origin', 'training_data_slices': slice(9168128, 10314144, None), 'feature_columns': ['I1', 'I2', 'I3', 'I4', 'I5', 'I6', 'I7', 'I8', 'I9', 'I10', 'I11', 'I12', 'I13', 'C1', 'C2', 'C3', 'C4', 'C5', 'C6', 'C7', 'C8', 'C9', 'C10', 'C11', 'C12', 'C13', 'C14', 'C15', 'C16', 'C17', 'C18', 'C19', 'C20', 'C21', 'C22', 'C23', 'C24', 'C25', 'C26'], 'additional_feature_columns': [], 'model_type': <class 'sklearn.svm.classes.LinearSVC'>, 'model_paramters': {'dual': False}},\n",
        " LSVM40Groups_6c1c1002-3c9d-11e4-a445-1e5ff811d93a : {'training_dataset': 'origin', 'training_data_slices': slice(17190240, 18336256, None), 'feature_columns': ['I1', 'I2', 'I3', 'I4', 'I5', 'I6', 'I7', 'I8', 'I9', 'I10', 'I11', 'I12', 'I13', 'C1', 'C2', 'C3', 'C4', 'C5', 'C6', 'C7', 'C8', 'C9', 'C10', 'C11', 'C12', 'C13', 'C14', 'C15', 'C16', 'C17', 'C18', 'C19', 'C20', 'C21', 'C22', 'C23', 'C24', 'C25', 'C26'], 'additional_feature_columns': [], 'model_type': <class 'sklearn.svm.classes.LinearSVC'>, 'model_paramters': {'dual': False}},\n",
        " LSVM40Groups_33ddaf8a-3ca1-11e4-b2c2-1e5ff811d93a : {'training_dataset': 'origin', 'training_data_slices': slice(21774304, 22920320, None), 'feature_columns': ['I1', 'I2', 'I3', 'I4', 'I5', 'I6', 'I7', 'I8', 'I9', 'I10', 'I11', 'I12', 'I13', 'C1', 'C2', 'C3', 'C4', 'C5', 'C6', 'C7', 'C8', 'C9', 'C10', 'C11', 'C12', 'C13', 'C14', 'C15', 'C16', 'C17', 'C18', 'C19', 'C20', 'C21', 'C22', 'C23', 'C24', 'C25', 'C26'], 'additional_feature_columns': [], 'model_type': <class 'sklearn.svm.classes.LinearSVC'>, 'model_paramters': {'dual': False}},\n",
        " LSVM40Groups_61268950-3c9f-11e4-94ef-1e5ff811d93a : {'training_dataset': 'origin', 'training_data_slices': slice(29796416, 30942432, None), 'feature_columns': ['I1', 'I2', 'I3', 'I4', 'I5', 'I6', 'I7', 'I8', 'I9', 'I10', 'I11', 'I12', 'I13', 'C1', 'C2', 'C3', 'C4', 'C5', 'C6', 'C7', 'C8', 'C9', 'C10', 'C11', 'C12', 'C13', 'C14', 'C15', 'C16', 'C17', 'C18', 'C19', 'C20', 'C21', 'C22', 'C23', 'C24', 'C25', 'C26'], 'additional_feature_columns': [], 'model_type': <class 'sklearn.svm.classes.LinearSVC'>, 'model_paramters': {'dual': False}},\n",
        " LSVM40Groups_54bb4ce0-3c9b-11e4-a445-1e5ff811d93a : {'training_dataset': 'origin', 'training_data_slices': slice(16044224, 17190240, None), 'feature_columns': ['I1', 'I2', 'I3', 'I4', 'I5', 'I6', 'I7', 'I8', 'I9', 'I10', 'I11', 'I12', 'I13', 'C1', 'C2', 'C3', 'C4', 'C5', 'C6', 'C7', 'C8', 'C9', 'C10', 'C11', 'C12', 'C13', 'C14', 'C15', 'C16', 'C17', 'C18', 'C19', 'C20', 'C21', 'C22', 'C23', 'C24', 'C25', 'C26'], 'additional_feature_columns': [], 'model_type': <class 'sklearn.svm.classes.LinearSVC'>, 'model_paramters': {'dual': False}},\n",
        " LSVM40Groups_b8f2a560-3ca4-11e4-a445-1e5ff811d93a : {'training_dataset': 'origin', 'training_data_slices': slice(42402592, 43548608, None), 'feature_columns': ['I1', 'I2', 'I3', 'I4', 'I5', 'I6', 'I7', 'I8', 'I9', 'I10', 'I11', 'I12', 'I13', 'C1', 'C2', 'C3', 'C4', 'C5', 'C6', 'C7', 'C8', 'C9', 'C10', 'C11', 'C12', 'C13', 'C14', 'C15', 'C16', 'C17', 'C18', 'C19', 'C20', 'C21', 'C22', 'C23', 'C24', 'C25', 'C26'], 'additional_feature_columns': [], 'model_type': <class 'sklearn.svm.classes.LinearSVC'>, 'model_paramters': {'dual': False}},\n",
        " LSVM40Groups_2049a8c2-3ca4-11e4-94ef-1e5ff811d93a : {'training_dataset': 'origin', 'training_data_slices': slice(30942432, 32088448, None), 'feature_columns': ['I1', 'I2', 'I3', 'I4', 'I5', 'I6', 'I7', 'I8', 'I9', 'I10', 'I11', 'I12', 'I13', 'C1', 'C2', 'C3', 'C4', 'C5', 'C6', 'C7', 'C8', 'C9', 'C10', 'C11', 'C12', 'C13', 'C14', 'C15', 'C16', 'C17', 'C18', 'C19', 'C20', 'C21', 'C22', 'C23', 'C24', 'C25', 'C26'], 'additional_feature_columns': [], 'model_type': <class 'sklearn.svm.classes.LinearSVC'>, 'model_paramters': {'dual': False}},\n",
        " LSVM40Groups_4e724044-3c9d-11e4-b7d7-1e5ff811d93a : {'training_dataset': 'origin', 'training_data_slices': slice(12606176, 13752192, None), 'feature_columns': ['I1', 'I2', 'I3', 'I4', 'I5', 'I6', 'I7', 'I8', 'I9', 'I10', 'I11', 'I12', 'I13', 'C1', 'C2', 'C3', 'C4', 'C5', 'C6', 'C7', 'C8', 'C9', 'C10', 'C11', 'C12', 'C13', 'C14', 'C15', 'C16', 'C17', 'C18', 'C19', 'C20', 'C21', 'C22', 'C23', 'C24', 'C25', 'C26'], 'additional_feature_columns': [], 'model_type': <class 'sklearn.svm.classes.LinearSVC'>, 'model_paramters': {'dual': False}},\n",
        " LSVM40Groups_66ade418-3c9f-11e4-a445-1e5ff811d93a : {'training_dataset': 'origin', 'training_data_slices': slice(32088448, 33234464, None), 'feature_columns': ['I1', 'I2', 'I3', 'I4', 'I5', 'I6', 'I7', 'I8', 'I9', 'I10', 'I11', 'I12', 'I13', 'C1', 'C2', 'C3', 'C4', 'C5', 'C6', 'C7', 'C8', 'C9', 'C10', 'C11', 'C12', 'C13', 'C14', 'C15', 'C16', 'C17', 'C18', 'C19', 'C20', 'C21', 'C22', 'C23', 'C24', 'C25', 'C26'], 'additional_feature_columns': [], 'model_type': <class 'sklearn.svm.classes.LinearSVC'>, 'model_paramters': {'dual': False}},\n",
        " LSVM40Groups_4582c3d6-3ca3-11e4-b2c2-1e5ff811d93a : {'training_dataset': 'origin', 'training_data_slices': slice(43548608, 44694624, None), 'feature_columns': ['I1', 'I2', 'I3', 'I4', 'I5', 'I6', 'I7', 'I8', 'I9', 'I10', 'I11', 'I12', 'I13', 'C1', 'C2', 'C3', 'C4', 'C5', 'C6', 'C7', 'C8', 'C9', 'C10', 'C11', 'C12', 'C13', 'C14', 'C15', 'C16', 'C17', 'C18', 'C19', 'C20', 'C21', 'C22', 'C23', 'C24', 'C25', 'C26'], 'additional_feature_columns': [], 'model_type': <class 'sklearn.svm.classes.LinearSVC'>, 'model_paramters': {'dual': False}},\n",
        " LSVM40Groups_c1fd4c46-3ca4-11e4-b2c2-1e5ff811d93a : {'training_dataset': 'origin', 'training_data_slices': slice(44694624, 45840617, None), 'feature_columns': ['I1', 'I2', 'I3', 'I4', 'I5', 'I6', 'I7', 'I8', 'I9', 'I10', 'I11', 'I12', 'I13', 'C1', 'C2', 'C3', 'C4', 'C5', 'C6', 'C7', 'C8', 'C9', 'C10', 'C11', 'C12', 'C13', 'C14', 'C15', 'C16', 'C17', 'C18', 'C19', 'C20', 'C21', 'C22', 'C23', 'C24', 'C25', 'C26'], 'additional_feature_columns': [], 'model_type': <class 'sklearn.svm.classes.LinearSVC'>, 'model_paramters': {'dual': False}},\n",
        " LSVM40Groups_4e0ab6d6-3c9d-11e4-a643-1e5ff811d93a : {'training_dataset': 'origin', 'training_data_slices': slice(10314144, 11460160, None), 'feature_columns': ['I1', 'I2', 'I3', 'I4', 'I5', 'I6', 'I7', 'I8', 'I9', 'I10', 'I11', 'I12', 'I13', 'C1', 'C2', 'C3', 'C4', 'C5', 'C6', 'C7', 'C8', 'C9', 'C10', 'C11', 'C12', 'C13', 'C14', 'C15', 'C16', 'C17', 'C18', 'C19', 'C20', 'C21', 'C22', 'C23', 'C24', 'C25', 'C26'], 'additional_feature_columns': [], 'model_type': <class 'sklearn.svm.classes.LinearSVC'>, 'model_paramters': {'dual': False}},\n",
        " LSVM40Groups_54b9953a-3c9b-11e4-b2c2-1e5ff811d93a : {'training_dataset': 'origin', 'training_data_slices': slice(13752192, 14898208, None), 'feature_columns': ['I1', 'I2', 'I3', 'I4', 'I5', 'I6', 'I7', 'I8', 'I9', 'I10', 'I11', 'I12', 'I13', 'C1', 'C2', 'C3', 'C4', 'C5', 'C6', 'C7', 'C8', 'C9', 'C10', 'C11', 'C12', 'C13', 'C14', 'C15', 'C16', 'C17', 'C18', 'C19', 'C20', 'C21', 'C22', 'C23', 'C24', 'C25', 'C26'], 'additional_feature_columns': [], 'model_type': <class 'sklearn.svm.classes.LinearSVC'>, 'model_paramters': {'dual': False}},\n",
        " LSVM40Groups_60352300-3c9d-11e4-87dc-1e5ff811d93a : {'training_dataset': 'origin', 'training_data_slices': slice(3438048, 4584064, None), 'feature_columns': ['I1', 'I2', 'I3', 'I4', 'I5', 'I6', 'I7', 'I8', 'I9', 'I10', 'I11', 'I12', 'I13', 'C1', 'C2', 'C3', 'C4', 'C5', 'C6', 'C7', 'C8', 'C9', 'C10', 'C11', 'C12', 'C13', 'C14', 'C15', 'C16', 'C17', 'C18', 'C19', 'C20', 'C21', 'C22', 'C23', 'C24', 'C25', 'C26'], 'additional_feature_columns': [], 'model_type': <class 'sklearn.svm.classes.LinearSVC'>, 'model_paramters': {'dual': False}},\n",
        " LSVM40Groups_70b79ecc-3c9f-11e4-b3ae-1e5ff811d93a : {'training_dataset': 'origin', 'training_data_slices': slice(34380480, 35526496, None), 'feature_columns': ['I1', 'I2', 'I3', 'I4', 'I5', 'I6', 'I7', 'I8', 'I9', 'I10', 'I11', 'I12', 'I13', 'C1', 'C2', 'C3', 'C4', 'C5', 'C6', 'C7', 'C8', 'C9', 'C10', 'C11', 'C12', 'C13', 'C14', 'C15', 'C16', 'C17', 'C18', 'C19', 'C20', 'C21', 'C22', 'C23', 'C24', 'C25', 'C26'], 'additional_feature_columns': [], 'model_type': <class 'sklearn.svm.classes.LinearSVC'>, 'model_paramters': {'dual': False}},\n",
        " LSVM40Groups_43f8dd92-3c9f-11e4-87dc-1e5ff811d93a : {'training_dataset': 'origin', 'training_data_slices': slice(22920320, 24066336, None), 'feature_columns': ['I1', 'I2', 'I3', 'I4', 'I5', 'I6', 'I7', 'I8', 'I9', 'I10', 'I11', 'I12', 'I13', 'C1', 'C2', 'C3', 'C4', 'C5', 'C6', 'C7', 'C8', 'C9', 'C10', 'C11', 'C12', 'C13', 'C14', 'C15', 'C16', 'C17', 'C18', 'C19', 'C20', 'C21', 'C22', 'C23', 'C24', 'C25', 'C26'], 'additional_feature_columns': [], 'model_type': <class 'sklearn.svm.classes.LinearSVC'>, 'model_paramters': {'dual': False}},\n",
        " LSVM40Groups_0a49be54-3c9f-11e4-a643-1e5ff811d93a : {'training_dataset': 'origin', 'training_data_slices': slice(18336256, 19482272, None), 'feature_columns': ['I1', 'I2', 'I3', 'I4', 'I5', 'I6', 'I7', 'I8', 'I9', 'I10', 'I11', 'I12', 'I13', 'C1', 'C2', 'C3', 'C4', 'C5', 'C6', 'C7', 'C8', 'C9', 'C10', 'C11', 'C12', 'C13', 'C14', 'C15', 'C16', 'C17', 'C18', 'C19', 'C20', 'C21', 'C22', 'C23', 'C24', 'C25', 'C26'], 'additional_feature_columns': [], 'model_type': <class 'sklearn.svm.classes.LinearSVC'>, 'model_paramters': {'dual': False}}]"
       ]
      }
     ],
     "prompt_number": 15
    },
    {
     "cell_type": "code",
     "collapsed": false,
     "input": [],
     "language": "python",
     "metadata": {},
     "outputs": []
    },
    {
     "cell_type": "code",
     "collapsed": false,
     "input": [
      "1/np.subtract(1,-np.exp(np.subtract(0.725,xx))"
     ],
     "language": "python",
     "metadata": {},
     "outputs": []
    },
    {
     "cell_type": "code",
     "collapsed": false,
     "input": [
      "erf(1.*np.subtract(xx,-0.625)"
     ],
     "language": "python",
     "metadata": {},
     "outputs": []
    },
    {
     "cell_type": "code",
     "collapsed": false,
     "input": [],
     "language": "python",
     "metadata": {},
     "outputs": [
      {
       "metadata": {},
       "output_type": "pyout",
       "prompt_number": 19,
       "text": [
        "<ufunc 'exp'>"
       ]
      }
     ],
     "prompt_number": 19
    },
    {
     "cell_type": "code",
     "collapsed": false,
     "input": [
      "logloss_dict = svm_series.compute_training_data_logloss(prob_func=lambda xx:erf(0.3*np.subtract(xx,-1.15)),\n",
      "                                                        use_prediction=\"decision_function\",\n",
      "                                                        sample_slice  = slice(0,1000000,None))"
     ],
     "language": "python",
     "metadata": {},
     "outputs": [
      {
       "output_type": "stream",
       "stream": "stdout",
       "text": [
        "[LSVM40Groups_4e925d02-3c9d-11e4-b2c2-1e5ff811d93a] [compute_training_data_logloss] conpute logloss with decision_function \n",
        "[LSVM40Groups_4e925d02-3c9d-11e4-b2c2-1e5ff811d93a] [compute_training_data_logloss] logloss_value = 0.552715412156 "
       ]
      },
      {
       "output_type": "stream",
       "stream": "stdout",
       "text": [
        "\n",
        "[LSVM40Groups_98795626-3ca4-11e4-b7d7-1e5ff811d93a] [compute_training_data_logloss] conpute logloss with decision_function \n",
        "[LSVM40Groups_98795626-3ca4-11e4-b7d7-1e5ff811d93a] [compute_training_data_logloss] logloss_value = 0.553659189274 "
       ]
      },
      {
       "output_type": "stream",
       "stream": "stdout",
       "text": [
        "\n",
        "[LSVM40Groups_6cfbc9ea-3c9d-11e4-b3ae-1e5ff811d93a] [compute_training_data_logloss] conpute logloss with decision_function \n",
        "[LSVM40Groups_6cfbc9ea-3c9d-11e4-b3ae-1e5ff811d93a] [compute_training_data_logloss] logloss_value = 0.553274926082 "
       ]
      },
      {
       "output_type": "stream",
       "stream": "stdout",
       "text": [
        "\n",
        "[LSVM40Groups_65c582d8-3c9d-11e4-97fc-1e5ff811d93a] [compute_training_data_logloss] conpute logloss with decision_function \n",
        "[LSVM40Groups_65c582d8-3c9d-11e4-97fc-1e5ff811d93a] [compute_training_data_logloss] logloss_value = 0.554174912852 "
       ]
      },
      {
       "output_type": "stream",
       "stream": "stdout",
       "text": [
        "\n",
        "[LSVM40Groups_0c8989ca-3ca3-11e4-87dc-1e5ff811d93a] [compute_training_data_logloss] conpute logloss with decision_function \n",
        "[LSVM40Groups_0c8989ca-3ca3-11e4-87dc-1e5ff811d93a] [compute_training_data_logloss] logloss_value = 0.553218579772 "
       ]
      },
      {
       "output_type": "stream",
       "stream": "stdout",
       "text": [
        "\n",
        "[LSVM40Groups_601b8f68-3ca1-11e4-97fc-1e5ff811d93a] [compute_training_data_logloss] conpute logloss with decision_function \n",
        "[LSVM40Groups_601b8f68-3ca1-11e4-97fc-1e5ff811d93a] [compute_training_data_logloss] logloss_value = 0.550903928145 "
       ]
      },
      {
       "output_type": "stream",
       "stream": "stdout",
       "text": [
        "\n",
        "[LSVM40Groups_1704ade6-3ca1-11e4-87dc-1e5ff811d93a] [compute_training_data_logloss] conpute logloss with decision_function \n",
        "[LSVM40Groups_1704ade6-3ca1-11e4-87dc-1e5ff811d93a] [compute_training_data_logloss] logloss_value = 0.553477048995 "
       ]
      },
      {
       "output_type": "stream",
       "stream": "stdout",
       "text": [
        "\n",
        "[LSVM40Groups_3305f8ea-3ca3-11e4-a445-1e5ff811d93a] [compute_training_data_logloss] conpute logloss with decision_function \n",
        "[LSVM40Groups_3305f8ea-3ca3-11e4-a445-1e5ff811d93a] [compute_training_data_logloss] logloss_value = 0.552021205979 "
       ]
      },
      {
       "output_type": "stream",
       "stream": "stdout",
       "text": [
        "\n",
        "[LSVM40Groups_54b83064-3c9b-11e4-87dc-1e5ff811d93a] [compute_training_data_logloss] conpute logloss with decision_function \n",
        "[LSVM40Groups_54b83064-3c9b-11e4-87dc-1e5ff811d93a] [compute_training_data_logloss] logloss_value = 0.553269234789 "
       ]
      },
      {
       "output_type": "stream",
       "stream": "stdout",
       "text": [
        "\n",
        "[LSVM40Groups_6e0417e8-3c9d-11e4-94ef-1e5ff811d93a] [compute_training_data_logloss] conpute logloss with decision_function \n",
        "[LSVM40Groups_6e0417e8-3c9d-11e4-94ef-1e5ff811d93a] [compute_training_data_logloss] logloss_value = 0.553058584441 "
       ]
      },
      {
       "output_type": "stream",
       "stream": "stdout",
       "text": [
        "\n",
        "[LSVM40Groups_0baa5160-3ca3-11e4-b7d7-1e5ff811d93a] [compute_training_data_logloss] conpute logloss with decision_function \n",
        "[LSVM40Groups_0baa5160-3ca3-11e4-b7d7-1e5ff811d93a] [compute_training_data_logloss] logloss_value = 0.552396804688 "
       ]
      },
      {
       "output_type": "stream",
       "stream": "stdout",
       "text": [
        "\n",
        "[LSVM40Groups_5368a0d2-3c9f-11e4-97fc-1e5ff811d93a] [compute_training_data_logloss] conpute logloss with decision_function \n",
        "[LSVM40Groups_5368a0d2-3c9f-11e4-97fc-1e5ff811d93a] [compute_training_data_logloss] logloss_value = 0.551324942179 "
       ]
      },
      {
       "output_type": "stream",
       "stream": "stdout",
       "text": [
        "\n",
        "[LSVM40Groups_54b82b3c-3c9b-11e4-b3ae-1e5ff811d93a] [compute_training_data_logloss] conpute logloss with decision_function \n",
        "[LSVM40Groups_54b82b3c-3c9b-11e4-b3ae-1e5ff811d93a] [compute_training_data_logloss] logloss_value = 0.553508322929 "
       ]
      },
      {
       "output_type": "stream",
       "stream": "stdout",
       "text": [
        "\n",
        "[LSVM40Groups_31df6250-3ca1-11e4-b7d7-1e5ff811d93a] [compute_training_data_logloss] conpute logloss with decision_function \n",
        "[LSVM40Groups_31df6250-3ca1-11e4-b7d7-1e5ff811d93a] [compute_training_data_logloss] logloss_value = 0.55069243879 "
       ]
      },
      {
       "output_type": "stream",
       "stream": "stdout",
       "text": [
        "\n",
        "[LSVM40Groups_54bb5e9c-3c9b-11e4-b7d7-1e5ff811d93a] [compute_training_data_logloss] conpute logloss with decision_function \n",
        "[LSVM40Groups_54bb5e9c-3c9b-11e4-b7d7-1e5ff811d93a] [compute_training_data_logloss] logloss_value = 0.554253709382 "
       ]
      },
      {
       "output_type": "stream",
       "stream": "stdout",
       "text": [
        "\n",
        "[LSVM40Groups_4a73396a-3c9f-11e4-b7d7-1e5ff811d93a] [compute_training_data_logloss] conpute logloss with decision_function \n",
        "[LSVM40Groups_4a73396a-3c9f-11e4-b7d7-1e5ff811d93a] [compute_training_data_logloss] logloss_value = 0.55374711297 "
       ]
      },
      {
       "output_type": "stream",
       "stream": "stdout",
       "text": [
        "\n",
        "[LSVM40Groups_4d3f40f6-3ca1-11e4-a445-1e5ff811d93a] [compute_training_data_logloss] conpute logloss with decision_function \n",
        "[LSVM40Groups_4d3f40f6-3ca1-11e4-a445-1e5ff811d93a] [compute_training_data_logloss] logloss_value = 0.55089484836 "
       ]
      },
      {
       "output_type": "stream",
       "stream": "stdout",
       "text": [
        "\n",
        "[LSVM40Groups_8032570c-3ca4-11e4-87dc-1e5ff811d93a] [compute_training_data_logloss] conpute logloss with decision_function \n",
        "[LSVM40Groups_8032570c-3ca4-11e4-87dc-1e5ff811d93a] [compute_training_data_logloss] logloss_value = 0.55178417679 "
       ]
      },
      {
       "output_type": "stream",
       "stream": "stdout",
       "text": [
        "\n",
        "[LSVM40Groups_8e68d470-3ca1-11e4-a643-1e5ff811d93a] [compute_training_data_logloss] conpute logloss with decision_function \n",
        "[LSVM40Groups_8e68d470-3ca1-11e4-a643-1e5ff811d93a] [compute_training_data_logloss] logloss_value = 0.550592421913 "
       ]
      },
      {
       "output_type": "stream",
       "stream": "stdout",
       "text": [
        "\n",
        "[LSVM40Groups_7e67eab6-3ca1-11e4-b3ae-1e5ff811d93a] [compute_training_data_logloss] conpute logloss with decision_function \n",
        "[LSVM40Groups_7e67eab6-3ca1-11e4-b3ae-1e5ff811d93a] [compute_training_data_logloss] logloss_value = 0.551992745504 "
       ]
      },
      {
       "output_type": "stream",
       "stream": "stdout",
       "text": [
        "\n",
        "[LSVM40Groups_35db1fd6-3c9f-11e4-b2c2-1e5ff811d93a] [compute_training_data_logloss] conpute logloss with decision_function \n",
        "[LSVM40Groups_35db1fd6-3c9f-11e4-b2c2-1e5ff811d93a] [compute_training_data_logloss] logloss_value = 0.552282233303 "
       ]
      },
      {
       "output_type": "stream",
       "stream": "stdout",
       "text": [
        "\n",
        "[LSVM40Groups_54b919e8-3c9b-11e4-94ef-1e5ff811d93a] [compute_training_data_logloss] conpute logloss with decision_function \n",
        "[LSVM40Groups_54b919e8-3c9b-11e4-94ef-1e5ff811d93a] [compute_training_data_logloss] logloss_value = 0.553070844493 "
       ]
      },
      {
       "output_type": "stream",
       "stream": "stdout",
       "text": [
        "\n",
        "[LSVM40Groups_54bcb56c-3c9b-11e4-97fc-1e5ff811d93a] [compute_training_data_logloss] conpute logloss with decision_function \n",
        "[LSVM40Groups_54bcb56c-3c9b-11e4-97fc-1e5ff811d93a] [compute_training_data_logloss] logloss_value = 0.553009592269 "
       ]
      },
      {
       "output_type": "stream",
       "stream": "stdout",
       "text": [
        "\n",
        "[LSVM40Groups_54b7f2e8-3c9b-11e4-a643-1e5ff811d93a] [compute_training_data_logloss] conpute logloss with decision_function \n",
        "[LSVM40Groups_54b7f2e8-3c9b-11e4-a643-1e5ff811d93a] [compute_training_data_logloss] logloss_value = 0.552294753335 "
       ]
      },
      {
       "output_type": "stream",
       "stream": "stdout",
       "text": [
        "\n",
        "[LSVM40Groups_6c1c1002-3c9d-11e4-a445-1e5ff811d93a] [compute_training_data_logloss] conpute logloss with decision_function \n",
        "[LSVM40Groups_6c1c1002-3c9d-11e4-a445-1e5ff811d93a] [compute_training_data_logloss] logloss_value = 0.553014959348 "
       ]
      },
      {
       "output_type": "stream",
       "stream": "stdout",
       "text": [
        "\n",
        "[LSVM40Groups_33ddaf8a-3ca1-11e4-b2c2-1e5ff811d93a] [compute_training_data_logloss] conpute logloss with decision_function \n",
        "[LSVM40Groups_33ddaf8a-3ca1-11e4-b2c2-1e5ff811d93a] [compute_training_data_logloss] logloss_value = 0.551555451837 "
       ]
      },
      {
       "output_type": "stream",
       "stream": "stdout",
       "text": [
        "\n",
        "[LSVM40Groups_61268950-3c9f-11e4-94ef-1e5ff811d93a] [compute_training_data_logloss] conpute logloss with decision_function \n",
        "[LSVM40Groups_61268950-3c9f-11e4-94ef-1e5ff811d93a] [compute_training_data_logloss] logloss_value = 0.551331558127 "
       ]
      },
      {
       "output_type": "stream",
       "stream": "stdout",
       "text": [
        "\n",
        "[LSVM40Groups_54bb4ce0-3c9b-11e4-a445-1e5ff811d93a] [compute_training_data_logloss] conpute logloss with decision_function \n",
        "[LSVM40Groups_54bb4ce0-3c9b-11e4-a445-1e5ff811d93a] [compute_training_data_logloss] logloss_value = 0.552280674694 "
       ]
      },
      {
       "output_type": "stream",
       "stream": "stdout",
       "text": [
        "\n",
        "[LSVM40Groups_b8f2a560-3ca4-11e4-a445-1e5ff811d93a] [compute_training_data_logloss] conpute logloss with decision_function \n",
        "[LSVM40Groups_b8f2a560-3ca4-11e4-a445-1e5ff811d93a] [compute_training_data_logloss] logloss_value = 0.55165873123 "
       ]
      },
      {
       "output_type": "stream",
       "stream": "stdout",
       "text": [
        "\n",
        "[LSVM40Groups_2049a8c2-3ca4-11e4-94ef-1e5ff811d93a] [compute_training_data_logloss] conpute logloss with decision_function \n",
        "[LSVM40Groups_2049a8c2-3ca4-11e4-94ef-1e5ff811d93a] [compute_training_data_logloss] logloss_value = 0.551615523589 "
       ]
      },
      {
       "output_type": "stream",
       "stream": "stdout",
       "text": [
        "\n",
        "[LSVM40Groups_4e724044-3c9d-11e4-b7d7-1e5ff811d93a] [compute_training_data_logloss] conpute logloss with decision_function \n",
        "[LSVM40Groups_4e724044-3c9d-11e4-b7d7-1e5ff811d93a] [compute_training_data_logloss] logloss_value = 0.551121658803 "
       ]
      },
      {
       "output_type": "stream",
       "stream": "stdout",
       "text": [
        "\n",
        "[LSVM40Groups_66ade418-3c9f-11e4-a445-1e5ff811d93a] [compute_training_data_logloss] conpute logloss with decision_function \n",
        "[LSVM40Groups_66ade418-3c9f-11e4-a445-1e5ff811d93a] [compute_training_data_logloss] logloss_value = 0.551745413838 "
       ]
      },
      {
       "output_type": "stream",
       "stream": "stdout",
       "text": [
        "\n",
        "[LSVM40Groups_4582c3d6-3ca3-11e4-b2c2-1e5ff811d93a] [compute_training_data_logloss] conpute logloss with decision_function \n",
        "[LSVM40Groups_4582c3d6-3ca3-11e4-b2c2-1e5ff811d93a] [compute_training_data_logloss] logloss_value = 0.552505885908 "
       ]
      },
      {
       "output_type": "stream",
       "stream": "stdout",
       "text": [
        "\n",
        "[LSVM40Groups_c1fd4c46-3ca4-11e4-b2c2-1e5ff811d93a] [compute_training_data_logloss] conpute logloss with decision_function \n",
        "[LSVM40Groups_c1fd4c46-3ca4-11e4-b2c2-1e5ff811d93a] [compute_training_data_logloss] logloss_value = 0.55290508908 "
       ]
      },
      {
       "output_type": "stream",
       "stream": "stdout",
       "text": [
        "\n",
        "[LSVM40Groups_4e0ab6d6-3c9d-11e4-a643-1e5ff811d93a] [compute_training_data_logloss] conpute logloss with decision_function \n",
        "[LSVM40Groups_4e0ab6d6-3c9d-11e4-a643-1e5ff811d93a] [compute_training_data_logloss] logloss_value = 0.552643534339 "
       ]
      },
      {
       "output_type": "stream",
       "stream": "stdout",
       "text": [
        "\n",
        "[LSVM40Groups_54b9953a-3c9b-11e4-b2c2-1e5ff811d93a] [compute_training_data_logloss] conpute logloss with decision_function \n",
        "[LSVM40Groups_54b9953a-3c9b-11e4-b2c2-1e5ff811d93a] [compute_training_data_logloss] logloss_value = 0.552668625851 "
       ]
      },
      {
       "output_type": "stream",
       "stream": "stdout",
       "text": [
        "\n",
        "[LSVM40Groups_60352300-3c9d-11e4-87dc-1e5ff811d93a] [compute_training_data_logloss] conpute logloss with decision_function \n",
        "[LSVM40Groups_60352300-3c9d-11e4-87dc-1e5ff811d93a] [compute_training_data_logloss] logloss_value = 0.553079282307 "
       ]
      },
      {
       "output_type": "stream",
       "stream": "stdout",
       "text": [
        "\n",
        "[LSVM40Groups_70b79ecc-3c9f-11e4-b3ae-1e5ff811d93a] [compute_training_data_logloss] conpute logloss with decision_function \n",
        "[LSVM40Groups_70b79ecc-3c9f-11e4-b3ae-1e5ff811d93a] [compute_training_data_logloss] logloss_value = 0.552410066287 "
       ]
      },
      {
       "output_type": "stream",
       "stream": "stdout",
       "text": [
        "\n",
        "[LSVM40Groups_43f8dd92-3c9f-11e4-87dc-1e5ff811d93a] [compute_training_data_logloss] conpute logloss with decision_function \n",
        "[LSVM40Groups_43f8dd92-3c9f-11e4-87dc-1e5ff811d93a] [compute_training_data_logloss] logloss_value = 0.551994277689 "
       ]
      },
      {
       "output_type": "stream",
       "stream": "stdout",
       "text": [
        "\n",
        "[LSVM40Groups_0a49be54-3c9f-11e4-a643-1e5ff811d93a] [compute_training_data_logloss] conpute logloss with decision_function \n",
        "[LSVM40Groups_0a49be54-3c9f-11e4-a643-1e5ff811d93a] [compute_training_data_logloss] logloss_value = 0.553377644009 "
       ]
      },
      {
       "output_type": "stream",
       "stream": "stdout",
       "text": [
        "\n"
       ]
      }
     ],
     "prompt_number": 45
    },
    {
     "cell_type": "code",
     "collapsed": false,
     "input": [
      "m = svm_series.series_models[0]"
     ],
     "language": "python",
     "metadata": {},
     "outputs": [],
     "prompt_number": 17
    },
    {
     "cell_type": "code",
     "collapsed": false,
     "input": [
      "%time m.compute_training_data_logloss(prob_func=lambda xx:erf(0.3*np.subtract(xx,-1.3)),use_prediction=\"decision_function\",sample_slice  = slice(0,None,None))"
     ],
     "language": "python",
     "metadata": {},
     "outputs": [
      {
       "output_type": "stream",
       "stream": "stdout",
       "text": [
        "[LSVM40Groups_4e925d02-3c9d-11e4-b2c2-1e5ff811d93a] [compute_training_data_logloss] conpute logloss with decision_function \n",
        "[LSVM40Groups_4e925d02-3c9d-11e4-b2c2-1e5ff811d93a] [compute_training_data_logloss] logloss_value = 0.55569811621 "
       ]
      },
      {
       "output_type": "stream",
       "stream": "stdout",
       "text": [
        "\n",
        "CPU times: user 12.7 s, sys: 1.85 s, total: 14.5 s"
       ]
      },
      {
       "output_type": "stream",
       "stream": "stdout",
       "text": [
        "\n",
        "Wall time: 4.76 s\n"
       ]
      },
      {
       "metadata": {},
       "output_type": "pyout",
       "prompt_number": 18,
       "text": [
        "0.55569811621003096"
       ]
      }
     ],
     "prompt_number": 18
    },
    {
     "cell_type": "code",
     "collapsed": false,
     "input": [
      "#logloss_dict"
     ],
     "language": "python",
     "metadata": {},
     "outputs": [],
     "prompt_number": 22
    },
    {
     "cell_type": "code",
     "collapsed": false,
     "input": [],
     "language": "python",
     "metadata": {},
     "outputs": []
    },
    {
     "cell_type": "code",
     "collapsed": false,
     "input": [],
     "language": "python",
     "metadata": {},
     "outputs": [],
     "prompt_number": 35
    },
    {
     "cell_type": "code",
     "collapsed": false,
     "input": [],
     "language": "python",
     "metadata": {},
     "outputs": [],
     "prompt_number": 36
    },
    {
     "cell_type": "code",
     "collapsed": false,
     "input": [
      "#rf_series.series_models"
     ],
     "language": "python",
     "metadata": {},
     "outputs": [],
     "prompt_number": 37
    },
    {
     "cell_type": "code",
     "collapsed": false,
     "input": [
      "rf_logloss_dict1 = rf_series.compute_training_data_logloss(use_prediction=\"predict_proba\",\n",
      "                                                           sample_slice  = slice(0,1000000,None))"
     ],
     "language": "python",
     "metadata": {},
     "outputs": [
      {
       "output_type": "stream",
       "stream": "stdout",
       "text": [
        "[RFmss10ne200-40Groups_ffca52ca-3d54-11e4-9872-5a1064dce9ab] [compute_training_data_logloss] conpute logloss with predict_proba \n",
        "[RFmss10ne200-40Groups_ffca52ca-3d54-11e4-9872-5a1064dce9ab] [compute_training_data_logloss] logloss_value = 0.49174389931 "
       ]
      },
      {
       "output_type": "stream",
       "stream": "stdout",
       "text": [
        "\n",
        "[RFmss10ne200-40Groups_96e6dfac-3dfa-11e4-9872-5a1064dce9ab] [compute_training_data_logloss] conpute logloss with predict_proba \n",
        "[RFmss10ne200-40Groups_96e6dfac-3dfa-11e4-9872-5a1064dce9ab] [compute_training_data_logloss] logloss_value = 0.493043958186 "
       ]
      },
      {
       "output_type": "stream",
       "stream": "stdout",
       "text": [
        "\n",
        "[RFmss10ne200-40Groups_1ef4e8dc-3de5-11e4-9872-5a1064dce9ab] [compute_training_data_logloss] conpute logloss with predict_proba \n",
        "[RFmss10ne200-40Groups_1ef4e8dc-3de5-11e4-9872-5a1064dce9ab] [compute_training_data_logloss] logloss_value = 0.49391074478 "
       ]
      },
      {
       "output_type": "stream",
       "stream": "stdout",
       "text": [
        "\n",
        "[RFmss10ne200-40Groups_6d99e818-3dcf-11e4-9872-5a1064dce9ab] [compute_training_data_logloss] conpute logloss with predict_proba \n",
        "[RFmss10ne200-40Groups_6d99e818-3dcf-11e4-9872-5a1064dce9ab] [compute_training_data_logloss] logloss_value = 0.493110209797 "
       ]
      },
      {
       "output_type": "stream",
       "stream": "stdout",
       "text": [
        "\n",
        "[RFmss10ne200-40Groups_732cc740-3df3-11e4-9872-5a1064dce9ab] [compute_training_data_logloss] conpute logloss with predict_proba \n",
        "[RFmss10ne200-40Groups_732cc740-3df3-11e4-9872-5a1064dce9ab] [compute_training_data_logloss] logloss_value = 0.492651314135 "
       ]
      },
      {
       "output_type": "stream",
       "stream": "stdout",
       "text": [
        "\n",
        "[RFmss10ne200-40Groups_e1d006ca-3d95-11e4-9872-5a1064dce9ab] [compute_training_data_logloss] conpute logloss with predict_proba \n",
        "[RFmss10ne200-40Groups_e1d006ca-3d95-11e4-9872-5a1064dce9ab] [compute_training_data_logloss] logloss_value = 0.49310169048 "
       ]
      },
      {
       "output_type": "stream",
       "stream": "stdout",
       "text": [
        "\n",
        "[RFmss10ne200-40Groups_7ac82f46-3dab-11e4-9872-5a1064dce9ab] [compute_training_data_logloss] conpute logloss with predict_proba \n",
        "[RFmss10ne200-40Groups_7ac82f46-3dab-11e4-9872-5a1064dce9ab] [compute_training_data_logloss] logloss_value = 0.494157777558 "
       ]
      },
      {
       "output_type": "stream",
       "stream": "stdout",
       "text": [
        "\n",
        "[RFmss10ne200-40Groups_55b2f6c8-3dec-11e4-9872-5a1064dce9ab] [compute_training_data_logloss] conpute logloss with predict_proba \n",
        "[RFmss10ne200-40Groups_55b2f6c8-3dec-11e4-9872-5a1064dce9ab] [compute_training_data_logloss] logloss_value = 0.491728651088 "
       ]
      },
      {
       "output_type": "stream",
       "stream": "stdout",
       "text": [
        "\n",
        "[RFmss10ne200-40Groups_ae25dd7e-3d8e-11e4-9872-5a1064dce9ab] [compute_training_data_logloss] conpute logloss with predict_proba \n",
        "[RFmss10ne200-40Groups_ae25dd7e-3d8e-11e4-9872-5a1064dce9ab] [compute_training_data_logloss] logloss_value = 0.494057191077 "
       ]
      },
      {
       "output_type": "stream",
       "stream": "stdout",
       "text": [
        "\n",
        "[RFmss10ne200-40Groups_d2df0bd6-3d4d-11e4-9872-5a1064dce9ab] [compute_training_data_logloss] conpute logloss with predict_proba \n",
        "[RFmss10ne200-40Groups_d2df0bd6-3d4d-11e4-9872-5a1064dce9ab] [compute_training_data_logloss] logloss_value = 0.491247716999 "
       ]
      },
      {
       "output_type": "stream",
       "stream": "stdout",
       "text": [
        "\n",
        "[RFmss10ne200-40Groups_e947a10e-3ddd-11e4-9872-5a1064dce9ab] [compute_training_data_logloss] conpute logloss with predict_proba \n",
        "[RFmss10ne200-40Groups_e947a10e-3ddd-11e4-9872-5a1064dce9ab] [compute_training_data_logloss] logloss_value = 0.493935765851 "
       ]
      },
      {
       "output_type": "stream",
       "stream": "stdout",
       "text": [
        "\n",
        "[RFmss10ne200-40Groups_baf2be96-3e01-11e4-9872-5a1064dce9ab] [compute_training_data_logloss] conpute logloss with predict_proba \n",
        "[RFmss10ne200-40Groups_baf2be96-3e01-11e4-9872-5a1064dce9ab] [compute_training_data_logloss] logloss_value = 0.496096141493 "
       ]
      },
      {
       "output_type": "stream",
       "stream": "stdout",
       "text": [
        "\n",
        "[RFmss10ne200-40Groups_b93c14c4-3dd6-11e4-9872-5a1064dce9ab] [compute_training_data_logloss] conpute logloss with predict_proba \n",
        "[RFmss10ne200-40Groups_b93c14c4-3dd6-11e4-9872-5a1064dce9ab] [compute_training_data_logloss] logloss_value = 0.493510925611 "
       ]
      },
      {
       "output_type": "stream",
       "stream": "stdout",
       "text": [
        "\n",
        "[RFmss10ne200-40Groups_201f9140-3dc1-11e4-9872-5a1064dce9ab] [compute_training_data_logloss] conpute logloss with predict_proba \n",
        "[RFmss10ne200-40Groups_201f9140-3dc1-11e4-9872-5a1064dce9ab] [compute_training_data_logloss] logloss_value = 0.49174687825 "
       ]
      },
      {
       "output_type": "stream",
       "stream": "stdout",
       "text": [
        "\n",
        "[RFmss10ne200-40Groups_410053ac-3dc8-11e4-9872-5a1064dce9ab] [compute_training_data_logloss] conpute logloss with predict_proba \n",
        "[RFmss10ne200-40Groups_410053ac-3dc8-11e4-9872-5a1064dce9ab] [compute_training_data_logloss] logloss_value = 0.492454545081 "
       ]
      },
      {
       "output_type": "stream",
       "stream": "stdout",
       "text": [
        "\n",
        "[RFmss10ne200-40Groups_14f5ca92-3d9d-11e4-9872-5a1064dce9ab] [compute_training_data_logloss] conpute logloss with predict_proba \n",
        "[RFmss10ne200-40Groups_14f5ca92-3d9d-11e4-9872-5a1064dce9ab] [compute_training_data_logloss] logloss_value = 0.493622124097 "
       ]
      },
      {
       "output_type": "stream",
       "stream": "stdout",
       "text": [
        "\n",
        "[RFmss10ne200-40Groups_4315ad96-3da4-11e4-9872-5a1064dce9ab] [compute_training_data_logloss] conpute logloss with predict_proba \n",
        "[RFmss10ne200-40Groups_4315ad96-3da4-11e4-9872-5a1064dce9ab] [compute_training_data_logloss] logloss_value = 0.493717025108 "
       ]
      },
      {
       "output_type": "stream",
       "stream": "stdout",
       "text": [
        "\n",
        "[RFmss10ne200-40Groups_b627f178-3db2-11e4-9872-5a1064dce9ab] [compute_training_data_logloss] conpute logloss with predict_proba \n",
        "[RFmss10ne200-40Groups_b627f178-3db2-11e4-9872-5a1064dce9ab] [compute_training_data_logloss] logloss_value = 0.494760115931 "
       ]
      },
      {
       "output_type": "stream",
       "stream": "stdout",
       "text": [
        "\n",
        "[RFmss10ne200-40Groups_9a8d6d4c-3d46-11e4-9872-5a1064dce9ab] [compute_training_data_logloss] conpute logloss with predict_proba \n",
        "[RFmss10ne200-40Groups_9a8d6d4c-3d46-11e4-9872-5a1064dce9ab] [compute_training_data_logloss] logloss_value = 0.235398760933 "
       ]
      },
      {
       "output_type": "stream",
       "stream": "stdout",
       "text": [
        "\n",
        "[RFmss10ne200-40Groups_817e0644-3d6a-11e4-9872-5a1064dce9ab] [compute_training_data_logloss] conpute logloss with predict_proba \n",
        "[RFmss10ne200-40Groups_817e0644-3d6a-11e4-9872-5a1064dce9ab] [compute_training_data_logloss] logloss_value = 0.491878112309 "
       ]
      },
      {
       "output_type": "stream",
       "stream": "stdout",
       "text": [
        "\n",
        "[RFmss10ne200-40Groups_e7007d40-3db9-11e4-9872-5a1064dce9ab] [compute_training_data_logloss] conpute logloss with predict_proba \n",
        "[RFmss10ne200-40Groups_e7007d40-3db9-11e4-9872-5a1064dce9ab] [compute_training_data_logloss] logloss_value = 0.493313311509 "
       ]
      },
      {
       "output_type": "stream",
       "stream": "stdout",
       "text": [
        "\n",
        "[RFmss10ne200-40Groups_671fc284-3d87-11e4-9872-5a1064dce9ab] [compute_training_data_logloss] conpute logloss with predict_proba \n",
        "[RFmss10ne200-40Groups_671fc284-3d87-11e4-9872-5a1064dce9ab] [compute_training_data_logloss] logloss_value = 0.494596318346 "
       ]
      },
      {
       "output_type": "stream",
       "stream": "stdout",
       "text": [
        "\n",
        "[RFmss10ne200-40Groups_061893a0-3d80-11e4-9872-5a1064dce9ab] [compute_training_data_logloss] conpute logloss with predict_proba \n",
        "[RFmss10ne200-40Groups_061893a0-3d80-11e4-9872-5a1064dce9ab] [compute_training_data_logloss] logloss_value = 0.494098622534 "
       ]
      },
      {
       "output_type": "stream",
       "stream": "stdout",
       "text": [
        "\n",
        "[RFmss10ne200-40Groups_adeba392-3d71-11e4-9872-5a1064dce9ab] [compute_training_data_logloss] conpute logloss with predict_proba \n",
        "[RFmss10ne200-40Groups_adeba392-3d71-11e4-9872-5a1064dce9ab] [compute_training_data_logloss] logloss_value = 0.491959524472 "
       ]
      },
      {
       "output_type": "stream",
       "stream": "stdout",
       "text": [
        "\n",
        "[RFmss10ne200-40Groups_e5d1d7c6-3e08-11e4-9872-5a1064dce9ab] [compute_training_data_logloss] conpute logloss with predict_proba \n",
        "[RFmss10ne200-40Groups_e5d1d7c6-3e08-11e4-9872-5a1064dce9ab] [compute_training_data_logloss] logloss_value = 0.49667056782 "
       ]
      },
      {
       "output_type": "stream",
       "stream": "stdout",
       "text": [
        "\n",
        "[RFmss10ne200-40Groups_28456df0-3d5c-11e4-9872-5a1064dce9ab] [compute_training_data_logloss] conpute logloss with predict_proba \n",
        "[RFmss10ne200-40Groups_28456df0-3d5c-11e4-9872-5a1064dce9ab] [compute_training_data_logloss] logloss_value = 0.492442936797 "
       ]
      },
      {
       "output_type": "stream",
       "stream": "stdout",
       "text": [
        "\n",
        "[RFmss10ne200-40Groups_53e6a918-3d63-11e4-9872-5a1064dce9ab] [compute_training_data_logloss] conpute logloss with predict_proba \n",
        "[RFmss10ne200-40Groups_53e6a918-3d63-11e4-9872-5a1064dce9ab] [compute_training_data_logloss] logloss_value = 0.493147948826 "
       ]
      },
      {
       "output_type": "stream",
       "stream": "stdout",
       "text": [
        "\n",
        "[RFmss10ne200-40Groups_d5b12cc4-3d78-11e4-9872-5a1064dce9ab] [compute_training_data_logloss] conpute logloss with predict_proba \n",
        "[RFmss10ne200-40Groups_d5b12cc4-3d78-11e4-9872-5a1064dce9ab] [compute_training_data_logloss] logloss_value = 0.492972787273 "
       ]
      },
      {
       "output_type": "stream",
       "stream": "stdout",
       "text": [
        "\n"
       ]
      }
     ],
     "prompt_number": 47
    },
    {
     "cell_type": "code",
     "collapsed": false,
     "input": [
      "rf_logloss_dict2 = rf_series.compute_training_data_logloss(use_prediction=\"predict_proba\",\n",
      "                                                           sample_slice  = slice(1000000,3000000,None))"
     ],
     "language": "python",
     "metadata": {},
     "outputs": [
      {
       "output_type": "stream",
       "stream": "stdout",
       "text": [
        "[RFmss10ne200-40Groups_ffca52ca-3d54-11e4-9872-5a1064dce9ab] [compute_training_data_logloss] conpute logloss with predict_proba \n",
        "[RFmss10ne200-40Groups_ffca52ca-3d54-11e4-9872-5a1064dce9ab] [compute_training_data_logloss] logloss_value = 0.398071203213 "
       ]
      },
      {
       "output_type": "stream",
       "stream": "stdout",
       "text": [
        "\n",
        "[RFmss10ne200-40Groups_96e6dfac-3dfa-11e4-9872-5a1064dce9ab] [compute_training_data_logloss] conpute logloss with predict_proba \n",
        "[RFmss10ne200-40Groups_96e6dfac-3dfa-11e4-9872-5a1064dce9ab] [compute_training_data_logloss] logloss_value = 0.489711423641 "
       ]
      },
      {
       "output_type": "stream",
       "stream": "stdout",
       "text": [
        "\n",
        "[RFmss10ne200-40Groups_1ef4e8dc-3de5-11e4-9872-5a1064dce9ab] [compute_training_data_logloss] conpute logloss with predict_proba \n",
        "[RFmss10ne200-40Groups_1ef4e8dc-3de5-11e4-9872-5a1064dce9ab] [compute_training_data_logloss] logloss_value = 0.490286945556 "
       ]
      },
      {
       "output_type": "stream",
       "stream": "stdout",
       "text": [
        "\n",
        "[RFmss10ne200-40Groups_6d99e818-3dcf-11e4-9872-5a1064dce9ab] [compute_training_data_logloss] conpute logloss with predict_proba \n",
        "[RFmss10ne200-40Groups_6d99e818-3dcf-11e4-9872-5a1064dce9ab] [compute_training_data_logloss] logloss_value = 0.489523456792 "
       ]
      },
      {
       "output_type": "stream",
       "stream": "stdout",
       "text": [
        "\n",
        "[RFmss10ne200-40Groups_732cc740-3df3-11e4-9872-5a1064dce9ab] [compute_training_data_logloss] conpute logloss with predict_proba \n",
        "[RFmss10ne200-40Groups_732cc740-3df3-11e4-9872-5a1064dce9ab] [compute_training_data_logloss] logloss_value = 0.489420722114 "
       ]
      },
      {
       "output_type": "stream",
       "stream": "stdout",
       "text": [
        "\n",
        "[RFmss10ne200-40Groups_e1d006ca-3d95-11e4-9872-5a1064dce9ab] [compute_training_data_logloss] conpute logloss with predict_proba \n",
        "[RFmss10ne200-40Groups_e1d006ca-3d95-11e4-9872-5a1064dce9ab] [compute_training_data_logloss] logloss_value = 0.491611067619 "
       ]
      },
      {
       "output_type": "stream",
       "stream": "stdout",
       "text": [
        "\n",
        "[RFmss10ne200-40Groups_7ac82f46-3dab-11e4-9872-5a1064dce9ab] [compute_training_data_logloss] conpute logloss with predict_proba \n",
        "[RFmss10ne200-40Groups_7ac82f46-3dab-11e4-9872-5a1064dce9ab] [compute_training_data_logloss] logloss_value = 0.490905650238 "
       ]
      },
      {
       "output_type": "stream",
       "stream": "stdout",
       "text": [
        "\n",
        "[RFmss10ne200-40Groups_55b2f6c8-3dec-11e4-9872-5a1064dce9ab] [compute_training_data_logloss] conpute logloss with predict_proba \n",
        "[RFmss10ne200-40Groups_55b2f6c8-3dec-11e4-9872-5a1064dce9ab] [compute_training_data_logloss] logloss_value = 0.490310959146 "
       ]
      },
      {
       "output_type": "stream",
       "stream": "stdout",
       "text": [
        "\n",
        "[RFmss10ne200-40Groups_ae25dd7e-3d8e-11e4-9872-5a1064dce9ab] [compute_training_data_logloss] conpute logloss with predict_proba \n",
        "[RFmss10ne200-40Groups_ae25dd7e-3d8e-11e4-9872-5a1064dce9ab] [compute_training_data_logloss] logloss_value = 0.490826040186 "
       ]
      },
      {
       "output_type": "stream",
       "stream": "stdout",
       "text": [
        "\n",
        "[RFmss10ne200-40Groups_d2df0bd6-3d4d-11e4-9872-5a1064dce9ab] [compute_training_data_logloss] conpute logloss with predict_proba \n",
        "[RFmss10ne200-40Groups_d2df0bd6-3d4d-11e4-9872-5a1064dce9ab] [compute_training_data_logloss] logloss_value = 0.342921624441 "
       ]
      },
      {
       "output_type": "stream",
       "stream": "stdout",
       "text": [
        "\n",
        "[RFmss10ne200-40Groups_e947a10e-3ddd-11e4-9872-5a1064dce9ab] [compute_training_data_logloss] conpute logloss with predict_proba \n",
        "[RFmss10ne200-40Groups_e947a10e-3ddd-11e4-9872-5a1064dce9ab] [compute_training_data_logloss] logloss_value = 0.490465930092 "
       ]
      },
      {
       "output_type": "stream",
       "stream": "stdout",
       "text": [
        "\n",
        "[RFmss10ne200-40Groups_baf2be96-3e01-11e4-9872-5a1064dce9ab] [compute_training_data_logloss] conpute logloss with predict_proba \n",
        "[RFmss10ne200-40Groups_baf2be96-3e01-11e4-9872-5a1064dce9ab] [compute_training_data_logloss] logloss_value = 0.492606988738 "
       ]
      },
      {
       "output_type": "stream",
       "stream": "stdout",
       "text": [
        "\n",
        "[RFmss10ne200-40Groups_b93c14c4-3dd6-11e4-9872-5a1064dce9ab] [compute_training_data_logloss] conpute logloss with predict_proba \n",
        "[RFmss10ne200-40Groups_b93c14c4-3dd6-11e4-9872-5a1064dce9ab] [compute_training_data_logloss] logloss_value = 0.489893264993 "
       ]
      },
      {
       "output_type": "stream",
       "stream": "stdout",
       "text": [
        "\n",
        "[RFmss10ne200-40Groups_201f9140-3dc1-11e4-9872-5a1064dce9ab] [compute_training_data_logloss] conpute logloss with predict_proba \n",
        "[RFmss10ne200-40Groups_201f9140-3dc1-11e4-9872-5a1064dce9ab] [compute_training_data_logloss] logloss_value = 0.490213062125 "
       ]
      },
      {
       "output_type": "stream",
       "stream": "stdout",
       "text": [
        "\n",
        "[RFmss10ne200-40Groups_410053ac-3dc8-11e4-9872-5a1064dce9ab] [compute_training_data_logloss] conpute logloss with predict_proba \n",
        "[RFmss10ne200-40Groups_410053ac-3dc8-11e4-9872-5a1064dce9ab] [compute_training_data_logloss] logloss_value = 0.48923141827 "
       ]
      },
      {
       "output_type": "stream",
       "stream": "stdout",
       "text": [
        "\n",
        "[RFmss10ne200-40Groups_14f5ca92-3d9d-11e4-9872-5a1064dce9ab] [compute_training_data_logloss] conpute logloss with predict_proba \n",
        "[RFmss10ne200-40Groups_14f5ca92-3d9d-11e4-9872-5a1064dce9ab] [compute_training_data_logloss] logloss_value = 0.490216921469 "
       ]
      },
      {
       "output_type": "stream",
       "stream": "stdout",
       "text": [
        "\n",
        "[RFmss10ne200-40Groups_4315ad96-3da4-11e4-9872-5a1064dce9ab] [compute_training_data_logloss] conpute logloss with predict_proba \n",
        "[RFmss10ne200-40Groups_4315ad96-3da4-11e4-9872-5a1064dce9ab] [compute_training_data_logloss] logloss_value = 0.490327346428 "
       ]
      },
      {
       "output_type": "stream",
       "stream": "stdout",
       "text": [
        "\n",
        "[RFmss10ne200-40Groups_b627f178-3db2-11e4-9872-5a1064dce9ab] [compute_training_data_logloss] conpute logloss with predict_proba \n",
        "[RFmss10ne200-40Groups_b627f178-3db2-11e4-9872-5a1064dce9ab] [compute_training_data_logloss] logloss_value = 0.491283132004 "
       ]
      },
      {
       "output_type": "stream",
       "stream": "stdout",
       "text": [
        "\n",
        "[RFmss10ne200-40Groups_9a8d6d4c-3d46-11e4-9872-5a1064dce9ab] [compute_training_data_logloss] conpute logloss with predict_proba \n",
        "[RFmss10ne200-40Groups_9a8d6d4c-3d46-11e4-9872-5a1064dce9ab] [compute_training_data_logloss] logloss_value = 0.47026071813 "
       ]
      },
      {
       "output_type": "stream",
       "stream": "stdout",
       "text": [
        "\n",
        "[RFmss10ne200-40Groups_817e0644-3d6a-11e4-9872-5a1064dce9ab] [compute_training_data_logloss] conpute logloss with predict_proba \n",
        "[RFmss10ne200-40Groups_817e0644-3d6a-11e4-9872-5a1064dce9ab] [compute_training_data_logloss] logloss_value = 0.489610638248 "
       ]
      },
      {
       "output_type": "stream",
       "stream": "stdout",
       "text": [
        "\n",
        "[RFmss10ne200-40Groups_e7007d40-3db9-11e4-9872-5a1064dce9ab] [compute_training_data_logloss] conpute logloss with predict_proba \n",
        "[RFmss10ne200-40Groups_e7007d40-3db9-11e4-9872-5a1064dce9ab] [compute_training_data_logloss] logloss_value = 0.490495934982 "
       ]
      },
      {
       "output_type": "stream",
       "stream": "stdout",
       "text": [
        "\n",
        "[RFmss10ne200-40Groups_671fc284-3d87-11e4-9872-5a1064dce9ab] [compute_training_data_logloss] conpute logloss with predict_proba \n",
        "[RFmss10ne200-40Groups_671fc284-3d87-11e4-9872-5a1064dce9ab] [compute_training_data_logloss] logloss_value = 0.491295658736 "
       ]
      },
      {
       "output_type": "stream",
       "stream": "stdout",
       "text": [
        "\n",
        "[RFmss10ne200-40Groups_061893a0-3d80-11e4-9872-5a1064dce9ab] [compute_training_data_logloss] conpute logloss with predict_proba \n",
        "[RFmss10ne200-40Groups_061893a0-3d80-11e4-9872-5a1064dce9ab] [compute_training_data_logloss] logloss_value = 0.490976931657 "
       ]
      },
      {
       "output_type": "stream",
       "stream": "stdout",
       "text": [
        "\n",
        "[RFmss10ne200-40Groups_adeba392-3d71-11e4-9872-5a1064dce9ab] [compute_training_data_logloss] conpute logloss with predict_proba \n",
        "[RFmss10ne200-40Groups_adeba392-3d71-11e4-9872-5a1064dce9ab] [compute_training_data_logloss] logloss_value = 0.489654894095 "
       ]
      },
      {
       "output_type": "stream",
       "stream": "stdout",
       "text": [
        "\n",
        "[RFmss10ne200-40Groups_e5d1d7c6-3e08-11e4-9872-5a1064dce9ab] [compute_training_data_logloss] conpute logloss with predict_proba \n",
        "[RFmss10ne200-40Groups_e5d1d7c6-3e08-11e4-9872-5a1064dce9ab] [compute_training_data_logloss] logloss_value = 0.493065503862 "
       ]
      },
      {
       "output_type": "stream",
       "stream": "stdout",
       "text": [
        "\n",
        "[RFmss10ne200-40Groups_28456df0-3d5c-11e4-9872-5a1064dce9ab] [compute_training_data_logloss] conpute logloss with predict_proba \n",
        "[RFmss10ne200-40Groups_28456df0-3d5c-11e4-9872-5a1064dce9ab] [compute_training_data_logloss] logloss_value = 0.489096889176 "
       ]
      },
      {
       "output_type": "stream",
       "stream": "stdout",
       "text": [
        "\n",
        "[RFmss10ne200-40Groups_53e6a918-3d63-11e4-9872-5a1064dce9ab] [compute_training_data_logloss] conpute logloss with predict_proba \n",
        "[RFmss10ne200-40Groups_53e6a918-3d63-11e4-9872-5a1064dce9ab] [compute_training_data_logloss] logloss_value = 0.489821594131 "
       ]
      },
      {
       "output_type": "stream",
       "stream": "stdout",
       "text": [
        "\n",
        "[RFmss10ne200-40Groups_d5b12cc4-3d78-11e4-9872-5a1064dce9ab] [compute_training_data_logloss] conpute logloss with predict_proba \n",
        "[RFmss10ne200-40Groups_d5b12cc4-3d78-11e4-9872-5a1064dce9ab] [compute_training_data_logloss] logloss_value = 0.489774171002 "
       ]
      },
      {
       "output_type": "stream",
       "stream": "stdout",
       "text": [
        "\n"
       ]
      }
     ],
     "prompt_number": 48
    },
    {
     "cell_type": "code",
     "collapsed": false,
     "input": [],
     "language": "python",
     "metadata": {},
     "outputs": []
    },
    {
     "cell_type": "code",
     "collapsed": false,
     "input": [
      "import pandas as pd"
     ],
     "language": "python",
     "metadata": {},
     "outputs": [],
     "prompt_number": 42
    },
    {
     "cell_type": "code",
     "collapsed": false,
     "input": [
      "pd.DataFrame([pd.Series(rf_logloss_dict1),pd.Series(rf_logloss_dict2)])"
     ],
     "language": "python",
     "metadata": {},
     "outputs": [
      {
       "html": [
        "<div style=\"max-height:1000px;max-width:1500px;overflow:auto;\">\n",
        "<table border=\"1\" class=\"dataframe\">\n",
        "  <thead>\n",
        "    <tr style=\"text-align: right;\">\n",
        "      <th></th>\n",
        "      <th>RFmss10ne200-40Groups_061893a0-3d80-11e4-9872-5a1064dce9ab</th>\n",
        "      <th>RFmss10ne200-40Groups_14f5ca92-3d9d-11e4-9872-5a1064dce9ab</th>\n",
        "      <th>RFmss10ne200-40Groups_1ef4e8dc-3de5-11e4-9872-5a1064dce9ab</th>\n",
        "      <th>RFmss10ne200-40Groups_201f9140-3dc1-11e4-9872-5a1064dce9ab</th>\n",
        "      <th>RFmss10ne200-40Groups_28456df0-3d5c-11e4-9872-5a1064dce9ab</th>\n",
        "      <th>RFmss10ne200-40Groups_410053ac-3dc8-11e4-9872-5a1064dce9ab</th>\n",
        "      <th>RFmss10ne200-40Groups_4315ad96-3da4-11e4-9872-5a1064dce9ab</th>\n",
        "      <th>RFmss10ne200-40Groups_53e6a918-3d63-11e4-9872-5a1064dce9ab</th>\n",
        "      <th>RFmss10ne200-40Groups_55b2f6c8-3dec-11e4-9872-5a1064dce9ab</th>\n",
        "      <th>RFmss10ne200-40Groups_671fc284-3d87-11e4-9872-5a1064dce9ab</th>\n",
        "      <th>...</th>\n",
        "      <th>RFmss10ne200-40Groups_b627f178-3db2-11e4-9872-5a1064dce9ab</th>\n",
        "      <th>RFmss10ne200-40Groups_b93c14c4-3dd6-11e4-9872-5a1064dce9ab</th>\n",
        "      <th>RFmss10ne200-40Groups_baf2be96-3e01-11e4-9872-5a1064dce9ab</th>\n",
        "      <th>RFmss10ne200-40Groups_d2df0bd6-3d4d-11e4-9872-5a1064dce9ab</th>\n",
        "      <th>RFmss10ne200-40Groups_d5b12cc4-3d78-11e4-9872-5a1064dce9ab</th>\n",
        "      <th>RFmss10ne200-40Groups_e1d006ca-3d95-11e4-9872-5a1064dce9ab</th>\n",
        "      <th>RFmss10ne200-40Groups_e5d1d7c6-3e08-11e4-9872-5a1064dce9ab</th>\n",
        "      <th>RFmss10ne200-40Groups_e7007d40-3db9-11e4-9872-5a1064dce9ab</th>\n",
        "      <th>RFmss10ne200-40Groups_e947a10e-3ddd-11e4-9872-5a1064dce9ab</th>\n",
        "      <th>RFmss10ne200-40Groups_ffca52ca-3d54-11e4-9872-5a1064dce9ab</th>\n",
        "    </tr>\n",
        "  </thead>\n",
        "  <tbody>\n",
        "    <tr>\n",
        "      <th>0</th>\n",
        "      <td> 0.494099</td>\n",
        "      <td> 0.493622</td>\n",
        "      <td> 0.493911</td>\n",
        "      <td> 0.491747</td>\n",
        "      <td> 0.492443</td>\n",
        "      <td> 0.492455</td>\n",
        "      <td> 0.493717</td>\n",
        "      <td> 0.493148</td>\n",
        "      <td> 0.491729</td>\n",
        "      <td> 0.494596</td>\n",
        "      <td>...</td>\n",
        "      <td> 0.49476</td>\n",
        "      <td> 0.493511</td>\n",
        "      <td> 0.496096</td>\n",
        "      <td> 0.491248</td>\n",
        "      <td> 0.492973</td>\n",
        "      <td> 0.493102</td>\n",
        "      <td> 0.496671</td>\n",
        "      <td> 0.493313</td>\n",
        "      <td> 0.493936</td>\n",
        "      <td> 0.491744</td>\n",
        "    </tr>\n",
        "    <tr>\n",
        "      <th>1</th>\n",
        "      <td> 0.490848</td>\n",
        "      <td> 0.490041</td>\n",
        "      <td> 0.490086</td>\n",
        "      <td> 0.489542</td>\n",
        "      <td> 0.488935</td>\n",
        "      <td> 0.488459</td>\n",
        "      <td> 0.490326</td>\n",
        "      <td> 0.489738</td>\n",
        "      <td> 0.489665</td>\n",
        "      <td> 0.491192</td>\n",
        "      <td>...</td>\n",
        "      <td> 0.49117</td>\n",
        "      <td> 0.489714</td>\n",
        "      <td> 0.492364</td>\n",
        "      <td> 0.270906</td>\n",
        "      <td> 0.489504</td>\n",
        "      <td> 0.491249</td>\n",
        "      <td> 0.492727</td>\n",
        "      <td> 0.490304</td>\n",
        "      <td> 0.490176</td>\n",
        "      <td> 0.487866</td>\n",
        "    </tr>\n",
        "  </tbody>\n",
        "</table>\n",
        "<p>2 rows \u00d7 28 columns</p>\n",
        "</div>"
       ],
       "metadata": {},
       "output_type": "pyout",
       "prompt_number": 44,
       "text": [
        "   RFmss10ne200-40Groups_061893a0-3d80-11e4-9872-5a1064dce9ab  \\\n",
        "0                                           0.494099            \n",
        "1                                           0.490848            \n",
        "\n",
        "   RFmss10ne200-40Groups_14f5ca92-3d9d-11e4-9872-5a1064dce9ab  \\\n",
        "0                                           0.493622            \n",
        "1                                           0.490041            \n",
        "\n",
        "   RFmss10ne200-40Groups_1ef4e8dc-3de5-11e4-9872-5a1064dce9ab  \\\n",
        "0                                           0.493911            \n",
        "1                                           0.490086            \n",
        "\n",
        "   RFmss10ne200-40Groups_201f9140-3dc1-11e4-9872-5a1064dce9ab  \\\n",
        "0                                           0.491747            \n",
        "1                                           0.489542            \n",
        "\n",
        "   RFmss10ne200-40Groups_28456df0-3d5c-11e4-9872-5a1064dce9ab  \\\n",
        "0                                           0.492443            \n",
        "1                                           0.488935            \n",
        "\n",
        "   RFmss10ne200-40Groups_410053ac-3dc8-11e4-9872-5a1064dce9ab  \\\n",
        "0                                           0.492455            \n",
        "1                                           0.488459            \n",
        "\n",
        "   RFmss10ne200-40Groups_4315ad96-3da4-11e4-9872-5a1064dce9ab  \\\n",
        "0                                           0.493717            \n",
        "1                                           0.490326            \n",
        "\n",
        "   RFmss10ne200-40Groups_53e6a918-3d63-11e4-9872-5a1064dce9ab  \\\n",
        "0                                           0.493148            \n",
        "1                                           0.489738            \n",
        "\n",
        "   RFmss10ne200-40Groups_55b2f6c8-3dec-11e4-9872-5a1064dce9ab  \\\n",
        "0                                           0.491729            \n",
        "1                                           0.489665            \n",
        "\n",
        "   RFmss10ne200-40Groups_671fc284-3d87-11e4-9872-5a1064dce9ab  \\\n",
        "0                                           0.494596            \n",
        "1                                           0.491192            \n",
        "\n",
        "                              ...                              \\\n",
        "0                             ...                               \n",
        "1                             ...                               \n",
        "\n",
        "   RFmss10ne200-40Groups_b627f178-3db2-11e4-9872-5a1064dce9ab  \\\n",
        "0                                            0.49476            \n",
        "1                                            0.49117            \n",
        "\n",
        "   RFmss10ne200-40Groups_b93c14c4-3dd6-11e4-9872-5a1064dce9ab  \\\n",
        "0                                           0.493511            \n",
        "1                                           0.489714            \n",
        "\n",
        "   RFmss10ne200-40Groups_baf2be96-3e01-11e4-9872-5a1064dce9ab  \\\n",
        "0                                           0.496096            \n",
        "1                                           0.492364            \n",
        "\n",
        "   RFmss10ne200-40Groups_d2df0bd6-3d4d-11e4-9872-5a1064dce9ab  \\\n",
        "0                                           0.491248            \n",
        "1                                           0.270906            \n",
        "\n",
        "   RFmss10ne200-40Groups_d5b12cc4-3d78-11e4-9872-5a1064dce9ab  \\\n",
        "0                                           0.492973            \n",
        "1                                           0.489504            \n",
        "\n",
        "   RFmss10ne200-40Groups_e1d006ca-3d95-11e4-9872-5a1064dce9ab  \\\n",
        "0                                           0.493102            \n",
        "1                                           0.491249            \n",
        "\n",
        "   RFmss10ne200-40Groups_e5d1d7c6-3e08-11e4-9872-5a1064dce9ab  \\\n",
        "0                                           0.496671            \n",
        "1                                           0.492727            \n",
        "\n",
        "   RFmss10ne200-40Groups_e7007d40-3db9-11e4-9872-5a1064dce9ab  \\\n",
        "0                                           0.493313            \n",
        "1                                           0.490304            \n",
        "\n",
        "   RFmss10ne200-40Groups_e947a10e-3ddd-11e4-9872-5a1064dce9ab  \\\n",
        "0                                           0.493936            \n",
        "1                                           0.490176            \n",
        "\n",
        "   RFmss10ne200-40Groups_ffca52ca-3d54-11e4-9872-5a1064dce9ab  \n",
        "0                                           0.491744           \n",
        "1                                           0.487866           \n",
        "\n",
        "[2 rows x 28 columns]"
       ]
      }
     ],
     "prompt_number": 44
    },
    {
     "cell_type": "code",
     "collapsed": false,
     "input": [],
     "language": "python",
     "metadata": {},
     "outputs": []
    },
    {
     "cell_type": "code",
     "collapsed": false,
     "input": [
      "rf_series.series_models[-5].compute_training_data_logloss(use_prediction=\"predict_proba\",\n",
      "                                                          sample_slice=slice(0,None,None))"
     ],
     "language": "python",
     "metadata": {},
     "outputs": [
      {
       "output_type": "stream",
       "stream": "stdout",
       "text": [
        "[RFmss10ne200-40Groups_adeba392-3d71-11e4-9872-5a1064dce9ab] [compute_training_data_logloss] conpute logloss with predict_proba \n",
        "[RFmss10ne200-40Groups_adeba392-3d71-11e4-9872-5a1064dce9ab] [compute_training_data_logloss] logloss_value = 0.490573258 "
       ]
      },
      {
       "output_type": "stream",
       "stream": "stdout",
       "text": [
        "\n"
       ]
      },
      {
       "metadata": {},
       "output_type": "pyout",
       "prompt_number": 57,
       "text": [
        "0.49057325799981127"
       ]
      }
     ],
     "prompt_number": 57
    },
    {
     "cell_type": "code",
     "collapsed": false,
     "input": [
      "rf_test = rf_series.series_models[-5]"
     ],
     "language": "python",
     "metadata": {},
     "outputs": [],
     "prompt_number": 58
    },
    {
     "cell_type": "code",
     "collapsed": false,
     "input": [
      "rf_test.create_kaggle_submit_csv()"
     ],
     "language": "python",
     "metadata": {},
     "outputs": [],
     "prompt_number": 59
    },
    {
     "cell_type": "code",
     "collapsed": false,
     "input": [
      "print rf_test.model_info"
     ],
     "language": "python",
     "metadata": {},
     "outputs": [
      {
       "output_type": "stream",
       "stream": "stdout",
       "text": [
        "{'training_dataset': 'origin', 'training_data_slices': slice(8022112, 9168128, None), 'feature_columns': ['I1', 'I2', 'I3', 'I4', 'I5', 'I6', 'I7', 'I8', 'I9', 'I10', 'I11', 'I12', 'I13', 'C1', 'C2', 'C3', 'C4', 'C5', 'C6', 'C7', 'C8', 'C9', 'C10', 'C11', 'C12', 'C13', 'C14', 'C15', 'C16', 'C17', 'C18', 'C19', 'C20', 'C21', 'C22', 'C23', 'C24', 'C25', 'C26'], 'additional_feature_columns': [], 'model_type': <class 'sklearn.ensemble.forest.RandomForestClassifier'>, 'model_paramters': {'min_samples_split': 10, 'n_estimators': 200, 'n_jobs': 12}}\n"
       ]
      }
     ],
     "prompt_number": 52
    },
    {
     "cell_type": "code",
     "collapsed": false,
     "input": [],
     "language": "python",
     "metadata": {},
     "outputs": []
    },
    {
     "cell_type": "code",
     "collapsed": false,
     "input": [
      "rf_logloss_dict"
     ],
     "language": "python",
     "metadata": {},
     "outputs": [
      {
       "metadata": {},
       "output_type": "pyout",
       "prompt_number": 45,
       "text": [
        "{'RFmss10ne200-40Groups_061893a0-3d80-11e4-9872-5a1064dce9ab': 0.489599970482471,\n",
        " 'RFmss10ne200-40Groups_14f5ca92-3d9d-11e4-9872-5a1064dce9ab': 0.48994279184044626,\n",
        " 'RFmss10ne200-40Groups_1ef4e8dc-3de5-11e4-9872-5a1064dce9ab': 0.48959618246315523,\n",
        " 'RFmss10ne200-40Groups_201f9140-3dc1-11e4-9872-5a1064dce9ab': 0.49159424300064641,\n",
        " 'RFmss10ne200-40Groups_28456df0-3d5c-11e4-9872-5a1064dce9ab': 0.39165913843461958,\n",
        " 'RFmss10ne200-40Groups_410053ac-3dc8-11e4-9872-5a1064dce9ab': 0.49061222672294413,\n",
        " 'RFmss10ne200-40Groups_4315ad96-3da4-11e4-9872-5a1064dce9ab': 0.48921711718325234,\n",
        " 'RFmss10ne200-40Groups_53e6a918-3d63-11e4-9872-5a1064dce9ab': 0.39124762673226082,\n",
        " 'RFmss10ne200-40Groups_55b2f6c8-3dec-11e4-9872-5a1064dce9ab': 0.49183123801214101,\n",
        " 'RFmss10ne200-40Groups_671fc284-3d87-11e4-9872-5a1064dce9ab': 0.48948440584835867,\n",
        " 'RFmss10ne200-40Groups_6d99e818-3dcf-11e4-9872-5a1064dce9ab': 0.49004810606423821,\n",
        " 'RFmss10ne200-40Groups_732cc740-3df3-11e4-9872-5a1064dce9ab': 0.49073638734647734,\n",
        " 'RFmss10ne200-40Groups_7ac82f46-3dab-11e4-9872-5a1064dce9ab': 0.48948073492059091,\n",
        " 'RFmss10ne200-40Groups_817e0644-3d6a-11e4-9872-5a1064dce9ab': 0.46577445786186167,\n",
        " 'RFmss10ne200-40Groups_96e6dfac-3dfa-11e4-9872-5a1064dce9ab': 0.49026521139058565,\n",
        " 'RFmss10ne200-40Groups_9a8d6d4c-3d46-11e4-9872-5a1064dce9ab': 0.49066093461810628,\n",
        " 'RFmss10ne200-40Groups_adeba392-3d71-11e4-9872-5a1064dce9ab': 0.48970086123520268,\n",
        " 'RFmss10ne200-40Groups_ae25dd7e-3d8e-11e4-9872-5a1064dce9ab': 0.48911096792733794,\n",
        " 'RFmss10ne200-40Groups_b627f178-3db2-11e4-9872-5a1064dce9ab': 0.48968930439267949,\n",
        " 'RFmss10ne200-40Groups_b93c14c4-3dd6-11e4-9872-5a1064dce9ab': 0.48960670716402344,\n",
        " 'RFmss10ne200-40Groups_baf2be96-3e01-11e4-9872-5a1064dce9ab': 0.49224846632786817,\n",
        " 'RFmss10ne200-40Groups_d2df0bd6-3d4d-11e4-9872-5a1064dce9ab': 0.49035719949286166,\n",
        " 'RFmss10ne200-40Groups_d5b12cc4-3d78-11e4-9872-5a1064dce9ab': 0.48923239076814196,\n",
        " 'RFmss10ne200-40Groups_e1d006ca-3d95-11e4-9872-5a1064dce9ab': 0.491264373707261,\n",
        " 'RFmss10ne200-40Groups_e5d1d7c6-3e08-11e4-9872-5a1064dce9ab': 0.49208316193514595,\n",
        " 'RFmss10ne200-40Groups_e7007d40-3db9-11e4-9872-5a1064dce9ab': 0.48945882383789163,\n",
        " 'RFmss10ne200-40Groups_e947a10e-3ddd-11e4-9872-5a1064dce9ab': 0.48951480239097384,\n",
        " 'RFmss10ne200-40Groups_ffca52ca-3d54-11e4-9872-5a1064dce9ab': 0.45155530208057698}"
       ]
      }
     ],
     "prompt_number": 45
    },
    {
     "cell_type": "code",
     "collapsed": false,
     "input": [],
     "language": "python",
     "metadata": {},
     "outputs": []
    },
    {
     "cell_type": "code",
     "collapsed": false,
     "input": [],
     "language": "python",
     "metadata": {},
     "outputs": []
    },
    {
     "cell_type": "code",
     "collapsed": false,
     "input": [],
     "language": "python",
     "metadata": {},
     "outputs": []
    }
   ],
   "metadata": {}
  }
 ]
}