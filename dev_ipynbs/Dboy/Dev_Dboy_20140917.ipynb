{
 "metadata": {
  "name": "",
  "signature": "sha256:9a1ce9e3b71ef96ac794d56ea4930b37c0b396d380357d9eb4ecc53f5a629891"
 },
 "nbformat": 3,
 "nbformat_minor": 0,
 "worksheets": [
  {
   "cells": [
    {
     "cell_type": "code",
     "collapsed": false,
     "input": [
      "import blz\n",
      "import numpy as np\n",
      "import os\n",
      "import scipy as sp"
     ],
     "language": "python",
     "metadata": {},
     "outputs": [],
     "prompt_number": 1
    },
    {
     "cell_type": "code",
     "collapsed": false,
     "input": [
      "# log-loss function\n",
      "def llfun(act, pred):\n",
      "    epsilon = 1e-15\n",
      "    pred = sp.maximum(epsilon, pred)\n",
      "    pred = sp.minimum(1-epsilon, pred)\n",
      "    ll = np.sum(act*sp.log(pred) + sp.subtract(1,act)*sp.log(sp.subtract(1,pred)))\n",
      "    ll = ll * -1.0/len(act)\n",
      "    return ll"
     ],
     "language": "python",
     "metadata": {},
     "outputs": [],
     "prompt_number": 2
    },
    {
     "cell_type": "code",
     "collapsed": false,
     "input": [
      "def weighting_fun(barrays, weights, log_period = 20):\n",
      "    \"\"\"\n",
      "    Inputs:\n",
      "        barrays: a list of blz.barray instances.\n",
      "        weights: a ndarray or a barray of weights for each barray in barrays\n",
      "        log_period: an integer, the period of sending log information. The default is 20.\n",
      "    Outputs:\n",
      "        weighting_result: A list, weighted barrays of original barrays. \n",
      "    \"\"\"\n",
      "    # Testing validity of inputs\n",
      "    test_instance = map(lambda barray: isinstance(barray, blz.barray), barrays)\n",
      "    test_length = len(barrays) == len(weights)\n",
      "    test_array_length = map(lambda barray: len(barray) == len(barrays[0]), barrays)\n",
      "    assert np.all(test_instance), \"Only support barray(s).\"\n",
      "    assert test_length, \"The number of columns does not mathch the length of weights.\"\n",
      "    assert np.all(test_array_length), \"All barrays should be of the same length.\"\n",
      "    assert isinstance(log_period, int), \"log_period must be integer\"\n",
      "    \n",
      "    results = []\n",
      "    for i in range(len(barrays)):\n",
      "        barray = barrays[i]\n",
      "        weight = float(weights[i])\n",
      "        temp = blz.eval(\"barray * weight\")\n",
      "        results.append(temp)\n",
      "        if i % 20 == 0:\n",
      "            print \"{i} columns have been weighted. Processing...\".format(i = i + 1)\n",
      "    print \"Process complete.\"\n",
      "    return results"
     ],
     "language": "python",
     "metadata": {},
     "outputs": [],
     "prompt_number": 3
    },
    {
     "cell_type": "code",
     "collapsed": false,
     "input": [
      "def sum_cols(results_cols):\n",
      "    result = results_cols[0]\n",
      "    for i in range(1, len(results_cols)):\n",
      "        temp = results_cols[i]\n",
      "        result = blz.eval(\"result + temp\")\n",
      "        if i % 20 == 0:\n",
      "            print \"{i} columns complete. Processing....\".format(i=i+1)\n",
      "    print \"Process complete!\"\n",
      "    return result"
     ],
     "language": "python",
     "metadata": {},
     "outputs": [],
     "prompt_number": 4
    },
    {
     "cell_type": "code",
     "collapsed": false,
     "input": [
      "def convert(score, offset, scale):\n",
      "    return 1.0/(1 + sp.exp((offset - score[:])/float(scale)))"
     ],
     "language": "python",
     "metadata": {},
     "outputs": [],
     "prompt_number": 39
    },
    {
     "cell_type": "code",
     "collapsed": false,
     "input": [
      "def array_to_submit_string(Id, results):\n",
      "    assert len(Id) == len(results), \"The number of id and predict results do not match.\"\n",
      "    pairs = zip(Id[:], results[:])\n",
      "    results = [(\"{0:.0f}\".format(i), str(r)) for i, r in pairs]\n",
      "    submits = map(lambda rr: \",\".join(rr), results)\n",
      "    return \"\\n\".join(submits)"
     ],
     "language": "python",
     "metadata": {},
     "outputs": [],
     "prompt_number": 6
    },
    {
     "cell_type": "code",
     "collapsed": false,
     "input": [
      "train_confidence_score = []\n",
      "for modeldir in os.listdir(\"/Users/DboyLiao/Documents/kaggle/DisplayAdvertisingChallenge/data/models_c3h3/\"):\n",
      "    if modeldir.startswith(\"LSVM\"):\n",
      "        rootdir = \"/Users/DboyLiao/Documents/kaggle/DisplayAdvertisingChallenge/data/models_c3h3/\" + modeldir + \"/all_training_prediction/decision_function\"\n",
      "        temp = blz.open(rootdir)\n",
      "        train_confidence_score.append(temp)"
     ],
     "language": "python",
     "metadata": {},
     "outputs": [],
     "prompt_number": 13
    },
    {
     "cell_type": "code",
     "collapsed": false,
     "input": [
      "test_confidence_score = []\n",
      "for modeldir in os.listdir(\"/Users/DboyLiao/Documents/kaggle/DisplayAdvertisingChallenge/data/models_c3h3/\"):\n",
      "    if modeldir.startswith(\"LSVM\"):\n",
      "        rootdir = \"/Users/DboyLiao/Documents/kaggle/DisplayAdvertisingChallenge/data/models_c3h3/\" + modeldir + \"/all_training_prediction/decision_function\"\n",
      "        temp = blz.open(rootdir)\n",
      "        test_confidence_score.append(temp)"
     ],
     "language": "python",
     "metadata": {},
     "outputs": [],
     "prompt_number": 14
    },
    {
     "cell_type": "code",
     "collapsed": false,
     "input": [
      "Label = blz.open(\"/Users/DboyLiao/Documents/kaggle/DisplayAdvertisingChallenge/data/train_blzs/Label/\")"
     ],
     "language": "python",
     "metadata": {},
     "outputs": [],
     "prompt_number": 54
    },
    {
     "cell_type": "code",
     "collapsed": false,
     "input": [
      "from scipy.optimize import minimize\n",
      "\n",
      "def test(x, a, b):\n",
      "    return x**2 + a**x + b"
     ],
     "language": "python",
     "metadata": {},
     "outputs": [],
     "prompt_number": 26
    },
    {
     "cell_type": "code",
     "collapsed": false,
     "input": [
      "res = minimize(test, 1, (3, 2))"
     ],
     "language": "python",
     "metadata": {},
     "outputs": [],
     "prompt_number": 30
    },
    {
     "cell_type": "code",
     "collapsed": false,
     "input": [
      "res"
     ],
     "language": "python",
     "metadata": {},
     "outputs": [
      {
       "metadata": {},
       "output_type": "pyout",
       "prompt_number": 32,
       "text": [
        "   status: 0\n",
        "  success: True\n",
        "     njev: 7\n",
        "     nfev: 21\n",
        " hess_inv: array([[ 0.35627423]])\n",
        "      fun: 2.8028736566892727\n",
        "        x: array([-0.36702705])\n",
        "  message: 'Optimization terminated successfully.'\n",
        "      jac: array([ 0.])"
       ]
      }
     ],
     "prompt_number": 32
    },
    {
     "cell_type": "code",
     "collapsed": false,
     "input": [
      "def converted_loss(par, data, label, weight=None):\n",
      "    offset, scale = par\n",
      "    test = np.array(map(len, data)) == len(data[0])\n",
      "    assert np.all(test), \"The # of predicted results are not the same among models.\"\n",
      "    num_of_models = len(data)\n",
      "    num_of_predictions = len(data[0])\n",
      "    if weight == None:\n",
      "        weight = np.array([1.0/len(data) for i in range(len(data))])\n",
      "    converted_results = np.empty((num_of_models, num_of_predictions))\n",
      "    for col_ind in range(num_of_models):\n",
      "        print \"Processing model No.{col_ind}\".format(col_ind = col_ind + 1)\n",
      "        temp = np.apply_along_axis(lambda xx: convert(xx, offset, scale), 0, data[col_ind][:])\n",
      "        print \"temp:\", temp\n",
      "        converted_results[col_ind] = temp\n",
      "    loss_results = np.apply_along_axis(lambda xx: llfun(label, xx), 0, converted_results)\n",
      "    return np.inner(loss_results, weight)    "
     ],
     "language": "python",
     "metadata": {},
     "outputs": [],
     "prompt_number": 59
    },
    {
     "cell_type": "code",
     "collapsed": false,
     "input": [
      "%time a = converted_loss((1, 2), train_confidence_score, Label)"
     ],
     "language": "python",
     "metadata": {},
     "outputs": [
      {
       "output_type": "stream",
       "stream": "stdout",
       "text": [
        "Processing model No.1\n",
        "temp:"
       ]
      },
      {
       "output_type": "stream",
       "stream": "stdout",
       "text": [
        " [ 0.33969179  0.33455463  0.3447848  ...,  0.3416779   0.30843467\n",
        "  0.31671152]\n",
        "Processing model No.2"
       ]
      },
      {
       "output_type": "stream",
       "stream": "stdout",
       "text": [
        "\n",
        "temp:"
       ]
      },
      {
       "output_type": "stream",
       "stream": "stdout",
       "text": [
        " [ 0.34104567  0.33715073  0.3456284  ...,  0.34370303  0.30917945\n",
        "  0.32083637]\n",
        "Processing model No.3"
       ]
      },
      {
       "output_type": "stream",
       "stream": "stdout",
       "text": [
        "\n",
        "temp:"
       ]
      },
      {
       "output_type": "stream",
       "stream": "stdout",
       "text": [
        " [ 0.33508331  0.3349998   0.34752178 ...,  0.33719912  0.31108349\n",
        "  0.32117477]\n",
        "Processing model No.4"
       ]
      },
      {
       "output_type": "stream",
       "stream": "stdout",
       "text": [
        "\n",
        "temp:"
       ]
      },
      {
       "output_type": "stream",
       "stream": "stdout",
       "text": [
        " [ 0.3392827   0.33486431  0.34495531 ...,  0.34211604  0.30817111\n",
        "  0.3182522 ]\n",
        "Processing model No.5"
       ]
      },
      {
       "output_type": "stream",
       "stream": "stdout",
       "text": [
        "\n",
        "temp:"
       ]
      },
      {
       "output_type": "stream",
       "stream": "stdout",
       "text": [
        " [ 0.33998543  0.33960624  0.3474698  ...,  0.3408579   0.31224998\n",
        "  0.32499299]\n",
        "Processing model No.6"
       ]
      },
      {
       "output_type": "stream",
       "stream": "stdout",
       "text": [
        "\n",
        "temp:"
       ]
      },
      {
       "output_type": "stream",
       "stream": "stdout",
       "text": [
        " [ 0.34483853  0.34178461  0.35032334 ...,  0.34832869  0.31125693\n",
        "  0.3262981 ]\n",
        "Processing model No.7"
       ]
      },
      {
       "output_type": "stream",
       "stream": "stdout",
       "text": [
        "\n",
        "temp:"
       ]
      },
      {
       "output_type": "stream",
       "stream": "stdout",
       "text": [
        " [ 0.33822904  0.33699922  0.35027866 ...,  0.34128282  0.31192238\n",
        "  0.32466069]\n",
        "Processing model No.8"
       ]
      },
      {
       "output_type": "stream",
       "stream": "stdout",
       "text": [
        "\n",
        "temp:"
       ]
      },
      {
       "output_type": "stream",
       "stream": "stdout",
       "text": [
        " [ 0.34384802  0.33881672  0.34896438 ...,  0.34656021  0.30841091\n",
        "  0.32209027]\n",
        "Processing model No.9"
       ]
      },
      {
       "output_type": "stream",
       "stream": "stdout",
       "text": [
        "\n",
        "temp:"
       ]
      },
      {
       "output_type": "stream",
       "stream": "stdout",
       "text": [
        " [ 0.33999484  0.33621879  0.34893044 ...,  0.34334195  0.30986061\n",
        "  0.32219019]\n",
        "Processing model No.10"
       ]
      },
      {
       "output_type": "stream",
       "stream": "stdout",
       "text": [
        "\n",
        "temp:"
       ]
      },
      {
       "output_type": "stream",
       "stream": "stdout",
       "text": [
        " [ 0.33934739  0.33743713  0.34997611 ...,  0.34119466  0.31056719\n",
        "  0.32485447]\n",
        "Processing model No.11"
       ]
      },
      {
       "output_type": "stream",
       "stream": "stdout",
       "text": [
        "\n",
        "temp:"
       ]
      },
      {
       "output_type": "stream",
       "stream": "stdout",
       "text": [
        " [ 0.34090436  0.33661552  0.34563469 ...,  0.34407909  0.31044552\n",
        "  0.3201422 ]\n",
        "Processing model No.12"
       ]
      },
      {
       "output_type": "stream",
       "stream": "stdout",
       "text": [
        "\n",
        "temp:"
       ]
      },
      {
       "output_type": "stream",
       "stream": "stdout",
       "text": [
        " [ 0.33772165  0.33435197  0.34701426 ...,  0.34097618  0.3077496\n",
        "  0.31630373]\n",
        "Processing model No.13"
       ]
      },
      {
       "output_type": "stream",
       "stream": "stdout",
       "text": [
        "\n",
        "temp:"
       ]
      },
      {
       "output_type": "stream",
       "stream": "stdout",
       "text": [
        " [ 0.34554146  0.34156269  0.34935457 ...,  0.3490349   0.31029244\n",
        "  0.3247945 ]\n",
        "Processing model No.14"
       ]
      },
      {
       "output_type": "stream",
       "stream": "stdout",
       "text": [
        "\n",
        "temp:"
       ]
      },
      {
       "output_type": "stream",
       "stream": "stdout",
       "text": [
        " [ 0.34183797  0.33702415  0.34430906 ...,  0.3431308   0.30950978\n",
        "  0.31847669]\n",
        "Processing model No.15"
       ]
      },
      {
       "output_type": "stream",
       "stream": "stdout",
       "text": [
        "\n",
        "temp:"
       ]
      },
      {
       "output_type": "stream",
       "stream": "stdout",
       "text": [
        " [ 0.34455781  0.34085719  0.34798725 ...,  0.34763186  0.31235269\n",
        "  0.32226909]\n",
        "Processing model No.16"
       ]
      },
      {
       "output_type": "stream",
       "stream": "stdout",
       "text": [
        "\n",
        "temp:"
       ]
      },
      {
       "output_type": "stream",
       "stream": "stdout",
       "text": [
        " [ 0.33383149  0.33723378  0.35379199 ...,  0.33835257  0.31417039\n",
        "  0.32320426]\n",
        "Processing model No.17"
       ]
      },
      {
       "output_type": "stream",
       "stream": "stdout",
       "text": [
        "\n",
        "temp:"
       ]
      },
      {
       "output_type": "stream",
       "stream": "stdout",
       "text": [
        " [ 0.34232584  0.34022322  0.34764639 ...,  0.34360775  0.3091798\n",
        "  0.32440351]\n",
        "Processing model No.18"
       ]
      },
      {
       "output_type": "stream",
       "stream": "stdout",
       "text": [
        "\n",
        "temp:"
       ]
      },
      {
       "output_type": "stream",
       "stream": "stdout",
       "text": [
        " [ 0.3351853   0.33824055  0.35392435 ...,  0.33948846  0.31421664\n",
        "  0.32414148]\n",
        "Processing model No.19"
       ]
      },
      {
       "output_type": "stream",
       "stream": "stdout",
       "text": [
        "\n",
        "temp:"
       ]
      },
      {
       "output_type": "stream",
       "stream": "stdout",
       "text": [
        " [ 0.33457345  0.33446333  0.3457849  ...,  0.33585324  0.31273612\n",
        "  0.32053065]\n",
        "Processing model No.20"
       ]
      },
      {
       "output_type": "stream",
       "stream": "stdout",
       "text": [
        "\n",
        "temp:"
       ]
      },
      {
       "output_type": "stream",
       "stream": "stdout",
       "text": [
        " [ 0.33888548  0.33523267  0.34568547 ...,  0.34110915  0.30802166\n",
        "  0.31909281]\n",
        "Processing model No.21"
       ]
      },
      {
       "output_type": "stream",
       "stream": "stdout",
       "text": [
        "\n",
        "temp:"
       ]
      },
      {
       "output_type": "stream",
       "stream": "stdout",
       "text": [
        " [ 0.34135571  0.3365277   0.34462559 ...,  0.34422161  0.30689196\n",
        "  0.31652481]\n",
        "Processing model No.22"
       ]
      },
      {
       "output_type": "stream",
       "stream": "stdout",
       "text": [
        "\n",
        "temp:"
       ]
      },
      {
       "output_type": "stream",
       "stream": "stdout",
       "text": [
        " [ 0.33650987  0.3360328   0.34818535 ...,  0.33826143  0.31188179\n",
        "  0.32293815]\n",
        "Processing model No.23"
       ]
      },
      {
       "output_type": "stream",
       "stream": "stdout",
       "text": [
        "\n",
        "temp:"
       ]
      },
      {
       "output_type": "stream",
       "stream": "stdout",
       "text": [
        " [ 0.34284701  0.33725884  0.34457896 ...,  0.34445065  0.30921975\n",
        "  0.31877967]\n",
        "Processing model No.24"
       ]
      },
      {
       "output_type": "stream",
       "stream": "stdout",
       "text": [
        "\n",
        "temp:"
       ]
      },
      {
       "output_type": "stream",
       "stream": "stdout",
       "text": [
        " [ 0.34000932  0.33346366  0.34111007 ...,  0.34082282  0.30756828\n",
        "  0.31432689]\n",
        "Processing model No.25"
       ]
      }
     ]
    },
    {
     "cell_type": "code",
     "collapsed": false,
     "input": [
      "res = minimize(convert, (1 ,1), (train_confidence_score, Label))"
     ],
     "language": "python",
     "metadata": {},
     "outputs": [],
     "prompt_number": 46
    },
    {
     "cell_type": "code",
     "collapsed": false,
     "input": [
      "a[:]"
     ],
     "language": "python",
     "metadata": {},
     "outputs": [
      {
       "metadata": {},
       "output_type": "pyout",
       "prompt_number": 51,
       "text": [
        "array([[ -1.72723371e-077,  -1.72723371e-077],\n",
        "       [  4.24395920e-314,   5.42528352e+015],\n",
        "       [  7.49115349e-067,   1.72368771e-042]])"
       ]
      }
     ],
     "prompt_number": 51
    },
    {
     "cell_type": "code",
     "collapsed": false,
     "input": [
      "a"
     ],
     "language": "python",
     "metadata": {},
     "outputs": [
      {
       "metadata": {},
       "output_type": "pyout",
       "prompt_number": 48,
       "text": [
        "array([[ -1.72723371e-077,  -1.72723371e-077],\n",
        "       [  4.24395920e-314,   5.42528352e+015],\n",
        "       [  7.49115349e-067,   1.72368771e-042]])"
       ]
      }
     ],
     "prompt_number": 48
    },
    {
     "cell_type": "code",
     "collapsed": false,
     "input": [],
     "language": "python",
     "metadata": {},
     "outputs": []
    }
   ],
   "metadata": {}
  }
 ]
}