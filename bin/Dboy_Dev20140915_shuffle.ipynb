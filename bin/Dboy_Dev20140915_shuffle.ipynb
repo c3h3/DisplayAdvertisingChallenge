{
 "metadata": {
  "name": "",
  "signature": "sha256:a5a3bb67f035550c8ae122b0c2232197c7a1729479ae67c5f597a5c4de864067"
 },
 "nbformat": 3,
 "nbformat_minor": 0,
 "worksheets": [
  {
   "cells": [
    {
     "cell_type": "code",
     "collapsed": false,
     "input": [
      "import numpy as np"
     ],
     "language": "python",
     "metadata": {},
     "outputs": [],
     "prompt_number": 1
    },
    {
     "cell_type": "code",
     "collapsed": false,
     "input": [
      "a = np.array([[1,2,3],[4,5,6]])"
     ],
     "language": "python",
     "metadata": {},
     "outputs": [],
     "prompt_number": 2
    },
    {
     "cell_type": "code",
     "collapsed": false,
     "input": [
      "a"
     ],
     "language": "python",
     "metadata": {},
     "outputs": [
      {
       "metadata": {},
       "output_type": "pyout",
       "prompt_number": 3,
       "text": [
        "array([[1, 2, 3],\n",
        "       [4, 5, 6]])"
       ]
      }
     ],
     "prompt_number": 3
    },
    {
     "cell_type": "code",
     "collapsed": false,
     "input": [
      "a.T"
     ],
     "language": "python",
     "metadata": {},
     "outputs": [
      {
       "metadata": {},
       "output_type": "pyout",
       "prompt_number": 4,
       "text": [
        "array([[1, 4],\n",
        "       [2, 5],\n",
        "       [3, 6]])"
       ]
      }
     ],
     "prompt_number": 4
    },
    {
     "cell_type": "code",
     "collapsed": false,
     "input": [
      "# It will take approximately 20s~40s to finish the job.\n",
      "def shuffle_barray(barray, chunck_size):\n",
      "    barray_shuffled = blz.barray(np.array([0 for i in range(len(barray))]))\n",
      "    if len(barray) % chunck_size == 0:\n",
      "        max_ind = len(barray) / chunck_size\n",
      "    else:\n",
      "        max_ind = (len(barray) / chunck_size) + 1\n",
      "    rand_ind = [i for i in range(max_ind)]\n",
      "    np.random.shuffle(rand_ind)\n",
      "    for idx in rand_ind:\n",
      "        temp = barray[idx*chunck_size:(idx + 1)*chunck_size]\n",
      "        np.random.shuffle(temp)\n",
      "        if idx == max_ind - 1:\n",
      "            barray_shuffled[idx*chunck_size:(idx*chunck_size + len(barray)%chunck_size)] = temp\n",
      "        else:\n",
      "            barray_shuffled[idx*chunck_size:(idx + 1)*chunck_size] = temp\n",
      "    return barray_shuffled"
     ],
     "language": "python",
     "metadata": {},
     "outputs": [],
     "prompt_number": 8
    },
    {
     "cell_type": "code",
     "collapsed": false,
     "input": [
      "a = np.array([1, 1, 2, 3, 4, 1])\n",
      "b = np.array([2, 3, 1, 1, 4, 2])"
     ],
     "language": "python",
     "metadata": {},
     "outputs": [],
     "prompt_number": 10
    },
    {
     "cell_type": "code",
     "collapsed": false,
     "input": [
      "values_a, position_a, index_a = np.unique(a, return_inverse=True, return_index=True)"
     ],
     "language": "python",
     "metadata": {},
     "outputs": [],
     "prompt_number": 11
    },
    {
     "cell_type": "code",
     "collapsed": false,
     "input": [
      "print values_a\n",
      "print position_a\n",
      "print index_a"
     ],
     "language": "python",
     "metadata": {},
     "outputs": [
      {
       "output_type": "stream",
       "stream": "stdout",
       "text": [
        "[1 2 3 4]\n",
        "[0 2 3 4]\n",
        "[0 0 1 2 3 0]\n"
       ]
      }
     ],
     "prompt_number": 13
    },
    {
     "cell_type": "code",
     "collapsed": false,
     "input": [
      "values_b, position_b, index_b = np.unique(b, return_inverse=True, return_index=True)"
     ],
     "language": "python",
     "metadata": {},
     "outputs": [],
     "prompt_number": 14
    },
    {
     "cell_type": "code",
     "collapsed": false,
     "input": [
      "print values_b\n",
      "print position_b\n",
      "print index_b"
     ],
     "language": "python",
     "metadata": {},
     "outputs": [
      {
       "output_type": "stream",
       "stream": "stdout",
       "text": [
        "[1 2 3 4]\n",
        "[2 0 1 4]\n",
        "[1 2 0 0 3 1]\n"
       ]
      }
     ],
     "prompt_number": 15
    },
    {
     "cell_type": "code",
     "collapsed": false,
     "input": [
      "temp = np.concatenate([index_a, index_b])\n",
      "values_temp, position_temp, index_temp = np.unique(temp, return_inverse=True, return_index=True)"
     ],
     "language": "python",
     "metadata": {},
     "outputs": [],
     "prompt_number": 18
    },
    {
     "cell_type": "code",
     "collapsed": false,
     "input": [],
     "language": "python",
     "metadata": {},
     "outputs": [
      {
       "metadata": {},
       "output_type": "pyout",
       "prompt_number": 19,
       "text": [
        "array([0, 0, 1, 2, 3, 0, 1, 2, 0, 0, 3, 1])"
       ]
      }
     ],
     "prompt_number": 19
    },
    {
     "cell_type": "code",
     "collapsed": false,
     "input": [],
     "language": "python",
     "metadata": {},
     "outputs": []
    }
   ],
   "metadata": {}
  }
 ]
}