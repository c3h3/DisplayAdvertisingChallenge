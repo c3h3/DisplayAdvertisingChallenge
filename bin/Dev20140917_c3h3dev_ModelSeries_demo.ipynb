{
 "metadata": {
  "name": "",
  "signature": "sha256:48b81bef382ecf868cdcaf227e756fe03701a5863dba8f17866484fdfb71a11c"
 },
 "nbformat": 3,
 "nbformat_minor": 0,
 "worksheets": [
  {
   "cells": [
    {
     "cell_type": "markdown",
     "metadata": {},
     "source": [
      "## Shogun NeuralNet:\n",
      "- http://www.shogun-toolbox.org/static/notebook/current/neuralnets_digits.html\n",
      "- http://www.shogun-toolbox.org/static/notebook/current/rbms_dbns.html"
     ]
    },
    {
     "cell_type": "markdown",
     "metadata": {},
     "source": [
      "## LMNN:\n",
      "- http://shogun-toolbox.org/static/notebook/current/LMNN.html\n"
     ]
    },
    {
     "cell_type": "markdown",
     "metadata": {},
     "source": [
      "## Shogun:\n",
      "- http://www.shogun-toolbox.org/page/documentation/notebook\n",
      "- http://www.shogun-toolbox.org/static/notebook/current/gaussian_processes.html\n"
     ]
    },
    {
     "cell_type": "markdown",
     "metadata": {},
     "source": [
      "\n"
     ]
    },
    {
     "cell_type": "markdown",
     "metadata": {},
     "source": [
      "## Bagging:\n",
      "- http://nbviewer.ipython.org/github/ga-students/DS_HK_2/blob/gh-pages/notebooks/14%20-%20Random%20Forests.ipynb"
     ]
    },
    {
     "cell_type": "code",
     "collapsed": false,
     "input": [],
     "language": "python",
     "metadata": {},
     "outputs": [],
     "prompt_number": 0
    },
    {
     "cell_type": "code",
     "collapsed": false,
     "input": [],
     "language": "python",
     "metadata": {},
     "outputs": [],
     "prompt_number": 0
    },
    {
     "cell_type": "code",
     "collapsed": false,
     "input": [
      "from hunkaggle.criteo import tools\n",
      "from hunkaggle.criteo.settings import TRAINING_COLUMN_NAMES, TESTING_COLUMN_NAMES\n",
      "import blz, os\n",
      "import numpy as np\n",
      "from hunkaggle.criteo.settings import MODELS_PATH, SUBMITS_PATH\n"
     ],
     "language": "python",
     "metadata": {},
     "outputs": [],
     "prompt_number": 1
    },
    {
     "cell_type": "code",
     "collapsed": false,
     "input": [
      "from hunkaggle.criteo.settings import SOURCE_DATA_DIR"
     ],
     "language": "python",
     "metadata": {},
     "outputs": [],
     "prompt_number": 2
    },
    {
     "cell_type": "code",
     "collapsed": true,
     "input": [
      "svm_models_v1_models_path = os.path.join(os.path.join(SOURCE_DATA_DIR, \"svm_models_v1\"),\"models\")"
     ],
     "language": "python",
     "metadata": {},
     "outputs": [],
     "prompt_number": 3
    },
    {
     "cell_type": "code",
     "collapsed": false,
     "input": [
      "from hunkaggle.criteo.models import *"
     ],
     "language": "python",
     "metadata": {},
     "outputs": [],
     "prompt_number": 4
    },
    {
     "cell_type": "code",
     "collapsed": false,
     "input": [
      "svm_models_v1_models_path = os.path.join(os.path.join(SOURCE_DATA_DIR, \"svm_models_v1\"),\"models\")"
     ],
     "language": "python",
     "metadata": {},
     "outputs": [],
     "prompt_number": 5
    },
    {
     "cell_type": "code",
     "collapsed": false,
     "input": [],
     "language": "python",
     "metadata": {},
     "outputs": [],
     "prompt_number": 8
    },
    {
     "cell_type": "code",
     "collapsed": false,
     "input": [
      "svm_series = ModelSeries(series_name=\"LSVM40Groups\", series_home=svm_models_v1_models_path)"
     ],
     "language": "python",
     "metadata": {},
     "outputs": [],
     "prompt_number": 6
    },
    {
     "cell_type": "code",
     "collapsed": false,
     "input": [
      "svm_series.series_models[:3]"
     ],
     "language": "python",
     "metadata": {},
     "outputs": [
      {
       "metadata": {},
       "output_type": "pyout",
       "prompt_number": 8,
       "text": [
        "[LSVM40Groups_4e925d02-3c9d-11e4-b2c2-1e5ff811d93a : {'training_dataset': 'origin', 'training_data_slices': slice(14898208, 16044224, None), 'feature_columns': ['I1', 'I2', 'I3', 'I4', 'I5', 'I6', 'I7', 'I8', 'I9', 'I10', 'I11', 'I12', 'I13', 'C1', 'C2', 'C3', 'C4', 'C5', 'C6', 'C7', 'C8', 'C9', 'C10', 'C11', 'C12', 'C13', 'C14', 'C15', 'C16', 'C17', 'C18', 'C19', 'C20', 'C21', 'C22', 'C23', 'C24', 'C25', 'C26'], 'additional_feature_columns': [], 'model_type': <class 'sklearn.svm.classes.LinearSVC'>, 'model_paramters': {'dual': False}},\n",
        " LSVM40Groups_98795626-3ca4-11e4-b7d7-1e5ff811d93a : {'training_dataset': 'origin', 'training_data_slices': slice(37818528, 38964544, None), 'feature_columns': ['I1', 'I2', 'I3', 'I4', 'I5', 'I6', 'I7', 'I8', 'I9', 'I10', 'I11', 'I12', 'I13', 'C1', 'C2', 'C3', 'C4', 'C5', 'C6', 'C7', 'C8', 'C9', 'C10', 'C11', 'C12', 'C13', 'C14', 'C15', 'C16', 'C17', 'C18', 'C19', 'C20', 'C21', 'C22', 'C23', 'C24', 'C25', 'C26'], 'additional_feature_columns': [], 'model_type': <class 'sklearn.svm.classes.LinearSVC'>, 'model_paramters': {'dual': False}},\n",
        " LSVM40Groups_6cfbc9ea-3c9d-11e4-b3ae-1e5ff811d93a : {'training_dataset': 'origin', 'training_data_slices': slice(5730080, 6876096, None), 'feature_columns': ['I1', 'I2', 'I3', 'I4', 'I5', 'I6', 'I7', 'I8', 'I9', 'I10', 'I11', 'I12', 'I13', 'C1', 'C2', 'C3', 'C4', 'C5', 'C6', 'C7', 'C8', 'C9', 'C10', 'C11', 'C12', 'C13', 'C14', 'C15', 'C16', 'C17', 'C18', 'C19', 'C20', 'C21', 'C22', 'C23', 'C24', 'C25', 'C26'], 'additional_feature_columns': [], 'model_type': <class 'sklearn.svm.classes.LinearSVC'>, 'model_paramters': {'dual': False}}]"
       ]
      }
     ],
     "prompt_number": 8
    },
    {
     "cell_type": "code",
     "collapsed": false,
     "input": [
      "prob_func=lambda xx:erf(0.3*np.subtract(xx,-1.15))"
     ],
     "language": "python",
     "metadata": {},
     "outputs": []
    },
    {
     "cell_type": "code",
     "collapsed": false,
     "input": [
      "1/np.subtract(1,-np.exp(np.subtract(0.725,xx))"
     ],
     "language": "python",
     "metadata": {},
     "outputs": []
    },
    {
     "cell_type": "code",
     "collapsed": false,
     "input": [
      "erf(1.*np.subtract(xx,-0.625)"
     ],
     "language": "python",
     "metadata": {},
     "outputs": []
    },
    {
     "cell_type": "code",
     "collapsed": false,
     "input": [],
     "language": "python",
     "metadata": {},
     "outputs": [
      {
       "metadata": {},
       "output_type": "pyout",
       "prompt_number": 19,
       "text": [
        "<ufunc 'exp'>"
       ]
      }
     ],
     "prompt_number": 19
    },
    {
     "cell_type": "code",
     "collapsed": false,
     "input": [
      "logloss_dict = svm_series.compute_training_data_logloss(prob_func=lambda xx:0.5 + 0.5*erf(xx/(2**0.5)),\n",
      "                                                        use_prediction=\"decision_function\",\n",
      "                                                        sample_slice  = slice(0,1000000,None))"
     ],
     "language": "python",
     "metadata": {},
     "outputs": [
      {
       "output_type": "stream",
       "stream": "stdout",
       "text": [
        "[LSVM40Groups_4e925d02-3c9d-11e4-b2c2-1e5ff811d93a] [compute_training_data_logloss] conpute logloss with decision_function \n",
        "[LSVM40Groups_4e925d02-3c9d-11e4-b2c2-1e5ff811d93a] [compute_training_data_logloss] logloss_value = 0.5669581302 "
       ]
      },
      {
       "output_type": "stream",
       "stream": "stdout",
       "text": [
        "\n",
        "[LSVM40Groups_98795626-3ca4-11e4-b7d7-1e5ff811d93a] [compute_training_data_logloss] conpute logloss with decision_function \n",
        "[LSVM40Groups_98795626-3ca4-11e4-b7d7-1e5ff811d93a] [compute_training_data_logloss] logloss_value = 0.563625682599 "
       ]
      },
      {
       "output_type": "stream",
       "stream": "stdout",
       "text": [
        "\n",
        "[LSVM40Groups_6cfbc9ea-3c9d-11e4-b3ae-1e5ff811d93a] [compute_training_data_logloss] conpute logloss with decision_function \n",
        "[LSVM40Groups_6cfbc9ea-3c9d-11e4-b3ae-1e5ff811d93a] [compute_training_data_logloss] logloss_value = 0.565065847007 "
       ]
      },
      {
       "output_type": "stream",
       "stream": "stdout",
       "text": [
        "\n",
        "[LSVM40Groups_65c582d8-3c9d-11e4-97fc-1e5ff811d93a] [compute_training_data_logloss] conpute logloss with decision_function \n",
        "[LSVM40Groups_65c582d8-3c9d-11e4-97fc-1e5ff811d93a] [compute_training_data_logloss] logloss_value = 0.563517926795 "
       ]
      },
      {
       "output_type": "stream",
       "stream": "stdout",
       "text": [
        "\n",
        "[LSVM40Groups_0c8989ca-3ca3-11e4-87dc-1e5ff811d93a] [compute_training_data_logloss] conpute logloss with decision_function \n",
        "[LSVM40Groups_0c8989ca-3ca3-11e4-87dc-1e5ff811d93a] [compute_training_data_logloss] logloss_value = 0.56445388254 "
       ]
      },
      {
       "output_type": "stream",
       "stream": "stdout",
       "text": [
        "\n",
        "[LSVM40Groups_601b8f68-3ca1-11e4-97fc-1e5ff811d93a] [compute_training_data_logloss] conpute logloss with decision_function \n",
        "[LSVM40Groups_601b8f68-3ca1-11e4-97fc-1e5ff811d93a] [compute_training_data_logloss] logloss_value = 0.566953981258 "
       ]
      },
      {
       "output_type": "stream",
       "stream": "stdout",
       "text": [
        "\n",
        "[LSVM40Groups_1704ade6-3ca1-11e4-87dc-1e5ff811d93a] [compute_training_data_logloss] conpute logloss with decision_function \n",
        "[LSVM40Groups_1704ade6-3ca1-11e4-87dc-1e5ff811d93a] [compute_training_data_logloss] logloss_value = 0.564819596741 "
       ]
      },
      {
       "output_type": "stream",
       "stream": "stdout",
       "text": [
        "\n",
        "[LSVM40Groups_3305f8ea-3ca3-11e4-a445-1e5ff811d93a] [compute_training_data_logloss] conpute logloss with decision_function \n",
        "[LSVM40Groups_3305f8ea-3ca3-11e4-a445-1e5ff811d93a] [compute_training_data_logloss] logloss_value = 0.565781961291 "
       ]
      },
      {
       "output_type": "stream",
       "stream": "stdout",
       "text": [
        "\n",
        "[LSVM40Groups_54b83064-3c9b-11e4-87dc-1e5ff811d93a] [compute_training_data_logloss] conpute logloss with decision_function \n",
        "[LSVM40Groups_54b83064-3c9b-11e4-87dc-1e5ff811d93a] [compute_training_data_logloss] logloss_value = 0.564350685292 "
       ]
      },
      {
       "output_type": "stream",
       "stream": "stdout",
       "text": [
        "\n",
        "[LSVM40Groups_6e0417e8-3c9d-11e4-94ef-1e5ff811d93a] [compute_training_data_logloss] conpute logloss with decision_function \n",
        "[LSVM40Groups_6e0417e8-3c9d-11e4-94ef-1e5ff811d93a] [compute_training_data_logloss] logloss_value = 0.564418705068 "
       ]
      },
      {
       "output_type": "stream",
       "stream": "stdout",
       "text": [
        "\n",
        "[LSVM40Groups_0baa5160-3ca3-11e4-b7d7-1e5ff811d93a] [compute_training_data_logloss] conpute logloss with decision_function "
       ]
      },
      {
       "output_type": "stream",
       "stream": "stdout",
       "text": [
        "\n",
        "[LSVM40Groups_0baa5160-3ca3-11e4-b7d7-1e5ff811d93a] [compute_training_data_logloss] logloss_value = 0.565379351254 "
       ]
      },
      {
       "output_type": "stream",
       "stream": "stdout",
       "text": [
        "\n",
        "[LSVM40Groups_5368a0d2-3c9f-11e4-97fc-1e5ff811d93a] [compute_training_data_logloss] conpute logloss with decision_function "
       ]
      },
      {
       "output_type": "stream",
       "stream": "stdout",
       "text": [
        "\n",
        "[LSVM40Groups_5368a0d2-3c9f-11e4-97fc-1e5ff811d93a] [compute_training_data_logloss] logloss_value = 0.565853482804 "
       ]
      },
      {
       "output_type": "stream",
       "stream": "stdout",
       "text": [
        "\n",
        "[LSVM40Groups_54b82b3c-3c9b-11e4-b3ae-1e5ff811d93a] [compute_training_data_logloss] conpute logloss with decision_function \n",
        "[LSVM40Groups_54b82b3c-3c9b-11e4-b3ae-1e5ff811d93a] [compute_training_data_logloss] logloss_value = 0.564616544755 "
       ]
      },
      {
       "output_type": "stream",
       "stream": "stdout",
       "text": [
        "\n",
        "[LSVM40Groups_31df6250-3ca1-11e4-b7d7-1e5ff811d93a] [compute_training_data_logloss] conpute logloss with decision_function \n",
        "[LSVM40Groups_31df6250-3ca1-11e4-b7d7-1e5ff811d93a] [compute_training_data_logloss] logloss_value = 0.567537112859 "
       ]
      },
      {
       "output_type": "stream",
       "stream": "stdout",
       "text": [
        "\n",
        "[LSVM40Groups_54bb5e9c-3c9b-11e4-b7d7-1e5ff811d93a] [compute_training_data_logloss] conpute logloss with decision_function \n",
        "[LSVM40Groups_54bb5e9c-3c9b-11e4-b7d7-1e5ff811d93a] [compute_training_data_logloss] logloss_value = 0.564699864421 "
       ]
      },
      {
       "output_type": "stream",
       "stream": "stdout",
       "text": [
        "\n",
        "[LSVM40Groups_4a73396a-3c9f-11e4-b7d7-1e5ff811d93a] [compute_training_data_logloss] conpute logloss with decision_function \n",
        "[LSVM40Groups_4a73396a-3c9f-11e4-b7d7-1e5ff811d93a] [compute_training_data_logloss] logloss_value = 0.564903305768 "
       ]
      },
      {
       "output_type": "stream",
       "stream": "stdout",
       "text": [
        "\n",
        "[LSVM40Groups_4d3f40f6-3ca1-11e4-a445-1e5ff811d93a] [compute_training_data_logloss] conpute logloss with decision_function \n",
        "[LSVM40Groups_4d3f40f6-3ca1-11e4-a445-1e5ff811d93a] [compute_training_data_logloss] logloss_value = 0.567459874492 "
       ]
      },
      {
       "output_type": "stream",
       "stream": "stdout",
       "text": [
        "\n",
        "[LSVM40Groups_8032570c-3ca4-11e4-87dc-1e5ff811d93a] [compute_training_data_logloss] conpute logloss with decision_function \n",
        "[LSVM40Groups_8032570c-3ca4-11e4-87dc-1e5ff811d93a] [compute_training_data_logloss] logloss_value = 0.566049574468 "
       ]
      },
      {
       "output_type": "stream",
       "stream": "stdout",
       "text": [
        "\n",
        "[LSVM40Groups_8e68d470-3ca1-11e4-a643-1e5ff811d93a] [compute_training_data_logloss] conpute logloss with decision_function \n",
        "[LSVM40Groups_8e68d470-3ca1-11e4-a643-1e5ff811d93a] [compute_training_data_logloss] logloss_value = 0.569030329482 "
       ]
      },
      {
       "output_type": "stream",
       "stream": "stdout",
       "text": [
        "\n",
        "[LSVM40Groups_7e67eab6-3ca1-11e4-b3ae-1e5ff811d93a] [compute_training_data_logloss] conpute logloss with decision_function \n",
        "[LSVM40Groups_7e67eab6-3ca1-11e4-b3ae-1e5ff811d93a] [compute_training_data_logloss] logloss_value = 0.566025293816 "
       ]
      },
      {
       "output_type": "stream",
       "stream": "stdout",
       "text": [
        "\n",
        "[LSVM40Groups_35db1fd6-3c9f-11e4-b2c2-1e5ff811d93a] [compute_training_data_logloss] conpute logloss with decision_function \n",
        "[LSVM40Groups_35db1fd6-3c9f-11e4-b2c2-1e5ff811d93a] [compute_training_data_logloss] logloss_value = 0.565189981305 "
       ]
      },
      {
       "output_type": "stream",
       "stream": "stdout",
       "text": [
        "\n",
        "[LSVM40Groups_54b919e8-3c9b-11e4-94ef-1e5ff811d93a] [compute_training_data_logloss] conpute logloss with decision_function \n",
        "[LSVM40Groups_54b919e8-3c9b-11e4-94ef-1e5ff811d93a] [compute_training_data_logloss] logloss_value = 0.564898990363 "
       ]
      },
      {
       "output_type": "stream",
       "stream": "stdout",
       "text": [
        "\n",
        "[LSVM40Groups_54bcb56c-3c9b-11e4-97fc-1e5ff811d93a] [compute_training_data_logloss] conpute logloss with decision_function "
       ]
      },
      {
       "output_type": "stream",
       "stream": "stdout",
       "text": [
        "\n"
       ]
      },
      {
       "ename": "KeyboardInterrupt",
       "evalue": "",
       "output_type": "pyerr",
       "traceback": [
        "\u001b[1;31m---------------------------------------------------------------------------\u001b[0m\n\u001b[1;31mKeyboardInterrupt\u001b[0m                         Traceback (most recent call last)",
        "\u001b[1;32m<ipython-input-10-e686647fea57>\u001b[0m in \u001b[0;36m<module>\u001b[1;34m()\u001b[0m\n\u001b[0;32m      1\u001b[0m logloss_dict = svm_series.compute_training_data_logloss(prob_func=lambda xx:0.5 + 0.5*erf(xx/(2**0.5)),\n\u001b[0;32m      2\u001b[0m                                                         \u001b[0muse_prediction\u001b[0m\u001b[1;33m=\u001b[0m\u001b[1;34m\"decision_function\"\u001b[0m\u001b[1;33m,\u001b[0m\u001b[1;33m\u001b[0m\u001b[0m\n\u001b[1;32m----> 3\u001b[1;33m                                                         sample_slice  = slice(0,1000000,None))\n\u001b[0m",
        "\u001b[1;32m/home/c3h3/.pyenv/versions/py27/lib/python2.7/site-packages/hunkaggle-0.0.1dev-py2.7.egg/hunkaggle/criteo/models.pyc\u001b[0m in \u001b[0;36mcompute_training_data_logloss\u001b[1;34m(self, **kwargs)\u001b[0m\n\u001b[0;32m    422\u001b[0m \u001b[1;33m\u001b[0m\u001b[0m\n\u001b[0;32m    423\u001b[0m         \u001b[1;32mfor\u001b[0m \u001b[0mone_model\u001b[0m \u001b[1;32min\u001b[0m \u001b[0mself\u001b[0m\u001b[1;33m.\u001b[0m\u001b[0mseries_models\u001b[0m\u001b[1;33m:\u001b[0m\u001b[1;33m\u001b[0m\u001b[0m\n\u001b[1;32m--> 424\u001b[1;33m             \u001b[0mlogloss_dict\u001b[0m\u001b[1;33m[\u001b[0m\u001b[0mone_model\u001b[0m\u001b[1;33m.\u001b[0m\u001b[0mmodel_id\u001b[0m\u001b[1;33m]\u001b[0m \u001b[1;33m=\u001b[0m \u001b[0mone_model\u001b[0m\u001b[1;33m.\u001b[0m\u001b[0mcompute_training_data_logloss\u001b[0m\u001b[1;33m(\u001b[0m\u001b[1;33m**\u001b[0m\u001b[0mkwargs\u001b[0m\u001b[1;33m)\u001b[0m\u001b[1;33m\u001b[0m\u001b[0m\n\u001b[0m\u001b[0;32m    425\u001b[0m         \u001b[1;32mreturn\u001b[0m \u001b[0mlogloss_dict\u001b[0m\u001b[1;33m\u001b[0m\u001b[0m\n\u001b[0;32m    426\u001b[0m \u001b[1;33m\u001b[0m\u001b[0m\n",
        "\u001b[1;32m/home/c3h3/.pyenv/versions/py27/lib/python2.7/site-packages/hunkaggle-0.0.1dev-py2.7.egg/hunkaggle/criteo/models.pyc\u001b[0m in \u001b[0;36mcompute_training_data_logloss\u001b[1;34m(self, return_type, use_prediction, prob_func, output_vector_type, sample_slice)\u001b[0m\n\u001b[0;32m    354\u001b[0m             \u001b[1;31m#_vec_prob_func = np.vectorize(prob_func)\u001b[0m\u001b[1;33m\u001b[0m\u001b[1;33m\u001b[0m\u001b[0m\n\u001b[0;32m    355\u001b[0m             \u001b[1;31m#prediction_prob = np.apply_along_axis(prob_func,0,use_prediction_blz[0:])\u001b[0m\u001b[1;33m\u001b[0m\u001b[1;33m\u001b[0m\u001b[0m\n\u001b[1;32m--> 356\u001b[1;33m             \u001b[0mprediction_prob\u001b[0m \u001b[1;33m=\u001b[0m \u001b[0mprob_func\u001b[0m\u001b[1;33m(\u001b[0m\u001b[0muse_prediction_blz\u001b[0m\u001b[1;33m[\u001b[0m\u001b[0msample_slice\u001b[0m\u001b[1;33m]\u001b[0m\u001b[1;33m)\u001b[0m\u001b[1;33m\u001b[0m\u001b[0m\n\u001b[0m\u001b[0;32m    357\u001b[0m \u001b[1;33m\u001b[0m\u001b[0m\n\u001b[0;32m    358\u001b[0m             \u001b[1;31m#prediction_prob = blz.eval(\"prob_func(use_prediction_blz)\", vm=\"python\")\u001b[0m\u001b[1;33m\u001b[0m\u001b[1;33m\u001b[0m\u001b[0m\n",
        "\u001b[1;32m/home/c3h3/.pyenv/versions/py27/lib/python2.7/site-packages/blz/blz_ext.so\u001b[0m in \u001b[0;36mblz.blz_ext.barray.__getitem__ (blz/blz_ext.c:21970)\u001b[1;34m()\u001b[0m\n",
        "\u001b[1;32m/home/c3h3/.pyenv/versions/py27/lib/python2.7/site-packages/blz/blz_ext.so\u001b[0m in \u001b[0;36mblz.blz_ext.chunks.__getitem__ (blz/blz_ext.c:8901)\u001b[1;34m()\u001b[0m\n",
        "\u001b[1;32m/home/c3h3/.pyenv/versions/py27/lib/python2.7/site-packages/blz/blz_ext.so\u001b[0m in \u001b[0;36mblz.blz_ext.chunks.read_chunk (blz/blz_ext.c:8468)\u001b[1;34m()\u001b[0m\n",
        "\u001b[1;32m/home/c3h3/.pyenv/versions/py27/lib/python2.7/site-packages/blz/blz_ext.so\u001b[0m in \u001b[0;36mblz.blz_ext.chunks.datadir.__get__ (blz/blz_ext.c:7850)\u001b[1;34m()\u001b[0m\n",
        "\u001b[1;32m/home/c3h3/.pyenv/versions/py27/lib/python2.7/posixpath.pyc\u001b[0m in \u001b[0;36mjoin\u001b[1;34m(a, *p)\u001b[0m\n\u001b[0;32m     66\u001b[0m \u001b[1;31m# Insert a '/' unless the first part is empty or already ends in '/'.\u001b[0m\u001b[1;33m\u001b[0m\u001b[1;33m\u001b[0m\u001b[0m\n\u001b[0;32m     67\u001b[0m \u001b[1;33m\u001b[0m\u001b[0m\n\u001b[1;32m---> 68\u001b[1;33m \u001b[1;32mdef\u001b[0m \u001b[0mjoin\u001b[0m\u001b[1;33m(\u001b[0m\u001b[0ma\u001b[0m\u001b[1;33m,\u001b[0m \u001b[1;33m*\u001b[0m\u001b[0mp\u001b[0m\u001b[1;33m)\u001b[0m\u001b[1;33m:\u001b[0m\u001b[1;33m\u001b[0m\u001b[0m\n\u001b[0m\u001b[0;32m     69\u001b[0m     \"\"\"Join two or more pathname components, inserting '/' as needed.\n\u001b[0;32m     70\u001b[0m     \u001b[0mIf\u001b[0m \u001b[0many\u001b[0m \u001b[0mcomponent\u001b[0m \u001b[1;32mis\u001b[0m \u001b[0man\u001b[0m \u001b[0mabsolute\u001b[0m \u001b[0mpath\u001b[0m\u001b[1;33m,\u001b[0m \u001b[0mall\u001b[0m \u001b[0mprevious\u001b[0m \u001b[0mpath\u001b[0m \u001b[0mcomponents\u001b[0m\u001b[1;33m\u001b[0m\u001b[0m\n",
        "\u001b[1;31mKeyboardInterrupt\u001b[0m: "
       ]
      }
     ],
     "prompt_number": 10
    },
    {
     "cell_type": "heading",
     "level": 6,
     "metadata": {},
     "source": [
      "m = svm_series.series_models[0]"
     ]
    },
    {
     "cell_type": "code",
     "collapsed": false,
     "input": [
      "%time m.compute_training_data_logloss(prob_func=lambda xx:erf(0.3*np.subtract(xx,-1.3)),use_prediction=\"decision_function\",sample_slice  = slice(0,None,None))"
     ],
     "language": "python",
     "metadata": {},
     "outputs": [
      {
       "output_type": "stream",
       "stream": "stdout",
       "text": [
        "[LSVM40Groups_4e925d02-3c9d-11e4-b2c2-1e5ff811d93a] [compute_training_data_logloss] conpute logloss with decision_function \n",
        "[LSVM40Groups_4e925d02-3c9d-11e4-b2c2-1e5ff811d93a] [compute_training_data_logloss] logloss_value = 0.55569811621 "
       ]
      },
      {
       "output_type": "stream",
       "stream": "stdout",
       "text": [
        "\n",
        "CPU times: user 12.7 s, sys: 4.3 s, total: 17 s"
       ]
      },
      {
       "output_type": "stream",
       "stream": "stdout",
       "text": [
        "\n",
        "Wall time: 7.19 s\n"
       ]
      },
      {
       "metadata": {},
       "output_type": "pyout",
       "prompt_number": 45,
       "text": [
        "0.55569811621003096"
       ]
      }
     ],
     "prompt_number": 45
    },
    {
     "cell_type": "code",
     "collapsed": false,
     "input": [
      "#logloss_dict"
     ],
     "language": "python",
     "metadata": {},
     "outputs": [],
     "prompt_number": 22
    },
    {
     "cell_type": "code",
     "collapsed": false,
     "input": [],
     "language": "python",
     "metadata": {},
     "outputs": []
    },
    {
     "cell_type": "code",
     "collapsed": false,
     "input": [
      "rf_models_v1_models_path = os.path.join(os.path.join(SOURCE_DATA_DIR, \"rf_models_v1\"))"
     ],
     "language": "python",
     "metadata": {},
     "outputs": [],
     "prompt_number": 14
    },
    {
     "cell_type": "code",
     "collapsed": false,
     "input": [
      "rf_series = ModelSeries(series_name=\"RFmss10ne200-40Groups\", series_home=rf_models_v1_models_path)"
     ],
     "language": "python",
     "metadata": {},
     "outputs": [],
     "prompt_number": 15
    },
    {
     "cell_type": "code",
     "collapsed": false,
     "input": [
      "#rf_series.series_models"
     ],
     "language": "python",
     "metadata": {},
     "outputs": [],
     "prompt_number": 16
    },
    {
     "cell_type": "code",
     "collapsed": false,
     "input": [
      "rf_logloss_dict2 = rf_series.compute_training_data_logloss(use_prediction=\"predict_proba\",\n",
      "                                                           sample_slice  = slice(6000000,9000000,None))"
     ],
     "language": "python",
     "metadata": {},
     "outputs": [
      {
       "output_type": "stream",
       "stream": "stdout",
       "text": [
        "[RFmss10ne200-40Groups_ffca52ca-3d54-11e4-9872-5a1064dce9ab] [compute_training_data_logloss] conpute logloss with predict_proba \n",
        "[RFmss10ne200-40Groups_ffca52ca-3d54-11e4-9872-5a1064dce9ab] [compute_training_data_logloss] logloss_value = 0.492430860424 "
       ]
      },
      {
       "output_type": "stream",
       "stream": "stdout",
       "text": [
        "\n",
        "[RFmss10ne200-40Groups_96e6dfac-3dfa-11e4-9872-5a1064dce9ab] [compute_training_data_logloss] conpute logloss with predict_proba \n",
        "[RFmss10ne200-40Groups_96e6dfac-3dfa-11e4-9872-5a1064dce9ab] [compute_training_data_logloss] logloss_value = 0.493299811851 "
       ]
      },
      {
       "output_type": "stream",
       "stream": "stdout",
       "text": [
        "\n",
        "[RFmss10ne200-40Groups_1ef4e8dc-3de5-11e4-9872-5a1064dce9ab] [compute_training_data_logloss] conpute logloss with predict_proba \n",
        "[RFmss10ne200-40Groups_1ef4e8dc-3de5-11e4-9872-5a1064dce9ab] [compute_training_data_logloss] logloss_value = 0.492747801645 "
       ]
      },
      {
       "output_type": "stream",
       "stream": "stdout",
       "text": [
        "\n",
        "[RFmss10ne200-40Groups_6d99e818-3dcf-11e4-9872-5a1064dce9ab] [compute_training_data_logloss] conpute logloss with predict_proba \n",
        "[RFmss10ne200-40Groups_6d99e818-3dcf-11e4-9872-5a1064dce9ab] [compute_training_data_logloss] logloss_value = 0.49305413757 "
       ]
      },
      {
       "output_type": "stream",
       "stream": "stdout",
       "text": [
        "\n",
        "[RFmss10ne200-40Groups_732cc740-3df3-11e4-9872-5a1064dce9ab] [compute_training_data_logloss] conpute logloss with predict_proba \n",
        "[RFmss10ne200-40Groups_732cc740-3df3-11e4-9872-5a1064dce9ab] [compute_training_data_logloss] logloss_value = 0.493364684863 "
       ]
      },
      {
       "output_type": "stream",
       "stream": "stdout",
       "text": [
        "\n",
        "[RFmss10ne200-40Groups_e1d006ca-3d95-11e4-9872-5a1064dce9ab] [compute_training_data_logloss] conpute logloss with predict_proba \n",
        "[RFmss10ne200-40Groups_e1d006ca-3d95-11e4-9872-5a1064dce9ab] [compute_training_data_logloss] logloss_value = 0.492698619039 "
       ]
      },
      {
       "output_type": "stream",
       "stream": "stdout",
       "text": [
        "\n",
        "[RFmss10ne200-40Groups_7ac82f46-3dab-11e4-9872-5a1064dce9ab] [compute_training_data_logloss] conpute logloss with predict_proba \n",
        "[RFmss10ne200-40Groups_7ac82f46-3dab-11e4-9872-5a1064dce9ab] [compute_training_data_logloss] logloss_value = 0.492497459842 "
       ]
      },
      {
       "output_type": "stream",
       "stream": "stdout",
       "text": [
        "\n",
        "[RFmss10ne200-40Groups_55b2f6c8-3dec-11e4-9872-5a1064dce9ab] [compute_training_data_logloss] conpute logloss with predict_proba \n",
        "[RFmss10ne200-40Groups_55b2f6c8-3dec-11e4-9872-5a1064dce9ab] [compute_training_data_logloss] logloss_value = 0.493708075728 "
       ]
      },
      {
       "output_type": "stream",
       "stream": "stdout",
       "text": [
        "\n",
        "[RFmss10ne200-40Groups_ae25dd7e-3d8e-11e4-9872-5a1064dce9ab] [compute_training_data_logloss] conpute logloss with predict_proba \n",
        "[RFmss10ne200-40Groups_ae25dd7e-3d8e-11e4-9872-5a1064dce9ab] [compute_training_data_logloss] logloss_value = 0.492125092166 "
       ]
      },
      {
       "output_type": "stream",
       "stream": "stdout",
       "text": [
        "\n",
        "[RFmss10ne200-40Groups_d2df0bd6-3d4d-11e4-9872-5a1064dce9ab] [compute_training_data_logloss] conpute logloss with predict_proba \n",
        "[RFmss10ne200-40Groups_d2df0bd6-3d4d-11e4-9872-5a1064dce9ab] [compute_training_data_logloss] logloss_value = 0.493374888074 "
       ]
      },
      {
       "output_type": "stream",
       "stream": "stdout",
       "text": [
        "\n",
        "[RFmss10ne200-40Groups_e947a10e-3ddd-11e4-9872-5a1064dce9ab] [compute_training_data_logloss] conpute logloss with predict_proba \n",
        "[RFmss10ne200-40Groups_e947a10e-3ddd-11e4-9872-5a1064dce9ab] [compute_training_data_logloss] logloss_value = 0.492745884337 "
       ]
      },
      {
       "output_type": "stream",
       "stream": "stdout",
       "text": [
        "\n",
        "[RFmss10ne200-40Groups_baf2be96-3e01-11e4-9872-5a1064dce9ab] [compute_training_data_logloss] conpute logloss with predict_proba \n",
        "[RFmss10ne200-40Groups_baf2be96-3e01-11e4-9872-5a1064dce9ab] [compute_training_data_logloss] logloss_value = 0.495098311439 "
       ]
      },
      {
       "output_type": "stream",
       "stream": "stdout",
       "text": [
        "\n",
        "[RFmss10ne200-40Groups_b93c14c4-3dd6-11e4-9872-5a1064dce9ab] [compute_training_data_logloss] conpute logloss with predict_proba \n",
        "[RFmss10ne200-40Groups_b93c14c4-3dd6-11e4-9872-5a1064dce9ab] [compute_training_data_logloss] logloss_value = 0.492648195383 "
       ]
      },
      {
       "output_type": "stream",
       "stream": "stdout",
       "text": [
        "\n",
        "[RFmss10ne200-40Groups_201f9140-3dc1-11e4-9872-5a1064dce9ab] [compute_training_data_logloss] conpute logloss with predict_proba \n",
        "[RFmss10ne200-40Groups_201f9140-3dc1-11e4-9872-5a1064dce9ab] [compute_training_data_logloss] logloss_value = 0.493391132599 "
       ]
      },
      {
       "output_type": "stream",
       "stream": "stdout",
       "text": [
        "\n",
        "[RFmss10ne200-40Groups_410053ac-3dc8-11e4-9872-5a1064dce9ab] [compute_training_data_logloss] conpute logloss with predict_proba \n",
        "[RFmss10ne200-40Groups_410053ac-3dc8-11e4-9872-5a1064dce9ab] [compute_training_data_logloss] logloss_value = 0.493164592427 "
       ]
      },
      {
       "output_type": "stream",
       "stream": "stdout",
       "text": [
        "\n",
        "[RFmss10ne200-40Groups_14f5ca92-3d9d-11e4-9872-5a1064dce9ab] [compute_training_data_logloss] conpute logloss with predict_proba \n",
        "[RFmss10ne200-40Groups_14f5ca92-3d9d-11e4-9872-5a1064dce9ab] [compute_training_data_logloss] logloss_value = 0.492084075859 "
       ]
      },
      {
       "output_type": "stream",
       "stream": "stdout",
       "text": [
        "\n",
        "[RFmss10ne200-40Groups_4315ad96-3da4-11e4-9872-5a1064dce9ab] [compute_training_data_logloss] conpute logloss with predict_proba \n",
        "[RFmss10ne200-40Groups_4315ad96-3da4-11e4-9872-5a1064dce9ab] [compute_training_data_logloss] logloss_value = 0.491751274702 "
       ]
      },
      {
       "output_type": "stream",
       "stream": "stdout",
       "text": [
        "\n",
        "[RFmss10ne200-40Groups_b627f178-3db2-11e4-9872-5a1064dce9ab] [compute_training_data_logloss] conpute logloss with predict_proba \n",
        "[RFmss10ne200-40Groups_b627f178-3db2-11e4-9872-5a1064dce9ab] [compute_training_data_logloss] logloss_value = 0.493043062599 "
       ]
      },
      {
       "output_type": "stream",
       "stream": "stdout",
       "text": [
        "\n",
        "[RFmss10ne200-40Groups_9a8d6d4c-3d46-11e4-9872-5a1064dce9ab] [compute_training_data_logloss] conpute logloss with predict_proba \n",
        "[RFmss10ne200-40Groups_9a8d6d4c-3d46-11e4-9872-5a1064dce9ab] [compute_training_data_logloss] logloss_value = 0.493130339534 "
       ]
      },
      {
       "output_type": "stream",
       "stream": "stdout",
       "text": [
        "\n",
        "[RFmss10ne200-40Groups_817e0644-3d6a-11e4-9872-5a1064dce9ab] [compute_training_data_logloss] conpute logloss with predict_proba \n",
        "[RFmss10ne200-40Groups_817e0644-3d6a-11e4-9872-5a1064dce9ab] [compute_training_data_logloss] logloss_value = 0.41719912193 "
       ]
      },
      {
       "output_type": "stream",
       "stream": "stdout",
       "text": [
        "\n",
        "[RFmss10ne200-40Groups_e7007d40-3db9-11e4-9872-5a1064dce9ab] [compute_training_data_logloss] conpute logloss with predict_proba \n",
        "[RFmss10ne200-40Groups_e7007d40-3db9-11e4-9872-5a1064dce9ab] [compute_training_data_logloss] logloss_value = 0.492272692633 "
       ]
      },
      {
       "output_type": "stream",
       "stream": "stdout",
       "text": [
        "\n",
        "[RFmss10ne200-40Groups_671fc284-3d87-11e4-9872-5a1064dce9ab] [compute_training_data_logloss] conpute logloss with predict_proba \n",
        "[RFmss10ne200-40Groups_671fc284-3d87-11e4-9872-5a1064dce9ab] [compute_training_data_logloss] logloss_value = 0.492281008884 "
       ]
      },
      {
       "output_type": "stream",
       "stream": "stdout",
       "text": [
        "\n",
        "[RFmss10ne200-40Groups_061893a0-3d80-11e4-9872-5a1064dce9ab] [compute_training_data_logloss] conpute logloss with predict_proba \n",
        "[RFmss10ne200-40Groups_061893a0-3d80-11e4-9872-5a1064dce9ab] [compute_training_data_logloss] logloss_value = 0.492000857959 "
       ]
      },
      {
       "output_type": "stream",
       "stream": "stdout",
       "text": [
        "\n",
        "[RFmss10ne200-40Groups_adeba392-3d71-11e4-9872-5a1064dce9ab] [compute_training_data_logloss] conpute logloss with predict_proba \n",
        "[RFmss10ne200-40Groups_adeba392-3d71-11e4-9872-5a1064dce9ab] [compute_training_data_logloss] logloss_value = 0.393567821513 "
       ]
      },
      {
       "output_type": "stream",
       "stream": "stdout",
       "text": [
        "\n",
        "[RFmss10ne200-40Groups_e5d1d7c6-3e08-11e4-9872-5a1064dce9ab] [compute_training_data_logloss] conpute logloss with predict_proba \n",
        "[RFmss10ne200-40Groups_e5d1d7c6-3e08-11e4-9872-5a1064dce9ab] [compute_training_data_logloss] logloss_value = 0.495306171659 "
       ]
      },
      {
       "output_type": "stream",
       "stream": "stdout",
       "text": [
        "\n",
        "[RFmss10ne200-40Groups_28456df0-3d5c-11e4-9872-5a1064dce9ab] [compute_training_data_logloss] conpute logloss with predict_proba \n",
        "[RFmss10ne200-40Groups_28456df0-3d5c-11e4-9872-5a1064dce9ab] [compute_training_data_logloss] logloss_value = 0.492283504777 "
       ]
      },
      {
       "output_type": "stream",
       "stream": "stdout",
       "text": [
        "\n",
        "[RFmss10ne200-40Groups_53e6a918-3d63-11e4-9872-5a1064dce9ab] [compute_training_data_logloss] conpute logloss with predict_proba \n",
        "[RFmss10ne200-40Groups_53e6a918-3d63-11e4-9872-5a1064dce9ab] [compute_training_data_logloss] logloss_value = 0.492187083681 "
       ]
      },
      {
       "output_type": "stream",
       "stream": "stdout",
       "text": [
        "\n",
        "[RFmss10ne200-40Groups_d5b12cc4-3d78-11e4-9872-5a1064dce9ab] [compute_training_data_logloss] conpute logloss with predict_proba \n",
        "[RFmss10ne200-40Groups_d5b12cc4-3d78-11e4-9872-5a1064dce9ab] [compute_training_data_logloss] logloss_value = 0.408255158429 "
       ]
      },
      {
       "output_type": "stream",
       "stream": "stdout",
       "text": [
        "\n"
       ]
      }
     ],
     "prompt_number": 46
    },
    {
     "cell_type": "code",
     "collapsed": false,
     "input": [
      "rf_series.series_models[-5].compute_training_data_logloss(use_prediction=\"predict_proba\",\n",
      "                                                          sample_slice=slice(0,None,None))"
     ],
     "language": "python",
     "metadata": {},
     "outputs": [
      {
       "output_type": "stream",
       "stream": "stdout",
       "text": [
        "[RFmss10ne200-40Groups_adeba392-3d71-11e4-9872-5a1064dce9ab] [compute_training_data_logloss] conpute logloss with predict_proba \n",
        "[RFmss10ne200-40Groups_adeba392-3d71-11e4-9872-5a1064dce9ab] [compute_training_data_logloss] logloss_value = 0.490573258 "
       ]
      },
      {
       "output_type": "stream",
       "stream": "stdout",
       "text": [
        "\n"
       ]
      },
      {
       "metadata": {},
       "output_type": "pyout",
       "prompt_number": 57,
       "text": [
        "0.49057325799981127"
       ]
      }
     ],
     "prompt_number": 57
    },
    {
     "cell_type": "code",
     "collapsed": false,
     "input": [
      "rf_test = rf_series.series_models[-5]"
     ],
     "language": "python",
     "metadata": {},
     "outputs": [],
     "prompt_number": 58
    },
    {
     "cell_type": "code",
     "collapsed": false,
     "input": [
      "rf_test.create_kaggle_submit_csv()"
     ],
     "language": "python",
     "metadata": {},
     "outputs": [],
     "prompt_number": 59
    },
    {
     "cell_type": "code",
     "collapsed": false,
     "input": [
      "print rf_test.model_info"
     ],
     "language": "python",
     "metadata": {},
     "outputs": [
      {
       "output_type": "stream",
       "stream": "stdout",
       "text": [
        "{'training_dataset': 'origin', 'training_data_slices': slice(8022112, 9168128, None), 'feature_columns': ['I1', 'I2', 'I3', 'I4', 'I5', 'I6', 'I7', 'I8', 'I9', 'I10', 'I11', 'I12', 'I13', 'C1', 'C2', 'C3', 'C4', 'C5', 'C6', 'C7', 'C8', 'C9', 'C10', 'C11', 'C12', 'C13', 'C14', 'C15', 'C16', 'C17', 'C18', 'C19', 'C20', 'C21', 'C22', 'C23', 'C24', 'C25', 'C26'], 'additional_feature_columns': [], 'model_type': <class 'sklearn.ensemble.forest.RandomForestClassifier'>, 'model_paramters': {'min_samples_split': 10, 'n_estimators': 200, 'n_jobs': 12}}\n"
       ]
      }
     ],
     "prompt_number": 52
    },
    {
     "cell_type": "code",
     "collapsed": false,
     "input": [],
     "language": "python",
     "metadata": {},
     "outputs": []
    },
    {
     "cell_type": "code",
     "collapsed": false,
     "input": [
      "rf_logloss_dict"
     ],
     "language": "python",
     "metadata": {},
     "outputs": [
      {
       "metadata": {},
       "output_type": "pyout",
       "prompt_number": 45,
       "text": [
        "{'RFmss10ne200-40Groups_061893a0-3d80-11e4-9872-5a1064dce9ab': 0.489599970482471,\n",
        " 'RFmss10ne200-40Groups_14f5ca92-3d9d-11e4-9872-5a1064dce9ab': 0.48994279184044626,\n",
        " 'RFmss10ne200-40Groups_1ef4e8dc-3de5-11e4-9872-5a1064dce9ab': 0.48959618246315523,\n",
        " 'RFmss10ne200-40Groups_201f9140-3dc1-11e4-9872-5a1064dce9ab': 0.49159424300064641,\n",
        " 'RFmss10ne200-40Groups_28456df0-3d5c-11e4-9872-5a1064dce9ab': 0.39165913843461958,\n",
        " 'RFmss10ne200-40Groups_410053ac-3dc8-11e4-9872-5a1064dce9ab': 0.49061222672294413,\n",
        " 'RFmss10ne200-40Groups_4315ad96-3da4-11e4-9872-5a1064dce9ab': 0.48921711718325234,\n",
        " 'RFmss10ne200-40Groups_53e6a918-3d63-11e4-9872-5a1064dce9ab': 0.39124762673226082,\n",
        " 'RFmss10ne200-40Groups_55b2f6c8-3dec-11e4-9872-5a1064dce9ab': 0.49183123801214101,\n",
        " 'RFmss10ne200-40Groups_671fc284-3d87-11e4-9872-5a1064dce9ab': 0.48948440584835867,\n",
        " 'RFmss10ne200-40Groups_6d99e818-3dcf-11e4-9872-5a1064dce9ab': 0.49004810606423821,\n",
        " 'RFmss10ne200-40Groups_732cc740-3df3-11e4-9872-5a1064dce9ab': 0.49073638734647734,\n",
        " 'RFmss10ne200-40Groups_7ac82f46-3dab-11e4-9872-5a1064dce9ab': 0.48948073492059091,\n",
        " 'RFmss10ne200-40Groups_817e0644-3d6a-11e4-9872-5a1064dce9ab': 0.46577445786186167,\n",
        " 'RFmss10ne200-40Groups_96e6dfac-3dfa-11e4-9872-5a1064dce9ab': 0.49026521139058565,\n",
        " 'RFmss10ne200-40Groups_9a8d6d4c-3d46-11e4-9872-5a1064dce9ab': 0.49066093461810628,\n",
        " 'RFmss10ne200-40Groups_adeba392-3d71-11e4-9872-5a1064dce9ab': 0.48970086123520268,\n",
        " 'RFmss10ne200-40Groups_ae25dd7e-3d8e-11e4-9872-5a1064dce9ab': 0.48911096792733794,\n",
        " 'RFmss10ne200-40Groups_b627f178-3db2-11e4-9872-5a1064dce9ab': 0.48968930439267949,\n",
        " 'RFmss10ne200-40Groups_b93c14c4-3dd6-11e4-9872-5a1064dce9ab': 0.48960670716402344,\n",
        " 'RFmss10ne200-40Groups_baf2be96-3e01-11e4-9872-5a1064dce9ab': 0.49224846632786817,\n",
        " 'RFmss10ne200-40Groups_d2df0bd6-3d4d-11e4-9872-5a1064dce9ab': 0.49035719949286166,\n",
        " 'RFmss10ne200-40Groups_d5b12cc4-3d78-11e4-9872-5a1064dce9ab': 0.48923239076814196,\n",
        " 'RFmss10ne200-40Groups_e1d006ca-3d95-11e4-9872-5a1064dce9ab': 0.491264373707261,\n",
        " 'RFmss10ne200-40Groups_e5d1d7c6-3e08-11e4-9872-5a1064dce9ab': 0.49208316193514595,\n",
        " 'RFmss10ne200-40Groups_e7007d40-3db9-11e4-9872-5a1064dce9ab': 0.48945882383789163,\n",
        " 'RFmss10ne200-40Groups_e947a10e-3ddd-11e4-9872-5a1064dce9ab': 0.48951480239097384,\n",
        " 'RFmss10ne200-40Groups_ffca52ca-3d54-11e4-9872-5a1064dce9ab': 0.45155530208057698}"
       ]
      }
     ],
     "prompt_number": 45
    },
    {
     "cell_type": "code",
     "collapsed": false,
     "input": [],
     "language": "python",
     "metadata": {},
     "outputs": []
    },
    {
     "cell_type": "code",
     "collapsed": false,
     "input": [],
     "language": "python",
     "metadata": {},
     "outputs": []
    },
    {
     "cell_type": "code",
     "collapsed": false,
     "input": [],
     "language": "python",
     "metadata": {},
     "outputs": []
    }
   ],
   "metadata": {}
  }
 ]
}