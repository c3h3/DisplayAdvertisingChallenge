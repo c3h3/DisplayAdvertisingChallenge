{
 "metadata": {
  "name": "",
  "signature": "sha256:c63b779e3a03aaf5aa610016300f7fd1fe2853d4f7ea92b2260b303680bc2ac9"
 },
 "nbformat": 3,
 "nbformat_minor": 0,
 "worksheets": [
  {
   "cells": [
    {
     "cell_type": "code",
     "collapsed": false,
     "input": [
      "from hunkaggle.criteo import tools"
     ],
     "language": "python",
     "metadata": {},
     "outputs": [],
     "prompt_number": 1
    },
    {
     "cell_type": "code",
     "collapsed": false,
     "input": [
      "%time tools.convert_column_to_blz(\"Label\")"
     ],
     "language": "python",
     "metadata": {},
     "outputs": [
      {
       "output_type": "stream",
       "stream": "stdout",
       "text": [
        "CPU times: user 91 \u00b5s, sys: 69 \u00b5s, total: 160 \u00b5s\n",
        "Wall time: 99.9 \u00b5s\n"
       ]
      }
     ],
     "prompt_number": 2
    },
    {
     "cell_type": "code",
     "collapsed": false,
     "input": [
      "%time tools.convert_column_to_blz(\"I1\")"
     ],
     "language": "python",
     "metadata": {},
     "outputs": []
    },
    {
     "cell_type": "code",
     "collapsed": false,
     "input": [
      "import os"
     ],
     "language": "python",
     "metadata": {},
     "outputs": [],
     "prompt_number": 3
    },
    {
     "cell_type": "code",
     "collapsed": false,
     "input": [
      "not \"Label\" in os.listdir(tools.TRAINING_BLZ_PATH)"
     ],
     "language": "python",
     "metadata": {},
     "outputs": [
      {
       "metadata": {},
       "output_type": "pyout",
       "prompt_number": 5,
       "text": [
        "False"
       ]
      }
     ],
     "prompt_number": 5
    },
    {
     "cell_type": "code",
     "collapsed": false,
     "input": [],
     "language": "python",
     "metadata": {},
     "outputs": []
    },
    {
     "cell_type": "code",
     "collapsed": false,
     "input": [
      "from hunkaggle.settings import TRAINING_COLUMN_NAMES, TRAINING_DATA_PATH, TRAINING_COLUMNS_PATH, TESTING_COLUMN_NAMES\n",
      "from hunkaggle.settings import TESTING_DATA_PATH\n",
      "\n",
      "from hunkaggle.settings import TRAINING_BLZ_PATH, TESTING_BLZ_PATH\n",
      "\n",
      "import numpy as np\n",
      "import blz, os\n",
      "\n",
      "COLNAMES = np.array(TRAINING_COLUMN_NAMES)"
     ],
     "language": "python",
     "metadata": {},
     "outputs": [],
     "prompt_number": 58
    },
    {
     "cell_type": "code",
     "collapsed": false,
     "input": [
      "print TRAINING_COLUMN_NAMES"
     ],
     "language": "python",
     "metadata": {},
     "outputs": [
      {
       "output_type": "stream",
       "stream": "stdout",
       "text": [
        "['Id', 'Label', 'I1', 'I2', 'I3', 'I4', 'I5', 'I6', 'I7', 'I8', 'I9', 'I10', 'I11', 'I12', 'I13', 'C1', 'C2', 'C3', 'C4', 'C5', 'C6', 'C7', 'C8', 'C9', 'C10', 'C11', 'C12', 'C13', 'C14', 'C15', 'C16', 'C17', 'C18', 'C19', 'C20', 'C21', 'C22', 'C23', 'C24', 'C25', 'C26']\n"
       ]
      }
     ],
     "prompt_number": 2
    },
    {
     "cell_type": "code",
     "collapsed": false,
     "input": [
      "print TESTING_COLUMN_NAMES"
     ],
     "language": "python",
     "metadata": {},
     "outputs": [
      {
       "output_type": "stream",
       "stream": "stdout",
       "text": [
        "['Id', 'I1', 'I2', 'I3', 'I4', 'I5', 'I6', 'I7', 'I8', 'I9', 'I10', 'I11', 'I12', 'I13', 'C1', 'C2', 'C3', 'C4', 'C5', 'C6', 'C7', 'C8', 'C9', 'C10', 'C11', 'C12', 'C13', 'C14', 'C15', 'C16', 'C17', 'C18', 'C19', 'C20', 'C21', 'C22', 'C23', 'C24', 'C25', 'C26']\n"
       ]
      }
     ],
     "prompt_number": 3
    },
    {
     "cell_type": "code",
     "collapsed": false,
     "input": [],
     "language": "python",
     "metadata": {},
     "outputs": [],
     "prompt_number": 3
    },
    {
     "cell_type": "code",
     "collapsed": false,
     "input": [
      "colname = \"I1\"\n"
     ],
     "language": "python",
     "metadata": {},
     "outputs": [],
     "prompt_number": 4
    },
    {
     "cell_type": "code",
     "collapsed": false,
     "input": [
      "\n",
      "def get_one_column_data_list(colname, data_csv_path=TRAINING_DATA_PATH):\n",
      "    \n",
      "    with open(data_csv_path,\"r\") as rf:\n",
      "        colnames_line = rf.readline()\n",
      "        colnames = colnames_line.strip().split(\",\")\n",
      "        colnames_array = np.array(colnames)\n",
      "        data_col_idx = np.where(colnames_array == colname)[0][0]\n",
      "        \n",
      "        data_list = []\n",
      "        one_line_str = \"temp_str\"\n",
      "\n",
      "        while one_line_str != \"\":\n",
      "            one_line_str = rf.readline()\n",
      "            one_line_str_data = one_line_str.strip().split(\",\")\n",
      "            if len(one_line_str_data) == len(colnames):\n",
      "                data_list.append(one_line_str.strip().split(\",\")[data_col_idx])\n",
      "            \n",
      "    return data_list"
     ],
     "language": "python",
     "metadata": {},
     "outputs": [],
     "prompt_number": 5
    },
    {
     "cell_type": "code",
     "collapsed": false,
     "input": [],
     "language": "python",
     "metadata": {},
     "outputs": []
    },
    {
     "cell_type": "code",
     "collapsed": false,
     "input": [],
     "language": "python",
     "metadata": {},
     "outputs": []
    },
    {
     "cell_type": "code",
     "collapsed": false,
     "input": [
      "colname = \"C2\""
     ],
     "language": "python",
     "metadata": {},
     "outputs": [],
     "prompt_number": 49
    },
    {
     "cell_type": "code",
     "collapsed": false,
     "input": [
      "colname.startswith(\"C\")"
     ],
     "language": "python",
     "metadata": {},
     "outputs": [
      {
       "metadata": {},
       "output_type": "pyout",
       "prompt_number": 50,
       "text": [
        "True"
       ]
      }
     ],
     "prompt_number": 50
    },
    {
     "cell_type": "code",
     "collapsed": false,
     "input": [
      "%time train_data = get_one_column_data_list(colname, data_csv_path=TRAINING_DATA_PATH)"
     ],
     "language": "python",
     "metadata": {},
     "outputs": [
      {
       "output_type": "stream",
       "stream": "stdout",
       "text": [
        "CPU times: user 3min 15s, sys: 5.73 s, total: 3min 21s\n",
        "Wall time: 3min 54s\n"
       ]
      }
     ],
     "prompt_number": 51
    },
    {
     "cell_type": "code",
     "collapsed": false,
     "input": [],
     "language": "python",
     "metadata": {},
     "outputs": []
    },
    {
     "cell_type": "code",
     "collapsed": false,
     "input": [
      "train_data_has_missing_values = \"\" in train_data"
     ],
     "language": "python",
     "metadata": {},
     "outputs": [],
     "prompt_number": 64
    },
    {
     "cell_type": "code",
     "collapsed": false,
     "input": [
      "train_data_has_missing_values"
     ],
     "language": "python",
     "metadata": {},
     "outputs": [
      {
       "metadata": {},
       "output_type": "pyout",
       "prompt_number": 65,
       "text": [
        "False"
       ]
      }
     ],
     "prompt_number": 65
    },
    {
     "cell_type": "code",
     "collapsed": false,
     "input": [
      "%time test_data = get_one_column_data_list(colname, data_csv_path=TESTING_DATA_PATH)"
     ],
     "language": "python",
     "metadata": {},
     "outputs": [
      {
       "output_type": "stream",
       "stream": "stdout",
       "text": [
        "CPU times: user 25.3 s, sys: 386 ms, total: 25.7 s\n",
        "Wall time: 25.7 s\n"
       ]
      }
     ],
     "prompt_number": 52
    },
    {
     "cell_type": "code",
     "collapsed": false,
     "input": [],
     "language": "python",
     "metadata": {},
     "outputs": []
    },
    {
     "cell_type": "code",
     "collapsed": false,
     "input": [
      "test_data_has_missing_values = \"\" in test_data"
     ],
     "language": "python",
     "metadata": {},
     "outputs": [],
     "prompt_number": 68
    },
    {
     "cell_type": "code",
     "collapsed": false,
     "input": [
      "test_data_has_missing_values"
     ],
     "language": "python",
     "metadata": {},
     "outputs": [
      {
       "metadata": {},
       "output_type": "pyout",
       "prompt_number": 69,
       "text": [
        "False"
       ]
      }
     ],
     "prompt_number": 69
    },
    {
     "cell_type": "code",
     "collapsed": false,
     "input": [],
     "language": "python",
     "metadata": {},
     "outputs": []
    },
    {
     "cell_type": "code",
     "collapsed": false,
     "input": [],
     "language": "python",
     "metadata": {},
     "outputs": []
    },
    {
     "cell_type": "code",
     "collapsed": false,
     "input": [
      "all_data_np_array = np.array(train_data + test_data)"
     ],
     "language": "python",
     "metadata": {},
     "outputs": [],
     "prompt_number": 53
    },
    {
     "cell_type": "code",
     "collapsed": false,
     "input": [
      "uu, ui, ii = np.unique(all_data_np_array,return_index=True,return_inverse=True)"
     ],
     "language": "python",
     "metadata": {},
     "outputs": [],
     "prompt_number": 54
    },
    {
     "cell_type": "code",
     "collapsed": false,
     "input": [
      "train_blz_root = os.path.join(TRAINING_BLZ_PATH,colname)\n",
      "test_blz_root = os.path.join(TESTING_BLZ_PATH,colname)"
     ],
     "language": "python",
     "metadata": {},
     "outputs": [],
     "prompt_number": 56
    },
    {
     "cell_type": "code",
     "collapsed": false,
     "input": [
      "train_barr = blz.barray(ii[:len(train_data)],rootdir=train_blz_root)"
     ],
     "language": "python",
     "metadata": {},
     "outputs": [],
     "prompt_number": 59
    },
    {
     "cell_type": "code",
     "collapsed": false,
     "input": [
      "train_barr.attrs[\"states\"] = uu.tolist()\n",
      "train_barr.attrs[\"has_missings\"] = train_data_has_missing_values"
     ],
     "language": "python",
     "metadata": {},
     "outputs": [],
     "prompt_number": 66
    },
    {
     "cell_type": "code",
     "collapsed": false,
     "input": [
      "test_barr = blz.barray(ii[len(train_data):],rootdir=test_blz_root)"
     ],
     "language": "python",
     "metadata": {},
     "outputs": [],
     "prompt_number": 61
    },
    {
     "cell_type": "code",
     "collapsed": false,
     "input": [
      "test_barr.attrs[\"states\"] = uu.tolist()\n",
      "test_barr.attrs[\"has_missings\"] = test_data_has_missing_values"
     ],
     "language": "python",
     "metadata": {},
     "outputs": [],
     "prompt_number": 70
    },
    {
     "cell_type": "code",
     "collapsed": false,
     "input": [],
     "language": "python",
     "metadata": {},
     "outputs": [],
     "prompt_number": 63
    },
    {
     "cell_type": "code",
     "collapsed": false,
     "input": [
      "def convert_column_to_blz(colname):\n",
      "    if colname.startswith(\"C\"):\n",
      "        train_data = get_one_column_data_list(colname, data_csv_path=TRAINING_DATA_PATH)\n",
      "        test_data = get_one_column_data_list(colname, data_csv_path=TESTING_DATA_PATH)\n",
      "        \n",
      "        train_data_has_missing_values = \"\" in train_data\n",
      "        test_data_has_missing_values = \"\" in test_data\n",
      "        \n",
      "        \n",
      "        all_data_np_array = np.array(train_data + test_data)\n",
      "        \n",
      "        uu, ui, ii = np.unique(all_data_np_array,return_index=True,return_inverse=True)\n",
      "        \n",
      "        train_blz_root = os.path.join(TRAINING_BLZ_PATH,colname)\n",
      "        test_blz_root = os.path.join(TESTING_BLZ_PATH,colname)\n",
      "        \n",
      "        train_barr = blz.barray(ii[:len(train_data)],rootdir=train_blz_root)\n",
      "        train_barr.attrs[\"states\"] = uu.tolist()\n",
      "        train_barr.attrs[\"has_missings\"] = train_data_has_missing_values\n",
      "        \n",
      "        test_barr = blz.barray(ii[len(train_data):],rootdir=test_blz_root)\n",
      "        test_barr.attrs[\"states\"] = uu.tolist()\n",
      "        test_barr.attrs[\"has_missings\"] = test_data_has_missing_values\n",
      "        \n",
      "    else:\n",
      "        data = get_one_column_data_list(colname, data_csv_path=TRAINING_DATA_PATH)\n",
      "        has_missing = \"\" in data\n",
      "        missing_value = int(1.0e16)\n",
      "        if has_missing:\n",
      "            int_data = map(lambda xx: missing_value if xx in [\"\"] else int(xx), data)\n",
      "        else:\n",
      "            int_data = map(int, data)\n",
      "            \n",
      "        blz_root = os.path.join(TRAINING_BLZ_PATH,colname)\n",
      "        barr = blz.barray(int_data,rootdir=blz_root)\n",
      "        barr[\"missing_value\"] = missing_value\n",
      "        barr[\"has_missing\"] = has_missing    \n",
      "        \n",
      "        if colname != \"Label\":\n",
      "            data = get_one_column_data_list(colname, data_csv_path=TESTING_DATA_PATH)\n",
      "            has_missing = \"\" in data\n",
      "            missing_value = int(1.0e16)\n",
      "            if has_missing:\n",
      "                int_data = map(lambda xx: missing_value if xx in [\"\"] else int(xx), data)\n",
      "            else:\n",
      "                int_data = map(int, data)\n",
      "            \n",
      "            blz_root = os.path.join(TESTING_BLZ_PATH,colname)\n",
      "            barr = blz.barray(int_data,rootdir=blz_root)\n",
      "            barr[\"missing_value\"] = missing_value\n",
      "            barr[\"has_missing\"] = has_missing\n",
      "        \n",
      "            \n",
      "            \n",
      "            \n",
      "            \n",
      "        \n",
      "        \n",
      "    "
     ],
     "language": "python",
     "metadata": {},
     "outputs": [],
     "prompt_number": 74
    },
    {
     "cell_type": "code",
     "collapsed": false,
     "input": [],
     "language": "python",
     "metadata": {},
     "outputs": []
    },
    {
     "cell_type": "code",
     "collapsed": false,
     "input": [
      "%time labels = get_one_column_data_list(\"Label\")"
     ],
     "language": "python",
     "metadata": {},
     "outputs": [
      {
       "output_type": "stream",
       "stream": "stdout",
       "text": [
        "CPU times: user 3min 6s, sys: 4.28 s, total: 3min 10s\n",
        "Wall time: 3min 30s\n"
       ]
      }
     ],
     "prompt_number": 72
    },
    {
     "cell_type": "code",
     "collapsed": false,
     "input": [
      "labels"
     ],
     "language": "python",
     "metadata": {},
     "outputs": [
      {
       "metadata": {},
       "output_type": "pyout",
       "prompt_number": 73,
       "text": [
        "['0',\n",
        " '0',\n",
        " '0',\n",
        " '0',\n",
        " '0',\n",
        " '0',\n",
        " '0',\n",
        " '1',\n",
        " '0',\n",
        " '0',\n",
        " '0',\n",
        " '0',\n",
        " '1',\n",
        " '1',\n",
        " '0',\n",
        " '0',\n",
        " '1',\n",
        " '0',\n",
        " '0',\n",
        " '0',\n",
        " '1',\n",
        " '0',\n",
        " '0',\n",
        " '0',\n",
        " '0',\n",
        " '0',\n",
        " '1',\n",
        " '1',\n",
        " '1',\n",
        " '1',\n",
        " '1',\n",
        " '0',\n",
        " '0',\n",
        " '0',\n",
        " '1',\n",
        " '1',\n",
        " '0',\n",
        " '0',\n",
        " '0',\n",
        " '0',\n",
        " '0',\n",
        " '1',\n",
        " '0',\n",
        " '0',\n",
        " '0',\n",
        " '0',\n",
        " '0',\n",
        " '0',\n",
        " '0',\n",
        " '0',\n",
        " '0',\n",
        " '1',\n",
        " '0',\n",
        " '0',\n",
        " '0',\n",
        " '0',\n",
        " '0',\n",
        " '0',\n",
        " '0',\n",
        " '0',\n",
        " '0',\n",
        " '0',\n",
        " '0',\n",
        " '1',\n",
        " '0',\n",
        " '1',\n",
        " '0',\n",
        " '0',\n",
        " '0',\n",
        " '0',\n",
        " '0',\n",
        " '0',\n",
        " '1',\n",
        " '0',\n",
        " '0',\n",
        " '1',\n",
        " '0',\n",
        " '0',\n",
        " '1',\n",
        " '0',\n",
        " '0',\n",
        " '0',\n",
        " '0',\n",
        " '0',\n",
        " '0',\n",
        " '0',\n",
        " '1',\n",
        " '1',\n",
        " '0',\n",
        " '0',\n",
        " '1',\n",
        " '0',\n",
        " '0',\n",
        " '0',\n",
        " '0',\n",
        " '0',\n",
        " '0',\n",
        " '0',\n",
        " '0',\n",
        " '0',\n",
        " '1',\n",
        " '0',\n",
        " '1',\n",
        " '1',\n",
        " '0',\n",
        " '0',\n",
        " '0',\n",
        " '1',\n",
        " '0',\n",
        " '0',\n",
        " '0',\n",
        " '0',\n",
        " '0',\n",
        " '0',\n",
        " '1',\n",
        " '1',\n",
        " '0',\n",
        " '1',\n",
        " '0',\n",
        " '0',\n",
        " '0',\n",
        " '1',\n",
        " '0',\n",
        " '0',\n",
        " '0',\n",
        " '0',\n",
        " '0',\n",
        " '0',\n",
        " '0',\n",
        " '1',\n",
        " '0',\n",
        " '0',\n",
        " '0',\n",
        " '0',\n",
        " '0',\n",
        " '0',\n",
        " '0',\n",
        " '0',\n",
        " '0',\n",
        " '0',\n",
        " '1',\n",
        " '1',\n",
        " '0',\n",
        " '0',\n",
        " '0',\n",
        " '0',\n",
        " '0',\n",
        " '0',\n",
        " '1',\n",
        " '1',\n",
        " '0',\n",
        " '0',\n",
        " '0',\n",
        " '0',\n",
        " '0',\n",
        " '1',\n",
        " '0',\n",
        " '1',\n",
        " '0',\n",
        " '1',\n",
        " '0',\n",
        " '0',\n",
        " '0',\n",
        " '1',\n",
        " '0',\n",
        " '0',\n",
        " '1',\n",
        " '0',\n",
        " '0',\n",
        " '0',\n",
        " '0',\n",
        " '0',\n",
        " '0',\n",
        " '0',\n",
        " '0',\n",
        " '0',\n",
        " '0',\n",
        " '0',\n",
        " '0',\n",
        " '0',\n",
        " '0',\n",
        " '1',\n",
        " '0',\n",
        " '0',\n",
        " '0',\n",
        " '0',\n",
        " '1',\n",
        " '0',\n",
        " '1',\n",
        " '0',\n",
        " '0',\n",
        " '0',\n",
        " '0',\n",
        " '0',\n",
        " '0',\n",
        " '0',\n",
        " '1',\n",
        " '0',\n",
        " '0',\n",
        " '0',\n",
        " '0',\n",
        " '0',\n",
        " '0',\n",
        " '0',\n",
        " '0',\n",
        " '0',\n",
        " '0',\n",
        " '0',\n",
        " '1',\n",
        " '0',\n",
        " '0',\n",
        " '1',\n",
        " '1',\n",
        " '1',\n",
        " '0',\n",
        " '0',\n",
        " '0',\n",
        " '0',\n",
        " '0',\n",
        " '0',\n",
        " '0',\n",
        " '0',\n",
        " '0',\n",
        " '0',\n",
        " '0',\n",
        " '0',\n",
        " '0',\n",
        " '0',\n",
        " '0',\n",
        " '0',\n",
        " '0',\n",
        " '0',\n",
        " '0',\n",
        " '1',\n",
        " '1',\n",
        " '0',\n",
        " '1',\n",
        " '0',\n",
        " '0',\n",
        " '1',\n",
        " '0',\n",
        " '0',\n",
        " '1',\n",
        " '0',\n",
        " '0',\n",
        " '0',\n",
        " '1',\n",
        " '1',\n",
        " '0',\n",
        " '1',\n",
        " '0',\n",
        " '0',\n",
        " '0',\n",
        " '0',\n",
        " '0',\n",
        " '0',\n",
        " '0',\n",
        " '0',\n",
        " '1',\n",
        " '0',\n",
        " '0',\n",
        " '0',\n",
        " '1',\n",
        " '1',\n",
        " '0',\n",
        " '1',\n",
        " '1',\n",
        " '0',\n",
        " '0',\n",
        " '0',\n",
        " '0',\n",
        " '0',\n",
        " '0',\n",
        " '0',\n",
        " '0',\n",
        " '0',\n",
        " '0',\n",
        " '0',\n",
        " '0',\n",
        " '0',\n",
        " '0',\n",
        " '1',\n",
        " '0',\n",
        " '0',\n",
        " '0',\n",
        " '1',\n",
        " '0',\n",
        " '0',\n",
        " '0',\n",
        " '0',\n",
        " '0',\n",
        " '0',\n",
        " '0',\n",
        " '1',\n",
        " '0',\n",
        " '0',\n",
        " '0',\n",
        " '0',\n",
        " '0',\n",
        " '0',\n",
        " '1',\n",
        " '0',\n",
        " '1',\n",
        " '0',\n",
        " '0',\n",
        " '0',\n",
        " '0',\n",
        " '1',\n",
        " '0',\n",
        " '0',\n",
        " '0',\n",
        " '0',\n",
        " '0',\n",
        " '0',\n",
        " '0',\n",
        " '0',\n",
        " '0',\n",
        " '1',\n",
        " '0',\n",
        " '1',\n",
        " '0',\n",
        " '0',\n",
        " '0',\n",
        " '1',\n",
        " '0',\n",
        " '0',\n",
        " '0',\n",
        " '1',\n",
        " '0',\n",
        " '1',\n",
        " '0',\n",
        " '0',\n",
        " '1',\n",
        " '1',\n",
        " '0',\n",
        " '0',\n",
        " '1',\n",
        " '1',\n",
        " '0',\n",
        " '0',\n",
        " '1',\n",
        " '0',\n",
        " '0',\n",
        " '0',\n",
        " '1',\n",
        " '0',\n",
        " '0',\n",
        " '1',\n",
        " '0',\n",
        " '0',\n",
        " '0',\n",
        " '0',\n",
        " '1',\n",
        " '0',\n",
        " '0',\n",
        " '0',\n",
        " '0',\n",
        " '0',\n",
        " '0',\n",
        " '0',\n",
        " '0',\n",
        " '0',\n",
        " '0',\n",
        " '0',\n",
        " '0',\n",
        " '1',\n",
        " '1',\n",
        " '0',\n",
        " '0',\n",
        " '1',\n",
        " '1',\n",
        " '1',\n",
        " '0',\n",
        " '0',\n",
        " '0',\n",
        " '0',\n",
        " '0',\n",
        " '0',\n",
        " '0',\n",
        " '0',\n",
        " '0',\n",
        " '0',\n",
        " '1',\n",
        " '1',\n",
        " '1',\n",
        " '0',\n",
        " '0',\n",
        " '0',\n",
        " '1',\n",
        " '1',\n",
        " '1',\n",
        " '0',\n",
        " '0',\n",
        " '0',\n",
        " '0',\n",
        " '1',\n",
        " '0',\n",
        " '1',\n",
        " '0',\n",
        " '1',\n",
        " '0',\n",
        " '0',\n",
        " '0',\n",
        " '0',\n",
        " '0',\n",
        " '1',\n",
        " '0',\n",
        " '1',\n",
        " '0',\n",
        " '0',\n",
        " '0',\n",
        " '1',\n",
        " '0',\n",
        " '1',\n",
        " '0',\n",
        " '0',\n",
        " '0',\n",
        " '0',\n",
        " '0',\n",
        " '0',\n",
        " '0',\n",
        " '0',\n",
        " '0',\n",
        " '0',\n",
        " '0',\n",
        " '0',\n",
        " '0',\n",
        " '0',\n",
        " '1',\n",
        " '1',\n",
        " '1',\n",
        " '0',\n",
        " '0',\n",
        " '0',\n",
        " '0',\n",
        " '0',\n",
        " '0',\n",
        " '0',\n",
        " '1',\n",
        " '0',\n",
        " '0',\n",
        " '0',\n",
        " '0',\n",
        " '0',\n",
        " '0',\n",
        " '0',\n",
        " '0',\n",
        " '1',\n",
        " '1',\n",
        " '0',\n",
        " '0',\n",
        " '0',\n",
        " '0',\n",
        " '0',\n",
        " '0',\n",
        " '1',\n",
        " '0',\n",
        " '0',\n",
        " '0',\n",
        " '0',\n",
        " '0',\n",
        " '0',\n",
        " '0',\n",
        " '0',\n",
        " '0',\n",
        " '0',\n",
        " '0',\n",
        " '0',\n",
        " '0',\n",
        " '0',\n",
        " '0',\n",
        " '0',\n",
        " '0',\n",
        " '0',\n",
        " '1',\n",
        " '0',\n",
        " '0',\n",
        " '1',\n",
        " '0',\n",
        " '0',\n",
        " '0',\n",
        " '0',\n",
        " '0',\n",
        " '0',\n",
        " '0',\n",
        " '1',\n",
        " '1',\n",
        " '0',\n",
        " '0',\n",
        " '1',\n",
        " '0',\n",
        " '0',\n",
        " '0',\n",
        " '0',\n",
        " '0',\n",
        " '0',\n",
        " '1',\n",
        " '0',\n",
        " '1',\n",
        " '0',\n",
        " '0',\n",
        " '0',\n",
        " '0',\n",
        " '1',\n",
        " '0',\n",
        " '0',\n",
        " '0',\n",
        " '0',\n",
        " '0',\n",
        " '0',\n",
        " '1',\n",
        " '0',\n",
        " '0',\n",
        " '0',\n",
        " '0',\n",
        " '0',\n",
        " '1',\n",
        " '0',\n",
        " '0',\n",
        " '0',\n",
        " '0',\n",
        " '0',\n",
        " '0',\n",
        " '0',\n",
        " '0',\n",
        " '1',\n",
        " '0',\n",
        " '0',\n",
        " '1',\n",
        " '0',\n",
        " '0',\n",
        " '0',\n",
        " '0',\n",
        " '0',\n",
        " '0',\n",
        " '1',\n",
        " '0',\n",
        " '0',\n",
        " '0',\n",
        " '0',\n",
        " '0',\n",
        " '0',\n",
        " '1',\n",
        " '0',\n",
        " '0',\n",
        " '0',\n",
        " '0',\n",
        " '0',\n",
        " '0',\n",
        " '0',\n",
        " '0',\n",
        " '0',\n",
        " '0',\n",
        " '1',\n",
        " '0',\n",
        " '0',\n",
        " '0',\n",
        " '1',\n",
        " '0',\n",
        " '0',\n",
        " '0',\n",
        " '0',\n",
        " '0',\n",
        " '0',\n",
        " '0',\n",
        " '0',\n",
        " '0',\n",
        " '0',\n",
        " '0',\n",
        " '0',\n",
        " '0',\n",
        " '0',\n",
        " '0',\n",
        " '0',\n",
        " '0',\n",
        " '0',\n",
        " '1',\n",
        " '0',\n",
        " '0',\n",
        " '0',\n",
        " '0',\n",
        " '0',\n",
        " '0',\n",
        " '0',\n",
        " '0',\n",
        " '0',\n",
        " '1',\n",
        " '0',\n",
        " '0',\n",
        " '0',\n",
        " '0',\n",
        " '0',\n",
        " '0',\n",
        " '0',\n",
        " '0',\n",
        " '0',\n",
        " '0',\n",
        " '1',\n",
        " '0',\n",
        " '0',\n",
        " '1',\n",
        " '0',\n",
        " '0',\n",
        " '0',\n",
        " '0',\n",
        " '0',\n",
        " '0',\n",
        " '0',\n",
        " '0',\n",
        " '0',\n",
        " '0',\n",
        " '0',\n",
        " '0',\n",
        " '0',\n",
        " '0',\n",
        " '1',\n",
        " '1',\n",
        " '0',\n",
        " '0',\n",
        " '0',\n",
        " '0',\n",
        " '0',\n",
        " '0',\n",
        " '0',\n",
        " '0',\n",
        " '0',\n",
        " '1',\n",
        " '0',\n",
        " '0',\n",
        " '0',\n",
        " '0',\n",
        " '0',\n",
        " '0',\n",
        " '1',\n",
        " '1',\n",
        " '0',\n",
        " '1',\n",
        " '0',\n",
        " '0',\n",
        " '1',\n",
        " '0',\n",
        " '0',\n",
        " '0',\n",
        " '0',\n",
        " '1',\n",
        " '0',\n",
        " '0',\n",
        " '0',\n",
        " '1',\n",
        " '0',\n",
        " '0',\n",
        " '0',\n",
        " '1',\n",
        " '0',\n",
        " '0',\n",
        " '0',\n",
        " '0',\n",
        " '0',\n",
        " '0',\n",
        " '1',\n",
        " '1',\n",
        " '0',\n",
        " '0',\n",
        " '0',\n",
        " '0',\n",
        " '0',\n",
        " '0',\n",
        " '0',\n",
        " '0',\n",
        " '0',\n",
        " '0',\n",
        " '0',\n",
        " '1',\n",
        " '0',\n",
        " '0',\n",
        " '0',\n",
        " '1',\n",
        " '0',\n",
        " '0',\n",
        " '0',\n",
        " '0',\n",
        " '0',\n",
        " '0',\n",
        " '0',\n",
        " '1',\n",
        " '0',\n",
        " '0',\n",
        " '0',\n",
        " '0',\n",
        " '0',\n",
        " '0',\n",
        " '1',\n",
        " '0',\n",
        " '0',\n",
        " '1',\n",
        " '0',\n",
        " '0',\n",
        " '0',\n",
        " '1',\n",
        " '0',\n",
        " '0',\n",
        " '0',\n",
        " '0',\n",
        " '1',\n",
        " '0',\n",
        " '0',\n",
        " '0',\n",
        " '0',\n",
        " '0',\n",
        " '0',\n",
        " '0',\n",
        " '1',\n",
        " '0',\n",
        " '0',\n",
        " '0',\n",
        " '0',\n",
        " '0',\n",
        " '0',\n",
        " '0',\n",
        " '0',\n",
        " '0',\n",
        " '0',\n",
        " '0',\n",
        " '0',\n",
        " '1',\n",
        " '0',\n",
        " '0',\n",
        " '0',\n",
        " '0',\n",
        " '0',\n",
        " '0',\n",
        " '0',\n",
        " '1',\n",
        " '1',\n",
        " '1',\n",
        " '0',\n",
        " '0',\n",
        " '0',\n",
        " '0',\n",
        " '0',\n",
        " '0',\n",
        " '0',\n",
        " '0',\n",
        " '1',\n",
        " '0',\n",
        " '0',\n",
        " '0',\n",
        " '0',\n",
        " '0',\n",
        " '1',\n",
        " '0',\n",
        " '0',\n",
        " '0',\n",
        " '1',\n",
        " '0',\n",
        " '0',\n",
        " '0',\n",
        " '0',\n",
        " '0',\n",
        " '0',\n",
        " '0',\n",
        " '0',\n",
        " '0',\n",
        " '0',\n",
        " '0',\n",
        " '0',\n",
        " '0',\n",
        " '0',\n",
        " '0',\n",
        " '0',\n",
        " '0',\n",
        " '0',\n",
        " '0',\n",
        " '1',\n",
        " '0',\n",
        " '0',\n",
        " '0',\n",
        " '0',\n",
        " '1',\n",
        " '0',\n",
        " '0',\n",
        " '0',\n",
        " '0',\n",
        " '0',\n",
        " '0',\n",
        " '1',\n",
        " '1',\n",
        " '1',\n",
        " '1',\n",
        " '0',\n",
        " '0',\n",
        " '0',\n",
        " '0',\n",
        " '1',\n",
        " '0',\n",
        " '0',\n",
        " '0',\n",
        " '0',\n",
        " '0',\n",
        " '0',\n",
        " '0',\n",
        " '1',\n",
        " '0',\n",
        " '1',\n",
        " '0',\n",
        " '0',\n",
        " '0',\n",
        " '0',\n",
        " '0',\n",
        " '0',\n",
        " '0',\n",
        " '1',\n",
        " '0',\n",
        " '0',\n",
        " '0',\n",
        " '1',\n",
        " '0',\n",
        " '1',\n",
        " '1',\n",
        " '0',\n",
        " '0',\n",
        " '0',\n",
        " '1',\n",
        " '0',\n",
        " '0',\n",
        " '1',\n",
        " '0',\n",
        " '0',\n",
        " '0',\n",
        " '0',\n",
        " '0',\n",
        " '0',\n",
        " '0',\n",
        " '0',\n",
        " '0',\n",
        " '0',\n",
        " '0',\n",
        " '0',\n",
        " '0',\n",
        " '0',\n",
        " '0',\n",
        " '0',\n",
        " '1',\n",
        " '0',\n",
        " '1',\n",
        " '0',\n",
        " '0',\n",
        " '0',\n",
        " '0',\n",
        " '0',\n",
        " '0',\n",
        " '0',\n",
        " '1',\n",
        " '0',\n",
        " '0',\n",
        " '0',\n",
        " '0',\n",
        " '0',\n",
        " '0',\n",
        " '0',\n",
        " '0',\n",
        " '0',\n",
        " '0',\n",
        " '0',\n",
        " '0',\n",
        " '1',\n",
        " '0',\n",
        " '0',\n",
        " '0',\n",
        " '0',\n",
        " '0',\n",
        " '0',\n",
        " '0',\n",
        " '0',\n",
        " '0',\n",
        " '0',\n",
        " '1',\n",
        " '1',\n",
        " '1',\n",
        " '0',\n",
        " '0',\n",
        " '0',\n",
        " '0',\n",
        " '0',\n",
        " '0',\n",
        " '0',\n",
        " '0',\n",
        " '0',\n",
        " '0',\n",
        " '0',\n",
        " '0',\n",
        " '0',\n",
        " '0',\n",
        " '0',\n",
        " '0',\n",
        " '0',\n",
        " '0',\n",
        " '0',\n",
        " '1',\n",
        " '1',\n",
        " '1',\n",
        " '0',\n",
        " '0',\n",
        " '1',\n",
        " '1',\n",
        " '0',\n",
        " '0',\n",
        " '0',\n",
        " '0',\n",
        " '0',\n",
        " '0',\n",
        " '0',\n",
        " '0',\n",
        " '1',\n",
        " '0',\n",
        " '0',\n",
        " '0',\n",
        " '0',\n",
        " '0',\n",
        " '1',\n",
        " '0',\n",
        " '0',\n",
        " '1',\n",
        " '0',\n",
        " '1',\n",
        " '0',\n",
        " '0',\n",
        " '0',\n",
        " '0',\n",
        " '0',\n",
        " '0',\n",
        " '0',\n",
        " '0',\n",
        " '0',\n",
        " '1',\n",
        " '0',\n",
        " '1',\n",
        " '0',\n",
        " '1',\n",
        " '0',\n",
        " '0',\n",
        " '0',\n",
        " '1',\n",
        " '0',\n",
        " '1',\n",
        " '0',\n",
        " '1',\n",
        " '0',\n",
        " '1',\n",
        " '1',\n",
        " '0',\n",
        " '1',\n",
        " '1',\n",
        " '1',\n",
        " '0',\n",
        " '1',\n",
        " '0',\n",
        " '1',\n",
        " '1',\n",
        " '0',\n",
        " '0',\n",
        " '0',\n",
        " '0',\n",
        " '0',\n",
        " '0',\n",
        " '1',\n",
        " '0',\n",
        " '1',\n",
        " '0',\n",
        " '0',\n",
        " '0',\n",
        " '0',\n",
        " '1',\n",
        " '0',\n",
        " '0',\n",
        " '0',\n",
        " '1',\n",
        " '0',\n",
        " '1',\n",
        " '0',\n",
        " '0',\n",
        " '0',\n",
        " '0',\n",
        " '0',\n",
        " '0',\n",
        " '0',\n",
        " '0',\n",
        " '1',\n",
        " '1',\n",
        " '0',\n",
        " '1',\n",
        " '0',\n",
        " '0',\n",
        " '0',\n",
        " '0',\n",
        " '0',\n",
        " '0',\n",
        " '0',\n",
        " '0',\n",
        " '0',\n",
        " ...]"
       ]
      }
     ],
     "prompt_number": 73
    },
    {
     "cell_type": "code",
     "collapsed": false,
     "input": [],
     "language": "python",
     "metadata": {},
     "outputs": []
    },
    {
     "cell_type": "code",
     "collapsed": false,
     "input": [],
     "language": "python",
     "metadata": {},
     "outputs": []
    },
    {
     "cell_type": "code",
     "collapsed": false,
     "input": [
      "%time C1_train_data = get_one_column_data_list(\"C1\", data_csv_path=TRAINING_DATA_PATH)"
     ],
     "language": "python",
     "metadata": {},
     "outputs": [
      {
       "output_type": "stream",
       "stream": "stdout",
       "text": [
        "CPU times: user 6min 49s, sys: 8.52 s, total: 6min 58s\n",
        "Wall time: 7min 15s\n"
       ]
      }
     ],
     "prompt_number": 6
    },
    {
     "cell_type": "code",
     "collapsed": false,
     "input": [
      "len(C1_train_data)"
     ],
     "language": "python",
     "metadata": {},
     "outputs": [
      {
       "metadata": {},
       "output_type": "pyout",
       "prompt_number": 8,
       "text": [
        "45840617"
       ]
      }
     ],
     "prompt_number": 8
    },
    {
     "cell_type": "code",
     "collapsed": false,
     "input": [
      "%time C1_test_data = get_one_column_data_list(\"C1\", data_csv_path=TESTING_DATA_PATH)"
     ],
     "language": "python",
     "metadata": {},
     "outputs": [
      {
       "output_type": "stream",
       "stream": "stdout",
       "text": [
        "CPU times: user 51 s, sys: 1.1 s, total: 52.1 s\n",
        "Wall time: 53.3 s\n"
       ]
      }
     ],
     "prompt_number": 11
    },
    {
     "cell_type": "code",
     "collapsed": false,
     "input": [
      "len(C1_test_data)"
     ],
     "language": "python",
     "metadata": {},
     "outputs": [
      {
       "metadata": {},
       "output_type": "pyout",
       "prompt_number": 35,
       "text": [
        "6042135"
       ]
      }
     ],
     "prompt_number": 35
    },
    {
     "cell_type": "code",
     "collapsed": false,
     "input": [
      "c1_np_arr = np.array(C1_train_data+C1_test_data)"
     ],
     "language": "python",
     "metadata": {},
     "outputs": [],
     "prompt_number": 12
    },
    {
     "cell_type": "code",
     "collapsed": false,
     "input": [
      "uu, ui, ii = np.unique(c1_np_arr,return_index=True,return_inverse=True)"
     ],
     "language": "python",
     "metadata": {},
     "outputs": [],
     "prompt_number": 13
    },
    {
     "cell_type": "code",
     "collapsed": false,
     "input": [
      "uu"
     ],
     "language": "python",
     "metadata": {},
     "outputs": [
      {
       "metadata": {},
       "output_type": "pyout",
       "prompt_number": 14,
       "text": [
        "array(['000d72dd', '003f4253', '00c2e152', ..., 'ffca49ea', 'ffdd8052',\n",
        "       'ffe3cd83'], \n",
        "      dtype='|S8')"
       ]
      }
     ],
     "prompt_number": 14
    },
    {
     "cell_type": "code",
     "collapsed": false,
     "input": [
      "ii[len(C1_train_data):].shape"
     ],
     "language": "python",
     "metadata": {},
     "outputs": [
      {
       "metadata": {},
       "output_type": "pyout",
       "prompt_number": 36,
       "text": [
        "(6042135,)"
       ]
      }
     ],
     "prompt_number": 36
    },
    {
     "cell_type": "code",
     "collapsed": false,
     "input": [],
     "language": "python",
     "metadata": {},
     "outputs": []
    },
    {
     "cell_type": "code",
     "collapsed": false,
     "input": [],
     "language": "python",
     "metadata": {},
     "outputs": []
    },
    {
     "cell_type": "code",
     "collapsed": false,
     "input": [
      "\n"
     ],
     "language": "python",
     "metadata": {},
     "outputs": [],
     "prompt_number": 22
    },
    {
     "cell_type": "code",
     "collapsed": false,
     "input": [
      "barr = blz.barray(ii[:len(C1_train_data)],rootdir=os.path.join(TRAINING_BLZ_PATH,\"C1\"))"
     ],
     "language": "python",
     "metadata": {},
     "outputs": [],
     "prompt_number": 23
    },
    {
     "cell_type": "code",
     "collapsed": false,
     "input": [
      "barr.attrs[\"states\"] = uu.tolist()"
     ],
     "language": "python",
     "metadata": {},
     "outputs": [],
     "prompt_number": 41
    },
    {
     "cell_type": "code",
     "collapsed": false,
     "input": [
      "len(barr.attrs[\"states\"])"
     ],
     "language": "python",
     "metadata": {},
     "outputs": [
      {
       "metadata": {},
       "output_type": "pyout",
       "prompt_number": 42,
       "text": [
        "1460"
       ]
      }
     ],
     "prompt_number": 42
    },
    {
     "cell_type": "code",
     "collapsed": false,
     "input": [],
     "language": "python",
     "metadata": {},
     "outputs": [],
     "prompt_number": 38
    },
    {
     "cell_type": "code",
     "collapsed": false,
     "input": [
      "barr_test = blz.barray(ii[len(C1_train_data):],rootdir=os.path.join(TESTING_BLZ_PATH,\"C1\"))"
     ],
     "language": "python",
     "metadata": {},
     "outputs": [],
     "prompt_number": 39
    },
    {
     "cell_type": "code",
     "collapsed": false,
     "input": [
      "barr_test.attrs[\"states\"] = uu.tolist()"
     ],
     "language": "python",
     "metadata": {},
     "outputs": [],
     "prompt_number": 43
    },
    {
     "cell_type": "code",
     "collapsed": false,
     "input": [
      "barr_test"
     ],
     "language": "python",
     "metadata": {},
     "outputs": [
      {
       "metadata": {},
       "output_type": "pyout",
       "prompt_number": 44,
       "text": [
        "barray((6042135,), int64)\n",
        "  nbytes: 46.10 MB; cbytes: 9.51 MB; ratio: 4.85\n",
        "  bparams := bparams(clevel=5, shuffle=True, cname=blosclz)\n",
        "  rootdir := '/home/c3h3/c3h3works/Kaggles/GithubRepos/DisplayAdvertisingChallenge/data/test_blzs/C1'\n",
        "[539 629  52 ...,  31 629  31]"
       ]
      }
     ],
     "prompt_number": 44
    },
    {
     "cell_type": "code",
     "collapsed": false,
     "input": [],
     "language": "python",
     "metadata": {},
     "outputs": []
    },
    {
     "cell_type": "code",
     "collapsed": false,
     "input": [
      "barr.shape"
     ],
     "language": "python",
     "metadata": {},
     "outputs": [
      {
       "metadata": {},
       "output_type": "pyout",
       "prompt_number": 48,
       "text": [
        "(45840617,)"
       ]
      }
     ],
     "prompt_number": 48
    },
    {
     "cell_type": "code",
     "collapsed": false,
     "input": [],
     "language": "python",
     "metadata": {},
     "outputs": []
    },
    {
     "cell_type": "code",
     "collapsed": false,
     "input": [],
     "language": "python",
     "metadata": {},
     "outputs": []
    },
    {
     "cell_type": "code",
     "collapsed": false,
     "input": [],
     "language": "python",
     "metadata": {},
     "outputs": []
    },
    {
     "cell_type": "code",
     "collapsed": false,
     "input": [],
     "language": "python",
     "metadata": {},
     "outputs": []
    },
    {
     "cell_type": "code",
     "collapsed": false,
     "input": [],
     "language": "python",
     "metadata": {},
     "outputs": []
    },
    {
     "cell_type": "code",
     "collapsed": false,
     "input": [
      "%time I1_col = get_one_column_data_list(get_idx_by_colname(\"I1\")))"
     ],
     "language": "python",
     "metadata": {},
     "outputs": [
      {
       "output_type": "stream",
       "stream": "stdout",
       "text": [
        "CPU times: user 3min 15s, sys: 4.47 s, total: 3min 19s\n",
        "Wall time: 3min 39s\n"
       ]
      }
     ],
     "prompt_number": 4
    },
    {
     "cell_type": "code",
     "collapsed": false,
     "input": [
      "I1_col_new = map(lambda xx: int(1.0e16) if xx in [\"\"] else int(xx), I1_col)"
     ],
     "language": "python",
     "metadata": {},
     "outputs": [],
     "prompt_number": 14
    },
    {
     "cell_type": "code",
     "collapsed": false,
     "input": [
      "import os"
     ],
     "language": "python",
     "metadata": {},
     "outputs": [],
     "prompt_number": 5
    },
    {
     "cell_type": "code",
     "collapsed": false,
     "input": [
      "if not os.path.exists(TRAINING_BLZ_PATH):\n",
      "    os.mkdir(TRAINING_BLZ_PATH)"
     ],
     "language": "python",
     "metadata": {},
     "outputs": [],
     "prompt_number": 9
    },
    {
     "cell_type": "code",
     "collapsed": false,
     "input": [
      "os.path.exists(TRAINING_BLZ_PATH)"
     ],
     "language": "python",
     "metadata": {},
     "outputs": [
      {
       "metadata": {},
       "output_type": "pyout",
       "prompt_number": 10,
       "text": [
        "True"
       ]
      }
     ],
     "prompt_number": 10
    },
    {
     "cell_type": "code",
     "collapsed": false,
     "input": [
      "os.path.join(TRAINING_BLZ_PATH,\"I1\")"
     ],
     "language": "python",
     "metadata": {},
     "outputs": [
      {
       "metadata": {},
       "output_type": "pyout",
       "prompt_number": 11,
       "text": [
        "'/home/c3h3/c3h3works/Kaggles/GithubRepos/DisplayAdvertisingChallenge/data/train_blzs/I1'"
       ]
      }
     ],
     "prompt_number": 11
    },
    {
     "cell_type": "code",
     "collapsed": false,
     "input": [],
     "language": "python",
     "metadata": {},
     "outputs": []
    },
    {
     "cell_type": "code",
     "collapsed": false,
     "input": [
      "import blz"
     ],
     "language": "python",
     "metadata": {},
     "outputs": [],
     "prompt_number": 12
    },
    {
     "cell_type": "code",
     "collapsed": false,
     "input": [
      "barr = blz.barray(I1_col_new,rootdir=os.path.join(TRAINING_BLZ_PATH,\"I1\"))"
     ],
     "language": "python",
     "metadata": {},
     "outputs": [],
     "prompt_number": 15
    },
    {
     "cell_type": "code",
     "collapsed": false,
     "input": [
      "barr.attrs[\"missing_values\"] = 1.0e10"
     ],
     "language": "python",
     "metadata": {},
     "outputs": [],
     "prompt_number": 17
    },
    {
     "cell_type": "code",
     "collapsed": false,
     "input": [
      "barr[:1000000]"
     ],
     "language": "python",
     "metadata": {},
     "outputs": [
      {
       "metadata": {},
       "output_type": "pyout",
       "prompt_number": 24,
       "text": [
        "array([                1,                 2,                 2, ...,\n",
        "       10000000000000000,                26, 10000000000000000])"
       ]
      }
     ],
     "prompt_number": 24
    },
    {
     "cell_type": "code",
     "collapsed": false,
     "input": [],
     "language": "python",
     "metadata": {},
     "outputs": []
    },
    {
     "cell_type": "code",
     "collapsed": false,
     "input": [],
     "language": "python",
     "metadata": {},
     "outputs": []
    },
    {
     "cell_type": "code",
     "collapsed": false,
     "input": [
      "TRAINING_DATA_PATH"
     ],
     "language": "python",
     "metadata": {},
     "outputs": [
      {
       "metadata": {},
       "output_type": "pyout",
       "prompt_number": 6,
       "text": [
        "'/home/c3h3/c3h3works/Kaggles/GithubRepos/DisplayAdvertisingChallenge/data/train.csv'"
       ]
      }
     ],
     "prompt_number": 6
    },
    {
     "cell_type": "code",
     "collapsed": false,
     "input": [
      "TRAINING_COLUMNS_PATH"
     ],
     "language": "python",
     "metadata": {},
     "outputs": [
      {
       "metadata": {},
       "output_type": "pyout",
       "prompt_number": 7,
       "text": [
        "'/home/c3h3/c3h3works/Kaggles/GithubRepos/DisplayAdvertisingChallenge/data/train_cols'"
       ]
      }
     ],
     "prompt_number": 7
    },
    {
     "cell_type": "code",
     "collapsed": false,
     "input": [],
     "language": "python",
     "metadata": {},
     "outputs": [],
     "prompt_number": 10
    },
    {
     "cell_type": "code",
     "collapsed": false,
     "input": [],
     "language": "python",
     "metadata": {},
     "outputs": []
    },
    {
     "cell_type": "code",
     "collapsed": false,
     "input": [],
     "language": "python",
     "metadata": {},
     "outputs": []
    },
    {
     "cell_type": "code",
     "collapsed": false,
     "input": [
      "arr = np.array(I1_col_new)"
     ],
     "language": "python",
     "metadata": {},
     "outputs": [],
     "prompt_number": 6
    },
    {
     "cell_type": "code",
     "collapsed": false,
     "input": [
      "arr"
     ],
     "language": "python",
     "metadata": {},
     "outputs": [
      {
       "metadata": {},
       "output_type": "pyout",
       "prompt_number": 7,
       "text": [
        "array([                1,                 2,                 2, ...,\n",
        "                       0, 10000000000000000,                 0])"
       ]
      }
     ],
     "prompt_number": 7
    },
    {
     "cell_type": "code",
     "collapsed": false,
     "input": [
      "import blz"
     ],
     "language": "python",
     "metadata": {},
     "outputs": [],
     "prompt_number": 8
    },
    {
     "cell_type": "code",
     "collapsed": false,
     "input": [
      "test = blz.open(\"test_blz\")"
     ],
     "language": "python",
     "metadata": {},
     "outputs": [],
     "prompt_number": 23
    },
    {
     "cell_type": "code",
     "collapsed": false,
     "input": [],
     "language": "python",
     "metadata": {},
     "outputs": [],
     "prompt_number": 30
    },
    {
     "cell_type": "code",
     "collapsed": false,
     "input": [
      "non_missing = blz.eval(\"test<%s\" % test.attrs[\"missing_value\"] )"
     ],
     "language": "python",
     "metadata": {},
     "outputs": [],
     "prompt_number": 31
    },
    {
     "cell_type": "code",
     "collapsed": false,
     "input": [
      "tt = test[non_missing]"
     ],
     "language": "python",
     "metadata": {},
     "outputs": [],
     "prompt_number": 34
    },
    {
     "cell_type": "code",
     "collapsed": false,
     "input": [
      "tt.mean()"
     ],
     "language": "python",
     "metadata": {},
     "outputs": [
      {
       "metadata": {},
       "output_type": "pyout",
       "prompt_number": 38,
       "text": [
        "3.5024133170754044"
       ]
      }
     ],
     "prompt_number": 38
    },
    {
     "cell_type": "code",
     "collapsed": false,
     "input": [],
     "language": "python",
     "metadata": {},
     "outputs": []
    },
    {
     "cell_type": "code",
     "collapsed": false,
     "input": [],
     "language": "python",
     "metadata": {},
     "outputs": []
    },
    {
     "cell_type": "code",
     "collapsed": false,
     "input": [
      "barr = blz.barray(arr,blz.bparams(clevel=9),rootdir=\"test_blz3\",)"
     ],
     "language": "python",
     "metadata": {},
     "outputs": [],
     "prompt_number": 18
    },
    {
     "cell_type": "code",
     "collapsed": false,
     "input": [
      "barr"
     ],
     "language": "python",
     "metadata": {},
     "outputs": [
      {
       "metadata": {},
       "output_type": "pyout",
       "prompt_number": 19,
       "text": [
        "barray((45840617,), int64)\n",
        "  nbytes: 349.74 MB; cbytes: 135.38 MB; ratio: 2.58\n",
        "  bparams := bparams(clevel=9, shuffle=True, cname=blosclz)\n",
        "  rootdir := 'test_blz3'\n",
        "[                1                 2                 2 ...,\n",
        "                 0 10000000000000000                 0]"
       ]
      }
     ],
     "prompt_number": 19
    },
    {
     "cell_type": "code",
     "collapsed": false,
     "input": [
      "barr.attrs[\"missing_value\"] = 1.0e16"
     ],
     "language": "python",
     "metadata": {},
     "outputs": [],
     "prompt_number": 11
    },
    {
     "cell_type": "code",
     "collapsed": false,
     "input": [
      "barr.attrs"
     ],
     "language": "python",
     "metadata": {},
     "outputs": [
      {
       "metadata": {},
       "output_type": "pyout",
       "prompt_number": 13,
       "text": [
        "missing_value : 1e+16"
       ]
      }
     ],
     "prompt_number": 13
    },
    {
     "cell_type": "code",
     "collapsed": false,
     "input": [
      "barr"
     ],
     "language": "python",
     "metadata": {},
     "outputs": [
      {
       "output_type": "stream",
       "stream": "stderr",
       "text": [
        "-c:1: RuntimeWarning: overflow encountered in long_scalars\n"
       ]
      },
      {
       "metadata": {},
       "output_type": "pyout",
       "prompt_number": 15,
       "text": [
        "3860801146021909608"
       ]
      }
     ],
     "prompt_number": 15
    },
    {
     "cell_type": "code",
     "collapsed": false,
     "input": [],
     "language": "python",
     "metadata": {},
     "outputs": [],
     "prompt_number": 11
    },
    {
     "cell_type": "code",
     "collapsed": false,
     "input": [
      "import numpy as np"
     ],
     "language": "python",
     "metadata": {},
     "outputs": [],
     "prompt_number": 12
    },
    {
     "cell_type": "code",
     "collapsed": false,
     "input": [
      "np.log10(2**32)"
     ],
     "language": "python",
     "metadata": {},
     "outputs": [
      {
       "metadata": {},
       "output_type": "pyout",
       "prompt_number": 13,
       "text": [
        "9.6329598612473983"
       ]
      }
     ],
     "prompt_number": 13
    },
    {
     "cell_type": "code",
     "collapsed": false,
     "input": [
      "I1_col_new = map(lambda xx: int(1.0e16) if xx in [\"\"] else int(xx), I1_col)"
     ],
     "language": "python",
     "metadata": {},
     "outputs": [],
     "prompt_number": 14
    },
    {
     "cell_type": "code",
     "collapsed": false,
     "input": [],
     "language": "python",
     "metadata": {},
     "outputs": [],
     "prompt_number": 20
    },
    {
     "cell_type": "code",
     "collapsed": false,
     "input": [
      "arr = np.array(I1_col_new)"
     ],
     "language": "python",
     "metadata": {},
     "outputs": [],
     "prompt_number": 15
    },
    {
     "cell_type": "code",
     "collapsed": false,
     "input": [
      "uu, ui, ii = np.unique(arr,return_index=True,return_inverse=True)"
     ],
     "language": "python",
     "metadata": {},
     "outputs": [],
     "prompt_number": 16
    },
    {
     "cell_type": "code",
     "collapsed": false,
     "input": [
      "uu"
     ],
     "language": "python",
     "metadata": {},
     "outputs": [
      {
       "metadata": {},
       "output_type": "pyout",
       "prompt_number": 19,
       "text": [
        "array([                0,                 1,                 2,\n",
        "                       3,                 4,                 5,\n",
        "                       6,                 7,                 8,\n",
        "                       9,                10,                11,\n",
        "                      12,                13,                14,\n",
        "                      15,                16,                17,\n",
        "                      18,                19,                20,\n",
        "                      21,                22,                23,\n",
        "                      24,                25,                26,\n",
        "                      27,                28,                29,\n",
        "                      30,                31,                32,\n",
        "                      33,                34,                35,\n",
        "                      36,                37,                38,\n",
        "                      39,                40,                41,\n",
        "                      42,                43,                44,\n",
        "                      45,                46,                47,\n",
        "                      48,                49,                50,\n",
        "                      51,                52,                53,\n",
        "                      54,                55,                56,\n",
        "                      57,                58,                59,\n",
        "                      60,                61,                62,\n",
        "                      63,                64,                65,\n",
        "                      66,                67,                68,\n",
        "                      69,                70,                71,\n",
        "                      72,                73,                74,\n",
        "                      75,                76,                77,\n",
        "                      78,                79,                80,\n",
        "                      81,                82,                83,\n",
        "                      84,                85,                86,\n",
        "                      87,                88,                89,\n",
        "                      90,                91,                92,\n",
        "                      93,                94,                95,\n",
        "                      96,                97,                98,\n",
        "                      99,               100,               101,\n",
        "                     102,               103,               104,\n",
        "                     105,               106,               107,\n",
        "                     108,               109,               110,\n",
        "                     111,               112,               113,\n",
        "                     114,               115,               116,\n",
        "                     117,               118,               119,\n",
        "                     120,               121,               122,\n",
        "                     123,               124,               125,\n",
        "                     126,               127,               128,\n",
        "                     129,               130,               131,\n",
        "                     132,               133,               134,\n",
        "                     135,               136,               137,\n",
        "                     138,               139,               140,\n",
        "                     141,               142,               143,\n",
        "                     144,               145,               146,\n",
        "                     147,               148,               149,\n",
        "                     150,               151,               152,\n",
        "                     153,               154,               155,\n",
        "                     156,               157,               158,\n",
        "                     159,               160,               161,\n",
        "                     162,               163,               164,\n",
        "                     165,               166,               167,\n",
        "                     168,               169,               170,\n",
        "                     171,               172,               173,\n",
        "                     174,               175,               176,\n",
        "                     177,               178,               179,\n",
        "                     180,               181,               182,\n",
        "                     183,               184,               185,\n",
        "                     186,               187,               188,\n",
        "                     189,               190,               191,\n",
        "                     192,               193,               194,\n",
        "                     195,               196,               197,\n",
        "                     198,               199,               200,\n",
        "                     201,               202,               203,\n",
        "                     204,               205,               206,\n",
        "                     207,               208,               209,\n",
        "                     210,               211,               212,\n",
        "                     213,               214,               215,\n",
        "                     216,               217,               218,\n",
        "                     219,               220,               221,\n",
        "                     222,               223,               224,\n",
        "                     225,               226,               227,\n",
        "                     228,               229,               230,\n",
        "                     231,               232,               233,\n",
        "                     234,               235,               236,\n",
        "                     237,               238,               239,\n",
        "                     240,               241,               242,\n",
        "                     243,               244,               245,\n",
        "                     246,               247,               248,\n",
        "                     249,               250,               251,\n",
        "                     252,               253,               254,\n",
        "                     255,               256,               257,\n",
        "                     258,               259,               260,\n",
        "                     261,               262,               263,\n",
        "                     264,               265,               266,\n",
        "                     267,               268,               269,\n",
        "                     270,               271,               272,\n",
        "                     273,               274,               275,\n",
        "                     276,               277,               278,\n",
        "                     279,               280,               281,\n",
        "                     282,               283,               284,\n",
        "                     285,               286,               287,\n",
        "                     288,               289,               290,\n",
        "                     291,               292,               293,\n",
        "                     294,               295,               296,\n",
        "                     297,               298,               299,\n",
        "                     300,               301,               302,\n",
        "                     303,               304,               305,\n",
        "                     306,               307,               308,\n",
        "                     309,               310,               311,\n",
        "                     312,               313,               314,\n",
        "                     315,               316,               317,\n",
        "                     318,               319,               320,\n",
        "                     321,               322,               323,\n",
        "                     324,               325,               326,\n",
        "                     327,               328,               329,\n",
        "                     330,               331,               332,\n",
        "                     333,               334,               335,\n",
        "                     336,               337,               338,\n",
        "                     339,               340,               341,\n",
        "                     342,               343,               344,\n",
        "                     345,               346,               347,\n",
        "                     348,               349,               350,\n",
        "                     351,               352,               353,\n",
        "                     354,               355,               356,\n",
        "                     357,               358,               359,\n",
        "                     360,               361,               362,\n",
        "                     363,               364,               365,\n",
        "                     366,               367,               368,\n",
        "                     369,               370,               372,\n",
        "                     373,               374,               375,\n",
        "                     376,               377,               378,\n",
        "                     379,               380,               381,\n",
        "                     382,               383,               384,\n",
        "                     385,               386,               387,\n",
        "                     388,               389,               390,\n",
        "                     391,               392,               393,\n",
        "                     394,               395,               397,\n",
        "                     398,               399,               400,\n",
        "                     401,               402,               403,\n",
        "                     404,               405,               406,\n",
        "                     407,               409,               410,\n",
        "                     411,               412,               413,\n",
        "                     414,               415,               416,\n",
        "                     417,               418,               419,\n",
        "                     420,               421,               422,\n",
        "                     423,               424,               425,\n",
        "                     426,               427,               428,\n",
        "                     429,               430,               432,\n",
        "                     433,               434,               435,\n",
        "                     436,               437,               440,\n",
        "                     441,               442,               443,\n",
        "                     444,               445,               446,\n",
        "                     447,               448,               449,\n",
        "                     451,               452,               453,\n",
        "                     454,               455,               456,\n",
        "                     457,               458,               459,\n",
        "                     460,               461,               462,\n",
        "                     464,               465,               466,\n",
        "                     467,               468,               471,\n",
        "                     473,               474,               475,\n",
        "                     477,               478,               479,\n",
        "                     481,               484,               485,\n",
        "                     486,               487,               488,\n",
        "                     490,               492,               496,\n",
        "                     497,               498,               499,\n",
        "                     500,               502,               503,\n",
        "                     504,               505,               506,\n",
        "                     507,               508,               510,\n",
        "                     512,               513,               515,\n",
        "                     519,               522,               524,\n",
        "                     525,               526,               527,\n",
        "                     528,               529,               531,\n",
        "                     535,               539,               540,\n",
        "                     542,               544,               546,\n",
        "                     547,               548,               550,\n",
        "                     551,               552,               553,\n",
        "                     556,               557,               558,\n",
        "                     560,               561,               562,\n",
        "                     563,               564,               565,\n",
        "                     566,               567,               570,\n",
        "                     572,               575,               578,\n",
        "                     582,               583,               584,\n",
        "                     586,               587,               588,\n",
        "                     589,               590,               591,\n",
        "                     593,               595,               596,\n",
        "                     597,               598,               600,\n",
        "                     601,               606,               612,\n",
        "                     614,               615,               617,\n",
        "                     620,               622,               635,\n",
        "                     640,               643,               644,\n",
        "                     645,               649,               650,\n",
        "                     651,               652,               653,\n",
        "                     654,               656,               658,\n",
        "                     662,               663,               666,\n",
        "                     669,               674,               675,\n",
        "                     676,               681,               682,\n",
        "                     683,               684,               685,\n",
        "                     687,               688,               689,\n",
        "                     690,               692,               694,\n",
        "                     698,               699,               701,\n",
        "                     703,               706,               708,\n",
        "                     713,               715,               716,\n",
        "                     717,               722,               723,\n",
        "                     744,               747,               760,\n",
        "                     765,               766,               768,\n",
        "                     774,               780,               781,\n",
        "                     786,               816,               825,\n",
        "                     833,               845,               860,\n",
        "                     893,               897,               898,\n",
        "                     908,               911,               917,\n",
        "                     922,               936,               944,\n",
        "                     957,               958,               976,\n",
        "                     988,               990,              1003,\n",
        "                    1011,              1013,              1041,\n",
        "                    1086,              1103,              1140,\n",
        "                    1152,              1159,              1186,\n",
        "                    1198,              1199,              1209,\n",
        "                    1262,              1312,              1433,\n",
        "                    1538,              1539,              1575,\n",
        "                    1781,              1900,              2047,\n",
        "                    2344,              4106,              5775,\n",
        "       10000000000000000])"
       ]
      }
     ],
     "prompt_number": 19
    },
    {
     "cell_type": "code",
     "collapsed": false,
     "input": [
      "uu"
     ],
     "language": "python",
     "metadata": {},
     "outputs": [
      {
       "metadata": {},
       "output_type": "pyout",
       "prompt_number": 18,
       "text": [
        "array([                0,                 1,                 2,\n",
        "                       3,                 4,                 5,\n",
        "                       6,                 7,                 8,\n",
        "                       9,                10,                11,\n",
        "                      12,                13,                14,\n",
        "                      15,                16,                17,\n",
        "                      18,                19,                20,\n",
        "                      21,                22,                23,\n",
        "                      24,                25,                26,\n",
        "                      27,                28,                29,\n",
        "                      30,                31,                32,\n",
        "                      33,                34,                35,\n",
        "                      36,                37,                38,\n",
        "                      39,                40,                41,\n",
        "                      42,                43,                44,\n",
        "                      45,                46,                47,\n",
        "                      48,                49,                50,\n",
        "                      51,                52,                53,\n",
        "                      54,                55,                56,\n",
        "                      57,                58,                59,\n",
        "                      60,                61,                62,\n",
        "                      63,                64,                65,\n",
        "                      66,                67,                68,\n",
        "                      69,                70,                71,\n",
        "                      72,                73,                74,\n",
        "                      75,                76,                77,\n",
        "                      78,                79,                80,\n",
        "                      81,                82,                83,\n",
        "                      84,                85,                86,\n",
        "                      87,                88,                89,\n",
        "                      90,                91,                92,\n",
        "                      93,                94,                95,\n",
        "                      96,                97,                98,\n",
        "                      99,               100,               101,\n",
        "                     102,               103,               104,\n",
        "                     105,               106,               107,\n",
        "                     108,               109,               110,\n",
        "                     111,               112,               113,\n",
        "                     114,               115,               116,\n",
        "                     117,               118,               119,\n",
        "                     120,               121,               122,\n",
        "                     123,               124,               125,\n",
        "                     126,               127,               128,\n",
        "                     129,               130,               131,\n",
        "                     132,               133,               134,\n",
        "                     135,               136,               137,\n",
        "                     138,               139,               140,\n",
        "                     141,               142,               143,\n",
        "                     144,               145,               146,\n",
        "                     147,               148,               149,\n",
        "                     150,               151,               152,\n",
        "                     153,               154,               155,\n",
        "                     156,               157,               158,\n",
        "                     159,               160,               161,\n",
        "                     162,               163,               164,\n",
        "                     165,               166,               167,\n",
        "                     168,               169,               170,\n",
        "                     171,               172,               173,\n",
        "                     174,               175,               176,\n",
        "                     177,               178,               179,\n",
        "                     180,               181,               182,\n",
        "                     183,               184,               185,\n",
        "                     186,               187,               188,\n",
        "                     189,               190,               191,\n",
        "                     192,               193,               194,\n",
        "                     195,               196,               197,\n",
        "                     198,               199,               200,\n",
        "                     201,               202,               203,\n",
        "                     204,               205,               206,\n",
        "                     207,               208,               209,\n",
        "                     210,               211,               212,\n",
        "                     213,               214,               215,\n",
        "                     216,               217,               218,\n",
        "                     219,               220,               221,\n",
        "                     222,               223,               224,\n",
        "                     225,               226,               227,\n",
        "                     228,               229,               230,\n",
        "                     231,               232,               233,\n",
        "                     234,               235,               236,\n",
        "                     237,               238,               239,\n",
        "                     240,               241,               242,\n",
        "                     243,               244,               245,\n",
        "                     246,               247,               248,\n",
        "                     249,               250,               251,\n",
        "                     252,               253,               254,\n",
        "                     255,               256,               257,\n",
        "                     258,               259,               260,\n",
        "                     261,               262,               263,\n",
        "                     264,               265,               266,\n",
        "                     267,               268,               269,\n",
        "                     270,               271,               272,\n",
        "                     273,               274,               275,\n",
        "                     276,               277,               278,\n",
        "                     279,               280,               281,\n",
        "                     282,               283,               284,\n",
        "                     285,               286,               287,\n",
        "                     288,               289,               290,\n",
        "                     291,               292,               293,\n",
        "                     294,               295,               296,\n",
        "                     297,               298,               299,\n",
        "                     300,               301,               302,\n",
        "                     303,               304,               305,\n",
        "                     306,               307,               308,\n",
        "                     309,               310,               311,\n",
        "                     312,               313,               314,\n",
        "                     315,               316,               317,\n",
        "                     318,               319,               320,\n",
        "                     321,               322,               323,\n",
        "                     324,               325,               326,\n",
        "                     327,               328,               329,\n",
        "                     330,               331,               332,\n",
        "                     333,               334,               335,\n",
        "                     336,               337,               338,\n",
        "                     339,               340,               341,\n",
        "                     342,               343,               344,\n",
        "                     345,               346,               347,\n",
        "                     348,               349,               350,\n",
        "                     351,               352,               353,\n",
        "                     354,               355,               356,\n",
        "                     357,               358,               359,\n",
        "                     360,               361,               362,\n",
        "                     363,               364,               365,\n",
        "                     366,               367,               368,\n",
        "                     369,               370,               372,\n",
        "                     373,               374,               375,\n",
        "                     376,               377,               378,\n",
        "                     379,               380,               381,\n",
        "                     382,               383,               384,\n",
        "                     385,               386,               387,\n",
        "                     388,               389,               390,\n",
        "                     391,               392,               393,\n",
        "                     394,               395,               397,\n",
        "                     398,               399,               400,\n",
        "                     401,               402,               403,\n",
        "                     404,               405,               406,\n",
        "                     407,               409,               410,\n",
        "                     411,               412,               413,\n",
        "                     414,               415,               416,\n",
        "                     417,               418,               419,\n",
        "                     420,               421,               422,\n",
        "                     423,               424,               425,\n",
        "                     426,               427,               428,\n",
        "                     429,               430,               432,\n",
        "                     433,               434,               435,\n",
        "                     436,               437,               440,\n",
        "                     441,               442,               443,\n",
        "                     444,               445,               446,\n",
        "                     447,               448,               449,\n",
        "                     451,               452,               453,\n",
        "                     454,               455,               456,\n",
        "                     457,               458,               459,\n",
        "                     460,               461,               462,\n",
        "                     464,               465,               466,\n",
        "                     467,               468,               471,\n",
        "                     473,               474,               475,\n",
        "                     477,               478,               479,\n",
        "                     481,               484,               485,\n",
        "                     486,               487,               488,\n",
        "                     490,               492,               496,\n",
        "                     497,               498,               499,\n",
        "                     500,               502,               503,\n",
        "                     504,               505,               506,\n",
        "                     507,               508,               510,\n",
        "                     512,               513,               515,\n",
        "                     519,               522,               524,\n",
        "                     525,               526,               527,\n",
        "                     528,               529,               531,\n",
        "                     535,               539,               540,\n",
        "                     542,               544,               546,\n",
        "                     547,               548,               550,\n",
        "                     551,               552,               553,\n",
        "                     556,               557,               558,\n",
        "                     560,               561,               562,\n",
        "                     563,               564,               565,\n",
        "                     566,               567,               570,\n",
        "                     572,               575,               578,\n",
        "                     582,               583,               584,\n",
        "                     586,               587,               588,\n",
        "                     589,               590,               591,\n",
        "                     593,               595,               596,\n",
        "                     597,               598,               600,\n",
        "                     601,               606,               612,\n",
        "                     614,               615,               617,\n",
        "                     620,               622,               635,\n",
        "                     640,               643,               644,\n",
        "                     645,               649,               650,\n",
        "                     651,               652,               653,\n",
        "                     654,               656,               658,\n",
        "                     662,               663,               666,\n",
        "                     669,               674,               675,\n",
        "                     676,               681,               682,\n",
        "                     683,               684,               685,\n",
        "                     687,               688,               689,\n",
        "                     690,               692,               694,\n",
        "                     698,               699,               701,\n",
        "                     703,               706,               708,\n",
        "                     713,               715,               716,\n",
        "                     717,               722,               723,\n",
        "                     744,               747,               760,\n",
        "                     765,               766,               768,\n",
        "                     774,               780,               781,\n",
        "                     786,               816,               825,\n",
        "                     833,               845,               860,\n",
        "                     893,               897,               898,\n",
        "                     908,               911,               917,\n",
        "                     922,               936,               944,\n",
        "                     957,               958,               976,\n",
        "                     988,               990,              1003,\n",
        "                    1011,              1013,              1041,\n",
        "                    1086,              1103,              1140,\n",
        "                    1152,              1159,              1186,\n",
        "                    1198,              1199,              1209,\n",
        "                    1262,              1312,              1433,\n",
        "                    1538,              1539,              1575,\n",
        "                    1781,              1900,              2047,\n",
        "                    2344,              4106,              5775,\n",
        "       10000000000000000])"
       ]
      }
     ],
     "prompt_number": 18
    },
    {
     "cell_type": "code",
     "collapsed": false,
     "input": [],
     "language": "python",
     "metadata": {},
     "outputs": []
    },
    {
     "cell_type": "code",
     "collapsed": false,
     "input": [],
     "language": "python",
     "metadata": {},
     "outputs": []
    },
    {
     "cell_type": "code",
     "collapsed": false,
     "input": [],
     "language": "python",
     "metadata": {},
     "outputs": []
    },
    {
     "cell_type": "code",
     "collapsed": false,
     "input": [],
     "language": "python",
     "metadata": {},
     "outputs": []
    },
    {
     "cell_type": "code",
     "collapsed": false,
     "input": [],
     "language": "python",
     "metadata": {},
     "outputs": []
    },
    {
     "cell_type": "code",
     "collapsed": false,
     "input": [],
     "language": "python",
     "metadata": {},
     "outputs": []
    },
    {
     "cell_type": "code",
     "collapsed": false,
     "input": [
      "uu_missing = uu == \"\""
     ],
     "language": "python",
     "metadata": {},
     "outputs": [],
     "prompt_number": 10
    },
    {
     "cell_type": "code",
     "collapsed": false,
     "input": [
      "uu[uu_missing] = 0"
     ],
     "language": "python",
     "metadata": {},
     "outputs": [],
     "prompt_number": 11
    },
    {
     "cell_type": "code",
     "collapsed": false,
     "input": [
      "uu_ma = np.ma.array(uu.astype(np.int_),mask=uu_missing)"
     ],
     "language": "python",
     "metadata": {},
     "outputs": [],
     "prompt_number": 12
    },
    {
     "cell_type": "code",
     "collapsed": false,
     "input": [
      "uu_ma[ii]"
     ],
     "language": "python",
     "metadata": {},
     "outputs": [
      {
       "metadata": {},
       "output_type": "pyout",
       "prompt_number": 13,
       "text": [
        "masked_array(data = [1 2 2 ..., 0 -- 0],\n",
        "             mask = [False False False ..., False  True False],\n",
        "       fill_value = 999999)"
       ]
      }
     ],
     "prompt_number": 13
    },
    {
     "cell_type": "code",
     "collapsed": false,
     "input": [
      "uu_ma"
     ],
     "language": "python",
     "metadata": {},
     "outputs": [
      {
       "metadata": {},
       "output_type": "pyout",
       "prompt_number": 14,
       "text": [
        "masked_array(data = [-- 0 1 10 100 1003 101 1011 1013 102 103 104 1041 105 106 107 108 1086 109\n",
        " 11 110 1103 111 112 113 114 1140 115 1152 1159 116 117 118 1186 119 1198\n",
        " 1199 12 120 1209 121 122 123 124 125 126 1262 127 128 129 13 130 131 1312\n",
        " 132 133 134 135 136 137 138 139 14 140 141 142 143 1433 144 145 146 147\n",
        " 148 149 15 150 151 152 153 1538 1539 154 155 156 157 1575 158 159 16 160\n",
        " 161 162 163 164 165 166 167 168 169 17 170 171 172 173 174 175 176 177 178\n",
        " 1781 179 18 180 181 182 183 184 185 186 187 188 189 19 190 1900 191 192\n",
        " 193 194 195 196 197 198 199 2 20 200 201 202 203 204 2047 205 206 207 208\n",
        " 209 21 210 211 212 213 214 215 216 217 218 219 22 220 221 222 223 224 225\n",
        " 226 227 228 229 23 230 231 232 233 234 2344 235 236 237 238 239 24 240 241\n",
        " 242 243 244 245 246 247 248 249 25 250 251 252 253 254 255 256 257 258 259\n",
        " 26 260 261 262 263 264 265 266 267 268 269 27 270 271 272 273 274 275 276\n",
        " 277 278 279 28 280 281 282 283 284 285 286 287 288 289 29 290 291 292 293\n",
        " 294 295 296 297 298 299 3 30 300 301 302 303 304 305 306 307 308 309 31\n",
        " 310 311 312 313 314 315 316 317 318 319 32 320 321 322 323 324 325 326 327\n",
        " 328 329 33 330 331 332 333 334 335 336 337 338 339 34 340 341 342 343 344\n",
        " 345 346 347 348 349 35 350 351 352 353 354 355 356 357 358 359 36 360 361\n",
        " 362 363 364 365 366 367 368 369 37 370 372 373 374 375 376 377 378 379 38\n",
        " 380 381 382 383 384 385 386 387 388 389 39 390 391 392 393 394 395 397 398\n",
        " 399 4 40 400 401 402 403 404 405 406 407 409 41 410 4106 411 412 413 414\n",
        " 415 416 417 418 419 42 420 421 422 423 424 425 426 427 428 429 43 430 432\n",
        " 433 434 435 436 437 44 440 441 442 443 444 445 446 447 448 449 45 451 452\n",
        " 453 454 455 456 457 458 459 46 460 461 462 464 465 466 467 468 47 471 473\n",
        " 474 475 477 478 479 48 481 484 485 486 487 488 49 490 492 496 497 498 499\n",
        " 5 50 500 502 503 504 505 506 507 508 51 510 512 513 515 519 52 522 524 525\n",
        " 526 527 528 529 53 531 535 539 54 540 542 544 546 547 548 55 550 551 552\n",
        " 553 556 557 558 56 560 561 562 563 564 565 566 567 57 570 572 575 5775 578\n",
        " 58 582 583 584 586 587 588 589 59 590 591 593 595 596 597 598 6 60 600 601\n",
        " 606 61 612 614 615 617 62 620 622 63 635 64 640 643 644 645 649 65 650 651\n",
        " 652 653 654 656 658 66 662 663 666 669 67 674 675 676 68 681 682 683 684\n",
        " 685 687 688 689 69 690 692 694 698 699 7 70 701 703 706 708 71 713 715 716\n",
        " 717 72 722 723 73 74 744 747 75 76 760 765 766 768 77 774 78 780 781 786\n",
        " 79 8 80 81 816 82 825 83 833 84 845 85 86 860 87 88 89 893 897 898 9 90\n",
        " 908 91 911 917 92 922 93 936 94 944 95 957 958 96 97 976 98 988 99 990],\n",
        "             mask = [ True False False False False False False False False False False False\n",
        " False False False False False False False False False False False False\n",
        " False False False False False False False False False False False False\n",
        " False False False False False False False False False False False False\n",
        " False False False False False False False False False False False False\n",
        " False False False False False False False False False False False False\n",
        " False False False False False False False False False False False False\n",
        " False False False False False False False False False False False False\n",
        " False False False False False False False False False False False False\n",
        " False False False False False False False False False False False False\n",
        " False False False False False False False False False False False False\n",
        " False False False False False False False False False False False False\n",
        " False False False False False False False False False False False False\n",
        " False False False False False False False False False False False False\n",
        " False False False False False False False False False False False False\n",
        " False False False False False False False False False False False False\n",
        " False False False False False False False False False False False False\n",
        " False False False False False False False False False False False False\n",
        " False False False False False False False False False False False False\n",
        " False False False False False False False False False False False False\n",
        " False False False False False False False False False False False False\n",
        " False False False False False False False False False False False False\n",
        " False False False False False False False False False False False False\n",
        " False False False False False False False False False False False False\n",
        " False False False False False False False False False False False False\n",
        " False False False False False False False False False False False False\n",
        " False False False False False False False False False False False False\n",
        " False False False False False False False False False False False False\n",
        " False False False False False False False False False False False False\n",
        " False False False False False False False False False False False False\n",
        " False False False False False False False False False False False False\n",
        " False False False False False False False False False False False False\n",
        " False False False False False False False False False False False False\n",
        " False False False False False False False False False False False False\n",
        " False False False False False False False False False False False False\n",
        " False False False False False False False False False False False False\n",
        " False False False False False False False False False False False False\n",
        " False False False False False False False False False False False False\n",
        " False False False False False False False False False False False False\n",
        " False False False False False False False False False False False False\n",
        " False False False False False False False False False False False False\n",
        " False False False False False False False False False False False False\n",
        " False False False False False False False False False False False False\n",
        " False False False False False False False False False False False False\n",
        " False False False False False False False False False False False False\n",
        " False False False False False False False False False False False False\n",
        " False False False False False False False False False False False False\n",
        " False False False False False False False False False False False False\n",
        " False False False False False False False False False False False False\n",
        " False False False False False False False False False False False False\n",
        " False False False False False False False False False False False False\n",
        " False False False False False False False False False False False False\n",
        " False False False False False False False False False False False False\n",
        " False False False False False False False False False False False False\n",
        " False],\n",
        "       fill_value = 999999)"
       ]
      }
     ],
     "prompt_number": 14
    },
    {
     "cell_type": "code",
     "collapsed": false,
     "input": [],
     "language": "python",
     "metadata": {},
     "outputs": [],
     "prompt_number": 15
    },
    {
     "cell_type": "code",
     "collapsed": false,
     "input": [],
     "language": "python",
     "metadata": {},
     "outputs": []
    },
    {
     "cell_type": "code",
     "collapsed": false,
     "input": [
      "uu_ma[ii]"
     ],
     "language": "python",
     "metadata": {},
     "outputs": [
      {
       "metadata": {},
       "output_type": "pyout",
       "prompt_number": 38,
       "text": [
        "masked_array(data = [1 2 2 ..., 0 -- 0],\n",
        "             mask = [False False False ..., False  True False],\n",
        "       fill_value = 999999)"
       ]
      }
     ],
     "prompt_number": 38
    },
    {
     "cell_type": "code",
     "collapsed": false,
     "input": [
      "\n",
      "import PlaYnlp.tokenizer as tkr \n",
      "import PlaYnlp.vectorizer as vcr\n",
      "from PlaYnlp import dataio\n",
      "\n",
      "from PlaYnlp.sparse import L0_norm_col_summarizer as L0_col_sum\n",
      "from PlaYnlp.sparse import L1_norm_col_summarizer as L1_col_sum\n",
      "import numpy as np\n",
      "import scipy as sp"
     ],
     "language": "python",
     "metadata": {},
     "outputs": [
      {
       "output_type": "stream",
       "stream": "stderr",
       "text": [
        "/home/c3h3/.pyenv/versions/py27/lib/python2.7/site-packages/pytz/__init__.py:29: UserWarning: Module argparse was already imported from /home/c3h3/.pyenv/versions/2.7.7/lib/python2.7/argparse.pyc, but /home/c3h3/.pyenv/versions/py27/lib/python2.7/site-packages is being added to sys.path\n",
        "  from pkg_resources import resource_stream\n"
       ]
      }
     ],
     "prompt_number": 43
    },
    {
     "cell_type": "code",
     "collapsed": false,
     "input": [
      "import pandas as pd \n",
      "test_text_df = pd.DataFrame([u\"\u4eca\u5929\u5929\u6c23\u5f88\u597d\",u\"\u4eca\u5929\u5929\u6c23\u5f88\u721b\",u\"\u6211\u6068\u5b83\",u\"\u5b83\u6068\u6211\",u\"\u6211\u611b\u5b83\",u\"\u5b83\u611b\u6211\",u\"\u4eca\u5929\u5f88\u8870\",u\"\u65e5\u5b50\u4e00\u5929\u4e00\u5929\u904e\",u\"\u5929\u5929\u5237\u7259\u6d17\u81c9\"])\n",
      "test_text_df.columns = [\"text\"]\n",
      "test_text_df = test_text_df.reset_index()\n",
      "test_text_df[\"idx\"] = map(lambda xx :u\"%05d\" % xx,test_text_df[\"index\"])\n",
      "test_text_df[\"r1\"] = np.random.randn(test_text_df.shape[0])\n",
      "test_text_df[\"r2\"] = np.random.randn(test_text_df.shape[0])\n",
      "test_text_df"
     ],
     "language": "python",
     "metadata": {},
     "outputs": [
      {
       "html": [
        "<div style=\"max-height:1000px;max-width:1500px;overflow:auto;\">\n",
        "<table border=\"1\" class=\"dataframe\">\n",
        "  <thead>\n",
        "    <tr style=\"text-align: right;\">\n",
        "      <th></th>\n",
        "      <th>index</th>\n",
        "      <th>text</th>\n",
        "      <th>idx</th>\n",
        "      <th>r1</th>\n",
        "      <th>r2</th>\n",
        "    </tr>\n",
        "  </thead>\n",
        "  <tbody>\n",
        "    <tr>\n",
        "      <th>0</th>\n",
        "      <td> 0</td>\n",
        "      <td>  \u4eca\u5929\u5929\u6c23\u5f88\u597d</td>\n",
        "      <td> 00000</td>\n",
        "      <td>-0.577254</td>\n",
        "      <td>-0.025249</td>\n",
        "    </tr>\n",
        "    <tr>\n",
        "      <th>1</th>\n",
        "      <td> 1</td>\n",
        "      <td>  \u4eca\u5929\u5929\u6c23\u5f88\u721b</td>\n",
        "      <td> 00001</td>\n",
        "      <td> 1.274340</td>\n",
        "      <td>-0.727531</td>\n",
        "    </tr>\n",
        "    <tr>\n",
        "      <th>2</th>\n",
        "      <td> 2</td>\n",
        "      <td>     \u6211\u6068\u5b83</td>\n",
        "      <td> 00002</td>\n",
        "      <td> 0.540304</td>\n",
        "      <td> 1.567799</td>\n",
        "    </tr>\n",
        "    <tr>\n",
        "      <th>3</th>\n",
        "      <td> 3</td>\n",
        "      <td>     \u5b83\u6068\u6211</td>\n",
        "      <td> 00003</td>\n",
        "      <td> 0.539942</td>\n",
        "      <td> 0.013552</td>\n",
        "    </tr>\n",
        "    <tr>\n",
        "      <th>4</th>\n",
        "      <td> 4</td>\n",
        "      <td>     \u6211\u611b\u5b83</td>\n",
        "      <td> 00004</td>\n",
        "      <td> 0.027461</td>\n",
        "      <td>-0.850859</td>\n",
        "    </tr>\n",
        "    <tr>\n",
        "      <th>5</th>\n",
        "      <td> 5</td>\n",
        "      <td>     \u5b83\u611b\u6211</td>\n",
        "      <td> 00005</td>\n",
        "      <td>-0.893288</td>\n",
        "      <td> 0.060551</td>\n",
        "    </tr>\n",
        "    <tr>\n",
        "      <th>6</th>\n",
        "      <td> 6</td>\n",
        "      <td>    \u4eca\u5929\u5f88\u8870</td>\n",
        "      <td> 00006</td>\n",
        "      <td>-0.248208</td>\n",
        "      <td> 1.506969</td>\n",
        "    </tr>\n",
        "    <tr>\n",
        "      <th>7</th>\n",
        "      <td> 7</td>\n",
        "      <td> \u65e5\u5b50\u4e00\u5929\u4e00\u5929\u904e</td>\n",
        "      <td> 00007</td>\n",
        "      <td>-1.747410</td>\n",
        "      <td>-0.290709</td>\n",
        "    </tr>\n",
        "    <tr>\n",
        "      <th>8</th>\n",
        "      <td> 8</td>\n",
        "      <td>  \u5929\u5929\u5237\u7259\u6d17\u81c9</td>\n",
        "      <td> 00008</td>\n",
        "      <td>-1.172036</td>\n",
        "      <td>-1.073680</td>\n",
        "    </tr>\n",
        "  </tbody>\n",
        "</table>\n",
        "</div>"
       ],
       "metadata": {},
       "output_type": "pyout",
       "prompt_number": 44,
       "text": [
        "   index     text    idx        r1        r2\n",
        "0      0   \u4eca\u5929\u5929\u6c23\u5f88\u597d  00000 -0.577254 -0.025249\n",
        "1      1   \u4eca\u5929\u5929\u6c23\u5f88\u721b  00001  1.274340 -0.727531\n",
        "2      2      \u6211\u6068\u5b83  00002  0.540304  1.567799\n",
        "3      3      \u5b83\u6068\u6211  00003  0.539942  0.013552\n",
        "4      4      \u6211\u611b\u5b83  00004  0.027461 -0.850859\n",
        "5      5      \u5b83\u611b\u6211  00005 -0.893288  0.060551\n",
        "6      6     \u4eca\u5929\u5f88\u8870  00006 -0.248208  1.506969\n",
        "7      7  \u65e5\u5b50\u4e00\u5929\u4e00\u5929\u904e  00007 -1.747410 -0.290709\n",
        "8      8   \u5929\u5929\u5237\u7259\u6d17\u81c9  00008 -1.172036 -1.073680"
       ]
      }
     ],
     "prompt_number": 44
    },
    {
     "cell_type": "code",
     "collapsed": false,
     "input": [
      "\n",
      "from PlaYdata.core.base import ValuesMatrix\n",
      "from PlaYdata.core.base import tools\n",
      "from PlaYdata.core.merge import MultiIndexedDataMatrixMerger, IndexedDataMatrixMerger"
     ],
     "language": "python",
     "metadata": {},
     "outputs": [],
     "prompt_number": 45
    },
    {
     "cell_type": "code",
     "collapsed": false,
     "input": [
      "text_val_matrix = map(lambda xx:ValuesMatrix(list(tools.ngram(xx,[1]))),test_text_df[\"text\"].values)\n",
      "text_idxed_data_matrix = map(lambda xx:xx.build_index_data_matrix()._1d_ngram(2), text_val_matrix)"
     ],
     "language": "python",
     "metadata": {},
     "outputs": [],
     "prompt_number": 46
    },
    {
     "cell_type": "code",
     "collapsed": false,
     "input": [
      "idx_val_matrix = map(lambda xx:ValuesMatrix(xx),test_text_df[\"idx\"].values)\n",
      "idx_states_data_matrix = map(lambda xx:xx.build_index_data_matrix(), idx_val_matrix)"
     ],
     "language": "python",
     "metadata": {},
     "outputs": [],
     "prompt_number": 58
    },
    {
     "cell_type": "code",
     "collapsed": false,
     "input": [
      "mm = IndexedDataMatrixMerger(*text_idxed_data_matrix)"
     ],
     "language": "python",
     "metadata": {},
     "outputs": [],
     "prompt_number": 82
    },
    {
     "cell_type": "code",
     "collapsed": false,
     "input": [
      "mm.merge?"
     ],
     "language": "python",
     "metadata": {},
     "outputs": [],
     "prompt_number": 83
    },
    {
     "cell_type": "code",
     "collapsed": false,
     "input": [],
     "language": "python",
     "metadata": {},
     "outputs": []
    },
    {
     "cell_type": "code",
     "collapsed": false,
     "input": [
      "text_idxed_data_matrix"
     ],
     "language": "python",
     "metadata": {},
     "outputs": [
      {
       "metadata": {},
       "output_type": "pyout",
       "prompt_number": 80,
       "text": [
        "[{IndexedDataMatrix} ValuesMatrix([[u'\\u4eca', u'\\u5929'],\n",
        "        [u'\\u5929', u'\\u5929'],\n",
        "        [u'\\u5929', u'\\u6c23'],\n",
        "        [u'\\u6c23', u'\\u5f88'],\n",
        "        [u'\\u5f88', u'\\u597d']], \n",
        "       dtype='<U1'), {IndexedDataMatrix} ValuesMatrix([[u'\\u4eca', u'\\u5929'],\n",
        "        [u'\\u5929', u'\\u5929'],\n",
        "        [u'\\u5929', u'\\u6c23'],\n",
        "        [u'\\u6c23', u'\\u5f88'],\n",
        "        [u'\\u5f88', u'\\u721b']], \n",
        "       dtype='<U1'), {IndexedDataMatrix} ValuesMatrix([[u'\\u6211', u'\\u6068'],\n",
        "        [u'\\u6068', u'\\u5b83']], \n",
        "       dtype='<U1'), {IndexedDataMatrix} ValuesMatrix([[u'\\u5b83', u'\\u6068'],\n",
        "        [u'\\u6068', u'\\u6211']], \n",
        "       dtype='<U1'), {IndexedDataMatrix} ValuesMatrix([[u'\\u6211', u'\\u611b'],\n",
        "        [u'\\u611b', u'\\u5b83']], \n",
        "       dtype='<U1'), {IndexedDataMatrix} ValuesMatrix([[u'\\u5b83', u'\\u611b'],\n",
        "        [u'\\u611b', u'\\u6211']], \n",
        "       dtype='<U1'), {IndexedDataMatrix} ValuesMatrix([[u'\\u4eca', u'\\u5929'],\n",
        "        [u'\\u5929', u'\\u5f88'],\n",
        "        [u'\\u5f88', u'\\u8870']], \n",
        "       dtype='<U1'), {IndexedDataMatrix} ValuesMatrix([[u'\\u65e5', u'\\u5b50'],\n",
        "        [u'\\u5b50', u'\\u4e00'],\n",
        "        [u'\\u4e00', u'\\u5929'],\n",
        "        [u'\\u5929', u'\\u4e00'],\n",
        "        [u'\\u4e00', u'\\u5929'],\n",
        "        [u'\\u5929', u'\\u904e']], \n",
        "       dtype='<U1'), {IndexedDataMatrix} ValuesMatrix([[u'\\u5929', u'\\u5929'],\n",
        "        [u'\\u5929', u'\\u5237'],\n",
        "        [u'\\u5237', u'\\u7259'],\n",
        "        [u'\\u7259', u'\\u6d17'],\n",
        "        [u'\\u6d17', u'\\u81c9']], \n",
        "       dtype='<U1')]"
       ]
      }
     ],
     "prompt_number": 80
    },
    {
     "cell_type": "code",
     "collapsed": false,
     "input": [],
     "language": "python",
     "metadata": {},
     "outputs": []
    },
    {
     "cell_type": "code",
     "collapsed": false,
     "input": [
      "idx_states_data_matrix"
     ],
     "language": "python",
     "metadata": {},
     "outputs": [
      {
       "metadata": {},
       "output_type": "pyout",
       "prompt_number": 60,
       "text": [
        "[{IndexedDataMatrix} ValuesMatrix([[u'00000']], \n",
        "       dtype='<U5'), {IndexedDataMatrix} ValuesMatrix([[u'00001']], \n",
        "       dtype='<U5'), {IndexedDataMatrix} ValuesMatrix([[u'00002']], \n",
        "       dtype='<U5'), {IndexedDataMatrix} ValuesMatrix([[u'00003']], \n",
        "       dtype='<U5'), {IndexedDataMatrix} ValuesMatrix([[u'00004']], \n",
        "       dtype='<U5'), {IndexedDataMatrix} ValuesMatrix([[u'00005']], \n",
        "       dtype='<U5'), {IndexedDataMatrix} ValuesMatrix([[u'00006']], \n",
        "       dtype='<U5'), {IndexedDataMatrix} ValuesMatrix([[u'00007']], \n",
        "       dtype='<U5'), {IndexedDataMatrix} ValuesMatrix([[u'00008']], \n",
        "       dtype='<U5')]"
       ]
      }
     ],
     "prompt_number": 60
    },
    {
     "cell_type": "code",
     "collapsed": false,
     "input": [
      "data = text_idxed_data_matrix[0]"
     ],
     "language": "python",
     "metadata": {},
     "outputs": [],
     "prompt_number": 63
    },
    {
     "cell_type": "code",
     "collapsed": false,
     "input": [
      "data.states_matrix._eval(data.index_matrix)\n"
     ],
     "language": "python",
     "metadata": {},
     "outputs": [
      {
       "metadata": {},
       "output_type": "pyout",
       "prompt_number": 74,
       "text": [
        "ValuesMatrix([[u'\\u4eca', u'\\u5929'],\n",
        "       [u'\\u5929', u'\\u5929'],\n",
        "       [u'\\u5929', u'\\u6c23'],\n",
        "       [u'\\u6c23', u'\\u5f88'],\n",
        "       [u'\\u5f88', u'\\u597d']], \n",
        "      dtype='<U1')"
       ]
      }
     ],
     "prompt_number": 74
    },
    {
     "cell_type": "code",
     "collapsed": false,
     "input": [],
     "language": "python",
     "metadata": {},
     "outputs": []
    },
    {
     "cell_type": "code",
     "collapsed": false,
     "input": [],
     "language": "python",
     "metadata": {},
     "outputs": []
    },
    {
     "cell_type": "code",
     "collapsed": false,
     "input": [],
     "language": "python",
     "metadata": {},
     "outputs": []
    },
    {
     "cell_type": "code",
     "collapsed": false,
     "input": [],
     "language": "python",
     "metadata": {},
     "outputs": []
    },
    {
     "cell_type": "code",
     "collapsed": false,
     "input": [
      "text_idxed_data_matrix"
     ],
     "language": "python",
     "metadata": {},
     "outputs": [
      {
       "metadata": {},
       "output_type": "pyout",
       "prompt_number": 57,
       "text": [
        "[{IndexedDataMatrix} ValuesMatrix([[u'\\u4eca', u'\\u5929'],\n",
        "        [u'\\u5929', u'\\u5929'],\n",
        "        [u'\\u5929', u'\\u6c23'],\n",
        "        [u'\\u6c23', u'\\u5f88'],\n",
        "        [u'\\u5f88', u'\\u597d']], \n",
        "       dtype='<U1'), {IndexedDataMatrix} ValuesMatrix([[u'\\u4eca', u'\\u5929'],\n",
        "        [u'\\u5929', u'\\u5929'],\n",
        "        [u'\\u5929', u'\\u6c23'],\n",
        "        [u'\\u6c23', u'\\u5f88'],\n",
        "        [u'\\u5f88', u'\\u721b']], \n",
        "       dtype='<U1'), {IndexedDataMatrix} ValuesMatrix([[u'\\u6211', u'\\u6068'],\n",
        "        [u'\\u6068', u'\\u5b83']], \n",
        "       dtype='<U1'), {IndexedDataMatrix} ValuesMatrix([[u'\\u5b83', u'\\u6068'],\n",
        "        [u'\\u6068', u'\\u6211']], \n",
        "       dtype='<U1'), {IndexedDataMatrix} ValuesMatrix([[u'\\u6211', u'\\u611b'],\n",
        "        [u'\\u611b', u'\\u5b83']], \n",
        "       dtype='<U1'), {IndexedDataMatrix} ValuesMatrix([[u'\\u5b83', u'\\u611b'],\n",
        "        [u'\\u611b', u'\\u6211']], \n",
        "       dtype='<U1'), {IndexedDataMatrix} ValuesMatrix([[u'\\u4eca', u'\\u5929'],\n",
        "        [u'\\u5929', u'\\u5f88'],\n",
        "        [u'\\u5f88', u'\\u8870']], \n",
        "       dtype='<U1'), {IndexedDataMatrix} ValuesMatrix([[u'\\u65e5', u'\\u5b50'],\n",
        "        [u'\\u5b50', u'\\u4e00'],\n",
        "        [u'\\u4e00', u'\\u5929'],\n",
        "        [u'\\u5929', u'\\u4e00'],\n",
        "        [u'\\u4e00', u'\\u5929'],\n",
        "        [u'\\u5929', u'\\u904e']], \n",
        "       dtype='<U1'), {IndexedDataMatrix} ValuesMatrix([[u'\\u5929', u'\\u5929'],\n",
        "        [u'\\u5929', u'\\u5237'],\n",
        "        [u'\\u5237', u'\\u7259'],\n",
        "        [u'\\u7259', u'\\u6d17'],\n",
        "        [u'\\u6d17', u'\\u81c9']], \n",
        "       dtype='<U1')]"
       ]
      }
     ],
     "prompt_number": 57
    },
    {
     "cell_type": "code",
     "collapsed": false,
     "input": [],
     "language": "python",
     "metadata": {},
     "outputs": []
    },
    {
     "cell_type": "code",
     "collapsed": false,
     "input": [
      "uu[] = np.ma.masked"
     ],
     "language": "python",
     "metadata": {},
     "outputs": [],
     "prompt_number": 12
    },
    {
     "cell_type": "code",
     "collapsed": false,
     "input": [
      "ma_uu = np.ma.array(uu,mask=uu==\"\")"
     ],
     "language": "python",
     "metadata": {},
     "outputs": [],
     "prompt_number": 18
    },
    {
     "cell_type": "code",
     "collapsed": false,
     "input": [
      "ma_uu.astype(np.int_)"
     ],
     "language": "python",
     "metadata": {},
     "outputs": [
      {
       "ename": "ValueError",
       "evalue": "invalid literal for int() with base 10: ''",
       "output_type": "pyerr",
       "traceback": [
        "\u001b[1;31m---------------------------------------------------------------------------\u001b[0m\n\u001b[1;31mValueError\u001b[0m                                Traceback (most recent call last)",
        "\u001b[1;32m<ipython-input-20-2bb1906b02d7>\u001b[0m in \u001b[0;36m<module>\u001b[1;34m()\u001b[0m\n\u001b[1;32m----> 1\u001b[1;33m \u001b[0mma_uu\u001b[0m\u001b[1;33m.\u001b[0m\u001b[0mastype\u001b[0m\u001b[1;33m(\u001b[0m\u001b[0mnp\u001b[0m\u001b[1;33m.\u001b[0m\u001b[0mint_\u001b[0m\u001b[1;33m)\u001b[0m\u001b[1;33m\u001b[0m\u001b[0m\n\u001b[0m",
        "\u001b[1;32m/home/c3h3/.pyenv/versions/py27/lib/python2.7/site-packages/numpy/ma/core.pyc\u001b[0m in \u001b[0;36mastype\u001b[1;34m(self, newtype)\u001b[0m\n\u001b[0;32m   2963\u001b[0m         \"\"\"\n\u001b[0;32m   2964\u001b[0m         \u001b[0mnewtype\u001b[0m \u001b[1;33m=\u001b[0m \u001b[0mnp\u001b[0m\u001b[1;33m.\u001b[0m\u001b[0mdtype\u001b[0m\u001b[1;33m(\u001b[0m\u001b[0mnewtype\u001b[0m\u001b[1;33m)\u001b[0m\u001b[1;33m\u001b[0m\u001b[0m\n\u001b[1;32m-> 2965\u001b[1;33m         \u001b[0moutput\u001b[0m \u001b[1;33m=\u001b[0m \u001b[0mself\u001b[0m\u001b[1;33m.\u001b[0m\u001b[0m_data\u001b[0m\u001b[1;33m.\u001b[0m\u001b[0mastype\u001b[0m\u001b[1;33m(\u001b[0m\u001b[0mnewtype\u001b[0m\u001b[1;33m)\u001b[0m\u001b[1;33m.\u001b[0m\u001b[0mview\u001b[0m\u001b[1;33m(\u001b[0m\u001b[0mtype\u001b[0m\u001b[1;33m(\u001b[0m\u001b[0mself\u001b[0m\u001b[1;33m)\u001b[0m\u001b[1;33m)\u001b[0m\u001b[1;33m\u001b[0m\u001b[0m\n\u001b[0m\u001b[0;32m   2966\u001b[0m         \u001b[0moutput\u001b[0m\u001b[1;33m.\u001b[0m\u001b[0m_update_from\u001b[0m\u001b[1;33m(\u001b[0m\u001b[0mself\u001b[0m\u001b[1;33m)\u001b[0m\u001b[1;33m\u001b[0m\u001b[0m\n\u001b[0;32m   2967\u001b[0m         \u001b[0mnames\u001b[0m \u001b[1;33m=\u001b[0m \u001b[0moutput\u001b[0m\u001b[1;33m.\u001b[0m\u001b[0mdtype\u001b[0m\u001b[1;33m.\u001b[0m\u001b[0mnames\u001b[0m\u001b[1;33m\u001b[0m\u001b[0m\n",
        "\u001b[1;31mValueError\u001b[0m: invalid literal for int() with base 10: ''"
       ]
      }
     ],
     "prompt_number": 20
    },
    {
     "cell_type": "code",
     "collapsed": false,
     "input": [
      "type(np.ma.masked)"
     ],
     "language": "python",
     "metadata": {},
     "outputs": [
      {
       "metadata": {},
       "output_type": "pyout",
       "prompt_number": 22,
       "text": [
        "numpy.ma.core.MaskedConstant"
       ]
      }
     ],
     "prompt_number": 22
    },
    {
     "cell_type": "code",
     "collapsed": false,
     "input": [],
     "language": "python",
     "metadata": {},
     "outputs": []
    },
    {
     "cell_type": "code",
     "collapsed": false,
     "input": [
      "np.where(np.array([\"1\",\"2\",\"4\"])==\"\")[0]"
     ],
     "language": "python",
     "metadata": {},
     "outputs": [
      {
       "metadata": {},
       "output_type": "pyout",
       "prompt_number": 26,
       "text": [
        "array([], dtype=int64)"
       ]
      }
     ],
     "prompt_number": 26
    },
    {
     "cell_type": "code",
     "collapsed": false,
     "input": [
      "np.ma.array(uu,mask=uu==\"\",dtype=np.int_)"
     ],
     "language": "python",
     "metadata": {},
     "outputs": [
      {
       "ename": "ValueError",
       "evalue": "invalid literal for int() with base 10: ''",
       "output_type": "pyerr",
       "traceback": [
        "\u001b[1;31m---------------------------------------------------------------------------\u001b[0m\n\u001b[1;31mValueError\u001b[0m                                Traceback (most recent call last)",
        "\u001b[1;32m<ipython-input-18-51d89c59ee6b>\u001b[0m in \u001b[0;36m<module>\u001b[1;34m()\u001b[0m\n\u001b[1;32m----> 1\u001b[1;33m \u001b[0mnp\u001b[0m\u001b[1;33m.\u001b[0m\u001b[0mma\u001b[0m\u001b[1;33m.\u001b[0m\u001b[0marray\u001b[0m\u001b[1;33m(\u001b[0m\u001b[0muu\u001b[0m\u001b[1;33m,\u001b[0m\u001b[0mmask\u001b[0m\u001b[1;33m=\u001b[0m\u001b[0muu\u001b[0m\u001b[1;33m==\u001b[0m\u001b[1;34m\"\"\u001b[0m\u001b[1;33m,\u001b[0m\u001b[0mdtype\u001b[0m\u001b[1;33m=\u001b[0m\u001b[0mnp\u001b[0m\u001b[1;33m.\u001b[0m\u001b[0mint_\u001b[0m\u001b[1;33m)\u001b[0m\u001b[1;33m\u001b[0m\u001b[0m\n\u001b[0m",
        "\u001b[1;32m/home/c3h3/.pyenv/versions/py27/lib/python2.7/site-packages/numpy/ma/core.pyc\u001b[0m in \u001b[0;36marray\u001b[1;34m(data, dtype, copy, order, mask, fill_value, keep_mask, hard_mask, shrink, subok, ndmin)\u001b[0m\n\u001b[0;32m   5810\u001b[0m     return MaskedArray(data, mask=mask, dtype=dtype, copy=copy, subok=subok,\n\u001b[0;32m   5811\u001b[0m                        \u001b[0mkeep_mask\u001b[0m\u001b[1;33m=\u001b[0m\u001b[0mkeep_mask\u001b[0m\u001b[1;33m,\u001b[0m \u001b[0mhard_mask\u001b[0m\u001b[1;33m=\u001b[0m\u001b[0mhard_mask\u001b[0m\u001b[1;33m,\u001b[0m\u001b[1;33m\u001b[0m\u001b[0m\n\u001b[1;32m-> 5812\u001b[1;33m                        fill_value=fill_value, ndmin=ndmin, shrink=shrink)\n\u001b[0m\u001b[0;32m   5813\u001b[0m \u001b[0marray\u001b[0m\u001b[1;33m.\u001b[0m\u001b[0m__doc__\u001b[0m \u001b[1;33m=\u001b[0m \u001b[0mmasked_array\u001b[0m\u001b[1;33m.\u001b[0m\u001b[0m__doc__\u001b[0m\u001b[1;33m\u001b[0m\u001b[0m\n\u001b[0;32m   5814\u001b[0m \u001b[1;33m\u001b[0m\u001b[0m\n",
        "\u001b[1;32m/home/c3h3/.pyenv/versions/py27/lib/python2.7/site-packages/numpy/ma/core.pyc\u001b[0m in \u001b[0;36m__new__\u001b[1;34m(cls, data, mask, dtype, copy, subok, ndmin, fill_value, keep_mask, hard_mask, shrink, **options)\u001b[0m\n\u001b[0;32m   2635\u001b[0m         \"\"\"\n\u001b[0;32m   2636\u001b[0m         \u001b[1;31m# Process data............\u001b[0m\u001b[1;33m\u001b[0m\u001b[1;33m\u001b[0m\u001b[0m\n\u001b[1;32m-> 2637\u001b[1;33m         \u001b[0m_data\u001b[0m \u001b[1;33m=\u001b[0m \u001b[0mnp\u001b[0m\u001b[1;33m.\u001b[0m\u001b[0marray\u001b[0m\u001b[1;33m(\u001b[0m\u001b[0mdata\u001b[0m\u001b[1;33m,\u001b[0m \u001b[0mdtype\u001b[0m\u001b[1;33m=\u001b[0m\u001b[0mdtype\u001b[0m\u001b[1;33m,\u001b[0m \u001b[0mcopy\u001b[0m\u001b[1;33m=\u001b[0m\u001b[0mcopy\u001b[0m\u001b[1;33m,\u001b[0m \u001b[0msubok\u001b[0m\u001b[1;33m=\u001b[0m\u001b[0mTrue\u001b[0m\u001b[1;33m,\u001b[0m \u001b[0mndmin\u001b[0m\u001b[1;33m=\u001b[0m\u001b[0mndmin\u001b[0m\u001b[1;33m)\u001b[0m\u001b[1;33m\u001b[0m\u001b[0m\n\u001b[0m\u001b[0;32m   2638\u001b[0m         \u001b[0m_baseclass\u001b[0m \u001b[1;33m=\u001b[0m \u001b[0mgetattr\u001b[0m\u001b[1;33m(\u001b[0m\u001b[0mdata\u001b[0m\u001b[1;33m,\u001b[0m \u001b[1;34m'_baseclass'\u001b[0m\u001b[1;33m,\u001b[0m \u001b[0mtype\u001b[0m\u001b[1;33m(\u001b[0m\u001b[0m_data\u001b[0m\u001b[1;33m)\u001b[0m\u001b[1;33m)\u001b[0m\u001b[1;33m\u001b[0m\u001b[0m\n\u001b[0;32m   2639\u001b[0m         \u001b[1;31m# Check that we're not erasing the mask..........\u001b[0m\u001b[1;33m\u001b[0m\u001b[1;33m\u001b[0m\u001b[0m\n",
        "\u001b[1;31mValueError\u001b[0m: invalid literal for int() with base 10: ''"
       ]
      }
     ],
     "prompt_number": 18
    },
    {
     "cell_type": "code",
     "collapsed": false,
     "input": [],
     "language": "python",
     "metadata": {},
     "outputs": []
    },
    {
     "cell_type": "code",
     "collapsed": false,
     "input": [
      "arr[:5]"
     ],
     "language": "python",
     "metadata": {},
     "outputs": [
      {
       "metadata": {},
       "output_type": "pyout",
       "prompt_number": 10,
       "text": [
        "array(['1', '2', '2', '', '3'], \n",
        "      dtype='|S4')"
       ]
      }
     ],
     "prompt_number": 10
    },
    {
     "cell_type": "code",
     "collapsed": false,
     "input": [
      "uu, ui, ii = np.unique(arr,return_index=True,return_inverse=True)"
     ],
     "language": "python",
     "metadata": {},
     "outputs": [],
     "prompt_number": 111
    },
    {
     "cell_type": "code",
     "collapsed": false,
     "input": [
      "np.ma.array(uu)[ii]"
     ],
     "language": "python",
     "metadata": {},
     "outputs": [
      {
       "metadata": {},
       "output_type": "pyout",
       "prompt_number": 112,
       "text": [
        "masked_array(data = ['1' '2' '2' ..., '0' '' '0'],\n",
        "             mask = False,\n",
        "       fill_value = N/A)"
       ]
      }
     ],
     "prompt_number": 112
    },
    {
     "cell_type": "code",
     "collapsed": false,
     "input": [
      "np.place(uu,uu==\"\",\"-9999999\")"
     ],
     "language": "python",
     "metadata": {},
     "outputs": [],
     "prompt_number": 118
    },
    {
     "cell_type": "code",
     "collapsed": false,
     "input": [
      "uu"
     ],
     "language": "python",
     "metadata": {},
     "outputs": [
      {
       "metadata": {},
       "output_type": "pyout",
       "prompt_number": 119,
       "text": [
        "array(['-999', '9999', '1', '10', '100', '1003', '101', '1011', '1013',\n",
        "       '102', '103', '104', '1041', '105', '106', '107', '108', '1086',\n",
        "       '109', '11', '110', '1103', '111', '112', '113', '114', '1140',\n",
        "       '115', '1152', '1159', '116', '117', '118', '1186', '119', '1198',\n",
        "       '1199', '12', '120', '1209', '121', '122', '123', '124', '125',\n",
        "       '126', '1262', '127', '128', '129', '13', '130', '131', '1312',\n",
        "       '132', '133', '134', '135', '136', '137', '138', '139', '14', '140',\n",
        "       '141', '142', '143', '1433', '144', '145', '146', '147', '148',\n",
        "       '149', '15', '150', '151', '152', '153', '1538', '1539', '154',\n",
        "       '155', '156', '157', '1575', '158', '159', '16', '160', '161',\n",
        "       '162', '163', '164', '165', '166', '167', '168', '169', '17', '170',\n",
        "       '171', '172', '173', '174', '175', '176', '177', '178', '1781',\n",
        "       '179', '18', '180', '181', '182', '183', '184', '185', '186', '187',\n",
        "       '188', '189', '19', '190', '1900', '191', '192', '193', '194',\n",
        "       '195', '196', '197', '198', '199', '2', '20', '200', '201', '202',\n",
        "       '203', '204', '2047', '205', '206', '207', '208', '209', '21',\n",
        "       '210', '211', '212', '213', '214', '215', '216', '217', '218',\n",
        "       '219', '22', '220', '221', '222', '223', '224', '225', '226', '227',\n",
        "       '228', '229', '23', '230', '231', '232', '233', '234', '2344',\n",
        "       '235', '236', '237', '238', '239', '24', '240', '241', '242', '243',\n",
        "       '244', '245', '246', '247', '248', '249', '25', '250', '251', '252',\n",
        "       '253', '254', '255', '256', '257', '258', '259', '26', '260', '261',\n",
        "       '262', '263', '264', '265', '266', '267', '268', '269', '27', '270',\n",
        "       '271', '272', '273', '274', '275', '276', '277', '278', '279', '28',\n",
        "       '280', '281', '282', '283', '284', '285', '286', '287', '288',\n",
        "       '289', '29', '290', '291', '292', '293', '294', '295', '296', '297',\n",
        "       '298', '299', '3', '30', '300', '301', '302', '303', '304', '305',\n",
        "       '306', '307', '308', '309', '31', '310', '311', '312', '313', '314',\n",
        "       '315', '316', '317', '318', '319', '32', '320', '321', '322', '323',\n",
        "       '324', '325', '326', '327', '328', '329', '33', '330', '331', '332',\n",
        "       '333', '334', '335', '336', '337', '338', '339', '34', '340', '341',\n",
        "       '342', '343', '344', '345', '346', '347', '348', '349', '35', '350',\n",
        "       '351', '352', '353', '354', '355', '356', '357', '358', '359', '36',\n",
        "       '360', '361', '362', '363', '364', '365', '366', '367', '368',\n",
        "       '369', '37', '370', '372', '373', '374', '375', '376', '377', '378',\n",
        "       '379', '38', '380', '381', '382', '383', '384', '385', '386', '387',\n",
        "       '388', '389', '39', '390', '391', '392', '393', '394', '395', '397',\n",
        "       '398', '399', '4', '40', '400', '401', '402', '403', '404', '405',\n",
        "       '406', '407', '409', '41', '410', '4106', '411', '412', '413',\n",
        "       '414', '415', '416', '417', '418', '419', '42', '420', '421', '422',\n",
        "       '423', '424', '425', '426', '427', '428', '429', '43', '430', '432',\n",
        "       '433', '434', '435', '436', '437', '44', '440', '441', '442', '443',\n",
        "       '444', '445', '446', '447', '448', '449', '45', '451', '452', '453',\n",
        "       '454', '455', '456', '457', '458', '459', '46', '460', '461', '462',\n",
        "       '464', '465', '466', '467', '468', '47', '471', '473', '474', '475',\n",
        "       '477', '478', '479', '48', '481', '484', '485', '486', '487', '488',\n",
        "       '49', '490', '492', '496', '497', '498', '499', '5', '50', '500',\n",
        "       '502', '503', '504', '505', '506', '507', '508', '51', '510', '512',\n",
        "       '513', '515', '519', '52', '522', '524', '525', '526', '527', '528',\n",
        "       '529', '53', '531', '535', '539', '54', '540', '542', '544', '546',\n",
        "       '547', '548', '55', '550', '551', '552', '553', '556', '557', '558',\n",
        "       '56', '560', '561', '562', '563', '564', '565', '566', '567', '57',\n",
        "       '570', '572', '575', '5775', '578', '58', '582', '583', '584',\n",
        "       '586', '587', '588', '589', '59', '590', '591', '593', '595', '596',\n",
        "       '597', '598', '6', '60', '600', '601', '606', '61', '612', '614',\n",
        "       '615', '617', '62', '620', '622', '63', '635', '64', '640', '643',\n",
        "       '644', '645', '649', '65', '650', '651', '652', '653', '654', '656',\n",
        "       '658', '66', '662', '663', '666', '669', '67', '674', '675', '676',\n",
        "       '68', '681', '682', '683', '684', '685', '687', '688', '689', '69',\n",
        "       '690', '692', '694', '698', '699', '7', '70', '701', '703', '706',\n",
        "       '708', '71', '713', '715', '716', '717', '72', '722', '723', '73',\n",
        "       '74', '744', '747', '75', '76', '760', '765', '766', '768', '77',\n",
        "       '774', '78', '780', '781', '786', '79', '8', '80', '81', '816',\n",
        "       '82', '825', '83', '833', '84', '845', '85', '86', '860', '87',\n",
        "       '88', '89', '893', '897', '898', '9', '90', '908', '91', '911',\n",
        "       '917', '92', '922', '93', '936', '94', '944', '95', '957', '958',\n",
        "       '96', '97', '976', '98', '988', '99', '990'], \n",
        "      dtype='|S4')"
       ]
      }
     ],
     "prompt_number": 119
    },
    {
     "cell_type": "code",
     "collapsed": false,
     "input": [],
     "language": "python",
     "metadata": {},
     "outputs": []
    },
    {
     "cell_type": "code",
     "collapsed": false,
     "input": [
      "np.ma.array?"
     ],
     "language": "python",
     "metadata": {},
     "outputs": [],
     "prompt_number": 71
    },
    {
     "cell_type": "code",
     "collapsed": false,
     "input": [],
     "language": "python",
     "metadata": {},
     "outputs": []
    },
    {
     "cell_type": "code",
     "collapsed": false,
     "input": [
      "uu1,ui1,ii1 = np.unique(arr[:20],return_index=True,return_inverse=True)"
     ],
     "language": "python",
     "metadata": {},
     "outputs": [],
     "prompt_number": 79
    },
    {
     "cell_type": "code",
     "collapsed": false,
     "input": [
      "uu2,ui2,ii2 = np.unique(arr[20:40],return_index=True,return_inverse=True)"
     ],
     "language": "python",
     "metadata": {},
     "outputs": [],
     "prompt_number": 80
    },
    {
     "cell_type": "code",
     "collapsed": false,
     "input": [
      "uu1,ii1"
     ],
     "language": "python",
     "metadata": {},
     "outputs": [
      {
       "metadata": {},
       "output_type": "pyout",
       "prompt_number": 83,
       "text": [
        "(array(['', '0', '1', '2', '3', '7'], \n",
        "       dtype='|S4'),\n",
        " array([2, 3, 3, 0, 4, 0, 0, 2, 0, 0, 0, 1, 1, 0, 1, 0, 2, 1, 1, 5]))"
       ]
      }
     ],
     "prompt_number": 83
    },
    {
     "cell_type": "code",
     "collapsed": false,
     "input": [
      "uu2,ii2"
     ],
     "language": "python",
     "metadata": {},
     "outputs": [
      {
       "metadata": {},
       "output_type": "pyout",
       "prompt_number": 84,
       "text": [
        "(array(['', '0', '1', '3', '4', '6', '8'], \n",
        "       dtype='|S4'),\n",
        " array([0, 1, 0, 0, 1, 0, 1, 1, 1, 3, 0, 0, 2, 4, 2, 1, 0, 5, 1, 6]))"
       ]
      }
     ],
     "prompt_number": 84
    },
    {
     "cell_type": "code",
     "collapsed": false,
     "input": [
      "total_states = np.r_[uu1,uu2]"
     ],
     "language": "python",
     "metadata": {},
     "outputs": [],
     "prompt_number": 105
    },
    {
     "cell_type": "code",
     "collapsed": false,
     "input": [
      "total_states"
     ],
     "language": "python",
     "metadata": {},
     "outputs": [
      {
       "metadata": {},
       "output_type": "pyout",
       "prompt_number": 104,
       "text": [
        "array(['', '0', '1', '2', '3', '7', '', '0', '1', '3', '4', '6', '8'], \n",
        "      dtype='|S4')"
       ]
      }
     ],
     "prompt_number": 104
    },
    {
     "cell_type": "code",
     "collapsed": false,
     "input": [
      "tuu, tui, tii = np.unique(total_states,return_index=True,return_inverse=True)"
     ],
     "language": "python",
     "metadata": {},
     "outputs": [],
     "prompt_number": 87
    },
    {
     "cell_type": "code",
     "collapsed": false,
     "input": [
      "tuu"
     ],
     "language": "python",
     "metadata": {},
     "outputs": [
      {
       "metadata": {},
       "output_type": "pyout",
       "prompt_number": 101,
       "text": [
        "array(['', '0', '1', '2', '3', '4', '6', '7', '8'], \n",
        "      dtype='|S4')"
       ]
      }
     ],
     "prompt_number": 101
    },
    {
     "cell_type": "code",
     "collapsed": false,
     "input": [
      "tii"
     ],
     "language": "python",
     "metadata": {},
     "outputs": [
      {
       "metadata": {},
       "output_type": "pyout",
       "prompt_number": 100,
       "text": [
        "array([0, 1, 2, 3, 4, 7, 0, 1, 2, 4, 5, 6, 8])"
       ]
      }
     ],
     "prompt_number": 100
    },
    {
     "cell_type": "code",
     "collapsed": false,
     "input": [],
     "language": "python",
     "metadata": {},
     "outputs": []
    },
    {
     "cell_type": "code",
     "collapsed": false,
     "input": [
      "trans1 = tii[:uu1.shape[0]]\n",
      "trans1"
     ],
     "language": "python",
     "metadata": {},
     "outputs": [
      {
       "metadata": {},
       "output_type": "pyout",
       "prompt_number": 93,
       "text": [
        "array([0, 1, 2, 3, 4, 7])"
       ]
      }
     ],
     "prompt_number": 93
    },
    {
     "cell_type": "code",
     "collapsed": false,
     "input": [
      "new_ii1 = trans1[ii1]"
     ],
     "language": "python",
     "metadata": {},
     "outputs": [],
     "prompt_number": 96
    },
    {
     "cell_type": "code",
     "collapsed": false,
     "input": [
      "new_ii1"
     ],
     "language": "python",
     "metadata": {},
     "outputs": [
      {
       "metadata": {},
       "output_type": "pyout",
       "prompt_number": 97,
       "text": [
        "array([2, 3, 3, 0, 4, 0, 0, 2, 0, 0, 0, 1, 1, 0, 1, 0, 2, 1, 1, 7])"
       ]
      }
     ],
     "prompt_number": 97
    },
    {
     "cell_type": "code",
     "collapsed": false,
     "input": [
      "trans2 = tii[uu1.shape[0]:]"
     ],
     "language": "python",
     "metadata": {},
     "outputs": [],
     "prompt_number": 94
    },
    {
     "cell_type": "code",
     "collapsed": false,
     "input": [
      "trans2"
     ],
     "language": "python",
     "metadata": {},
     "outputs": [
      {
       "metadata": {},
       "output_type": "pyout",
       "prompt_number": 95,
       "text": [
        "array([0, 1, 2, 4, 5, 6, 8])"
       ]
      }
     ],
     "prompt_number": 95
    },
    {
     "cell_type": "code",
     "collapsed": false,
     "input": [
      "new_ii2 = trans2[ii2]"
     ],
     "language": "python",
     "metadata": {},
     "outputs": [],
     "prompt_number": 98
    },
    {
     "cell_type": "code",
     "collapsed": false,
     "input": [
      "new_ii2"
     ],
     "language": "python",
     "metadata": {},
     "outputs": [
      {
       "metadata": {},
       "output_type": "pyout",
       "prompt_number": 99,
       "text": [
        "array([0, 1, 0, 0, 1, 0, 1, 1, 1, 4, 0, 0, 2, 5, 2, 1, 0, 6, 1, 8])"
       ]
      }
     ],
     "prompt_number": 99
    },
    {
     "cell_type": "code",
     "collapsed": false,
     "input": [],
     "language": "python",
     "metadata": {},
     "outputs": []
    },
    {
     "cell_type": "code",
     "collapsed": false,
     "input": [
      "np.array([int(xx) if xx != \"\" else np.nan for xx in uu ],dtype=np.int_)"
     ],
     "language": "python",
     "metadata": {},
     "outputs": [
      {
       "ename": "ValueError",
       "evalue": "cannot convert float NaN to integer",
       "output_type": "pyerr",
       "traceback": [
        "\u001b[1;31m---------------------------------------------------------------------------\u001b[0m\n\u001b[1;31mValueError\u001b[0m                                Traceback (most recent call last)",
        "\u001b[1;32m<ipython-input-65-273b930a56ef>\u001b[0m in \u001b[0;36m<module>\u001b[1;34m()\u001b[0m\n\u001b[1;32m----> 1\u001b[1;33m \u001b[0mnp\u001b[0m\u001b[1;33m.\u001b[0m\u001b[0marray\u001b[0m\u001b[1;33m(\u001b[0m\u001b[1;33m[\u001b[0m\u001b[0mint\u001b[0m\u001b[1;33m(\u001b[0m\u001b[0mxx\u001b[0m\u001b[1;33m)\u001b[0m \u001b[1;32mif\u001b[0m \u001b[0mxx\u001b[0m \u001b[1;33m!=\u001b[0m \u001b[1;34m\"\"\u001b[0m \u001b[1;32melse\u001b[0m \u001b[0mnp\u001b[0m\u001b[1;33m.\u001b[0m\u001b[0mnan\u001b[0m \u001b[1;32mfor\u001b[0m \u001b[0mxx\u001b[0m \u001b[1;32min\u001b[0m \u001b[0muu\u001b[0m \u001b[1;33m]\u001b[0m\u001b[1;33m,\u001b[0m\u001b[0mdtype\u001b[0m\u001b[1;33m=\u001b[0m\u001b[0mnp\u001b[0m\u001b[1;33m.\u001b[0m\u001b[0mint_\u001b[0m\u001b[1;33m)\u001b[0m\u001b[1;33m\u001b[0m\u001b[0m\n\u001b[0m",
        "\u001b[1;31mValueError\u001b[0m: cannot convert float NaN to integer"
       ]
      }
     ],
     "prompt_number": 65
    },
    {
     "cell_type": "code",
     "collapsed": false,
     "input": [
      "#uu == \"\""
     ],
     "language": "python",
     "metadata": {},
     "outputs": [],
     "prompt_number": 54
    },
    {
     "cell_type": "code",
     "collapsed": false,
     "input": [
      "np.place(uu,uu==\"\",np.nan)"
     ],
     "language": "python",
     "metadata": {},
     "outputs": [],
     "prompt_number": 55
    },
    {
     "cell_type": "code",
     "collapsed": false,
     "input": [
      "uu"
     ],
     "language": "python",
     "metadata": {},
     "outputs": [
      {
       "metadata": {},
       "output_type": "pyout",
       "prompt_number": 56,
       "text": [
        "array(['nan', '', '', '', '', '', '', '', '1013', '102', '103', '104',\n",
        "       '1041', '105', '106', '107', '108', '1086', '109', '11', '110',\n",
        "       '1103', '111', '112', '113', '114', '1140', '115', '1152', '1159',\n",
        "       '116', '117', '118', '1186', '119', '1198', '1199', '12', '120',\n",
        "       '1209', '121', '122', '123', '124', '125', '126', '1262', '127',\n",
        "       '128', '129', '13', '130', '131', '1312', '132', '133', '134',\n",
        "       '135', '136', '137', '138', '139', '14', '140', '141', '142', '143',\n",
        "       '1433', '144', '145', '146', '147', '148', '149', '15', '150',\n",
        "       '151', '152', '153', '1538', '1539', '154', '155', '156', '157',\n",
        "       '1575', '158', '159', '16', '160', '161', '162', '163', '164',\n",
        "       '165', '166', '167', '168', '169', '17', '170', '171', '172', '173',\n",
        "       '174', '175', '176', '177', '178', '1781', '179', '18', '180',\n",
        "       '181', '182', '183', '184', '185', '186', '187', '188', '189', '19',\n",
        "       '190', '1900', '191', '192', '193', '194', '195', '196', '197',\n",
        "       '198', '199', '2', '20', '200', '201', '202', '203', '204', '2047',\n",
        "       '205', '206', '207', '208', '209', '21', '210', '211', '212', '213',\n",
        "       '214', '215', '216', '217', '218', '219', '22', '220', '221', '222',\n",
        "       '223', '224', '225', '226', '227', '228', '229', '23', '230', '231',\n",
        "       '232', '233', '234', '2344', '235', '236', '237', '238', '239',\n",
        "       '24', '240', '241', '242', '243', '244', '245', '246', '247', '248',\n",
        "       '249', '25', '250', '251', '252', '253', '254', '255', '256', '257',\n",
        "       '258', '259', '26', '260', '261', '262', '263', '264', '265', '266',\n",
        "       '267', '268', '269', '27', '270', '271', '272', '273', '274', '275',\n",
        "       '276', '277', '278', '279', '28', '280', '281', '282', '283', '284',\n",
        "       '285', '286', '287', '288', '289', '29', '290', '291', '292', '293',\n",
        "       '294', '295', '296', '297', '298', '299', '3', '30', '300', '301',\n",
        "       '302', '303', '304', '305', '306', '307', '308', '309', '31', '310',\n",
        "       '311', '312', '313', '314', '315', '316', '317', '318', '319', '32',\n",
        "       '320', '321', '322', '323', '324', '325', '326', '327', '328',\n",
        "       '329', '33', '330', '331', '332', '333', '334', '335', '336', '337',\n",
        "       '338', '339', '34', '340', '341', '342', '343', '344', '345', '346',\n",
        "       '347', '348', '349', '35', '350', '351', '352', '353', '354', '355',\n",
        "       '356', '357', '358', '359', '36', '360', '361', '362', '363', '364',\n",
        "       '365', '366', '367', '368', '369', '37', '370', '372', '373', '374',\n",
        "       '375', '376', '377', '378', '379', '38', '380', '381', '382', '383',\n",
        "       '384', '385', '386', '387', '388', '389', '39', '390', '391', '392',\n",
        "       '393', '394', '395', '397', '398', '399', '4', '40', '400', '401',\n",
        "       '402', '403', '404', '405', '406', '407', '409', '41', '410',\n",
        "       '4106', '411', '412', '413', '414', '415', '416', '417', '418',\n",
        "       '419', '42', '420', '421', '422', '423', '424', '425', '426', '427',\n",
        "       '428', '429', '43', '430', '432', '433', '434', '435', '436', '437',\n",
        "       '44', '440', '441', '442', '443', '444', '445', '446', '447', '448',\n",
        "       '449', '45', '451', '452', '453', '454', '455', '456', '457', '458',\n",
        "       '459', '46', '460', '461', '462', '464', '465', '466', '467', '468',\n",
        "       '47', '471', '473', '474', '475', '477', '478', '479', '48', '481',\n",
        "       '484', '485', '486', '487', '488', '49', '490', '492', '496', '497',\n",
        "       '498', '499', '5', '50', '500', '502', '503', '504', '505', '506',\n",
        "       '507', '508', '51', '510', '512', '513', '515', '519', '52', '522',\n",
        "       '524', '525', '526', '527', '528', '529', '53', '531', '535', '539',\n",
        "       '54', '540', '542', '544', '546', '547', '548', '55', '550', '551',\n",
        "       '552', '553', '556', '557', '558', '56', '560', '561', '562', '563',\n",
        "       '564', '565', '566', '567', '57', '570', '572', '575', '5775',\n",
        "       '578', '58', '582', '583', '584', '586', '587', '588', '589', '59',\n",
        "       '590', '591', '593', '595', '596', '597', '598', '6', '60', '600',\n",
        "       '601', '606', '61', '612', '614', '615', '617', '62', '620', '622',\n",
        "       '63', '635', '64', '640', '643', '644', '645', '649', '65', '650',\n",
        "       '651', '652', '653', '654', '656', '658', '66', '662', '663', '666',\n",
        "       '669', '67', '674', '675', '676', '68', '681', '682', '683', '684',\n",
        "       '685', '687', '688', '689', '69', '690', '692', '694', '698', '699',\n",
        "       '7', '70', '701', '703', '706', '708', '71', '713', '715', '716',\n",
        "       '717', '72', '722', '723', '73', '74', '744', '747', '75', '76',\n",
        "       '760', '765', '766', '768', '77', '774', '78', '780', '781', '786',\n",
        "       '79', '8', '80', '81', '816', '82', '825', '83', '833', '84', '845',\n",
        "       '85', '86', '860', '87', '88', '89', '893', '897', '898', '9', '90',\n",
        "       '908', '91', '911', '917', '92', '922', '93', '936', '94', '944',\n",
        "       '95', '957', '958', '96', '97', '976', '98', '988', '99', '990'], \n",
        "      dtype='|S4')"
       ]
      }
     ],
     "prompt_number": 56
    },
    {
     "cell_type": "code",
     "collapsed": false,
     "input": [],
     "language": "python",
     "metadata": {},
     "outputs": []
    },
    {
     "cell_type": "code",
     "collapsed": false,
     "input": [],
     "language": "python",
     "metadata": {},
     "outputs": []
    },
    {
     "cell_type": "code",
     "collapsed": false,
     "input": [],
     "language": "python",
     "metadata": {},
     "outputs": []
    },
    {
     "cell_type": "code",
     "collapsed": false,
     "input": [],
     "language": "python",
     "metadata": {},
     "outputs": []
    },
    {
     "cell_type": "code",
     "collapsed": false,
     "input": [
      "uu[ii]"
     ],
     "language": "python",
     "metadata": {},
     "outputs": [
      {
       "metadata": {},
       "output_type": "pyout",
       "prompt_number": 18,
       "text": [
        "array(['1', '2', '2', ..., '0', '', '0'], \n",
        "      dtype='|S4')"
       ]
      }
     ],
     "prompt_number": 18
    },
    {
     "cell_type": "code",
     "collapsed": false,
     "input": [
      "multi_array = np.c_[arr[:20],arr[20:40]]"
     ],
     "language": "python",
     "metadata": {},
     "outputs": [],
     "prompt_number": 35
    },
    {
     "cell_type": "code",
     "collapsed": false,
     "input": [
      "multi_array_copy = multi_array.copy()"
     ],
     "language": "python",
     "metadata": {},
     "outputs": [],
     "prompt_number": 36
    },
    {
     "cell_type": "code",
     "collapsed": false,
     "input": [
      "multi_array_copy.dtype = np.dtype([(\"c1\",multi_array.dtype), (\"c2\",multi_array.dtype)])"
     ],
     "language": "python",
     "metadata": {},
     "outputs": [],
     "prompt_number": 37
    },
    {
     "cell_type": "code",
     "collapsed": false,
     "input": [
      "multi_array_copy"
     ],
     "language": "python",
     "metadata": {},
     "outputs": [
      {
       "metadata": {},
       "output_type": "pyout",
       "prompt_number": 38,
       "text": [
        "array([[('1', '')],\n",
        "       [('2', '0')],\n",
        "       [('2', '')],\n",
        "       [('', '')],\n",
        "       [('3', '0')],\n",
        "       [('', '')],\n",
        "       [('', '0')],\n",
        "       [('1', '0')],\n",
        "       [('', '0')],\n",
        "       [('', '3')],\n",
        "       [('', '')],\n",
        "       [('0', '')],\n",
        "       [('0', '1')],\n",
        "       [('', '4')],\n",
        "       [('0', '1')],\n",
        "       [('', '0')],\n",
        "       [('1', '')],\n",
        "       [('0', '6')],\n",
        "       [('0', '0')],\n",
        "       [('7', '8')]], \n",
        "      dtype=[('c1', 'S4'), ('c2', 'S4')])"
       ]
      }
     ],
     "prompt_number": 38
    },
    {
     "cell_type": "code",
     "collapsed": false,
     "input": [
      "uu, ui, ii = np.unique(multi_array_copy,return_inverse=True, return_index=True)"
     ],
     "language": "python",
     "metadata": {},
     "outputs": [],
     "prompt_number": 43
    },
    {
     "cell_type": "code",
     "collapsed": false,
     "input": [
      "multi_array[ui,:]"
     ],
     "language": "python",
     "metadata": {},
     "outputs": [
      {
       "metadata": {},
       "output_type": "pyout",
       "prompt_number": 46,
       "text": [
        "array([['', ''],\n",
        "       ['', '0'],\n",
        "       ['', '3'],\n",
        "       ['', '4'],\n",
        "       ['0', ''],\n",
        "       ['0', '0'],\n",
        "       ['0', '1'],\n",
        "       ['0', '6'],\n",
        "       ['1', ''],\n",
        "       ['1', '0'],\n",
        "       ['2', ''],\n",
        "       ['2', '0'],\n",
        "       ['3', '0'],\n",
        "       ['7', '8']], \n",
        "      dtype='|S4')"
       ]
      }
     ],
     "prompt_number": 46
    },
    {
     "cell_type": "code",
     "collapsed": false,
     "input": [
      "uu"
     ],
     "language": "python",
     "metadata": {},
     "outputs": [
      {
       "metadata": {},
       "output_type": "pyout",
       "prompt_number": 42,
       "text": [
        "array([('', ''), ('', '0'), ('', '3'), ('', '4'), ('0', ''), ('0', '0'),\n",
        "       ('0', '1'), ('0', '6'), ('1', ''), ('1', '0'), ('2', ''),\n",
        "       ('2', '0'), ('3', '0'), ('7', '8')], \n",
        "      dtype=[('c1', 'S4'), ('c2', 'S4')])"
       ]
      }
     ],
     "prompt_number": 42
    },
    {
     "cell_type": "code",
     "collapsed": false,
     "input": [
      "np.unique(arr[:20],return_index=True,return_inverse=True)"
     ],
     "language": "python",
     "metadata": {},
     "outputs": [
      {
       "metadata": {},
       "output_type": "pyout",
       "prompt_number": 24,
       "text": [
        "(array(['', '0', '1', '2', '3', '7'], \n",
        "       dtype='|S4'),\n",
        " array([ 3, 11,  0,  1,  4, 19]),\n",
        " array([2, 3, 3, 0, 4, 0, 0, 2, 0, 0, 0, 1, 1, 0, 1, 0, 2, 1, 1, 5]))"
       ]
      }
     ],
     "prompt_number": 24
    },
    {
     "cell_type": "code",
     "collapsed": false,
     "input": [
      "uu, ui, ii "
     ],
     "language": "python",
     "metadata": {},
     "outputs": [
      {
       "metadata": {},
       "output_type": "pyout",
       "prompt_number": 13,
       "text": [
        "(array(['', '0', '1', '10', '100', '1003', '101', '1011', '1013', '102',\n",
        "        '103', '104', '1041', '105', '106', '107', '108', '1086', '109',\n",
        "        '11', '110', '1103', '111', '112', '113', '114', '1140', '115',\n",
        "        '1152', '1159', '116', '117', '118', '1186', '119', '1198', '1199',\n",
        "        '12', '120', '1209', '121', '122', '123', '124', '125', '126',\n",
        "        '1262', '127', '128', '129', '13', '130', '131', '1312', '132',\n",
        "        '133', '134', '135', '136', '137', '138', '139', '14', '140', '141',\n",
        "        '142', '143', '1433', '144', '145', '146', '147', '148', '149',\n",
        "        '15', '150', '151', '152', '153', '1538', '1539', '154', '155',\n",
        "        '156', '157', '1575', '158', '159', '16', '160', '161', '162',\n",
        "        '163', '164', '165', '166', '167', '168', '169', '17', '170', '171',\n",
        "        '172', '173', '174', '175', '176', '177', '178', '1781', '179',\n",
        "        '18', '180', '181', '182', '183', '184', '185', '186', '187', '188',\n",
        "        '189', '19', '190', '1900', '191', '192', '193', '194', '195',\n",
        "        '196', '197', '198', '199', '2', '20', '200', '201', '202', '203',\n",
        "        '204', '2047', '205', '206', '207', '208', '209', '21', '210',\n",
        "        '211', '212', '213', '214', '215', '216', '217', '218', '219', '22',\n",
        "        '220', '221', '222', '223', '224', '225', '226', '227', '228',\n",
        "        '229', '23', '230', '231', '232', '233', '234', '2344', '235',\n",
        "        '236', '237', '238', '239', '24', '240', '241', '242', '243', '244',\n",
        "        '245', '246', '247', '248', '249', '25', '250', '251', '252', '253',\n",
        "        '254', '255', '256', '257', '258', '259', '26', '260', '261', '262',\n",
        "        '263', '264', '265', '266', '267', '268', '269', '27', '270', '271',\n",
        "        '272', '273', '274', '275', '276', '277', '278', '279', '28', '280',\n",
        "        '281', '282', '283', '284', '285', '286', '287', '288', '289', '29',\n",
        "        '290', '291', '292', '293', '294', '295', '296', '297', '298',\n",
        "        '299', '3', '30', '300', '301', '302', '303', '304', '305', '306',\n",
        "        '307', '308', '309', '31', '310', '311', '312', '313', '314', '315',\n",
        "        '316', '317', '318', '319', '32', '320', '321', '322', '323', '324',\n",
        "        '325', '326', '327', '328', '329', '33', '330', '331', '332', '333',\n",
        "        '334', '335', '336', '337', '338', '339', '34', '340', '341', '342',\n",
        "        '343', '344', '345', '346', '347', '348', '349', '35', '350', '351',\n",
        "        '352', '353', '354', '355', '356', '357', '358', '359', '36', '360',\n",
        "        '361', '362', '363', '364', '365', '366', '367', '368', '369', '37',\n",
        "        '370', '372', '373', '374', '375', '376', '377', '378', '379', '38',\n",
        "        '380', '381', '382', '383', '384', '385', '386', '387', '388',\n",
        "        '389', '39', '390', '391', '392', '393', '394', '395', '397', '398',\n",
        "        '399', '4', '40', '400', '401', '402', '403', '404', '405', '406',\n",
        "        '407', '409', '41', '410', '4106', '411', '412', '413', '414',\n",
        "        '415', '416', '417', '418', '419', '42', '420', '421', '422', '423',\n",
        "        '424', '425', '426', '427', '428', '429', '43', '430', '432', '433',\n",
        "        '434', '435', '436', '437', '44', '440', '441', '442', '443', '444',\n",
        "        '445', '446', '447', '448', '449', '45', '451', '452', '453', '454',\n",
        "        '455', '456', '457', '458', '459', '46', '460', '461', '462', '464',\n",
        "        '465', '466', '467', '468', '47', '471', '473', '474', '475', '477',\n",
        "        '478', '479', '48', '481', '484', '485', '486', '487', '488', '49',\n",
        "        '490', '492', '496', '497', '498', '499', '5', '50', '500', '502',\n",
        "        '503', '504', '505', '506', '507', '508', '51', '510', '512', '513',\n",
        "        '515', '519', '52', '522', '524', '525', '526', '527', '528', '529',\n",
        "        '53', '531', '535', '539', '54', '540', '542', '544', '546', '547',\n",
        "        '548', '55', '550', '551', '552', '553', '556', '557', '558', '56',\n",
        "        '560', '561', '562', '563', '564', '565', '566', '567', '57', '570',\n",
        "        '572', '575', '5775', '578', '58', '582', '583', '584', '586',\n",
        "        '587', '588', '589', '59', '590', '591', '593', '595', '596', '597',\n",
        "        '598', '6', '60', '600', '601', '606', '61', '612', '614', '615',\n",
        "        '617', '62', '620', '622', '63', '635', '64', '640', '643', '644',\n",
        "        '645', '649', '65', '650', '651', '652', '653', '654', '656', '658',\n",
        "        '66', '662', '663', '666', '669', '67', '674', '675', '676', '68',\n",
        "        '681', '682', '683', '684', '685', '687', '688', '689', '69', '690',\n",
        "        '692', '694', '698', '699', '7', '70', '701', '703', '706', '708',\n",
        "        '71', '713', '715', '716', '717', '72', '722', '723', '73', '74',\n",
        "        '744', '747', '75', '76', '760', '765', '766', '768', '77', '774',\n",
        "        '78', '780', '781', '786', '79', '8', '80', '81', '816', '82',\n",
        "        '825', '83', '833', '84', '845', '85', '86', '860', '87', '88',\n",
        "        '89', '893', '897', '898', '9', '90', '908', '91', '911', '917',\n",
        "        '92', '922', '93', '936', '94', '944', '95', '957', '958', '96',\n",
        "        '97', '976', '98', '988', '99', '990'], \n",
        "       dtype='|S4'),\n",
        " array([       3,       11,        0,      181,    75840, 15186707,\n",
        "           38559, 38028375,  5940252,    89378,     9987,   106431,\n",
        "        14348182,   124984,    60437,    10464,    26380, 10589609,\n",
        "          147224,      692,    29491, 14573341,    15958,   167537,\n",
        "           28613,     9405, 10522233,   453159, 10118908,  6147639,\n",
        "           62435,   249681,   386286,  1601634,    99751,  6210681,\n",
        "        27995029,      273,    11576,  2799630,   156590,   306203,\n",
        "           85156,   146444,   330878,   270197, 21957250,   132343,\n",
        "          580403,    43573,       82,    64958,   119875,  6701898,\n",
        "           48901,   188242,   439100,   127944,    11555,   179090,\n",
        "           32856,   127750,      230,   132662,    11650,    38246,\n",
        "          276931,  8419760,   663674,   126888,    39753,  1007641,\n",
        "           87217,   387806,      703,    45968,   218069,   788369,\n",
        "           94525,  7531796,  7578062,   910487,    31733,   154041,\n",
        "           78286, 20992893,     3570,   236515,      208,   281596,\n",
        "            2049,    90104,   940549,   213408,    89575,   634506,\n",
        "          332754,   137758,  1507883,      778,  2025762,  1681735,\n",
        "          958022,   772018,   750231,   449230,   339480,   199839,\n",
        "          239323, 12680195,    96161,      585,   493740,  1026638,\n",
        "           52641,   148673,  1163288,   927867,   408488,   872321,\n",
        "            8131,   349452,     1005,   156287, 33688679,  2539284,\n",
        "          128060,   116721,   194863,    76828,   429447,   586044,\n",
        "          166989,    24437,        1,      143,  1622569,   535594,\n",
        "         1831411,  1352162,   119527, 15784264,  1294413,   143585,\n",
        "          310510,   168072,   217302,     2379,   895383,   139200,\n",
        "          138970,  2174997,     3261,   351559,    84036,   196026,\n",
        "         2036650,   441545,     1283,  1953680,  1149644,    68552,\n",
        "           94139,    85025,  4589358,  2517383,  1338783,   581406,\n",
        "           59466,     1679,   132880,   152507,  3376398,  1131038,\n",
        "          175716, 14085597,   198722,  4418185,   110230,   111260,\n",
        "          357667,      486, 10795858,   503304,  1092668,   358266,\n",
        "          145679,  5447408,   128585,  1298621,   563206,  3635618,\n",
        "             978,   996276,  1527205,  7710106,   879176,  1397809,\n",
        "           89517,  3107464,  1549868,   327774,  1290464,      305,\n",
        "         7224144,  3636937,  1754019,  6719804,  1377573,  3166724,\n",
        "         3752038,  1734249,  6458489,   375891,     1989,   609163,\n",
        "         6604169,  4362223,  6459995,  1674968,    37480,  5758960,\n",
        "          909274,  5199194,   596317,      837,  5748510,  2590735,\n",
        "         6294565,  1411215,  4124206,  2047499,  4280692,    27261,\n",
        "         1063279,   959802,      259,  3109286,  4921417,  1017228,\n",
        "         1558475,  3030451,  2050047,  3114198,  1516515,   991043,\n",
        "         2305604,        4,      317,   224726,  5591412,   930717,\n",
        "         2384619,  3073999, 11898549,  5552617,  2819125,   298324,\n",
        "          696024,       47,   802640,  6535727,  6345892,  7892323,\n",
        "           69456,  1498748,   352423,  1821041,   955327,  4958090,\n",
        "            2772,  3905619,  3347990, 10875933, 14063274, 17276240,\n",
        "         1077537,    74025,  4258102,  8084348,  6310770,      632,\n",
        "         3531233, 22483835, 10580174,  7922941,  5466266, 32896174,\n",
        "         1851468,   114385,  4605014, 22433484,     4376,  1620772,\n",
        "          643137,  5738364, 24202819,  7270216, 27190756,   111364,\n",
        "          835083,  1856091, 14321060,      809, 11355296,  1889700,\n",
        "           76842, 29709042, 16939271,  2009075, 18285745,  2135094,\n",
        "         6216660,  2669244,     8903, 12434269,  8412206,   737987,\n",
        "           77728, 12999112, 10308008, 21437761, 15529027, 14938179,\n",
        "         1409425,     1763,   826648,  2127673, 41128210,  1688125,\n",
        "        11148547, 22451013,  5939146,  5023295, 17299495,     4441,\n",
        "         2278188,  4346868,  4327318,  4241000,  2936661, 14076350,\n",
        "        19283706,  3928399, 15186545,  7595145,       62, 28962837,\n",
        "         8343911, 26253545,   479874,  5519544, 39767963,  7976757,\n",
        "        15501226, 14457817,       33,     1829, 19957649,  5771087,\n",
        "         7759524,  3210229,   363930,  2788478, 11751123,  1406418,\n",
        "        23025931,     1171,  5180011, 23456706, 11769936, 13162442,\n",
        "         3371615,  7130506, 13411591,  6250102, 20124124,  7916434,\n",
        "        19417853,     2188,  1442775,   971640,  7647731,  2935242,\n",
        "         3008916,  4729601,  3029490, 44859528, 15628586,   248243,\n",
        "            3465,  4764744,  3169306, 17186325,  7759622, 11230215,\n",
        "        12761046, 44727135,     2450,  6584756, 24709074,  4814253,\n",
        "        20581876,  4322835, 20884895, 12858096, 15745812, 42284277,\n",
        "        11737368,      504, 37902856,  5588595, 36251651,  9282640,\n",
        "        18986547, 22133816, 13957282,  3330900, 12912834,     2231,\n",
        "         6026011, 21560729, 15246757, 10867352, 21421506,    60135,\n",
        "         1688492,  6328030,    12722,  8914794, 23242429, 17281569,\n",
        "        19761616, 35735360, 28170685,  4897112,    10773, 14839080,\n",
        "         9039664,  1618143, 44836143, 10267845, 10629190,     3293,\n",
        "        28804421, 30984381, 34052533, 27038559,  7665090, 13348056,\n",
        "              68,     3741, 12755940,  1649086, 18479483, 36168518,\n",
        "          727138, 19600493, 19304247,  9734582,    22494, 22834907,\n",
        "        17518156, 16886765,  2477417, 19480744,    17126,  3648342,\n",
        "        19440441, 24598498, 19180864,  9405840, 41089921,  6585798,\n",
        "            5178, 12094480, 25867404, 30241297,     3164, 24366605,\n",
        "         3991046,  1845694,  8555977, 23218042, 30372898,    15413,\n",
        "        39774605,  7309189, 34548266, 18633886,    33083,  6051987,\n",
        "        26362683,     2290, 26553087, 26519564, 26573734, 17607926,\n",
        "        17510643, 10680468,  6527330, 18084725,     9653, 40581089,\n",
        "        15592237, 24772056, 26688366, 20311532,    30625,  5431910,\n",
        "        19909447, 26149659, 27428006,  1389276,  9756010, 16844027,\n",
        "            8029, 14607793, 15793208, 13544068, 13673126, 30848223,\n",
        "        14127935, 39269163,       37,    20367, 20191498,   884713,\n",
        "        23632030,     1434, 20593216, 10386807, 13064245,  1712644,\n",
        "            2492, 13874218, 13875715,     1739, 32761112,      356,\n",
        "        16817570, 31251751, 13942676, 32070325, 22745824,     8356,\n",
        "        18879664, 23950522,  4852248, 23856451, 26377433, 41703885,\n",
        "        14980948,    11247, 28337918,   100389,  5310194,  3886383,\n",
        "            5160,   103378,  3914689,  3940805,      677, 41523717,\n",
        "        43678088,  3981934, 11531344,  7185734, 11173570, 38533647,\n",
        "        29464175,     8373, 11381305, 29601217,   406582, 28926878,\n",
        "        34420901,       19,      395, 33245373,  1825813,  3680837,\n",
        "        12125008,    27025, 37430891, 29263623, 12107040, 28576826,\n",
        "           40611,  5178736,  1782464,    10321,     1374, 43978693,\n",
        "        15607919,    26685,     3140, 17432286, 20255670,  2769627,\n",
        "        13434258,    23582, 40742600,    17633,   145404, 42006047,\n",
        "        19466842,    35861,       39,    10492,    10248,  1310274,\n",
        "             186, 40931466,    31663,  2559108,    24130, 39679765,\n",
        "           17558,     4499, 28011200,     7796,       41,    29766,\n",
        "        27570426, 38158892,  6564266,      236,    29029, 11971878,\n",
        "           59238, 31828133, 30709229,    79446, 39716401,    20008,\n",
        "        15126787,    49041, 39761487,     1820, 11633140, 27328390,\n",
        "           70037,    46921, 33215205,    24751, 43454860,    20202, 23868163]),\n",
        " array([  2, 134, 134, ...,   1,   0,   1]))"
       ]
      }
     ],
     "prompt_number": 13
    },
    {
     "cell_type": "code",
     "collapsed": false,
     "input": [
      "uu.astype(np.int_)"
     ],
     "language": "python",
     "metadata": {},
     "outputs": [
      {
       "ename": "ValueError",
       "evalue": "invalid literal for int() with base 10: ''",
       "output_type": "pyerr",
       "traceback": [
        "\u001b[1;31m---------------------------------------------------------------------------\u001b[0m\n\u001b[1;31mValueError\u001b[0m                                Traceback (most recent call last)",
        "\u001b[1;32m<ipython-input-49-49b9732c56f2>\u001b[0m in \u001b[0;36m<module>\u001b[1;34m()\u001b[0m\n\u001b[1;32m----> 1\u001b[1;33m \u001b[0muu\u001b[0m\u001b[1;33m.\u001b[0m\u001b[0mastype\u001b[0m\u001b[1;33m(\u001b[0m\u001b[0mnp\u001b[0m\u001b[1;33m.\u001b[0m\u001b[0mint_\u001b[0m\u001b[1;33m)\u001b[0m\u001b[1;33m\u001b[0m\u001b[0m\n\u001b[0m",
        "\u001b[1;31mValueError\u001b[0m: invalid literal for int() with base 10: ''"
       ]
      }
     ],
     "prompt_number": 49
    },
    {
     "cell_type": "code",
     "collapsed": false,
     "input": [
      "uu"
     ],
     "language": "python",
     "metadata": {},
     "outputs": [
      {
       "metadata": {},
       "output_type": "pyout",
       "prompt_number": 50,
       "text": [
        "array([('', ''), ('', '0'), ('', '3'), ('', '4'), ('0', ''), ('0', '0'),\n",
        "       ('0', '1'), ('0', '6'), ('1', ''), ('1', '0'), ('2', ''),\n",
        "       ('2', '0'), ('3', '0'), ('7', '8')], \n",
        "      dtype=[('c1', 'S4'), ('c2', 'S4')])"
       ]
      }
     ],
     "prompt_number": 50
    },
    {
     "cell_type": "code",
     "collapsed": false,
     "input": [],
     "language": "python",
     "metadata": {},
     "outputs": []
    },
    {
     "cell_type": "code",
     "collapsed": false,
     "input": [
      "uu, ui, ii = np.unique(np.random.rand(100),return_index=True,return_inverse=True)"
     ],
     "language": "python",
     "metadata": {},
     "outputs": [],
     "prompt_number": 108
    },
    {
     "cell_type": "code",
     "collapsed": false,
     "input": [
      "uu"
     ],
     "language": "python",
     "metadata": {},
     "outputs": [
      {
       "metadata": {},
       "output_type": "pyout",
       "prompt_number": 109,
       "text": [
        "array([ 0.00247905,  0.00320964,  0.01499962,  0.02014181,  0.02748395,\n",
        "        0.03611387,  0.04847789,  0.06243666,  0.09373003,  0.10759597,\n",
        "        0.10853589,  0.11312783,  0.14881431,  0.15570172,  0.17436756,\n",
        "        0.17772853,  0.1808569 ,  0.1944908 ,  0.20856106,  0.20994974,\n",
        "        0.21887836,  0.22084095,  0.22290553,  0.22599609,  0.2283123 ,\n",
        "        0.25595066,  0.26463366,  0.26628511,  0.27767922,  0.29178104,\n",
        "        0.30041844,  0.32760525,  0.33738028,  0.34126205,  0.34317048,\n",
        "        0.34422806,  0.36042442,  0.37617041,  0.41343195,  0.43353545,\n",
        "        0.43753619,  0.44663569,  0.46030519,  0.46511794,  0.47743269,\n",
        "        0.47909939,  0.48521067,  0.50129322,  0.50609882,  0.51104918,\n",
        "        0.51275208,  0.51481636,  0.52189485,  0.52561993,  0.53345473,\n",
        "        0.53666722,  0.54543685,  0.56650816,  0.57468198,  0.57597642,\n",
        "        0.60631446,  0.61386306,  0.62115502,  0.6254882 ,  0.6348755 ,\n",
        "        0.63568422,  0.63868075,  0.64859468,  0.65464832,  0.66194708,\n",
        "        0.68163677,  0.69039072,  0.71146635,  0.71843143,  0.7381612 ,\n",
        "        0.74813272,  0.761498  ,  0.77670755,  0.7881533 ,  0.81547285,\n",
        "        0.81874119,  0.82107775,  0.82133837,  0.82284816,  0.83317204,\n",
        "        0.83567526,  0.86078656,  0.8638068 ,  0.86632144,  0.88331755,\n",
        "        0.90297192,  0.90408759,  0.91419052,  0.93646022,  0.94783816,\n",
        "        0.95314189,  0.96243932,  0.96244765,  0.9889732 ,  0.99477991])"
       ]
      }
     ],
     "prompt_number": 109
    },
    {
     "cell_type": "code",
     "collapsed": false,
     "input": [
      "ii"
     ],
     "language": "python",
     "metadata": {},
     "outputs": [
      {
       "metadata": {},
       "output_type": "pyout",
       "prompt_number": 110,
       "text": [
        "array([32, 86, 33, 48, 89, 84, 61, 76, 17, 98, 73, 53,  8, 26, 74, 52, 82,\n",
        "       30, 96, 43, 57, 69, 85, 29, 60, 64, 18,  4, 97,  9, 47, 23,  7, 27,\n",
        "       90,  2, 95, 45, 14,  3, 51, 35, 36,  5, 78, 20, 24, 42, 41, 65, 16,\n",
        "       77, 71,  1, 58, 13, 25, 68,  0, 62, 56, 92, 54, 31, 37, 79, 59, 12,\n",
        "       81, 40, 88, 10, 28, 49, 11, 39, 91, 67, 46, 15, 34, 72, 55, 44, 87,\n",
        "       22, 21, 75, 83, 19,  6, 94, 66, 50, 99, 70, 93, 38, 63, 80])"
       ]
      }
     ],
     "prompt_number": 110
    },
    {
     "cell_type": "code",
     "collapsed": false,
     "input": [],
     "language": "python",
     "metadata": {},
     "outputs": []
    }
   ],
   "metadata": {}
  }
 ]
}