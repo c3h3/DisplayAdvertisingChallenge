{
 "metadata": {
  "name": "",
  "signature": "sha256:cec578323dc18ccdd219c7a1a2f5df6677f6c32fb0cffbf156fac29a62397581"
 },
 "nbformat": 3,
 "nbformat_minor": 0,
 "worksheets": [
  {
   "cells": [
    {
     "cell_type": "code",
     "collapsed": false,
     "input": [
      "## Modeling.\n",
      "import pandas as pd\n",
      "import numpy as np\n",
      "\n",
      "num_files = 5\n",
      "dir_path = '/Users/DboyLiao/Documents/kaggle/data/Display_Advertising_Challenge/'\n",
      "file_prefix = 'clean_train_split'\n",
      "file_format = '.csv'"
     ],
     "language": "python",
     "metadata": {},
     "outputs": [],
     "prompt_number": 1
    },
    {
     "cell_type": "code",
     "collapsed": false,
     "input": [
      "Y = data['Label']\n",
      "X = data.drop('Label', 1)"
     ],
     "language": "python",
     "metadata": {},
     "outputs": [],
     "prompt_number": 4
    },
    {
     "cell_type": "code",
     "collapsed": false,
     "input": [
      "X.values"
     ],
     "language": "python",
     "metadata": {},
     "outputs": [
      {
       "metadata": {},
       "output_type": "pyout",
       "prompt_number": 5,
       "text": [
        "array([[  2.00000000e+00,   0.00000000e+00,   1.00000000e+00, ...,\n",
        "          9.45000000e+03,   0.00000000e+00,   0.00000000e+00],\n",
        "       [  0.00000000e+00,   1.00000000e+00,   2.00000000e+01, ...,\n",
        "          2.47230000e+04,   4.20000000e+01,   2.47860000e+04],\n",
        "       [  0.00000000e+00,   2.00000000e+01,   2.00000000e+00, ...,\n",
        "          2.78340000e+04,   0.00000000e+00,   0.00000000e+00],\n",
        "       ..., \n",
        "       [  7.10000000e+01,   4.00000000e+01,   3.40000000e+01, ...,\n",
        "          8.11200000e+03,   4.10000000e+01,   2.58300000e+04],\n",
        "       [  3.00000000e+00,   1.00000000e+00,   5.00000000e+00, ...,\n",
        "          1.01840000e+04,   1.00000000e+00,   8.72500000e+03],\n",
        "       [  6.00000000e+00,   2.55000000e+02,   8.00000000e+00, ...,\n",
        "          8.74200000e+03,   3.90000000e+01,   7.30400000e+03]])"
       ]
      }
     ],
     "prompt_number": 5
    },
    {
     "cell_type": "code",
     "collapsed": false,
     "input": [
      "from sklearn.ensemble import RandomForestClassifier as RFC\n",
      "clf = RFC(n_estimators=20)\n",
      "fit = clf.fit(X, Y)"
     ],
     "language": "python",
     "metadata": {},
     "outputs": [],
     "prompt_number": 6
    },
    {
     "cell_type": "code",
     "collapsed": false,
     "input": [],
     "language": "python",
     "metadata": {},
     "outputs": [
      {
       "metadata": {},
       "output_type": "pyout",
       "prompt_number": 7,
       "text": [
        "RandomForestClassifier(bootstrap=True, compute_importances=None,\n",
        "            criterion='gini', max_depth=None, max_features='auto',\n",
        "            max_leaf_nodes=None, min_density=None, min_samples_leaf=1,\n",
        "            min_samples_split=2, n_estimators=20, n_jobs=1,\n",
        "            oob_score=False, random_state=None, verbose=0)"
       ]
      }
     ],
     "prompt_number": 7
    },
    {
     "cell_type": "code",
     "collapsed": false,
     "input": [],
     "language": "python",
     "metadata": {},
     "outputs": []
    }
   ],
   "metadata": {}
  }
 ]
}