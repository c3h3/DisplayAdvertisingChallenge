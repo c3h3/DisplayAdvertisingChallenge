{
 "metadata": {
  "name": "",
  "signature": "sha256:5d477a6d69e6f76104b570d68d22606b22f23ce8b7d1fb2fd56deb412b706410"
 },
 "nbformat": 3,
 "nbformat_minor": 0,
 "worksheets": [
  {
   "cells": [
    {
     "cell_type": "code",
     "collapsed": false,
     "input": [
      "\"\"\"\n",
      "settings.py\n",
      "\"\"\"\n",
      "import os\n",
      "\n",
      "SOURCE_DATA_DIR = \"/Users/DboyLiao/Documents/kaggle/DisplayAdvertisingChallenge/data/\"\n",
      "MAX_N_DATA_COLUMN_DIVIDERS = 5\n",
      "\n",
      "TRAINING_DATA_PATH = os.path.join(SOURCE_DATA_DIR, \"train.csv\")\n",
      "TESTING_DATA_PATH = os.path.join(SOURCE_DATA_DIR, \"test.csv\")\n",
      "\n",
      "TRAINING_COLUMNS_PATH = os.path.join(SOURCE_DATA_DIR, \"train_cols\")\n",
      "TAR_TRAINING_COLUMNS_PATH = os.path.join(SOURCE_DATA_DIR, \"tar_train_cols\")\n",
      "\n",
      "TESTING_COLUMNS_PATH = os.path.join(SOURCE_DATA_DIR, \"test_cols\")\n",
      "TAR_TESTING_COLUMNS_PATH = os.path.join(SOURCE_DATA_DIR, \"tar_test_cols\")\n",
      "\n",
      "\n",
      "if not (\"train_cols\" in os.listdir(SOURCE_DATA_DIR)):\n",
      "    os.mkdir(TRAINING_COLUMNS_PATH)\n",
      "\n",
      "if not (\"tar_train_cols\" in os.listdir(SOURCE_DATA_DIR)):\n",
      "    os.mkdir(TAR_TRAINING_COLUMNS_PATH)\n",
      "\n",
      "if not (\"test_cols\" in os.listdir(SOURCE_DATA_DIR)):\n",
      "    os.mkdir(TESTING_COLUMNS_PATH)\n",
      "    \n",
      "if not (\"tar_test_cols\" in os.listdir(SOURCE_DATA_DIR)):\n",
      "    os.mkdir(TAR_TESTING_COLUMNS_PATH)"
     ],
     "language": "python",
     "metadata": {},
     "outputs": [],
     "prompt_number": 1
    },
    {
     "cell_type": "code",
     "collapsed": false,
     "input": [],
     "language": "python",
     "metadata": {},
     "outputs": []
    },
    {
     "cell_type": "code",
     "collapsed": false,
     "input": [],
     "language": "python",
     "metadata": {},
     "outputs": []
    },
    {
     "cell_type": "code",
     "collapsed": false,
     "input": [],
     "language": "python",
     "metadata": {},
     "outputs": []
    },
    {
     "cell_type": "code",
     "collapsed": false,
     "input": [
      "\"\"\"\n",
      "columns_analysis_tooles\n",
      "\n",
      "Created on Aug 17, 2014\n",
      "@author: c3h3\n",
      "\"\"\"\n",
      "from settings import TRAINING_DATA_PATH, TESTING_DATA_PATH, TRAINING_COLUMNS_PATH, TESTING_COLUMNS_PATH\n",
      "import numpy as np\n",
      "\n",
      "try:\n",
      "    import cPickle as pickle\n",
      "except:\n",
      "    import pickle\n",
      "\n",
      "import os"
     ],
     "language": "python",
     "metadata": {},
     "outputs": [],
     "prompt_number": 1
    },
    {
     "cell_type": "code",
     "collapsed": false,
     "input": [
      "\"\"\"\n",
      "Class ColumnData. \n",
      "\"\"\"\n",
      "class ColumnData(object):\n",
      "    def __init__(self, colname, data_list):\n",
      "        data_array = np.array(data_list)\n",
      "        self.states_vec, self.states_pos_vec, self.index_vec = np.unique(data_array,return_inverse=True,return_index=True)\n",
      "        self.name = colname\n",
      "    \n",
      "    def save_as_pickle_file(self, dir_path):\n",
      "        output_file_path = os.path.join(dir_path, \"%s.col\" % self.name)\n",
      "        with open(output_file_path, \"wb\") as wf:\n",
      "            pickle.dump(self, wf)\n",
      "    def __getitem__(self, name):\n",
      "        try:\n",
      "            return self.__dict__[name]\n",
      "        except KeyError:\n",
      "            raise KeyError, \"%s has no %s attribute.\" % (self.__dict__[\"name\"], name)\n",
      "    def __str__(self):\n",
      "        msg = \"States Vector: %s \\n\" % self.states_vec + \\\n",
      "        \"States Position: %s \\n\" % self.states_pos_vec + \\\n",
      "        \"Index Vector: %s \\n\" % self.index_vec\n",
      "        return msg"
     ],
     "language": "python",
     "metadata": {},
     "outputs": [],
     "prompt_number": 2
    },
    {
     "cell_type": "code",
     "collapsed": false,
     "input": [
      "\"\"\"\n",
      "Helper functions.\n",
      "\"\"\"\n",
      "def get_colnames(data_path):\n",
      "    \"\"\"\n",
      "    Input: a string, the path to the source data. (.csv)\n",
      "    \"\"\"\n",
      "    with open(data_path, \"r\") as rf:\n",
      "        colnames_line = rf.readline()\n",
      "        colnames = colnames_line.strip().split(\",\")\n",
      "    return np.array(colnames)\n",
      "\n",
      "def get_idx_by_colname(colname, data_path):\n",
      "    \"\"\"\n",
      "    Input: \n",
      "          colname: string, the name of one column.\n",
      "          data_path: string, source data path. (.csv)\n",
      "    Output: integer, the index of colname which specifies the location of that column in the source data.\n",
      "    \"\"\"\n",
      "    colnames = get_colnames(data_path)\n",
      "    return np.where(colnames == colname)[0][0]\n",
      "\n",
      "\n",
      "def get_one_column_data_list(colname, data_path):\n",
      "    \"\"\"\n",
      "    Input:\n",
      "          colname: string, the name of one column.\n",
      "          data_path: string, source data path. (.csv)\n",
      "    Output: list, a list which contains all data of the column with name which matchs with colname.\n",
      "    \"\"\"\n",
      "    col_idx = get_idx_by_colname(colname, data_path)\n",
      "    assert isinstance(col_idx, int)\n",
      "    assert col_idx >= 0\n",
      "    colnames = get_colnames(data_path)\n",
      "    assert col_idx < len(colnames)\n",
      "    \n",
      "    with open(data_path, \"r\") as rf:\n",
      "        data_list = []\n",
      "        one_line_str = \"temp_str\"\n",
      "\n",
      "        while one_line_str != \"\":\n",
      "            one_line_str = rf.readline()\n",
      "            one_line_str_data = one_line_str.strip().split(\",\")\n",
      "            if len(one_line_str_data) == len(colnames):\n",
      "                data_list.append(one_line_str.strip().split(\",\")[col_idx])\n",
      "            \n",
      "    return data_list\n",
      "\n",
      "\n",
      "def get_one_data_column(colname, data_path):\n",
      "    \"\"\"\n",
      "    Wrapper function of get_one_column_data_list(). \n",
      "    get_one_data_column() will return an ColumnData object rather than a list.\n",
      "    \"\"\"\n",
      "    data_list = get_one_column_data_list(colname, data_path)\n",
      "    return ColumnData(colname, data_list)\n",
      "\n",
      "def pickle_one_data_column(name_path_tuple):\n",
      "    colname = name_path_tuple[0]\n",
      "    data_path = name_path_tuple[1]\n",
      "    col_path = name_path_tuple[2]\n",
      "    temp = get_one_data_column(colname, data_path)\n",
      "    temp.save_as_pickle_file(col_path)\n",
      "\n",
      "def list_all_data_columns(data_path): \n",
      "    return [xx.split(\".\")[0] for xx in os.listdir(data_path) if xx.endswith(\".col\")]"
     ],
     "language": "python",
     "metadata": {},
     "outputs": [],
     "prompt_number": 3
    },
    {
     "cell_type": "code",
     "collapsed": false,
     "input": [
      "# Columnize test.csv\n",
      "colnames = get_colnames(TESTING_DATA_PATH)\n",
      "for colname in colnames:\n",
      "    print \"[Columnize] Processing \" + colname + \".col\"\n",
      "    temp = get_one_data_column(colname, TESTING_DATA_PATH)\n",
      "    temp.save_as_pickle_file(TESTING_COLUMNS_PATH)\n",
      "    del temp"
     ],
     "language": "python",
     "metadata": {},
     "outputs": [
      {
       "output_type": "stream",
       "stream": "stdout",
       "text": [
        "[Columnize] Processing Id.col\n",
        "[Columnize] Processing I1.col"
       ]
      },
      {
       "output_type": "stream",
       "stream": "stdout",
       "text": [
        "\n",
        "[Columnize] Processing I2.col"
       ]
      }
     ]
    },
    {
     "cell_type": "code",
     "collapsed": false,
     "input": [],
     "language": "python",
     "metadata": {},
     "outputs": []
    },
    {
     "cell_type": "code",
     "collapsed": false,
     "input": [],
     "language": "python",
     "metadata": {},
     "outputs": []
    },
    {
     "cell_type": "code",
     "collapsed": false,
     "input": [],
     "language": "python",
     "metadata": {},
     "outputs": []
    },
    {
     "cell_type": "code",
     "collapsed": false,
     "input": [
      "CONST = [COLUMN_NAMES_TEST, COLUMN_NAMES_TRAIN, TRAINING_DATA_PATH, TESTING_DATA_PATH, TRAINING_COLUMNS_PATH, TESTING_COLUMNS_PATH]"
     ],
     "language": "python",
     "metadata": {},
     "outputs": [],
     "prompt_number": 8
    },
    {
     "cell_type": "code",
     "collapsed": false,
     "input": [
      "for const in CONST:\n",
      "    print const"
     ],
     "language": "python",
     "metadata": {},
     "outputs": [
      {
       "output_type": "stream",
       "stream": "stdout",
       "text": [
        "['Id', 'I1', 'I2', 'I3', 'I4', 'I5', 'I6', 'I7', 'I8', 'I9', 'I10', 'I11', 'I12', 'I13', 'C1', 'C2', 'C3', 'C4', 'C5', 'C6', 'C7', 'C8', 'C9', 'C10', 'C11', 'C12', 'C13', 'C14', 'C15', 'C16', 'C17', 'C18', 'C19', 'C20', 'C21', 'C22', 'C23', 'C24', 'C25', 'C26']\n",
        "['Id', 'Label', 'I1', 'I2', 'I3', 'I4', 'I5', 'I6', 'I7', 'I8', 'I9', 'I10', 'I11', 'I12', 'I13', 'C1', 'C2', 'C3', 'C4', 'C5', 'C6', 'C7', 'C8', 'C9', 'C10', 'C11', 'C12', 'C13', 'C14', 'C15', 'C16', 'C17', 'C18', 'C19', 'C20', 'C21', 'C22', 'C23', 'C24', 'C25', 'C26']\n",
        "/Users/DboyLiao/Documents/kaggle/DisplayAdvertisingChallenge/data/train.csv\n",
        "/Users/DboyLiao/Documents/kaggle/DisplayAdvertisingChallenge/data/test.csv\n",
        "/Users/DboyLiao/Documents/kaggle/DisplayAdvertisingChallenge/data/train_cols\n",
        "/Users/DboyLiao/Documents/kaggle/DisplayAdvertisingChallenge/data/test_cols\n"
       ]
      }
     ],
     "prompt_number": 10
    },
    {
     "cell_type": "code",
     "collapsed": false,
     "input": [],
     "language": "python",
     "metadata": {},
     "outputs": []
    },
    {
     "cell_type": "code",
     "collapsed": false,
     "input": [],
     "language": "python",
     "metadata": {},
     "outputs": []
    },
    {
     "cell_type": "markdown",
     "metadata": {},
     "source": [
      "## Don't run following codes in IPython Notebook!"
     ]
    },
    {
     "cell_type": "code",
     "collapsed": false,
     "input": [
      "# from multiprocessing import Pool   \n",
      "\n",
      "# dividing_jobs = [xx for xx in COLUMN_NAMES if xx not in list_all_data_columns()]\n",
      "\n",
      "# print \"dividing_jobs = \", dividing_jobs\n",
      "\n",
      "# p = Pool(processes = MAX_N_DATA_COLUMN_DIVIDERS)\n",
      "# p.map(pickle_one_data_column, dividing_jobs)\n",
      "\n",
      "# p.close()\n",
      "# p.join()"
     ],
     "language": "python",
     "metadata": {},
     "outputs": [],
     "prompt_number": 3
    },
    {
     "cell_type": "code",
     "collapsed": false,
     "input": [],
     "language": "python",
     "metadata": {},
     "outputs": []
    },
    {
     "cell_type": "code",
     "collapsed": false,
     "input": [],
     "language": "python",
     "metadata": {},
     "outputs": []
    },
    {
     "cell_type": "code",
     "collapsed": false,
     "input": [
      "with open(\"/Users/DboyLiao/test.txt\", \"r\") as rf:\n",
      "    assert 3 > 5"
     ],
     "language": "python",
     "metadata": {},
     "outputs": [
      {
       "ename": "AssertionError",
       "evalue": "",
       "output_type": "pyerr",
       "traceback": [
        "\u001b[0;31m---------------------------------------------------------------------------\u001b[0m\n\u001b[0;31mAssertionError\u001b[0m                            Traceback (most recent call last)",
        "\u001b[0;32m<ipython-input-3-d4b8665ebba0>\u001b[0m in \u001b[0;36m<module>\u001b[0;34m()\u001b[0m\n\u001b[1;32m      1\u001b[0m \u001b[0;32mwith\u001b[0m \u001b[0mopen\u001b[0m\u001b[0;34m(\u001b[0m\u001b[0;34m\"/Users/DboyLiao/test.txt\"\u001b[0m\u001b[0;34m,\u001b[0m \u001b[0;34m\"r\"\u001b[0m\u001b[0;34m)\u001b[0m \u001b[0;32mas\u001b[0m \u001b[0mrf\u001b[0m\u001b[0;34m:\u001b[0m\u001b[0;34m\u001b[0m\u001b[0m\n\u001b[0;32m----> 2\u001b[0;31m     \u001b[0;32massert\u001b[0m \u001b[0;36m3\u001b[0m \u001b[0;34m>\u001b[0m \u001b[0;36m5\u001b[0m\u001b[0;34m\u001b[0m\u001b[0m\n\u001b[0m",
        "\u001b[0;31mAssertionError\u001b[0m: "
       ]
      }
     ],
     "prompt_number": 3
    },
    {
     "cell_type": "code",
     "collapsed": false,
     "input": [
      "rf.read()"
     ],
     "language": "python",
     "metadata": {},
     "outputs": [
      {
       "ename": "ValueError",
       "evalue": "I/O operation on closed file",
       "output_type": "pyerr",
       "traceback": [
        "\u001b[0;31m---------------------------------------------------------------------------\u001b[0m\n\u001b[0;31mValueError\u001b[0m                                Traceback (most recent call last)",
        "\u001b[0;32m<ipython-input-4-5430b08f9a42>\u001b[0m in \u001b[0;36m<module>\u001b[0;34m()\u001b[0m\n\u001b[0;32m----> 1\u001b[0;31m \u001b[0mrf\u001b[0m\u001b[0;34m.\u001b[0m\u001b[0mread\u001b[0m\u001b[0;34m(\u001b[0m\u001b[0;34m)\u001b[0m\u001b[0;34m\u001b[0m\u001b[0m\n\u001b[0m",
        "\u001b[0;31mValueError\u001b[0m: I/O operation on closed file"
       ]
      }
     ],
     "prompt_number": 4
    },
    {
     "cell_type": "code",
     "collapsed": false,
     "input": [
      "import numpy as np\n",
      "\n",
      "recarr = np.zeros((2,), dtype=(\"i4,f4,a10\"))\n",
      "toadd = [(1, 2, \"Hello\"), (2, 3, \"World\")]\n",
      "recarr[:] = toadd"
     ],
     "language": "python",
     "metadata": {},
     "outputs": [],
     "prompt_number": 1
    },
    {
     "cell_type": "code",
     "collapsed": false,
     "input": [
      "recarr"
     ],
     "language": "python",
     "metadata": {},
     "outputs": [
      {
       "metadata": {},
       "output_type": "pyout",
       "prompt_number": 2,
       "text": [
        "array([(1, 2.0, 'Hello'), (2, 3.0, 'World')], \n",
        "      dtype=[('f0', '<i4'), ('f1', '<f4'), ('f2', 'S10')])"
       ]
      }
     ],
     "prompt_number": 2
    },
    {
     "cell_type": "code",
     "collapsed": false,
     "input": [
      "type(recarr.dtype)"
     ],
     "language": "python",
     "metadata": {},
     "outputs": [
      {
       "metadata": {},
       "output_type": "pyout",
       "prompt_number": 6,
       "text": [
        "type"
       ]
      }
     ],
     "prompt_number": 6
    },
    {
     "cell_type": "code",
     "collapsed": false,
     "input": [],
     "language": "python",
     "metadata": {},
     "outputs": []
    }
   ],
   "metadata": {}
  }
 ]
}