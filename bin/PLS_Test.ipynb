{
 "metadata": {
  "name": "",
  "signature": "sha256:075cae30f5ee09cc1b05d631a7e50da24f509a253c9671f6ebbc3566b5eb8f20"
 },
 "nbformat": 3,
 "nbformat_minor": 0,
 "worksheets": [
  {
   "cells": [
    {
     "cell_type": "code",
     "collapsed": false,
     "input": [
      "%matplotlib inline"
     ],
     "language": "python",
     "metadata": {},
     "outputs": [],
     "prompt_number": 1
    },
    {
     "cell_type": "code",
     "collapsed": false,
     "input": [
      "import matplotlib.pylab as pylab\n",
      "# pylab.rcParams['figure.figsize'] = 16, 12\n"
     ],
     "language": "python",
     "metadata": {},
     "outputs": [],
     "prompt_number": 2
    },
    {
     "cell_type": "code",
     "collapsed": false,
     "input": [
      "import numpy as np"
     ],
     "language": "python",
     "metadata": {},
     "outputs": [],
     "prompt_number": 3
    },
    {
     "cell_type": "code",
     "collapsed": false,
     "input": [
      "xx = np.linspace(0,1,101)"
     ],
     "language": "python",
     "metadata": {},
     "outputs": [],
     "prompt_number": 4
    },
    {
     "cell_type": "code",
     "collapsed": false,
     "input": [
      "pylab.plot(xx,2*xx,\"-bo\",xx,2*xx+0.1,\"-ro\", )"
     ],
     "language": "python",
     "metadata": {},
     "outputs": [
      {
       "metadata": {},
       "output_type": "pyout",
       "prompt_number": 8,
       "text": [
        "[<matplotlib.lines.Line2D at 0x7ffa72292bd0>,\n",
        " <matplotlib.lines.Line2D at 0x7ffa72292e10>]"
       ]
      },
      {
       "metadata": {},
       "output_type": "display_data",
       "png": "[encoded data removed]",
       "text": [
        "<matplotlib.figure.Figure at 0x7ffa72304110>"
       ]
      }
     ],
     "prompt_number": 8
    },
    {
     "cell_type": "code",
     "collapsed": false,
     "input": [
      "X1= np.r_[xx,xx]"
     ],
     "language": "python",
     "metadata": {},
     "outputs": [],
     "prompt_number": 12
    },
    {
     "cell_type": "code",
     "collapsed": false,
     "input": [
      "X2 = np.r_[2*xx, 2*xx+0.1]"
     ],
     "language": "python",
     "metadata": {},
     "outputs": [],
     "prompt_number": 13
    },
    {
     "cell_type": "code",
     "collapsed": false,
     "input": [
      "X = np.c_[X1,X2]"
     ],
     "language": "python",
     "metadata": {},
     "outputs": [],
     "prompt_number": 15
    },
    {
     "cell_type": "code",
     "collapsed": false,
     "input": [
      "Y = np.r_[np.zeros(X1.shape),np.ones(X2.shape)]"
     ],
     "language": "python",
     "metadata": {},
     "outputs": [],
     "prompt_number": 17
    },
    {
     "cell_type": "code",
     "collapsed": false,
     "input": [
      "Yt = np.c_[Y,1-Y]"
     ],
     "language": "python",
     "metadata": {},
     "outputs": [],
     "prompt_number": 22
    },
    {
     "cell_type": "code",
     "collapsed": false,
     "input": [],
     "language": "python",
     "metadata": {},
     "outputs": [],
     "prompt_number": 25
    },
    {
     "cell_type": "code",
     "collapsed": false,
     "input": [
      "#Y"
     ],
     "language": "python",
     "metadata": {},
     "outputs": [],
     "prompt_number": 19
    },
    {
     "cell_type": "code",
     "collapsed": false,
     "input": [
      "from sklearn.cross_decomposition import PLSCanonical"
     ],
     "language": "python",
     "metadata": {},
     "outputs": [],
     "prompt_number": 20
    },
    {
     "cell_type": "code",
     "collapsed": false,
     "input": [
      "plsca = PLSCanonical(n_components=2)"
     ],
     "language": "python",
     "metadata": {},
     "outputs": [],
     "prompt_number": 28
    },
    {
     "cell_type": "code",
     "collapsed": false,
     "input": [
      "plsca.fit(X,Y)"
     ],
     "language": "python",
     "metadata": {},
     "outputs": [
      {
       "ename": "ValueError",
       "evalue": "Found array with dim 404. Expected 202",
       "output_type": "pyerr",
       "traceback": [
        "\u001b[1;31m---------------------------------------------------------------------------\u001b[0m\n\u001b[1;31mValueError\u001b[0m                                Traceback (most recent call last)",
        "\u001b[1;32m<ipython-input-29-669cb4dcd54b>\u001b[0m in \u001b[0;36m<module>\u001b[1;34m()\u001b[0m\n\u001b[1;32m----> 1\u001b[1;33m \u001b[0mplsca\u001b[0m\u001b[1;33m.\u001b[0m\u001b[0mfit\u001b[0m\u001b[1;33m(\u001b[0m\u001b[0mX\u001b[0m\u001b[1;33m,\u001b[0m\u001b[0mY\u001b[0m\u001b[1;33m)\u001b[0m\u001b[1;33m\u001b[0m\u001b[0m\n\u001b[0m",
        "\u001b[1;32m/home/c3h3/.pyenv/versions/py27/lib/python2.7/site-packages/sklearn/cross_decomposition/pls_.pyc\u001b[0m in \u001b[0;36mfit\u001b[1;34m(self, X, Y)\u001b[0m\n\u001b[0;32m    228\u001b[0m         \u001b[1;31m# copy since this will contains the residuals (deflated) matrices\u001b[0m\u001b[1;33m\u001b[0m\u001b[1;33m\u001b[0m\u001b[0m\n\u001b[0;32m    229\u001b[0m         X, Y = check_arrays(X, Y, dtype=np.float, copy=self.copy,\n\u001b[1;32m--> 230\u001b[1;33m                             sparse_format='dense')\n\u001b[0m\u001b[0;32m    231\u001b[0m \u001b[1;33m\u001b[0m\u001b[0m\n\u001b[0;32m    232\u001b[0m         \u001b[1;32mif\u001b[0m \u001b[0mX\u001b[0m\u001b[1;33m.\u001b[0m\u001b[0mndim\u001b[0m \u001b[1;33m!=\u001b[0m \u001b[1;36m2\u001b[0m\u001b[1;33m:\u001b[0m\u001b[1;33m\u001b[0m\u001b[0m\n",
        "\u001b[1;32m/home/c3h3/.pyenv/versions/py27/lib/python2.7/site-packages/sklearn/utils/validation.pyc\u001b[0m in \u001b[0;36mcheck_arrays\u001b[1;34m(*arrays, **options)\u001b[0m\n\u001b[0;32m    209\u001b[0m         \u001b[1;32mif\u001b[0m \u001b[0msize\u001b[0m \u001b[1;33m!=\u001b[0m \u001b[0mn_samples\u001b[0m\u001b[1;33m:\u001b[0m\u001b[1;33m\u001b[0m\u001b[0m\n\u001b[0;32m    210\u001b[0m             raise ValueError(\"Found array with dim %d. Expected %d\"\n\u001b[1;32m--> 211\u001b[1;33m                              % (size, n_samples))\n\u001b[0m\u001b[0;32m    212\u001b[0m \u001b[1;33m\u001b[0m\u001b[0m\n\u001b[0;32m    213\u001b[0m         \u001b[1;32mif\u001b[0m \u001b[1;32mnot\u001b[0m \u001b[0mallow_lists\u001b[0m \u001b[1;32mor\u001b[0m \u001b[0mhasattr\u001b[0m\u001b[1;33m(\u001b[0m\u001b[0marray\u001b[0m\u001b[1;33m,\u001b[0m \u001b[1;34m\"shape\"\u001b[0m\u001b[1;33m)\u001b[0m\u001b[1;33m:\u001b[0m\u001b[1;33m\u001b[0m\u001b[0m\n",
        "\u001b[1;31mValueError\u001b[0m: Found array with dim 404. Expected 202"
       ]
      }
     ],
     "prompt_number": 29
    },
    {
     "cell_type": "code",
     "collapsed": false,
     "input": [
      "X"
     ],
     "language": "python",
     "metadata": {},
     "outputs": [
      {
       "metadata": {},
       "output_type": "pyout",
       "prompt_number": 30,
       "text": [
        "array([[ 0.  ,  0.  ],\n",
        "       [ 0.01,  0.02],\n",
        "       [ 0.02,  0.04],\n",
        "       [ 0.03,  0.06],\n",
        "       [ 0.04,  0.08],\n",
        "       [ 0.05,  0.1 ],\n",
        "       [ 0.06,  0.12],\n",
        "       [ 0.07,  0.14],\n",
        "       [ 0.08,  0.16],\n",
        "       [ 0.09,  0.18],\n",
        "       [ 0.1 ,  0.2 ],\n",
        "       [ 0.11,  0.22],\n",
        "       [ 0.12,  0.24],\n",
        "       [ 0.13,  0.26],\n",
        "       [ 0.14,  0.28],\n",
        "       [ 0.15,  0.3 ],\n",
        "       [ 0.16,  0.32],\n",
        "       [ 0.17,  0.34],\n",
        "       [ 0.18,  0.36],\n",
        "       [ 0.19,  0.38],\n",
        "       [ 0.2 ,  0.4 ],\n",
        "       [ 0.21,  0.42],\n",
        "       [ 0.22,  0.44],\n",
        "       [ 0.23,  0.46],\n",
        "       [ 0.24,  0.48],\n",
        "       [ 0.25,  0.5 ],\n",
        "       [ 0.26,  0.52],\n",
        "       [ 0.27,  0.54],\n",
        "       [ 0.28,  0.56],\n",
        "       [ 0.29,  0.58],\n",
        "       [ 0.3 ,  0.6 ],\n",
        "       [ 0.31,  0.62],\n",
        "       [ 0.32,  0.64],\n",
        "       [ 0.33,  0.66],\n",
        "       [ 0.34,  0.68],\n",
        "       [ 0.35,  0.7 ],\n",
        "       [ 0.36,  0.72],\n",
        "       [ 0.37,  0.74],\n",
        "       [ 0.38,  0.76],\n",
        "       [ 0.39,  0.78],\n",
        "       [ 0.4 ,  0.8 ],\n",
        "       [ 0.41,  0.82],\n",
        "       [ 0.42,  0.84],\n",
        "       [ 0.43,  0.86],\n",
        "       [ 0.44,  0.88],\n",
        "       [ 0.45,  0.9 ],\n",
        "       [ 0.46,  0.92],\n",
        "       [ 0.47,  0.94],\n",
        "       [ 0.48,  0.96],\n",
        "       [ 0.49,  0.98],\n",
        "       [ 0.5 ,  1.  ],\n",
        "       [ 0.51,  1.02],\n",
        "       [ 0.52,  1.04],\n",
        "       [ 0.53,  1.06],\n",
        "       [ 0.54,  1.08],\n",
        "       [ 0.55,  1.1 ],\n",
        "       [ 0.56,  1.12],\n",
        "       [ 0.57,  1.14],\n",
        "       [ 0.58,  1.16],\n",
        "       [ 0.59,  1.18],\n",
        "       [ 0.6 ,  1.2 ],\n",
        "       [ 0.61,  1.22],\n",
        "       [ 0.62,  1.24],\n",
        "       [ 0.63,  1.26],\n",
        "       [ 0.64,  1.28],\n",
        "       [ 0.65,  1.3 ],\n",
        "       [ 0.66,  1.32],\n",
        "       [ 0.67,  1.34],\n",
        "       [ 0.68,  1.36],\n",
        "       [ 0.69,  1.38],\n",
        "       [ 0.7 ,  1.4 ],\n",
        "       [ 0.71,  1.42],\n",
        "       [ 0.72,  1.44],\n",
        "       [ 0.73,  1.46],\n",
        "       [ 0.74,  1.48],\n",
        "       [ 0.75,  1.5 ],\n",
        "       [ 0.76,  1.52],\n",
        "       [ 0.77,  1.54],\n",
        "       [ 0.78,  1.56],\n",
        "       [ 0.79,  1.58],\n",
        "       [ 0.8 ,  1.6 ],\n",
        "       [ 0.81,  1.62],\n",
        "       [ 0.82,  1.64],\n",
        "       [ 0.83,  1.66],\n",
        "       [ 0.84,  1.68],\n",
        "       [ 0.85,  1.7 ],\n",
        "       [ 0.86,  1.72],\n",
        "       [ 0.87,  1.74],\n",
        "       [ 0.88,  1.76],\n",
        "       [ 0.89,  1.78],\n",
        "       [ 0.9 ,  1.8 ],\n",
        "       [ 0.91,  1.82],\n",
        "       [ 0.92,  1.84],\n",
        "       [ 0.93,  1.86],\n",
        "       [ 0.94,  1.88],\n",
        "       [ 0.95,  1.9 ],\n",
        "       [ 0.96,  1.92],\n",
        "       [ 0.97,  1.94],\n",
        "       [ 0.98,  1.96],\n",
        "       [ 0.99,  1.98],\n",
        "       [ 1.  ,  2.  ],\n",
        "       [ 0.  ,  0.1 ],\n",
        "       [ 0.01,  0.12],\n",
        "       [ 0.02,  0.14],\n",
        "       [ 0.03,  0.16],\n",
        "       [ 0.04,  0.18],\n",
        "       [ 0.05,  0.2 ],\n",
        "       [ 0.06,  0.22],\n",
        "       [ 0.07,  0.24],\n",
        "       [ 0.08,  0.26],\n",
        "       [ 0.09,  0.28],\n",
        "       [ 0.1 ,  0.3 ],\n",
        "       [ 0.11,  0.32],\n",
        "       [ 0.12,  0.34],\n",
        "       [ 0.13,  0.36],\n",
        "       [ 0.14,  0.38],\n",
        "       [ 0.15,  0.4 ],\n",
        "       [ 0.16,  0.42],\n",
        "       [ 0.17,  0.44],\n",
        "       [ 0.18,  0.46],\n",
        "       [ 0.19,  0.48],\n",
        "       [ 0.2 ,  0.5 ],\n",
        "       [ 0.21,  0.52],\n",
        "       [ 0.22,  0.54],\n",
        "       [ 0.23,  0.56],\n",
        "       [ 0.24,  0.58],\n",
        "       [ 0.25,  0.6 ],\n",
        "       [ 0.26,  0.62],\n",
        "       [ 0.27,  0.64],\n",
        "       [ 0.28,  0.66],\n",
        "       [ 0.29,  0.68],\n",
        "       [ 0.3 ,  0.7 ],\n",
        "       [ 0.31,  0.72],\n",
        "       [ 0.32,  0.74],\n",
        "       [ 0.33,  0.76],\n",
        "       [ 0.34,  0.78],\n",
        "       [ 0.35,  0.8 ],\n",
        "       [ 0.36,  0.82],\n",
        "       [ 0.37,  0.84],\n",
        "       [ 0.38,  0.86],\n",
        "       [ 0.39,  0.88],\n",
        "       [ 0.4 ,  0.9 ],\n",
        "       [ 0.41,  0.92],\n",
        "       [ 0.42,  0.94],\n",
        "       [ 0.43,  0.96],\n",
        "       [ 0.44,  0.98],\n",
        "       [ 0.45,  1.  ],\n",
        "       [ 0.46,  1.02],\n",
        "       [ 0.47,  1.04],\n",
        "       [ 0.48,  1.06],\n",
        "       [ 0.49,  1.08],\n",
        "       [ 0.5 ,  1.1 ],\n",
        "       [ 0.51,  1.12],\n",
        "       [ 0.52,  1.14],\n",
        "       [ 0.53,  1.16],\n",
        "       [ 0.54,  1.18],\n",
        "       [ 0.55,  1.2 ],\n",
        "       [ 0.56,  1.22],\n",
        "       [ 0.57,  1.24],\n",
        "       [ 0.58,  1.26],\n",
        "       [ 0.59,  1.28],\n",
        "       [ 0.6 ,  1.3 ],\n",
        "       [ 0.61,  1.32],\n",
        "       [ 0.62,  1.34],\n",
        "       [ 0.63,  1.36],\n",
        "       [ 0.64,  1.38],\n",
        "       [ 0.65,  1.4 ],\n",
        "       [ 0.66,  1.42],\n",
        "       [ 0.67,  1.44],\n",
        "       [ 0.68,  1.46],\n",
        "       [ 0.69,  1.48],\n",
        "       [ 0.7 ,  1.5 ],\n",
        "       [ 0.71,  1.52],\n",
        "       [ 0.72,  1.54],\n",
        "       [ 0.73,  1.56],\n",
        "       [ 0.74,  1.58],\n",
        "       [ 0.75,  1.6 ],\n",
        "       [ 0.76,  1.62],\n",
        "       [ 0.77,  1.64],\n",
        "       [ 0.78,  1.66],\n",
        "       [ 0.79,  1.68],\n",
        "       [ 0.8 ,  1.7 ],\n",
        "       [ 0.81,  1.72],\n",
        "       [ 0.82,  1.74],\n",
        "       [ 0.83,  1.76],\n",
        "       [ 0.84,  1.78],\n",
        "       [ 0.85,  1.8 ],\n",
        "       [ 0.86,  1.82],\n",
        "       [ 0.87,  1.84],\n",
        "       [ 0.88,  1.86],\n",
        "       [ 0.89,  1.88],\n",
        "       [ 0.9 ,  1.9 ],\n",
        "       [ 0.91,  1.92],\n",
        "       [ 0.92,  1.94],\n",
        "       [ 0.93,  1.96],\n",
        "       [ 0.94,  1.98],\n",
        "       [ 0.95,  2.  ],\n",
        "       [ 0.96,  2.02],\n",
        "       [ 0.97,  2.04],\n",
        "       [ 0.98,  2.06],\n",
        "       [ 0.99,  2.08],\n",
        "       [ 1.  ,  2.1 ]])"
       ]
      }
     ],
     "prompt_number": 30
    },
    {
     "cell_type": "code",
     "collapsed": false,
     "input": [],
     "language": "python",
     "metadata": {},
     "outputs": []
    }
   ],
   "metadata": {}
  }
 ]
}