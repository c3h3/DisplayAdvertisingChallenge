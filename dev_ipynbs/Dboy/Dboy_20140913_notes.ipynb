{
 "metadata": {
  "name": "",
  "signature": "sha256:9efb54d74982d4f3b362d3ba37bf316dc2326a5a6109b6e8f19fd0719b836db2"
 },
 "nbformat": 3,
 "nbformat_minor": 0,
 "worksheets": [
  {
   "cells": [
    {
     "cell_type": "code",
     "collapsed": false,
     "input": [
      "import blz"
     ],
     "language": "python",
     "metadata": {},
     "outputs": [],
     "prompt_number": 1
    },
    {
     "cell_type": "code",
     "collapsed": false,
     "input": [
      "%time C1 = blz.open(\"/Users/DboyLiao/Documents/kaggle/DisplayAdvertisingChallenge/data/train_blzs/C1\")\n",
      "%time C2 = blz.open(\"/Users/DboyLiao/Documents/kaggle/DisplayAdvertisingChallenge/data/train_blzs/C2\")\n",
      "%time C3 = blz.open(\"/Users/DboyLiao/Documents/kaggle/DisplayAdvertisingChallenge/data/train_blzs/C3\")\n",
      "%time C4 = blz.open(\"/Users/DboyLiao/Documents/kaggle/DisplayAdvertisingChallenge/data/train_blzs/C4\")"
     ],
     "language": "python",
     "metadata": {},
     "outputs": [
      {
       "output_type": "stream",
       "stream": "stdout",
       "text": [
        "CPU times: user 2.36 ms, sys: 3.78 ms, total: 6.14 ms\n",
        "Wall time: 165 ms\n",
        "CPU times: user 1.2 ms, sys: 1.81 ms, total: 3.01 ms"
       ]
      },
      {
       "output_type": "stream",
       "stream": "stdout",
       "text": [
        "\n",
        "Wall time: 132 ms\n",
        "CPU times: user 3.52 s, sys: 1.11 s, total: 4.62 s"
       ]
      },
      {
       "output_type": "stream",
       "stream": "stdout",
       "text": [
        "\n",
        "Wall time: 7.83 s\n",
        "CPU times: user 720 ms, sys: 215 ms, total: 935 ms"
       ]
      },
      {
       "output_type": "stream",
       "stream": "stdout",
       "text": [
        "\n",
        "Wall time: 2.11 s\n"
       ]
      }
     ],
     "prompt_number": 8
    },
    {
     "cell_type": "code",
     "collapsed": false,
     "input": [
      "C1"
     ],
     "language": "python",
     "metadata": {},
     "outputs": [
      {
       "metadata": {},
       "output_type": "pyout",
       "prompt_number": 9,
       "text": [
        "barray((45840617,), int64)\n",
        "  nbytes: 349.74 MB; cbytes: 71.37 MB; ratio: 4.90\n",
        "  bparams := bparams(clevel=5, shuffle=True, cname=blosclz)\n",
        "  rootdir := '/Users/DboyLiao/Documents/kaggle/DisplayAdvertisingChallenge/data/train_blzs/C1'\n",
        "[629 629 228 ...,  31  31  31]"
       ]
      }
     ],
     "prompt_number": 9
    },
    {
     "cell_type": "code",
     "collapsed": false,
     "input": [
      "C2"
     ],
     "language": "python",
     "metadata": {},
     "outputs": [
      {
       "metadata": {},
       "output_type": "pyout",
       "prompt_number": 5,
       "text": [
        "barray((6042135,), int64)\n",
        "  nbytes: 46.10 MB; cbytes: 9.15 MB; ratio: 5.04\n",
        "  bparams := bparams(clevel=5, shuffle=True, cname=blosclz)\n",
        "  rootdir := '/Users/DboyLiao/Documents/kaggle/DisplayAdvertisingChallenge/data/test_blzs/C2'\n",
        "[375 343 306 ...,  16  11  11]"
       ]
      }
     ],
     "prompt_number": 5
    },
    {
     "cell_type": "code",
     "collapsed": false,
     "input": [
      "C3"
     ],
     "language": "python",
     "metadata": {},
     "outputs": [
      {
       "metadata": {},
       "output_type": "pyout",
       "prompt_number": 6,
       "text": [
        "barray((6042135,), int64)\n",
        "  nbytes: 46.10 MB; cbytes: 17.67 MB; ratio: 2.61\n",
        "  bparams := bparams(clevel=5, shuffle=True, cname=blosclz)\n",
        "  rootdir := '/Users/DboyLiao/Documents/kaggle/DisplayAdvertisingChallenge/data/test_blzs/C3'\n",
        "[7147235 7053218 7438718 ..., 2987206 4335040 7080842]"
       ]
      }
     ],
     "prompt_number": 6
    },
    {
     "cell_type": "code",
     "collapsed": false,
     "input": [
      "C4"
     ],
     "language": "python",
     "metadata": {},
     "outputs": [
      {
       "metadata": {},
       "output_type": "pyout",
       "prompt_number": 7,
       "text": [
        "barray((6042135,), int64)\n",
        "  nbytes: 46.10 MB; cbytes: 17.67 MB; ratio: 2.61\n",
        "  bparams := bparams(clevel=5, shuffle=True, cname=blosclz)\n",
        "  rootdir := '/Users/DboyLiao/Documents/kaggle/DisplayAdvertisingChallenge/data/test_blzs/C4'\n",
        "[  81058  535671 1857411 ..., 1794995  771967   57242]"
       ]
      }
     ],
     "prompt_number": 7
    },
    {
     "cell_type": "code",
     "collapsed": false,
     "input": [
      "%time C1_hight = blz.eval(\"C1 > 600\")"
     ],
     "language": "python",
     "metadata": {},
     "outputs": [
      {
       "output_type": "stream",
       "stream": "stdout",
       "text": [
        "CPU times: user 1.6 s, sys: 752 ms, total: 2.35 s\n",
        "Wall time: 18 s\n"
       ]
      }
     ],
     "prompt_number": 11
    },
    {
     "cell_type": "code",
     "collapsed": false,
     "input": [
      "C1_hight"
     ],
     "language": "python",
     "metadata": {},
     "outputs": [
      {
       "metadata": {},
       "output_type": "pyout",
       "prompt_number": 12,
       "text": [
        "barray((45840617,), bool)\n",
        "  nbytes: 43.72 MB; cbytes: 20.64 MB; ratio: 2.12\n",
        "  bparams := bparams(clevel=5, shuffle=True, cname=blosclz)\n",
        "[ True  True False ..., False False False]"
       ]
      }
     ],
     "prompt_number": 12
    },
    {
     "cell_type": "code",
     "collapsed": false,
     "input": [
      "table = blz.btable(columns=[C1, C2, C3, C4], names= [\"C1\", \"C2\", \"C3\", \"C4\"])"
     ],
     "language": "python",
     "metadata": {},
     "outputs": [],
     "prompt_number": 13
    },
    {
     "cell_type": "code",
     "collapsed": false,
     "input": [
      "import numpy as np\n",
      "import random\n",
      "Id = np.array([ind + 1 for ind in range(30)])\n",
      "Math = np.array([100*random.random() for ind in range(30)])"
     ],
     "language": "python",
     "metadata": {},
     "outputs": [],
     "prompt_number": 14
    },
    {
     "cell_type": "code",
     "collapsed": false,
     "input": [
      "columns = [Id, Math]\n",
      "names = [\"Id\", \"Math\"]\n",
      "score_table = blz.btable(columns = columns, names = names)"
     ],
     "language": "python",
     "metadata": {},
     "outputs": [],
     "prompt_number": 15
    },
    {
     "cell_type": "code",
     "collapsed": false,
     "input": [
      "score_table"
     ],
     "language": "python",
     "metadata": {},
     "outputs": [
      {
       "metadata": {},
       "output_type": "pyout",
       "prompt_number": 16,
       "text": [
        "btable((30,), [('Id', '<i8'), ('Math', '<f8')])\n",
        "  nbytes: 480; cbytes: 16.00 KB; ratio: 0.03\n",
        "  bparams := bparams(clevel=5, shuffle=True, cname=blosclz)\n",
        "[(1, 20.074996180139603) (2, 37.45696439950375) (3, 49.78592308500522)\n",
        " (4, 30.36876107537325) (5, 47.571917593815016) (6, 7.744508711344411)\n",
        " (7, 90.83389189363001) (8, 8.542218792332923) (9, 6.774083936220032)\n",
        " (10, 42.220018457658995) (11, 12.077300846208905) (12, 12.948087571123834)\n",
        " (13, 5.353164575163083) (14, 18.797552548090636) (15, 13.606275098189059)\n",
        " (16, 58.46442137923762) (17, 24.90676243176184) (18, 61.98592496182641)\n",
        " (19, 37.23233489967824) (20, 23.452046075287637) (21, 43.20956612536841)\n",
        " (22, 40.04348262078161) (23, 94.5875498727203) (24, 68.35915892214776)\n",
        " (25, 85.392270536428) (26, 16.739627871528896) (27, 78.21038083101595)\n",
        " (28, 78.30444142170747) (29, 46.682568498824295) (30, 14.14125562716304)]"
       ]
      }
     ],
     "prompt_number": 16
    },
    {
     "cell_type": "code",
     "collapsed": false,
     "input": [
      "score_table[\"(Id > 10) & (Math >=70)\"]"
     ],
     "language": "python",
     "metadata": {},
     "outputs": [
      {
       "metadata": {},
       "output_type": "pyout",
       "prompt_number": 17,
       "text": [
        "array([(23, 94.5875498727203), (25, 85.392270536428),\n",
        "       (27, 78.21038083101595), (28, 78.30444142170747)], \n",
        "      dtype=[('Id', '<i8'), ('Math', '<f8')])"
       ]
      }
     ],
     "prompt_number": 17
    },
    {
     "cell_type": "code",
     "collapsed": false,
     "input": [
      "20 *153"
     ],
     "language": "python",
     "metadata": {},
     "outputs": [
      {
       "metadata": {},
       "output_type": "pyout",
       "prompt_number": 18,
       "text": [
        "3060"
       ]
      }
     ],
     "prompt_number": 18
    },
    {
     "cell_type": "code",
     "collapsed": false,
     "input": [
      "3060 / 60"
     ],
     "language": "python",
     "metadata": {},
     "outputs": [
      {
       "metadata": {},
       "output_type": "pyout",
       "prompt_number": 19,
       "text": [
        "51"
       ]
      }
     ],
     "prompt_number": 19
    },
    {
     "cell_type": "code",
     "collapsed": false,
     "input": [
      "path = \"~/Desktop/test.csv\""
     ],
     "language": "python",
     "metadata": {},
     "outputs": [],
     "prompt_number": 20
    },
    {
     "cell_type": "code",
     "collapsed": false,
     "input": [],
     "language": "python",
     "metadata": {},
     "outputs": []
    },
    {
     "cell_type": "code",
     "collapsed": false,
     "input": [],
     "language": "python",
     "metadata": {},
     "outputs": []
    },
    {
     "cell_type": "code",
     "collapsed": false,
     "input": [],
     "language": "python",
     "metadata": {},
     "outputs": []
    },
    {
     "cell_type": "code",
     "collapsed": false,
     "input": [
      "content = \"celery is powerful.\""
     ],
     "language": "python",
     "metadata": {},
     "outputs": []
    },
    {
     "cell_type": "code",
     "collapsed": false,
     "input": [],
     "language": "python",
     "metadata": {},
     "outputs": []
    },
    {
     "cell_type": "code",
     "collapsed": false,
     "input": [],
     "language": "python",
     "metadata": {},
     "outputs": []
    },
    {
     "cell_type": "code",
     "collapsed": false,
     "input": [
      "## fire_up.py\n",
      "from multi_write_celery.tasks import multi_write\n",
      "jobs = [(\"No_{ind}.csv\".format(ind=ind), \"I'm No_{ind} file\".format(ind=ind))\n",
      "        for ind in range(10)]\n",
      "\n",
      "for path, content in jobs:\n",
      "    multi_write.delay(path, content)"
     ],
     "language": "python",
     "metadata": {},
     "outputs": []
    },
    {
     "cell_type": "code",
     "collapsed": false,
     "input": [],
     "language": "python",
     "metadata": {},
     "outputs": []
    },
    {
     "cell_type": "code",
     "collapsed": false,
     "input": [
      "jobs = [(\"No_{ind}.csv\".format(ind=ind), \"I'm No_{ind} file\".format(ind=ind))\n",
      "        for ind in range(10)]"
     ],
     "language": "python",
     "metadata": {},
     "outputs": [],
     "prompt_number": 21
    },
    {
     "cell_type": "code",
     "collapsed": false,
     "input": [
      "jobs"
     ],
     "language": "python",
     "metadata": {},
     "outputs": [
      {
       "metadata": {},
       "output_type": "pyout",
       "prompt_number": 22,
       "text": [
        "[('No_0.csv', \"I'm No_0 file\"),\n",
        " ('No_1.csv', \"I'm No_1 file\"),\n",
        " ('No_2.csv', \"I'm No_2 file\"),\n",
        " ('No_3.csv', \"I'm No_3 file\"),\n",
        " ('No_4.csv', \"I'm No_4 file\"),\n",
        " ('No_5.csv', \"I'm No_5 file\"),\n",
        " ('No_6.csv', \"I'm No_6 file\"),\n",
        " ('No_7.csv', \"I'm No_7 file\"),\n",
        " ('No_8.csv', \"I'm No_8 file\"),\n",
        " ('No_9.csv', \"I'm No_9 file\")]"
       ]
      }
     ],
     "prompt_number": 22
    },
    {
     "cell_type": "code",
     "collapsed": false,
     "input": [],
     "language": "python",
     "metadata": {},
     "outputs": []
    }
   ],
   "metadata": {}
  }
 ]
}