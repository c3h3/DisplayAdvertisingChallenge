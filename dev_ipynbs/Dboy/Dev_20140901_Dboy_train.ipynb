{
 "metadata": {
  "name": "",
  "signature": "sha256:fd9945265fa0e3ceca6614876466a069895c8e2b1fb59a2c04ae35b83399ae1c"
 },
 "nbformat": 3,
 "nbformat_minor": 0,
 "worksheets": [
  {
   "cells": [
    {
     "cell_type": "code",
     "collapsed": false,
     "input": [
      "import cPickle as pickle\n",
      "import numpy as np\n",
      "import scipy"
     ],
     "language": "python",
     "metadata": {},
     "outputs": [],
     "prompt_number": 1
    },
    {
     "cell_type": "code",
     "collapsed": false,
     "input": [
      "with open(\"/Users/DboyLiao/Documents/kaggle/DisplayAdvertisingChallenge/data/train_cols/C1.col\", \"rb\") as c1:\n",
      "    C1 = pickle.load(c1)"
     ],
     "language": "python",
     "metadata": {},
     "outputs": [],
     "prompt_number": 3
    },
    {
     "cell_type": "code",
     "collapsed": false,
     "input": [
      "with open(\"/Users/DboyLiao/Documents/kaggle/DisplayAdvertisingChallenge/data/train_cols/C2.col\", \"rb\") as c2:\n",
      "    C2 = pickle.load(c2)"
     ],
     "language": "python",
     "metadata": {},
     "outputs": [],
     "prompt_number": 3
    },
    {
     "cell_type": "code",
     "collapsed": false,
     "input": [
      "with open(\"/Users/DboyLiao/Documents/kaggle/DisplayAdvertisingChallenge/data/train_cols/Label.col\", \"rb\") as y:\n",
      "    Y = pickle.load(y)"
     ],
     "language": "python",
     "metadata": {},
     "outputs": [],
     "prompt_number": 4
    },
    {
     "cell_type": "code",
     "collapsed": false,
     "input": [
      "print type(C1)\n",
      "print type(C2)\n",
      "print type(Y)"
     ],
     "language": "python",
     "metadata": {},
     "outputs": [
      {
       "output_type": "stream",
       "stream": "stdout",
       "text": [
        "<class 'column_analysis_tooles.ColumnData'>\n"
       ]
      },
      {
       "ename": "NameError",
       "evalue": "name 'C2' is not defined",
       "output_type": "pyerr",
       "traceback": [
        "\u001b[0;31m---------------------------------------------------------------------------\u001b[0m\n\u001b[0;31mNameError\u001b[0m                                 Traceback (most recent call last)",
        "\u001b[0;32m<ipython-input-5-d681610eb67e>\u001b[0m in \u001b[0;36m<module>\u001b[0;34m()\u001b[0m\n\u001b[1;32m      1\u001b[0m \u001b[0;32mprint\u001b[0m \u001b[0mtype\u001b[0m\u001b[0;34m(\u001b[0m\u001b[0mC1\u001b[0m\u001b[0;34m)\u001b[0m\u001b[0;34m\u001b[0m\u001b[0m\n\u001b[0;32m----> 2\u001b[0;31m \u001b[0;32mprint\u001b[0m \u001b[0mtype\u001b[0m\u001b[0;34m(\u001b[0m\u001b[0mC2\u001b[0m\u001b[0;34m)\u001b[0m\u001b[0;34m\u001b[0m\u001b[0m\n\u001b[0m\u001b[1;32m      3\u001b[0m \u001b[0;32mprint\u001b[0m \u001b[0mtype\u001b[0m\u001b[0;34m(\u001b[0m\u001b[0mY\u001b[0m\u001b[0;34m)\u001b[0m\u001b[0;34m\u001b[0m\u001b[0m\n",
        "\u001b[0;31mNameError\u001b[0m: name 'C2' is not defined"
       ]
      }
     ],
     "prompt_number": 5
    },
    {
     "cell_type": "code",
     "collapsed": false,
     "input": [
      "C1.__dict__"
     ],
     "language": "python",
     "metadata": {},
     "outputs": [
      {
       "metadata": {},
       "output_type": "pyout",
       "prompt_number": 6,
       "text": [
        "{'index_vec': array([629, 629, 228, ...,  31,  31,  31]),\n",
        " 'name': 'C1',\n",
        " 'states_pos_vec': array([102741, 195405, 443348, ..., 159325, 116409, 234315]),\n",
        " 'states_vec': array(['000d72dd', '003f4253', '00c2e152', ..., 'ffca49ea', 'ffdd8052',\n",
        "        'ffe3cd83'], \n",
        "       dtype='|S8')}"
       ]
      }
     ],
     "prompt_number": 6
    },
    {
     "cell_type": "code",
     "collapsed": false,
     "input": [
      "Y.__dict__"
     ],
     "language": "python",
     "metadata": {},
     "outputs": [
      {
       "metadata": {},
       "output_type": "pyout",
       "prompt_number": 8,
       "text": [
        "{'index_vec': array([0, 0, 0, ..., 0, 0, 0]),\n",
        " 'name': 'Label',\n",
        " 'states_pos_vec': array([0, 7]),\n",
        " 'states_vec': array(['0', '1'], \n",
        "       dtype='|S1')}"
       ]
      }
     ],
     "prompt_number": 8
    },
    {
     "cell_type": "code",
     "collapsed": false,
     "input": [
      "# One simple way to convert a ColumnData object to numpy array.\n",
      "ind = Y[\"index_vec\"]\n",
      "y = Y[\"states_vec\"][ind]\n",
      "print y.shape\n",
      "print y[7]"
     ],
     "language": "python",
     "metadata": {},
     "outputs": [
      {
       "output_type": "stream",
       "stream": "stdout",
       "text": [
        "(45840617,)\n",
        "1\n"
       ]
      }
     ],
     "prompt_number": 12
    },
    {
     "cell_type": "code",
     "collapsed": false,
     "input": [
      "\"1\" in y"
     ],
     "language": "python",
     "metadata": {},
     "outputs": [
      {
       "metadata": {},
       "output_type": "pyout",
       "prompt_number": 10,
       "text": [
        "True"
       ]
      }
     ],
     "prompt_number": 10
    },
    {
     "cell_type": "code",
     "collapsed": false,
     "input": [
      "ind = C1[\"index_vec\"]\n",
      "c1 = C1[\"states_vec\"][ind]\n",
      "print c1.shape\n",
      "c1"
     ],
     "language": "python",
     "metadata": {},
     "outputs": [
      {
       "output_type": "stream",
       "stream": "stdout",
       "text": [
        "(45840617,)\n"
       ]
      },
      {
       "metadata": {},
       "output_type": "pyout",
       "prompt_number": 13,
       "text": [
        "array(['68fd1e64', '68fd1e64', '287e684f', ..., '05db9164', '05db9164',\n",
        "       '05db9164'], \n",
        "      dtype='|S8')"
       ]
      }
     ],
     "prompt_number": 13
    },
    {
     "cell_type": "code",
     "collapsed": false,
     "input": [
      "class ColumnData(object):\n",
      "    def __init__(self, colname, data_list):\n",
      "        data_array = np.array(data_list)\n",
      "        self.states_vec, self.states_pos_vec, self.index_vec = np.unique(data_array,return_inverse=True,return_index=True)\n",
      "        self.name = colname\n",
      "    \n",
      "    def save_as_pickle_file(self, dir_path):\n",
      "        output_file_path = os.path.join(dir_path, \"%s.col\" % self.name)\n",
      "        with open(output_file_path, \"wb\") as wf:\n",
      "            pickle.dump(self, wf)\n",
      "    def __getitem__(self, name):\n",
      "        try:\n",
      "            return self.__dict__[name]\n",
      "        except KeyError:\n",
      "            raise KeyError, \"%s has no %s attribute.\" % (self.__dict__[\"name\"], name)\n",
      "    def __str__(self):\n",
      "        msg = \"States Vector: %s \\n\" % self.states_vec + \\\n",
      "        \"States Position: %s \\n\" % self.states_pos_vec + \\\n",
      "        \"Index Vector: %s \\n\" % self.index_vec\n",
      "        return msg"
     ],
     "language": "python",
     "metadata": {},
     "outputs": [],
     "prompt_number": 14
    },
    {
     "cell_type": "code",
     "collapsed": false,
     "input": [
      "test = ColumnData(\"test\", [1, 2, 3, 3, 5, 5, 1])\n",
      "print test\n",
      "print test[\"states_vec\"]"
     ],
     "language": "python",
     "metadata": {},
     "outputs": [
      {
       "output_type": "stream",
       "stream": "stdout",
       "text": [
        "States Vector: [1 2 3 5] \n",
        "States Position: [0 1 2 4] \n",
        "Index Vector: [0 1 2 2 3 3 0] \n",
        "\n",
        "[1 2 3 5]\n"
       ]
      }
     ],
     "prompt_number": 15
    },
    {
     "cell_type": "code",
     "collapsed": false,
     "input": [
      "import itertools"
     ],
     "language": "python",
     "metadata": {},
     "outputs": [],
     "prompt_number": 16
    },
    {
     "cell_type": "code",
     "collapsed": false,
     "input": [
      "# Testing.\n",
      "for i in itertools.product([1, 2, 3], \"abc\"):\n",
      "    print i"
     ],
     "language": "python",
     "metadata": {},
     "outputs": [
      {
       "output_type": "stream",
       "stream": "stdout",
       "text": [
        "(1, 'a')\n",
        "(1, 'b')\n",
        "(1, 'c')\n",
        "(2, 'a')\n",
        "(2, 'b')\n",
        "(2, 'c')\n",
        "(3, 'a')\n",
        "(3, 'b')\n",
        "(3, 'c')\n"
       ]
      }
     ],
     "prompt_number": 17
    },
    {
     "cell_type": "code",
     "collapsed": false,
     "input": [
      "gen = itertools.product(C1[\"states_vec\"].tolist(), C2[\"states_vec\"].tolist())\n",
      "count = 0\n",
      "for i, j in gen:\n",
      "    if count <= 5:\n",
      "        count += 1\n",
      "        print i, j\n",
      "    else:\n",
      "        break"
     ],
     "language": "python",
     "metadata": {},
     "outputs": [
      {
       "output_type": "stream",
       "stream": "stdout",
       "text": [
        "000d72dd 00ac063c\n",
        "000d72dd 014e4174\n",
        "000d72dd 016cbb4f\n",
        "000d72dd 01d108a8\n",
        "000d72dd 023a27f8\n",
        "000d72dd 028bd518\n"
       ]
      }
     ],
     "prompt_number": 18
    },
    {
     "cell_type": "code",
     "collapsed": false,
     "input": [
      "C1[\"states_pos_vec\"]"
     ],
     "language": "python",
     "metadata": {},
     "outputs": [
      {
       "metadata": {},
       "output_type": "pyout",
       "prompt_number": 19,
       "text": [
        "array([102741, 195405, 443348, ..., 159325, 116409, 234315])"
       ]
      }
     ],
     "prompt_number": 19
    },
    {
     "cell_type": "code",
     "collapsed": false,
     "input": [
      "print C1"
     ],
     "language": "python",
     "metadata": {},
     "outputs": [
      {
       "output_type": "stream",
       "stream": "stdout",
       "text": [
        "States Vector: ['000d72dd' '003f4253' '00c2e152' ..., 'ffca49ea' 'ffdd8052' 'ffe3cd83'] \n",
        "States Position: [102741 195405 443348 ..., 159325 116409 234315] \n",
        "Index Vector: [629 629 228 ...,  31  31  31] \n",
        "\n"
       ]
      }
     ],
     "prompt_number": 20
    },
    {
     "cell_type": "code",
     "collapsed": false,
     "input": [
      "# Concatenate two array.\n",
      "test1 = C1.index_vec.copy()\n",
      "test2 = C2.index_vec.copy()\n",
      "c = np.array([1, 1, 2])\n",
      "np.append(c, 5)"
     ],
     "language": "python",
     "metadata": {},
     "outputs": [
      {
       "metadata": {},
       "output_type": "pyout",
       "prompt_number": 21,
       "text": [
        "array([1, 1, 2, 5])"
       ]
      }
     ],
     "prompt_number": 21
    },
    {
     "cell_type": "code",
     "collapsed": false,
     "input": [
      "test1.shape = (45840617, 1)\n",
      "test2.shape = (45840617, 1)"
     ],
     "language": "python",
     "metadata": {},
     "outputs": [],
     "prompt_number": 22
    },
    {
     "cell_type": "code",
     "collapsed": false,
     "input": [
      "len(test1)"
     ],
     "language": "python",
     "metadata": {},
     "outputs": [
      {
       "metadata": {},
       "output_type": "pyout",
       "prompt_number": 23,
       "text": [
        "45840617"
       ]
      }
     ],
     "prompt_number": 23
    },
    {
     "cell_type": "code",
     "collapsed": false,
     "input": [
      "test = np.concatenate((test1, test2), axis = 1)\n",
      "test"
     ],
     "language": "python",
     "metadata": {},
     "outputs": [
      {
       "metadata": {},
       "output_type": "pyout",
       "prompt_number": 24,
       "text": [
        "array([[629, 292],\n",
        "       [629, 553],\n",
        "       [228,  28],\n",
        "       ..., \n",
        "       [ 31,  27],\n",
        "       [ 31,  11],\n",
        "       [ 31, 374]])"
       ]
      }
     ],
     "prompt_number": 24
    },
    {
     "cell_type": "code",
     "collapsed": false,
     "input": [
      "len(test)"
     ],
     "language": "python",
     "metadata": {},
     "outputs": [
      {
       "metadata": {},
       "output_type": "pyout",
       "prompt_number": 25,
       "text": [
        "45840617"
       ]
      }
     ],
     "prompt_number": 25
    },
    {
     "cell_type": "code",
     "collapsed": false,
     "input": [],
     "language": "python",
     "metadata": {},
     "outputs": []
    },
    {
     "cell_type": "code",
     "collapsed": false,
     "input": [],
     "language": "python",
     "metadata": {},
     "outputs": []
    },
    {
     "cell_type": "code",
     "collapsed": false,
     "input": [],
     "language": "python",
     "metadata": {},
     "outputs": []
    },
    {
     "cell_type": "code",
     "collapsed": false,
     "input": [
      "del test1, test2, test, c"
     ],
     "language": "python",
     "metadata": {},
     "outputs": [],
     "prompt_number": 26
    },
    {
     "cell_type": "code",
     "collapsed": false,
     "input": [],
     "language": "python",
     "metadata": {},
     "outputs": []
    },
    {
     "cell_type": "code",
     "collapsed": false,
     "input": [],
     "language": "python",
     "metadata": {},
     "outputs": []
    },
    {
     "cell_type": "code",
     "collapsed": false,
     "input": [],
     "language": "python",
     "metadata": {},
     "outputs": []
    },
    {
     "cell_type": "code",
     "collapsed": false,
     "input": [
      "check = np.array([])"
     ],
     "language": "python",
     "metadata": {},
     "outputs": [],
     "prompt_number": 24
    },
    {
     "cell_type": "code",
     "collapsed": false,
     "input": [
      "C1_index_vec = C1.index_vec.copy()\n",
      "C2_index_vec = C2.index_vec.copy()"
     ],
     "language": "python",
     "metadata": {},
     "outputs": [],
     "prompt_number": 28
    },
    {
     "cell_type": "code",
     "collapsed": false,
     "input": [
      "C1_index_vec.shape = (45840617, 1)\n",
      "C2_index_vec.shape = (45840617, 1)\n",
      "\n",
      "test = np.concatenate([C1_index_vec, C2_index_vec], axis = 1)\n",
      "test"
     ],
     "language": "python",
     "metadata": {},
     "outputs": [
      {
       "metadata": {},
       "output_type": "pyout",
       "prompt_number": 29,
       "text": [
        "array([[629, 292],\n",
        "       [629, 553],\n",
        "       [228,  28],\n",
        "       ..., \n",
        "       [ 31,  27],\n",
        "       [ 31,  11],\n",
        "       [ 31, 374]])"
       ]
      }
     ],
     "prompt_number": 29
    },
    {
     "cell_type": "code",
     "collapsed": false,
     "input": [
      "combined = np.c_[C1_index_vec,C2_index_vec]"
     ],
     "language": "python",
     "metadata": {},
     "outputs": [],
     "prompt_number": 31
    },
    {
     "cell_type": "code",
     "collapsed": true,
     "input": [
      "combined"
     ],
     "language": "python",
     "metadata": {},
     "outputs": [
      {
       "metadata": {},
       "output_type": "pyout",
       "prompt_number": 32,
       "text": [
        "array([[629, 292],\n",
        "       [629, 553],\n",
        "       [228,  28],\n",
        "       ..., \n",
        "       [ 31,  27],\n",
        "       [ 31,  11],\n",
        "       [ 31, 374]])"
       ]
      }
     ],
     "prompt_number": 32
    },
    {
     "cell_type": "code",
     "collapsed": false,
     "input": [
      "combined_copy = combined.copy()"
     ],
     "language": "python",
     "metadata": {},
     "outputs": [],
     "prompt_number": 36
    },
    {
     "cell_type": "code",
     "collapsed": false,
     "input": [
      "print combined"
     ],
     "language": "python",
     "metadata": {},
     "outputs": [
      {
       "output_type": "stream",
       "stream": "stdout",
       "text": [
        "[[629 292]\n",
        " [629 553]\n",
        " [228  28]\n",
        " ..., \n",
        " [ 31  27]\n",
        " [ 31  11]\n",
        " [ 31 374]]\n"
       ]
      }
     ],
     "prompt_number": 37
    },
    {
     "cell_type": "code",
     "collapsed": false,
     "input": [
      "combined_copy.dtype = [(\"x1\",combined.dtype),(\"x2\",combined.dtype)]# np.dtype([(\"x1\",combined.dtype),(\"x2\",combined.dtype)])"
     ],
     "language": "python",
     "metadata": {},
     "outputs": [],
     "prompt_number": 38
    },
    {
     "cell_type": "code",
     "collapsed": false,
     "input": [
      "print combined_copy.dtype"
     ],
     "language": "python",
     "metadata": {},
     "outputs": [
      {
       "output_type": "stream",
       "stream": "stdout",
       "text": [
        "[('x1', '<i8'), ('x2', '<i8')]\n"
       ]
      }
     ],
     "prompt_number": 39
    },
    {
     "cell_type": "code",
     "collapsed": false,
     "input": [
      "combined_copy"
     ],
     "language": "python",
     "metadata": {},
     "outputs": [
      {
       "metadata": {},
       "output_type": "pyout",
       "prompt_number": 40,
       "text": [
        "array([[(629, 292)],\n",
        "       [(629, 553)],\n",
        "       [(228, 28)],\n",
        "       ..., \n",
        "       [(31, 27)],\n",
        "       [(31, 11)],\n",
        "       [(31, 374)]], \n",
        "      dtype=[('x1', '<i8'), ('x2', '<i8')])"
       ]
      }
     ],
     "prompt_number": 40
    },
    {
     "cell_type": "code",
     "collapsed": false,
     "input": [
      "uu,ui,ii = np.unique(combined_copy,return_index=True,return_inverse=True)"
     ],
     "language": "python",
     "metadata": {},
     "outputs": [],
     "prompt_number": 41
    },
    {
     "cell_type": "code",
     "collapsed": false,
     "input": [
      "uu"
     ],
     "language": "python",
     "metadata": {},
     "outputs": [
      {
       "metadata": {},
       "output_type": "pyout",
       "prompt_number": 42,
       "text": [
        "array([(0, 0), (0, 11), (0, 12), ..., (1459, 570), (1459, 578), (1459, 579)], \n",
        "      dtype=[('x1', '<i8'), ('x2', '<i8')])"
       ]
      }
     ],
     "prompt_number": 42
    },
    {
     "cell_type": "code",
     "collapsed": false,
     "input": [
      "ui"
     ],
     "language": "python",
     "metadata": {},
     "outputs": [
      {
       "metadata": {},
       "output_type": "pyout",
       "prompt_number": 43,
       "text": [
        "array([ 9752061,  2558401,  2315737, ...,  6346901, 31567844, 16096231])"
       ]
      }
     ],
     "prompt_number": 43
    },
    {
     "cell_type": "code",
     "collapsed": false,
     "input": [
      "ii"
     ],
     "language": "python",
     "metadata": {},
     "outputs": [
      {
       "metadata": {},
       "output_type": "pyout",
       "prompt_number": 44,
       "text": [
        "array([64676, 64928, 20078, ...,  1630,  1614,  1969])"
       ]
      }
     ],
     "prompt_number": 44
    },
    {
     "cell_type": "code",
     "collapsed": false,
     "input": [
      "(629, 292) in uu.tolist()"
     ],
     "language": "python",
     "metadata": {},
     "outputs": [
      {
       "metadata": {},
       "output_type": "pyout",
       "prompt_number": 45,
       "text": [
        "True"
       ]
      }
     ],
     "prompt_number": 45
    },
    {
     "cell_type": "code",
     "collapsed": false,
     "input": [
      "print len(uu), len(ui), len(ii)"
     ],
     "language": "python",
     "metadata": {},
     "outputs": [
      {
       "output_type": "stream",
       "stream": "stdout",
       "text": [
        "144132 144132 45840617\n"
       ]
      }
     ],
     "prompt_number": 46
    },
    {
     "cell_type": "code",
     "collapsed": false,
     "input": [
      "recovery = uu[ii]"
     ],
     "language": "python",
     "metadata": {},
     "outputs": [],
     "prompt_number": 47
    },
    {
     "cell_type": "code",
     "collapsed": false,
     "input": [
      "recovery"
     ],
     "language": "python",
     "metadata": {},
     "outputs": [
      {
       "metadata": {},
       "output_type": "pyout",
       "prompt_number": 48,
       "text": [
        "array([(629, 292), (629, 553), (228, 28), ..., (31, 27), (31, 11),\n",
        "       (31, 374)], \n",
        "      dtype=[('x1', '<i8'), ('x2', '<i8')])"
       ]
      }
     ],
     "prompt_number": 48
    },
    {
     "cell_type": "code",
     "collapsed": false,
     "input": [],
     "language": "python",
     "metadata": {},
     "outputs": []
    },
    {
     "cell_type": "code",
     "collapsed": false,
     "input": [
      "C1.index_vec.dtype"
     ],
     "language": "python",
     "metadata": {},
     "outputs": [
      {
       "metadata": {},
       "output_type": "pyout",
       "prompt_number": 50,
       "text": [
        "dtype('int64')"
       ]
      }
     ],
     "prompt_number": 50
    },
    {
     "cell_type": "code",
     "collapsed": false,
     "input": [],
     "language": "python",
     "metadata": {},
     "outputs": []
    },
    {
     "cell_type": "code",
     "collapsed": false,
     "input": [
      "import itertools"
     ],
     "language": "python",
     "metadata": {},
     "outputs": [],
     "prompt_number": 70
    },
    {
     "cell_type": "code",
     "collapsed": false,
     "input": [
      "def Distribution(*columns):\n",
      "    \"\"\"\n",
      "    Input: ColumnData objects. (Categorical data)\n",
      "    Output: The conditional probability of labels given the value of each columns.\n",
      "    \"\"\"\n",
      "    check = np.array([])\n",
      "    for col in columns:\n",
      "        temp = col.index_vec\n",
      "        np.append(check, len(temp))\n",
      "    check = np.all(check == len(temp))\n",
      "    assert check, \"The columns are not of the same length. Please check that.\"\n",
      "    # Combine all the columns into a array table. (It is for the upcoming group-by.)\n",
      "    shape = (len(temp), 1)\n",
      "    for col in columns:\n",
      "        col.index_vec.shape = shape\n",
      "    table = np.concatenate([col.index_vec for col in columns], axis = 1)\n",
      "    dtype = [(col.name, col.index_vec.dtype) for col in columns]\n",
      "    table.dtype = dtype\n",
      "    unique_pair, pair_position, pair_vec_index = np.unique(table, return_index=True, return_inverse=True)\n",
      "    dist = dict((tuple(pair), 0) for pair in unique_pair)\n",
      "    for ind in pair_vec_index:\n",
      "        dist[tuple(unique_pair[ind])] += 1.0\n",
      "    return dist"
     ],
     "language": "python",
     "metadata": {},
     "outputs": [],
     "prompt_number": 86
    },
    {
     "cell_type": "code",
     "collapsed": false,
     "input": [
      "dist = Distribution(Y, C1, C2)"
     ],
     "language": "python",
     "metadata": {},
     "outputs": [
      {
       "output_type": "stream",
       "stream": "stdout",
       "text": [
        "<type 'tuple'>\n",
        "(<column_analysis_tooles.ColumnData object at 0x104e725d0>, <column_analysis_tooles.ColumnData object at 0x104e68ed0>, <column_analysis_tooles.ColumnData object at 0x104e72390>)\n",
        "Label\n",
        "C1\n",
        "C2\n"
       ]
      }
     ],
     "prompt_number": 87
    },
    {
     "cell_type": "code",
     "collapsed": false,
     "input": [
      "num_data = len(Y.index_vec)\n",
      "for key in dist:\n",
      "    dist[key] /= float(num_data)\n",
      "dist[1:10]"
     ],
     "language": "python",
     "metadata": {},
     "outputs": [
      {
       "metadata": {},
       "output_type": "pyout",
       "prompt_number": 102,
       "text": [
        "{(0, 0, 0): 2.181471510298389e-08,\n",
        " (0, 0, 11): 2.399618661328228e-07,\n",
        " (0, 0, 12): 2.6177658123580666e-07,\n",
        " (0, 0, 19): 2.181471510298389e-08,\n",
        " (0, 0, 23): 8.725886041193556e-08,\n",
        " (0, 0, 27): 4.144795869566939e-07,\n",
        " (0, 0, 28): 1.0907357551491945e-07,\n",
        " (0, 0, 31): 2.181471510298389e-08,\n",
        " (0, 0, 33): 2.181471510298389e-08,\n",
        " (0, 0, 35): 2.181471510298389e-08,\n",
        " (0, 0, 37): 2.181471510298389e-08,\n",
        " (0, 0, 40): 2.181471510298389e-08,\n",
        " (0, 0, 49): 4.362943020596778e-08,\n",
        " (0, 0, 59): 6.544414530895166e-08,\n",
        " (0, 0, 67): 2.181471510298389e-08,\n",
        " (0, 0, 70): 3.272207265447583e-07,\n",
        " (0, 0, 74): 6.762561681925005e-07,\n",
        " (0, 0, 77): 2.181471510298389e-08,\n",
        " (0, 0, 79): 2.181471510298389e-08,\n",
        " (0, 0, 84): 2.181471510298389e-08,\n",
        " (0, 0, 86): 4.362943020596778e-08,\n",
        " (0, 0, 91): 5.235531624716133e-07,\n",
        " (0, 0, 96): 4.362943020596778e-08,\n",
        " (0, 0, 98): 2.181471510298389e-08,\n",
        " (0, 0, 102): 1.96332435926855e-07,\n",
        " (0, 0, 103): 2.181471510298389e-08,\n",
        " (0, 0, 106): 4.362943020596778e-08,\n",
        " (0, 0, 119): 2.181471510298389e-08,\n",
        " (0, 0, 122): 2.181471510298389e-08,\n",
        " (0, 0, 130): 1.4834006270029044e-06,\n",
        " (0, 0, 131): 2.181471510298389e-08,\n",
        " (0, 0, 132): 3.272207265447583e-07,\n",
        " (0, 0, 134): 6.544414530895166e-08,\n",
        " (0, 0, 143): 4.362943020596778e-08,\n",
        " (0, 0, 145): 6.544414530895166e-08,\n",
        " (0, 0, 148): 2.181471510298389e-08,\n",
        " (0, 0, 150): 4.362943020596778e-08,\n",
        " (0, 0, 154): 4.362943020596778e-08,\n",
        " (0, 0, 155): 3.272207265447583e-07,\n",
        " (0, 0, 157): 4.362943020596778e-08,\n",
        " (0, 0, 163): 2.181471510298389e-08,\n",
        " (0, 0, 165): 2.181471510298389e-08,\n",
        " (0, 0, 167): 2.181471510298389e-08,\n",
        " (0, 0, 178): 2.181471510298389e-08,\n",
        " (0, 0, 181): 4.362943020596778e-08,\n",
        " (0, 0, 184): 2.181471510298389e-08,\n",
        " (0, 0, 185): 3.708501567507261e-07,\n",
        " (0, 0, 187): 2.181471510298389e-08,\n",
        " (0, 0, 188): 2.181471510298389e-08,\n",
        " (0, 0, 195): 2.181471510298389e-08,\n",
        " (0, 0, 198): 2.181471510298389e-08,\n",
        " (0, 0, 203): 2.181471510298389e-08,\n",
        " (0, 0, 208): 2.181471510298389e-08,\n",
        " (0, 0, 210): 5.017384473686294e-07,\n",
        " (0, 0, 211): 2.181471510298389e-08,\n",
        " (0, 0, 213): 6.544414530895166e-08,\n",
        " (0, 0, 216): 1.0907357551491945e-07,\n",
        " (0, 0, 231): 4.362943020596778e-08,\n",
        " (0, 0, 240): 2.181471510298389e-08,\n",
        " (0, 0, 241): 1.3088829061790333e-07,\n",
        " (0, 0, 242): 2.181471510298389e-08,\n",
        " (0, 0, 247): 2.181471510298389e-08,\n",
        " (0, 0, 253): 8.725886041193556e-08,\n",
        " (0, 0, 258): 4.362943020596778e-08,\n",
        " (0, 0, 259): 2.181471510298389e-08,\n",
        " (0, 0, 262): 6.544414530895166e-08,\n",
        " (0, 0, 265): 1.96332435926855e-07,\n",
        " (0, 0, 275): 2.181471510298389e-08,\n",
        " (0, 0, 278): 8.725886041193556e-08,\n",
        " (0, 0, 286): 2.181471510298389e-08,\n",
        " (0, 0, 287): 2.181471510298389e-08,\n",
        " (0, 0, 291): 1.0907357551491945e-07,\n",
        " (0, 0, 292): 1.96332435926855e-07,\n",
        " (0, 0, 300): 4.362943020596778e-08,\n",
        " (0, 0, 302): 2.181471510298389e-08,\n",
        " (0, 0, 305): 1.0907357551491945e-07,\n",
        " (0, 0, 309): 4.362943020596778e-08,\n",
        " (0, 0, 311): 4.362943020596778e-08,\n",
        " (0, 0, 313): 4.362943020596778e-08,\n",
        " (0, 0, 317): 6.544414530895166e-08,\n",
        " (0, 0, 319): 2.181471510298389e-08,\n",
        " (0, 0, 320): 1.5270300572088722e-07,\n",
        " (0, 0, 321): 2.181471510298389e-08,\n",
        " (0, 0, 327): 2.181471510298389e-08,\n",
        " (0, 0, 330): 1.5270300572088722e-07,\n",
        " (0, 0, 331): 2.181471510298389e-08,\n",
        " (0, 0, 341): 1.3088829061790333e-07,\n",
        " (0, 0, 345): 2.181471510298389e-08,\n",
        " (0, 0, 346): 2.181471510298389e-08,\n",
        " (0, 0, 350): 4.362943020596778e-08,\n",
        " (0, 0, 356): 4.362943020596778e-08,\n",
        " (0, 0, 359): 6.544414530895166e-08,\n",
        " (0, 0, 365): 2.181471510298389e-08,\n",
        " (0, 0, 374): 1.5270300572088722e-07,\n",
        " (0, 0, 377): 2.181471510298389e-08,\n",
        " (0, 0, 384): 2.181471510298389e-08,\n",
        " (0, 0, 389): 1.7451772082387111e-07,\n",
        " (0, 0, 402): 2.181471510298389e-08,\n",
        " (0, 0, 403): 2.181471510298389e-08,\n",
        " (0, 0, 410): 2.181471510298389e-08,\n",
        " (0, 0, 414): 1.3088829061790333e-07,\n",
        " (0, 0, 416): 2.181471510298389e-08,\n",
        " (0, 0, 417): 2.181471510298389e-08,\n",
        " (0, 0, 419): 4.362943020596778e-08,\n",
        " (0, 0, 428): 1.7451772082387111e-07,\n",
        " (0, 0, 431): 2.181471510298389e-08,\n",
        " (0, 0, 435): 1.5270300572088722e-07,\n",
        " (0, 0, 441): 6.544414530895166e-08,\n",
        " (0, 0, 443): 4.362943020596778e-08,\n",
        " (0, 0, 444): 2.181471510298389e-08,\n",
        " (0, 0, 445): 2.181471510298389e-08,\n",
        " (0, 0, 456): 6.544414530895166e-08,\n",
        " (0, 0, 465): 2.181471510298389e-08,\n",
        " (0, 0, 466): 2.181471510298389e-08,\n",
        " (0, 0, 469): 2.181471510298389e-08,\n",
        " (0, 0, 472): 1.5270300572088722e-07,\n",
        " (0, 0, 483): 2.181471510298389e-08,\n",
        " (0, 0, 486): 4.362943020596778e-08,\n",
        " (0, 0, 498): 4.362943020596778e-08,\n",
        " (0, 0, 503): 2.181471510298389e-08,\n",
        " (0, 0, 504): 4.362943020596778e-08,\n",
        " (0, 0, 506): 1.7451772082387111e-07,\n",
        " (0, 0, 510): 2.181471510298389e-08,\n",
        " (0, 0, 513): 4.362943020596778e-08,\n",
        " (0, 0, 518): 2.181471510298389e-08,\n",
        " (0, 0, 519): 2.181471510298389e-08,\n",
        " (0, 0, 523): 2.181471510298389e-08,\n",
        " (0, 0, 524): 1.3088829061790333e-07,\n",
        " (0, 0, 532): 4.362943020596778e-08,\n",
        " (0, 0, 534): 4.362943020596778e-08,\n",
        " (0, 0, 537): 6.544414530895166e-08,\n",
        " (0, 0, 541): 2.181471510298389e-08,\n",
        " (0, 0, 551): 8.725886041193556e-08,\n",
        " (0, 0, 553): 4.144795869566939e-07,\n",
        " (0, 0, 558): 2.181471510298389e-08,\n",
        " (0, 0, 567): 1.0907357551491945e-07,\n",
        " (0, 0, 571): 2.181471510298389e-08,\n",
        " (0, 0, 578): 2.181471510298389e-08,\n",
        " (0, 0, 579): 2.181471510298389e-08,\n",
        " (0, 1, 23): 2.181471510298389e-08,\n",
        " (0, 1, 27): 2.181471510298389e-08,\n",
        " (0, 1, 74): 8.725886041193556e-08,\n",
        " (0, 1, 102): 2.181471510298389e-08,\n",
        " (0, 1, 130): 1.96332435926855e-07,\n",
        " (0, 1, 132): 8.725886041193556e-08,\n",
        " (0, 1, 136): 4.362943020596778e-08,\n",
        " (0, 1, 155): 4.362943020596778e-08,\n",
        " (0, 1, 185): 1.7451772082387111e-07,\n",
        " (0, 1, 216): 2.181471510298389e-08,\n",
        " (0, 1, 291): 6.544414530895166e-08,\n",
        " (0, 1, 292): 2.181471510298389e-08,\n",
        " (0, 1, 302): 2.181471510298389e-08,\n",
        " (0, 1, 306): 1.3088829061790333e-07,\n",
        " (0, 1, 320): 2.181471510298389e-08,\n",
        " (0, 1, 389): 2.181471510298389e-08,\n",
        " (0, 1, 428): 2.181471510298389e-08,\n",
        " (0, 1, 434): 2.181471510298389e-08,\n",
        " (0, 1, 477): 2.181471510298389e-08,\n",
        " (0, 2, 11): 8.725886041193556e-08,\n",
        " (0, 2, 28): 2.181471510298389e-08,\n",
        " (0, 2, 70): 6.544414530895166e-08,\n",
        " (0, 2, 74): 4.362943020596778e-08,\n",
        " (0, 2, 91): 8.725886041193556e-08,\n",
        " (0, 2, 130): 2.6177658123580666e-07,\n",
        " (0, 2, 132): 4.362943020596778e-08,\n",
        " (0, 2, 185): 6.544414530895166e-08,\n",
        " (0, 2, 198): 2.181471510298389e-08,\n",
        " (0, 2, 232): 2.181471510298389e-08,\n",
        " (0, 2, 269): 2.181471510298389e-08,\n",
        " (0, 2, 292): 4.362943020596778e-08,\n",
        " (0, 2, 321): 2.181471510298389e-08,\n",
        " (0, 2, 327): 2.181471510298389e-08,\n",
        " (0, 2, 346): 2.181471510298389e-08,\n",
        " (0, 2, 414): 2.181471510298389e-08,\n",
        " (0, 2, 456): 4.362943020596778e-08,\n",
        " (0, 2, 461): 2.181471510298389e-08,\n",
        " (0, 2, 469): 4.362943020596778e-08,\n",
        " (0, 2, 472): 2.181471510298389e-08,\n",
        " (0, 2, 524): 2.181471510298389e-08,\n",
        " (0, 2, 567): 4.362943020596778e-08,\n",
        " (0, 2, 579): 2.181471510298389e-08,\n",
        " (0, 3, 0): 8.725886041193556e-08,\n",
        " (0, 3, 11): 8.725886041193556e-08,\n",
        " (0, 3, 12): 4.362943020596778e-08,\n",
        " (0, 3, 21): 2.181471510298389e-08,\n",
        " (0, 3, 23): 6.544414530895166e-08,\n",
        " (0, 3, 27): 8.725886041193556e-08,\n",
        " (0, 3, 28): 4.362943020596778e-08,\n",
        " (0, 3, 70): 2.399618661328228e-07,\n",
        " (0, 3, 74): 1.3088829061790333e-07,\n",
        " (0, 3, 91): 1.0907357551491945e-07,\n",
        " (0, 3, 98): 2.181471510298389e-08,\n",
        " (0, 3, 104): 2.181471510298389e-08,\n",
        " (0, 3, 108): 2.181471510298389e-08,\n",
        " (0, 3, 111): 2.181471510298389e-08,\n",
        " (0, 3, 122): 2.181471510298389e-08,\n",
        " (0, 3, 130): 2.6177658123580666e-07,\n",
        " (0, 3, 132): 6.544414530895166e-08,\n",
        " (0, 3, 134): 2.181471510298389e-08,\n",
        " (0, 3, 136): 2.181471510298389e-08,\n",
        " (0, 3, 148): 4.362943020596778e-08,\n",
        " (0, 3, 151): 4.362943020596778e-08,\n",
        " (0, 3, 155): 8.725886041193556e-08,\n",
        " (0, 3, 157): 2.181471510298389e-08,\n",
        " (0, 3, 163): 2.181471510298389e-08,\n",
        " (0, 3, 165): 2.181471510298389e-08,\n",
        " (0, 3, 184): 2.181471510298389e-08,\n",
        " (0, 3, 185): 1.0907357551491945e-07,\n",
        " (0, 3, 197): 2.181471510298389e-08,\n",
        " (0, 3, 198): 4.362943020596778e-08,\n",
        " (0, 3, 210): 6.544414530895166e-08,\n",
        " (0, 3, 216): 2.181471510298389e-08,\n",
        " (0, 3, 243): 2.181471510298389e-08,\n",
        " (0, 3, 265): 2.181471510298389e-08,\n",
        " (0, 3, 278): 2.181471510298389e-08,\n",
        " (0, 3, 291): 2.181471510298389e-08,\n",
        " (0, 3, 292): 6.544414530895166e-08,\n",
        " (0, 3, 306): 6.544414530895166e-08,\n",
        " (0, 3, 309): 2.181471510298389e-08,\n",
        " (0, 3, 317): 2.181471510298389e-08,\n",
        " (0, 3, 320): 2.181471510298389e-08,\n",
        " (0, 3, 322): 2.181471510298389e-08,\n",
        " (0, 3, 330): 2.181471510298389e-08,\n",
        " (0, 3, 341): 2.181471510298389e-08,\n",
        " (0, 3, 346): 2.181471510298389e-08,\n",
        " (0, 3, 363): 2.181471510298389e-08,\n",
        " (0, 3, 400): 2.181471510298389e-08,\n",
        " (0, 3, 410): 2.181471510298389e-08,\n",
        " (0, 3, 414): 6.544414530895166e-08,\n",
        " (0, 3, 428): 4.362943020596778e-08,\n",
        " (0, 3, 435): 4.362943020596778e-08,\n",
        " (0, 3, 443): 2.181471510298389e-08,\n",
        " (0, 3, 448): 2.181471510298389e-08,\n",
        " (0, 3, 456): 4.362943020596778e-08,\n",
        " (0, 3, 465): 2.181471510298389e-08,\n",
        " (0, 3, 466): 2.181471510298389e-08,\n",
        " (0, 3, 499): 2.181471510298389e-08,\n",
        " (0, 3, 501): 2.181471510298389e-08,\n",
        " (0, 3, 504): 2.181471510298389e-08,\n",
        " (0, 3, 506): 2.181471510298389e-08,\n",
        " (0, 3, 510): 2.181471510298389e-08,\n",
        " (0, 3, 512): 2.181471510298389e-08,\n",
        " (0, 3, 524): 6.544414530895166e-08,\n",
        " (0, 3, 530): 2.181471510298389e-08,\n",
        " (0, 3, 537): 4.362943020596778e-08,\n",
        " (0, 3, 553): 2.181471510298389e-08,\n",
        " (0, 3, 561): 2.181471510298389e-08,\n",
        " (0, 3, 567): 2.181471510298389e-08,\n",
        " (0, 3, 572): 2.181471510298389e-08,\n",
        " (0, 3, 578): 2.181471510298389e-08,\n",
        " (0, 4, 11): 6.544414530895166e-08,\n",
        " (0, 4, 13): 2.181471510298389e-08,\n",
        " (0, 4, 16): 2.181471510298389e-08,\n",
        " (0, 4, 21): 2.181471510298389e-08,\n",
        " (0, 4, 23): 4.362943020596778e-08,\n",
        " (0, 4, 27): 4.362943020596778e-08,\n",
        " (0, 4, 70): 1.3088829061790333e-07,\n",
        " (0, 4, 74): 1.96332435926855e-07,\n",
        " (0, 4, 85): 2.181471510298389e-08,\n",
        " (0, 4, 91): 6.544414530895166e-08,\n",
        " (0, 4, 102): 1.5270300572088722e-07,\n",
        " (0, 4, 120): 2.181471510298389e-08,\n",
        " (0, 4, 130): 4.144795869566939e-07,\n",
        " (0, 4, 132): 1.96332435926855e-07,\n",
        " (0, 4, 136): 2.181471510298389e-08,\n",
        " (0, 4, 155): 8.725886041193556e-08,\n",
        " (0, 4, 163): 2.181471510298389e-08,\n",
        " (0, 4, 184): 6.544414530895166e-08,\n",
        " (0, 4, 185): 1.7451772082387111e-07,\n",
        " (0, 4, 187): 2.181471510298389e-08,\n",
        " (0, 4, 198): 2.181471510298389e-08,\n",
        " (0, 4, 203): 2.181471510298389e-08,\n",
        " (0, 4, 210): 1.96332435926855e-07,\n",
        " (0, 4, 225): 2.181471510298389e-08,\n",
        " (0, 4, 227): 2.181471510298389e-08,\n",
        " (0, 4, 232): 4.362943020596778e-08,\n",
        " (0, 4, 237): 2.181471510298389e-08,\n",
        " (0, 4, 241): 2.181471510298389e-08,\n",
        " (0, 4, 243): 8.725886041193556e-08,\n",
        " (0, 4, 258): 2.181471510298389e-08,\n",
        " (0, 4, 262): 2.181471510298389e-08,\n",
        " (0, 4, 264): 2.181471510298389e-08,\n",
        " (0, 4, 265): 2.181471510298389e-08,\n",
        " (0, 4, 270): 2.181471510298389e-08,\n",
        " (0, 4, 286): 2.181471510298389e-08,\n",
        " (0, 4, 291): 4.362943020596778e-08,\n",
        " (0, 4, 292): 2.181471510298389e-08,\n",
        " (0, 4, 305): 4.362943020596778e-08,\n",
        " (0, 4, 306): 2.181471510298389e-08,\n",
        " (0, 4, 308): 2.181471510298389e-08,\n",
        " (0, 4, 332): 2.181471510298389e-08,\n",
        " (0, 4, 339): 6.544414530895166e-08,\n",
        " (0, 4, 341): 2.181471510298389e-08,\n",
        " (0, 4, 350): 2.181471510298389e-08,\n",
        " (0, 4, 365): 2.181471510298389e-08,\n",
        " (0, 4, 374): 1.0907357551491945e-07,\n",
        " (0, 4, 389): 6.544414530895166e-08,\n",
        " (0, 4, 412): 2.181471510298389e-08,\n",
        " (0, 4, 414): 2.181471510298389e-08,\n",
        " (0, 4, 444): 2.181471510298389e-08,\n",
        " (0, 4, 472): 4.362943020596778e-08,\n",
        " (0, 4, 483): 2.181471510298389e-08,\n",
        " (0, 4, 502): 2.181471510298389e-08,\n",
        " (0, 4, 506): 4.362943020596778e-08,\n",
        " (0, 4, 510): 2.181471510298389e-08,\n",
        " (0, 4, 511): 2.181471510298389e-08,\n",
        " (0, 4, 524): 6.544414530895166e-08,\n",
        " (0, 4, 537): 2.181471510298389e-08,\n",
        " (0, 4, 553): 4.362943020596778e-08,\n",
        " (0, 4, 560): 2.181471510298389e-08,\n",
        " (0, 4, 567): 2.181471510298389e-08,\n",
        " (0, 4, 571): 2.181471510298389e-08,\n",
        " (0, 4, 579): 2.181471510298389e-08,\n",
        " (0, 5, 15): 2.181471510298389e-08,\n",
        " (0, 5, 23): 2.181471510298389e-08,\n",
        " (0, 5, 74): 1.0907357551491945e-07,\n",
        " (0, 5, 102): 6.544414530895166e-08,\n",
        " (0, 5, 130): 8.725886041193556e-08,\n",
        " (0, 5, 132): 8.725886041193556e-08,\n",
        " (0, 5, 150): 4.362943020596778e-08,\n",
        " (0, 5, 155): 4.362943020596778e-08,\n",
        " (0, 5, 185): 2.181471510298389e-07,\n",
        " (0, 5, 216): 4.362943020596778e-08,\n",
        " (0, 5, 242): 2.181471510298389e-08,\n",
        " (0, 5, 258): 4.362943020596778e-08,\n",
        " (0, 5, 291): 8.725886041193556e-08,\n",
        " (0, 5, 302): 2.181471510298389e-08,\n",
        " (0, 5, 320): 4.362943020596778e-08,\n",
        " (0, 5, 330): 2.181471510298389e-08,\n",
        " (0, 5, 346): 2.181471510298389e-08,\n",
        " (0, 5, 389): 2.181471510298389e-08,\n",
        " (0, 5, 416): 2.181471510298389e-08,\n",
        " (0, 5, 419): 2.181471510298389e-08,\n",
        " (0, 5, 423): 2.181471510298389e-08,\n",
        " (0, 5, 428): 2.181471510298389e-08,\n",
        " (0, 5, 441): 2.181471510298389e-08,\n",
        " (0, 5, 500): 2.181471510298389e-08,\n",
        " (0, 5, 505): 2.181471510298389e-08,\n",
        " (0, 5, 506): 2.181471510298389e-08,\n",
        " (0, 5, 511): 2.181471510298389e-08,\n",
        " (0, 5, 529): 2.181471510298389e-08,\n",
        " (0, 6, 12): 4.362943020596778e-08,\n",
        " (0, 6, 21): 4.362943020596778e-08,\n",
        " (0, 6, 27): 2.181471510298389e-08,\n",
        " (0, 6, 33): 2.181471510298389e-08,\n",
        " (0, 6, 53): 2.181471510298389e-08,\n",
        " (0, 6, 74): 1.5270300572088722e-07,\n",
        " (0, 6, 102): 8.725886041193556e-08,\n",
        " (0, 6, 130): 8.725886041193556e-08,\n",
        " (0, 6, 132): 6.544414530895166e-08,\n",
        " (0, 6, 148): 8.725886041193556e-08,\n",
        " (0, 6, 155): 4.362943020596778e-08,\n",
        " (0, 6, 185): 2.181471510298389e-08,\n",
        " (0, 6, 194): 4.362943020596778e-08,\n",
        " (0, 6, 241): 2.181471510298389e-08,\n",
        " (0, 6, 291): 4.362943020596778e-08,\n",
        " (0, 6, 292): 2.181471510298389e-08,\n",
        " (0, 6, 306): 8.725886041193556e-08,\n",
        " (0, 6, 337): 2.181471510298389e-08,\n",
        " (0, 6, 341): 2.181471510298389e-08,\n",
        " (0, 6, 389): 4.362943020596778e-08,\n",
        " (0, 6, 416): 2.181471510298389e-08,\n",
        " (0, 6, 421): 4.362943020596778e-08,\n",
        " (0, 6, 428): 2.181471510298389e-08,\n",
        " (0, 6, 441): 2.181471510298389e-08,\n",
        " (0, 6, 472): 2.181471510298389e-08,\n",
        " (0, 6, 506): 4.362943020596778e-08,\n",
        " (0, 6, 524): 2.181471510298389e-08,\n",
        " (0, 7, 11): 2.181471510298389e-08,\n",
        " (0, 7, 23): 4.362943020596778e-08,\n",
        " (0, 7, 27): 2.181471510298389e-08,\n",
        " (0, 7, 49): 2.181471510298389e-08,\n",
        " (0, 7, 50): 2.181471510298389e-08,\n",
        " (0, 7, 59): 2.181471510298389e-08,\n",
        " (0, 7, 70): 1.0907357551491945e-07,\n",
        " (0, 7, 74): 4.362943020596778e-08,\n",
        " (0, 7, 91): 2.181471510298389e-08,\n",
        " (0, 7, 130): 8.725886041193556e-08,\n",
        " (0, 7, 132): 6.544414530895166e-08,\n",
        " (0, 7, 154): 2.181471510298389e-08,\n",
        " (0, 7, 155): 6.544414530895166e-08,\n",
        " (0, 7, 178): 2.181471510298389e-08,\n",
        " (0, 7, 185): 2.181471510298389e-08,\n",
        " (0, 7, 188): 2.181471510298389e-08,\n",
        " (0, 7, 230): 2.181471510298389e-08,\n",
        " (0, 7, 265): 2.181471510298389e-08,\n",
        " (0, 7, 278): 2.181471510298389e-08,\n",
        " (0, 7, 292): 2.181471510298389e-08,\n",
        " (0, 7, 300): 2.181471510298389e-08,\n",
        " (0, 7, 302): 2.181471510298389e-08,\n",
        " (0, 7, 322): 2.181471510298389e-08,\n",
        " (0, 7, 330): 2.181471510298389e-08,\n",
        " (0, 7, 341): 2.181471510298389e-08,\n",
        " (0, 7, 365): 2.181471510298389e-08,\n",
        " (0, 7, 414): 2.181471510298389e-08,\n",
        " (0, 7, 418): 2.181471510298389e-08,\n",
        " (0, 7, 435): 2.181471510298389e-08,\n",
        " (0, 7, 441): 2.181471510298389e-08,\n",
        " (0, 7, 464): 2.181471510298389e-08,\n",
        " (0, 7, 472): 2.181471510298389e-08,\n",
        " (0, 7, 506): 4.362943020596778e-08,\n",
        " (0, 7, 535): 2.181471510298389e-08,\n",
        " (0, 7, 553): 4.362943020596778e-08,\n",
        " (0, 8, 12): 4.362943020596778e-08,\n",
        " (0, 8, 23): 2.181471510298389e-08,\n",
        " (0, 8, 27): 6.544414530895166e-08,\n",
        " (0, 8, 28): 4.362943020596778e-08,\n",
        " (0, 8, 33): 4.362943020596778e-08,\n",
        " (0, 8, 70): 1.3088829061790333e-07,\n",
        " (0, 8, 74): 2.181471510298389e-08,\n",
        " (0, 8, 91): 2.181471510298389e-08,\n",
        " (0, 8, 104): 2.181471510298389e-08,\n",
        " (0, 8, 122): 2.181471510298389e-08,\n",
        " (0, 8, 130): 1.0907357551491945e-07,\n",
        " (0, 8, 155): 2.181471510298389e-08,\n",
        " (0, 8, 178): 4.362943020596778e-08,\n",
        " (0, 8, 185): 6.544414530895166e-08,\n",
        " (0, 8, 198): 2.181471510298389e-08,\n",
        " (0, 8, 211): 2.181471510298389e-08,\n",
        " (0, 8, 278): 2.181471510298389e-08,\n",
        " (0, 8, 292): 6.544414530895166e-08,\n",
        " (0, 8, 332): 2.181471510298389e-08,\n",
        " (0, 8, 341): 2.181471510298389e-08,\n",
        " (0, 8, 359): 2.181471510298389e-08,\n",
        " (0, 8, 369): 2.181471510298389e-08,\n",
        " (0, 8, 414): 2.181471510298389e-08,\n",
        " (0, 8, 461): 2.181471510298389e-08,\n",
        " (0, 8, 466): 4.362943020596778e-08,\n",
        " (0, 8, 474): 2.181471510298389e-08,\n",
        " (0, 8, 521): 2.181471510298389e-08,\n",
        " (0, 8, 535): 2.181471510298389e-08,\n",
        " (0, 8, 548): 2.181471510298389e-08,\n",
        " (0, 9, 5): 2.181471510298389e-08,\n",
        " (0, 9, 11): 4.362943020596778e-08,\n",
        " (0, 9, 23): 2.181471510298389e-08,\n",
        " (0, 9, 27): 8.725886041193556e-08,\n",
        " (0, 9, 70): 2.181471510298389e-08,\n",
        " (0, 9, 74): 8.725886041193556e-08,\n",
        " (0, 9, 91): 8.725886041193556e-08,\n",
        " (0, 9, 130): 1.96332435926855e-07,\n",
        " (0, 9, 143): 2.181471510298389e-08,\n",
        " (0, 9, 150): 2.181471510298389e-08,\n",
        " (0, 9, 155): 4.362943020596778e-08,\n",
        " (0, 9, 178): 6.544414530895166e-08,\n",
        " (0, 9, 199): 2.181471510298389e-08,\n",
        " (0, 9, 210): 4.799237322656456e-07,\n",
        " (0, 9, 213): 4.362943020596778e-08,\n",
        " (0, 9, 218): 2.181471510298389e-08,\n",
        " (0, 9, 243): 6.544414530895166e-08,\n",
        " (0, 9, 247): 2.181471510298389e-08,\n",
        " (0, 9, 248): 2.181471510298389e-08,\n",
        " (0, 9, 260): 2.181471510298389e-08,\n",
        " (0, 9, 265): 2.181471510298389e-08,\n",
        " (0, 9, 270): 2.181471510298389e-08,\n",
        " (0, 9, 289): 2.181471510298389e-08,\n",
        " (0, 9, 292): 1.5270300572088722e-07,\n",
        " (0, 9, 320): 4.362943020596778e-08,\n",
        " (0, 9, 331): 2.181471510298389e-08,\n",
        " (0, 9, 341): 4.362943020596778e-08,\n",
        " (0, 9, 363): 2.181471510298389e-08,\n",
        " (0, 9, 374): 6.544414530895166e-08,\n",
        " (0, 9, 384): 2.181471510298389e-08,\n",
        " (0, 9, 414): 6.544414530895166e-08,\n",
        " (0, 9, 416): 2.181471510298389e-08,\n",
        " (0, 9, 426): 2.181471510298389e-08,\n",
        " (0, 9, 435): 2.181471510298389e-08,\n",
        " (0, 9, 441): 2.181471510298389e-08,\n",
        " (0, 9, 451): 2.181471510298389e-08,\n",
        " (0, 9, 456): 2.181471510298389e-08,\n",
        " (0, 9, 465): 4.362943020596778e-08,\n",
        " (0, 9, 504): 1.0907357551491945e-07,\n",
        " (0, 9, 524): 2.181471510298389e-08,\n",
        " (0, 9, 567): 4.362943020596778e-08,\n",
        " (0, 10, 12): 6.544414530895166e-08,\n",
        " (0, 10, 23): 2.181471510298389e-08,\n",
        " (0, 10, 27): 6.544414530895166e-08,\n",
        " (0, 10, 59): 2.181471510298389e-08,\n",
        " (0, 10, 70): 4.362943020596778e-08,\n",
        " (0, 10, 74): 2.181471510298389e-08,\n",
        " (0, 10, 96): 2.181471510298389e-08,\n",
        " (0, 10, 100): 2.181471510298389e-08,\n",
        " (0, 10, 102): 2.181471510298389e-08,\n",
        " (0, 10, 130): 1.5270300572088722e-07,\n",
        " (0, 10, 132): 2.181471510298389e-08,\n",
        " (0, 10, 134): 4.362943020596778e-08,\n",
        " (0, 10, 178): 4.362943020596778e-08,\n",
        " (0, 10, 211): 2.181471510298389e-08,\n",
        " (0, 10, 216): 2.181471510298389e-08,\n",
        " (0, 10, 227): 2.181471510298389e-08,\n",
        " (0, 10, 262): 2.181471510298389e-08,\n",
        " (0, 10, 265): 2.181471510298389e-08,\n",
        " (0, 10, 286): 2.181471510298389e-08,\n",
        " (0, 10, 292): 4.362943020596778e-08,\n",
        " (0, 10, 306): 2.181471510298389e-08,\n",
        " (0, 10, 337): 2.181471510298389e-08,\n",
        " (0, 10, 363): 2.181471510298389e-08,\n",
        " (0, 10, 443): 2.181471510298389e-08,\n",
        " (0, 10, 472): 2.181471510298389e-08,\n",
        " (0, 10, 474): 2.181471510298389e-08,\n",
        " (0, 10, 510): 2.181471510298389e-08,\n",
        " (0, 10, 519): 2.181471510298389e-08,\n",
        " (0, 10, 524): 2.181471510298389e-08,\n",
        " (0, 10, 526): 2.181471510298389e-08,\n",
        " (0, 10, 532): 2.181471510298389e-08,\n",
        " (0, 10, 551): 4.362943020596778e-08,\n",
        " (0, 10, 553): 4.362943020596778e-08,\n",
        " (0, 11, 0): 2.181471510298389e-08,\n",
        " (0, 11, 11): 4.362943020596778e-08,\n",
        " (0, 11, 12): 4.362943020596778e-08,\n",
        " (0, 11, 15): 2.181471510298389e-08,\n",
        " (0, 11, 21): 8.725886041193556e-08,\n",
        " (0, 11, 23): 2.181471510298389e-08,\n",
        " (0, 11, 27): 6.544414530895166e-08,\n",
        " (0, 11, 33): 4.362943020596778e-08,\n",
        " (0, 11, 49): 2.181471510298389e-08,\n",
        " (0, 11, 59): 1.96332435926855e-07,\n",
        " (0, 11, 70): 3.0540601144177444e-07,\n",
        " (0, 11, 74): 6.544414530895166e-08,\n",
        " (0, 11, 91): 4.362943020596778e-08,\n",
        " (0, 11, 102): 2.181471510298389e-08,\n",
        " (0, 11, 130): 3.708501567507261e-07,\n",
        " (0, 11, 132): 1.0907357551491945e-07,\n",
        " (0, 11, 143): 2.181471510298389e-08,\n",
        " (0, 11, 150): 2.181471510298389e-08,\n",
        " (0, 11, 151): 6.544414530895166e-08,\n",
        " (0, 11, 155): 6.544414530895166e-08,\n",
        " (0, 11, 157): 2.181471510298389e-08,\n",
        " (0, 11, 167): 4.362943020596778e-08,\n",
        " (0, 11, 178): 4.362943020596778e-08,\n",
        " (0, 11, 185): 1.5270300572088722e-07,\n",
        " (0, 11, 194): 2.181471510298389e-08,\n",
        " (0, 11, 211): 2.181471510298389e-08,\n",
        " (0, 11, 214): 2.181471510298389e-08,\n",
        " (0, 11, 216): 2.181471510298389e-08,\n",
        " (0, 11, 245): 2.181471510298389e-08,\n",
        " (0, 11, 253): 6.544414530895166e-08,\n",
        " (0, 11, 266): 2.181471510298389e-08,\n",
        " (0, 11, 275): 4.362943020596778e-08,\n",
        " (0, 11, 281): 2.181471510298389e-08,\n",
        " (0, 11, 283): 2.181471510298389e-08,\n",
        " (0, 11, 291): 4.362943020596778e-08,\n",
        " (0, 11, 292): 8.725886041193556e-08,\n",
        " (0, 11, 300): 2.181471510298389e-08,\n",
        " (0, 11, 305): 4.362943020596778e-08,\n",
        " (0, 11, 306): 3.4903544164774223e-07,\n",
        " (0, 11, 317): 4.362943020596778e-08,\n",
        " (0, 11, 323): 2.181471510298389e-08,\n",
        " (0, 11, 332): 2.181471510298389e-08,\n",
        " (0, 11, 341): 2.181471510298389e-08,\n",
        " (0, 11, 363): 2.181471510298389e-08,\n",
        " (0, 11, 369): 2.181471510298389e-08,\n",
        " (0, 11, 389): 1.0907357551491945e-07,\n",
        " (0, 11, 410): 2.181471510298389e-08,\n",
        " (0, 11, 414): 8.725886041193556e-08,\n",
        " (0, 11, 428): 2.181471510298389e-08,\n",
        " (0, 11, 434): 2.181471510298389e-08,\n",
        " (0, 11, 453): 2.181471510298389e-08,\n",
        " (0, 11, 504): 8.725886041193556e-08,\n",
        " (0, 11, 506): 2.181471510298389e-08,\n",
        " (0, 11, 541): 2.181471510298389e-08,\n",
        " (0, 11, 551): 2.181471510298389e-08,\n",
        " (0, 11, 553): 6.544414530895166e-08,\n",
        " (0, 11, 567): 2.181471510298389e-08,\n",
        " (0, 12, 23): 2.181471510298389e-08,\n",
        " (0, 12, 27): 6.544414530895166e-08,\n",
        " (0, 12, 74): 4.362943020596778e-08,\n",
        " (0, 12, 91): 6.544414530895166e-08,\n",
        " (0, 12, 130): 2.181471510298389e-08,\n",
        " (0, 12, 132): 4.362943020596778e-08,\n",
        " (0, 12, 150): 2.181471510298389e-08,\n",
        " (0, 12, 178): 2.181471510298389e-08,\n",
        " (0, 12, 185): 2.181471510298389e-08,\n",
        " (0, 12, 262): 2.181471510298389e-08,\n",
        " (0, 12, 301): 2.181471510298389e-08,\n",
        " (0, 12, 321): 2.181471510298389e-08,\n",
        " (0, 12, 323): 2.181471510298389e-08,\n",
        " (0, 12, 327): 2.181471510298389e-08,\n",
        " (0, 12, 330): 2.181471510298389e-08,\n",
        " (0, 12, 346): 2.181471510298389e-08,\n",
        " (0, 12, 392): 2.181471510298389e-08,\n",
        " (0, 12, 414): 4.362943020596778e-08,\n",
        " (0, 12, 428): 2.181471510298389e-08,\n",
        " (0, 12, 465): 2.181471510298389e-08,\n",
        " (0, 12, 504): 2.181471510298389e-08,\n",
        " (0, 12, 510): 2.181471510298389e-08,\n",
        " (0, 12, 553): 2.181471510298389e-08,\n",
        " (0, 12, 567): 2.181471510298389e-08,\n",
        " (0, 13, 11): 1.7451772082387111e-07,\n",
        " (0, 13, 91): 1.5270300572088722e-07,\n",
        " (0, 13, 130): 1.3088829061790333e-07,\n",
        " (0, 13, 151): 2.181471510298389e-08,\n",
        " (0, 13, 198): 2.181471510298389e-08,\n",
        " (0, 13, 241): 8.725886041193556e-08,\n",
        " (0, 13, 253): 1.3088829061790333e-07,\n",
        " (0, 13, 278): 2.181471510298389e-08,\n",
        " (0, 13, 309): 6.544414530895166e-08,\n",
        " (0, 13, 435): 2.181471510298389e-08,\n",
        " (0, 13, 483): 2.181471510298389e-08,\n",
        " (0, 13, 504): 1.7451772082387111e-07,\n",
        " (0, 13, 507): 2.181471510298389e-08,\n",
        " (0, 13, 524): 2.181471510298389e-08,\n",
        " (0, 13, 553): 4.362943020596778e-08,\n",
        " (0, 13, 582): 2.181471510298389e-08,\n",
        " (0, 14, 11): 6.544414530895166e-08,\n",
        " (0, 14, 12): 6.544414530895166e-08,\n",
        " (0, 14, 16): 2.181471510298389e-08,\n",
        " (0, 14, 23): 2.181471510298389e-08,\n",
        " (0, 14, 27): 1.0907357551491945e-07,\n",
        " (0, 14, 52): 2.181471510298389e-08,\n",
        " (0, 14, 70): 2.399618661328228e-07,\n",
        " (0, 14, 71): 2.181471510298389e-08,\n",
        " (0, 14, 74): 4.362943020596778e-08,\n",
        " (0, 14, 85): 6.544414530895166e-08,\n",
        " (0, 14, 91): 6.544414530895166e-08,\n",
        " (0, 14, 96): 2.181471510298389e-08,\n",
        " (0, 14, 112): 2.181471510298389e-08,\n",
        " (0, 14, 130): 1.0907357551491945e-07,\n",
        " (0, 14, 132): 4.362943020596778e-08,\n",
        " (0, 14, 144): 2.181471510298389e-08,\n",
        " (0, 14, 145): 2.181471510298389e-08,\n",
        " (0, 14, 150): 2.181471510298389e-08,\n",
        " (0, 14, 155): 4.362943020596778e-08,\n",
        " (0, 14, 178): 2.181471510298389e-08,\n",
        " (0, 14, 184): 2.181471510298389e-08,\n",
        " (0, 14, 185): 6.544414530895166e-08,\n",
        " (0, 14, 203): 2.181471510298389e-08,\n",
        " (0, 14, 210): 1.7451772082387111e-07,\n",
        " (0, 14, 211): 2.181471510298389e-08,\n",
        " (0, 14, 213): 2.181471510298389e-08,\n",
        " (0, 14, 231): 2.181471510298389e-08,\n",
        " (0, 14, 243): 2.181471510298389e-08,\n",
        " (0, 14, 258): 4.362943020596778e-08,\n",
        " (0, 14, 262): 2.181471510298389e-08,\n",
        " (0, 14, 291): 2.181471510298389e-08,\n",
        " (0, 14, 292): 8.725886041193556e-08,\n",
        " (0, 14, 301): 2.181471510298389e-08,\n",
        " (0, 14, 327): 2.181471510298389e-08,\n",
        " (0, 14, 339): 2.181471510298389e-07,\n",
        " (0, 14, 341): 4.362943020596778e-08,\n",
        " (0, 14, 346): 2.181471510298389e-08,\n",
        " (0, 14, 374): 4.362943020596778e-08,\n",
        " (0, 14, 381): 2.181471510298389e-08,\n",
        " (0, 14, 416): 2.181471510298389e-08,\n",
        " (0, 14, 428): 2.181471510298389e-08,\n",
        " (0, 14, 433): 2.181471510298389e-08,\n",
        " (0, 14, 435): 2.181471510298389e-08,\n",
        " (0, 14, 444): 2.181471510298389e-08,\n",
        " (0, 14, 465): 2.181471510298389e-08,\n",
        " (0, 14, 466): 2.181471510298389e-08,\n",
        " (0, 14, 483): 2.181471510298389e-08,\n",
        " (0, 14, 506): 4.362943020596778e-08,\n",
        " (0, 14, 524): 2.181471510298389e-08,\n",
        " (0, 14, 551): 2.181471510298389e-08,\n",
        " (0, 14, 553): 2.181471510298389e-08,\n",
        " (0, 14, 567): 2.181471510298389e-08,\n",
        " (0, 15, 11): 2.181471510298389e-08,\n",
        " (0, 15, 12): 2.181471510298389e-08,\n",
        " (0, 15, 23): 2.181471510298389e-08,\n",
        " (0, 15, 27): 2.181471510298389e-08,\n",
        " (0, 15, 33): 2.181471510298389e-08,\n",
        " (0, 15, 70): 2.181471510298389e-08,\n",
        " (0, 15, 74): 2.181471510298389e-08,\n",
        " (0, 15, 98): 2.181471510298389e-08,\n",
        " (0, 15, 102): 4.362943020596778e-08,\n",
        " (0, 15, 130): 6.544414530895166e-08,\n",
        " (0, 15, 131): 2.181471510298389e-08,\n",
        " (0, 15, 134): 2.181471510298389e-08,\n",
        " (0, 15, 150): 2.181471510298389e-08,\n",
        " (0, 15, 151): 2.181471510298389e-08,\n",
        " (0, 15, 178): 2.181471510298389e-08,\n",
        " (0, 15, 210): 1.7451772082387111e-07,\n",
        " (0, 15, 213): 2.181471510298389e-08,\n",
        " (0, 15, 243): 4.362943020596778e-08,\n",
        " (0, 15, 270): 2.181471510298389e-08,\n",
        " (0, 15, 289): 2.181471510298389e-08,\n",
        " (0, 15, 291): 2.181471510298389e-08,\n",
        " (0, 15, 292): 1.0907357551491945e-07,\n",
        " (0, 15, 300): 2.181471510298389e-08,\n",
        " (0, 15, 305): 6.544414530895166e-08,\n",
        " (0, 15, 306): 6.544414530895166e-08,\n",
        " (0, 15, 453): 2.181471510298389e-08,\n",
        " (0, 15, 456): 2.181471510298389e-08,\n",
        " (0, 15, 465): 4.362943020596778e-08,\n",
        " (0, 15, 499): 2.181471510298389e-08,\n",
        " (0, 15, 537): 2.181471510298389e-08,\n",
        " (0, 16, 11): 2.181471510298389e-08,\n",
        " (0, 16, 12): 2.181471510298389e-08,\n",
        " (0, 16, 23): 4.362943020596778e-08,\n",
        " (0, 16, 27): 1.5270300572088722e-07,\n",
        " (0, 16, 70): 2.181471510298389e-08,\n",
        " (0, 16, 71): 4.362943020596778e-08,\n",
        " (0, 16, 74): 1.5270300572088722e-07,\n",
        " (0, 16, 87): 2.181471510298389e-08,\n",
        " (0, 16, 91): 1.3088829061790333e-07,\n",
        " (0, 16, 102): 8.725886041193556e-08,\n",
        " (0, 16, 130): 2.6177658123580666e-07,\n",
        " (0, 16, 132): 4.362943020596778e-08,\n",
        " (0, 16, 134): 2.181471510298389e-08,\n",
        " (0, 16, 155): 6.544414530895166e-08,\n",
        " (0, 16, 157): 2.181471510298389e-08,\n",
        " (0, 16, 172): 2.181471510298389e-08,\n",
        " (0, 16, 178): 2.181471510298389e-08,\n",
        " (0, 16, 185): 2.181471510298389e-08,\n",
        " (0, 16, 189): 2.181471510298389e-08,\n",
        " (0, 16, 198): 2.181471510298389e-08,\n",
        " (0, 16, 203): 2.181471510298389e-08,\n",
        " (0, 16, 241): 2.181471510298389e-08,\n",
        " (0, 16, 253): 2.181471510298389e-08,\n",
        " (0, 16, 265): 6.544414530895166e-08,\n",
        " (0, 16, 291): 2.181471510298389e-08,\n",
        " (0, 16, 292): 1.0907357551491945e-07,\n",
        " (0, 16, 305): 6.544414530895166e-08,\n",
        " (0, 16, 309): 2.181471510298389e-08,\n",
        " (0, 16, 315): 2.181471510298389e-08,\n",
        " (0, 16, 330): 2.181471510298389e-08,\n",
        " (0, 16, 341): 2.181471510298389e-08,\n",
        " (0, 16, 367): 2.181471510298389e-08,\n",
        " (0, 16, 389): 4.362943020596778e-08,\n",
        " (0, 16, 414): 2.181471510298389e-08,\n",
        " (0, 16, 419): 2.181471510298389e-08,\n",
        " (0, 16, 434): 2.181471510298389e-08,\n",
        " (0, 16, 435): 4.362943020596778e-08,\n",
        " (0, 16, 472): 2.181471510298389e-08,\n",
        " (0, 16, 506): 4.362943020596778e-08,\n",
        " (0, 16, 510): 2.181471510298389e-08,\n",
        " (0, 16, 517): 2.181471510298389e-08,\n",
        " (0, 16, 524): 1.0907357551491945e-07,\n",
        " (0, 16, 531): 2.181471510298389e-08,\n",
        " (0, 16, 537): 2.181471510298389e-08,\n",
        " (0, 16, 541): 2.181471510298389e-08,\n",
        " (0, 16, 553): 1.0907357551491945e-07,\n",
        " (0, 16, 554): 2.181471510298389e-08,\n",
        " (0, 16, 567): 2.181471510298389e-08,\n",
        " (0, 17, 11): 4.362943020596778e-08,\n",
        " (0, 17, 27): 4.362943020596778e-08,\n",
        " (0, 17, 28): 2.181471510298389e-08,\n",
        " (0, 17, 74): 2.181471510298389e-08,\n",
        " (0, 17, 91): 1.96332435926855e-07,\n",
        " (0, 17, 102): 2.181471510298389e-08,\n",
        " (0, 17, 130): 1.3088829061790333e-07,\n",
        " (0, 17, 132): 4.362943020596778e-08,\n",
        " (0, 17, 145): 2.181471510298389e-08,\n",
        " (0, 17, 157): 2.181471510298389e-08,\n",
        " (0, 17, 210): 4.362943020596778e-08,\n",
        " (0, 17, 211): 2.181471510298389e-08,\n",
        " (0, 17, 243): 4.362943020596778e-08,\n",
        " (0, 17, 261): 2.181471510298389e-08,\n",
        " (0, 17, 262): 2.181471510298389e-08,\n",
        " (0, 17, 278): 2.181471510298389e-08,\n",
        " (0, 17, 305): 4.362943020596778e-08,\n",
        " (0, 17, 317): 2.181471510298389e-08,\n",
        " (0, 17, 374): 2.181471510298389e-08,\n",
        " (0, 17, 406): 2.181471510298389e-08,\n",
        " (0, 17, 414): 4.362943020596778e-08,\n",
        " (0, 17, 456): 2.181471510298389e-08,\n",
        " (0, 17, 478): 2.181471510298389e-08,\n",
        " (0, 17, 506): 2.181471510298389e-08,\n",
        " (0, 17, 524): 1.0907357551491945e-07,\n",
        " (0, 17, 534): 2.181471510298389e-08,\n",
        " (0, 17, 553): 2.181471510298389e-08,\n",
        " (0, 18, 15): 6.544414530895166e-08,\n",
        " (0, 18, 21): 4.362943020596778e-08,\n",
        " (0, 18, 27): 1.3088829061790333e-07,\n",
        " (0, 18, 30): 2.181471510298389e-08,\n",
        " (0, 18, 35): 2.181471510298389e-08,\n",
        " (0, 18, 96): 2.181471510298389e-08,\n",
        " (0, 18, 98): 2.181471510298389e-08,\n",
        " (0, 18, 106): 2.181471510298389e-08,\n",
        " (0, 18, 130): 6.544414530895166e-08,\n",
        " (0, 18, 132): 6.544414530895166e-08,\n",
        " (0, 18, 148): 6.544414530895166e-08,\n",
        " (0, 18, 150): 2.181471510298389e-08,\n",
        " (0, 18, 155): 4.362943020596778e-08,\n",
        " (0, 18, 194): 2.181471510298389e-08,\n",
        " (0, 18, 243): 2.181471510298389e-08,\n",
        " (0, 18, 258): 2.181471510298389e-08,\n",
        " (0, 18, 292): 8.725886041193556e-08,\n",
        " (0, 18, 305): 2.181471510298389e-08,\n",
        " (0, 18, 330): 4.362943020596778e-08,\n",
        " (0, 18, 414): 2.181471510298389e-08,\n",
        " (0, 18, 417): 2.181471510298389e-08,\n",
        " (0, 18, 419): 2.181471510298389e-08,\n",
        " (0, 18, 428): 2.181471510298389e-08,\n",
        " (0, 18, 441): 2.181471510298389e-08,\n",
        " (0, 18, 445): 2.181471510298389e-08,\n",
        " (0, 18, 456): 2.181471510298389e-08,\n",
        " (0, 18, 499): 2.181471510298389e-08,\n",
        " (0, 18, 524): 2.181471510298389e-08,\n",
        " (0, 18, 534): 2.181471510298389e-08,\n",
        " (0, 18, 536): 2.181471510298389e-08,\n",
        " (0, 18, 553): 4.362943020596778e-08,\n",
        " (0, 18, 560): 4.362943020596778e-08,\n",
        " (0, 19, 23): 2.181471510298389e-08,\n",
        " (0, 19, 25): 2.181471510298389e-08,\n",
        " (0, 19, 120): 2.181471510298389e-08,\n",
        " (0, 19, 130): 1.96332435926855e-07,\n",
        " (0, 19, 132): 2.181471510298389e-08,\n",
        " (0, 19, 136): 6.544414530895166e-08,\n",
        " (0, 19, 144): 2.181471510298389e-08,\n",
        " (0, 19, 185): 2.181471510298389e-08,\n",
        " (0, 19, 189): 2.181471510298389e-08,\n",
        " (0, 19, 210): 1.0907357551491945e-07,\n",
        " (0, 19, 211): 4.362943020596778e-08,\n",
        " (0, 19, 216): 2.181471510298389e-08,\n",
        " (0, 19, 262): 2.181471510298389e-08,\n",
        " (0, 19, 278): 2.181471510298389e-08,\n",
        " (0, 19, 305): 4.362943020596778e-08,\n",
        " (0, 19, 306): 4.362943020596778e-08,\n",
        " (0, 19, 308): 2.181471510298389e-08,\n",
        " (0, 19, 320): 2.181471510298389e-08,\n",
        " (0, 19, 374): 6.544414530895166e-08,\n",
        " (0, 19, 410): 2.181471510298389e-08,\n",
        " (0, 19, 414): 2.181471510298389e-08,\n",
        " (0, 19, 435): 2.181471510298389e-08,\n",
        " (0, 19, 442): 2.181471510298389e-08,\n",
        " (0, 19, 446): 2.181471510298389e-08,\n",
        " (0, 19, 454): 2.181471510298389e-08,\n",
        " (0, 19, 477): 2.181471510298389e-08,\n",
        " (0, 19, 486): 2.181471510298389e-08,\n",
        " (0, 19, 506): 2.181471510298389e-08,\n",
        " (0, 19, 507): 2.181471510298389e-08,\n",
        " (0, 19, 537): 4.362943020596778e-08,\n",
        " (0, 19, 551): 2.181471510298389e-08,\n",
        " (0, 19, 552): 2.181471510298389e-08,\n",
        " (0, 19, 553): 2.181471510298389e-08,\n",
        " (0, 20, 11): 4.362943020596778e-08,\n",
        " (0, 20, 12): 6.544414530895166e-08,\n",
        " (0, 20, 23): 4.362943020596778e-08,\n",
        " (0, 20, 74): 4.362943020596778e-08,\n",
        " (0, 20, 91): 6.544414530895166e-08,\n",
        " (0, 20, 102): 6.544414530895166e-08,\n",
        " (0, 20, 130): 1.96332435926855e-07,\n",
        " (0, 20, 132): 4.362943020596778e-08,\n",
        " (0, 20, 136): 2.181471510298389e-08,\n",
        " (0, 20, 270): 2.181471510298389e-08,\n",
        " (0, 20, 286): 2.181471510298389e-08,\n",
        " (0, 20, 291): 2.181471510298389e-08,\n",
        " (0, 20, 292): 2.181471510298389e-08,\n",
        " (0, 20, 341): 2.181471510298389e-08,\n",
        " (0, 20, 363): 2.181471510298389e-08,\n",
        " (0, 20, 435): 2.181471510298389e-08,\n",
        " (0, 20, 441): 2.181471510298389e-08,\n",
        " (0, 20, 446): 2.181471510298389e-08,\n",
        " (0, 20, 456): 4.362943020596778e-08,\n",
        " (0, 20, 461): 2.181471510298389e-08,\n",
        " (0, 20, 486): 2.181471510298389e-08,\n",
        " (0, 20, 504): 2.181471510298389e-08,\n",
        " (0, 20, 506): 2.181471510298389e-08,\n",
        " (0, 20, 551): 2.181471510298389e-08,\n",
        " (0, 20, 553): 2.181471510298389e-08,\n",
        " (0, 20, 558): 2.181471510298389e-08,\n",
        " (0, 21, 12): 8.725886041193556e-08,\n",
        " (0, 21, 15): 2.181471510298389e-08,\n",
        " (0, 21, 23): 2.181471510298389e-08,\n",
        " (0, 21, 26): 2.181471510298389e-08,\n",
        " (0, 21, 27): 2.399618661328228e-07,\n",
        " (0, 21, 28): 2.181471510298389e-08,\n",
        " (0, 21, 33): 2.181471510298389e-08,\n",
        " (0, 21, 50): 2.181471510298389e-08,\n",
        " (0, 21, 55): 2.181471510298389e-08,\n",
        " (0, 21, 57): 2.181471510298389e-08,\n",
        " (0, 21, 59): 6.544414530895166e-08,\n",
        " (0, 21, 60): 2.181471510298389e-08,\n",
        " (0, 21, 62): 2.181471510298389e-08,\n",
        " (0, 21, 70): 2.835912963387906e-07,\n",
        " (0, 21, 74): 1.5270300572088722e-07,\n",
        " (0, 21, 86): 4.362943020596778e-08,\n",
        " (0, 21, 91): 1.5270300572088722e-07,\n",
        " (0, 21, 93): 2.181471510298389e-08,\n",
        " (0, 21, 96): 2.181471510298389e-08,\n",
        " (0, 21, 98): 2.181471510298389e-08,\n",
        " (0, 21, 102): 4.362943020596778e-08,\n",
        " (0, 21, 104): 2.181471510298389e-08,\n",
        " (0, 21, 107): 2.181471510298389e-08,\n",
        " (0, 21, 130): 5.017384473686294e-07,\n",
        " (0, 21, 132): 1.7451772082387111e-07,\n",
        " (0, 21, 134): 2.181471510298389e-08,\n",
        " (0, 21, 143): 4.362943020596778e-08,\n",
        " (0, 21, 148): 2.181471510298389e-08,\n",
        " (0, 21, 150): 2.181471510298389e-08,\n",
        " (0, 21, 151): 4.362943020596778e-08,\n",
        " (0, 21, 165): 2.181471510298389e-08,\n",
        " (0, 21, 176): 2.181471510298389e-08,\n",
        " (0, 21, 178): 2.181471510298389e-08,\n",
        " (0, 21, 185): 1.0907357551491945e-07,\n",
        " (0, 21, 187): 2.181471510298389e-08,\n",
        " (0, 21, 194): 8.725886041193556e-08,\n",
        " (0, 21, 197): 2.181471510298389e-08,\n",
        " (0, 21, 198): 2.181471510298389e-08,\n",
        " (0, 21, 210): 1.0907357551491945e-07,\n",
        " (0, 21, 211): 2.181471510298389e-08,\n",
        " (0, 21, 227): 2.181471510298389e-08,\n",
        " (0, 21, 240): 2.181471510298389e-08,\n",
        " (0, 21, 241): 4.362943020596778e-08,\n",
        " (0, 21, 242): 2.181471510298389e-08,\n",
        " (0, 21, 255): 2.181471510298389e-08,\n",
        " (0, 21, 258): 4.362943020596778e-08,\n",
        " (0, 21, 260): 2.181471510298389e-08,\n",
        " (0, 21, 265): 2.181471510298389e-08,\n",
        " (0, 21, 278): 2.181471510298389e-08,\n",
        " (0, 21, 291): 2.181471510298389e-08,\n",
        " (0, 21, 292): 6.544414530895166e-08,\n",
        " (0, 21, 298): 2.181471510298389e-08,\n",
        " (0, 21, 300): 4.362943020596778e-08,\n",
        " (0, 21, 305): 4.362943020596778e-08,\n",
        " (0, 21, 306): 6.544414530895166e-08,\n",
        " (0, 21, 309): 2.181471510298389e-08,\n",
        " (0, 21, 311): 2.181471510298389e-08,\n",
        " (0, 21, 316): 2.181471510298389e-08,\n",
        " (0, 21, 330): 4.362943020596778e-08,\n",
        " (0, 21, 331): 4.362943020596778e-08,\n",
        " (0, 21, 332): 2.181471510298389e-08,\n",
        " (0, 21, 337): 2.181471510298389e-08,\n",
        " (0, 21, 341): 4.362943020596778e-08,\n",
        " (0, 21, 351): 2.181471510298389e-08,\n",
        " (0, 21, 374): 2.181471510298389e-08,\n",
        " (0, 21, 402): 2.181471510298389e-08,\n",
        " (0, 21, 404): 2.181471510298389e-08,\n",
        " (0, 21, 410): 2.181471510298389e-08,\n",
        " (0, 21, 416): 2.181471510298389e-08,\n",
        " (0, 21, 423): 2.181471510298389e-08,\n",
        " (0, 21, 428): 2.181471510298389e-08,\n",
        " (0, 21, 433): 2.181471510298389e-08,\n",
        " (0, 21, 435): 2.181471510298389e-08,\n",
        " (0, 21, 445): 2.181471510298389e-08,\n",
        " (0, 21, 446): 2.181471510298389e-08,\n",
        " (0, 21, 453): 2.181471510298389e-08,\n",
        " (0, 21, 462): 2.181471510298389e-08,\n",
        " (0, 21, 472): 4.362943020596778e-08,\n",
        " (0, 21, 474): 2.181471510298389e-08,\n",
        " (0, 21, 482): 2.181471510298389e-08,\n",
        " (0, 21, 504): 2.181471510298389e-08,\n",
        " (0, 21, 510): 2.181471510298389e-08,\n",
        " (0, 21, 524): 2.181471510298389e-08,\n",
        " (0, 21, 531): 2.181471510298389e-08,\n",
        " (0, 21, 534): 4.362943020596778e-08,\n",
        " (0, 21, 541): 6.544414530895166e-08,\n",
        " (0, 21, 548): 2.181471510298389e-08,\n",
        " (0, 21, 551): 6.544414530895166e-08,\n",
        " (0, 21, 553): 2.181471510298389e-08,\n",
        " (0, 21, 558): 2.181471510298389e-08,\n",
        " (0, 21, 560): 2.181471510298389e-08,\n",
        " (0, 21, 562): 2.181471510298389e-08,\n",
        " (0, 21, 570): 2.181471510298389e-08,\n",
        " (0, 22, 28): 2.181471510298389e-08,\n",
        " (0, 22, 74): 6.544414530895166e-08,\n",
        " (0, 22, 78): 2.181471510298389e-08,\n",
        " (0, 22, 91): 6.544414530895166e-08,\n",
        " (0, 22, 102): 2.181471510298389e-08,\n",
        " (0, 22, 130): 4.362943020596778e-08,\n",
        " (0, 22, 132): 6.544414530895166e-08,\n",
        " (0, 22, 134): 6.544414530895166e-08,\n",
        " (0, 22, 155): 2.181471510298389e-08,\n",
        " (0, 22, 160): 2.181471510298389e-08,\n",
        " (0, 22, 185): 2.181471510298389e-08,\n",
        " (0, 22, 216): 2.181471510298389e-08,\n",
        " (0, 22, 241): 2.181471510298389e-08,\n",
        " (0, 22, 252): 2.181471510298389e-08,\n",
        " (0, 22, 253): 2.181471510298389e-08,\n",
        " (0, 22, 254): 2.181471510298389e-08,\n",
        " (0, 22, 265): 2.181471510298389e-08,\n",
        " (0, 22, 292): 4.362943020596778e-08,\n",
        " (0, 22, 305): 8.725886041193556e-08,\n",
        " (0, 22, 309): 4.362943020596778e-08,\n",
        " (0, 22, 330): 2.181471510298389e-08,\n",
        " (0, 22, 351): 2.181471510298389e-08,\n",
        " (0, 22, 389): 2.181471510298389e-08,\n",
        " (0, 22, 414): 4.362943020596778e-08,\n",
        " (0, 22, 433): 2.181471510298389e-08,\n",
        " (0, 22, 453): 2.181471510298389e-08,\n",
        " (0, 22, 456): 2.181471510298389e-08,\n",
        " (0, 22, 477): 2.181471510298389e-08,\n",
        " (0, 22, 486): 2.181471510298389e-08,\n",
        " (0, 22, 504): 8.725886041193556e-08,\n",
        " (0, 22, 511): 2.181471510298389e-08,\n",
        " (0, 22, 524): 4.362943020596778e-08,\n",
        " (0, 22, 529): 2.181471510298389e-08,\n",
        " (0, 22, 530): 2.181471510298389e-08,\n",
        " (0, 22, 534): 2.181471510298389e-08,\n",
        " (0, 22, 553): 4.362943020596778e-08,\n",
        " (0, 22, 578): 2.181471510298389e-08,\n",
        " (0, 23, 0): 2.181471510298389e-08,\n",
        " (0, 23, 11): 2.181471510298389e-08,\n",
        " (0, 23, 15): 2.181471510298389e-08,\n",
        " (0, 23, 16): 2.181471510298389e-08,\n",
        " (0, 23, 23): 2.181471510298389e-08,\n",
        " (0, 23, 27): 4.362943020596778e-08,\n",
        " (0, 23, 74): 4.362943020596778e-08,\n",
        " (0, 23, 96): 6.544414530895166e-08,\n",
        " (0, 23, 102): 2.181471510298389e-08,\n",
        " (0, 23, 130): 1.5270300572088722e-07,\n",
        " (0, 23, 131): 2.181471510298389e-08,\n",
        " (0, 23, 132): 2.181471510298389e-08,\n",
        " (0, 23, 167): 2.181471510298389e-08,\n",
        " (0, 23, 185): 4.362943020596778e-08,\n",
        " (0, 23, 187): 2.181471510298389e-08,\n",
        " (0, 23, 196): 2.181471510298389e-08,\n",
        " (0, 23, 197): 2.181471510298389e-08,\n",
        " (0, 23, 208): 2.181471510298389e-08,\n",
        " (0, 23, 241): 4.362943020596778e-08,\n",
        " ...}"
       ]
      }
     ],
     "prompt_number": 102
    },
    {
     "cell_type": "code",
     "collapsed": false,
     "input": [
      "prior = dict((int(key), 0) for key in Y.states_vec)"
     ],
     "language": "python",
     "metadata": {},
     "outputs": [],
     "prompt_number": 91
    },
    {
     "cell_type": "code",
     "collapsed": false,
     "input": [
      "for ind in Y.index_vec:\n",
      "    prior[int(ind)] += 1.0\n",
      "print num_data\n",
      "for key in prior:\n",
      "    prior[key] /= num_data\n",
      "print prior"
     ],
     "language": "python",
     "metadata": {},
     "outputs": [
      {
       "output_type": "stream",
       "stream": "stdout",
       "text": [
        "45840617\n",
        "{0: 0.7437766162702392, 1: 0.2562233837297609}\n"
       ]
      }
     ],
     "prompt_number": 97
    },
    {
     "cell_type": "code",
     "collapsed": false,
     "input": [
      "prior_p_zero, prior_p_one = prior[0], prior[1]"
     ],
     "language": "python",
     "metadata": {},
     "outputs": [],
     "prompt_number": 100
    },
    {
     "cell_type": "code",
     "collapsed": false,
     "input": [
      "print prior_p_zero, prior_p_one"
     ],
     "language": "python",
     "metadata": {},
     "outputs": [
      {
       "output_type": "stream",
       "stream": "stdout",
       "text": [
        "0.74377661627 0.25622338373\n"
       ]
      }
     ],
     "prompt_number": 101
    },
    {
     "cell_type": "code",
     "collapsed": false,
     "input": [],
     "language": "python",
     "metadata": {},
     "outputs": []
    },
    {
     "cell_type": "code",
     "collapsed": false,
     "input": [],
     "language": "python",
     "metadata": {},
     "outputs": []
    },
    {
     "cell_type": "code",
     "collapsed": false,
     "input": [],
     "language": "python",
     "metadata": {},
     "outputs": []
    },
    {
     "cell_type": "code",
     "collapsed": false,
     "input": [],
     "language": "python",
     "metadata": {},
     "outputs": []
    },
    {
     "cell_type": "code",
     "collapsed": false,
     "input": [],
     "language": "python",
     "metadata": {},
     "outputs": []
    },
    {
     "cell_type": "code",
     "collapsed": false,
     "input": [],
     "language": "python",
     "metadata": {},
     "outputs": []
    },
    {
     "cell_type": "code",
     "collapsed": false,
     "input": [],
     "language": "python",
     "metadata": {},
     "outputs": []
    },
    {
     "cell_type": "code",
     "collapsed": false,
     "input": [],
     "language": "python",
     "metadata": {},
     "outputs": []
    },
    {
     "cell_type": "code",
     "collapsed": false,
     "input": [
      "print Y"
     ],
     "language": "python",
     "metadata": {},
     "outputs": [
      {
       "output_type": "stream",
       "stream": "stdout",
       "text": [
        "States Vector: ['0' '1'] \n",
        "States Position: [0 7] \n",
        "Index Vector: [[0]\n",
        " [0]\n",
        " [0]\n",
        " ..., \n",
        " [0]\n",
        " [0]\n",
        " [0]] \n",
        "\n"
       ]
      }
     ],
     "prompt_number": 81
    },
    {
     "cell_type": "code",
     "collapsed": false,
     "input": [],
     "language": "python",
     "metadata": {},
     "outputs": []
    },
    {
     "cell_type": "code",
     "collapsed": false,
     "input": [],
     "language": "python",
     "metadata": {},
     "outputs": []
    },
    {
     "cell_type": "code",
     "collapsed": false,
     "input": [
      "gen = itertools.product(np.array([1, 2, 3]), np.array([1, 0]))\n",
      "for i in gen:\n",
      "    print i"
     ],
     "language": "python",
     "metadata": {},
     "outputs": [
      {
       "output_type": "stream",
       "stream": "stdout",
       "text": [
        "(1, 1)\n",
        "(1, 0)\n",
        "(2, 1)\n",
        "(2, 0)\n",
        "(3, 1)\n",
        "(3, 0)\n"
       ]
      }
     ],
     "prompt_number": 77
    },
    {
     "cell_type": "code",
     "collapsed": false,
     "input": [
      "print np.array([1, 2, 3]).tolist()"
     ],
     "language": "python",
     "metadata": {},
     "outputs": [
      {
       "output_type": "stream",
       "stream": "stdout",
       "text": [
        "[1, 2, 3]\n"
       ]
      }
     ],
     "prompt_number": 75
    },
    {
     "cell_type": "code",
     "collapsed": false,
     "input": [],
     "language": "python",
     "metadata": {},
     "outputs": []
    },
    {
     "cell_type": "code",
     "collapsed": false,
     "input": [],
     "language": "python",
     "metadata": {},
     "outputs": []
    },
    {
     "cell_type": "code",
     "collapsed": false,
     "input": [],
     "language": "python",
     "metadata": {},
     "outputs": []
    },
    {
     "cell_type": "code",
     "collapsed": false,
     "input": [],
     "language": "python",
     "metadata": {},
     "outputs": []
    },
    {
     "cell_type": "code",
     "collapsed": false,
     "input": [
      "def test(**kwargs):\n",
      "    print type(kwargs)\n",
      "    for i in kwargs:\n",
      "        print type(i)\n",
      "        print i"
     ],
     "language": "python",
     "metadata": {},
     "outputs": [],
     "prompt_number": 43
    },
    {
     "cell_type": "code",
     "collapsed": false,
     "input": [
      "test(a = 3, b = 2)"
     ],
     "language": "python",
     "metadata": {},
     "outputs": [
      {
       "output_type": "stream",
       "stream": "stdout",
       "text": [
        "<type 'dict'>\n",
        "<type 'str'>\n",
        "a\n",
        "<type 'str'>\n",
        "b\n"
       ]
      }
     ],
     "prompt_number": 44
    },
    {
     "cell_type": "code",
     "collapsed": false,
     "input": [],
     "language": "python",
     "metadata": {},
     "outputs": []
    },
    {
     "cell_type": "code",
     "collapsed": false,
     "input": [],
     "language": "python",
     "metadata": {},
     "outputs": []
    },
    {
     "cell_type": "code",
     "collapsed": false,
     "input": [
      "states = C1.__dict__[\"states_vec\"]"
     ],
     "language": "python",
     "metadata": {},
     "outputs": [],
     "prompt_number": 29
    },
    {
     "cell_type": "code",
     "collapsed": false,
     "input": [
      "index = C1.__dict__[\"states_pos_vec\"]"
     ],
     "language": "python",
     "metadata": {},
     "outputs": [],
     "prompt_number": 30
    },
    {
     "cell_type": "code",
     "collapsed": false,
     "input": [
      "len(index)"
     ],
     "language": "python",
     "metadata": {},
     "outputs": [
      {
       "metadata": {},
       "output_type": "pyout",
       "prompt_number": 31,
       "text": [
        "1460"
       ]
      }
     ],
     "prompt_number": 31
    },
    {
     "cell_type": "code",
     "collapsed": false,
     "input": [
      "states"
     ],
     "language": "python",
     "metadata": {},
     "outputs": [
      {
       "metadata": {},
       "output_type": "pyout",
       "prompt_number": 35,
       "text": [
        "array(['000d72dd', '003f4253', '00c2e152', ..., 'ffca49ea', 'ffdd8052',\n",
        "       'ffe3cd83'], \n",
        "      dtype='|S8')"
       ]
      }
     ],
     "prompt_number": 35
    },
    {
     "cell_type": "code",
     "collapsed": false,
     "input": [
      "index_vec = C1.__dict__[\"index_vec\"]"
     ],
     "language": "python",
     "metadata": {},
     "outputs": [
      {
       "metadata": {},
       "output_type": "pyout",
       "prompt_number": 34,
       "text": [
        "1459"
       ]
      }
     ],
     "prompt_number": 34
    },
    {
     "cell_type": "code",
     "collapsed": false,
     "input": [
      "c1 = states[index_vec]\n",
      "print c1\n",
      "print len(c1)"
     ],
     "language": "python",
     "metadata": {},
     "outputs": [
      {
       "output_type": "stream",
       "stream": "stdout",
       "text": [
        "['68fd1e64' '68fd1e64' '287e684f' ..., '05db9164' '05db9164' '05db9164']\n",
        "45840617\n"
       ]
      }
     ],
     "prompt_number": 41
    },
    {
     "cell_type": "code",
     "collapsed": false,
     "input": [],
     "language": "python",
     "metadata": {},
     "outputs": [
      {
       "metadata": {},
       "output_type": "pyout",
       "prompt_number": 38,
       "text": [
        "45840617"
       ]
      }
     ],
     "prompt_number": 38
    },
    {
     "cell_type": "code",
     "collapsed": false,
     "input": [],
     "language": "python",
     "metadata": {},
     "outputs": []
    }
   ],
   "metadata": {}
  }
 ]
}