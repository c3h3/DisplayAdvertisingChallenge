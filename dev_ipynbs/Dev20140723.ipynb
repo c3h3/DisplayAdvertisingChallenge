{
 "metadata": {
  "name": "",
  "signature": "sha256:a178368e2573efca49f3e7de4aa281e852c828308fddcff294f889ba990c0c1f"
 },
 "nbformat": 3,
 "nbformat_minor": 0,
 "worksheets": [
  {
   "cells": [
    {
     "cell_type": "code",
     "collapsed": false,
     "input": [],
     "language": "python",
     "metadata": {},
     "outputs": []
    }
   ],
   "metadata": {}
  }
 ]
}