{
 "metadata": {
  "name": "",
  "signature": "sha256:f18dc26e7cdf24d17eeec325c771cf67b466117b5913ccc97d34ce41c9a8de59"
 },
 "nbformat": 3,
 "nbformat_minor": 0,
 "worksheets": [
  {
   "cells": [
    {
     "cell_type": "code",
     "collapsed": false,
     "input": [
      "# import mudules for data io.\n",
      "from hunkaggle.criteo import tools\n",
      "from hunkaggle.criteo.settings import SOURCE_DATA_DIR\n",
      "from hunkaggle.criteo.settings import TRAINING_COLUMN_NAMES\n",
      "from hunkaggle.criteo.settings import TESTING_COLUMN_NAMES\n",
      "import blz, os\n",
      "import numpy as np\n",
      "import cPickle as pickle"
     ],
     "language": "python",
     "metadata": {},
     "outputs": [],
     "prompt_number": 13
    },
    {
     "cell_type": "code",
     "collapsed": false,
     "input": [
      "# few CONSTANCEs\n",
      "print \"TRAINING_COLUMN_NAMES:\\n\", TRAINING_COLUMN_NAMES\n",
      "print\n",
      "print \"Training barray PATH:\\n\", tools.TRAINING_BLZ_PATH\n",
      "print \n",
      "print \"Testing barray PATH:\\n\", tools.TESTING_BLZ_PATH\n",
      "print \n",
      "print \"Source data PATH:\\n\", tools.TESTING_DATA_PATH"
     ],
     "language": "python",
     "metadata": {},
     "outputs": [
      {
       "output_type": "stream",
       "stream": "stdout",
       "text": [
        "TRAINING_COLUMN_NAMES:\n",
        "['Id', 'Label', 'I1', 'I2', 'I3', 'I4', 'I5', 'I6', 'I7', 'I8', 'I9', 'I10', 'I11', 'I12', 'I13', 'C1', 'C2', 'C3', 'C4', 'C5', 'C6', 'C7', 'C8', 'C9', 'C10', 'C11', 'C12', 'C13', 'C14', 'C15', 'C16', 'C17', 'C18', 'C19', 'C20', 'C21', 'C22', 'C23', 'C24', 'C25', 'C26']\n",
        "\n",
        "Training barray PATH:\n",
        "/Users/DboyLiao/Desktop/DisplayAdvertisingChallenge/data/train_blzs\n",
        "\n",
        "Testing barray PATH:\n",
        "/Users/DboyLiao/Desktop/DisplayAdvertisingChallenge/data/test_blzs\n",
        "\n",
        "Source data PATH:\n",
        "/Users/DboyLiao/Desktop/DisplayAdvertisingChallenge/data/test.csv\n"
       ]
      }
     ],
     "prompt_number": 2
    },
    {
     "cell_type": "code",
     "collapsed": false,
     "input": [
      "with open(\"/Users/DboyLiao/Desktop/DisplayAdvertisingChallenge/data/models.pickle\", \"rb\") as rf:\n",
      "    models = pickle.load(rf)"
     ],
     "language": "python",
     "metadata": {},
     "outputs": [],
     "prompt_number": 4
    },
    {
     "cell_type": "code",
     "collapsed": false,
     "input": [
      "# Model Predictor: Parallizable\n",
      "def modelPredctor(modelPath_modelIndex_dataPath_colNames_tuple):\n",
      "    \"\"\"\n",
      "    Input: A tuple, with following two attributes (with order):\n",
      "            modelPath:\n",
      "            modelIndex: integer, the index of the model to predict.\n",
      "            dataPath: string, the path to the source testing data.\n",
      "            colNames: a list of strings, column names of the testing data.\n",
      "    Output: A barray, the prediction result.\n",
      "    \"\"\"\n",
      "    # Set up necessary constance.\n",
      "    divideN = 300000\n",
      "    modelPath, modelIndex, dataPath, colNames = modelPath_modelIndex_dataPath_colNames_tuple\n",
      "    def data_abspath(colname):\n",
      "        return os.path.abspath(os.path.join(dataPath, colname))\n",
      "    with open(os.path.join(modelPath, \"models.pickle\"), \"rb\") as rf:\n",
      "        models = pickle.load(rf)\n",
      "    model = models[modelIndex]\n",
      "    del models\n",
      "    Id = blz.open(os.path.join(abspath(\"Id\")))\n",
      "    totalN = len(Id)\n",
      "    if totalN % divideN == 0:\n",
      "        nodes_list = [i * divideN for i in range(totalN / divideN + 1)]\n",
      "    else:\n",
      "        nodes_list = [i * divideN for i in range(totalN / divideN + 1)] + [totalN]\n",
      "    nodes_pair_list = zip(nodes_list[:-1], nodes_list[1:])\n",
      "    \n",
      "    y_predict = np.zeros(totalN)\n",
      "    for begin, end in nodes_pair_list:\n",
      "        data = []\n",
      "        print \"[Model No.{modelIndex}] Processing No.{begin} ~ {end} observations.\".format(modelIndex = modelIndex, begin = begin + 1, end = end)\n",
      "        for colname in colNames:\n",
      "            temp = blz.open(abspath(colname))\n",
      "            data.append(temp[begin:end])\n",
      "        data = np.column_stack(data)\n",
      "        X = data[:,1:]\n",
      "        temp = model.predict(X)\n",
      "        y_predict[begin:end] = temp\n",
      "    return blz.barray(y_predict)"
     ],
     "language": "python",
     "metadata": {},
     "outputs": [],
     "prompt_number": 38
    },
    {
     "cell_type": "code",
     "collapsed": false,
     "input": [
      "modelPath_modelIndex_dataPath_colNames_tuple = (SOURCE_DATA_DIR, 3, tools.TESTING_BLZ_PATH, TESTING_COLUMN_NAMES)"
     ],
     "language": "python",
     "metadata": {},
     "outputs": [],
     "prompt_number": 32
    },
    {
     "cell_type": "code",
     "collapsed": false,
     "input": [
      "modelPath_modelIndex_dataPath_colNames_tuple"
     ],
     "language": "python",
     "metadata": {},
     "outputs": [
      {
       "metadata": {},
       "output_type": "pyout",
       "prompt_number": 28,
       "text": [
        "('/Users/DboyLiao/Desktop/DisplayAdvertisingChallenge/data/',\n",
        " 3,\n",
        " '/Users/DboyLiao/Desktop/DisplayAdvertisingChallenge/data/test_blzs',\n",
        " ['Id',\n",
        "  'I1',\n",
        "  'I2',\n",
        "  'I3',\n",
        "  'I4',\n",
        "  'I5',\n",
        "  'I6',\n",
        "  'I7',\n",
        "  'I8',\n",
        "  'I9',\n",
        "  'I10',\n",
        "  'I11',\n",
        "  'I12',\n",
        "  'I13',\n",
        "  'C1',\n",
        "  'C2',\n",
        "  'C3',\n",
        "  'C4',\n",
        "  'C5',\n",
        "  'C6',\n",
        "  'C7',\n",
        "  'C8',\n",
        "  'C9',\n",
        "  'C10',\n",
        "  'C11',\n",
        "  'C12',\n",
        "  'C13',\n",
        "  'C14',\n",
        "  'C15',\n",
        "  'C16',\n",
        "  'C17',\n",
        "  'C18',\n",
        "  'C19',\n",
        "  'C20',\n",
        "  'C21',\n",
        "  'C22',\n",
        "  'C23',\n",
        "  'C24',\n",
        "  'C25',\n",
        "  'C26'])"
       ]
      }
     ],
     "prompt_number": 28
    },
    {
     "cell_type": "code",
     "collapsed": false,
     "input": [
      "rr = modelPredctor(modelPath_modelIndex_dataPath_colNames_tuple)"
     ],
     "language": "python",
     "metadata": {},
     "outputs": [
      {
       "output_type": "stream",
       "stream": "stdout",
       "text": [
        "[Model No.3] Processing No.1 ~ 300000 observations.\n",
        "[Model No.3] Processing No.300001 ~ 600000 observations."
       ]
      },
      {
       "output_type": "stream",
       "stream": "stdout",
       "text": [
        "\n",
        "[Model No.3] Processing No.600001 ~ 900000 observations."
       ]
      },
      {
       "output_type": "stream",
       "stream": "stdout",
       "text": [
        "\n",
        "[Model No.3] Processing No.900001 ~ 1200000 observations."
       ]
      },
      {
       "output_type": "stream",
       "stream": "stdout",
       "text": [
        "\n",
        "[Model No.3] Processing No.1200001 ~ 1500000 observations."
       ]
      },
      {
       "output_type": "stream",
       "stream": "stdout",
       "text": [
        "\n",
        "[Model No.3] Processing No.1500001 ~ 1800000 observations."
       ]
      },
      {
       "output_type": "stream",
       "stream": "stdout",
       "text": [
        "\n",
        "[Model No.3] Processing No.1800001 ~ 2100000 observations."
       ]
      },
      {
       "output_type": "stream",
       "stream": "stdout",
       "text": [
        "\n",
        "[Model No.3] Processing No.2100001 ~ 2400000 observations."
       ]
      },
      {
       "output_type": "stream",
       "stream": "stdout",
       "text": [
        "\n",
        "[Model No.3] Processing No.2400001 ~ 2700000 observations."
       ]
      },
      {
       "output_type": "stream",
       "stream": "stdout",
       "text": [
        "\n",
        "[Model No.3] Processing No.2700001 ~ 3000000 observations."
       ]
      },
      {
       "output_type": "stream",
       "stream": "stdout",
       "text": [
        "\n",
        "[Model No.3] Processing No.3000001 ~ 3300000 observations."
       ]
      },
      {
       "output_type": "stream",
       "stream": "stdout",
       "text": [
        "\n",
        "[Model No.3] Processing No.3300001 ~ 3600000 observations."
       ]
      },
      {
       "output_type": "stream",
       "stream": "stdout",
       "text": [
        "\n",
        "[Model No.3] Processing No.3600001 ~ 3900000 observations."
       ]
      },
      {
       "output_type": "stream",
       "stream": "stdout",
       "text": [
        "\n",
        "[Model No.3] Processing No.3900001 ~ 4200000 observations."
       ]
      },
      {
       "output_type": "stream",
       "stream": "stdout",
       "text": [
        "\n",
        "[Model No.3] Processing No.4200001 ~ 4500000 observations."
       ]
      },
      {
       "output_type": "stream",
       "stream": "stdout",
       "text": [
        "\n",
        "[Model No.3] Processing No.4500001 ~ 4800000 observations."
       ]
      },
      {
       "output_type": "stream",
       "stream": "stdout",
       "text": [
        "\n",
        "[Model No.3] Processing No.4800001 ~ 5100000 observations."
       ]
      },
      {
       "output_type": "stream",
       "stream": "stdout",
       "text": [
        "\n",
        "[Model No.3] Processing No.5100001 ~ 5400000 observations."
       ]
      },
      {
       "output_type": "stream",
       "stream": "stdout",
       "text": [
        "\n",
        "[Model No.3] Processing No.5400001 ~ 5700000 observations."
       ]
      },
      {
       "output_type": "stream",
       "stream": "stdout",
       "text": [
        "\n",
        "[Model No.3] Processing No.5700001 ~ 6000000 observations."
       ]
      },
      {
       "output_type": "stream",
       "stream": "stdout",
       "text": [
        "\n",
        "[Model No.3] Processing No.6000001 ~ 6042135 observations."
       ]
      },
      {
       "output_type": "stream",
       "stream": "stdout",
       "text": [
        "\n"
       ]
      }
     ],
     "prompt_number": 39
    },
    {
     "cell_type": "code",
     "collapsed": false,
     "input": [
      "table = np.column_stack(([ii for ii in Id], [r for r in rr]))"
     ],
     "language": "python",
     "metadata": {},
     "outputs": [],
     "prompt_number": 47
    },
    {
     "cell_type": "code",
     "collapsed": false,
     "input": [
      "\",\".join([60000000.0, 0.0])"
     ],
     "language": "python",
     "metadata": {},
     "outputs": [
      {
       "ename": "TypeError",
       "evalue": "sequence item 0: expected string, float found",
       "output_type": "pyerr",
       "traceback": [
        "\u001b[0;31m---------------------------------------------------------------------------\u001b[0m\n\u001b[0;31mTypeError\u001b[0m                                 Traceback (most recent call last)",
        "\u001b[0;32m<ipython-input-53-b59068766bd5>\u001b[0m in \u001b[0;36m<module>\u001b[0;34m()\u001b[0m\n\u001b[0;32m----> 1\u001b[0;31m \u001b[0;34m\",\"\u001b[0m\u001b[0;34m.\u001b[0m\u001b[0mjoin\u001b[0m\u001b[0;34m(\u001b[0m\u001b[0;34m[\u001b[0m\u001b[0;36m60000000.0\u001b[0m\u001b[0;34m,\u001b[0m \u001b[0;36m0.0\u001b[0m\u001b[0;34m]\u001b[0m\u001b[0;34m)\u001b[0m\u001b[0;34m\u001b[0m\u001b[0m\n\u001b[0m",
        "\u001b[0;31mTypeError\u001b[0m: sequence item 0: expected string, float found"
       ]
      }
     ],
     "prompt_number": 53
    },
    {
     "cell_type": "code",
     "collapsed": false,
     "input": [
      "TESTING_COLUMN_NAMES"
     ],
     "language": "python",
     "metadata": {},
     "outputs": [
      {
       "metadata": {},
       "output_type": "pyout",
       "prompt_number": 29,
       "text": [
        "['Id',\n",
        " 'I1',\n",
        " 'I2',\n",
        " 'I3',\n",
        " 'I4',\n",
        " 'I5',\n",
        " 'I6',\n",
        " 'I7',\n",
        " 'I8',\n",
        " 'I9',\n",
        " 'I10',\n",
        " 'I11',\n",
        " 'I12',\n",
        " 'I13',\n",
        " 'C1',\n",
        " 'C2',\n",
        " 'C3',\n",
        " 'C4',\n",
        " 'C5',\n",
        " 'C6',\n",
        " 'C7',\n",
        " 'C8',\n",
        " 'C9',\n",
        " 'C10',\n",
        " 'C11',\n",
        " 'C12',\n",
        " 'C13',\n",
        " 'C14',\n",
        " 'C15',\n",
        " 'C16',\n",
        " 'C17',\n",
        " 'C18',\n",
        " 'C19',\n",
        " 'C20',\n",
        " 'C21',\n",
        " 'C22',\n",
        " 'C23',\n",
        " 'C24',\n",
        " 'C25',\n",
        " 'C26']"
       ]
      }
     ],
     "prompt_number": 29
    },
    {
     "cell_type": "code",
     "collapsed": false,
     "input": [
      "def get_separation_positions(totalN, divideN):\n",
      "    if totalN % divideN == 0:\n",
      "        return [i*divideN for i in range(totalN / divideN + 1)]\n",
      "    else:\n",
      "        return [i*divideN for i in range(totalN / divideN + 1)] + [totalN]\n",
      "\n",
      "    \n",
      "def get_separation_pairs(totalN, divideN):\n",
      "    return_list = get_separation_positions(totalN, divideN)\n",
      "    return zip(return_list[:-1], return_list[1:])"
     ],
     "language": "python",
     "metadata": {},
     "outputs": [],
     "prompt_number": 17
    },
    {
     "cell_type": "code",
     "collapsed": false,
     "input": [],
     "language": "python",
     "metadata": {},
     "outputs": []
    },
    {
     "cell_type": "code",
     "collapsed": false,
     "input": [
      "os.listdir(tools.TESTING_BLZ_PATH)"
     ],
     "language": "python",
     "metadata": {},
     "outputs": [
      {
       "metadata": {},
       "output_type": "pyout",
       "prompt_number": 21,
       "text": [
        "['C1',\n",
        " 'C10',\n",
        " 'C11',\n",
        " 'C12',\n",
        " 'C13',\n",
        " 'C14',\n",
        " 'C15',\n",
        " 'C16',\n",
        " 'C17',\n",
        " 'C18',\n",
        " 'C19',\n",
        " 'C2',\n",
        " 'C20',\n",
        " 'C21',\n",
        " 'C22',\n",
        " 'C23',\n",
        " 'C24',\n",
        " 'C25',\n",
        " 'C26',\n",
        " 'C3',\n",
        " 'C4',\n",
        " 'C5',\n",
        " 'C6',\n",
        " 'C7',\n",
        " 'C8',\n",
        " 'C9',\n",
        " 'I1',\n",
        " 'I10',\n",
        " 'I11',\n",
        " 'I12',\n",
        " 'I13',\n",
        " 'I2',\n",
        " 'I3',\n",
        " 'I4',\n",
        " 'I5',\n",
        " 'I6',\n",
        " 'I7',\n",
        " 'I8',\n",
        " 'I9',\n",
        " 'Id']"
       ]
      }
     ],
     "prompt_number": 21
    },
    {
     "cell_type": "code",
     "collapsed": false,
     "input": [
      "def abspath(colname):\n",
      "        return os.path.abspath(os.path.join(tools.TESTING_BLZ_PATH, colname))"
     ],
     "language": "python",
     "metadata": {},
     "outputs": [],
     "prompt_number": 7
    },
    {
     "cell_type": "code",
     "collapsed": false,
     "input": [
      "print abspath(\"Id\")"
     ],
     "language": "python",
     "metadata": {},
     "outputs": [
      {
       "output_type": "stream",
       "stream": "stdout",
       "text": [
        "/Users/DboyLiao/Desktop/DisplayAdvertisingChallenge/data/test_blzs/Id\n"
       ]
      }
     ],
     "prompt_number": 8
    },
    {
     "cell_type": "code",
     "collapsed": false,
     "input": [
      "Id = blz.open(abspath(\"Id\"))"
     ],
     "language": "python",
     "metadata": {},
     "outputs": [],
     "prompt_number": 9
    },
    {
     "cell_type": "code",
     "collapsed": false,
     "input": [
      "Id[1:10]"
     ],
     "language": "python",
     "metadata": {},
     "outputs": [
      {
       "metadata": {},
       "output_type": "pyout",
       "prompt_number": 10,
       "text": [
        "array([60000001, 60000002, 60000003, 60000004, 60000005, 60000006,\n",
        "       60000007, 60000008, 60000009])"
       ]
      }
     ],
     "prompt_number": 10
    },
    {
     "cell_type": "code",
     "collapsed": false,
     "input": [
      "os.listdir(abspath(\"Id\"))"
     ],
     "language": "python",
     "metadata": {},
     "outputs": [
      {
       "metadata": {},
       "output_type": "pyout",
       "prompt_number": 28,
       "text": [
        "['__attrs__', 'data', 'meta']"
       ]
      }
     ],
     "prompt_number": 28
    },
    {
     "cell_type": "code",
     "collapsed": false,
     "input": [
      "test = [(1, 2), (3, 4), (5, 5)]"
     ],
     "language": "python",
     "metadata": {},
     "outputs": [],
     "prompt_number": 29
    },
    {
     "cell_type": "code",
     "collapsed": false,
     "input": [
      "for i, j in test:\n",
      "    print i\n",
      "    print j"
     ],
     "language": "python",
     "metadata": {},
     "outputs": [
      {
       "output_type": "stream",
       "stream": "stdout",
       "text": [
        "1\n",
        "2\n",
        "3\n",
        "4\n",
        "5\n",
        "5\n"
       ]
      }
     ],
     "prompt_number": 31
    },
    {
     "cell_type": "code",
     "collapsed": false,
     "input": [
      "y = np.zeros(10)\n",
      "t = np.array([2, 3])\n",
      "y[0:2] = t"
     ],
     "language": "python",
     "metadata": {},
     "outputs": [],
     "prompt_number": 34
    },
    {
     "cell_type": "code",
     "collapsed": false,
     "input": [
      "t[0] = 5\n",
      "y"
     ],
     "language": "python",
     "metadata": {},
     "outputs": [
      {
       "metadata": {},
       "output_type": "pyout",
       "prompt_number": 35,
       "text": [
        "array([ 2.,  3.,  0.,  0.,  0.,  0.,  0.,  0.,  0.,  0.])"
       ]
      }
     ],
     "prompt_number": 35
    },
    {
     "cell_type": "code",
     "collapsed": false,
     "input": [],
     "language": "python",
     "metadata": {},
     "outputs": []
    }
   ],
   "metadata": {}
  }
 ]
}