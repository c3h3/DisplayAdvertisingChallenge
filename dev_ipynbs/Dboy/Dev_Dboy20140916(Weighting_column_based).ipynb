{
 "metadata": {
  "name": "",
  "signature": "sha256:219ebd094f72b0b54484bb9e76c14826c07affcccefc3bb5cbaac0c818a3d1f4"
 },
 "nbformat": 3,
 "nbformat_minor": 0,
 "worksheets": [
  {
   "cells": [
    {
     "cell_type": "code",
     "collapsed": false,
     "input": [
      "import blz\n",
      "import numpy as np\n",
      "import os"
     ],
     "language": "python",
     "metadata": {},
     "outputs": [],
     "prompt_number": 1
    },
    {
     "cell_type": "code",
     "collapsed": false,
     "input": [
      "import scipy as sp\n",
      "def llfun(act, pred):\n",
      "    epsilon = 1e-15\n",
      "    pred = sp.maximum(epsilon, pred)\n",
      "    pred = sp.minimum(1-epsilon, pred)\n",
      "    ll = np.sum(act*sp.log(pred) + sp.subtract(1,act)*sp.log(sp.subtract(1,pred)))\n",
      "    ll = ll * -1.0/len(act)\n",
      "    return ll"
     ],
     "language": "python",
     "metadata": {},
     "outputs": [],
     "prompt_number": 13
    },
    {
     "cell_type": "code",
     "collapsed": false,
     "input": [
      "def weighting_fun(barrays, weights, log_period = 20):\n",
      "    \"\"\"\n",
      "    Inputs:\n",
      "        barrays: a list of blz.barray instances.\n",
      "        weights: a ndarray or a barray of weights for each barray in barrays\n",
      "        log_period: an integer, the period of sending log information. The default is 20.\n",
      "    Outputs:\n",
      "        weighting_result: A list, weighted barrays of original barrays. \n",
      "    \"\"\"\n",
      "    # Testing validity of inputs\n",
      "    test_instance = map(lambda barray: isinstance(barray, blz.barray), barrays)\n",
      "    test_length = len(barrays) == len(weights)\n",
      "    test_array_length = map(lambda barray: len(barray) == len(barrays[0]), barrays)\n",
      "    assert np.all(test_instance), \"Only support barray(s).\"\n",
      "    assert test_length, \"The number of columns does not mathch the length of weights.\"\n",
      "    assert np.all(test_array_length), \"All barrays should be of the same length.\"\n",
      "    assert isinstance(log_period, int), \"log_period must be integer\"\n",
      "    \n",
      "    results = []\n",
      "    for i in range(len(barrays)):\n",
      "        barray = barrays[i]\n",
      "        weight = float(weights[i])\n",
      "        temp = blz.eval(\"barray * weight\")\n",
      "        results.append(temp)\n",
      "        if i % 20 == 0:\n",
      "            print \"{i} columns have been weighted. Processing...\".format(i = i + 1)\n",
      "    print \"Process complete.\"\n",
      "    return results"
     ],
     "language": "python",
     "metadata": {},
     "outputs": [],
     "prompt_number": 2
    },
    {
     "cell_type": "code",
     "collapsed": false,
     "input": [
      "def sum_cols(results_cols):\n",
      "    result = results_cols[0]\n",
      "    for i in range(1, len(results_cols)):\n",
      "        temp = results_cols[i]\n",
      "        result = blz.eval(\"result + temp\")\n",
      "        if i % 20 == 0:\n",
      "            print \"{i} columns complete. Processing....\".format(i=i+1)\n",
      "    print \"Process complete!\"\n",
      "    return result"
     ],
     "language": "python",
     "metadata": {},
     "outputs": [],
     "prompt_number": 3
    },
    {
     "cell_type": "code",
     "collapsed": false,
     "input": [
      "Id = blz.open(\"/Users/DboyLiao/Documents/kaggle/DisplayAdvertisingChallenge/data/test_blzs/Id\")"
     ],
     "language": "python",
     "metadata": {},
     "outputs": [],
     "prompt_number": 4
    },
    {
     "cell_type": "code",
     "collapsed": false,
     "input": [],
     "language": "python",
     "metadata": {},
     "outputs": []
    },
    {
     "cell_type": "code",
     "collapsed": false,
     "input": [
      "model_path = \"/Users/DboyLiao/Documents/kaggle/DisplayAdvertisingChallenge/data/models_c3h3/\""
     ],
     "language": "python",
     "metadata": {},
     "outputs": [],
     "prompt_number": 5
    },
    {
     "cell_type": "code",
     "collapsed": false,
     "input": [
      "predict_scores_train = []\n",
      "for model_dir in os.listdir(model_path):\n",
      "    if model_dir.startswith(\"LSVM\"):\n",
      "        model_root = model_path + model_dir + \"/all_training_prediction/decision_function\"\n",
      "        temp = blz.open(model_root)\n",
      "        predict_scores_train.append(temp)"
     ],
     "language": "python",
     "metadata": {},
     "outputs": [],
     "prompt_number": 6
    },
    {
     "cell_type": "code",
     "collapsed": false,
     "input": [
      "predict_scores_test = []\n",
      "for model_dir in os.listdir(model_path):\n",
      "    if model_dir.startswith(\"LSVM\"):\n",
      "        model_root = model_path + model_dir + \"/all_testing_prediction/decision_function\"\n",
      "        temp = blz.open(model_root)\n",
      "        predict_scores_test.append(temp)"
     ],
     "language": "python",
     "metadata": {},
     "outputs": [],
     "prompt_number": 7
    },
    {
     "cell_type": "code",
     "collapsed": false,
     "input": [
      "print len(predict_scores_test)\n",
      "print len(predict_scores_train)"
     ],
     "language": "python",
     "metadata": {},
     "outputs": [
      {
       "output_type": "stream",
       "stream": "stdout",
       "text": [
        "40\n",
        "40\n"
       ]
      }
     ],
     "prompt_number": 8
    },
    {
     "cell_type": "code",
     "collapsed": false,
     "input": [
      "weights_equal = np.array([1./40 for i in range(40)])"
     ],
     "language": "python",
     "metadata": {},
     "outputs": [],
     "prompt_number": 9
    },
    {
     "cell_type": "code",
     "collapsed": false,
     "input": [
      "import math"
     ],
     "language": "python",
     "metadata": {},
     "outputs": [],
     "prompt_number": 10
    },
    {
     "cell_type": "code",
     "collapsed": false,
     "input": [
      "def convert(score, offset):\n",
      "    return 1.0/(1 + sp.exp(offset - score))"
     ],
     "language": "python",
     "metadata": {},
     "outputs": [],
     "prompt_number": 37
    },
    {
     "cell_type": "code",
     "collapsed": false,
     "input": [
      "fin_results = []\n",
      "for i in range(40):\n",
      "    temp = np.apply_along_axis(lambda xx: convert(xx, 0.625), 0, predict_scores_test[i][:])\n",
      "    if i % 20 == 0:\n",
      "        print i\n",
      "    fin_results.append(blz.barray(temp))"
     ],
     "language": "python",
     "metadata": {},
     "outputs": [
      {
       "output_type": "stream",
       "stream": "stdout",
       "text": [
        "0\n",
        "20"
       ]
      },
      {
       "output_type": "stream",
       "stream": "stdout",
       "text": [
        "\n"
       ]
      }
     ],
     "prompt_number": 86
    },
    {
     "cell_type": "code",
     "collapsed": false,
     "input": [
      "weighted_results = weighting_fun(fin_results, weights_equal)"
     ],
     "language": "python",
     "metadata": {},
     "outputs": [
      {
       "output_type": "stream",
       "stream": "stdout",
       "text": [
        "1 columns have been weighted. Processing...\n",
        "21 columns have been weighted. Processing..."
       ]
      },
      {
       "output_type": "stream",
       "stream": "stdout",
       "text": [
        "\n",
        "Process complete."
       ]
      },
      {
       "output_type": "stream",
       "stream": "stdout",
       "text": [
        "\n"
       ]
      }
     ],
     "prompt_number": 87
    },
    {
     "cell_type": "code",
     "collapsed": false,
     "input": [
      "predicted = sum_cols(weighted_results)"
     ],
     "language": "python",
     "metadata": {},
     "outputs": [
      {
       "output_type": "stream",
       "stream": "stdout",
       "text": [
        "{i} columns complete. Processing....\n",
        "Process complete!"
       ]
      },
      {
       "output_type": "stream",
       "stream": "stdout",
       "text": [
        "\n"
       ]
      }
     ],
     "prompt_number": 88
    },
    {
     "cell_type": "code",
     "collapsed": false,
     "input": [
      "str(submit_cols[0][0])"
     ],
     "language": "python",
     "metadata": {},
     "outputs": [
      {
       "metadata": {},
       "output_type": "pyout",
       "prompt_number": 44,
       "text": [
        "'60000000'"
       ]
      }
     ],
     "prompt_number": 44
    },
    {
     "cell_type": "code",
     "collapsed": false,
     "input": [
      "\"{0:.0f}\".format(3.333)"
     ],
     "language": "python",
     "metadata": {},
     "outputs": [
      {
       "metadata": {},
       "output_type": "pyout",
       "prompt_number": 44,
       "text": [
        "'3'"
       ]
      }
     ],
     "prompt_number": 44
    },
    {
     "cell_type": "code",
     "collapsed": false,
     "input": [],
     "language": "python",
     "metadata": {},
     "outputs": []
    },
    {
     "cell_type": "code",
     "collapsed": false,
     "input": [
      "test = np.column_stack(submit_cols)"
     ],
     "language": "python",
     "metadata": {},
     "outputs": [],
     "prompt_number": 29
    },
    {
     "cell_type": "code",
     "collapsed": false,
     "input": [
      "def array_to_submit_string(Id, results):\n",
      "    assert len(Id) == len(results), \"The length of Id and predict results do not match.\"\n",
      "    pairs = zip(Id[:], results[:])\n",
      "    results = [(\"{0:.0f}\".format(i), str(r)) for i, r in pairs]\n",
      "    submits = map(lambda rr: \",\".join(rr), results)\n",
      "    return \"\\n\".join(submits)"
     ],
     "language": "python",
     "metadata": {},
     "outputs": [],
     "prompt_number": 44
    },
    {
     "cell_type": "code",
     "collapsed": false,
     "input": [
      "submit_string = array_to_submit_string(Id, predicted)"
     ],
     "language": "python",
     "metadata": {},
     "outputs": [],
     "prompt_number": 89
    },
    {
     "cell_type": "code",
     "collapsed": false,
     "input": [
      "submit_string[:100]"
     ],
     "language": "python",
     "metadata": {},
     "outputs": [
      {
       "metadata": {},
       "output_type": "pyout",
       "prompt_number": 90,
       "text": [
        "'60000000,0.262338589971\\n60000001,0.276525024791\\n60000002,0.259893573962\\n60000003,0.28080908233\\n60000'"
       ]
      }
     ],
     "prompt_number": 90
    },
    {
     "cell_type": "code",
     "collapsed": false,
     "input": [
      "with open(\"/Users/DboyLiao/Documents/kaggle/DisplayAdvertisingChallenge/submitions/40_offset_0_625_equal_w.csv\", \"w\") as wf:\n",
      "    wf.write(\"Id,Predicted\\n\")\n",
      "    wf.write(submit_string)"
     ],
     "language": "python",
     "metadata": {},
     "outputs": [],
     "prompt_number": 91
    },
    {
     "cell_type": "code",
     "collapsed": false,
     "input": [],
     "language": "python",
     "metadata": {},
     "outputs": []
    },
    {
     "cell_type": "code",
     "collapsed": false,
     "input": [
      "model_lucky_score = blz.open(\"/Users/DboyLiao/Documents/kaggle/DisplayAdvertisingChallenge/data/models_c3h3/LSVM40Groups_601b8f68-3ca1-11e4-97fc-1e5ff811d93a/all_testing_prediction/decision_function/\")"
     ],
     "language": "python",
     "metadata": {},
     "outputs": [],
     "prompt_number": 48
    },
    {
     "cell_type": "code",
     "collapsed": false,
     "input": [
      "predicted = np.apply_along_axis(lambda xx: convert(xx, -1), 0 , model_lucky_score[:])"
     ],
     "language": "python",
     "metadata": {},
     "outputs": [],
     "prompt_number": 50
    },
    {
     "cell_type": "code",
     "collapsed": false,
     "input": [
      "len(predicted)"
     ],
     "language": "python",
     "metadata": {},
     "outputs": [
      {
       "metadata": {},
       "output_type": "pyout",
       "prompt_number": 51,
       "text": [
        "6042135"
       ]
      }
     ],
     "prompt_number": 51
    },
    {
     "cell_type": "code",
     "collapsed": false,
     "input": [
      "submit_string = array_to_submit_string(Id, predicted)"
     ],
     "language": "python",
     "metadata": {},
     "outputs": [],
     "prompt_number": 52
    },
    {
     "cell_type": "code",
     "collapsed": false,
     "input": [
      "submit_string[:100]"
     ],
     "language": "python",
     "metadata": {},
     "outputs": [
      {
       "metadata": {},
       "output_type": "pyout",
       "prompt_number": 53,
       "text": [
        "'60000000,0.641386533639\\n60000001,0.664948423342\\n60000002,0.648133577822\\n60000003,0.673289276617\\n6000'"
       ]
      }
     ],
     "prompt_number": 53
    },
    {
     "cell_type": "code",
     "collapsed": false,
     "input": [
      "with open(\"/Users/DboyLiao/Documents/kaggle/DisplayAdvertisingChallenge/submitions/601b8f68-3ca1-11e4-97fc-1e5ff811d93a.csv\", \"w\") as wf:\n",
      "    wf.write(\"Id,Predicted\\n\")\n",
      "    wf.write(submit_string)"
     ],
     "language": "python",
     "metadata": {},
     "outputs": [],
     "prompt_number": 54
    },
    {
     "cell_type": "code",
     "collapsed": false,
     "input": [],
     "language": "python",
     "metadata": {},
     "outputs": []
    },
    {
     "cell_type": "code",
     "collapsed": false,
     "input": [
      "def llfun(act, pred):\n",
      "    epsilon = 1e-15\n",
      "    pred = sp.maximum(epsilon, pred)\n",
      "    pred = sp.minimum(1-epsilon, pred)\n",
      "    ll = np.sum(act*sp.log(pred) + sp.subtract(1,act)*sp.log(sp.subtract(1,pred)))\n",
      "    ll = ll * -1.0/len(act)\n",
      "    return ll"
     ],
     "language": "python",
     "metadata": {},
     "outputs": [],
     "prompt_number": 65
    },
    {
     "cell_type": "code",
     "collapsed": false,
     "input": [
      "Label = blz.open(\"/Users/DboyLiao/Documents/kaggle/DisplayAdvertisingChallenge/data/train_blzs/Label/\")"
     ],
     "language": "python",
     "metadata": {},
     "outputs": [],
     "prompt_number": 56
    },
    {
     "cell_type": "code",
     "collapsed": false,
     "input": [
      "test = blz.open(\"/Users/DboyLiao/Documents/kaggle/DisplayAdvertisingChallenge/data/models_c3h3/LSVM40Groups_1704ade6-3ca1-11e4-87dc-1e5ff811d93a/all_training_prediction/decision_function/\")"
     ],
     "language": "python",
     "metadata": {},
     "outputs": [],
     "prompt_number": 58
    },
    {
     "cell_type": "code",
     "collapsed": false,
     "input": [],
     "language": "python",
     "metadata": {},
     "outputs": []
    },
    {
     "cell_type": "code",
     "collapsed": false,
     "input": [
      "%time predicted_train = np.apply_along_axis(lambda xx: convert(xx, 0), 0, test[:])"
     ],
     "language": "python",
     "metadata": {},
     "outputs": [
      {
       "output_type": "stream",
       "stream": "stdout",
       "text": [
        "CPU times: user 2.29 s, sys: 2.42 s, total: 4.71 s\n",
        "Wall time: 35.5 s\n"
       ]
      }
     ],
     "prompt_number": 68
    },
    {
     "cell_type": "code",
     "collapsed": false,
     "input": [
      "%time llfun(Label[:], predicted_train)"
     ],
     "language": "python",
     "metadata": {},
     "outputs": [
      {
       "output_type": "stream",
       "stream": "stdout",
       "text": [
        "CPU times: user 3.81 s, sys: 3.58 s, total: 7.38 s\n",
        "Wall time: 21.2 s\n"
       ]
      },
      {
       "metadata": {},
       "output_type": "pyout",
       "prompt_number": 69,
       "text": [
        "0.59545459838339676"
       ]
      }
     ],
     "prompt_number": 69
    },
    {
     "cell_type": "code",
     "collapsed": false,
     "input": [
      "%time predicted_train = np.apply_along_axis(lambda xx: convert(xx, 0.25), 0, test[:])"
     ],
     "language": "python",
     "metadata": {},
     "outputs": [
      {
       "output_type": "stream",
       "stream": "stdout",
       "text": [
        "CPU times: user 2.32 s, sys: 2.4 s, total: 4.72 s\n",
        "Wall time: 32.6 s\n"
       ]
      }
     ],
     "prompt_number": 76
    },
    {
     "cell_type": "code",
     "collapsed": false,
     "input": [
      "%time llfun(Label[:], predicted_train)"
     ],
     "language": "python",
     "metadata": {},
     "outputs": [
      {
       "output_type": "stream",
       "stream": "stdout",
       "text": [
        "CPU times: user 3.91 s, sys: 3.73 s, total: 7.65 s\n",
        "Wall time: 24.5 s\n"
       ]
      },
      {
       "metadata": {},
       "output_type": "pyout",
       "prompt_number": 77,
       "text": [
        "0.57041143686624696"
       ]
      }
     ],
     "prompt_number": 77
    },
    {
     "cell_type": "code",
     "collapsed": false,
     "input": [
      "%time predicted_train = np.apply_along_axis(lambda xx: convert(xx, 0.375), 0, test[:])"
     ],
     "language": "python",
     "metadata": {},
     "outputs": [
      {
       "output_type": "stream",
       "stream": "stdout",
       "text": [
        "CPU times: user 2.25 s, sys: 2.38 s, total: 4.62 s\n",
        "Wall time: 32.9 s\n"
       ]
      }
     ],
     "prompt_number": 78
    },
    {
     "cell_type": "code",
     "collapsed": false,
     "input": [
      "%time llfun(Label[:], predicted_train)"
     ],
     "language": "python",
     "metadata": {},
     "outputs": [
      {
       "output_type": "stream",
       "stream": "stdout",
       "text": [
        "CPU times: user 3.84 s, sys: 3.63 s, total: 7.47 s\n",
        "Wall time: 20.7 s\n"
       ]
      },
      {
       "metadata": {},
       "output_type": "pyout",
       "prompt_number": 79,
       "text": [
        "0.56307880811604893"
       ]
      }
     ],
     "prompt_number": 79
    },
    {
     "cell_type": "code",
     "collapsed": false,
     "input": [
      "%time predicted_train = np.apply_along_axis(lambda xx: convert(xx, 0.5), 0, test[:])"
     ],
     "language": "python",
     "metadata": {},
     "outputs": [
      {
       "output_type": "stream",
       "stream": "stdout",
       "text": [
        "CPU times: user 2.29 s, sys: 2.43 s, total: 4.72 s\n",
        "Wall time: 34.3 s\n"
       ]
      }
     ],
     "prompt_number": 70
    },
    {
     "cell_type": "code",
     "collapsed": false,
     "input": [
      "%time llfun(Label[:], predicted_train)"
     ],
     "language": "python",
     "metadata": {},
     "outputs": [
      {
       "output_type": "stream",
       "stream": "stdout",
       "text": [
        "CPU times: user 4.13 s, sys: 3.86 s, total: 7.99 s\n",
        "Wall time: 20.5 s\n"
       ]
      },
      {
       "metadata": {},
       "output_type": "pyout",
       "prompt_number": 71,
       "text": [
        "0.55900906802338979"
       ]
      }
     ],
     "prompt_number": 71
    },
    {
     "cell_type": "code",
     "collapsed": false,
     "input": [
      "(0.625 + 0.5) / 2"
     ],
     "language": "python",
     "metadata": {},
     "outputs": [
      {
       "metadata": {},
       "output_type": "pyout",
       "prompt_number": 82,
       "text": [
        "0.5625"
       ]
      }
     ],
     "prompt_number": 82
    },
    {
     "cell_type": "code",
     "collapsed": false,
     "input": [
      "%time predicted_train = np.apply_along_axis(lambda xx: convert(xx, 0.5623), 0, test[:])\n",
      "%time llfun(Label[:], predicted_train)"
     ],
     "language": "python",
     "metadata": {},
     "outputs": [
      {
       "output_type": "stream",
       "stream": "stdout",
       "text": [
        "CPU times: user 2.48 s, sys: 2.55 s, total: 5.02 s\n",
        "Wall time: 35.4 s\n",
        "CPU times: user 3.84 s, sys: 3.64 s, total: 7.49 s"
       ]
      },
      {
       "output_type": "stream",
       "stream": "stdout",
       "text": [
        "\n",
        "Wall time: 23.6 s\n"
       ]
      },
      {
       "metadata": {},
       "output_type": "pyout",
       "prompt_number": 83,
       "text": [
        "0.55814822208083126"
       ]
      }
     ],
     "prompt_number": 83
    },
    {
     "cell_type": "code",
     "collapsed": false,
     "input": [
      "%time predicted_train = np.apply_along_axis(lambda xx: convert(xx, 0.625), 0, test[:])\n",
      "%time llfun(Label[:], predicted_train)"
     ],
     "language": "python",
     "metadata": {},
     "outputs": [
      {
       "output_type": "stream",
       "stream": "stdout",
       "text": [
        "CPU times: user 2.3 s, sys: 2.35 s, total: 4.66 s\n",
        "Wall time: 31.5 s\n",
        "CPU times: user 3.85 s, sys: 3.57 s, total: 7.42 s"
       ]
      },
      {
       "output_type": "stream",
       "stream": "stdout",
       "text": [
        "\n",
        "Wall time: 17.3 s\n"
       ]
      },
      {
       "metadata": {},
       "output_type": "pyout",
       "prompt_number": 81,
       "text": [
        "0.55803733036605174"
       ]
      }
     ],
     "prompt_number": 81
    },
    {
     "cell_type": "code",
     "collapsed": false,
     "input": [
      "%time predicted_train = np.apply_along_axis(lambda xx: convert(xx, 0.75), 0, test[:])\n",
      "%time llfun(Label[:], predicted_train)"
     ],
     "language": "python",
     "metadata": {},
     "outputs": [
      {
       "output_type": "stream",
       "stream": "stdout",
       "text": [
        "CPU times: user 2.31 s, sys: 2.37 s, total: 4.68 s\n",
        "Wall time: 32.7 s\n",
        "CPU times: user 3.75 s, sys: 3.45 s, total: 7.2 s"
       ]
      },
      {
       "output_type": "stream",
       "stream": "stdout",
       "text": [
        "\n",
        "Wall time: 17.2 s\n"
       ]
      },
      {
       "metadata": {},
       "output_type": "pyout",
       "prompt_number": 80,
       "text": [
        "0.55998901729152639"
       ]
      }
     ],
     "prompt_number": 80
    },
    {
     "cell_type": "code",
     "collapsed": false,
     "input": [],
     "language": "python",
     "metadata": {},
     "outputs": []
    },
    {
     "cell_type": "code",
     "collapsed": false,
     "input": [],
     "language": "python",
     "metadata": {},
     "outputs": []
    },
    {
     "cell_type": "code",
     "collapsed": false,
     "input": [
      "%time predicted_train = np.apply_along_axis(lambda xx: convert(xx, 1), 0, test[:])"
     ],
     "language": "python",
     "metadata": {},
     "outputs": [
      {
       "output_type": "stream",
       "stream": "stdout",
       "text": [
        "CPU times: user 2.22 s, sys: 2.31 s, total: 4.53 s\n",
        "Wall time: 32.4 s\n"
       ]
      }
     ],
     "prompt_number": 72
    },
    {
     "cell_type": "code",
     "collapsed": false,
     "input": [
      "%time llfun(Label[:], predicted_train)"
     ],
     "language": "python",
     "metadata": {},
     "outputs": [
      {
       "output_type": "stream",
       "stream": "stdout",
       "text": [
        "CPU times: user 3.83 s, sys: 3.69 s, total: 7.52 s\n",
        "Wall time: 18.4 s\n"
       ]
      },
      {
       "metadata": {},
       "output_type": "pyout",
       "prompt_number": 73,
       "text": [
        "0.57193683085332681"
       ]
      }
     ],
     "prompt_number": 73
    },
    {
     "cell_type": "code",
     "collapsed": false,
     "input": [
      "%time predicted_train = np.apply_along_axis(lambda xx: convert(xx, 1.5), 0, test[:])"
     ],
     "language": "python",
     "metadata": {},
     "outputs": [
      {
       "output_type": "stream",
       "stream": "stdout",
       "text": [
        "CPU times: user 2.3 s, sys: 2.37 s, total: 4.67 s\n",
        "Wall time: 34.9 s\n"
       ]
      }
     ],
     "prompt_number": 74
    },
    {
     "cell_type": "code",
     "collapsed": false,
     "input": [
      "%time llfun(Label[:], predicted_train)"
     ],
     "language": "python",
     "metadata": {},
     "outputs": [
      {
       "output_type": "stream",
       "stream": "stdout",
       "text": [
        "CPU times: user 3.71 s, sys: 3.47 s, total: 7.18 s\n",
        "Wall time: 19 s\n"
       ]
      },
      {
       "metadata": {},
       "output_type": "pyout",
       "prompt_number": 75,
       "text": [
        "0.6229234715567048"
       ]
      }
     ],
     "prompt_number": 75
    }
   ],
   "metadata": {}
  }
 ]
}