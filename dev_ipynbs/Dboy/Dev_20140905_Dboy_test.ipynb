{
 "metadata": {
  "name": "",
  "signature": "sha256:7d51698c50070dc225347043902e7e0e1c116a2bee25e5d3cbc5d47b95d04c05"
 },
 "nbformat": 3,
 "nbformat_minor": 0,
 "worksheets": [
  {
   "cells": [
    {
     "cell_type": "code",
     "collapsed": false,
     "input": [
      "import cPickle as pickle\n",
      "import numpy as np\n",
      "import scipy"
     ],
     "language": "python",
     "metadata": {},
     "outputs": [],
     "prompt_number": 1
    },
    {
     "cell_type": "code",
     "collapsed": false,
     "input": [
      "# Loading training data.\n",
      "with open(\"/Users/DboyLiao/Documents/kaggle/DisplayAdvertisingChallenge/data/train_cols/Label.col\", \"rb\") as y:\n",
      "    Y = pickle.load(y)\n",
      "with open(\"/Users/DboyLiao/Documents/kaggle/DisplayAdvertisingChallenge/data/train_cols/C1.col\", \"rb\") as c1:\n",
      "    C1 = pickle.load(c1)\n",
      "with open(\"/Users/DboyLiao/Documents/kaggle/DisplayAdvertisingChallenge/data/train_cols/C2.col\", \"rb\") as c2:\n",
      "    C2 = pickle.load(c2)"
     ],
     "language": "python",
     "metadata": {},
     "outputs": [],
     "prompt_number": 2
    },
    {
     "cell_type": "code",
     "collapsed": false,
     "input": [
      "class ColumnData(object):\n",
      "    def __init__(self, colname, data_list):\n",
      "        data_array = np.array(data_list)\n",
      "        self.states_vec, self.states_pos_vec, self.index_vec = np.unique(data_array,return_inverse=True,return_index=True)\n",
      "        self.name = colname\n",
      "    \n",
      "    def save_as_pickle_file(self, dir_path):\n",
      "        output_file_path = os.path.join(dir_path, \"%s.col\" % self.name)\n",
      "        with open(output_file_path, \"wb\") as wf:\n",
      "            pickle.dump(self, wf)\n",
      "    def __getitem__(self, name):\n",
      "        try:\n",
      "            return self.__dict__[name]\n",
      "        except KeyError:\n",
      "            raise KeyError, \"%s has no %s attribute.\" % (self.__dict__[\"name\"], name)\n",
      "    def __str__(self):\n",
      "        msg = \"States Vector: %s \\n\" % self.states_vec + \\\n",
      "        \"States Position: %s \\n\" % self.states_pos_vec + \\\n",
      "        \"Index Vector: %s \\n\" % self.index_vec\n",
      "        return msg\n",
      "    def __len__(self):\n",
      "        return len(self.index_vec)"
     ],
     "language": "python",
     "metadata": {},
     "outputs": [],
     "prompt_number": 3
    },
    {
     "cell_type": "code",
     "collapsed": false,
     "input": [
      "def prior_dist(label_col):\n",
      "    \"\"\"\n",
      "    Input: A ColumnData object.\n",
      "    Output: dictionary, which represent the prior distribution of object label_col.\n",
      "    \"\"\"\n",
      "    prior = dict((int(key), 0) for key in label_col.states_vec)\n",
      "    for ind in label_col.index_vec:\n",
      "        prior[int(ind)] += 1.0\n",
      "    num_data = len(label_col.index_vec)\n",
      "    for key in prior:\n",
      "        prior[key] /= num_data\n",
      "    return prior"
     ],
     "language": "python",
     "metadata": {},
     "outputs": [],
     "prompt_number": 4
    },
    {
     "cell_type": "code",
     "collapsed": false,
     "input": [
      "prior_y = prior_dist(Y)"
     ],
     "language": "python",
     "metadata": {},
     "outputs": [],
     "prompt_number": 5
    },
    {
     "cell_type": "code",
     "collapsed": false,
     "input": [
      "print prior_y"
     ],
     "language": "python",
     "metadata": {},
     "outputs": [
      {
       "output_type": "stream",
       "stream": "stdout",
       "text": [
        "{0: 0.7437766162702392, 1: 0.2562233837297609}\n"
       ]
      }
     ],
     "prompt_number": 6
    },
    {
     "cell_type": "markdown",
     "metadata": {},
     "source": [
      "## Training Model2"
     ]
    },
    {
     "cell_type": "code",
     "collapsed": false,
     "input": [
      "def Likelihood(*columns):\n",
      "    \"\"\"\n",
      "    Input: ColumnData objects. (Categorical data)\n",
      "    Output: The conditional probability of labels given the value of each columns.\n",
      "    \"\"\"\n",
      "    check = np.array([])\n",
      "    for col in columns:\n",
      "        temp = col.index_vec\n",
      "        np.append(check, len(temp))\n",
      "    check = np.all(check == len(temp))\n",
      "    assert check, \"The columns are not of the same length. Please check that.\"\n",
      "    # Combine all the columns into a array table. (It is for the upcoming group-by.)\n",
      "    shape = (len(temp), 1)\n",
      "    for col in columns:\n",
      "        col.index_vec.shape = shape\n",
      "    table = np.concatenate([col.index_vec for col in columns], axis = 1)\n",
      "    dtype = [(col.name, col.index_vec.dtype) for col in columns]\n",
      "    table.dtype = dtype\n",
      "    unique_pair, pair_position, pair_vec_index = np.unique(table, return_index=True, return_inverse=True)\n",
      "    dist = dict((tuple(pair), 0) for pair in unique_pair)\n",
      "    for ind in pair_vec_index:\n",
      "        dist[tuple(unique_pair[ind])] += 1.0\n",
      "    return (dist, (unique_pair, pair_position, pair_vec_index))"
     ],
     "language": "python",
     "metadata": {},
     "outputs": [],
     "prompt_number": 10
    },
    {
     "cell_type": "code",
     "collapsed": false,
     "input": [
      "likelihood, indices = Likelihood(Y, C1, C2)"
     ],
     "language": "python",
     "metadata": {},
     "outputs": [],
     "prompt_number": 11
    },
    {
     "cell_type": "code",
     "collapsed": false,
     "input": [],
     "language": "python",
     "metadata": {},
     "outputs": []
    },
    {
     "cell_type": "code",
     "collapsed": false,
     "input": [],
     "language": "python",
     "metadata": {},
     "outputs": []
    },
    {
     "cell_type": "code",
     "collapsed": false,
     "input": [],
     "language": "python",
     "metadata": {},
     "outputs": []
    },
    {
     "cell_type": "code",
     "collapsed": false,
     "input": [
      "# Loading test data\n",
      "with open(\"/Users/DboyLiao/Documents/kaggle/DisplayAdvertisingChallenge/data/test_cols/C1.col\", \"rb\") as c1:\n",
      "    C1_test = pickle.load(c1)\n",
      "with open(\"/Users/DboyLiao/Documents/kaggle/DisplayAdvertisingChallenge/data/test_cols/C2.col\", \"rb\") as c2:\n",
      "    C2_test = pickle.load(c2)\n",
      "with open(\"/Users/DboyLiao/Documents/kaggle/DisplayAdvertisingChallenge/data/test_cols/Id.col\", \"rb\") as Id:\n",
      "    Id_test = pickle.load(Id)"
     ],
     "language": "python",
     "metadata": {},
     "outputs": [],
     "prompt_number": 17
    },
    {
     "cell_type": "markdown",
     "metadata": {},
     "source": [
      "## Model1 Prediction"
     ]
    },
    {
     "cell_type": "code",
     "collapsed": false,
     "input": [
      "ind = np.random.binomial(1, prior_y[1], [len(C1_test.index_vec), 1])"
     ],
     "language": "python",
     "metadata": {},
     "outputs": [],
     "prompt_number": 10
    },
    {
     "cell_type": "code",
     "collapsed": false,
     "input": [
      "y_predict = np.array([])\n",
      "to_add = []\n",
      "for inx in ind:\n",
      "    to_add.append(prior_y[int(inx)])"
     ],
     "language": "python",
     "metadata": {},
     "outputs": [],
     "prompt_number": 11
    },
    {
     "cell_type": "code",
     "collapsed": false,
     "input": [
      "y_predict = np.append(y_predict, to_add)"
     ],
     "language": "python",
     "metadata": {},
     "outputs": [],
     "prompt_number": 12
    },
    {
     "cell_type": "code",
     "collapsed": false,
     "input": [
      "submit = np.column_stack((Id_test.states_vec[Id_test.index_vec[1:]].flatten(), y_predict[1:].flatten()))"
     ],
     "language": "python",
     "metadata": {},
     "outputs": [],
     "prompt_number": 13
    },
    {
     "cell_type": "code",
     "collapsed": false,
     "input": [
      "submit"
     ],
     "language": "python",
     "metadata": {},
     "outputs": [
      {
       "metadata": {},
       "output_type": "pyout",
       "prompt_number": 14,
       "text": [
        "array([['60000000', '0.256223'],\n",
        "       ['60000001', '0.256223'],\n",
        "       ['60000002', '0.743776'],\n",
        "       ..., \n",
        "       ['66042132', '0.743776'],\n",
        "       ['66042133', '0.743776'],\n",
        "       ['66042134', '0.743776']], \n",
        "      dtype='|S8')"
       ]
      }
     ],
     "prompt_number": 14
    },
    {
     "cell_type": "code",
     "collapsed": false,
     "input": [
      "submit = \"\\n\".join(np.apply_along_axis(lambda xx:\",\".join(xx),1,submit))"
     ],
     "language": "python",
     "metadata": {},
     "outputs": [],
     "prompt_number": 15
    },
    {
     "cell_type": "code",
     "collapsed": false,
     "input": [
      "submit = \"Id,Predicted\\n\" + submit"
     ],
     "language": "python",
     "metadata": {},
     "outputs": [],
     "prompt_number": 16
    },
    {
     "cell_type": "code",
     "collapsed": false,
     "input": [
      "with open(\"/Users/DboyLiao/Documents/kaggle/DisplayAdvertisingChallenge/submitions/simple_prior/submit.csv\", \"w\") as f:\n",
      "    f.write(submit)"
     ],
     "language": "python",
     "metadata": {},
     "outputs": [],
     "prompt_number": 17
    },
    {
     "cell_type": "code",
     "collapsed": false,
     "input": [],
     "language": "python",
     "metadata": {},
     "outputs": []
    },
    {
     "cell_type": "markdown",
     "metadata": {},
     "source": [
      "## Model2 Prediction"
     ]
    },
    {
     "cell_type": "code",
     "collapsed": false,
     "input": [
      "conditions = np.column_stack((C1_test.index_vec.flatten(), C2_test.index_vec.flatten()))"
     ],
     "language": "python",
     "metadata": {},
     "outputs": [],
     "prompt_number": 21
    },
    {
     "cell_type": "code",
     "collapsed": false,
     "input": [
      "y_predict =[]\n",
      "count = 1\n",
      "for condition in conditions:\n",
      "    positive = (1, ) + tuple(condition)\n",
      "    negative = (0, ) + tuple(condition)\n",
      "    if positive in likelihood.keys() and negative in likelihood.keys():\n",
      "        temp = float(likelihood[positive])/(likelihood[positive] + likelihood[negative])\n",
      "        y_predict.append(temp)\n",
      "    elif positive in likelihood.keys():\n",
      "        y_predict.append(prior_y[1])\n",
      "    elif negative in likelihood.keys():\n",
      "        y_predict.append(prior_y[0])\n",
      "    else:\n",
      "        y_predict.append(0.5)\n",
      "    count += 1\n",
      "    if count % 1000 == 0:\n",
      "        print \"%s observations done.\" % str(count)"
     ],
     "language": "python",
     "metadata": {},
     "outputs": []
    },
    {
     "cell_type": "code",
     "collapsed": false,
     "input": [
      "y_predict"
     ],
     "language": "python",
     "metadata": {},
     "outputs": []
    },
    {
     "cell_type": "code",
     "collapsed": false,
     "input": [
      "5 % 2"
     ],
     "language": "python",
     "metadata": {},
     "outputs": []
    },
    {
     "cell_type": "code",
     "collapsed": false,
     "input": [
      "submit = np.column_stack((Id_test.states_vec[Id_test.index_vec[1:]].flatten(), y_predict[1:].flatten()))"
     ],
     "language": "python",
     "metadata": {},
     "outputs": []
    },
    {
     "cell_type": "code",
     "collapsed": false,
     "input": [
      "submit = \"\\n\".join(np.apply_along_axis(lambda xx: \",\".join(xx), 1, submit))"
     ],
     "language": "python",
     "metadata": {},
     "outputs": []
    },
    {
     "cell_type": "code",
     "collapsed": false,
     "input": [],
     "language": "python",
     "metadata": {},
     "outputs": []
    },
    {
     "cell_type": "code",
     "collapsed": false,
     "input": [],
     "language": "python",
     "metadata": {},
     "outputs": []
    },
    {
     "cell_type": "code",
     "collapsed": false,
     "input": [],
     "language": "python",
     "metadata": {},
     "outputs": []
    }
   ],
   "metadata": {}
  }
 ]
}