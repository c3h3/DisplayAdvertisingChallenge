{
 "metadata": {
  "name": "",
  "signature": "sha256:1209cd7721c84c153fcb0062b3df6ae71996806c268ca3b3a75e044401475901"
 },
 "nbformat": 3,
 "nbformat_minor": 0,
 "worksheets": [
  {
   "cells": [
    {
     "cell_type": "heading",
     "level": 2,
     "metadata": {},
     "source": [
      "## Shogun NeuralNet:\n",
      "- http://www.shogun-toolbox.org/static/notebook/current/neuralnets_digits.html\n",
      "- http://www.shogun-toolbox.org/static/notebook/current/rbms_dbns.html"
     ]
    },
    {
     "cell_type": "markdown",
     "metadata": {},
     "source": [
      "## LMNN:\n",
      "- http://shogun-toolbox.org/static/notebook/current/LMNN.html\n"
     ]
    },
    {
     "cell_type": "markdown",
     "metadata": {},
     "source": [
      "## Shogun:\n",
      "- http://www.shogun-toolbox.org/page/documentation/notebook\n",
      "- http://www.shogun-toolbox.org/static/notebook/current/gaussian_processes.html\n"
     ]
    },
    {
     "cell_type": "markdown",
     "metadata": {},
     "source": [
      "\n"
     ]
    },
    {
     "cell_type": "markdown",
     "metadata": {},
     "source": [
      "## Bagging:\n",
      "- http://nbviewer.ipython.org/github/ga-students/DS_HK_2/blob/gh-pages/notebooks/14%20-%20Random%20Forests.ipynb"
     ]
    },
    {
     "cell_type": "code",
     "collapsed": false,
     "input": [],
     "language": "python",
     "metadata": {},
     "outputs": [],
     "prompt_number": 0
    },
    {
     "cell_type": "code",
     "collapsed": false,
     "input": [],
     "language": "python",
     "metadata": {},
     "outputs": [],
     "prompt_number": 0
    },
    {
     "cell_type": "code",
     "collapsed": false,
     "input": [
      "from hunkaggle.criteo import tools\n",
      "from hunkaggle.criteo.settings import TRAINING_COLUMN_NAMES, TESTING_COLUMN_NAMES\n",
      "import blz, os\n",
      "import numpy as np\n",
      "from hunkaggle.criteo.settings import MODELS_PATH, SUBMITS_PATH\n",
      "from hunkaggle.criteo.settings import SOURCE_DATA_DIR\n",
      "from hunkaggle.criteo.models import *"
     ],
     "language": "python",
     "metadata": {},
     "outputs": [],
     "prompt_number": 2
    },
    {
     "cell_type": "code",
     "collapsed": false,
     "input": [],
     "language": "python",
     "metadata": {},
     "outputs": [],
     "prompt_number": 2
    },
    {
     "cell_type": "code",
     "collapsed": false,
     "input": [],
     "language": "python",
     "metadata": {},
     "outputs": [],
     "prompt_number": 2
    },
    {
     "cell_type": "code",
     "collapsed": false,
     "input": [],
     "language": "python",
     "metadata": {},
     "outputs": [],
     "prompt_number": 4
    },
    {
     "cell_type": "code",
     "collapsed": false,
     "input": [],
     "language": "python",
     "metadata": {},
     "outputs": [],
     "prompt_number": 5
    },
    {
     "cell_type": "code",
     "collapsed": false,
     "input": [],
     "language": "python",
     "metadata": {},
     "outputs": [],
     "prompt_number": 5
    },
    {
     "cell_type": "code",
     "collapsed": false,
     "input": [
      "rf_models_v1_models_path = os.path.join(os.path.join(SOURCE_DATA_DIR, \"rf_models_v2\"))\n",
      "rf_series = ModelSeries(series_name=\"RFmss20ne170-40Groups\", series_home=rf_models_v1_models_path)"
     ],
     "language": "python",
     "metadata": {},
     "outputs": [],
     "prompt_number": 6
    },
    {
     "cell_type": "code",
     "collapsed": false,
     "input": [],
     "language": "python",
     "metadata": {},
     "outputs": [],
     "prompt_number": 6
    },
    {
     "cell_type": "code",
     "collapsed": false,
     "input": [
      "rf_models_v1_models_path = os.path.join(os.path.join(SOURCE_DATA_DIR, \"rf_models_v1\"))\n",
      "rf_series = ModelSeries(series_name=\"RFmss10ne200-40Groups\", series_home=rf_models_v1_models_path)"
     ],
     "language": "python",
     "metadata": {},
     "outputs": [],
     "prompt_number": 7
    },
    {
     "cell_type": "code",
     "collapsed": false,
     "input": [
      "rf_series.series_models[:3]"
     ],
     "language": "python",
     "metadata": {},
     "outputs": [
      {
       "metadata": {},
       "output_type": "pyout",
       "prompt_number": 9,
       "text": [
        "[RFmss10ne200-40Groups_ffca52ca-3d54-11e4-9872-5a1064dce9ab : {'training_dataset': 'origin', 'training_data_slices': slice(2292032, 3438048, None), 'feature_columns': ['I1', 'I2', 'I3', 'I4', 'I5', 'I6', 'I7', 'I8', 'I9', 'I10', 'I11', 'I12', 'I13', 'C1', 'C2', 'C3', 'C4', 'C5', 'C6', 'C7', 'C8', 'C9', 'C10', 'C11', 'C12', 'C13', 'C14', 'C15', 'C16', 'C17', 'C18', 'C19', 'C20', 'C21', 'C22', 'C23', 'C24', 'C25', 'C26'], 'additional_feature_columns': [], 'model_type': <class 'sklearn.ensemble.forest.RandomForestClassifier'>, 'model_paramters': {'min_samples_split': 10, 'n_estimators': 200, 'n_jobs': 12}},\n",
        " RFmss10ne200-40Groups_96e6dfac-3dfa-11e4-9872-5a1064dce9ab : {'training_dataset': 'origin', 'training_data_slices': slice(28650400, 29796416, None), 'feature_columns': ['I1', 'I2', 'I3', 'I4', 'I5', 'I6', 'I7', 'I8', 'I9', 'I10', 'I11', 'I12', 'I13', 'C1', 'C2', 'C3', 'C4', 'C5', 'C6', 'C7', 'C8', 'C9', 'C10', 'C11', 'C12', 'C13', 'C14', 'C15', 'C16', 'C17', 'C18', 'C19', 'C20', 'C21', 'C22', 'C23', 'C24', 'C25', 'C26'], 'additional_feature_columns': [], 'model_type': <class 'sklearn.ensemble.forest.RandomForestClassifier'>, 'model_paramters': {'min_samples_split': 10, 'n_estimators': 200, 'n_jobs': 12}},\n",
        " RFmss10ne200-40Groups_1ef4e8dc-3de5-11e4-9872-5a1064dce9ab : {'training_dataset': 'origin', 'training_data_slices': slice(25212352, 26358368, None), 'feature_columns': ['I1', 'I2', 'I3', 'I4', 'I5', 'I6', 'I7', 'I8', 'I9', 'I10', 'I11', 'I12', 'I13', 'C1', 'C2', 'C3', 'C4', 'C5', 'C6', 'C7', 'C8', 'C9', 'C10', 'C11', 'C12', 'C13', 'C14', 'C15', 'C16', 'C17', 'C18', 'C19', 'C20', 'C21', 'C22', 'C23', 'C24', 'C25', 'C26'], 'additional_feature_columns': [], 'model_type': <class 'sklearn.ensemble.forest.RandomForestClassifier'>, 'model_paramters': {'min_samples_split': 10, 'n_estimators': 200, 'n_jobs': 12}}]"
       ]
      }
     ],
     "prompt_number": 9
    },
    {
     "cell_type": "code",
     "collapsed": false,
     "input": [
      "models_list = ModelsList(*rf_series.series_models)"
     ],
     "language": "python",
     "metadata": {},
     "outputs": [],
     "prompt_number": 10
    },
    {
     "cell_type": "code",
     "collapsed": false,
     "input": [
      "rf_series.compute_training_data_logloss(sample_slice  = slice(0,100000,None))"
     ],
     "language": "python",
     "metadata": {},
     "outputs": [
      {
       "output_type": "stream",
       "stream": "stdout",
       "text": [
        "[RFmss10ne200-40Groups_ffca52ca-3d54-11e4-9872-5a1064dce9ab] [compute_training_data_logloss] conpute logloss with predict_proba \n",
        "[RFmss10ne200-40Groups_ffca52ca-3d54-11e4-9872-5a1064dce9ab] [compute_training_data_logloss] logloss_value = 0.460445306873 "
       ]
      },
      {
       "output_type": "stream",
       "stream": "stdout",
       "text": [
        "\n",
        "[RFmss10ne200-40Groups_96e6dfac-3dfa-11e4-9872-5a1064dce9ab] [compute_training_data_logloss] conpute logloss with predict_proba \n",
        "[RFmss10ne200-40Groups_96e6dfac-3dfa-11e4-9872-5a1064dce9ab] [compute_training_data_logloss] logloss_value = 0.46216004232 "
       ]
      },
      {
       "output_type": "stream",
       "stream": "stdout",
       "text": [
        "\n",
        "[RFmss10ne200-40Groups_1ef4e8dc-3de5-11e4-9872-5a1064dce9ab] [compute_training_data_logloss] conpute logloss with predict_proba \n",
        "[RFmss10ne200-40Groups_1ef4e8dc-3de5-11e4-9872-5a1064dce9ab] [compute_training_data_logloss] logloss_value = 0.45998073963 "
       ]
      },
      {
       "output_type": "stream",
       "stream": "stdout",
       "text": [
        "\n",
        "[RFmss10ne200-40Groups_6d99e818-3dcf-11e4-9872-5a1064dce9ab] [compute_training_data_logloss] conpute logloss with predict_proba \n",
        "[RFmss10ne200-40Groups_6d99e818-3dcf-11e4-9872-5a1064dce9ab] [compute_training_data_logloss] logloss_value = 0.46202126 "
       ]
      },
      {
       "output_type": "stream",
       "stream": "stdout",
       "text": [
        "\n",
        "[RFmss10ne200-40Groups_44ea4f5c-3e42-11e4-9872-5a1064dce9ab] [compute_training_data_logloss] conpute logloss with predict_proba \n",
        "[RFmss10ne200-40Groups_44ea4f5c-3e42-11e4-9872-5a1064dce9ab] [compute_training_data_logloss] logloss_value = 0.463747157512 "
       ]
      },
      {
       "output_type": "stream",
       "stream": "stdout",
       "text": [
        "\n",
        "[RFmss10ne200-40Groups_732cc740-3df3-11e4-9872-5a1064dce9ab] [compute_training_data_logloss] conpute logloss with predict_proba \n",
        "[RFmss10ne200-40Groups_732cc740-3df3-11e4-9872-5a1064dce9ab] [compute_training_data_logloss] logloss_value = 0.462513080173 "
       ]
      },
      {
       "output_type": "stream",
       "stream": "stdout",
       "text": [
        "\n",
        "[RFmss10ne200-40Groups_e1d006ca-3d95-11e4-9872-5a1064dce9ab] [compute_training_data_logloss] conpute logloss with predict_proba \n",
        "[RFmss10ne200-40Groups_e1d006ca-3d95-11e4-9872-5a1064dce9ab] [compute_training_data_logloss] logloss_value = 0.462807259843 "
       ]
      },
      {
       "output_type": "stream",
       "stream": "stdout",
       "text": [
        "\n",
        "[RFmss10ne200-40Groups_7ac82f46-3dab-11e4-9872-5a1064dce9ab] [compute_training_data_logloss] conpute logloss with predict_proba \n",
        "[RFmss10ne200-40Groups_7ac82f46-3dab-11e4-9872-5a1064dce9ab] [compute_training_data_logloss] logloss_value = 0.462899273453 "
       ]
      },
      {
       "output_type": "stream",
       "stream": "stdout",
       "text": [
        "\n",
        "[RFmss10ne200-40Groups_55b2f6c8-3dec-11e4-9872-5a1064dce9ab] [compute_training_data_logloss] conpute logloss with predict_proba \n",
        "[RFmss10ne200-40Groups_55b2f6c8-3dec-11e4-9872-5a1064dce9ab] [compute_training_data_logloss] logloss_value = 0.462732040458 "
       ]
      },
      {
       "output_type": "stream",
       "stream": "stdout",
       "text": [
        "\n",
        "[RFmss10ne200-40Groups_ae25dd7e-3d8e-11e4-9872-5a1064dce9ab] [compute_training_data_logloss] conpute logloss with predict_proba \n",
        "[RFmss10ne200-40Groups_ae25dd7e-3d8e-11e4-9872-5a1064dce9ab] [compute_training_data_logloss] logloss_value = 0.458803404375 "
       ]
      },
      {
       "output_type": "stream",
       "stream": "stdout",
       "text": [
        "\n",
        "[RFmss10ne200-40Groups_d2df0bd6-3d4d-11e4-9872-5a1064dce9ab] [compute_training_data_logloss] conpute logloss with predict_proba \n",
        "[RFmss10ne200-40Groups_d2df0bd6-3d4d-11e4-9872-5a1064dce9ab] [compute_training_data_logloss] logloss_value = 0.46047431352 "
       ]
      },
      {
       "output_type": "stream",
       "stream": "stdout",
       "text": [
        "\n",
        "[RFmss10ne200-40Groups_907fdfd2-3e50-11e4-9872-5a1064dce9ab] [compute_training_data_logloss] conpute logloss with predict_proba \n",
        "[RFmss10ne200-40Groups_907fdfd2-3e50-11e4-9872-5a1064dce9ab] [compute_training_data_logloss] logloss_value = 0.462923671467 "
       ]
      },
      {
       "output_type": "stream",
       "stream": "stdout",
       "text": [
        "\n",
        "[RFmss10ne200-40Groups_e947a10e-3ddd-11e4-9872-5a1064dce9ab] [compute_training_data_logloss] conpute logloss with predict_proba \n",
        "[RFmss10ne200-40Groups_e947a10e-3ddd-11e4-9872-5a1064dce9ab] [compute_training_data_logloss] logloss_value = 0.462266583621 "
       ]
      },
      {
       "output_type": "stream",
       "stream": "stdout",
       "text": [
        "\n",
        "[RFmss10ne200-40Groups_e5426c3e-3e5e-11e4-9872-5a1064dce9ab] [compute_training_data_logloss] conpute logloss with predict_proba \n",
        "[RFmss10ne200-40Groups_e5426c3e-3e5e-11e4-9872-5a1064dce9ab] [compute_training_data_logloss] logloss_value = 0.4612635537 "
       ]
      },
      {
       "output_type": "stream",
       "stream": "stdout",
       "text": [
        "\n",
        "[RFmss10ne200-40Groups_baf2be96-3e01-11e4-9872-5a1064dce9ab] [compute_training_data_logloss] conpute logloss with predict_proba \n",
        "[RFmss10ne200-40Groups_baf2be96-3e01-11e4-9872-5a1064dce9ab] [compute_training_data_logloss] logloss_value = 0.466651629973 "
       ]
      },
      {
       "output_type": "stream",
       "stream": "stdout",
       "text": [
        "\n",
        "[RFmss10ne200-40Groups_68685152-3e49-11e4-9872-5a1064dce9ab] [compute_training_data_logloss] conpute logloss with predict_proba \n",
        "[RFmss10ne200-40Groups_68685152-3e49-11e4-9872-5a1064dce9ab] [compute_training_data_logloss] logloss_value = 0.463281158782 "
       ]
      },
      {
       "output_type": "stream",
       "stream": "stdout",
       "text": [
        "\n",
        "[RFmss10ne200-40Groups_b93c14c4-3dd6-11e4-9872-5a1064dce9ab] [compute_training_data_logloss] conpute logloss with predict_proba \n",
        "[RFmss10ne200-40Groups_b93c14c4-3dd6-11e4-9872-5a1064dce9ab] [compute_training_data_logloss] logloss_value = 0.462476252772 "
       ]
      },
      {
       "output_type": "stream",
       "stream": "stdout",
       "text": [
        "\n",
        "[RFmss10ne200-40Groups_fe36e8da-3e33-11e4-9872-5a1064dce9ab] [compute_training_data_logloss] conpute logloss with predict_proba \n",
        "[RFmss10ne200-40Groups_fe36e8da-3e33-11e4-9872-5a1064dce9ab] [compute_training_data_logloss] logloss_value = 0.46179974763 "
       ]
      },
      {
       "output_type": "stream",
       "stream": "stdout",
       "text": [
        "\n",
        "[RFmss10ne200-40Groups_201f9140-3dc1-11e4-9872-5a1064dce9ab] [compute_training_data_logloss] conpute logloss with predict_proba \n",
        "[RFmss10ne200-40Groups_201f9140-3dc1-11e4-9872-5a1064dce9ab] [compute_training_data_logloss] logloss_value = 0.463509306495 "
       ]
      },
      {
       "output_type": "stream",
       "stream": "stdout",
       "text": [
        "\n",
        "[RFmss10ne200-40Groups_1a8089cc-3e3b-11e4-9872-5a1064dce9ab] [compute_training_data_logloss] conpute logloss with predict_proba \n",
        "[RFmss10ne200-40Groups_1a8089cc-3e3b-11e4-9872-5a1064dce9ab] [compute_training_data_logloss] logloss_value = 0.460537841409 "
       ]
      },
      {
       "output_type": "stream",
       "stream": "stdout",
       "text": [
        "\n",
        "[RFmss10ne200-40Groups_09180668-3e10-11e4-9872-5a1064dce9ab] [compute_training_data_logloss] conpute logloss with predict_proba \n",
        "[RFmss10ne200-40Groups_09180668-3e10-11e4-9872-5a1064dce9ab] [compute_training_data_logloss] logloss_value = 0.461794218504 "
       ]
      },
      {
       "output_type": "stream",
       "stream": "stdout",
       "text": [
        "\n",
        "[RFmss10ne200-40Groups_410053ac-3dc8-11e4-9872-5a1064dce9ab] [compute_training_data_logloss] conpute logloss with predict_proba \n",
        "[RFmss10ne200-40Groups_410053ac-3dc8-11e4-9872-5a1064dce9ab] [compute_training_data_logloss] logloss_value = 0.462673629993 "
       ]
      },
      {
       "output_type": "stream",
       "stream": "stdout",
       "text": [
        "\n",
        "[RFmss10ne200-40Groups_83f2b46a-3e1e-11e4-9872-5a1064dce9ab] [compute_training_data_logloss] conpute logloss with predict_proba \n",
        "[RFmss10ne200-40Groups_83f2b46a-3e1e-11e4-9872-5a1064dce9ab] [compute_training_data_logloss] logloss_value = 0.462235095009 "
       ]
      },
      {
       "output_type": "stream",
       "stream": "stdout",
       "text": [
        "\n",
        "[RFmss10ne200-40Groups_14f5ca92-3d9d-11e4-9872-5a1064dce9ab] [compute_training_data_logloss] conpute logloss with predict_proba \n",
        "[RFmss10ne200-40Groups_14f5ca92-3d9d-11e4-9872-5a1064dce9ab] [compute_training_data_logloss] logloss_value = 0.461611993311 "
       ]
      },
      {
       "output_type": "stream",
       "stream": "stdout",
       "text": [
        "\n",
        "[RFmss10ne200-40Groups_4315ad96-3da4-11e4-9872-5a1064dce9ab] [compute_training_data_logloss] conpute logloss with predict_proba \n",
        "[RFmss10ne200-40Groups_4315ad96-3da4-11e4-9872-5a1064dce9ab] [compute_training_data_logloss] logloss_value = 0.461762186258 "
       ]
      },
      {
       "output_type": "stream",
       "stream": "stdout",
       "text": [
        "\n",
        "[RFmss10ne200-40Groups_b627f178-3db2-11e4-9872-5a1064dce9ab] [compute_training_data_logloss] conpute logloss with predict_proba \n",
        "[RFmss10ne200-40Groups_b627f178-3db2-11e4-9872-5a1064dce9ab] [compute_training_data_logloss] logloss_value = 0.46207320179 "
       ]
      },
      {
       "output_type": "stream",
       "stream": "stdout",
       "text": [
        "\n",
        "[RFmss10ne200-40Groups_a67da8d0-3e25-11e4-9872-5a1064dce9ab] [compute_training_data_logloss] conpute logloss with predict_proba \n",
        "[RFmss10ne200-40Groups_a67da8d0-3e25-11e4-9872-5a1064dce9ab] [compute_training_data_logloss] logloss_value = 0.46161489972 "
       ]
      },
      {
       "output_type": "stream",
       "stream": "stdout",
       "text": [
        "\n",
        "[RFmss10ne200-40Groups_65274a7a-3e17-11e4-9872-5a1064dce9ab] [compute_training_data_logloss] conpute logloss with predict_proba \n",
        "[RFmss10ne200-40Groups_65274a7a-3e17-11e4-9872-5a1064dce9ab] [compute_training_data_logloss] logloss_value = 0.464385730649 "
       ]
      },
      {
       "output_type": "stream",
       "stream": "stdout",
       "text": [
        "\n",
        "[RFmss10ne200-40Groups_9a8d6d4c-3d46-11e4-9872-5a1064dce9ab] [compute_training_data_logloss] conpute logloss with predict_proba \n",
        "[RFmss10ne200-40Groups_9a8d6d4c-3d46-11e4-9872-5a1064dce9ab] [compute_training_data_logloss] logloss_value = 0.219140755822 "
       ]
      },
      {
       "output_type": "stream",
       "stream": "stdout",
       "text": [
        "\n",
        "[RFmss10ne200-40Groups_817e0644-3d6a-11e4-9872-5a1064dce9ab] [compute_training_data_logloss] conpute logloss with predict_proba \n",
        "[RFmss10ne200-40Groups_817e0644-3d6a-11e4-9872-5a1064dce9ab] [compute_training_data_logloss] logloss_value = 0.457805821109 "
       ]
      },
      {
       "output_type": "stream",
       "stream": "stdout",
       "text": [
        "\n",
        "[RFmss10ne200-40Groups_e7007d40-3db9-11e4-9872-5a1064dce9ab] [compute_training_data_logloss] conpute logloss with predict_proba \n",
        "[RFmss10ne200-40Groups_e7007d40-3db9-11e4-9872-5a1064dce9ab] [compute_training_data_logloss] logloss_value = 0.458523957222 "
       ]
      },
      {
       "output_type": "stream",
       "stream": "stdout",
       "text": [
        "\n",
        "[RFmss10ne200-40Groups_ba667b4c-3e57-11e4-9872-5a1064dce9ab] [compute_training_data_logloss] conpute logloss with predict_proba \n",
        "[RFmss10ne200-40Groups_ba667b4c-3e57-11e4-9872-5a1064dce9ab] [compute_training_data_logloss] logloss_value = 0.4616137353 "
       ]
      },
      {
       "output_type": "stream",
       "stream": "stdout",
       "text": [
        "\n",
        "[RFmss10ne200-40Groups_671fc284-3d87-11e4-9872-5a1064dce9ab] [compute_training_data_logloss] conpute logloss with predict_proba \n",
        "[RFmss10ne200-40Groups_671fc284-3d87-11e4-9872-5a1064dce9ab] [compute_training_data_logloss] logloss_value = 0.462127558072 "
       ]
      },
      {
       "output_type": "stream",
       "stream": "stdout",
       "text": [
        "\n",
        "[RFmss10ne200-40Groups_061893a0-3d80-11e4-9872-5a1064dce9ab] [compute_training_data_logloss] conpute logloss with predict_proba \n",
        "[RFmss10ne200-40Groups_061893a0-3d80-11e4-9872-5a1064dce9ab] [compute_training_data_logloss] logloss_value = 0.462459345007 "
       ]
      },
      {
       "output_type": "stream",
       "stream": "stdout",
       "text": [
        "\n",
        "[RFmss10ne200-40Groups_adeba392-3d71-11e4-9872-5a1064dce9ab] [compute_training_data_logloss] conpute logloss with predict_proba \n",
        "[RFmss10ne200-40Groups_adeba392-3d71-11e4-9872-5a1064dce9ab] [compute_training_data_logloss] logloss_value = 0.46114974252 "
       ]
      },
      {
       "output_type": "stream",
       "stream": "stdout",
       "text": [
        "\n",
        "[RFmss10ne200-40Groups_e5d1d7c6-3e08-11e4-9872-5a1064dce9ab] [compute_training_data_logloss] conpute logloss with predict_proba \n",
        "[RFmss10ne200-40Groups_e5d1d7c6-3e08-11e4-9872-5a1064dce9ab] [compute_training_data_logloss] logloss_value = 0.466160048267 "
       ]
      },
      {
       "output_type": "stream",
       "stream": "stdout",
       "text": [
        "\n",
        "[RFmss10ne200-40Groups_28456df0-3d5c-11e4-9872-5a1064dce9ab] [compute_training_data_logloss] conpute logloss with predict_proba \n",
        "[RFmss10ne200-40Groups_28456df0-3d5c-11e4-9872-5a1064dce9ab] [compute_training_data_logloss] logloss_value = 0.46144165621 "
       ]
      },
      {
       "output_type": "stream",
       "stream": "stdout",
       "text": [
        "\n",
        "[RFmss10ne200-40Groups_53e6a918-3d63-11e4-9872-5a1064dce9ab] [compute_training_data_logloss] conpute logloss with predict_proba \n",
        "[RFmss10ne200-40Groups_53e6a918-3d63-11e4-9872-5a1064dce9ab] [compute_training_data_logloss] logloss_value = 0.459879419614 "
       ]
      },
      {
       "output_type": "stream",
       "stream": "stdout",
       "text": [
        "\n",
        "[RFmss10ne200-40Groups_c98d873a-3e2c-11e4-9872-5a1064dce9ab] [compute_training_data_logloss] conpute logloss with predict_proba \n",
        "[RFmss10ne200-40Groups_c98d873a-3e2c-11e4-9872-5a1064dce9ab] [compute_training_data_logloss] logloss_value = 0.461778249695 "
       ]
      },
      {
       "output_type": "stream",
       "stream": "stdout",
       "text": [
        "\n",
        "[RFmss10ne200-40Groups_d5b12cc4-3d78-11e4-9872-5a1064dce9ab] [compute_training_data_logloss] conpute logloss with predict_proba \n",
        "[RFmss10ne200-40Groups_d5b12cc4-3d78-11e4-9872-5a1064dce9ab] [compute_training_data_logloss] logloss_value = 0.460780704744 "
       ]
      },
      {
       "output_type": "stream",
       "stream": "stdout",
       "text": [
        "\n"
       ]
      },
      {
       "metadata": {},
       "output_type": "pyout",
       "prompt_number": 11,
       "text": [
        "{'RFmss10ne200-40Groups_061893a0-3d80-11e4-9872-5a1064dce9ab': 0.46245934500669561,\n",
        " 'RFmss10ne200-40Groups_09180668-3e10-11e4-9872-5a1064dce9ab': 0.46179421850398888,\n",
        " 'RFmss10ne200-40Groups_14f5ca92-3d9d-11e4-9872-5a1064dce9ab': 0.46161199331126213,\n",
        " 'RFmss10ne200-40Groups_1a8089cc-3e3b-11e4-9872-5a1064dce9ab': 0.46053784140927795,\n",
        " 'RFmss10ne200-40Groups_1ef4e8dc-3de5-11e4-9872-5a1064dce9ab': 0.45998073963037789,\n",
        " 'RFmss10ne200-40Groups_201f9140-3dc1-11e4-9872-5a1064dce9ab': 0.46350930649505045,\n",
        " 'RFmss10ne200-40Groups_28456df0-3d5c-11e4-9872-5a1064dce9ab': 0.46144165620961497,\n",
        " 'RFmss10ne200-40Groups_410053ac-3dc8-11e4-9872-5a1064dce9ab': 0.46267362999268097,\n",
        " 'RFmss10ne200-40Groups_4315ad96-3da4-11e4-9872-5a1064dce9ab': 0.46176218625824239,\n",
        " 'RFmss10ne200-40Groups_44ea4f5c-3e42-11e4-9872-5a1064dce9ab': 0.46374715751156764,\n",
        " 'RFmss10ne200-40Groups_53e6a918-3d63-11e4-9872-5a1064dce9ab': 0.45987941961394141,\n",
        " 'RFmss10ne200-40Groups_55b2f6c8-3dec-11e4-9872-5a1064dce9ab': 0.46273204045848348,\n",
        " 'RFmss10ne200-40Groups_65274a7a-3e17-11e4-9872-5a1064dce9ab': 0.46438573064897426,\n",
        " 'RFmss10ne200-40Groups_671fc284-3d87-11e4-9872-5a1064dce9ab': 0.46212755807198824,\n",
        " 'RFmss10ne200-40Groups_68685152-3e49-11e4-9872-5a1064dce9ab': 0.4632811587819623,\n",
        " 'RFmss10ne200-40Groups_6d99e818-3dcf-11e4-9872-5a1064dce9ab': 0.46202126000013211,\n",
        " 'RFmss10ne200-40Groups_732cc740-3df3-11e4-9872-5a1064dce9ab': 0.46251308017284748,\n",
        " 'RFmss10ne200-40Groups_7ac82f46-3dab-11e4-9872-5a1064dce9ab': 0.46289927345331394,\n",
        " 'RFmss10ne200-40Groups_817e0644-3d6a-11e4-9872-5a1064dce9ab': 0.45780582110890156,\n",
        " 'RFmss10ne200-40Groups_83f2b46a-3e1e-11e4-9872-5a1064dce9ab': 0.46223509500948501,\n",
        " 'RFmss10ne200-40Groups_907fdfd2-3e50-11e4-9872-5a1064dce9ab': 0.46292367146712798,\n",
        " 'RFmss10ne200-40Groups_96e6dfac-3dfa-11e4-9872-5a1064dce9ab': 0.46216004231978769,\n",
        " 'RFmss10ne200-40Groups_9a8d6d4c-3d46-11e4-9872-5a1064dce9ab': 0.21914075582193163,\n",
        " 'RFmss10ne200-40Groups_a67da8d0-3e25-11e4-9872-5a1064dce9ab': 0.46161489972024433,\n",
        " 'RFmss10ne200-40Groups_adeba392-3d71-11e4-9872-5a1064dce9ab': 0.4611497425195682,\n",
        " 'RFmss10ne200-40Groups_ae25dd7e-3d8e-11e4-9872-5a1064dce9ab': 0.4588034043753566,\n",
        " 'RFmss10ne200-40Groups_b627f178-3db2-11e4-9872-5a1064dce9ab': 0.46207320179010863,\n",
        " 'RFmss10ne200-40Groups_b93c14c4-3dd6-11e4-9872-5a1064dce9ab': 0.46247625277245002,\n",
        " 'RFmss10ne200-40Groups_ba667b4c-3e57-11e4-9872-5a1064dce9ab': 0.46161373529969962,\n",
        " 'RFmss10ne200-40Groups_baf2be96-3e01-11e4-9872-5a1064dce9ab': 0.46665162997263132,\n",
        " 'RFmss10ne200-40Groups_c98d873a-3e2c-11e4-9872-5a1064dce9ab': 0.4617782496949363,\n",
        " 'RFmss10ne200-40Groups_d2df0bd6-3d4d-11e4-9872-5a1064dce9ab': 0.46047431352049056,\n",
        " 'RFmss10ne200-40Groups_d5b12cc4-3d78-11e4-9872-5a1064dce9ab': 0.4607807047442809,\n",
        " 'RFmss10ne200-40Groups_e1d006ca-3d95-11e4-9872-5a1064dce9ab': 0.46280725984289961,\n",
        " 'RFmss10ne200-40Groups_e5426c3e-3e5e-11e4-9872-5a1064dce9ab': 0.46126355370026884,\n",
        " 'RFmss10ne200-40Groups_e5d1d7c6-3e08-11e4-9872-5a1064dce9ab': 0.46616004826698093,\n",
        " 'RFmss10ne200-40Groups_e7007d40-3db9-11e4-9872-5a1064dce9ab': 0.45852395722232292,\n",
        " 'RFmss10ne200-40Groups_e947a10e-3ddd-11e4-9872-5a1064dce9ab': 0.46226658362075435,\n",
        " 'RFmss10ne200-40Groups_fe36e8da-3e33-11e4-9872-5a1064dce9ab': 0.4617997476297237,\n",
        " 'RFmss10ne200-40Groups_ffca52ca-3d54-11e4-9872-5a1064dce9ab': 0.4604453068728665}"
       ]
      }
     ],
     "prompt_number": 11
    },
    {
     "cell_type": "code",
     "collapsed": false,
     "input": [
      "barray_list = models_list.load_prediction_blz(datatype=\"training\", valuetype=\"predict_proba\")"
     ],
     "language": "python",
     "metadata": {},
     "outputs": [],
     "prompt_number": 12
    },
    {
     "cell_type": "code",
     "collapsed": false,
     "input": [
      "%time X0 = barray_list.select_all_barrays(select_slices=(slice(0,5000000,5),1))"
     ],
     "language": "python",
     "metadata": {},
     "outputs": [
      {
       "output_type": "stream",
       "stream": "stdout",
       "text": [
        "CPU times: user 4.57 s, sys: 1.98 s, total: 6.55 s\n",
        "Wall time: 5.34 s\n"
       ]
      }
     ],
     "prompt_number": 21
    },
    {
     "cell_type": "code",
     "collapsed": false,
     "input": [
      "%time X1 = barray_list.select_all_barrays(select_slices=(slice(1,5000000,5),1))"
     ],
     "language": "python",
     "metadata": {},
     "outputs": [
      {
       "output_type": "stream",
       "stream": "stdout",
       "text": [
        "CPU times: user 4.52 s, sys: 2.09 s, total: 6.61 s\n",
        "Wall time: 5.25 s\n"
       ]
      }
     ],
     "prompt_number": 18
    },
    {
     "cell_type": "code",
     "collapsed": false,
     "input": [
      "%time X2 = barray_list.select_all_barrays(select_slices=(slice(2,5000000,5),1))"
     ],
     "language": "python",
     "metadata": {},
     "outputs": [
      {
       "output_type": "stream",
       "stream": "stdout",
       "text": [
        "CPU times: user 4.59 s, sys: 2 s, total: 6.59 s\n",
        "Wall time: 5.29 s\n"
       ]
      }
     ],
     "prompt_number": 19
    },
    {
     "cell_type": "code",
     "collapsed": false,
     "input": [
      "%time X3 = barray_list.select_all_barrays(select_slices=(slice(3,5000000,5),1))"
     ],
     "language": "python",
     "metadata": {},
     "outputs": [
      {
       "output_type": "stream",
       "stream": "stdout",
       "text": [
        "CPU times: user 4.57 s, sys: 2 s, total: 6.57 s\n",
        "Wall time: 5.24 s\n"
       ]
      }
     ],
     "prompt_number": 20
    },
    {
     "cell_type": "code",
     "collapsed": false,
     "input": [
      "%time X4 = barray_list.select_all_barrays(select_slices=(slice(4,5000000,5),1))"
     ],
     "language": "python",
     "metadata": {},
     "outputs": [
      {
       "output_type": "stream",
       "stream": "stdout",
       "text": [
        "CPU times: user 4.54 s, sys: 1.98 s, total: 6.52 s\n",
        "Wall time: 5.16 s\n"
       ]
      }
     ],
     "prompt_number": 22
    },
    {
     "cell_type": "code",
     "collapsed": false,
     "input": [
      "X0.shape"
     ],
     "language": "python",
     "metadata": {},
     "outputs": [
      {
       "metadata": {},
       "output_type": "pyout",
       "prompt_number": 23,
       "text": [
        "(1000000, 40)"
       ]
      }
     ],
     "prompt_number": 23
    },
    {
     "cell_type": "code",
     "collapsed": false,
     "input": [
      "y0 = get_labels_barray(slice(0,5000000,5))\n",
      "y1 = get_labels_barray(slice(1,5000000,5))\n",
      "y2 = get_labels_barray(slice(2,5000000,5))\n",
      "y3 = get_labels_barray(slice(3,5000000,5))\n",
      "y4 = get_labels_barray(slice(4,5000000,5))"
     ],
     "language": "python",
     "metadata": {},
     "outputs": [],
     "prompt_number": 46
    },
    {
     "cell_type": "code",
     "collapsed": false,
     "input": [
      "y0"
     ],
     "language": "python",
     "metadata": {},
     "outputs": [
      {
       "metadata": {},
       "output_type": "pyout",
       "prompt_number": 29,
       "text": [
        "array([0, 0, 0, ..., 1, 0, 0])"
       ]
      }
     ],
     "prompt_number": 29
    },
    {
     "cell_type": "code",
     "collapsed": false,
     "input": [],
     "language": "python",
     "metadata": {},
     "outputs": []
    },
    {
     "cell_type": "code",
     "collapsed": false,
     "input": [
      "from sklearn.linear_model import SGDClassifier"
     ],
     "language": "python",
     "metadata": {},
     "outputs": [],
     "prompt_number": 38
    },
    {
     "cell_type": "code",
     "collapsed": false,
     "input": [
      "sgd = SGDClassifier(loss=\"log\")"
     ],
     "language": "python",
     "metadata": {},
     "outputs": [],
     "prompt_number": 39
    },
    {
     "cell_type": "code",
     "collapsed": false,
     "input": [
      "%time sgd.partial_fit(X0,y0,classes=[0,1])"
     ],
     "language": "python",
     "metadata": {},
     "outputs": [
      {
       "output_type": "stream",
       "stream": "stdout",
       "text": [
        "CPU times: user 493 ms, sys: 0 ns, total: 493 ms\n",
        "Wall time: 480 ms\n"
       ]
      },
      {
       "metadata": {},
       "output_type": "pyout",
       "prompt_number": 40,
       "text": [
        "SGDClassifier(alpha=0.0001, class_weight=None, epsilon=0.1, eta0=0.0,\n",
        "       fit_intercept=True, l1_ratio=0.15, learning_rate='optimal',\n",
        "       loss='log', n_iter=5, n_jobs=1, penalty='l2', power_t=0.5,\n",
        "       random_state=None, rho=None, shuffle=False, verbose=0,\n",
        "       warm_start=False)"
       ]
      }
     ],
     "prompt_number": 40
    },
    {
     "cell_type": "code",
     "collapsed": false,
     "input": [
      "print blz_llvec_fun(y0,sgd.predict_proba(X0)[:,1]).mean()\n",
      "print blz_llvec_fun(y1,sgd.predict_proba(X1)[:,1]).mean()\n",
      "print blz_llvec_fun(y2,sgd.predict_proba(X2)[:,1]).mean()\n",
      "print blz_llvec_fun(y3,sgd.predict_proba(X3)[:,1]).mean()\n",
      "print blz_llvec_fun(y4,sgd.predict_proba(X4)[:,1]).mean()"
     ],
     "language": "python",
     "metadata": {},
     "outputs": [
      {
       "output_type": "stream",
       "stream": "stdout",
       "text": [
        "0.0908761392207\n",
        "0.0908418247833"
       ]
      },
      {
       "output_type": "stream",
       "stream": "stdout",
       "text": [
        "\n",
        "0.0908527942403"
       ]
      },
      {
       "output_type": "stream",
       "stream": "stdout",
       "text": [
        "\n",
        "0.0910045990834"
       ]
      },
      {
       "output_type": "stream",
       "stream": "stdout",
       "text": [
        "\n",
        "0.0908781375603"
       ]
      },
      {
       "output_type": "stream",
       "stream": "stdout",
       "text": [
        "\n"
       ]
      }
     ],
     "prompt_number": 56
    },
    {
     "cell_type": "code",
     "collapsed": false,
     "input": [],
     "language": "python",
     "metadata": {},
     "outputs": [],
     "prompt_number": 52
    },
    {
     "cell_type": "code",
     "collapsed": false,
     "input": [],
     "language": "python",
     "metadata": {},
     "outputs": [],
     "prompt_number": 52
    },
    {
     "cell_type": "code",
     "collapsed": false,
     "input": [],
     "language": "python",
     "metadata": {},
     "outputs": [],
     "prompt_number": 48
    },
    {
     "cell_type": "code",
     "collapsed": false,
     "input": [
      "%time sgd.partial_fit(X4,y4)"
     ],
     "language": "python",
     "metadata": {},
     "outputs": [
      {
       "output_type": "stream",
       "stream": "stdout",
       "text": [
        "CPU times: user 495 ms, sys: 0 ns, total: 495 ms\n",
        "Wall time: 484 ms\n"
       ]
      },
      {
       "metadata": {},
       "output_type": "pyout",
       "prompt_number": 55,
       "text": [
        "SGDClassifier(alpha=0.0001, class_weight=None, epsilon=0.1, eta0=0.0,\n",
        "       fit_intercept=True, l1_ratio=0.15, learning_rate='optimal',\n",
        "       loss='log', n_iter=5, n_jobs=1, penalty='l2', power_t=0.5,\n",
        "       random_state=None, rho=None, shuffle=False, verbose=0,\n",
        "       warm_start=False)"
       ]
      }
     ],
     "prompt_number": 55
    },
    {
     "cell_type": "code",
     "collapsed": false,
     "input": [],
     "language": "python",
     "metadata": {},
     "outputs": [
      {
       "ename": "NotImplementedError",
       "evalue": "predict_(log_)proba only supported when loss='log' or loss='modified_huber' ('hinge' given)",
       "output_type": "pyerr",
       "traceback": [
        "\u001b[1;31m---------------------------------------------------------------------------\u001b[0m\n\u001b[1;31mNotImplementedError\u001b[0m                       Traceback (most recent call last)",
        "\u001b[1;32m<ipython-input-36-3cd96ddede6d>\u001b[0m in \u001b[0;36m<module>\u001b[1;34m()\u001b[0m\n\u001b[1;32m----> 1\u001b[1;33m \u001b[0mblz_llvec_fun\u001b[0m\u001b[1;33m(\u001b[0m\u001b[0my0\u001b[0m\u001b[1;33m,\u001b[0m\u001b[0msgd\u001b[0m\u001b[1;33m.\u001b[0m\u001b[0mpredict_proba\u001b[0m\u001b[1;33m(\u001b[0m\u001b[0mX0\u001b[0m\u001b[1;33m)\u001b[0m\u001b[1;33m[\u001b[0m\u001b[1;33m:\u001b[0m\u001b[1;33m,\u001b[0m\u001b[1;36m1\u001b[0m\u001b[1;33m]\u001b[0m\u001b[1;33m)\u001b[0m\u001b[1;33m\u001b[0m\u001b[0m\n\u001b[0m",
        "\u001b[1;32m/home/c3h3/.pyenv/versions/py27/lib/python2.7/site-packages/sklearn/linear_model/stochastic_gradient.pyc\u001b[0m in \u001b[0;36mpredict_proba\u001b[1;34m(self, X)\u001b[0m\n\u001b[0;32m    740\u001b[0m             raise NotImplementedError(\"predict_(log_)proba only supported when\"\n\u001b[0;32m    741\u001b[0m                                       \u001b[1;34m\" loss='log' or loss='modified_huber' \"\u001b[0m\u001b[1;33m\u001b[0m\u001b[0m\n\u001b[1;32m--> 742\u001b[1;33m                                       \"(%r given)\" % self.loss)\n\u001b[0m\u001b[0;32m    743\u001b[0m \u001b[1;33m\u001b[0m\u001b[0m\n\u001b[0;32m    744\u001b[0m     \u001b[1;32mdef\u001b[0m \u001b[0mpredict_log_proba\u001b[0m\u001b[1;33m(\u001b[0m\u001b[0mself\u001b[0m\u001b[1;33m,\u001b[0m \u001b[0mX\u001b[0m\u001b[1;33m)\u001b[0m\u001b[1;33m:\u001b[0m\u001b[1;33m\u001b[0m\u001b[0m\n",
        "\u001b[1;31mNotImplementedError\u001b[0m: predict_(log_)proba only supported when loss='log' or loss='modified_huber' ('hinge' given)"
       ]
      }
     ],
     "prompt_number": 36
    },
    {
     "cell_type": "code",
     "collapsed": false,
     "input": [],
     "language": "python",
     "metadata": {},
     "outputs": []
    },
    {
     "cell_type": "code",
     "collapsed": false,
     "input": [],
     "language": "python",
     "metadata": {},
     "outputs": []
    },
    {
     "cell_type": "code",
     "collapsed": false,
     "input": [],
     "language": "python",
     "metadata": {},
     "outputs": []
    },
    {
     "cell_type": "code",
     "collapsed": false,
     "input": [],
     "language": "python",
     "metadata": {},
     "outputs": []
    },
    {
     "cell_type": "code",
     "collapsed": false,
     "input": [],
     "language": "python",
     "metadata": {},
     "outputs": []
    },
    {
     "cell_type": "code",
     "collapsed": false,
     "input": [],
     "language": "python",
     "metadata": {},
     "outputs": []
    },
    {
     "cell_type": "code",
     "collapsed": false,
     "input": [
      "RF_MSS20_NE170_40GROUPS_PATH = os.path.join(os.path.join(SOURCE_DATA_IR, \"models\"))\n",
      "RF_MSS10_NE200_40GROUPS_PATH = os.path.join(os.path.join(SOURCE_DATA_IR, \"models\"))\n",
      "\n",
      "def get_rf_model_prediction_as_features(model_series=\"RFmss20ne170-40Groups\", \n",
      "                                        series_home=RF_MSS20_NE170_40GROUPS_PATH,\n",
      "                                        datatype=\"training\",\n",
      "                                        select_slice=(slice(0,5000000),1)):\n",
      "    rf_series = ModelSeries(series_name, series_home=rf_models_v1_models_path)\n",
      "    models_list = ModelsList(*rf_series.series_models)\n",
      "    barray_list = models_list.load_prediction_blz(datatype=\"training\", valuetype=\"predict_proba\")\n",
      "    return barray_list.select_all_barrays(select_slices=select_slice)\n",
      "\n",
      "\n",
      "def get_rf_v1_as_training_X():\n",
      "    return get_rf_model_prediction_as_features(model_series=\"RFmss20ne170-40Groups\", \n",
      "                                               series_home=RF_MSS20_NE170_40GROUPS_PATH,\n",
      "                                               select_slice=(slice(0,None,None),1))\n",
      "\n",
      "def get_rf_v2_as_training_X():\n",
      "    return get_rf_model_prediction_as_features(model_series=\"RFmss10ne200-40Groups\", \n",
      "                                               series_home=RF_MSS10_NE200_40GROUPS_PATH,\n",
      "                                               select_slice=(slice(0,None,None),1))\n",
      "\n",
      "\n",
      "def get_rf_v1_as_testing_X():\n",
      "    return get_rf_model_prediction_as_features(model_series=\"RFmss20ne170-40Groups\", \n",
      "                                               series_home=RF_MSS20_NE170_40GROUPS_PATH,\n",
      "                                               datatype=\"testing\",\n",
      "                                               select_slice=(slice(0,None,None),1))\n",
      "\n",
      "def get_rf_v2_as_testing_X():\n",
      "    return get_rf_model_prediction_as_features(model_series=\"RFmss10ne200-40Groups\", \n",
      "                                               series_home=RF_MSS10_NE200_40GROUPS_PATH,\n",
      "                                               datatype=\"testing\",\n",
      "                                               select_slice=(slice(0,None,None),1))\n",
      "\n",
      "\n",
      "    \n",
      "\n"
     ],
     "language": "python",
     "metadata": {},
     "outputs": []
    },
    {
     "cell_type": "code",
     "collapsed": false,
     "input": [],
     "language": "python",
     "metadata": {},
     "outputs": []
    },
    {
     "cell_type": "code",
     "collapsed": false,
     "input": [
      "%time barr = barray_list.select_and_apply(limit_n_per_slice = 1000000)"
     ],
     "language": "python",
     "metadata": {},
     "outputs": [
      {
       "output_type": "stream",
       "stream": "stdout",
       "text": [
        "selected_slices =  [(slice(0, 863163, None), slice(1, 2, None)), (slice(863163, 1726326, None), slice(1, 2, None)), (slice(1726326, 2589489, None), slice(1, 2, None)), (slice(2589489, 3452652, None), slice(1, 2, None)), (slice(3452652, 4315815, None), slice(1, 2, None)), (slice(4315815, 5178978, None), slice(1, 2, None)), (slice(5178978, 6042135, None), slice(1, 2, None))]\n",
        "applying one_selected_slices = "
       ]
      },
      {
       "output_type": "stream",
       "stream": "stdout",
       "text": [
        " (slice(863163, 1726326, None), slice(1, 2, None))\n",
        "applying one_selected_slices = "
       ]
      },
      {
       "output_type": "stream",
       "stream": "stdout",
       "text": [
        " (slice(1726326, 2589489, None), slice(1, 2, None))\n",
        "applying one_selected_slices = "
       ]
      },
      {
       "output_type": "stream",
       "stream": "stdout",
       "text": [
        " (slice(2589489, 3452652, None), slice(1, 2, None))\n",
        "applying one_selected_slices = "
       ]
      },
      {
       "output_type": "stream",
       "stream": "stdout",
       "text": [
        " (slice(3452652, 4315815, None), slice(1, 2, None))\n",
        "applying one_selected_slices = "
       ]
      },
      {
       "output_type": "stream",
       "stream": "stdout",
       "text": [
        " (slice(4315815, 5178978, None), slice(1, 2, None))\n",
        "applying one_selected_slices = "
       ]
      },
      {
       "output_type": "stream",
       "stream": "stdout",
       "text": [
        " (slice(5178978, 6042135, None), slice(1, 2, None))\n",
        "CPU times: user 16 s, sys: 14.1 s, total: 30.1 s"
       ]
      },
      {
       "output_type": "stream",
       "stream": "stdout",
       "text": [
        "\n",
        "Wall time: 4min 23s\n"
       ]
      }
     ],
     "prompt_number": 11
    },
    {
     "cell_type": "code",
     "collapsed": false,
     "input": [
      "barr"
     ],
     "language": "python",
     "metadata": {},
     "outputs": [
      {
       "metadata": {},
       "output_type": "pyout",
       "prompt_number": 12,
       "text": [
        "barray((6042135,), float64)\n",
        "  nbytes: 46.10 MB; cbytes: 40.52 MB; ratio: 1.14\n",
        "  bparams := bparams(clevel=5, shuffle=True, cname=blosclz)\n",
        "[ 0.14339536  0.27055179  0.32432793 ...,  0.34363689  0.1364514\n",
        "  0.27794913]"
       ]
      }
     ],
     "prompt_number": 12
    },
    {
     "cell_type": "code",
     "collapsed": false,
     "input": [],
     "language": "python",
     "metadata": {},
     "outputs": []
    },
    {
     "cell_type": "code",
     "collapsed": false,
     "input": [
      "prediction_prob = barr\n",
      "submit_format=\"%d,%.10f\"\n",
      "ids_barray = blz.open(os.path.join(tools.TESTING_BLZ_PATH,TESTING_COLUMN_NAMES[0]))\n",
      "bt = blz.btable(columns=[ids_barray,prediction_prob], names=[\"Id\",\"Predicted\"])\n",
      "all_results = [submit_format % tuple(xx) for xx in bt.iter()]\n",
      "all_results_string = \"\\n\".join([\",\".join(bt.names)] + all_results)\n",
      "        \n",
      "submit_filename = \"%s_%s.csv\" % (\"avg_40_rf_models_v2\", datetime.datetime.now().strftime(\"%Y%m%d%H%M%S\"))\n",
      "        \n",
      "submit_filepath = os.path.join(SUBMITS_PATH,submit_filename)\n",
      "        \n",
      "with open(submit_filepath,\"w\") as wf:\n",
      "    wf.write(all_results_string)"
     ],
     "language": "python",
     "metadata": {},
     "outputs": [],
     "prompt_number": 13
    },
    {
     "cell_type": "code",
     "collapsed": false,
     "input": [],
     "language": "python",
     "metadata": {},
     "outputs": []
    },
    {
     "cell_type": "code",
     "collapsed": false,
     "input": [],
     "language": "python",
     "metadata": {},
     "outputs": []
    },
    {
     "cell_type": "code",
     "collapsed": false,
     "input": [],
     "language": "python",
     "metadata": {},
     "outputs": []
    },
    {
     "cell_type": "code",
     "collapsed": false,
     "input": [],
     "language": "python",
     "metadata": {},
     "outputs": []
    },
    {
     "cell_type": "code",
     "collapsed": false,
     "input": [],
     "language": "python",
     "metadata": {},
     "outputs": []
    },
    {
     "cell_type": "code",
     "collapsed": false,
     "input": [],
     "language": "python",
     "metadata": {},
     "outputs": []
    },
    {
     "cell_type": "code",
     "collapsed": false,
     "input": [],
     "language": "python",
     "metadata": {},
     "outputs": []
    },
    {
     "cell_type": "code",
     "collapsed": false,
     "input": [
      "barray_list.generate_axis_dividing_slice_selectors()"
     ],
     "language": "python",
     "metadata": {},
     "outputs": [
      {
       "metadata": {},
       "output_type": "pyout",
       "prompt_number": 397,
       "text": [
        "[(slice(0, 1993071, None), slice(1, 2, None)),\n",
        " (slice(1993071, 3986142, None), slice(1, 2, None)),\n",
        " (slice(3986142, 5979213, None), slice(1, 2, None)),\n",
        " (slice(5979213, 7972284, None), slice(1, 2, None)),\n",
        " (slice(7972284, 9965355, None), slice(1, 2, None)),\n",
        " (slice(9965355, 11958426, None), slice(1, 2, None)),\n",
        " (slice(11958426, 13951497, None), slice(1, 2, None)),\n",
        " (slice(13951497, 15944568, None), slice(1, 2, None)),\n",
        " (slice(15944568, 17937639, None), slice(1, 2, None)),\n",
        " (slice(17937639, 19930710, None), slice(1, 2, None)),\n",
        " (slice(19930710, 21923781, None), slice(1, 2, None)),\n",
        " (slice(21923781, 23916852, None), slice(1, 2, None)),\n",
        " (slice(23916852, 25909923, None), slice(1, 2, None)),\n",
        " (slice(25909923, 27902994, None), slice(1, 2, None)),\n",
        " (slice(27902994, 29896065, None), slice(1, 2, None)),\n",
        " (slice(29896065, 31889136, None), slice(1, 2, None)),\n",
        " (slice(31889136, 33882207, None), slice(1, 2, None)),\n",
        " (slice(33882207, 35875278, None), slice(1, 2, None)),\n",
        " (slice(35875278, 37868349, None), slice(1, 2, None)),\n",
        " (slice(37868349, 39861420, None), slice(1, 2, None)),\n",
        " (slice(39861420, 41854491, None), slice(1, 2, None)),\n",
        " (slice(41854491, 43847562, None), slice(1, 2, None)),\n",
        " (slice(43847562, 45840617, None), slice(1, 2, None))]"
       ]
      }
     ],
     "prompt_number": 397
    },
    {
     "cell_type": "code",
     "collapsed": false,
     "input": [
      "one_slice = barray_list.divide_axis_into_eqaul_size_slices(0, limit_n_per_slice=2000000)[0]"
     ],
     "language": "python",
     "metadata": {},
     "outputs": [],
     "prompt_number": 358
    },
    {
     "cell_type": "code",
     "collapsed": false,
     "input": [
      "one_slice"
     ],
     "language": "python",
     "metadata": {},
     "outputs": [
      {
       "metadata": {},
       "output_type": "pyout",
       "prompt_number": 359,
       "text": [
        "slice(0, 1993071, None)"
       ]
      }
     ],
     "prompt_number": 359
    },
    {
     "cell_type": "code",
     "collapsed": false,
     "input": [
      "%time com_arr = barray_list.select_all_barrays((one_slice,1))"
     ],
     "language": "python",
     "metadata": {},
     "outputs": [
      {
       "output_type": "stream",
       "stream": "stdout",
       "text": [
        "CPU times: user 1.61 s, sys: 791 ms, total: 2.4 s\n",
        "Wall time: 1.78 s\n"
       ]
      }
     ],
     "prompt_number": 362
    },
    {
     "cell_type": "code",
     "collapsed": false,
     "input": [
      "com_arr.shape"
     ],
     "language": "python",
     "metadata": {},
     "outputs": [
      {
       "metadata": {},
       "output_type": "pyout",
       "prompt_number": 363,
       "text": [
        "(1993071, 28)"
       ]
      }
     ],
     "prompt_number": 363
    },
    {
     "cell_type": "code",
     "collapsed": false,
     "input": [
      "%time np.dot(com_arr,np.ones(com_arr.shape[1]) / com_arr.shape[1])"
     ],
     "language": "python",
     "metadata": {},
     "outputs": [
      {
       "output_type": "stream",
       "stream": "stdout",
       "text": [
        "CPU times: user 64.3 ms, sys: 1.03 ms, total: 65.3 ms\n",
        "Wall time: 65 ms\n"
       ]
      },
      {
       "metadata": {},
       "output_type": "pyout",
       "prompt_number": 368,
       "text": [
        "array([ 0.37883865,  0.16200219,  0.2760789 , ...,  0.18235488,\n",
        "        0.1735119 ,  0.21696359])"
       ]
      }
     ],
     "prompt_number": 368
    },
    {
     "cell_type": "code",
     "collapsed": false,
     "input": [
      "%time com_arr.mean(1)"
     ],
     "language": "python",
     "metadata": {},
     "outputs": [
      {
       "output_type": "stream",
       "stream": "stdout",
       "text": [
        "CPU times: user 59.5 ms, sys: 1.43 ms, total: 60.9 ms\n",
        "Wall time: 60.4 ms\n"
       ]
      },
      {
       "metadata": {},
       "output_type": "pyout",
       "prompt_number": 369,
       "text": [
        "array([ 0.37883865,  0.16200219,  0.2760789 , ...,  0.18235488,\n",
        "        0.1735119 ,  0.21696359])"
       ]
      }
     ],
     "prompt_number": 369
    },
    {
     "cell_type": "code",
     "collapsed": false,
     "input": [],
     "language": "python",
     "metadata": {},
     "outputs": []
    },
    {
     "cell_type": "code",
     "collapsed": false,
     "input": [],
     "language": "python",
     "metadata": {},
     "outputs": []
    },
    {
     "cell_type": "code",
     "collapsed": false,
     "input": [
      "#%time con_arr = np.c_[barray_list.select_all_barrays(one_slice,1)]"
     ],
     "language": "python",
     "metadata": {},
     "outputs": [],
     "prompt_number": 328
    },
    {
     "cell_type": "code",
     "collapsed": false,
     "input": [
      "con_arr.shape"
     ],
     "language": "python",
     "metadata": {},
     "outputs": [
      {
       "metadata": {},
       "output_type": "pyout",
       "prompt_number": 333,
       "text": [
        "(996536, 28)"
       ]
      }
     ],
     "prompt_number": 333
    },
    {
     "cell_type": "code",
     "collapsed": false,
     "input": [
      "con_arr.mean(1).shape"
     ],
     "language": "python",
     "metadata": {},
     "outputs": [
      {
       "metadata": {},
       "output_type": "pyout",
       "prompt_number": 334,
       "text": [
        "(996536,)"
       ]
      }
     ],
     "prompt_number": 334
    },
    {
     "cell_type": "code",
     "collapsed": false,
     "input": [
      "con_arr.mean(1)"
     ],
     "language": "python",
     "metadata": {},
     "outputs": [
      {
       "metadata": {},
       "output_type": "pyout",
       "prompt_number": 335,
       "text": [
        "array([ 0.37883865,  0.16200219,  0.2760789 , ...,  0.09601189,\n",
        "        0.13123739,  0.5249712 ])"
       ]
      }
     ],
     "prompt_number": 335
    },
    {
     "cell_type": "code",
     "collapsed": false,
     "input": [],
     "language": "python",
     "metadata": {},
     "outputs": [],
     "prompt_number": 326
    },
    {
     "cell_type": "code",
     "collapsed": false,
     "input": [],
     "language": "python",
     "metadata": {},
     "outputs": []
    },
    {
     "cell_type": "code",
     "collapsed": false,
     "input": [],
     "language": "python",
     "metadata": {},
     "outputs": []
    },
    {
     "cell_type": "code",
     "collapsed": false,
     "input": [
      "barray_list.select_all_barrays()"
     ],
     "language": "python",
     "metadata": {},
     "outputs": [
      {
       "ename": "NameError",
       "evalue": "name 'barray_list' is not defined",
       "output_type": "pyerr",
       "traceback": [
        "\u001b[1;31m---------------------------------------------------------------------------\u001b[0m\n\u001b[1;31mNameError\u001b[0m                                 Traceback (most recent call last)",
        "\u001b[1;32m<ipython-input-1-53b404108a2c>\u001b[0m in \u001b[0;36m<module>\u001b[1;34m()\u001b[0m\n\u001b[1;32m----> 1\u001b[1;33m \u001b[0mbarray_list\u001b[0m\u001b[1;33m.\u001b[0m\u001b[0mselect_all_barrays\u001b[0m\u001b[1;33m(\u001b[0m\u001b[1;33m)\u001b[0m\u001b[1;33m\u001b[0m\u001b[0m\n\u001b[0m",
        "\u001b[1;31mNameError\u001b[0m: name 'barray_list' is not defined"
       ]
      }
     ],
     "prompt_number": 1
    },
    {
     "cell_type": "code",
     "collapsed": false,
     "input": [],
     "language": "python",
     "metadata": {},
     "outputs": [],
     "prompt_number": 138
    },
    {
     "cell_type": "code",
     "collapsed": false,
     "input": [],
     "language": "python",
     "metadata": {},
     "outputs": []
    },
    {
     "cell_type": "code",
     "collapsed": false,
     "input": [
      "from math import log"
     ],
     "language": "python",
     "metadata": {},
     "outputs": [],
     "prompt_number": 70
    },
    {
     "cell_type": "code",
     "collapsed": false,
     "input": [
      "logloss_eval = lambda y,p, eps=1e-15: -y*log(min(max(p,eps),1-eps)) - (1-y)*log(1-min(max(p,eps),1-eps))"
     ],
     "language": "python",
     "metadata": {},
     "outputs": [],
     "prompt_number": 94
    },
    {
     "cell_type": "code",
     "collapsed": false,
     "input": [
      "np.linspace(0,1,11)"
     ],
     "language": "python",
     "metadata": {},
     "outputs": [
      {
       "metadata": {},
       "output_type": "pyout",
       "prompt_number": 95,
       "text": [
        "array([ 0. ,  0.1,  0.2,  0.3,  0.4,  0.5,  0.6,  0.7,  0.8,  0.9,  1. ])"
       ]
      }
     ],
     "prompt_number": 95
    },
    {
     "cell_type": "code",
     "collapsed": false,
     "input": [
      "p2=0.3\n",
      "p1=0.7"
     ],
     "language": "python",
     "metadata": {},
     "outputs": [],
     "prompt_number": 128
    },
    {
     "cell_type": "code",
     "collapsed": false,
     "input": [
      "(logloss_eval(1,p1) - logloss_eval(1,p2)), (logloss_eval(0,p1) - logloss_eval(0,p2))"
     ],
     "language": "python",
     "metadata": {},
     "outputs": [
      {
       "metadata": {},
       "output_type": "pyout",
       "prompt_number": 129,
       "text": [
        "(-0.8472978603872037, 0.8472978603872034)"
       ]
      }
     ],
     "prompt_number": 129
    },
    {
     "cell_type": "code",
     "collapsed": false,
     "input": [],
     "language": "python",
     "metadata": {},
     "outputs": []
    },
    {
     "cell_type": "code",
     "collapsed": false,
     "input": [
      "np.concatenate(barray_list.select_all_barrays(slice(4,10),1),1).shape"
     ],
     "language": "python",
     "metadata": {},
     "outputs": [
      {
       "metadata": {},
       "output_type": "pyout",
       "prompt_number": 57,
       "text": [
        "(6, 28)"
       ]
      }
     ],
     "prompt_number": 57
    },
    {
     "cell_type": "code",
     "collapsed": false,
     "input": [
      "np.c_[barray_list[0][barray_list.select(slice(4,10),1)],barray_list[1][barray_list.select(slice(4,10),1)]]"
     ],
     "language": "python",
     "metadata": {},
     "outputs": [
      {
       "metadata": {},
       "output_type": "pyout",
       "prompt_number": 34,
       "text": [
        "array([[ 0.39258165,  0.35301869],\n",
        "       [ 0.16120944,  0.10348338],\n",
        "       [ 0.16869803,  0.18707696],\n",
        "       [ 0.48444017,  0.5618772 ],\n",
        "       [ 0.09760631,  0.0973686 ],\n",
        "       [ 0.39725577,  0.42093928]])"
       ]
      }
     ],
     "prompt_number": 34
    },
    {
     "cell_type": "code",
     "collapsed": false,
     "input": [
      "barray_list[0][(slice(1,10,None),1)]"
     ],
     "language": "python",
     "metadata": {},
     "outputs": [
      {
       "metadata": {},
       "output_type": "pyout",
       "prompt_number": 26,
       "text": [
        "array([ 0.18297656,  0.29312695,  0.18910477,  0.39258165,  0.16120944,\n",
        "        0.16869803,  0.48444017,  0.09760631,  0.39725577])"
       ]
      }
     ],
     "prompt_number": 26
    },
    {
     "cell_type": "code",
     "collapsed": false,
     "input": [
      "barray_list[0][slice(0,1000,None),slice(1,2,None)]"
     ],
     "language": "python",
     "metadata": {},
     "outputs": [
      {
       "ename": "NameError",
       "evalue": "name 'barray_list' is not defined",
       "output_type": "pyerr",
       "traceback": [
        "\u001b[1;31m---------------------------------------------------------------------------\u001b[0m\n\u001b[1;31mNameError\u001b[0m                                 Traceback (most recent call last)",
        "\u001b[1;32m<ipython-input-16-f58712623446>\u001b[0m in \u001b[0;36m<module>\u001b[1;34m()\u001b[0m\n\u001b[1;32m----> 1\u001b[1;33m \u001b[0mbarray_list\u001b[0m\u001b[1;33m[\u001b[0m\u001b[1;36m0\u001b[0m\u001b[1;33m]\u001b[0m\u001b[1;33m[\u001b[0m\u001b[0mslice\u001b[0m\u001b[1;33m(\u001b[0m\u001b[1;36m0\u001b[0m\u001b[1;33m,\u001b[0m\u001b[1;36m1000\u001b[0m\u001b[1;33m,\u001b[0m\u001b[0mNone\u001b[0m\u001b[1;33m)\u001b[0m\u001b[1;33m,\u001b[0m\u001b[0mslice\u001b[0m\u001b[1;33m(\u001b[0m\u001b[1;36m1\u001b[0m\u001b[1;33m,\u001b[0m\u001b[1;36m2\u001b[0m\u001b[1;33m,\u001b[0m\u001b[0mNone\u001b[0m\u001b[1;33m)\u001b[0m\u001b[1;33m]\u001b[0m\u001b[1;33m\u001b[0m\u001b[0m\n\u001b[0m",
        "\u001b[1;31mNameError\u001b[0m: name 'barray_list' is not defined"
       ]
      }
     ],
     "prompt_number": 16
    },
    {
     "cell_type": "code",
     "collapsed": false,
     "input": [],
     "language": "python",
     "metadata": {},
     "outputs": [],
     "prompt_number": 16
    },
    {
     "cell_type": "code",
     "collapsed": false,
     "input": [
      "total_n = blz.open(os.path.join(tools.TRAINING_BLZ_PATH,TRAINING_COLUMN_NAMES[0])).shape[0]\n",
      "m_groups = 40\n",
      "dived_n = total_n / m_groups if total_n % m_groups == 0 else total_n / m_groups + 1\n",
      "training_data_slices = map(lambda xx:slice(*xx),tools.get_separation_pairs(total_n,dived_n))\n"
     ],
     "language": "python",
     "metadata": {},
     "outputs": [],
     "prompt_number": 17
    },
    {
     "cell_type": "code",
     "collapsed": false,
     "input": [
      "training_data_slices"
     ],
     "language": "python",
     "metadata": {},
     "outputs": [
      {
       "metadata": {},
       "output_type": "pyout",
       "prompt_number": 18,
       "text": [
        "[slice(0, 1146016, None),\n",
        " slice(1146016, 2292032, None),\n",
        " slice(2292032, 3438048, None),\n",
        " slice(3438048, 4584064, None),\n",
        " slice(4584064, 5730080, None),\n",
        " slice(5730080, 6876096, None),\n",
        " slice(6876096, 8022112, None),\n",
        " slice(8022112, 9168128, None),\n",
        " slice(9168128, 10314144, None),\n",
        " slice(10314144, 11460160, None),\n",
        " slice(11460160, 12606176, None),\n",
        " slice(12606176, 13752192, None),\n",
        " slice(13752192, 14898208, None),\n",
        " slice(14898208, 16044224, None),\n",
        " slice(16044224, 17190240, None),\n",
        " slice(17190240, 18336256, None),\n",
        " slice(18336256, 19482272, None),\n",
        " slice(19482272, 20628288, None),\n",
        " slice(20628288, 21774304, None),\n",
        " slice(21774304, 22920320, None),\n",
        " slice(22920320, 24066336, None),\n",
        " slice(24066336, 25212352, None),\n",
        " slice(25212352, 26358368, None),\n",
        " slice(26358368, 27504384, None),\n",
        " slice(27504384, 28650400, None),\n",
        " slice(28650400, 29796416, None),\n",
        " slice(29796416, 30942432, None),\n",
        " slice(30942432, 32088448, None),\n",
        " slice(32088448, 33234464, None),\n",
        " slice(33234464, 34380480, None),\n",
        " slice(34380480, 35526496, None),\n",
        " slice(35526496, 36672512, None),\n",
        " slice(36672512, 37818528, None),\n",
        " slice(37818528, 38964544, None),\n",
        " slice(38964544, 40110560, None),\n",
        " slice(40110560, 41256576, None),\n",
        " slice(41256576, 42402592, None),\n",
        " slice(42402592, 43548608, None),\n",
        " slice(43548608, 44694624, None),\n",
        " slice(44694624, 45840617, None)]"
       ]
      }
     ],
     "prompt_number": 18
    },
    {
     "cell_type": "code",
     "collapsed": false,
     "input": [
      "avg_models"
     ],
     "language": "python",
     "metadata": {},
     "outputs": [
      {
       "ename": "NameError",
       "evalue": "name 'avg_models' is not defined",
       "output_type": "pyerr",
       "traceback": [
        "\u001b[1;31m---------------------------------------------------------------------------\u001b[0m\n\u001b[1;31mNameError\u001b[0m                                 Traceback (most recent call last)",
        "\u001b[1;32m<ipython-input-19-1c6c3a541322>\u001b[0m in \u001b[0;36m<module>\u001b[1;34m()\u001b[0m\n\u001b[1;32m----> 1\u001b[1;33m \u001b[0mavg_models\u001b[0m\u001b[1;33m\u001b[0m\u001b[0m\n\u001b[0m",
        "\u001b[1;31mNameError\u001b[0m: name 'avg_models' is not defined"
       ]
      }
     ],
     "prompt_number": 19
    },
    {
     "cell_type": "code",
     "collapsed": false,
     "input": [],
     "language": "python",
     "metadata": {},
     "outputs": [],
     "prompt_number": 19
    },
    {
     "cell_type": "code",
     "collapsed": false,
     "input": [
      "rf_models_v1_models_path = os.path.join(os.path.join(SOURCE_DATA_DIR, \"rf_models_v1\"))\n",
      "rf_series = ModelSeries(series_name=\"RFmss10ne200-40Groups\", series_home=rf_models_v1_models_path)"
     ],
     "language": "python",
     "metadata": {},
     "outputs": [],
     "prompt_number": 20
    },
    {
     "cell_type": "code",
     "collapsed": false,
     "input": [
      "map(lambda xx:xx.model_path,rf_series.series_models)"
     ],
     "language": "python",
     "metadata": {},
     "outputs": [
      {
       "metadata": {},
       "output_type": "pyout",
       "prompt_number": 21,
       "text": [
        "['/home/c3h3/c3h3works/Kaggles/GithubRepos/DisplayAdvertisingChallenge/data/rf_models_v1/RFmss10ne200-40Groups_ffca52ca-3d54-11e4-9872-5a1064dce9ab',\n",
        " '/home/c3h3/c3h3works/Kaggles/GithubRepos/DisplayAdvertisingChallenge/data/rf_models_v1/RFmss10ne200-40Groups_96e6dfac-3dfa-11e4-9872-5a1064dce9ab',\n",
        " '/home/c3h3/c3h3works/Kaggles/GithubRepos/DisplayAdvertisingChallenge/data/rf_models_v1/RFmss10ne200-40Groups_1ef4e8dc-3de5-11e4-9872-5a1064dce9ab',\n",
        " '/home/c3h3/c3h3works/Kaggles/GithubRepos/DisplayAdvertisingChallenge/data/rf_models_v1/RFmss10ne200-40Groups_6d99e818-3dcf-11e4-9872-5a1064dce9ab',\n",
        " '/home/c3h3/c3h3works/Kaggles/GithubRepos/DisplayAdvertisingChallenge/data/rf_models_v1/RFmss10ne200-40Groups_732cc740-3df3-11e4-9872-5a1064dce9ab',\n",
        " '/home/c3h3/c3h3works/Kaggles/GithubRepos/DisplayAdvertisingChallenge/data/rf_models_v1/RFmss10ne200-40Groups_e1d006ca-3d95-11e4-9872-5a1064dce9ab',\n",
        " '/home/c3h3/c3h3works/Kaggles/GithubRepos/DisplayAdvertisingChallenge/data/rf_models_v1/RFmss10ne200-40Groups_7ac82f46-3dab-11e4-9872-5a1064dce9ab',\n",
        " '/home/c3h3/c3h3works/Kaggles/GithubRepos/DisplayAdvertisingChallenge/data/rf_models_v1/RFmss10ne200-40Groups_55b2f6c8-3dec-11e4-9872-5a1064dce9ab',\n",
        " '/home/c3h3/c3h3works/Kaggles/GithubRepos/DisplayAdvertisingChallenge/data/rf_models_v1/RFmss10ne200-40Groups_ae25dd7e-3d8e-11e4-9872-5a1064dce9ab',\n",
        " '/home/c3h3/c3h3works/Kaggles/GithubRepos/DisplayAdvertisingChallenge/data/rf_models_v1/RFmss10ne200-40Groups_d2df0bd6-3d4d-11e4-9872-5a1064dce9ab',\n",
        " '/home/c3h3/c3h3works/Kaggles/GithubRepos/DisplayAdvertisingChallenge/data/rf_models_v1/RFmss10ne200-40Groups_e947a10e-3ddd-11e4-9872-5a1064dce9ab',\n",
        " '/home/c3h3/c3h3works/Kaggles/GithubRepos/DisplayAdvertisingChallenge/data/rf_models_v1/RFmss10ne200-40Groups_baf2be96-3e01-11e4-9872-5a1064dce9ab',\n",
        " '/home/c3h3/c3h3works/Kaggles/GithubRepos/DisplayAdvertisingChallenge/data/rf_models_v1/RFmss10ne200-40Groups_b93c14c4-3dd6-11e4-9872-5a1064dce9ab',\n",
        " '/home/c3h3/c3h3works/Kaggles/GithubRepos/DisplayAdvertisingChallenge/data/rf_models_v1/RFmss10ne200-40Groups_201f9140-3dc1-11e4-9872-5a1064dce9ab',\n",
        " '/home/c3h3/c3h3works/Kaggles/GithubRepos/DisplayAdvertisingChallenge/data/rf_models_v1/RFmss10ne200-40Groups_410053ac-3dc8-11e4-9872-5a1064dce9ab',\n",
        " '/home/c3h3/c3h3works/Kaggles/GithubRepos/DisplayAdvertisingChallenge/data/rf_models_v1/RFmss10ne200-40Groups_14f5ca92-3d9d-11e4-9872-5a1064dce9ab',\n",
        " '/home/c3h3/c3h3works/Kaggles/GithubRepos/DisplayAdvertisingChallenge/data/rf_models_v1/RFmss10ne200-40Groups_4315ad96-3da4-11e4-9872-5a1064dce9ab',\n",
        " '/home/c3h3/c3h3works/Kaggles/GithubRepos/DisplayAdvertisingChallenge/data/rf_models_v1/RFmss10ne200-40Groups_b627f178-3db2-11e4-9872-5a1064dce9ab',\n",
        " '/home/c3h3/c3h3works/Kaggles/GithubRepos/DisplayAdvertisingChallenge/data/rf_models_v1/RFmss10ne200-40Groups_9a8d6d4c-3d46-11e4-9872-5a1064dce9ab',\n",
        " '/home/c3h3/c3h3works/Kaggles/GithubRepos/DisplayAdvertisingChallenge/data/rf_models_v1/RFmss10ne200-40Groups_817e0644-3d6a-11e4-9872-5a1064dce9ab',\n",
        " '/home/c3h3/c3h3works/Kaggles/GithubRepos/DisplayAdvertisingChallenge/data/rf_models_v1/RFmss10ne200-40Groups_e7007d40-3db9-11e4-9872-5a1064dce9ab',\n",
        " '/home/c3h3/c3h3works/Kaggles/GithubRepos/DisplayAdvertisingChallenge/data/rf_models_v1/RFmss10ne200-40Groups_671fc284-3d87-11e4-9872-5a1064dce9ab',\n",
        " '/home/c3h3/c3h3works/Kaggles/GithubRepos/DisplayAdvertisingChallenge/data/rf_models_v1/RFmss10ne200-40Groups_061893a0-3d80-11e4-9872-5a1064dce9ab',\n",
        " '/home/c3h3/c3h3works/Kaggles/GithubRepos/DisplayAdvertisingChallenge/data/rf_models_v1/RFmss10ne200-40Groups_adeba392-3d71-11e4-9872-5a1064dce9ab',\n",
        " '/home/c3h3/c3h3works/Kaggles/GithubRepos/DisplayAdvertisingChallenge/data/rf_models_v1/RFmss10ne200-40Groups_e5d1d7c6-3e08-11e4-9872-5a1064dce9ab',\n",
        " '/home/c3h3/c3h3works/Kaggles/GithubRepos/DisplayAdvertisingChallenge/data/rf_models_v1/RFmss10ne200-40Groups_28456df0-3d5c-11e4-9872-5a1064dce9ab',\n",
        " '/home/c3h3/c3h3works/Kaggles/GithubRepos/DisplayAdvertisingChallenge/data/rf_models_v1/RFmss10ne200-40Groups_53e6a918-3d63-11e4-9872-5a1064dce9ab',\n",
        " '/home/c3h3/c3h3works/Kaggles/GithubRepos/DisplayAdvertisingChallenge/data/rf_models_v1/RFmss10ne200-40Groups_d5b12cc4-3d78-11e4-9872-5a1064dce9ab']"
       ]
      }
     ],
     "prompt_number": 21
    },
    {
     "cell_type": "code",
     "collapsed": false,
     "input": [],
     "language": "python",
     "metadata": {},
     "outputs": []
    },
    {
     "cell_type": "code",
     "collapsed": false,
     "input": [
      "blzs = map(lambda xx:xx.load_prediction_blz(datatype=\"testing\", valuetype=\"predict_proba\"),rf_series.series_models)"
     ],
     "language": "python",
     "metadata": {},
     "outputs": [],
     "prompt_number": 52
    },
    {
     "cell_type": "code",
     "collapsed": false,
     "input": [
      "blz.btable(blzs)"
     ],
     "language": "python",
     "metadata": {},
     "outputs": [
      {
       "metadata": {},
       "output_type": "pyout",
       "prompt_number": 54,
       "text": [
        "<repr(<blz.btable.btable at 0x7fd7d0ee5bd0>) failed: ValueError: could not broadcast input array from shape (3,2) into shape (3)>"
       ]
      }
     ],
     "prompt_number": 54
    },
    {
     "cell_type": "code",
     "collapsed": false,
     "input": [],
     "language": "python",
     "metadata": {},
     "outputs": []
    },
    {
     "cell_type": "code",
     "collapsed": false,
     "input": [],
     "language": "python",
     "metadata": {},
     "outputs": []
    },
    {
     "cell_type": "code",
     "collapsed": false,
     "input": [],
     "language": "python",
     "metadata": {},
     "outputs": []
    },
    {
     "cell_type": "code",
     "collapsed": false,
     "input": [],
     "language": "python",
     "metadata": {},
     "outputs": [],
     "prompt_number": 12
    },
    {
     "cell_type": "code",
     "collapsed": false,
     "input": [
      "ss = slice(0,None,None)"
     ],
     "language": "python",
     "metadata": {},
     "outputs": [],
     "prompt_number": 22
    },
    {
     "cell_type": "code",
     "collapsed": false,
     "input": [
      "str(ss)"
     ],
     "language": "python",
     "metadata": {},
     "outputs": [
      {
       "metadata": {},
       "output_type": "pyout",
       "prompt_number": 32,
       "text": [
        "'slice(0, None, None)'"
       ]
      }
     ],
     "prompt_number": 32
    },
    {
     "cell_type": "code",
     "collapsed": false,
     "input": [],
     "language": "python",
     "metadata": {},
     "outputs": []
    },
    {
     "cell_type": "code",
     "collapsed": false,
     "input": [
      "type(slice(0,None,None))"
     ],
     "language": "python",
     "metadata": {},
     "outputs": [
      {
       "metadata": {},
       "output_type": "pyout",
       "prompt_number": 20,
       "text": [
        "slice"
       ]
      }
     ],
     "prompt_number": 20
    },
    {
     "cell_type": "code",
     "collapsed": false,
     "input": [],
     "language": "python",
     "metadata": {},
     "outputs": []
    },
    {
     "cell_type": "code",
     "collapsed": false,
     "input": [
      "svm_models_v1_models_path = os.path.join(os.path.join(SOURCE_DATA_DIR, \"svm_models_v1\"),\"models\")"
     ],
     "language": "python",
     "metadata": {},
     "outputs": [],
     "prompt_number": 13
    },
    {
     "cell_type": "code",
     "collapsed": false,
     "input": [],
     "language": "python",
     "metadata": {},
     "outputs": [],
     "prompt_number": 13
    },
    {
     "cell_type": "code",
     "collapsed": false,
     "input": [
      "svm_series = ModelSeries(series_name=\"LSVM40Groups\", series_home=svm_models_v1_models_path)"
     ],
     "language": "python",
     "metadata": {},
     "outputs": [],
     "prompt_number": 14
    },
    {
     "cell_type": "code",
     "collapsed": false,
     "input": [
      "svm_series.series_models"
     ],
     "language": "python",
     "metadata": {},
     "outputs": [
      {
       "metadata": {},
       "output_type": "pyout",
       "prompt_number": 15,
       "text": [
        "[LSVM40Groups_4e925d02-3c9d-11e4-b2c2-1e5ff811d93a : {'training_dataset': 'origin', 'training_data_slices': slice(14898208, 16044224, None), 'feature_columns': ['I1', 'I2', 'I3', 'I4', 'I5', 'I6', 'I7', 'I8', 'I9', 'I10', 'I11', 'I12', 'I13', 'C1', 'C2', 'C3', 'C4', 'C5', 'C6', 'C7', 'C8', 'C9', 'C10', 'C11', 'C12', 'C13', 'C14', 'C15', 'C16', 'C17', 'C18', 'C19', 'C20', 'C21', 'C22', 'C23', 'C24', 'C25', 'C26'], 'additional_feature_columns': [], 'model_type': <class 'sklearn.svm.classes.LinearSVC'>, 'model_paramters': {'dual': False}},\n",
        " LSVM40Groups_98795626-3ca4-11e4-b7d7-1e5ff811d93a : {'training_dataset': 'origin', 'training_data_slices': slice(37818528, 38964544, None), 'feature_columns': ['I1', 'I2', 'I3', 'I4', 'I5', 'I6', 'I7', 'I8', 'I9', 'I10', 'I11', 'I12', 'I13', 'C1', 'C2', 'C3', 'C4', 'C5', 'C6', 'C7', 'C8', 'C9', 'C10', 'C11', 'C12', 'C13', 'C14', 'C15', 'C16', 'C17', 'C18', 'C19', 'C20', 'C21', 'C22', 'C23', 'C24', 'C25', 'C26'], 'additional_feature_columns': [], 'model_type': <class 'sklearn.svm.classes.LinearSVC'>, 'model_paramters': {'dual': False}},\n",
        " LSVM40Groups_6cfbc9ea-3c9d-11e4-b3ae-1e5ff811d93a : {'training_dataset': 'origin', 'training_data_slices': slice(5730080, 6876096, None), 'feature_columns': ['I1', 'I2', 'I3', 'I4', 'I5', 'I6', 'I7', 'I8', 'I9', 'I10', 'I11', 'I12', 'I13', 'C1', 'C2', 'C3', 'C4', 'C5', 'C6', 'C7', 'C8', 'C9', 'C10', 'C11', 'C12', 'C13', 'C14', 'C15', 'C16', 'C17', 'C18', 'C19', 'C20', 'C21', 'C22', 'C23', 'C24', 'C25', 'C26'], 'additional_feature_columns': [], 'model_type': <class 'sklearn.svm.classes.LinearSVC'>, 'model_paramters': {'dual': False}},\n",
        " LSVM40Groups_65c582d8-3c9d-11e4-97fc-1e5ff811d93a : {'training_dataset': 'origin', 'training_data_slices': slice(1146016, 2292032, None), 'feature_columns': ['I1', 'I2', 'I3', 'I4', 'I5', 'I6', 'I7', 'I8', 'I9', 'I10', 'I11', 'I12', 'I13', 'C1', 'C2', 'C3', 'C4', 'C5', 'C6', 'C7', 'C8', 'C9', 'C10', 'C11', 'C12', 'C13', 'C14', 'C15', 'C16', 'C17', 'C18', 'C19', 'C20', 'C21', 'C22', 'C23', 'C24', 'C25', 'C26'], 'additional_feature_columns': [], 'model_type': <class 'sklearn.svm.classes.LinearSVC'>, 'model_paramters': {'dual': False}},\n",
        " LSVM40Groups_0c8989ca-3ca3-11e4-87dc-1e5ff811d93a : {'training_dataset': 'origin', 'training_data_slices': slice(38964544, 40110560, None), 'feature_columns': ['I1', 'I2', 'I3', 'I4', 'I5', 'I6', 'I7', 'I8', 'I9', 'I10', 'I11', 'I12', 'I13', 'C1', 'C2', 'C3', 'C4', 'C5', 'C6', 'C7', 'C8', 'C9', 'C10', 'C11', 'C12', 'C13', 'C14', 'C15', 'C16', 'C17', 'C18', 'C19', 'C20', 'C21', 'C22', 'C23', 'C24', 'C25', 'C26'], 'additional_feature_columns': [], 'model_type': <class 'sklearn.svm.classes.LinearSVC'>, 'model_paramters': {'dual': False}},\n",
        " LSVM40Groups_601b8f68-3ca1-11e4-97fc-1e5ff811d93a : {'training_dataset': 'origin', 'training_data_slices': slice(28650400, 29796416, None), 'feature_columns': ['I1', 'I2', 'I3', 'I4', 'I5', 'I6', 'I7', 'I8', 'I9', 'I10', 'I11', 'I12', 'I13', 'C1', 'C2', 'C3', 'C4', 'C5', 'C6', 'C7', 'C8', 'C9', 'C10', 'C11', 'C12', 'C13', 'C14', 'C15', 'C16', 'C17', 'C18', 'C19', 'C20', 'C21', 'C22', 'C23', 'C24', 'C25', 'C26'], 'additional_feature_columns': [], 'model_type': <class 'sklearn.svm.classes.LinearSVC'>, 'model_paramters': {'dual': False}},\n",
        " LSVM40Groups_1704ade6-3ca1-11e4-87dc-1e5ff811d93a : {'training_dataset': 'origin', 'training_data_slices': slice(24066336, 25212352, None), 'feature_columns': ['I1', 'I2', 'I3', 'I4', 'I5', 'I6', 'I7', 'I8', 'I9', 'I10', 'I11', 'I12', 'I13', 'C1', 'C2', 'C3', 'C4', 'C5', 'C6', 'C7', 'C8', 'C9', 'C10', 'C11', 'C12', 'C13', 'C14', 'C15', 'C16', 'C17', 'C18', 'C19', 'C20', 'C21', 'C22', 'C23', 'C24', 'C25', 'C26'], 'additional_feature_columns': [], 'model_type': <class 'sklearn.svm.classes.LinearSVC'>, 'model_paramters': {'dual': False}},\n",
        " LSVM40Groups_3305f8ea-3ca3-11e4-a445-1e5ff811d93a : {'training_dataset': 'origin', 'training_data_slices': slice(41256576, 42402592, None), 'feature_columns': ['I1', 'I2', 'I3', 'I4', 'I5', 'I6', 'I7', 'I8', 'I9', 'I10', 'I11', 'I12', 'I13', 'C1', 'C2', 'C3', 'C4', 'C5', 'C6', 'C7', 'C8', 'C9', 'C10', 'C11', 'C12', 'C13', 'C14', 'C15', 'C16', 'C17', 'C18', 'C19', 'C20', 'C21', 'C22', 'C23', 'C24', 'C25', 'C26'], 'additional_feature_columns': [], 'model_type': <class 'sklearn.svm.classes.LinearSVC'>, 'model_paramters': {'dual': False}},\n",
        " LSVM40Groups_54b83064-3c9b-11e4-87dc-1e5ff811d93a : {'training_dataset': 'origin', 'training_data_slices': slice(2292032, 3438048, None), 'feature_columns': ['I1', 'I2', 'I3', 'I4', 'I5', 'I6', 'I7', 'I8', 'I9', 'I10', 'I11', 'I12', 'I13', 'C1', 'C2', 'C3', 'C4', 'C5', 'C6', 'C7', 'C8', 'C9', 'C10', 'C11', 'C12', 'C13', 'C14', 'C15', 'C16', 'C17', 'C18', 'C19', 'C20', 'C21', 'C22', 'C23', 'C24', 'C25', 'C26'], 'additional_feature_columns': [], 'model_type': <class 'sklearn.svm.classes.LinearSVC'>, 'model_paramters': {'dual': False}},\n",
        " LSVM40Groups_6e0417e8-3c9d-11e4-94ef-1e5ff811d93a : {'training_dataset': 'origin', 'training_data_slices': slice(8022112, 9168128, None), 'feature_columns': ['I1', 'I2', 'I3', 'I4', 'I5', 'I6', 'I7', 'I8', 'I9', 'I10', 'I11', 'I12', 'I13', 'C1', 'C2', 'C3', 'C4', 'C5', 'C6', 'C7', 'C8', 'C9', 'C10', 'C11', 'C12', 'C13', 'C14', 'C15', 'C16', 'C17', 'C18', 'C19', 'C20', 'C21', 'C22', 'C23', 'C24', 'C25', 'C26'], 'additional_feature_columns': [], 'model_type': <class 'sklearn.svm.classes.LinearSVC'>, 'model_paramters': {'dual': False}},\n",
        " LSVM40Groups_0baa5160-3ca3-11e4-b7d7-1e5ff811d93a : {'training_dataset': 'origin', 'training_data_slices': slice(36672512, 37818528, None), 'feature_columns': ['I1', 'I2', 'I3', 'I4', 'I5', 'I6', 'I7', 'I8', 'I9', 'I10', 'I11', 'I12', 'I13', 'C1', 'C2', 'C3', 'C4', 'C5', 'C6', 'C7', 'C8', 'C9', 'C10', 'C11', 'C12', 'C13', 'C14', 'C15', 'C16', 'C17', 'C18', 'C19', 'C20', 'C21', 'C22', 'C23', 'C24', 'C25', 'C26'], 'additional_feature_columns': [], 'model_type': <class 'sklearn.svm.classes.LinearSVC'>, 'model_paramters': {'dual': False}},\n",
        " LSVM40Groups_5368a0d2-3c9f-11e4-97fc-1e5ff811d93a : {'training_dataset': 'origin', 'training_data_slices': slice(27504384, 28650400, None), 'feature_columns': ['I1', 'I2', 'I3', 'I4', 'I5', 'I6', 'I7', 'I8', 'I9', 'I10', 'I11', 'I12', 'I13', 'C1', 'C2', 'C3', 'C4', 'C5', 'C6', 'C7', 'C8', 'C9', 'C10', 'C11', 'C12', 'C13', 'C14', 'C15', 'C16', 'C17', 'C18', 'C19', 'C20', 'C21', 'C22', 'C23', 'C24', 'C25', 'C26'], 'additional_feature_columns': [], 'model_type': <class 'sklearn.svm.classes.LinearSVC'>, 'model_paramters': {'dual': False}},\n",
        " LSVM40Groups_54b82b3c-3c9b-11e4-b3ae-1e5ff811d93a : {'training_dataset': 'origin', 'training_data_slices': slice(4584064, 5730080, None), 'feature_columns': ['I1', 'I2', 'I3', 'I4', 'I5', 'I6', 'I7', 'I8', 'I9', 'I10', 'I11', 'I12', 'I13', 'C1', 'C2', 'C3', 'C4', 'C5', 'C6', 'C7', 'C8', 'C9', 'C10', 'C11', 'C12', 'C13', 'C14', 'C15', 'C16', 'C17', 'C18', 'C19', 'C20', 'C21', 'C22', 'C23', 'C24', 'C25', 'C26'], 'additional_feature_columns': [], 'model_type': <class 'sklearn.svm.classes.LinearSVC'>, 'model_paramters': {'dual': False}},\n",
        " LSVM40Groups_31df6250-3ca1-11e4-b7d7-1e5ff811d93a : {'training_dataset': 'origin', 'training_data_slices': slice(26358368, 27504384, None), 'feature_columns': ['I1', 'I2', 'I3', 'I4', 'I5', 'I6', 'I7', 'I8', 'I9', 'I10', 'I11', 'I12', 'I13', 'C1', 'C2', 'C3', 'C4', 'C5', 'C6', 'C7', 'C8', 'C9', 'C10', 'C11', 'C12', 'C13', 'C14', 'C15', 'C16', 'C17', 'C18', 'C19', 'C20', 'C21', 'C22', 'C23', 'C24', 'C25', 'C26'], 'additional_feature_columns': [], 'model_type': <class 'sklearn.svm.classes.LinearSVC'>, 'model_paramters': {'dual': False}},\n",
        " LSVM40Groups_54bb5e9c-3c9b-11e4-b7d7-1e5ff811d93a : {'training_dataset': 'origin', 'training_data_slices': slice(11460160, 12606176, None), 'feature_columns': ['I1', 'I2', 'I3', 'I4', 'I5', 'I6', 'I7', 'I8', 'I9', 'I10', 'I11', 'I12', 'I13', 'C1', 'C2', 'C3', 'C4', 'C5', 'C6', 'C7', 'C8', 'C9', 'C10', 'C11', 'C12', 'C13', 'C14', 'C15', 'C16', 'C17', 'C18', 'C19', 'C20', 'C21', 'C22', 'C23', 'C24', 'C25', 'C26'], 'additional_feature_columns': [], 'model_type': <class 'sklearn.svm.classes.LinearSVC'>, 'model_paramters': {'dual': False}},\n",
        " LSVM40Groups_4a73396a-3c9f-11e4-b7d7-1e5ff811d93a : {'training_dataset': 'origin', 'training_data_slices': slice(25212352, 26358368, None), 'feature_columns': ['I1', 'I2', 'I3', 'I4', 'I5', 'I6', 'I7', 'I8', 'I9', 'I10', 'I11', 'I12', 'I13', 'C1', 'C2', 'C3', 'C4', 'C5', 'C6', 'C7', 'C8', 'C9', 'C10', 'C11', 'C12', 'C13', 'C14', 'C15', 'C16', 'C17', 'C18', 'C19', 'C20', 'C21', 'C22', 'C23', 'C24', 'C25', 'C26'], 'additional_feature_columns': [], 'model_type': <class 'sklearn.svm.classes.LinearSVC'>, 'model_paramters': {'dual': False}},\n",
        " LSVM40Groups_4d3f40f6-3ca1-11e4-a445-1e5ff811d93a : {'training_dataset': 'origin', 'training_data_slices': slice(33234464, 34380480, None), 'feature_columns': ['I1', 'I2', 'I3', 'I4', 'I5', 'I6', 'I7', 'I8', 'I9', 'I10', 'I11', 'I12', 'I13', 'C1', 'C2', 'C3', 'C4', 'C5', 'C6', 'C7', 'C8', 'C9', 'C10', 'C11', 'C12', 'C13', 'C14', 'C15', 'C16', 'C17', 'C18', 'C19', 'C20', 'C21', 'C22', 'C23', 'C24', 'C25', 'C26'], 'additional_feature_columns': [], 'model_type': <class 'sklearn.svm.classes.LinearSVC'>, 'model_paramters': {'dual': False}},\n",
        " LSVM40Groups_8032570c-3ca4-11e4-87dc-1e5ff811d93a : {'training_dataset': 'origin', 'training_data_slices': slice(40110560, 41256576, None), 'feature_columns': ['I1', 'I2', 'I3', 'I4', 'I5', 'I6', 'I7', 'I8', 'I9', 'I10', 'I11', 'I12', 'I13', 'C1', 'C2', 'C3', 'C4', 'C5', 'C6', 'C7', 'C8', 'C9', 'C10', 'C11', 'C12', 'C13', 'C14', 'C15', 'C16', 'C17', 'C18', 'C19', 'C20', 'C21', 'C22', 'C23', 'C24', 'C25', 'C26'], 'additional_feature_columns': [], 'model_type': <class 'sklearn.svm.classes.LinearSVC'>, 'model_paramters': {'dual': False}},\n",
        " LSVM40Groups_8e68d470-3ca1-11e4-a643-1e5ff811d93a : {'training_dataset': 'origin', 'training_data_slices': slice(19482272, 20628288, None), 'feature_columns': ['I1', 'I2', 'I3', 'I4', 'I5', 'I6', 'I7', 'I8', 'I9', 'I10', 'I11', 'I12', 'I13', 'C1', 'C2', 'C3', 'C4', 'C5', 'C6', 'C7', 'C8', 'C9', 'C10', 'C11', 'C12', 'C13', 'C14', 'C15', 'C16', 'C17', 'C18', 'C19', 'C20', 'C21', 'C22', 'C23', 'C24', 'C25', 'C26'], 'additional_feature_columns': [], 'model_type': <class 'sklearn.svm.classes.LinearSVC'>, 'model_paramters': {'dual': False}},\n",
        " LSVM40Groups_7e67eab6-3ca1-11e4-b3ae-1e5ff811d93a : {'training_dataset': 'origin', 'training_data_slices': slice(35526496, 36672512, None), 'feature_columns': ['I1', 'I2', 'I3', 'I4', 'I5', 'I6', 'I7', 'I8', 'I9', 'I10', 'I11', 'I12', 'I13', 'C1', 'C2', 'C3', 'C4', 'C5', 'C6', 'C7', 'C8', 'C9', 'C10', 'C11', 'C12', 'C13', 'C14', 'C15', 'C16', 'C17', 'C18', 'C19', 'C20', 'C21', 'C22', 'C23', 'C24', 'C25', 'C26'], 'additional_feature_columns': [], 'model_type': <class 'sklearn.svm.classes.LinearSVC'>, 'model_paramters': {'dual': False}},\n",
        " LSVM40Groups_35db1fd6-3c9f-11e4-b2c2-1e5ff811d93a : {'training_dataset': 'origin', 'training_data_slices': slice(20628288, 21774304, None), 'feature_columns': ['I1', 'I2', 'I3', 'I4', 'I5', 'I6', 'I7', 'I8', 'I9', 'I10', 'I11', 'I12', 'I13', 'C1', 'C2', 'C3', 'C4', 'C5', 'C6', 'C7', 'C8', 'C9', 'C10', 'C11', 'C12', 'C13', 'C14', 'C15', 'C16', 'C17', 'C18', 'C19', 'C20', 'C21', 'C22', 'C23', 'C24', 'C25', 'C26'], 'additional_feature_columns': [], 'model_type': <class 'sklearn.svm.classes.LinearSVC'>, 'model_paramters': {'dual': False}},\n",
        " LSVM40Groups_54b919e8-3c9b-11e4-94ef-1e5ff811d93a : {'training_dataset': 'origin', 'training_data_slices': slice(6876096, 8022112, None), 'feature_columns': ['I1', 'I2', 'I3', 'I4', 'I5', 'I6', 'I7', 'I8', 'I9', 'I10', 'I11', 'I12', 'I13', 'C1', 'C2', 'C3', 'C4', 'C5', 'C6', 'C7', 'C8', 'C9', 'C10', 'C11', 'C12', 'C13', 'C14', 'C15', 'C16', 'C17', 'C18', 'C19', 'C20', 'C21', 'C22', 'C23', 'C24', 'C25', 'C26'], 'additional_feature_columns': [], 'model_type': <class 'sklearn.svm.classes.LinearSVC'>, 'model_paramters': {'dual': False}},\n",
        " LSVM40Groups_54bcb56c-3c9b-11e4-97fc-1e5ff811d93a : {'training_dataset': 'origin', 'training_data_slices': slice(0, 1146016, None), 'feature_columns': ['I1', 'I2', 'I3', 'I4', 'I5', 'I6', 'I7', 'I8', 'I9', 'I10', 'I11', 'I12', 'I13', 'C1', 'C2', 'C3', 'C4', 'C5', 'C6', 'C7', 'C8', 'C9', 'C10', 'C11', 'C12', 'C13', 'C14', 'C15', 'C16', 'C17', 'C18', 'C19', 'C20', 'C21', 'C22', 'C23', 'C24', 'C25', 'C26'], 'additional_feature_columns': [], 'model_type': <class 'sklearn.svm.classes.LinearSVC'>, 'model_paramters': {'dual': False}},\n",
        " LSVM40Groups_54b7f2e8-3c9b-11e4-a643-1e5ff811d93a : {'training_dataset': 'origin', 'training_data_slices': slice(9168128, 10314144, None), 'feature_columns': ['I1', 'I2', 'I3', 'I4', 'I5', 'I6', 'I7', 'I8', 'I9', 'I10', 'I11', 'I12', 'I13', 'C1', 'C2', 'C3', 'C4', 'C5', 'C6', 'C7', 'C8', 'C9', 'C10', 'C11', 'C12', 'C13', 'C14', 'C15', 'C16', 'C17', 'C18', 'C19', 'C20', 'C21', 'C22', 'C23', 'C24', 'C25', 'C26'], 'additional_feature_columns': [], 'model_type': <class 'sklearn.svm.classes.LinearSVC'>, 'model_paramters': {'dual': False}},\n",
        " LSVM40Groups_6c1c1002-3c9d-11e4-a445-1e5ff811d93a : {'training_dataset': 'origin', 'training_data_slices': slice(17190240, 18336256, None), 'feature_columns': ['I1', 'I2', 'I3', 'I4', 'I5', 'I6', 'I7', 'I8', 'I9', 'I10', 'I11', 'I12', 'I13', 'C1', 'C2', 'C3', 'C4', 'C5', 'C6', 'C7', 'C8', 'C9', 'C10', 'C11', 'C12', 'C13', 'C14', 'C15', 'C16', 'C17', 'C18', 'C19', 'C20', 'C21', 'C22', 'C23', 'C24', 'C25', 'C26'], 'additional_feature_columns': [], 'model_type': <class 'sklearn.svm.classes.LinearSVC'>, 'model_paramters': {'dual': False}},\n",
        " LSVM40Groups_33ddaf8a-3ca1-11e4-b2c2-1e5ff811d93a : {'training_dataset': 'origin', 'training_data_slices': slice(21774304, 22920320, None), 'feature_columns': ['I1', 'I2', 'I3', 'I4', 'I5', 'I6', 'I7', 'I8', 'I9', 'I10', 'I11', 'I12', 'I13', 'C1', 'C2', 'C3', 'C4', 'C5', 'C6', 'C7', 'C8', 'C9', 'C10', 'C11', 'C12', 'C13', 'C14', 'C15', 'C16', 'C17', 'C18', 'C19', 'C20', 'C21', 'C22', 'C23', 'C24', 'C25', 'C26'], 'additional_feature_columns': [], 'model_type': <class 'sklearn.svm.classes.LinearSVC'>, 'model_paramters': {'dual': False}},\n",
        " LSVM40Groups_61268950-3c9f-11e4-94ef-1e5ff811d93a : {'training_dataset': 'origin', 'training_data_slices': slice(29796416, 30942432, None), 'feature_columns': ['I1', 'I2', 'I3', 'I4', 'I5', 'I6', 'I7', 'I8', 'I9', 'I10', 'I11', 'I12', 'I13', 'C1', 'C2', 'C3', 'C4', 'C5', 'C6', 'C7', 'C8', 'C9', 'C10', 'C11', 'C12', 'C13', 'C14', 'C15', 'C16', 'C17', 'C18', 'C19', 'C20', 'C21', 'C22', 'C23', 'C24', 'C25', 'C26'], 'additional_feature_columns': [], 'model_type': <class 'sklearn.svm.classes.LinearSVC'>, 'model_paramters': {'dual': False}},\n",
        " LSVM40Groups_54bb4ce0-3c9b-11e4-a445-1e5ff811d93a : {'training_dataset': 'origin', 'training_data_slices': slice(16044224, 17190240, None), 'feature_columns': ['I1', 'I2', 'I3', 'I4', 'I5', 'I6', 'I7', 'I8', 'I9', 'I10', 'I11', 'I12', 'I13', 'C1', 'C2', 'C3', 'C4', 'C5', 'C6', 'C7', 'C8', 'C9', 'C10', 'C11', 'C12', 'C13', 'C14', 'C15', 'C16', 'C17', 'C18', 'C19', 'C20', 'C21', 'C22', 'C23', 'C24', 'C25', 'C26'], 'additional_feature_columns': [], 'model_type': <class 'sklearn.svm.classes.LinearSVC'>, 'model_paramters': {'dual': False}},\n",
        " LSVM40Groups_b8f2a560-3ca4-11e4-a445-1e5ff811d93a : {'training_dataset': 'origin', 'training_data_slices': slice(42402592, 43548608, None), 'feature_columns': ['I1', 'I2', 'I3', 'I4', 'I5', 'I6', 'I7', 'I8', 'I9', 'I10', 'I11', 'I12', 'I13', 'C1', 'C2', 'C3', 'C4', 'C5', 'C6', 'C7', 'C8', 'C9', 'C10', 'C11', 'C12', 'C13', 'C14', 'C15', 'C16', 'C17', 'C18', 'C19', 'C20', 'C21', 'C22', 'C23', 'C24', 'C25', 'C26'], 'additional_feature_columns': [], 'model_type': <class 'sklearn.svm.classes.LinearSVC'>, 'model_paramters': {'dual': False}},\n",
        " LSVM40Groups_2049a8c2-3ca4-11e4-94ef-1e5ff811d93a : {'training_dataset': 'origin', 'training_data_slices': slice(30942432, 32088448, None), 'feature_columns': ['I1', 'I2', 'I3', 'I4', 'I5', 'I6', 'I7', 'I8', 'I9', 'I10', 'I11', 'I12', 'I13', 'C1', 'C2', 'C3', 'C4', 'C5', 'C6', 'C7', 'C8', 'C9', 'C10', 'C11', 'C12', 'C13', 'C14', 'C15', 'C16', 'C17', 'C18', 'C19', 'C20', 'C21', 'C22', 'C23', 'C24', 'C25', 'C26'], 'additional_feature_columns': [], 'model_type': <class 'sklearn.svm.classes.LinearSVC'>, 'model_paramters': {'dual': False}},\n",
        " LSVM40Groups_4e724044-3c9d-11e4-b7d7-1e5ff811d93a : {'training_dataset': 'origin', 'training_data_slices': slice(12606176, 13752192, None), 'feature_columns': ['I1', 'I2', 'I3', 'I4', 'I5', 'I6', 'I7', 'I8', 'I9', 'I10', 'I11', 'I12', 'I13', 'C1', 'C2', 'C3', 'C4', 'C5', 'C6', 'C7', 'C8', 'C9', 'C10', 'C11', 'C12', 'C13', 'C14', 'C15', 'C16', 'C17', 'C18', 'C19', 'C20', 'C21', 'C22', 'C23', 'C24', 'C25', 'C26'], 'additional_feature_columns': [], 'model_type': <class 'sklearn.svm.classes.LinearSVC'>, 'model_paramters': {'dual': False}},\n",
        " LSVM40Groups_66ade418-3c9f-11e4-a445-1e5ff811d93a : {'training_dataset': 'origin', 'training_data_slices': slice(32088448, 33234464, None), 'feature_columns': ['I1', 'I2', 'I3', 'I4', 'I5', 'I6', 'I7', 'I8', 'I9', 'I10', 'I11', 'I12', 'I13', 'C1', 'C2', 'C3', 'C4', 'C5', 'C6', 'C7', 'C8', 'C9', 'C10', 'C11', 'C12', 'C13', 'C14', 'C15', 'C16', 'C17', 'C18', 'C19', 'C20', 'C21', 'C22', 'C23', 'C24', 'C25', 'C26'], 'additional_feature_columns': [], 'model_type': <class 'sklearn.svm.classes.LinearSVC'>, 'model_paramters': {'dual': False}},\n",
        " LSVM40Groups_4582c3d6-3ca3-11e4-b2c2-1e5ff811d93a : {'training_dataset': 'origin', 'training_data_slices': slice(43548608, 44694624, None), 'feature_columns': ['I1', 'I2', 'I3', 'I4', 'I5', 'I6', 'I7', 'I8', 'I9', 'I10', 'I11', 'I12', 'I13', 'C1', 'C2', 'C3', 'C4', 'C5', 'C6', 'C7', 'C8', 'C9', 'C10', 'C11', 'C12', 'C13', 'C14', 'C15', 'C16', 'C17', 'C18', 'C19', 'C20', 'C21', 'C22', 'C23', 'C24', 'C25', 'C26'], 'additional_feature_columns': [], 'model_type': <class 'sklearn.svm.classes.LinearSVC'>, 'model_paramters': {'dual': False}},\n",
        " LSVM40Groups_c1fd4c46-3ca4-11e4-b2c2-1e5ff811d93a : {'training_dataset': 'origin', 'training_data_slices': slice(44694624, 45840617, None), 'feature_columns': ['I1', 'I2', 'I3', 'I4', 'I5', 'I6', 'I7', 'I8', 'I9', 'I10', 'I11', 'I12', 'I13', 'C1', 'C2', 'C3', 'C4', 'C5', 'C6', 'C7', 'C8', 'C9', 'C10', 'C11', 'C12', 'C13', 'C14', 'C15', 'C16', 'C17', 'C18', 'C19', 'C20', 'C21', 'C22', 'C23', 'C24', 'C25', 'C26'], 'additional_feature_columns': [], 'model_type': <class 'sklearn.svm.classes.LinearSVC'>, 'model_paramters': {'dual': False}},\n",
        " LSVM40Groups_4e0ab6d6-3c9d-11e4-a643-1e5ff811d93a : {'training_dataset': 'origin', 'training_data_slices': slice(10314144, 11460160, None), 'feature_columns': ['I1', 'I2', 'I3', 'I4', 'I5', 'I6', 'I7', 'I8', 'I9', 'I10', 'I11', 'I12', 'I13', 'C1', 'C2', 'C3', 'C4', 'C5', 'C6', 'C7', 'C8', 'C9', 'C10', 'C11', 'C12', 'C13', 'C14', 'C15', 'C16', 'C17', 'C18', 'C19', 'C20', 'C21', 'C22', 'C23', 'C24', 'C25', 'C26'], 'additional_feature_columns': [], 'model_type': <class 'sklearn.svm.classes.LinearSVC'>, 'model_paramters': {'dual': False}},\n",
        " LSVM40Groups_54b9953a-3c9b-11e4-b2c2-1e5ff811d93a : {'training_dataset': 'origin', 'training_data_slices': slice(13752192, 14898208, None), 'feature_columns': ['I1', 'I2', 'I3', 'I4', 'I5', 'I6', 'I7', 'I8', 'I9', 'I10', 'I11', 'I12', 'I13', 'C1', 'C2', 'C3', 'C4', 'C5', 'C6', 'C7', 'C8', 'C9', 'C10', 'C11', 'C12', 'C13', 'C14', 'C15', 'C16', 'C17', 'C18', 'C19', 'C20', 'C21', 'C22', 'C23', 'C24', 'C25', 'C26'], 'additional_feature_columns': [], 'model_type': <class 'sklearn.svm.classes.LinearSVC'>, 'model_paramters': {'dual': False}},\n",
        " LSVM40Groups_60352300-3c9d-11e4-87dc-1e5ff811d93a : {'training_dataset': 'origin', 'training_data_slices': slice(3438048, 4584064, None), 'feature_columns': ['I1', 'I2', 'I3', 'I4', 'I5', 'I6', 'I7', 'I8', 'I9', 'I10', 'I11', 'I12', 'I13', 'C1', 'C2', 'C3', 'C4', 'C5', 'C6', 'C7', 'C8', 'C9', 'C10', 'C11', 'C12', 'C13', 'C14', 'C15', 'C16', 'C17', 'C18', 'C19', 'C20', 'C21', 'C22', 'C23', 'C24', 'C25', 'C26'], 'additional_feature_columns': [], 'model_type': <class 'sklearn.svm.classes.LinearSVC'>, 'model_paramters': {'dual': False}},\n",
        " LSVM40Groups_70b79ecc-3c9f-11e4-b3ae-1e5ff811d93a : {'training_dataset': 'origin', 'training_data_slices': slice(34380480, 35526496, None), 'feature_columns': ['I1', 'I2', 'I3', 'I4', 'I5', 'I6', 'I7', 'I8', 'I9', 'I10', 'I11', 'I12', 'I13', 'C1', 'C2', 'C3', 'C4', 'C5', 'C6', 'C7', 'C8', 'C9', 'C10', 'C11', 'C12', 'C13', 'C14', 'C15', 'C16', 'C17', 'C18', 'C19', 'C20', 'C21', 'C22', 'C23', 'C24', 'C25', 'C26'], 'additional_feature_columns': [], 'model_type': <class 'sklearn.svm.classes.LinearSVC'>, 'model_paramters': {'dual': False}},\n",
        " LSVM40Groups_43f8dd92-3c9f-11e4-87dc-1e5ff811d93a : {'training_dataset': 'origin', 'training_data_slices': slice(22920320, 24066336, None), 'feature_columns': ['I1', 'I2', 'I3', 'I4', 'I5', 'I6', 'I7', 'I8', 'I9', 'I10', 'I11', 'I12', 'I13', 'C1', 'C2', 'C3', 'C4', 'C5', 'C6', 'C7', 'C8', 'C9', 'C10', 'C11', 'C12', 'C13', 'C14', 'C15', 'C16', 'C17', 'C18', 'C19', 'C20', 'C21', 'C22', 'C23', 'C24', 'C25', 'C26'], 'additional_feature_columns': [], 'model_type': <class 'sklearn.svm.classes.LinearSVC'>, 'model_paramters': {'dual': False}},\n",
        " LSVM40Groups_0a49be54-3c9f-11e4-a643-1e5ff811d93a : {'training_dataset': 'origin', 'training_data_slices': slice(18336256, 19482272, None), 'feature_columns': ['I1', 'I2', 'I3', 'I4', 'I5', 'I6', 'I7', 'I8', 'I9', 'I10', 'I11', 'I12', 'I13', 'C1', 'C2', 'C3', 'C4', 'C5', 'C6', 'C7', 'C8', 'C9', 'C10', 'C11', 'C12', 'C13', 'C14', 'C15', 'C16', 'C17', 'C18', 'C19', 'C20', 'C21', 'C22', 'C23', 'C24', 'C25', 'C26'], 'additional_feature_columns': [], 'model_type': <class 'sklearn.svm.classes.LinearSVC'>, 'model_paramters': {'dual': False}}]"
       ]
      }
     ],
     "prompt_number": 15
    },
    {
     "cell_type": "code",
     "collapsed": false,
     "input": [],
     "language": "python",
     "metadata": {},
     "outputs": []
    },
    {
     "cell_type": "code",
     "collapsed": false,
     "input": [
      "1/np.subtract(1,-np.exp(np.subtract(0.725,xx))"
     ],
     "language": "python",
     "metadata": {},
     "outputs": []
    },
    {
     "cell_type": "code",
     "collapsed": false,
     "input": [
      "erf(1.*np.subtract(xx,-0.625)"
     ],
     "language": "python",
     "metadata": {},
     "outputs": []
    },
    {
     "cell_type": "code",
     "collapsed": false,
     "input": [],
     "language": "python",
     "metadata": {},
     "outputs": [
      {
       "metadata": {},
       "output_type": "pyout",
       "prompt_number": 19,
       "text": [
        "<ufunc 'exp'>"
       ]
      }
     ],
     "prompt_number": 19
    },
    {
     "cell_type": "code",
     "collapsed": false,
     "input": [
      "logloss_dict = svm_series.compute_training_data_logloss(prob_func=lambda xx:erf(0.3*np.subtract(xx,-1.15)),\n",
      "                                                        use_prediction=\"decision_function\",\n",
      "                                                        sample_slice  = slice(0,1000000,None))"
     ],
     "language": "python",
     "metadata": {},
     "outputs": [
      {
       "output_type": "stream",
       "stream": "stdout",
       "text": [
        "[LSVM40Groups_4e925d02-3c9d-11e4-b2c2-1e5ff811d93a] [compute_training_data_logloss] conpute logloss with decision_function \n",
        "[LSVM40Groups_4e925d02-3c9d-11e4-b2c2-1e5ff811d93a] [compute_training_data_logloss] logloss_value = 0.552715412156 "
       ]
      },
      {
       "output_type": "stream",
       "stream": "stdout",
       "text": [
        "\n",
        "[LSVM40Groups_98795626-3ca4-11e4-b7d7-1e5ff811d93a] [compute_training_data_logloss] conpute logloss with decision_function \n",
        "[LSVM40Groups_98795626-3ca4-11e4-b7d7-1e5ff811d93a] [compute_training_data_logloss] logloss_value = 0.553659189274 "
       ]
      },
      {
       "output_type": "stream",
       "stream": "stdout",
       "text": [
        "\n",
        "[LSVM40Groups_6cfbc9ea-3c9d-11e4-b3ae-1e5ff811d93a] [compute_training_data_logloss] conpute logloss with decision_function \n",
        "[LSVM40Groups_6cfbc9ea-3c9d-11e4-b3ae-1e5ff811d93a] [compute_training_data_logloss] logloss_value = 0.553274926082 "
       ]
      },
      {
       "output_type": "stream",
       "stream": "stdout",
       "text": [
        "\n",
        "[LSVM40Groups_65c582d8-3c9d-11e4-97fc-1e5ff811d93a] [compute_training_data_logloss] conpute logloss with decision_function \n",
        "[LSVM40Groups_65c582d8-3c9d-11e4-97fc-1e5ff811d93a] [compute_training_data_logloss] logloss_value = 0.554174912852 "
       ]
      },
      {
       "output_type": "stream",
       "stream": "stdout",
       "text": [
        "\n",
        "[LSVM40Groups_0c8989ca-3ca3-11e4-87dc-1e5ff811d93a] [compute_training_data_logloss] conpute logloss with decision_function \n",
        "[LSVM40Groups_0c8989ca-3ca3-11e4-87dc-1e5ff811d93a] [compute_training_data_logloss] logloss_value = 0.553218579772 "
       ]
      },
      {
       "output_type": "stream",
       "stream": "stdout",
       "text": [
        "\n",
        "[LSVM40Groups_601b8f68-3ca1-11e4-97fc-1e5ff811d93a] [compute_training_data_logloss] conpute logloss with decision_function \n",
        "[LSVM40Groups_601b8f68-3ca1-11e4-97fc-1e5ff811d93a] [compute_training_data_logloss] logloss_value = 0.550903928145 "
       ]
      },
      {
       "output_type": "stream",
       "stream": "stdout",
       "text": [
        "\n",
        "[LSVM40Groups_1704ade6-3ca1-11e4-87dc-1e5ff811d93a] [compute_training_data_logloss] conpute logloss with decision_function \n",
        "[LSVM40Groups_1704ade6-3ca1-11e4-87dc-1e5ff811d93a] [compute_training_data_logloss] logloss_value = 0.553477048995 "
       ]
      },
      {
       "output_type": "stream",
       "stream": "stdout",
       "text": [
        "\n",
        "[LSVM40Groups_3305f8ea-3ca3-11e4-a445-1e5ff811d93a] [compute_training_data_logloss] conpute logloss with decision_function \n",
        "[LSVM40Groups_3305f8ea-3ca3-11e4-a445-1e5ff811d93a] [compute_training_data_logloss] logloss_value = 0.552021205979 "
       ]
      },
      {
       "output_type": "stream",
       "stream": "stdout",
       "text": [
        "\n",
        "[LSVM40Groups_54b83064-3c9b-11e4-87dc-1e5ff811d93a] [compute_training_data_logloss] conpute logloss with decision_function \n",
        "[LSVM40Groups_54b83064-3c9b-11e4-87dc-1e5ff811d93a] [compute_training_data_logloss] logloss_value = 0.553269234789 "
       ]
      },
      {
       "output_type": "stream",
       "stream": "stdout",
       "text": [
        "\n",
        "[LSVM40Groups_6e0417e8-3c9d-11e4-94ef-1e5ff811d93a] [compute_training_data_logloss] conpute logloss with decision_function \n",
        "[LSVM40Groups_6e0417e8-3c9d-11e4-94ef-1e5ff811d93a] [compute_training_data_logloss] logloss_value = 0.553058584441 "
       ]
      },
      {
       "output_type": "stream",
       "stream": "stdout",
       "text": [
        "\n",
        "[LSVM40Groups_0baa5160-3ca3-11e4-b7d7-1e5ff811d93a] [compute_training_data_logloss] conpute logloss with decision_function \n",
        "[LSVM40Groups_0baa5160-3ca3-11e4-b7d7-1e5ff811d93a] [compute_training_data_logloss] logloss_value = 0.552396804688 "
       ]
      },
      {
       "output_type": "stream",
       "stream": "stdout",
       "text": [
        "\n",
        "[LSVM40Groups_5368a0d2-3c9f-11e4-97fc-1e5ff811d93a] [compute_training_data_logloss] conpute logloss with decision_function \n",
        "[LSVM40Groups_5368a0d2-3c9f-11e4-97fc-1e5ff811d93a] [compute_training_data_logloss] logloss_value = 0.551324942179 "
       ]
      },
      {
       "output_type": "stream",
       "stream": "stdout",
       "text": [
        "\n",
        "[LSVM40Groups_54b82b3c-3c9b-11e4-b3ae-1e5ff811d93a] [compute_training_data_logloss] conpute logloss with decision_function \n",
        "[LSVM40Groups_54b82b3c-3c9b-11e4-b3ae-1e5ff811d93a] [compute_training_data_logloss] logloss_value = 0.553508322929 "
       ]
      },
      {
       "output_type": "stream",
       "stream": "stdout",
       "text": [
        "\n",
        "[LSVM40Groups_31df6250-3ca1-11e4-b7d7-1e5ff811d93a] [compute_training_data_logloss] conpute logloss with decision_function \n",
        "[LSVM40Groups_31df6250-3ca1-11e4-b7d7-1e5ff811d93a] [compute_training_data_logloss] logloss_value = 0.55069243879 "
       ]
      },
      {
       "output_type": "stream",
       "stream": "stdout",
       "text": [
        "\n",
        "[LSVM40Groups_54bb5e9c-3c9b-11e4-b7d7-1e5ff811d93a] [compute_training_data_logloss] conpute logloss with decision_function \n",
        "[LSVM40Groups_54bb5e9c-3c9b-11e4-b7d7-1e5ff811d93a] [compute_training_data_logloss] logloss_value = 0.554253709382 "
       ]
      },
      {
       "output_type": "stream",
       "stream": "stdout",
       "text": [
        "\n",
        "[LSVM40Groups_4a73396a-3c9f-11e4-b7d7-1e5ff811d93a] [compute_training_data_logloss] conpute logloss with decision_function \n",
        "[LSVM40Groups_4a73396a-3c9f-11e4-b7d7-1e5ff811d93a] [compute_training_data_logloss] logloss_value = 0.55374711297 "
       ]
      },
      {
       "output_type": "stream",
       "stream": "stdout",
       "text": [
        "\n",
        "[LSVM40Groups_4d3f40f6-3ca1-11e4-a445-1e5ff811d93a] [compute_training_data_logloss] conpute logloss with decision_function \n",
        "[LSVM40Groups_4d3f40f6-3ca1-11e4-a445-1e5ff811d93a] [compute_training_data_logloss] logloss_value = 0.55089484836 "
       ]
      },
      {
       "output_type": "stream",
       "stream": "stdout",
       "text": [
        "\n",
        "[LSVM40Groups_8032570c-3ca4-11e4-87dc-1e5ff811d93a] [compute_training_data_logloss] conpute logloss with decision_function \n",
        "[LSVM40Groups_8032570c-3ca4-11e4-87dc-1e5ff811d93a] [compute_training_data_logloss] logloss_value = 0.55178417679 "
       ]
      },
      {
       "output_type": "stream",
       "stream": "stdout",
       "text": [
        "\n",
        "[LSVM40Groups_8e68d470-3ca1-11e4-a643-1e5ff811d93a] [compute_training_data_logloss] conpute logloss with decision_function \n",
        "[LSVM40Groups_8e68d470-3ca1-11e4-a643-1e5ff811d93a] [compute_training_data_logloss] logloss_value = 0.550592421913 "
       ]
      },
      {
       "output_type": "stream",
       "stream": "stdout",
       "text": [
        "\n",
        "[LSVM40Groups_7e67eab6-3ca1-11e4-b3ae-1e5ff811d93a] [compute_training_data_logloss] conpute logloss with decision_function \n",
        "[LSVM40Groups_7e67eab6-3ca1-11e4-b3ae-1e5ff811d93a] [compute_training_data_logloss] logloss_value = 0.551992745504 "
       ]
      },
      {
       "output_type": "stream",
       "stream": "stdout",
       "text": [
        "\n",
        "[LSVM40Groups_35db1fd6-3c9f-11e4-b2c2-1e5ff811d93a] [compute_training_data_logloss] conpute logloss with decision_function \n",
        "[LSVM40Groups_35db1fd6-3c9f-11e4-b2c2-1e5ff811d93a] [compute_training_data_logloss] logloss_value = 0.552282233303 "
       ]
      },
      {
       "output_type": "stream",
       "stream": "stdout",
       "text": [
        "\n",
        "[LSVM40Groups_54b919e8-3c9b-11e4-94ef-1e5ff811d93a] [compute_training_data_logloss] conpute logloss with decision_function \n",
        "[LSVM40Groups_54b919e8-3c9b-11e4-94ef-1e5ff811d93a] [compute_training_data_logloss] logloss_value = 0.553070844493 "
       ]
      },
      {
       "output_type": "stream",
       "stream": "stdout",
       "text": [
        "\n",
        "[LSVM40Groups_54bcb56c-3c9b-11e4-97fc-1e5ff811d93a] [compute_training_data_logloss] conpute logloss with decision_function \n",
        "[LSVM40Groups_54bcb56c-3c9b-11e4-97fc-1e5ff811d93a] [compute_training_data_logloss] logloss_value = 0.553009592269 "
       ]
      },
      {
       "output_type": "stream",
       "stream": "stdout",
       "text": [
        "\n",
        "[LSVM40Groups_54b7f2e8-3c9b-11e4-a643-1e5ff811d93a] [compute_training_data_logloss] conpute logloss with decision_function \n",
        "[LSVM40Groups_54b7f2e8-3c9b-11e4-a643-1e5ff811d93a] [compute_training_data_logloss] logloss_value = 0.552294753335 "
       ]
      },
      {
       "output_type": "stream",
       "stream": "stdout",
       "text": [
        "\n",
        "[LSVM40Groups_6c1c1002-3c9d-11e4-a445-1e5ff811d93a] [compute_training_data_logloss] conpute logloss with decision_function \n",
        "[LSVM40Groups_6c1c1002-3c9d-11e4-a445-1e5ff811d93a] [compute_training_data_logloss] logloss_value = 0.553014959348 "
       ]
      },
      {
       "output_type": "stream",
       "stream": "stdout",
       "text": [
        "\n",
        "[LSVM40Groups_33ddaf8a-3ca1-11e4-b2c2-1e5ff811d93a] [compute_training_data_logloss] conpute logloss with decision_function \n",
        "[LSVM40Groups_33ddaf8a-3ca1-11e4-b2c2-1e5ff811d93a] [compute_training_data_logloss] logloss_value = 0.551555451837 "
       ]
      },
      {
       "output_type": "stream",
       "stream": "stdout",
       "text": [
        "\n",
        "[LSVM40Groups_61268950-3c9f-11e4-94ef-1e5ff811d93a] [compute_training_data_logloss] conpute logloss with decision_function \n",
        "[LSVM40Groups_61268950-3c9f-11e4-94ef-1e5ff811d93a] [compute_training_data_logloss] logloss_value = 0.551331558127 "
       ]
      },
      {
       "output_type": "stream",
       "stream": "stdout",
       "text": [
        "\n",
        "[LSVM40Groups_54bb4ce0-3c9b-11e4-a445-1e5ff811d93a] [compute_training_data_logloss] conpute logloss with decision_function \n",
        "[LSVM40Groups_54bb4ce0-3c9b-11e4-a445-1e5ff811d93a] [compute_training_data_logloss] logloss_value = 0.552280674694 "
       ]
      },
      {
       "output_type": "stream",
       "stream": "stdout",
       "text": [
        "\n",
        "[LSVM40Groups_b8f2a560-3ca4-11e4-a445-1e5ff811d93a] [compute_training_data_logloss] conpute logloss with decision_function \n",
        "[LSVM40Groups_b8f2a560-3ca4-11e4-a445-1e5ff811d93a] [compute_training_data_logloss] logloss_value = 0.55165873123 "
       ]
      },
      {
       "output_type": "stream",
       "stream": "stdout",
       "text": [
        "\n",
        "[LSVM40Groups_2049a8c2-3ca4-11e4-94ef-1e5ff811d93a] [compute_training_data_logloss] conpute logloss with decision_function \n",
        "[LSVM40Groups_2049a8c2-3ca4-11e4-94ef-1e5ff811d93a] [compute_training_data_logloss] logloss_value = 0.551615523589 "
       ]
      },
      {
       "output_type": "stream",
       "stream": "stdout",
       "text": [
        "\n",
        "[LSVM40Groups_4e724044-3c9d-11e4-b7d7-1e5ff811d93a] [compute_training_data_logloss] conpute logloss with decision_function \n",
        "[LSVM40Groups_4e724044-3c9d-11e4-b7d7-1e5ff811d93a] [compute_training_data_logloss] logloss_value = 0.551121658803 "
       ]
      },
      {
       "output_type": "stream",
       "stream": "stdout",
       "text": [
        "\n",
        "[LSVM40Groups_66ade418-3c9f-11e4-a445-1e5ff811d93a] [compute_training_data_logloss] conpute logloss with decision_function \n",
        "[LSVM40Groups_66ade418-3c9f-11e4-a445-1e5ff811d93a] [compute_training_data_logloss] logloss_value = 0.551745413838 "
       ]
      },
      {
       "output_type": "stream",
       "stream": "stdout",
       "text": [
        "\n",
        "[LSVM40Groups_4582c3d6-3ca3-11e4-b2c2-1e5ff811d93a] [compute_training_data_logloss] conpute logloss with decision_function \n",
        "[LSVM40Groups_4582c3d6-3ca3-11e4-b2c2-1e5ff811d93a] [compute_training_data_logloss] logloss_value = 0.552505885908 "
       ]
      },
      {
       "output_type": "stream",
       "stream": "stdout",
       "text": [
        "\n",
        "[LSVM40Groups_c1fd4c46-3ca4-11e4-b2c2-1e5ff811d93a] [compute_training_data_logloss] conpute logloss with decision_function \n",
        "[LSVM40Groups_c1fd4c46-3ca4-11e4-b2c2-1e5ff811d93a] [compute_training_data_logloss] logloss_value = 0.55290508908 "
       ]
      },
      {
       "output_type": "stream",
       "stream": "stdout",
       "text": [
        "\n",
        "[LSVM40Groups_4e0ab6d6-3c9d-11e4-a643-1e5ff811d93a] [compute_training_data_logloss] conpute logloss with decision_function \n",
        "[LSVM40Groups_4e0ab6d6-3c9d-11e4-a643-1e5ff811d93a] [compute_training_data_logloss] logloss_value = 0.552643534339 "
       ]
      },
      {
       "output_type": "stream",
       "stream": "stdout",
       "text": [
        "\n",
        "[LSVM40Groups_54b9953a-3c9b-11e4-b2c2-1e5ff811d93a] [compute_training_data_logloss] conpute logloss with decision_function \n",
        "[LSVM40Groups_54b9953a-3c9b-11e4-b2c2-1e5ff811d93a] [compute_training_data_logloss] logloss_value = 0.552668625851 "
       ]
      },
      {
       "output_type": "stream",
       "stream": "stdout",
       "text": [
        "\n",
        "[LSVM40Groups_60352300-3c9d-11e4-87dc-1e5ff811d93a] [compute_training_data_logloss] conpute logloss with decision_function \n",
        "[LSVM40Groups_60352300-3c9d-11e4-87dc-1e5ff811d93a] [compute_training_data_logloss] logloss_value = 0.553079282307 "
       ]
      },
      {
       "output_type": "stream",
       "stream": "stdout",
       "text": [
        "\n",
        "[LSVM40Groups_70b79ecc-3c9f-11e4-b3ae-1e5ff811d93a] [compute_training_data_logloss] conpute logloss with decision_function \n",
        "[LSVM40Groups_70b79ecc-3c9f-11e4-b3ae-1e5ff811d93a] [compute_training_data_logloss] logloss_value = 0.552410066287 "
       ]
      },
      {
       "output_type": "stream",
       "stream": "stdout",
       "text": [
        "\n",
        "[LSVM40Groups_43f8dd92-3c9f-11e4-87dc-1e5ff811d93a] [compute_training_data_logloss] conpute logloss with decision_function \n",
        "[LSVM40Groups_43f8dd92-3c9f-11e4-87dc-1e5ff811d93a] [compute_training_data_logloss] logloss_value = 0.551994277689 "
       ]
      },
      {
       "output_type": "stream",
       "stream": "stdout",
       "text": [
        "\n",
        "[LSVM40Groups_0a49be54-3c9f-11e4-a643-1e5ff811d93a] [compute_training_data_logloss] conpute logloss with decision_function \n",
        "[LSVM40Groups_0a49be54-3c9f-11e4-a643-1e5ff811d93a] [compute_training_data_logloss] logloss_value = 0.553377644009 "
       ]
      },
      {
       "output_type": "stream",
       "stream": "stdout",
       "text": [
        "\n"
       ]
      }
     ],
     "prompt_number": 45
    },
    {
     "cell_type": "code",
     "collapsed": false,
     "input": [
      "m = svm_series.series_models[0]"
     ],
     "language": "python",
     "metadata": {},
     "outputs": [],
     "prompt_number": 17
    },
    {
     "cell_type": "code",
     "collapsed": false,
     "input": [
      "%time m.compute_training_data_logloss(prob_func=lambda xx:erf(0.3*np.subtract(xx,-1.3)),use_prediction=\"decision_function\",sample_slice  = slice(0,None,None))"
     ],
     "language": "python",
     "metadata": {},
     "outputs": [
      {
       "output_type": "stream",
       "stream": "stdout",
       "text": [
        "[LSVM40Groups_4e925d02-3c9d-11e4-b2c2-1e5ff811d93a] [compute_training_data_logloss] conpute logloss with decision_function \n",
        "[LSVM40Groups_4e925d02-3c9d-11e4-b2c2-1e5ff811d93a] [compute_training_data_logloss] logloss_value = 0.55569811621 "
       ]
      },
      {
       "output_type": "stream",
       "stream": "stdout",
       "text": [
        "\n",
        "CPU times: user 12.7 s, sys: 1.85 s, total: 14.5 s"
       ]
      },
      {
       "output_type": "stream",
       "stream": "stdout",
       "text": [
        "\n",
        "Wall time: 4.76 s\n"
       ]
      },
      {
       "metadata": {},
       "output_type": "pyout",
       "prompt_number": 18,
       "text": [
        "0.55569811621003096"
       ]
      }
     ],
     "prompt_number": 18
    },
    {
     "cell_type": "code",
     "collapsed": false,
     "input": [
      "#logloss_dict"
     ],
     "language": "python",
     "metadata": {},
     "outputs": [],
     "prompt_number": 22
    },
    {
     "cell_type": "code",
     "collapsed": false,
     "input": [],
     "language": "python",
     "metadata": {},
     "outputs": []
    },
    {
     "cell_type": "code",
     "collapsed": false,
     "input": [],
     "language": "python",
     "metadata": {},
     "outputs": [],
     "prompt_number": 35
    },
    {
     "cell_type": "code",
     "collapsed": false,
     "input": [],
     "language": "python",
     "metadata": {},
     "outputs": [],
     "prompt_number": 36
    },
    {
     "cell_type": "code",
     "collapsed": false,
     "input": [
      "#rf_series.series_models"
     ],
     "language": "python",
     "metadata": {},
     "outputs": [],
     "prompt_number": 37
    },
    {
     "cell_type": "code",
     "collapsed": false,
     "input": [
      "rf_logloss_dict1 = rf_series.compute_training_data_logloss(use_prediction=\"predict_proba\",\n",
      "                                                           sample_slice  = slice(0,1000000,None))"
     ],
     "language": "python",
     "metadata": {},
     "outputs": [
      {
       "output_type": "stream",
       "stream": "stdout",
       "text": [
        "[RFmss10ne200-40Groups_ffca52ca-3d54-11e4-9872-5a1064dce9ab] [compute_training_data_logloss] conpute logloss with predict_proba \n",
        "[RFmss10ne200-40Groups_ffca52ca-3d54-11e4-9872-5a1064dce9ab] [compute_training_data_logloss] logloss_value = 0.49174389931 "
       ]
      },
      {
       "output_type": "stream",
       "stream": "stdout",
       "text": [
        "\n",
        "[RFmss10ne200-40Groups_96e6dfac-3dfa-11e4-9872-5a1064dce9ab] [compute_training_data_logloss] conpute logloss with predict_proba \n",
        "[RFmss10ne200-40Groups_96e6dfac-3dfa-11e4-9872-5a1064dce9ab] [compute_training_data_logloss] logloss_value = 0.493043958186 "
       ]
      },
      {
       "output_type": "stream",
       "stream": "stdout",
       "text": [
        "\n",
        "[RFmss10ne200-40Groups_1ef4e8dc-3de5-11e4-9872-5a1064dce9ab] [compute_training_data_logloss] conpute logloss with predict_proba \n",
        "[RFmss10ne200-40Groups_1ef4e8dc-3de5-11e4-9872-5a1064dce9ab] [compute_training_data_logloss] logloss_value = 0.49391074478 "
       ]
      },
      {
       "output_type": "stream",
       "stream": "stdout",
       "text": [
        "\n",
        "[RFmss10ne200-40Groups_6d99e818-3dcf-11e4-9872-5a1064dce9ab] [compute_training_data_logloss] conpute logloss with predict_proba \n",
        "[RFmss10ne200-40Groups_6d99e818-3dcf-11e4-9872-5a1064dce9ab] [compute_training_data_logloss] logloss_value = 0.493110209797 "
       ]
      },
      {
       "output_type": "stream",
       "stream": "stdout",
       "text": [
        "\n",
        "[RFmss10ne200-40Groups_732cc740-3df3-11e4-9872-5a1064dce9ab] [compute_training_data_logloss] conpute logloss with predict_proba \n",
        "[RFmss10ne200-40Groups_732cc740-3df3-11e4-9872-5a1064dce9ab] [compute_training_data_logloss] logloss_value = 0.492651314135 "
       ]
      },
      {
       "output_type": "stream",
       "stream": "stdout",
       "text": [
        "\n",
        "[RFmss10ne200-40Groups_e1d006ca-3d95-11e4-9872-5a1064dce9ab] [compute_training_data_logloss] conpute logloss with predict_proba \n",
        "[RFmss10ne200-40Groups_e1d006ca-3d95-11e4-9872-5a1064dce9ab] [compute_training_data_logloss] logloss_value = 0.49310169048 "
       ]
      },
      {
       "output_type": "stream",
       "stream": "stdout",
       "text": [
        "\n",
        "[RFmss10ne200-40Groups_7ac82f46-3dab-11e4-9872-5a1064dce9ab] [compute_training_data_logloss] conpute logloss with predict_proba \n",
        "[RFmss10ne200-40Groups_7ac82f46-3dab-11e4-9872-5a1064dce9ab] [compute_training_data_logloss] logloss_value = 0.494157777558 "
       ]
      },
      {
       "output_type": "stream",
       "stream": "stdout",
       "text": [
        "\n",
        "[RFmss10ne200-40Groups_55b2f6c8-3dec-11e4-9872-5a1064dce9ab] [compute_training_data_logloss] conpute logloss with predict_proba \n",
        "[RFmss10ne200-40Groups_55b2f6c8-3dec-11e4-9872-5a1064dce9ab] [compute_training_data_logloss] logloss_value = 0.491728651088 "
       ]
      },
      {
       "output_type": "stream",
       "stream": "stdout",
       "text": [
        "\n",
        "[RFmss10ne200-40Groups_ae25dd7e-3d8e-11e4-9872-5a1064dce9ab] [compute_training_data_logloss] conpute logloss with predict_proba \n",
        "[RFmss10ne200-40Groups_ae25dd7e-3d8e-11e4-9872-5a1064dce9ab] [compute_training_data_logloss] logloss_value = 0.494057191077 "
       ]
      },
      {
       "output_type": "stream",
       "stream": "stdout",
       "text": [
        "\n",
        "[RFmss10ne200-40Groups_d2df0bd6-3d4d-11e4-9872-5a1064dce9ab] [compute_training_data_logloss] conpute logloss with predict_proba \n",
        "[RFmss10ne200-40Groups_d2df0bd6-3d4d-11e4-9872-5a1064dce9ab] [compute_training_data_logloss] logloss_value = 0.491247716999 "
       ]
      },
      {
       "output_type": "stream",
       "stream": "stdout",
       "text": [
        "\n",
        "[RFmss10ne200-40Groups_e947a10e-3ddd-11e4-9872-5a1064dce9ab] [compute_training_data_logloss] conpute logloss with predict_proba \n",
        "[RFmss10ne200-40Groups_e947a10e-3ddd-11e4-9872-5a1064dce9ab] [compute_training_data_logloss] logloss_value = 0.493935765851 "
       ]
      },
      {
       "output_type": "stream",
       "stream": "stdout",
       "text": [
        "\n",
        "[RFmss10ne200-40Groups_baf2be96-3e01-11e4-9872-5a1064dce9ab] [compute_training_data_logloss] conpute logloss with predict_proba \n",
        "[RFmss10ne200-40Groups_baf2be96-3e01-11e4-9872-5a1064dce9ab] [compute_training_data_logloss] logloss_value = 0.496096141493 "
       ]
      },
      {
       "output_type": "stream",
       "stream": "stdout",
       "text": [
        "\n",
        "[RFmss10ne200-40Groups_b93c14c4-3dd6-11e4-9872-5a1064dce9ab] [compute_training_data_logloss] conpute logloss with predict_proba \n",
        "[RFmss10ne200-40Groups_b93c14c4-3dd6-11e4-9872-5a1064dce9ab] [compute_training_data_logloss] logloss_value = 0.493510925611 "
       ]
      },
      {
       "output_type": "stream",
       "stream": "stdout",
       "text": [
        "\n",
        "[RFmss10ne200-40Groups_201f9140-3dc1-11e4-9872-5a1064dce9ab] [compute_training_data_logloss] conpute logloss with predict_proba \n",
        "[RFmss10ne200-40Groups_201f9140-3dc1-11e4-9872-5a1064dce9ab] [compute_training_data_logloss] logloss_value = 0.49174687825 "
       ]
      },
      {
       "output_type": "stream",
       "stream": "stdout",
       "text": [
        "\n",
        "[RFmss10ne200-40Groups_410053ac-3dc8-11e4-9872-5a1064dce9ab] [compute_training_data_logloss] conpute logloss with predict_proba \n",
        "[RFmss10ne200-40Groups_410053ac-3dc8-11e4-9872-5a1064dce9ab] [compute_training_data_logloss] logloss_value = 0.492454545081 "
       ]
      },
      {
       "output_type": "stream",
       "stream": "stdout",
       "text": [
        "\n",
        "[RFmss10ne200-40Groups_14f5ca92-3d9d-11e4-9872-5a1064dce9ab] [compute_training_data_logloss] conpute logloss with predict_proba \n",
        "[RFmss10ne200-40Groups_14f5ca92-3d9d-11e4-9872-5a1064dce9ab] [compute_training_data_logloss] logloss_value = 0.493622124097 "
       ]
      },
      {
       "output_type": "stream",
       "stream": "stdout",
       "text": [
        "\n",
        "[RFmss10ne200-40Groups_4315ad96-3da4-11e4-9872-5a1064dce9ab] [compute_training_data_logloss] conpute logloss with predict_proba \n",
        "[RFmss10ne200-40Groups_4315ad96-3da4-11e4-9872-5a1064dce9ab] [compute_training_data_logloss] logloss_value = 0.493717025108 "
       ]
      },
      {
       "output_type": "stream",
       "stream": "stdout",
       "text": [
        "\n",
        "[RFmss10ne200-40Groups_b627f178-3db2-11e4-9872-5a1064dce9ab] [compute_training_data_logloss] conpute logloss with predict_proba \n",
        "[RFmss10ne200-40Groups_b627f178-3db2-11e4-9872-5a1064dce9ab] [compute_training_data_logloss] logloss_value = 0.494760115931 "
       ]
      },
      {
       "output_type": "stream",
       "stream": "stdout",
       "text": [
        "\n",
        "[RFmss10ne200-40Groups_9a8d6d4c-3d46-11e4-9872-5a1064dce9ab] [compute_training_data_logloss] conpute logloss with predict_proba \n",
        "[RFmss10ne200-40Groups_9a8d6d4c-3d46-11e4-9872-5a1064dce9ab] [compute_training_data_logloss] logloss_value = 0.235398760933 "
       ]
      },
      {
       "output_type": "stream",
       "stream": "stdout",
       "text": [
        "\n",
        "[RFmss10ne200-40Groups_817e0644-3d6a-11e4-9872-5a1064dce9ab] [compute_training_data_logloss] conpute logloss with predict_proba \n",
        "[RFmss10ne200-40Groups_817e0644-3d6a-11e4-9872-5a1064dce9ab] [compute_training_data_logloss] logloss_value = 0.491878112309 "
       ]
      },
      {
       "output_type": "stream",
       "stream": "stdout",
       "text": [
        "\n",
        "[RFmss10ne200-40Groups_e7007d40-3db9-11e4-9872-5a1064dce9ab] [compute_training_data_logloss] conpute logloss with predict_proba \n",
        "[RFmss10ne200-40Groups_e7007d40-3db9-11e4-9872-5a1064dce9ab] [compute_training_data_logloss] logloss_value = 0.493313311509 "
       ]
      },
      {
       "output_type": "stream",
       "stream": "stdout",
       "text": [
        "\n",
        "[RFmss10ne200-40Groups_671fc284-3d87-11e4-9872-5a1064dce9ab] [compute_training_data_logloss] conpute logloss with predict_proba \n",
        "[RFmss10ne200-40Groups_671fc284-3d87-11e4-9872-5a1064dce9ab] [compute_training_data_logloss] logloss_value = 0.494596318346 "
       ]
      },
      {
       "output_type": "stream",
       "stream": "stdout",
       "text": [
        "\n",
        "[RFmss10ne200-40Groups_061893a0-3d80-11e4-9872-5a1064dce9ab] [compute_training_data_logloss] conpute logloss with predict_proba \n",
        "[RFmss10ne200-40Groups_061893a0-3d80-11e4-9872-5a1064dce9ab] [compute_training_data_logloss] logloss_value = 0.494098622534 "
       ]
      },
      {
       "output_type": "stream",
       "stream": "stdout",
       "text": [
        "\n",
        "[RFmss10ne200-40Groups_adeba392-3d71-11e4-9872-5a1064dce9ab] [compute_training_data_logloss] conpute logloss with predict_proba \n",
        "[RFmss10ne200-40Groups_adeba392-3d71-11e4-9872-5a1064dce9ab] [compute_training_data_logloss] logloss_value = 0.491959524472 "
       ]
      },
      {
       "output_type": "stream",
       "stream": "stdout",
       "text": [
        "\n",
        "[RFmss10ne200-40Groups_e5d1d7c6-3e08-11e4-9872-5a1064dce9ab] [compute_training_data_logloss] conpute logloss with predict_proba \n",
        "[RFmss10ne200-40Groups_e5d1d7c6-3e08-11e4-9872-5a1064dce9ab] [compute_training_data_logloss] logloss_value = 0.49667056782 "
       ]
      },
      {
       "output_type": "stream",
       "stream": "stdout",
       "text": [
        "\n",
        "[RFmss10ne200-40Groups_28456df0-3d5c-11e4-9872-5a1064dce9ab] [compute_training_data_logloss] conpute logloss with predict_proba \n",
        "[RFmss10ne200-40Groups_28456df0-3d5c-11e4-9872-5a1064dce9ab] [compute_training_data_logloss] logloss_value = 0.492442936797 "
       ]
      },
      {
       "output_type": "stream",
       "stream": "stdout",
       "text": [
        "\n",
        "[RFmss10ne200-40Groups_53e6a918-3d63-11e4-9872-5a1064dce9ab] [compute_training_data_logloss] conpute logloss with predict_proba \n",
        "[RFmss10ne200-40Groups_53e6a918-3d63-11e4-9872-5a1064dce9ab] [compute_training_data_logloss] logloss_value = 0.493147948826 "
       ]
      },
      {
       "output_type": "stream",
       "stream": "stdout",
       "text": [
        "\n",
        "[RFmss10ne200-40Groups_d5b12cc4-3d78-11e4-9872-5a1064dce9ab] [compute_training_data_logloss] conpute logloss with predict_proba \n",
        "[RFmss10ne200-40Groups_d5b12cc4-3d78-11e4-9872-5a1064dce9ab] [compute_training_data_logloss] logloss_value = 0.492972787273 "
       ]
      },
      {
       "output_type": "stream",
       "stream": "stdout",
       "text": [
        "\n"
       ]
      }
     ],
     "prompt_number": 47
    },
    {
     "cell_type": "code",
     "collapsed": false,
     "input": [
      "rf_logloss_dict2 = rf_series.compute_training_data_logloss(use_prediction=\"predict_proba\",\n",
      "                                                           sample_slice  = slice(1000000,3000000,None))"
     ],
     "language": "python",
     "metadata": {},
     "outputs": [
      {
       "output_type": "stream",
       "stream": "stdout",
       "text": [
        "[RFmss10ne200-40Groups_ffca52ca-3d54-11e4-9872-5a1064dce9ab] [compute_training_data_logloss] conpute logloss with predict_proba \n",
        "[RFmss10ne200-40Groups_ffca52ca-3d54-11e4-9872-5a1064dce9ab] [compute_training_data_logloss] logloss_value = 0.398071203213 "
       ]
      },
      {
       "output_type": "stream",
       "stream": "stdout",
       "text": [
        "\n",
        "[RFmss10ne200-40Groups_96e6dfac-3dfa-11e4-9872-5a1064dce9ab] [compute_training_data_logloss] conpute logloss with predict_proba \n",
        "[RFmss10ne200-40Groups_96e6dfac-3dfa-11e4-9872-5a1064dce9ab] [compute_training_data_logloss] logloss_value = 0.489711423641 "
       ]
      },
      {
       "output_type": "stream",
       "stream": "stdout",
       "text": [
        "\n",
        "[RFmss10ne200-40Groups_1ef4e8dc-3de5-11e4-9872-5a1064dce9ab] [compute_training_data_logloss] conpute logloss with predict_proba \n",
        "[RFmss10ne200-40Groups_1ef4e8dc-3de5-11e4-9872-5a1064dce9ab] [compute_training_data_logloss] logloss_value = 0.490286945556 "
       ]
      },
      {
       "output_type": "stream",
       "stream": "stdout",
       "text": [
        "\n",
        "[RFmss10ne200-40Groups_6d99e818-3dcf-11e4-9872-5a1064dce9ab] [compute_training_data_logloss] conpute logloss with predict_proba \n",
        "[RFmss10ne200-40Groups_6d99e818-3dcf-11e4-9872-5a1064dce9ab] [compute_training_data_logloss] logloss_value = 0.489523456792 "
       ]
      },
      {
       "output_type": "stream",
       "stream": "stdout",
       "text": [
        "\n",
        "[RFmss10ne200-40Groups_732cc740-3df3-11e4-9872-5a1064dce9ab] [compute_training_data_logloss] conpute logloss with predict_proba \n",
        "[RFmss10ne200-40Groups_732cc740-3df3-11e4-9872-5a1064dce9ab] [compute_training_data_logloss] logloss_value = 0.489420722114 "
       ]
      },
      {
       "output_type": "stream",
       "stream": "stdout",
       "text": [
        "\n",
        "[RFmss10ne200-40Groups_e1d006ca-3d95-11e4-9872-5a1064dce9ab] [compute_training_data_logloss] conpute logloss with predict_proba \n",
        "[RFmss10ne200-40Groups_e1d006ca-3d95-11e4-9872-5a1064dce9ab] [compute_training_data_logloss] logloss_value = 0.491611067619 "
       ]
      },
      {
       "output_type": "stream",
       "stream": "stdout",
       "text": [
        "\n",
        "[RFmss10ne200-40Groups_7ac82f46-3dab-11e4-9872-5a1064dce9ab] [compute_training_data_logloss] conpute logloss with predict_proba \n",
        "[RFmss10ne200-40Groups_7ac82f46-3dab-11e4-9872-5a1064dce9ab] [compute_training_data_logloss] logloss_value = 0.490905650238 "
       ]
      },
      {
       "output_type": "stream",
       "stream": "stdout",
       "text": [
        "\n",
        "[RFmss10ne200-40Groups_55b2f6c8-3dec-11e4-9872-5a1064dce9ab] [compute_training_data_logloss] conpute logloss with predict_proba \n",
        "[RFmss10ne200-40Groups_55b2f6c8-3dec-11e4-9872-5a1064dce9ab] [compute_training_data_logloss] logloss_value = 0.490310959146 "
       ]
      },
      {
       "output_type": "stream",
       "stream": "stdout",
       "text": [
        "\n",
        "[RFmss10ne200-40Groups_ae25dd7e-3d8e-11e4-9872-5a1064dce9ab] [compute_training_data_logloss] conpute logloss with predict_proba \n",
        "[RFmss10ne200-40Groups_ae25dd7e-3d8e-11e4-9872-5a1064dce9ab] [compute_training_data_logloss] logloss_value = 0.490826040186 "
       ]
      },
      {
       "output_type": "stream",
       "stream": "stdout",
       "text": [
        "\n",
        "[RFmss10ne200-40Groups_d2df0bd6-3d4d-11e4-9872-5a1064dce9ab] [compute_training_data_logloss] conpute logloss with predict_proba \n",
        "[RFmss10ne200-40Groups_d2df0bd6-3d4d-11e4-9872-5a1064dce9ab] [compute_training_data_logloss] logloss_value = 0.342921624441 "
       ]
      },
      {
       "output_type": "stream",
       "stream": "stdout",
       "text": [
        "\n",
        "[RFmss10ne200-40Groups_e947a10e-3ddd-11e4-9872-5a1064dce9ab] [compute_training_data_logloss] conpute logloss with predict_proba \n",
        "[RFmss10ne200-40Groups_e947a10e-3ddd-11e4-9872-5a1064dce9ab] [compute_training_data_logloss] logloss_value = 0.490465930092 "
       ]
      },
      {
       "output_type": "stream",
       "stream": "stdout",
       "text": [
        "\n",
        "[RFmss10ne200-40Groups_baf2be96-3e01-11e4-9872-5a1064dce9ab] [compute_training_data_logloss] conpute logloss with predict_proba \n",
        "[RFmss10ne200-40Groups_baf2be96-3e01-11e4-9872-5a1064dce9ab] [compute_training_data_logloss] logloss_value = 0.492606988738 "
       ]
      },
      {
       "output_type": "stream",
       "stream": "stdout",
       "text": [
        "\n",
        "[RFmss10ne200-40Groups_b93c14c4-3dd6-11e4-9872-5a1064dce9ab] [compute_training_data_logloss] conpute logloss with predict_proba \n",
        "[RFmss10ne200-40Groups_b93c14c4-3dd6-11e4-9872-5a1064dce9ab] [compute_training_data_logloss] logloss_value = 0.489893264993 "
       ]
      },
      {
       "output_type": "stream",
       "stream": "stdout",
       "text": [
        "\n",
        "[RFmss10ne200-40Groups_201f9140-3dc1-11e4-9872-5a1064dce9ab] [compute_training_data_logloss] conpute logloss with predict_proba \n",
        "[RFmss10ne200-40Groups_201f9140-3dc1-11e4-9872-5a1064dce9ab] [compute_training_data_logloss] logloss_value = 0.490213062125 "
       ]
      },
      {
       "output_type": "stream",
       "stream": "stdout",
       "text": [
        "\n",
        "[RFmss10ne200-40Groups_410053ac-3dc8-11e4-9872-5a1064dce9ab] [compute_training_data_logloss] conpute logloss with predict_proba \n",
        "[RFmss10ne200-40Groups_410053ac-3dc8-11e4-9872-5a1064dce9ab] [compute_training_data_logloss] logloss_value = 0.48923141827 "
       ]
      },
      {
       "output_type": "stream",
       "stream": "stdout",
       "text": [
        "\n",
        "[RFmss10ne200-40Groups_14f5ca92-3d9d-11e4-9872-5a1064dce9ab] [compute_training_data_logloss] conpute logloss with predict_proba \n",
        "[RFmss10ne200-40Groups_14f5ca92-3d9d-11e4-9872-5a1064dce9ab] [compute_training_data_logloss] logloss_value = 0.490216921469 "
       ]
      },
      {
       "output_type": "stream",
       "stream": "stdout",
       "text": [
        "\n",
        "[RFmss10ne200-40Groups_4315ad96-3da4-11e4-9872-5a1064dce9ab] [compute_training_data_logloss] conpute logloss with predict_proba \n",
        "[RFmss10ne200-40Groups_4315ad96-3da4-11e4-9872-5a1064dce9ab] [compute_training_data_logloss] logloss_value = 0.490327346428 "
       ]
      },
      {
       "output_type": "stream",
       "stream": "stdout",
       "text": [
        "\n",
        "[RFmss10ne200-40Groups_b627f178-3db2-11e4-9872-5a1064dce9ab] [compute_training_data_logloss] conpute logloss with predict_proba \n",
        "[RFmss10ne200-40Groups_b627f178-3db2-11e4-9872-5a1064dce9ab] [compute_training_data_logloss] logloss_value = 0.491283132004 "
       ]
      },
      {
       "output_type": "stream",
       "stream": "stdout",
       "text": [
        "\n",
        "[RFmss10ne200-40Groups_9a8d6d4c-3d46-11e4-9872-5a1064dce9ab] [compute_training_data_logloss] conpute logloss with predict_proba \n",
        "[RFmss10ne200-40Groups_9a8d6d4c-3d46-11e4-9872-5a1064dce9ab] [compute_training_data_logloss] logloss_value = 0.47026071813 "
       ]
      },
      {
       "output_type": "stream",
       "stream": "stdout",
       "text": [
        "\n",
        "[RFmss10ne200-40Groups_817e0644-3d6a-11e4-9872-5a1064dce9ab] [compute_training_data_logloss] conpute logloss with predict_proba \n",
        "[RFmss10ne200-40Groups_817e0644-3d6a-11e4-9872-5a1064dce9ab] [compute_training_data_logloss] logloss_value = 0.489610638248 "
       ]
      },
      {
       "output_type": "stream",
       "stream": "stdout",
       "text": [
        "\n",
        "[RFmss10ne200-40Groups_e7007d40-3db9-11e4-9872-5a1064dce9ab] [compute_training_data_logloss] conpute logloss with predict_proba \n",
        "[RFmss10ne200-40Groups_e7007d40-3db9-11e4-9872-5a1064dce9ab] [compute_training_data_logloss] logloss_value = 0.490495934982 "
       ]
      },
      {
       "output_type": "stream",
       "stream": "stdout",
       "text": [
        "\n",
        "[RFmss10ne200-40Groups_671fc284-3d87-11e4-9872-5a1064dce9ab] [compute_training_data_logloss] conpute logloss with predict_proba \n",
        "[RFmss10ne200-40Groups_671fc284-3d87-11e4-9872-5a1064dce9ab] [compute_training_data_logloss] logloss_value = 0.491295658736 "
       ]
      },
      {
       "output_type": "stream",
       "stream": "stdout",
       "text": [
        "\n",
        "[RFmss10ne200-40Groups_061893a0-3d80-11e4-9872-5a1064dce9ab] [compute_training_data_logloss] conpute logloss with predict_proba \n",
        "[RFmss10ne200-40Groups_061893a0-3d80-11e4-9872-5a1064dce9ab] [compute_training_data_logloss] logloss_value = 0.490976931657 "
       ]
      },
      {
       "output_type": "stream",
       "stream": "stdout",
       "text": [
        "\n",
        "[RFmss10ne200-40Groups_adeba392-3d71-11e4-9872-5a1064dce9ab] [compute_training_data_logloss] conpute logloss with predict_proba \n",
        "[RFmss10ne200-40Groups_adeba392-3d71-11e4-9872-5a1064dce9ab] [compute_training_data_logloss] logloss_value = 0.489654894095 "
       ]
      },
      {
       "output_type": "stream",
       "stream": "stdout",
       "text": [
        "\n",
        "[RFmss10ne200-40Groups_e5d1d7c6-3e08-11e4-9872-5a1064dce9ab] [compute_training_data_logloss] conpute logloss with predict_proba \n",
        "[RFmss10ne200-40Groups_e5d1d7c6-3e08-11e4-9872-5a1064dce9ab] [compute_training_data_logloss] logloss_value = 0.493065503862 "
       ]
      },
      {
       "output_type": "stream",
       "stream": "stdout",
       "text": [
        "\n",
        "[RFmss10ne200-40Groups_28456df0-3d5c-11e4-9872-5a1064dce9ab] [compute_training_data_logloss] conpute logloss with predict_proba \n",
        "[RFmss10ne200-40Groups_28456df0-3d5c-11e4-9872-5a1064dce9ab] [compute_training_data_logloss] logloss_value = 0.489096889176 "
       ]
      },
      {
       "output_type": "stream",
       "stream": "stdout",
       "text": [
        "\n",
        "[RFmss10ne200-40Groups_53e6a918-3d63-11e4-9872-5a1064dce9ab] [compute_training_data_logloss] conpute logloss with predict_proba \n",
        "[RFmss10ne200-40Groups_53e6a918-3d63-11e4-9872-5a1064dce9ab] [compute_training_data_logloss] logloss_value = 0.489821594131 "
       ]
      },
      {
       "output_type": "stream",
       "stream": "stdout",
       "text": [
        "\n",
        "[RFmss10ne200-40Groups_d5b12cc4-3d78-11e4-9872-5a1064dce9ab] [compute_training_data_logloss] conpute logloss with predict_proba \n",
        "[RFmss10ne200-40Groups_d5b12cc4-3d78-11e4-9872-5a1064dce9ab] [compute_training_data_logloss] logloss_value = 0.489774171002 "
       ]
      },
      {
       "output_type": "stream",
       "stream": "stdout",
       "text": [
        "\n"
       ]
      }
     ],
     "prompt_number": 48
    },
    {
     "cell_type": "code",
     "collapsed": false,
     "input": [],
     "language": "python",
     "metadata": {},
     "outputs": []
    },
    {
     "cell_type": "code",
     "collapsed": false,
     "input": [
      "import pandas as pd"
     ],
     "language": "python",
     "metadata": {},
     "outputs": [],
     "prompt_number": 42
    },
    {
     "cell_type": "code",
     "collapsed": false,
     "input": [
      "pd.DataFrame([pd.Series(rf_logloss_dict1),pd.Series(rf_logloss_dict2)])"
     ],
     "language": "python",
     "metadata": {},
     "outputs": [
      {
       "html": [
        "<div style=\"max-height:1000px;max-width:1500px;overflow:auto;\">\n",
        "<table border=\"1\" class=\"dataframe\">\n",
        "  <thead>\n",
        "    <tr style=\"text-align: right;\">\n",
        "      <th></th>\n",
        "      <th>RFmss10ne200-40Groups_061893a0-3d80-11e4-9872-5a1064dce9ab</th>\n",
        "      <th>RFmss10ne200-40Groups_14f5ca92-3d9d-11e4-9872-5a1064dce9ab</th>\n",
        "      <th>RFmss10ne200-40Groups_1ef4e8dc-3de5-11e4-9872-5a1064dce9ab</th>\n",
        "      <th>RFmss10ne200-40Groups_201f9140-3dc1-11e4-9872-5a1064dce9ab</th>\n",
        "      <th>RFmss10ne200-40Groups_28456df0-3d5c-11e4-9872-5a1064dce9ab</th>\n",
        "      <th>RFmss10ne200-40Groups_410053ac-3dc8-11e4-9872-5a1064dce9ab</th>\n",
        "      <th>RFmss10ne200-40Groups_4315ad96-3da4-11e4-9872-5a1064dce9ab</th>\n",
        "      <th>RFmss10ne200-40Groups_53e6a918-3d63-11e4-9872-5a1064dce9ab</th>\n",
        "      <th>RFmss10ne200-40Groups_55b2f6c8-3dec-11e4-9872-5a1064dce9ab</th>\n",
        "      <th>RFmss10ne200-40Groups_671fc284-3d87-11e4-9872-5a1064dce9ab</th>\n",
        "      <th>...</th>\n",
        "      <th>RFmss10ne200-40Groups_b627f178-3db2-11e4-9872-5a1064dce9ab</th>\n",
        "      <th>RFmss10ne200-40Groups_b93c14c4-3dd6-11e4-9872-5a1064dce9ab</th>\n",
        "      <th>RFmss10ne200-40Groups_baf2be96-3e01-11e4-9872-5a1064dce9ab</th>\n",
        "      <th>RFmss10ne200-40Groups_d2df0bd6-3d4d-11e4-9872-5a1064dce9ab</th>\n",
        "      <th>RFmss10ne200-40Groups_d5b12cc4-3d78-11e4-9872-5a1064dce9ab</th>\n",
        "      <th>RFmss10ne200-40Groups_e1d006ca-3d95-11e4-9872-5a1064dce9ab</th>\n",
        "      <th>RFmss10ne200-40Groups_e5d1d7c6-3e08-11e4-9872-5a1064dce9ab</th>\n",
        "      <th>RFmss10ne200-40Groups_e7007d40-3db9-11e4-9872-5a1064dce9ab</th>\n",
        "      <th>RFmss10ne200-40Groups_e947a10e-3ddd-11e4-9872-5a1064dce9ab</th>\n",
        "      <th>RFmss10ne200-40Groups_ffca52ca-3d54-11e4-9872-5a1064dce9ab</th>\n",
        "    </tr>\n",
        "  </thead>\n",
        "  <tbody>\n",
        "    <tr>\n",
        "      <th>0</th>\n",
        "      <td> 0.494099</td>\n",
        "      <td> 0.493622</td>\n",
        "      <td> 0.493911</td>\n",
        "      <td> 0.491747</td>\n",
        "      <td> 0.492443</td>\n",
        "      <td> 0.492455</td>\n",
        "      <td> 0.493717</td>\n",
        "      <td> 0.493148</td>\n",
        "      <td> 0.491729</td>\n",
        "      <td> 0.494596</td>\n",
        "      <td>...</td>\n",
        "      <td> 0.49476</td>\n",
        "      <td> 0.493511</td>\n",
        "      <td> 0.496096</td>\n",
        "      <td> 0.491248</td>\n",
        "      <td> 0.492973</td>\n",
        "      <td> 0.493102</td>\n",
        "      <td> 0.496671</td>\n",
        "      <td> 0.493313</td>\n",
        "      <td> 0.493936</td>\n",
        "      <td> 0.491744</td>\n",
        "    </tr>\n",
        "    <tr>\n",
        "      <th>1</th>\n",
        "      <td> 0.490848</td>\n",
        "      <td> 0.490041</td>\n",
        "      <td> 0.490086</td>\n",
        "      <td> 0.489542</td>\n",
        "      <td> 0.488935</td>\n",
        "      <td> 0.488459</td>\n",
        "      <td> 0.490326</td>\n",
        "      <td> 0.489738</td>\n",
        "      <td> 0.489665</td>\n",
        "      <td> 0.491192</td>\n",
        "      <td>...</td>\n",
        "      <td> 0.49117</td>\n",
        "      <td> 0.489714</td>\n",
        "      <td> 0.492364</td>\n",
        "      <td> 0.270906</td>\n",
        "      <td> 0.489504</td>\n",
        "      <td> 0.491249</td>\n",
        "      <td> 0.492727</td>\n",
        "      <td> 0.490304</td>\n",
        "      <td> 0.490176</td>\n",
        "      <td> 0.487866</td>\n",
        "    </tr>\n",
        "  </tbody>\n",
        "</table>\n",
        "<p>2 rows \u00d7 28 columns</p>\n",
        "</div>"
       ],
       "metadata": {},
       "output_type": "pyout",
       "prompt_number": 44,
       "text": [
        "   RFmss10ne200-40Groups_061893a0-3d80-11e4-9872-5a1064dce9ab  \\\n",
        "0                                           0.494099            \n",
        "1                                           0.490848            \n",
        "\n",
        "   RFmss10ne200-40Groups_14f5ca92-3d9d-11e4-9872-5a1064dce9ab  \\\n",
        "0                                           0.493622            \n",
        "1                                           0.490041            \n",
        "\n",
        "   RFmss10ne200-40Groups_1ef4e8dc-3de5-11e4-9872-5a1064dce9ab  \\\n",
        "0                                           0.493911            \n",
        "1                                           0.490086            \n",
        "\n",
        "   RFmss10ne200-40Groups_201f9140-3dc1-11e4-9872-5a1064dce9ab  \\\n",
        "0                                           0.491747            \n",
        "1                                           0.489542            \n",
        "\n",
        "   RFmss10ne200-40Groups_28456df0-3d5c-11e4-9872-5a1064dce9ab  \\\n",
        "0                                           0.492443            \n",
        "1                                           0.488935            \n",
        "\n",
        "   RFmss10ne200-40Groups_410053ac-3dc8-11e4-9872-5a1064dce9ab  \\\n",
        "0                                           0.492455            \n",
        "1                                           0.488459            \n",
        "\n",
        "   RFmss10ne200-40Groups_4315ad96-3da4-11e4-9872-5a1064dce9ab  \\\n",
        "0                                           0.493717            \n",
        "1                                           0.490326            \n",
        "\n",
        "   RFmss10ne200-40Groups_53e6a918-3d63-11e4-9872-5a1064dce9ab  \\\n",
        "0                                           0.493148            \n",
        "1                                           0.489738            \n",
        "\n",
        "   RFmss10ne200-40Groups_55b2f6c8-3dec-11e4-9872-5a1064dce9ab  \\\n",
        "0                                           0.491729            \n",
        "1                                           0.489665            \n",
        "\n",
        "   RFmss10ne200-40Groups_671fc284-3d87-11e4-9872-5a1064dce9ab  \\\n",
        "0                                           0.494596            \n",
        "1                                           0.491192            \n",
        "\n",
        "                              ...                              \\\n",
        "0                             ...                               \n",
        "1                             ...                               \n",
        "\n",
        "   RFmss10ne200-40Groups_b627f178-3db2-11e4-9872-5a1064dce9ab  \\\n",
        "0                                            0.49476            \n",
        "1                                            0.49117            \n",
        "\n",
        "   RFmss10ne200-40Groups_b93c14c4-3dd6-11e4-9872-5a1064dce9ab  \\\n",
        "0                                           0.493511            \n",
        "1                                           0.489714            \n",
        "\n",
        "   RFmss10ne200-40Groups_baf2be96-3e01-11e4-9872-5a1064dce9ab  \\\n",
        "0                                           0.496096            \n",
        "1                                           0.492364            \n",
        "\n",
        "   RFmss10ne200-40Groups_d2df0bd6-3d4d-11e4-9872-5a1064dce9ab  \\\n",
        "0                                           0.491248            \n",
        "1                                           0.270906            \n",
        "\n",
        "   RFmss10ne200-40Groups_d5b12cc4-3d78-11e4-9872-5a1064dce9ab  \\\n",
        "0                                           0.492973            \n",
        "1                                           0.489504            \n",
        "\n",
        "   RFmss10ne200-40Groups_e1d006ca-3d95-11e4-9872-5a1064dce9ab  \\\n",
        "0                                           0.493102            \n",
        "1                                           0.491249            \n",
        "\n",
        "   RFmss10ne200-40Groups_e5d1d7c6-3e08-11e4-9872-5a1064dce9ab  \\\n",
        "0                                           0.496671            \n",
        "1                                           0.492727            \n",
        "\n",
        "   RFmss10ne200-40Groups_e7007d40-3db9-11e4-9872-5a1064dce9ab  \\\n",
        "0                                           0.493313            \n",
        "1                                           0.490304            \n",
        "\n",
        "   RFmss10ne200-40Groups_e947a10e-3ddd-11e4-9872-5a1064dce9ab  \\\n",
        "0                                           0.493936            \n",
        "1                                           0.490176            \n",
        "\n",
        "   RFmss10ne200-40Groups_ffca52ca-3d54-11e4-9872-5a1064dce9ab  \n",
        "0                                           0.491744           \n",
        "1                                           0.487866           \n",
        "\n",
        "[2 rows x 28 columns]"
       ]
      }
     ],
     "prompt_number": 44
    },
    {
     "cell_type": "code",
     "collapsed": false,
     "input": [],
     "language": "python",
     "metadata": {},
     "outputs": []
    },
    {
     "cell_type": "code",
     "collapsed": false,
     "input": [
      "rf_series.series_models[-5].compute_training_data_logloss(use_prediction=\"predict_proba\",\n",
      "                                                          sample_slice=slice(0,None,None))"
     ],
     "language": "python",
     "metadata": {},
     "outputs": [
      {
       "output_type": "stream",
       "stream": "stdout",
       "text": [
        "[RFmss10ne200-40Groups_adeba392-3d71-11e4-9872-5a1064dce9ab] [compute_training_data_logloss] conpute logloss with predict_proba \n",
        "[RFmss10ne200-40Groups_adeba392-3d71-11e4-9872-5a1064dce9ab] [compute_training_data_logloss] logloss_value = 0.490573258 "
       ]
      },
      {
       "output_type": "stream",
       "stream": "stdout",
       "text": [
        "\n"
       ]
      },
      {
       "metadata": {},
       "output_type": "pyout",
       "prompt_number": 57,
       "text": [
        "0.49057325799981127"
       ]
      }
     ],
     "prompt_number": 57
    },
    {
     "cell_type": "code",
     "collapsed": false,
     "input": [
      "rf_test = rf_series.series_models[-5]"
     ],
     "language": "python",
     "metadata": {},
     "outputs": [],
     "prompt_number": 58
    },
    {
     "cell_type": "code",
     "collapsed": false,
     "input": [
      "rf_test.create_kaggle_submit_csv()"
     ],
     "language": "python",
     "metadata": {},
     "outputs": [],
     "prompt_number": 59
    },
    {
     "cell_type": "code",
     "collapsed": false,
     "input": [
      "print rf_test.model_info"
     ],
     "language": "python",
     "metadata": {},
     "outputs": [
      {
       "output_type": "stream",
       "stream": "stdout",
       "text": [
        "{'training_dataset': 'origin', 'training_data_slices': slice(8022112, 9168128, None), 'feature_columns': ['I1', 'I2', 'I3', 'I4', 'I5', 'I6', 'I7', 'I8', 'I9', 'I10', 'I11', 'I12', 'I13', 'C1', 'C2', 'C3', 'C4', 'C5', 'C6', 'C7', 'C8', 'C9', 'C10', 'C11', 'C12', 'C13', 'C14', 'C15', 'C16', 'C17', 'C18', 'C19', 'C20', 'C21', 'C22', 'C23', 'C24', 'C25', 'C26'], 'additional_feature_columns': [], 'model_type': <class 'sklearn.ensemble.forest.RandomForestClassifier'>, 'model_paramters': {'min_samples_split': 10, 'n_estimators': 200, 'n_jobs': 12}}\n"
       ]
      }
     ],
     "prompt_number": 52
    },
    {
     "cell_type": "code",
     "collapsed": false,
     "input": [],
     "language": "python",
     "metadata": {},
     "outputs": []
    },
    {
     "cell_type": "code",
     "collapsed": false,
     "input": [
      "rf_logloss_dict"
     ],
     "language": "python",
     "metadata": {},
     "outputs": [
      {
       "metadata": {},
       "output_type": "pyout",
       "prompt_number": 45,
       "text": [
        "{'RFmss10ne200-40Groups_061893a0-3d80-11e4-9872-5a1064dce9ab': 0.489599970482471,\n",
        " 'RFmss10ne200-40Groups_14f5ca92-3d9d-11e4-9872-5a1064dce9ab': 0.48994279184044626,\n",
        " 'RFmss10ne200-40Groups_1ef4e8dc-3de5-11e4-9872-5a1064dce9ab': 0.48959618246315523,\n",
        " 'RFmss10ne200-40Groups_201f9140-3dc1-11e4-9872-5a1064dce9ab': 0.49159424300064641,\n",
        " 'RFmss10ne200-40Groups_28456df0-3d5c-11e4-9872-5a1064dce9ab': 0.39165913843461958,\n",
        " 'RFmss10ne200-40Groups_410053ac-3dc8-11e4-9872-5a1064dce9ab': 0.49061222672294413,\n",
        " 'RFmss10ne200-40Groups_4315ad96-3da4-11e4-9872-5a1064dce9ab': 0.48921711718325234,\n",
        " 'RFmss10ne200-40Groups_53e6a918-3d63-11e4-9872-5a1064dce9ab': 0.39124762673226082,\n",
        " 'RFmss10ne200-40Groups_55b2f6c8-3dec-11e4-9872-5a1064dce9ab': 0.49183123801214101,\n",
        " 'RFmss10ne200-40Groups_671fc284-3d87-11e4-9872-5a1064dce9ab': 0.48948440584835867,\n",
        " 'RFmss10ne200-40Groups_6d99e818-3dcf-11e4-9872-5a1064dce9ab': 0.49004810606423821,\n",
        " 'RFmss10ne200-40Groups_732cc740-3df3-11e4-9872-5a1064dce9ab': 0.49073638734647734,\n",
        " 'RFmss10ne200-40Groups_7ac82f46-3dab-11e4-9872-5a1064dce9ab': 0.48948073492059091,\n",
        " 'RFmss10ne200-40Groups_817e0644-3d6a-11e4-9872-5a1064dce9ab': 0.46577445786186167,\n",
        " 'RFmss10ne200-40Groups_96e6dfac-3dfa-11e4-9872-5a1064dce9ab': 0.49026521139058565,\n",
        " 'RFmss10ne200-40Groups_9a8d6d4c-3d46-11e4-9872-5a1064dce9ab': 0.49066093461810628,\n",
        " 'RFmss10ne200-40Groups_adeba392-3d71-11e4-9872-5a1064dce9ab': 0.48970086123520268,\n",
        " 'RFmss10ne200-40Groups_ae25dd7e-3d8e-11e4-9872-5a1064dce9ab': 0.48911096792733794,\n",
        " 'RFmss10ne200-40Groups_b627f178-3db2-11e4-9872-5a1064dce9ab': 0.48968930439267949,\n",
        " 'RFmss10ne200-40Groups_b93c14c4-3dd6-11e4-9872-5a1064dce9ab': 0.48960670716402344,\n",
        " 'RFmss10ne200-40Groups_baf2be96-3e01-11e4-9872-5a1064dce9ab': 0.49224846632786817,\n",
        " 'RFmss10ne200-40Groups_d2df0bd6-3d4d-11e4-9872-5a1064dce9ab': 0.49035719949286166,\n",
        " 'RFmss10ne200-40Groups_d5b12cc4-3d78-11e4-9872-5a1064dce9ab': 0.48923239076814196,\n",
        " 'RFmss10ne200-40Groups_e1d006ca-3d95-11e4-9872-5a1064dce9ab': 0.491264373707261,\n",
        " 'RFmss10ne200-40Groups_e5d1d7c6-3e08-11e4-9872-5a1064dce9ab': 0.49208316193514595,\n",
        " 'RFmss10ne200-40Groups_e7007d40-3db9-11e4-9872-5a1064dce9ab': 0.48945882383789163,\n",
        " 'RFmss10ne200-40Groups_e947a10e-3ddd-11e4-9872-5a1064dce9ab': 0.48951480239097384,\n",
        " 'RFmss10ne200-40Groups_ffca52ca-3d54-11e4-9872-5a1064dce9ab': 0.45155530208057698}"
       ]
      }
     ],
     "prompt_number": 45
    },
    {
     "cell_type": "code",
     "collapsed": false,
     "input": [],
     "language": "python",
     "metadata": {},
     "outputs": []
    },
    {
     "cell_type": "code",
     "collapsed": false,
     "input": [],
     "language": "python",
     "metadata": {},
     "outputs": []
    },
    {
     "cell_type": "code",
     "collapsed": false,
     "input": [],
     "language": "python",
     "metadata": {},
     "outputs": []
    }
   ],
   "metadata": {}
  }
 ]
}