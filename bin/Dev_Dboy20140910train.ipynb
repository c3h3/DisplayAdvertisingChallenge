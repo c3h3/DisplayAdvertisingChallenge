{
 "metadata": {
  "name": "",
  "signature": "sha256:7f27e59fa9eb3da78e85b9a26779d03a16fa5b4086f8887f3fe7121d2ee00aa3"
 },
 "nbformat": 3,
 "nbformat_minor": 0,
 "worksheets": [
  {
   "cells": [
    {
     "cell_type": "code",
     "collapsed": false,
     "input": [
      "# import mudules for data io.\n",
      "from hunkaggle.criteo import tools\n",
      "from hunkaggle.criteo.settings import SOURCE_DATA_DIR\n",
      "from hunkaggle.criteo.settings import TRAINING_COLUMN_NAMES\n",
      "from hunkaggle.criteo.settings import TESTING_COLUMN_NAMES\n",
      "import blz, os\n",
      "import numpy as np\n",
      "import cPickle as pickle"
     ],
     "language": "python",
     "metadata": {},
     "outputs": [],
     "prompt_number": 9
    },
    {
     "cell_type": "code",
     "collapsed": false,
     "input": [
      "# few CONSTANCEs\n",
      "print \"TRAINING_COLUMN_NAMES:\\n\", TRAINING_COLUMN_NAMES\n",
      "print\n",
      "print \"TESTING_COLUMN_NAMES:\\n\", TESTING_COLUMN_NAMES\n",
      "print\n",
      "print \"Training barray PATH:\\n\", tools.TRAINING_BLZ_PATH\n",
      "print \n",
      "print \"Testing barray PATH:\\n\", tools.TESTING_BLZ_PATH\n",
      "print \n",
      "print \"Source data PATH:\\n\", tools.TESTING_DATA_PATH"
     ],
     "language": "python",
     "metadata": {},
     "outputs": [
      {
       "output_type": "stream",
       "stream": "stdout",
       "text": [
        "TRAINING_COLUMN_NAMES:\n",
        "['Id', 'Label', 'I1', 'I2', 'I3', 'I4', 'I5', 'I6', 'I7', 'I8', 'I9', 'I10', 'I11', 'I12', 'I13', 'C1', 'C2', 'C3', 'C4', 'C5', 'C6', 'C7', 'C8', 'C9', 'C10', 'C11', 'C12', 'C13', 'C14', 'C15', 'C16', 'C17', 'C18', 'C19', 'C20', 'C21', 'C22', 'C23', 'C24', 'C25', 'C26']\n",
        "\n",
        "TESTING_COLUMN_NAMES:\n",
        "['Id', 'I1', 'I2', 'I3', 'I4', 'I5', 'I6', 'I7', 'I8', 'I9', 'I10', 'I11', 'I12', 'I13', 'C1', 'C2', 'C3', 'C4', 'C5', 'C6', 'C7', 'C8', 'C9', 'C10', 'C11', 'C12', 'C13', 'C14', 'C15', 'C16', 'C17', 'C18', 'C19', 'C20', 'C21', 'C22', 'C23', 'C24', 'C25', 'C26']\n",
        "\n",
        "Training barray PATH:\n",
        "/Users/DboyLiao/Documents/kaggle/DisplayAdvertisingChallenge/data/train_blzs\n",
        "\n",
        "Testing barray PATH:\n",
        "/Users/DboyLiao/Documents/kaggle/DisplayAdvertisingChallenge/data/test_blzs\n",
        "\n",
        "Source data PATH:\n",
        "/Users/DboyLiao/Documents/kaggle/DisplayAdvertisingChallenge/data/test.csv\n"
       ]
      }
     ],
     "prompt_number": 10
    },
    {
     "cell_type": "code",
     "collapsed": false,
     "input": [
      "# Model Predictor: Parallizable\n",
      "def modelPredictor(modelsPath, modelIndex, dataPath, colNames):\n",
      "    \"\"\"\n",
      "    Input: modelsPath: string, the path to the trained models. (pickle file)\n",
      "           modelIndex: integer, the index of the model to predict.\n",
      "           dataPath: string, the path to the data.\n",
      "           colNames: a list of strings, column names of the output table. It should be like [\"Id\", \"V1\", ...]\n",
      "    Output: A btable, consists of Id column, Predicted column and the data.\n",
      "    \n",
      "    Notes:\n",
      "    modelPredictor will create following directories for you if they do not exist.\n",
      "            1. Model_No{modelIndex}_predicted_array: it will be under the dataPath.\n",
      "    \"\"\"\n",
      "    # Set up necessary constance.\n",
      "    divideN = 300000\n",
      "    with open(modelsPath, \"rb\") as rf:\n",
      "        models = pickle.load(rf)\n",
      "    model = models[modelIndex]\n",
      "    max_digit_length = len(str(len(models)))\n",
      "    del models\n",
      "    \n",
      "    # Read in data with btable.\n",
      "    Id = blz.open(os.path.join(dataPath, colNames[0]))\n",
      "    totalN = len(Id)\n",
      "    if totalN % divideN == 0:\n",
      "        nodes_list = [i * divideN for i in range(totalN / divideN + 1)]\n",
      "    else:\n",
      "        nodes_list = [i * divideN for i in range(totalN / divideN + 1)] + [totalN]\n",
      "    nodes_pair_list = zip(nodes_list[:-1], nodes_list[1:])\n",
      "    \n",
      "    # Prediction.\n",
      "    y_predict = np.zeros(totalN)\n",
      "    prefix = \"[Model No.{modelIndex:0\"+ str(max_digit_length) + \"d}] \"\n",
      "    prefix = prefix.format(modelIndex = modelIndex) \n",
      "    msg = prefix + \"Prediction process begins.\"\n",
      "    print msg\n",
      "    for begin, end in nodes_pair_list:\n",
      "        print prefix + \"Processing {begin} ~ {end} observations.\".format(begin = begin + 1, end = end)\n",
      "        columns = [blz.open(os.path.join(dataPath, colname))[begin:end] for colname in colNames[1:]]\n",
      "        X = np.column_stack(columns)\n",
      "        temp = model.predict(X)\n",
      "        y_predict[begin:end] = temp\n",
      "    \n",
      "    columns = [Id, blz.barray(y_predict)]\n",
      "    dirname = \"Model_No{modelIndex:0\"+ str(max_digit_length) + \"d}_predicted_array\"\n",
      "    data_rootdir = os.path.join(dataPath, dirname.format(modelIndex = modelIndex))\n",
      "    final_table = blz.btable(columns = columns, names = [\"Id\", \"Predict\"], rootdir = data_rootdir, mode=\"w\")\n",
      "    print \"The result_table btable rootdir is under {path}\".format(path=data_rootdir)"
     ],
     "language": "python",
     "metadata": {},
     "outputs": [],
     "prompt_number": 10
    },
    {
     "cell_type": "code",
     "collapsed": false,
     "input": [
      "modelsPath_modelIndex_dataPath_colNames_tuple = (SOURCE_DATA_DIR + \"models.pickle\", 3, tools.TESTING_BLZ_PATH, TESTING_COLUMN_NAMES)\n",
      "modelsPath_modelIndex_dataPath_colNames_tuple"
     ],
     "language": "python",
     "metadata": {},
     "outputs": [
      {
       "metadata": {},
       "output_type": "pyout",
       "prompt_number": 11,
       "text": [
        "('/Users/DboyLiao/Documents/kaggle/DisplayAdvertisingChallenge/data/models.pickle',\n",
        " 3,\n",
        " '/Users/DboyLiao/Documents/kaggle/DisplayAdvertisingChallenge/data/test_blzs',\n",
        " ['Id',\n",
        "  'I1',\n",
        "  'I2',\n",
        "  'I3',\n",
        "  'I4',\n",
        "  'I5',\n",
        "  'I6',\n",
        "  'I7',\n",
        "  'I8',\n",
        "  'I9',\n",
        "  'I10',\n",
        "  'I11',\n",
        "  'I12',\n",
        "  'I13',\n",
        "  'C1',\n",
        "  'C2',\n",
        "  'C3',\n",
        "  'C4',\n",
        "  'C5',\n",
        "  'C6',\n",
        "  'C7',\n",
        "  'C8',\n",
        "  'C9',\n",
        "  'C10',\n",
        "  'C11',\n",
        "  'C12',\n",
        "  'C13',\n",
        "  'C14',\n",
        "  'C15',\n",
        "  'C16',\n",
        "  'C17',\n",
        "  'C18',\n",
        "  'C19',\n",
        "  'C20',\n",
        "  'C21',\n",
        "  'C22',\n",
        "  'C23',\n",
        "  'C24',\n",
        "  'C25',\n",
        "  'C26'])"
       ]
      }
     ],
     "prompt_number": 11
    },
    {
     "cell_type": "code",
     "collapsed": false,
     "input": [],
     "language": "python",
     "metadata": {},
     "outputs": [],
     "prompt_number": 11
    },
    {
     "cell_type": "code",
     "collapsed": false,
     "input": [
      "rr = modelPredctor(modelsPath_modelIndex_dataPath_colNames_tuple[0],\n",
      "                   modelsPath_modelIndex_dataPath_colNames_tuple[1],\n",
      "                   modelsPath_modelIndex_dataPath_colNames_tuple[2],\n",
      "                   modelsPath_modelIndex_dataPath_colNames_tuple[3])"
     ],
     "language": "python",
     "metadata": {},
     "outputs": [
      {
       "output_type": "stream",
       "stream": "stdout",
       "text": [
        "[Model No.003] Prediction process begins.\n",
        "[Model No.003] Processing 1 ~ 300000 observations.\n",
        "[Model No.003] Processing 300001 ~ 600000 observations."
       ]
      },
      {
       "output_type": "stream",
       "stream": "stdout",
       "text": [
        "\n"
       ]
      },
      {
       "ename": "IOError",
       "evalue": "Attribute file is not readable",
       "output_type": "pyerr",
       "traceback": [
        "\u001b[0;31m---------------------------------------------------------------------------\u001b[0m\n\u001b[0;31mIOError\u001b[0m                                   Traceback (most recent call last)",
        "\u001b[0;32m<ipython-input-12-783c74608cbd>\u001b[0m in \u001b[0;36m<module>\u001b[0;34m()\u001b[0m\n\u001b[1;32m      2\u001b[0m                    \u001b[0mmodelsPath_modelIndex_dataPath_colNames_tuple\u001b[0m\u001b[0;34m[\u001b[0m\u001b[0;36m1\u001b[0m\u001b[0;34m]\u001b[0m\u001b[0;34m,\u001b[0m\u001b[0;34m\u001b[0m\u001b[0m\n\u001b[1;32m      3\u001b[0m                    \u001b[0mmodelsPath_modelIndex_dataPath_colNames_tuple\u001b[0m\u001b[0;34m[\u001b[0m\u001b[0;36m2\u001b[0m\u001b[0;34m]\u001b[0m\u001b[0;34m,\u001b[0m\u001b[0;34m\u001b[0m\u001b[0m\n\u001b[0;32m----> 4\u001b[0;31m                    modelsPath_modelIndex_dataPath_colNames_tuple[3])\n\u001b[0m",
        "\u001b[0;32m<ipython-input-10-e1e174dc5bd4>\u001b[0m in \u001b[0;36mmodelPredctor\u001b[0;34m(modelsPath, modelIndex, dataPath, colNames)\u001b[0m\n\u001b[1;32m     37\u001b[0m     \u001b[0;32mfor\u001b[0m \u001b[0mbegin\u001b[0m\u001b[0;34m,\u001b[0m \u001b[0mend\u001b[0m \u001b[0;32min\u001b[0m \u001b[0mnodes_pair_list\u001b[0m\u001b[0;34m:\u001b[0m\u001b[0;34m\u001b[0m\u001b[0m\n\u001b[1;32m     38\u001b[0m         \u001b[0;32mprint\u001b[0m \u001b[0mprefix\u001b[0m \u001b[0;34m+\u001b[0m \u001b[0;34m\"Processing {begin} ~ {end} observations.\"\u001b[0m\u001b[0;34m.\u001b[0m\u001b[0mformat\u001b[0m\u001b[0;34m(\u001b[0m\u001b[0mbegin\u001b[0m \u001b[0;34m=\u001b[0m \u001b[0mbegin\u001b[0m \u001b[0;34m+\u001b[0m \u001b[0;36m1\u001b[0m\u001b[0;34m,\u001b[0m \u001b[0mend\u001b[0m \u001b[0;34m=\u001b[0m \u001b[0mend\u001b[0m\u001b[0;34m)\u001b[0m\u001b[0;34m\u001b[0m\u001b[0m\n\u001b[0;32m---> 39\u001b[0;31m         \u001b[0mcolumns\u001b[0m \u001b[0;34m=\u001b[0m \u001b[0;34m[\u001b[0m\u001b[0mblz\u001b[0m\u001b[0;34m.\u001b[0m\u001b[0mopen\u001b[0m\u001b[0;34m(\u001b[0m\u001b[0mos\u001b[0m\u001b[0;34m.\u001b[0m\u001b[0mpath\u001b[0m\u001b[0;34m.\u001b[0m\u001b[0mjoin\u001b[0m\u001b[0;34m(\u001b[0m\u001b[0mdataPath\u001b[0m\u001b[0;34m,\u001b[0m \u001b[0mcolname\u001b[0m\u001b[0;34m)\u001b[0m\u001b[0;34m)\u001b[0m\u001b[0;34m[\u001b[0m\u001b[0mbegin\u001b[0m\u001b[0;34m:\u001b[0m\u001b[0mend\u001b[0m\u001b[0;34m]\u001b[0m \u001b[0;32mfor\u001b[0m \u001b[0mcolname\u001b[0m \u001b[0;32min\u001b[0m \u001b[0mcolNames\u001b[0m\u001b[0;34m[\u001b[0m\u001b[0;36m1\u001b[0m\u001b[0;34m:\u001b[0m\u001b[0;34m]\u001b[0m\u001b[0;34m]\u001b[0m\u001b[0;34m\u001b[0m\u001b[0m\n\u001b[0m\u001b[1;32m     40\u001b[0m         \u001b[0mX\u001b[0m \u001b[0;34m=\u001b[0m \u001b[0mnp\u001b[0m\u001b[0;34m.\u001b[0m\u001b[0mcolumn_stack\u001b[0m\u001b[0;34m(\u001b[0m\u001b[0mcolumns\u001b[0m\u001b[0;34m)\u001b[0m\u001b[0;34m\u001b[0m\u001b[0m\n\u001b[1;32m     41\u001b[0m         \u001b[0mtemp\u001b[0m \u001b[0;34m=\u001b[0m \u001b[0mmodel\u001b[0m\u001b[0;34m.\u001b[0m\u001b[0mpredict\u001b[0m\u001b[0;34m(\u001b[0m\u001b[0mX\u001b[0m\u001b[0;34m)\u001b[0m\u001b[0;34m\u001b[0m\u001b[0m\n",
        "\u001b[0;32m/Users/DboyLiao/.pyenv/versions/anaconda-2.0.1/lib/python2.7/site-packages/blz/bfuncs.pyc\u001b[0m in \u001b[0;36mopen\u001b[0;34m(rootdir, mode)\u001b[0m\n\u001b[1;32m     53\u001b[0m         \u001b[0mobj\u001b[0m \u001b[0;34m=\u001b[0m \u001b[0mbtable\u001b[0m\u001b[0;34m(\u001b[0m\u001b[0mrootdir\u001b[0m\u001b[0;34m=\u001b[0m\u001b[0mrootdir\u001b[0m\u001b[0;34m,\u001b[0m \u001b[0mmode\u001b[0m\u001b[0;34m=\u001b[0m\u001b[0mmode\u001b[0m\u001b[0;34m)\u001b[0m\u001b[0;34m\u001b[0m\u001b[0m\n\u001b[1;32m     54\u001b[0m     \u001b[0;32melse\u001b[0m\u001b[0;34m:\u001b[0m\u001b[0;34m\u001b[0m\u001b[0m\n\u001b[0;32m---> 55\u001b[0;31m         \u001b[0mobj\u001b[0m \u001b[0;34m=\u001b[0m \u001b[0mbarray\u001b[0m\u001b[0;34m(\u001b[0m\u001b[0mrootdir\u001b[0m\u001b[0;34m=\u001b[0m\u001b[0mrootdir\u001b[0m\u001b[0;34m,\u001b[0m \u001b[0mmode\u001b[0m\u001b[0;34m=\u001b[0m\u001b[0mmode\u001b[0m\u001b[0;34m)\u001b[0m\u001b[0;34m\u001b[0m\u001b[0m\n\u001b[0m\u001b[1;32m     56\u001b[0m     \u001b[0;32mreturn\u001b[0m \u001b[0mobj\u001b[0m\u001b[0;34m\u001b[0m\u001b[0m\n\u001b[1;32m     57\u001b[0m \u001b[0;34m\u001b[0m\u001b[0m\n",
        "\u001b[0;32m/Users/DboyLiao/.pyenv/versions/anaconda-2.0.1/lib/python2.7/site-packages/blz/blz_ext.so\u001b[0m in \u001b[0;36mblz.blz_ext.barray.__cinit__ (blz/blz_ext.c:11882)\u001b[0;34m()\u001b[0m\n",
        "\u001b[0;32m/Users/DboyLiao/.pyenv/versions/anaconda-2.0.1/lib/python2.7/site-packages/blz/attrs.pyc\u001b[0m in \u001b[0;36m__init__\u001b[0;34m(self, rootdir, mode, _new)\u001b[0m\n\u001b[1;32m     54\u001b[0m                 \u001b[0mself\u001b[0m\u001b[0;34m.\u001b[0m\u001b[0m_create\u001b[0m\u001b[0;34m(\u001b[0m\u001b[0;34m)\u001b[0m\u001b[0;34m\u001b[0m\u001b[0m\n\u001b[1;32m     55\u001b[0m             \u001b[0;32melse\u001b[0m\u001b[0;34m:\u001b[0m\u001b[0;34m\u001b[0m\u001b[0m\n\u001b[0;32m---> 56\u001b[0;31m                 \u001b[0mself\u001b[0m\u001b[0;34m.\u001b[0m\u001b[0m_open\u001b[0m\u001b[0;34m(\u001b[0m\u001b[0;34m)\u001b[0m\u001b[0;34m\u001b[0m\u001b[0m\n\u001b[0m\u001b[1;32m     57\u001b[0m \u001b[0;34m\u001b[0m\u001b[0m\n\u001b[1;32m     58\u001b[0m     \u001b[0;32mdef\u001b[0m \u001b[0m_create\u001b[0m\u001b[0;34m(\u001b[0m\u001b[0mself\u001b[0m\u001b[0;34m)\u001b[0m\u001b[0;34m:\u001b[0m\u001b[0;34m\u001b[0m\u001b[0m\n",
        "\u001b[0;32m/Users/DboyLiao/.pyenv/versions/anaconda-2.0.1/lib/python2.7/site-packages/blz/attrs.pyc\u001b[0m in \u001b[0;36m_open\u001b[0;34m(self)\u001b[0m\n\u001b[1;32m     75\u001b[0m             \u001b[0;32mexcept\u001b[0m\u001b[0;34m:\u001b[0m\u001b[0;34m\u001b[0m\u001b[0m\n\u001b[1;32m     76\u001b[0m                 raise IOError(\n\u001b[0;32m---> 77\u001b[0;31m                     \"Attribute file is not readable\")\n\u001b[0m\u001b[1;32m     78\u001b[0m         \u001b[0mself\u001b[0m\u001b[0;34m.\u001b[0m\u001b[0mattrs\u001b[0m \u001b[0;34m=\u001b[0m \u001b[0mdata\u001b[0m\u001b[0;34m\u001b[0m\u001b[0m\n\u001b[1;32m     79\u001b[0m \u001b[0;34m\u001b[0m\u001b[0m\n",
        "\u001b[0;31mIOError\u001b[0m: Attribute file is not readable"
       ]
      }
     ],
     "prompt_number": 12
    },
    {
     "cell_type": "code",
     "collapsed": false,
     "input": [
      "test = rr[\"Id\"][:]"
     ],
     "language": "python",
     "metadata": {},
     "outputs": [],
     "prompt_number": 40
    },
    {
     "cell_type": "code",
     "collapsed": false,
     "input": [
      "test"
     ],
     "language": "python",
     "metadata": {},
     "outputs": [
      {
       "metadata": {},
       "output_type": "pyout",
       "prompt_number": 41,
       "text": [
        "array([60000000, 60000001, 60000002, ..., 66042132, 66042133, 66042134])"
       ]
      }
     ],
     "prompt_number": 41
    },
    {
     "cell_type": "code",
     "collapsed": false,
     "input": [],
     "language": "python",
     "metadata": {},
     "outputs": []
    },
    {
     "cell_type": "code",
     "collapsed": false,
     "input": [],
     "language": "python",
     "metadata": {},
     "outputs": []
    },
    {
     "cell_type": "code",
     "collapsed": false,
     "input": [
      "def get_separation_positions(totalN, divideN):\n",
      "    if totalN % divideN == 0:\n",
      "        return [i*divideN for i in range(totalN / divideN + 1)]\n",
      "    else:\n",
      "        return [i*divideN for i in range(totalN / divideN + 1)] + [totalN]\n",
      "\n",
      "    \n",
      "def get_separation_pairs(totalN, divideN):\n",
      "    return_list = get_separation_positions(totalN, divideN)\n",
      "    return zip(return_list[:-1], return_list[1:])"
     ],
     "language": "python",
     "metadata": {},
     "outputs": [],
     "prompt_number": 17
    },
    {
     "cell_type": "code",
     "collapsed": false,
     "input": [],
     "language": "python",
     "metadata": {},
     "outputs": []
    },
    {
     "cell_type": "code",
     "collapsed": false,
     "input": [
      "os.listdir(tools.TESTING_BLZ_PATH)"
     ],
     "language": "python",
     "metadata": {},
     "outputs": [
      {
       "metadata": {},
       "output_type": "pyout",
       "prompt_number": 21,
       "text": [
        "['C1',\n",
        " 'C10',\n",
        " 'C11',\n",
        " 'C12',\n",
        " 'C13',\n",
        " 'C14',\n",
        " 'C15',\n",
        " 'C16',\n",
        " 'C17',\n",
        " 'C18',\n",
        " 'C19',\n",
        " 'C2',\n",
        " 'C20',\n",
        " 'C21',\n",
        " 'C22',\n",
        " 'C23',\n",
        " 'C24',\n",
        " 'C25',\n",
        " 'C26',\n",
        " 'C3',\n",
        " 'C4',\n",
        " 'C5',\n",
        " 'C6',\n",
        " 'C7',\n",
        " 'C8',\n",
        " 'C9',\n",
        " 'I1',\n",
        " 'I10',\n",
        " 'I11',\n",
        " 'I12',\n",
        " 'I13',\n",
        " 'I2',\n",
        " 'I3',\n",
        " 'I4',\n",
        " 'I5',\n",
        " 'I6',\n",
        " 'I7',\n",
        " 'I8',\n",
        " 'I9',\n",
        " 'Id']"
       ]
      }
     ],
     "prompt_number": 21
    },
    {
     "cell_type": "code",
     "collapsed": false,
     "input": [],
     "language": "python",
     "metadata": {},
     "outputs": []
    }
   ],
   "metadata": {}
  }
 ]
}