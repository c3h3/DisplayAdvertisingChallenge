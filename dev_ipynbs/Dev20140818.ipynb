{
 "metadata": {
  "name": "",
  "signature": "sha256:24eb551ef26bb121aaa7c4127528f960967e9e9fc368e9644e9c610802d97c4e"
 },
 "nbformat": 3,
 "nbformat_minor": 0,
 "worksheets": [
  {
   "cells": [
    {
     "cell_type": "code",
     "collapsed": false,
     "input": [
      "from local_settings import COLUMN_NAMES, TRAINING_DATA_PATH, TRAINING_COLUMNS_PATH"
     ],
     "language": "python",
     "metadata": {},
     "outputs": [],
     "prompt_number": 68
    },
    {
     "cell_type": "code",
     "collapsed": false,
     "input": [
      "print COLUMN_NAMES"
     ],
     "language": "python",
     "metadata": {},
     "outputs": [
      {
       "output_type": "stream",
       "stream": "stdout",
       "text": [
        "['Id', 'Label', 'I1', 'I2', 'I3', 'I4', 'I5', 'I6', 'I7', 'I8', 'I9', 'I10', 'I11', 'I12', 'I13', 'C1', 'C2', 'C3', 'C4', 'C5', 'C6', 'C7', 'C8', 'C9', 'C10', 'C11', 'C12', 'C13', 'C14', 'C15', 'C16', 'C17', 'C18', 'C19', 'C20', 'C21', 'C22', 'C23', 'C24', 'C25', 'C26']\n"
       ]
      }
     ],
     "prompt_number": 12
    },
    {
     "cell_type": "code",
     "collapsed": false,
     "input": [
      "import numpy as np"
     ],
     "language": "python",
     "metadata": {},
     "outputs": [],
     "prompt_number": 13
    },
    {
     "cell_type": "code",
     "collapsed": false,
     "input": [
      "COLNAMES = np.array(COLUMN_NAMES)\n",
      "\n",
      "def get_idx_by_colname(colname):\n",
      "    return np.where(COLNAMES == colname)[0][0]\n"
     ],
     "language": "python",
     "metadata": {},
     "outputs": [],
     "prompt_number": 14
    },
    {
     "cell_type": "code",
     "collapsed": false,
     "input": [
      "import os"
     ],
     "language": "python",
     "metadata": {},
     "outputs": [],
     "prompt_number": 78
    },
    {
     "cell_type": "code",
     "collapsed": false,
     "input": [],
     "language": "python",
     "metadata": {},
     "outputs": [],
     "prompt_number": 82
    },
    {
     "cell_type": "code",
     "collapsed": false,
     "input": [],
     "language": "python",
     "metadata": {},
     "outputs": [],
     "prompt_number": 82
    },
    {
     "cell_type": "code",
     "collapsed": false,
     "input": [],
     "language": "python",
     "metadata": {},
     "outputs": []
    },
    {
     "cell_type": "code",
     "collapsed": false,
     "input": [],
     "language": "python",
     "metadata": {},
     "outputs": []
    },
    {
     "cell_type": "code",
     "collapsed": false,
     "input": [
      "get_idx_by_colname('C22')"
     ],
     "language": "python",
     "metadata": {},
     "outputs": [
      {
       "metadata": {},
       "output_type": "pyout",
       "prompt_number": 15,
       "text": [
        "36"
       ]
      }
     ],
     "prompt_number": 15
    },
    {
     "cell_type": "code",
     "collapsed": false,
     "input": [],
     "language": "python",
     "metadata": {},
     "outputs": [],
     "prompt_number": 15
    },
    {
     "cell_type": "code",
     "collapsed": false,
     "input": [
      "def get_one_column_data_list(col_idx):\n",
      "    assert isinstance(col_idx, int)\n",
      "    assert col_idx > 0\n",
      "    assert col_idx < len(COLNAMES)\n",
      "    \n",
      "    with open(TRAINING_DATA_PATH,\"r\") as rf:\n",
      "        colnames_line = rf.readline()\n",
      "        colnames = colnames_line.strip().split(\",\")\n",
      "        \n",
      "        data_list = []\n",
      "        one_line_str = \"temp_str\"\n",
      "\n",
      "        while one_line_str != \"\":\n",
      "            one_line_str = rf.readline()\n",
      "            one_line_str_data = one_line_str.strip().split(\",\")\n",
      "            if len(one_line_str_data) == len(colnames):\n",
      "                data_list.append(one_line_str.strip().split(\",\")[col_idx])\n",
      "            \n",
      "    return data_list\n",
      "    \n",
      "    "
     ],
     "language": "python",
     "metadata": {},
     "outputs": [],
     "prompt_number": 18
    },
    {
     "cell_type": "code",
     "collapsed": false,
     "input": [
      "%time data_list = get_one_column_data_list(get_idx_by_colname(\"C22\"))"
     ],
     "language": "python",
     "metadata": {},
     "outputs": [
      {
       "output_type": "stream",
       "stream": "stdout",
       "text": [
        "CPU times: user 3min 23s, sys: 4.54 s, total: 3min 28s\n",
        "Wall time: 3min 53s\n"
       ]
      }
     ],
     "prompt_number": 20
    },
    {
     "cell_type": "code",
     "collapsed": false,
     "input": [],
     "language": "python",
     "metadata": {},
     "outputs": []
    },
    {
     "cell_type": "code",
     "collapsed": false,
     "input": [
      "try:\n",
      "    import cPickle as pickle\n",
      "except:\n",
      "    import pickle\n",
      "\n",
      "import os"
     ],
     "language": "python",
     "metadata": {},
     "outputs": [],
     "prompt_number": 64
    },
    {
     "cell_type": "code",
     "collapsed": false,
     "input": [
      "class ColumnData(object):\n",
      "    def __init__(self, colname, data_list):\n",
      "        data_array = np.array(data_list)\n",
      "        self.states_vec, self.states_pos_vec, self.index_vec = np.unique(data_array,return_inverse=True,return_index=True)\n",
      "        self.name = colname\n",
      "    \n",
      "    def save_as_pickle_file(self, dir_path):\n",
      "        output_file_path = os.path.join(dir_path, \"%s.col\" % self.name)\n",
      "        with open(output_file_path, \"wb\") as wf:\n",
      "            pickle.dump(self, wf)\n",
      "            \n",
      "        \n"
     ],
     "language": "python",
     "metadata": {},
     "outputs": [],
     "prompt_number": 65
    },
    {
     "cell_type": "code",
     "collapsed": false,
     "input": [
      "def get_one_data_column(colname):\n",
      "    col_idx = get_idx_by_colname(colname)\n",
      "    assert isinstance(col_idx, int)\n",
      "    assert col_idx > 0\n",
      "    assert col_idx < len(COLNAMES)\n",
      "    \n",
      "    with open(TRAINING_DATA_PATH,\"r\") as rf:\n",
      "        colnames_line = rf.readline()\n",
      "        colnames = colnames_line.strip().split(\",\")\n",
      "        \n",
      "        data_list = []\n",
      "        one_line_str = \"temp_str\"\n",
      "\n",
      "        while one_line_str != \"\":\n",
      "            one_line_str = rf.readline()\n",
      "            one_line_str_data = one_line_str.strip().split(\",\")\n",
      "            if len(one_line_str_data) == len(colnames):\n",
      "                data_list.append(one_line_str.strip().split(\",\")[col_idx])\n",
      "            \n",
      "    return ColumnData(colname,data_list)"
     ],
     "language": "python",
     "metadata": {},
     "outputs": [],
     "prompt_number": 90
    },
    {
     "cell_type": "code",
     "collapsed": false,
     "input": [
      "def pickle_one_data_column(colname):\n",
      "    col_idx = get_idx_by_colname(colname)\n",
      "    assert isinstance(col_idx, int)\n",
      "    assert col_idx > 0\n",
      "    assert col_idx < len(COLNAMES)\n",
      "    \n",
      "    with open(TRAINING_DATA_PATH,\"r\") as rf:\n",
      "        colnames_line = rf.readline()\n",
      "        colnames = colnames_line.strip().split(\",\")\n",
      "        \n",
      "        data_list = []\n",
      "        one_line_str = \"temp_str\"\n",
      "\n",
      "        while one_line_str != \"\":\n",
      "            one_line_str = rf.readline()\n",
      "            one_line_str_data = one_line_str.strip().split(\",\")\n",
      "            if len(one_line_str_data) == len(colnames):\n",
      "                data_list.append(one_line_str.strip().split(\",\")[col_idx])\n",
      "            \n",
      "    ColumnData(colname,data_list).save_as_pickle_file(TRAINING_COLUMNS_PATH)\n"
     ],
     "language": "python",
     "metadata": {},
     "outputs": [],
     "prompt_number": 94
    },
    {
     "cell_type": "code",
     "collapsed": false,
     "input": [
      "%time pickle_one_data_column(\"C24\")"
     ],
     "language": "python",
     "metadata": {},
     "outputs": [
      {
       "output_type": "stream",
       "stream": "stdout",
       "text": [
        "CPU times: user 4min 30s, sys: 9.37 s, total: 4min 39s\n",
        "Wall time: 5min 43s\n"
       ]
      }
     ],
     "prompt_number": 95
    },
    {
     "cell_type": "code",
     "collapsed": false,
     "input": [
      "%time one_col_data = get_one_data_column(\"C23\")"
     ],
     "language": "python",
     "metadata": {},
     "outputs": [
      {
       "output_type": "stream",
       "stream": "stdout",
       "text": [
        "CPU times: user 3min 30s, sys: 6.55 s, total: 3min 36s\n",
        "Wall time: 4min\n"
       ]
      }
     ],
     "prompt_number": 92
    },
    {
     "cell_type": "code",
     "collapsed": false,
     "input": [
      "%time one_col_data.save_as_pickle_file(TRAINING_COLUMNS_PATH)"
     ],
     "language": "python",
     "metadata": {},
     "outputs": [
      {
       "output_type": "stream",
       "stream": "stdout",
       "text": [
        "CPU times: user 43.5 s, sys: 5.67 s, total: 49.2 s\n",
        "Wall time: 49.4 s\n"
       ]
      }
     ],
     "prompt_number": 93
    },
    {
     "cell_type": "code",
     "collapsed": false,
     "input": [
      "one_col_data = ColumnData(\"C22\",data_list)"
     ],
     "language": "python",
     "metadata": {},
     "outputs": [],
     "prompt_number": 66
    },
    {
     "cell_type": "code",
     "collapsed": false,
     "input": [
      "one_col_data.__dict__"
     ],
     "language": "python",
     "metadata": {},
     "outputs": [
      {
       "metadata": {},
       "output_type": "pyout",
       "prompt_number": 67,
       "text": [
        "{'index_vec': array([ 0,  0, 12, ...,  0,  0,  0]),\n",
        " 'name': 'C22',\n",
        " 'states_pos_vec': array([       0, 10224704,   856083,  1214991,   138977,    11071,\n",
        "          164541,    17350,   568551,      241,     3073,        5,\n",
        "               2,       47,       24,     1769,    14531,   104141]),\n",
        " 'states_vec': array(['', '032641cc', '12370385', '1856e93d', '24eb7cbf', '28f45308',\n",
        "        '2ec53c35', '49e825c5', '648f4da7', '78e2e389', '8651fddb',\n",
        "        '8ec974f4', 'ad3062eb', 'c0061c6d', 'c9d4222a', 'ccfd4002',\n",
        "        'd9ce1838', 'f4dc011d'], \n",
        "       dtype='|S8')}"
       ]
      }
     ],
     "prompt_number": 67
    },
    {
     "cell_type": "code",
     "collapsed": false,
     "input": [
      "%time one_col_data.save_as_pickle_file(TRAINING_COLUMNS_PATH)"
     ],
     "language": "python",
     "metadata": {},
     "outputs": [
      {
       "output_type": "stream",
       "stream": "stdout",
       "text": [
        "CPU times: user 1min 33s, sys: 7.39 s, total: 1min 40s\n",
        "Wall time: 1min 55s\n"
       ]
      }
     ],
     "prompt_number": 70
    },
    {
     "cell_type": "code",
     "collapsed": false,
     "input": [],
     "language": "python",
     "metadata": {},
     "outputs": []
    },
    {
     "cell_type": "code",
     "collapsed": false,
     "input": [],
     "language": "python",
     "metadata": {},
     "outputs": []
    },
    {
     "cell_type": "code",
     "collapsed": false,
     "input": [
      "def test_read_pickle():\n",
      "    with open(os.path.join(TRAINING_COLUMNS_PATH,\"%s.col\" % \"C22\"),\"rb\") as rf:\n",
      "        read_col_data = pickle.load(rf)\n",
      "    return read_col_data"
     ],
     "language": "python",
     "metadata": {},
     "outputs": [],
     "prompt_number": 75
    },
    {
     "cell_type": "code",
     "collapsed": false,
     "input": [
      "%time read_col_data = test_read_pickle()"
     ],
     "language": "python",
     "metadata": {},
     "outputs": [
      {
       "output_type": "stream",
       "stream": "stdout",
       "text": [
        "CPU times: user 52 s, sys: 4.41 s, total: 56.4 s\n",
        "Wall time: 58.5 s\n"
       ]
      }
     ],
     "prompt_number": 76
    },
    {
     "cell_type": "code",
     "collapsed": false,
     "input": [
      "read_col_data.__dict__"
     ],
     "language": "python",
     "metadata": {},
     "outputs": [
      {
       "metadata": {},
       "output_type": "pyout",
       "prompt_number": 73,
       "text": [
        "{'index_vec': array([ 0,  0, 12, ...,  0,  0,  0]),\n",
        " 'name': 'C22',\n",
        " 'states_pos_vec': array([       0, 10224704,   856083,  1214991,   138977,    11071,\n",
        "          164541,    17350,   568551,      241,     3073,        5,\n",
        "               2,       47,       24,     1769,    14531,   104141]),\n",
        " 'states_vec': array(['', '032641cc', '12370385', '1856e93d', '24eb7cbf', '28f45308',\n",
        "        '2ec53c35', '49e825c5', '648f4da7', '78e2e389', '8651fddb',\n",
        "        '8ec974f4', 'ad3062eb', 'c0061c6d', 'c9d4222a', 'ccfd4002',\n",
        "        'd9ce1838', 'f4dc011d'], \n",
        "       dtype='|S8')}"
       ]
      }
     ],
     "prompt_number": 73
    },
    {
     "cell_type": "code",
     "collapsed": false,
     "input": [
      "read_col_data.index_vec.shape"
     ],
     "language": "python",
     "metadata": {},
     "outputs": [
      {
       "metadata": {},
       "output_type": "pyout",
       "prompt_number": 77,
       "text": [
        "(45840617,)"
       ]
      }
     ],
     "prompt_number": 77
    },
    {
     "cell_type": "code",
     "collapsed": false,
     "input": [],
     "language": "python",
     "metadata": {},
     "outputs": []
    },
    {
     "cell_type": "code",
     "collapsed": false,
     "input": [
      "def list_all_data_columns(): \n",
      "    return [xx.split(\".\")[0] for xx in os.listdir(TRAINING_COLUMNS_PATH) if xx.endswith(\".col\")]"
     ],
     "language": "python",
     "metadata": {},
     "outputs": [],
     "prompt_number": 83
    },
    {
     "cell_type": "code",
     "collapsed": false,
     "input": [
      "lookup_all_pickle_columns()"
     ],
     "language": "python",
     "metadata": {},
     "outputs": [
      {
       "metadata": {},
       "output_type": "pyout",
       "prompt_number": 84,
       "text": [
        "['C22']"
       ]
      }
     ],
     "prompt_number": 84
    },
    {
     "cell_type": "code",
     "collapsed": false,
     "input": [
      "COLNAMES"
     ],
     "language": "python",
     "metadata": {},
     "outputs": [
      {
       "metadata": {},
       "output_type": "pyout",
       "prompt_number": 85,
       "text": [
        "array(['Id', 'Label', 'I1', 'I2', 'I3', 'I4', 'I5', 'I6', 'I7', 'I8', 'I9',\n",
        "       'I10', 'I11', 'I12', 'I13', 'C1', 'C2', 'C3', 'C4', 'C5', 'C6',\n",
        "       'C7', 'C8', 'C9', 'C10', 'C11', 'C12', 'C13', 'C14', 'C15', 'C16',\n",
        "       'C17', 'C18', 'C19', 'C20', 'C21', 'C22', 'C23', 'C24', 'C25', 'C26'], \n",
        "      dtype='|S5')"
       ]
      }
     ],
     "prompt_number": 85
    },
    {
     "cell_type": "code",
     "collapsed": false,
     "input": [
      "def divide_one_data_column(colname):\n",
      "    return get_idx_by_colname(colname)"
     ],
     "language": "python",
     "metadata": {},
     "outputs": [],
     "prompt_number": 87
    },
    {
     "cell_type": "code",
     "collapsed": false,
     "input": [
      "divide_one_data_column(\"C13\")"
     ],
     "language": "python",
     "metadata": {},
     "outputs": [
      {
       "metadata": {},
       "output_type": "pyout",
       "prompt_number": 89,
       "text": [
        "27"
       ]
      }
     ],
     "prompt_number": 89
    },
    {
     "cell_type": "code",
     "collapsed": false,
     "input": [],
     "language": "python",
     "metadata": {},
     "outputs": []
    },
    {
     "cell_type": "code",
     "collapsed": false,
     "input": [
      "values_vec.shape"
     ],
     "language": "python",
     "metadata": {},
     "outputs": [
      {
       "metadata": {},
       "output_type": "pyout",
       "prompt_number": 25,
       "text": [
        "(45840617,)"
       ]
      }
     ],
     "prompt_number": 25
    },
    {
     "cell_type": "code",
     "collapsed": false,
     "input": [
      "class Vector(np.ndarray):\n",
      "    \n",
      "    @classmethod\n",
      "    def _preprocess_if_data_is_cls(cls, vector, *args, **kwargs):\n",
      "        pass\n",
      "\n",
      "    @classmethod\n",
      "    def _preprocess_before_init_return(cls, vector, *args, **kwargs):\n",
      "        pass\n",
      "\n",
      "    def __new__(cls, data, dtype=None, *args, **kwargs):\n",
      "\n",
      "        if isinstance(data, cls):\n",
      "            values_vector = data\n",
      "            return values_vector\n",
      "\n",
      "        else:\n",
      "            vector_data = np.array(data, dtype=dtype)\n",
      "\n",
      "            if len(vector_data.shape) > 1:\n",
      "                vector_data = np_tools.clean_no_data_tensors(vector_data)\n",
      "\n",
      "            assert len(vector_data.shape) == 1\n",
      "\n",
      "            vector_data = vector_data.view(cls)\n",
      "        \n",
      "            return vector_data\n",
      "\n",
      "    @property\n",
      "    def _dim(self):\n",
      "        return self.shape[0]\n",
      "    \n",
      "        \n",
      "\n",
      "class ValuesVector(Vector):\n",
      "    def build_indexed_vector(self):\n",
      "        uu, ui, ii = np.unique(values_vec,return_inverse=True,return_index=True)\n",
      "        return IndexedVector(StatesVector(uu), StatesPositionVector(ui), IndexVector(ii))\n",
      "\n",
      "class IndexVector(Vector):\n",
      "    pass\n",
      "\n",
      "class StatesPositionVector(Vector):\n",
      "    pass\n",
      "\n",
      "class StatesVector(Vector):\n",
      "    pass\n",
      "\n",
      "class IndexedVector(object):\n",
      "    def __init__(self, states_vec, states_pos_vec, idx_vec):\n",
      "        self.states_vec = states_vec\n",
      "        self.states_pos_vec = states_pos_vec\n",
      "        self.idx_vec = idx_vec\n",
      "        \n"
     ],
     "language": "python",
     "metadata": {},
     "outputs": [],
     "prompt_number": 53
    },
    {
     "cell_type": "code",
     "collapsed": false,
     "input": [
      "values_vec = ValuesVector(data_list)"
     ],
     "language": "python",
     "metadata": {},
     "outputs": [],
     "prompt_number": 55
    },
    {
     "cell_type": "code",
     "collapsed": false,
     "input": [
      "idxed_vec = values_vec.build_indexed_vector()"
     ],
     "language": "python",
     "metadata": {},
     "outputs": [],
     "prompt_number": 56
    },
    {
     "cell_type": "code",
     "collapsed": false,
     "input": [
      "idxed_vec.__dict__"
     ],
     "language": "python",
     "metadata": {},
     "outputs": [
      {
       "metadata": {},
       "output_type": "pyout",
       "prompt_number": 57,
       "text": [
        "{'idx_vec': IndexVector([ 0,  0, 12, ...,  0,  0,  0]),\n",
        " 'states_pos_vec': StatesPositionVector([       0, 10224704,   856083,  1214991,   138977,    11071,\n",
        "          164541,    17350,   568551,      241,     3073,        5,\n",
        "               2,       47,       24,     1769,    14531,   104141]),\n",
        " 'states_vec': StatesVector(['', '032641cc', '12370385', '1856e93d', '24eb7cbf', '28f45308',\n",
        "        '2ec53c35', '49e825c5', '648f4da7', '78e2e389', '8651fddb',\n",
        "        '8ec974f4', 'ad3062eb', 'c0061c6d', 'c9d4222a', 'ccfd4002',\n",
        "        'd9ce1838', 'f4dc011d'], \n",
        "       dtype='|S8')}"
       ]
      }
     ],
     "prompt_number": 57
    },
    {
     "cell_type": "code",
     "collapsed": false,
     "input": [],
     "language": "python",
     "metadata": {},
     "outputs": []
    },
    {
     "cell_type": "code",
     "collapsed": false,
     "input": [
      "uu, ui, ii = np.unique(values_vec,return_inverse=True,return_index=True)"
     ],
     "language": "python",
     "metadata": {},
     "outputs": [],
     "prompt_number": 48
    },
    {
     "cell_type": "code",
     "collapsed": false,
     "input": [
      "uu,ui,ii"
     ],
     "language": "python",
     "metadata": {},
     "outputs": [
      {
       "metadata": {},
       "output_type": "pyout",
       "prompt_number": 49,
       "text": [
        "(Vector(['', '032641cc', '12370385', '1856e93d', '24eb7cbf', '28f45308',\n",
        "        '2ec53c35', '49e825c5', '648f4da7', '78e2e389', '8651fddb',\n",
        "        '8ec974f4', 'ad3062eb', 'c0061c6d', 'c9d4222a', 'ccfd4002',\n",
        "        'd9ce1838', 'f4dc011d'], \n",
        "       dtype='|S8'),\n",
        " Vector([       0, 10224704,   856083,  1214991,   138977,    11071,\n",
        "          164541,    17350,   568551,      241,     3073,        5,\n",
        "               2,       47,       24,     1769,    14531,   104141]),\n",
        " array([ 0,  0, 12, ...,  0,  0,  0]))"
       ]
      }
     ],
     "prompt_number": 49
    },
    {
     "cell_type": "code",
     "collapsed": false,
     "input": [
      "uu[ii]"
     ],
     "language": "python",
     "metadata": {},
     "outputs": [
      {
       "metadata": {},
       "output_type": "pyout",
       "prompt_number": 44,
       "text": [
        "Vector(['', '', 'ad3062eb', ..., '', '', ''], \n",
        "      dtype='|S8')"
       ]
      }
     ],
     "prompt_number": 44
    },
    {
     "cell_type": "code",
     "collapsed": false,
     "input": [
      "    "
     ],
     "language": "python",
     "metadata": {},
     "outputs": []
    },
    {
     "cell_type": "code",
     "collapsed": false,
     "input": [],
     "language": "python",
     "metadata": {},
     "outputs": []
    },
    {
     "cell_type": "code",
     "collapsed": false,
     "input": [
      "\n",
      "data_file_path = \"../train.csv\"\n",
      "output_dir = \"DisplayAdvertisingChallenge_Columns\"\n",
      "\n",
      "\n"
     ],
     "language": "python",
     "metadata": {},
     "outputs": [],
     "prompt_number": 6
    },
    {
     "cell_type": "code",
     "collapsed": false,
     "input": [
      "import os\n",
      "import numpy as np"
     ],
     "language": "python",
     "metadata": {},
     "outputs": [],
     "prompt_number": 7
    },
    {
     "cell_type": "code",
     "collapsed": false,
     "input": [
      "if not output_dir in os.listdir(\".\"):\n",
      "    os.mkdir(output_dir)"
     ],
     "language": "python",
     "metadata": {},
     "outputs": [],
     "prompt_number": 8
    },
    {
     "cell_type": "code",
     "collapsed": false,
     "input": [
      "with open(data_file_path,\"r\") as rf:\n",
      "    colnames_line = rf.readline()\n",
      "    colnames = colnames_line.strip().split(\",\")"
     ],
     "language": "python",
     "metadata": {},
     "outputs": [
      {
       "ename": "IOError",
       "evalue": "[Errno 2] No such file or directory: '../train.csv'",
       "output_type": "pyerr",
       "traceback": [
        "\u001b[1;31m---------------------------------------------------------------------------\u001b[0m\n\u001b[1;31mIOError\u001b[0m                                   Traceback (most recent call last)",
        "\u001b[1;32m<ipython-input-9-2ecd820d4edd>\u001b[0m in \u001b[0;36m<module>\u001b[1;34m()\u001b[0m\n\u001b[1;32m----> 1\u001b[1;33m \u001b[1;32mwith\u001b[0m \u001b[0mopen\u001b[0m\u001b[1;33m(\u001b[0m\u001b[0mdata_file_path\u001b[0m\u001b[1;33m,\u001b[0m\u001b[1;34m\"r\"\u001b[0m\u001b[1;33m)\u001b[0m \u001b[1;32mas\u001b[0m \u001b[0mrf\u001b[0m\u001b[1;33m:\u001b[0m\u001b[1;33m\u001b[0m\u001b[0m\n\u001b[0m\u001b[0;32m      2\u001b[0m     \u001b[0mcolnames_line\u001b[0m \u001b[1;33m=\u001b[0m \u001b[0mrf\u001b[0m\u001b[1;33m.\u001b[0m\u001b[0mreadline\u001b[0m\u001b[1;33m(\u001b[0m\u001b[1;33m)\u001b[0m\u001b[1;33m\u001b[0m\u001b[0m\n\u001b[0;32m      3\u001b[0m     \u001b[0mcolnames\u001b[0m \u001b[1;33m=\u001b[0m \u001b[0mcolnames_line\u001b[0m\u001b[1;33m.\u001b[0m\u001b[0mstrip\u001b[0m\u001b[1;33m(\u001b[0m\u001b[1;33m)\u001b[0m\u001b[1;33m.\u001b[0m\u001b[0msplit\u001b[0m\u001b[1;33m(\u001b[0m\u001b[1;34m\",\"\u001b[0m\u001b[1;33m)\u001b[0m\u001b[1;33m\u001b[0m\u001b[0m\n",
        "\u001b[1;31mIOError\u001b[0m: [Errno 2] No such file or directory: '../train.csv'"
       ]
      }
     ],
     "prompt_number": 9
    },
    {
     "cell_type": "code",
     "collapsed": false,
     "input": [
      "rf = open(data_file_path,\"r\")\n",
      "rf.readline()\n",
      "data = rf.readline()"
     ],
     "language": "python",
     "metadata": {},
     "outputs": [],
     "prompt_number": 5
    },
    {
     "cell_type": "code",
     "collapsed": false,
     "input": [
      "np.where(np.array(data.strip().split(\",\")) == \"\")"
     ],
     "language": "python",
     "metadata": {},
     "outputs": [
      {
       "metadata": {},
       "output_type": "pyout",
       "prompt_number": 6,
       "text": [
        "(array([13, 36]),)"
       ]
      }
     ],
     "prompt_number": 6
    },
    {
     "cell_type": "code",
     "collapsed": false,
     "input": [
      "colnames[15]"
     ],
     "language": "python",
     "metadata": {},
     "outputs": [
      {
       "metadata": {},
       "output_type": "pyout",
       "prompt_number": 7,
       "text": [
        "'C1'"
       ]
      }
     ],
     "prompt_number": 7
    },
    {
     "cell_type": "code",
     "collapsed": false,
     "input": [],
     "language": "python",
     "metadata": {},
     "outputs": [],
     "prompt_number": 7
    },
    {
     "cell_type": "code",
     "collapsed": false,
     "input": [
      "one_col_idx = range(len(colnames))[0]"
     ],
     "language": "python",
     "metadata": {},
     "outputs": [],
     "prompt_number": 8
    },
    {
     "cell_type": "code",
     "collapsed": false,
     "input": [
      "one_col_name = colnames[one_col_idx]\n",
      "one_col_name"
     ],
     "language": "python",
     "metadata": {},
     "outputs": [
      {
       "metadata": {},
       "output_type": "pyout",
       "prompt_number": 9,
       "text": [
        "'Id'"
       ]
      }
     ],
     "prompt_number": 9
    },
    {
     "cell_type": "code",
     "collapsed": false,
     "input": [
      "\n",
      "def get_one_idx_data(one_col_idx, data_file_path):\n",
      "    with open(data_file_path,\"r\") as rf:\n",
      "        colnames_line = rf.readline()\n",
      "        colnames = colnames_line.strip().split(\",\")\n",
      "        \n",
      "        data_list = []\n",
      "        one_line_str = \"temp_str\"\n",
      "\n",
      "        while one_line_str != \"\":\n",
      "            one_line_str = rf.readline()\n",
      "            one_line_str_data = one_line_str.strip().split(\",\")\n",
      "            if len(one_line_str_data) == len(colnames):\n",
      "                data_list.append(one_line_str.strip().split(\",\")[one_col_idx])\n",
      "            else:\n",
      "                print \"one_line_str = \",one_line_str\n",
      "    \n",
      "    return {\"name\":colnames[one_col_idx],\"data\":data_list}\n",
      "\n"
     ],
     "language": "python",
     "metadata": {},
     "outputs": [],
     "prompt_number": 10
    },
    {
     "cell_type": "code",
     "collapsed": false,
     "input": [
      "%time data = get_one_idx_data(36, data_file_path)"
     ],
     "language": "python",
     "metadata": {},
     "outputs": [
      {
       "output_type": "stream",
       "stream": "stdout",
       "text": [
        "one_line_str =  \n",
        "CPU times: user 3min 16s, sys: 3.6 s, total: 3min 19s\n",
        "Wall time: 3min 26s\n"
       ]
      }
     ],
     "prompt_number": 11
    },
    {
     "cell_type": "code",
     "collapsed": false,
     "input": [
      "data[\"name\"]"
     ],
     "language": "python",
     "metadata": {},
     "outputs": [
      {
       "metadata": {},
       "output_type": "pyout",
       "prompt_number": 12,
       "text": [
        "'C22'"
       ]
      }
     ],
     "prompt_number": 12
    },
    {
     "cell_type": "code",
     "collapsed": false,
     "input": [
      "import numpy as np "
     ],
     "language": "python",
     "metadata": {},
     "outputs": [],
     "prompt_number": 13
    },
    {
     "cell_type": "code",
     "collapsed": false,
     "input": [],
     "language": "python",
     "metadata": {},
     "outputs": [],
     "prompt_number": 13
    },
    {
     "cell_type": "code",
     "collapsed": false,
     "input": [
      "one_col = np.array(data[\"data\"])"
     ],
     "language": "python",
     "metadata": {},
     "outputs": [],
     "prompt_number": 14
    },
    {
     "cell_type": "code",
     "collapsed": false,
     "input": [
      "class OneColumnData(object):\n",
      "    def __init__(self, one_col_data):\n",
      "        self.uu, self.ui, self.ii = np.unique(one_col_data[\"data\"],return_inverse=True,return_index=True)\n",
      "        self.name = one_col_data[\"name\"]\n",
      "    \n",
      "    \n",
      "        "
     ],
     "language": "python",
     "metadata": {},
     "outputs": [],
     "prompt_number": 15
    },
    {
     "cell_type": "code",
     "collapsed": false,
     "input": [
      "one_col_data = OneColumnData(data)"
     ],
     "language": "python",
     "metadata": {},
     "outputs": [],
     "prompt_number": 16
    },
    {
     "cell_type": "code",
     "collapsed": false,
     "input": [
      "one_col_data.__dict__"
     ],
     "language": "python",
     "metadata": {},
     "outputs": [
      {
       "metadata": {},
       "output_type": "pyout",
       "prompt_number": 18,
       "text": [
        "{'ii': array([ 0,  0, 12, ...,  0,  0,  0]),\n",
        " 'name': 'C22',\n",
        " 'ui': array([       0, 10224704,   856083,  1214991,   138977,    11071,\n",
        "          164541,    17350,   568551,      241,     3073,        5,\n",
        "               2,       47,       24,     1769,    14531,   104141]),\n",
        " 'uu': array(['', '032641cc', '12370385', '1856e93d', '24eb7cbf', '28f45308',\n",
        "        '2ec53c35', '49e825c5', '648f4da7', '78e2e389', '8651fddb',\n",
        "        '8ec974f4', 'ad3062eb', 'c0061c6d', 'c9d4222a', 'ccfd4002',\n",
        "        'd9ce1838', 'f4dc011d'], \n",
        "       dtype='|S8')}"
       ]
      }
     ],
     "prompt_number": 18
    },
    {
     "cell_type": "code",
     "collapsed": false,
     "input": [
      "one_col_data.name"
     ],
     "language": "python",
     "metadata": {},
     "outputs": [
      {
       "metadata": {},
       "output_type": "pyout",
       "prompt_number": 21,
       "text": [
        "'C22'"
       ]
      }
     ],
     "prompt_number": 21
    },
    {
     "cell_type": "code",
     "collapsed": false,
     "input": [],
     "language": "python",
     "metadata": {},
     "outputs": []
    },
    {
     "cell_type": "code",
     "collapsed": false,
     "input": [
      "import cPickle as pickle"
     ],
     "language": "python",
     "metadata": {},
     "outputs": [],
     "prompt_number": 18
    },
    {
     "cell_type": "code",
     "collapsed": false,
     "input": [
      "one_col_data_pickle = pickle.dumps(one_col_data)"
     ],
     "language": "python",
     "metadata": {},
     "outputs": [],
     "prompt_number": 37
    },
    {
     "cell_type": "code",
     "collapsed": false,
     "input": [],
     "language": "python",
     "metadata": {},
     "outputs": []
    },
    {
     "cell_type": "code",
     "collapsed": false,
     "input": [
      "one_col"
     ],
     "language": "python",
     "metadata": {},
     "outputs": [
      {
       "metadata": {},
       "output_type": "pyout",
       "prompt_number": 23,
       "text": [
        "array(['', '', 'ad3062eb', ..., '', '', ''], \n",
        "      dtype='|S8')"
       ]
      }
     ],
     "prompt_number": 23
    },
    {
     "cell_type": "code",
     "collapsed": false,
     "input": [
      "uu,ui,ii = np.unique(one_col,return_inverse=True,return_index=True)"
     ],
     "language": "python",
     "metadata": {},
     "outputs": [],
     "prompt_number": 17
    },
    {
     "cell_type": "code",
     "collapsed": false,
     "input": [
      "uu"
     ],
     "language": "python",
     "metadata": {},
     "outputs": [
      {
       "metadata": {},
       "output_type": "pyout",
       "prompt_number": 25,
       "text": [
        "array(['', '032641cc', '12370385', '1856e93d', '24eb7cbf', '28f45308',\n",
        "       '2ec53c35', '49e825c5', '648f4da7', '78e2e389', '8651fddb',\n",
        "       '8ec974f4', 'ad3062eb', 'c0061c6d', 'c9d4222a', 'ccfd4002',\n",
        "       'd9ce1838', 'f4dc011d'], \n",
        "      dtype='|S8')"
       ]
      }
     ],
     "prompt_number": 25
    },
    {
     "cell_type": "code",
     "collapsed": false,
     "input": [
      "ui"
     ],
     "language": "python",
     "metadata": {},
     "outputs": [
      {
       "metadata": {},
       "output_type": "pyout",
       "prompt_number": 19,
       "text": [
        "array([       0, 10224704,   856083,  1214991,   138977,    11071,\n",
        "         164541,    17350,   568551,      241,     3073,        5,\n",
        "              2,       47,       24,     1769,    14531,   104141])"
       ]
      }
     ],
     "prompt_number": 19
    },
    {
     "cell_type": "code",
     "collapsed": false,
     "input": [
      "ii"
     ],
     "language": "python",
     "metadata": {},
     "outputs": [
      {
       "metadata": {},
       "output_type": "pyout",
       "prompt_number": 27,
       "text": [
        "array([ 0,  0, 12, ...,  0,  0,  0])"
       ]
      }
     ],
     "prompt_number": 27
    },
    {
     "cell_type": "code",
     "collapsed": false,
     "input": [
      "np.where(ii==0)[0].shape"
     ],
     "language": "python",
     "metadata": {},
     "outputs": [
      {
       "metadata": {},
       "output_type": "pyout",
       "prompt_number": 28,
       "text": [
        "(34955073,)"
       ]
      }
     ],
     "prompt_number": 28
    },
    {
     "cell_type": "code",
     "collapsed": false,
     "input": [
      "one_col"
     ],
     "language": "python",
     "metadata": {},
     "outputs": [
      {
       "metadata": {},
       "output_type": "pyout",
       "prompt_number": 26,
       "text": [
        "array(['', '', 'ad3062eb', ..., '', '', ''], \n",
        "      dtype='|S8')"
       ]
      }
     ],
     "prompt_number": 26
    },
    {
     "cell_type": "code",
     "collapsed": false,
     "input": [],
     "language": "python",
     "metadata": {},
     "outputs": []
    },
    {
     "cell_type": "code",
     "collapsed": false,
     "input": [
      "from PlaYdata.core.base import ValuesMatrix"
     ],
     "language": "python",
     "metadata": {},
     "outputs": [],
     "prompt_number": 31
    },
    {
     "cell_type": "code",
     "collapsed": false,
     "input": [
      "val_col_mat = ValuesMatrix(data=data[\"data\"],force2d=\"as_col\")"
     ],
     "language": "python",
     "metadata": {},
     "outputs": [],
     "prompt_number": 33
    },
    {
     "cell_type": "code",
     "collapsed": false,
     "input": [
      "idm = val_col_mat.build_index_data_matrix()"
     ],
     "language": "python",
     "metadata": {},
     "outputs": [],
     "prompt_number": 36
    },
    {
     "cell_type": "code",
     "collapsed": false,
     "input": [
      "idm.__dict__"
     ],
     "language": "python",
     "metadata": {},
     "outputs": [
      {
       "metadata": {},
       "output_type": "pyout",
       "prompt_number": 39,
       "text": [
        "{'index_matrix': IndexMatrix([[ 0],\n",
        "        [ 0],\n",
        "        [12],\n",
        "        ..., \n",
        "        [ 0],\n",
        "        [ 0],\n",
        "        [ 0]]),\n",
        " 'states_matrix': StatesMatrix([['', '032641cc', '12370385', '1856e93d', '24eb7cbf', '28f45308',\n",
        "         '2ec53c35', '49e825c5', '648f4da7', '78e2e389', '8651fddb',\n",
        "         '8ec974f4', 'ad3062eb', 'c0061c6d', 'c9d4222a', 'ccfd4002',\n",
        "         'd9ce1838', 'f4dc011d']], \n",
        "       dtype='|S8')}"
       ]
      }
     ],
     "prompt_number": 39
    },
    {
     "cell_type": "code",
     "collapsed": false,
     "input": [],
     "language": "python",
     "metadata": {},
     "outputs": []
    }
   ],
   "metadata": {}
  }
 ]
}