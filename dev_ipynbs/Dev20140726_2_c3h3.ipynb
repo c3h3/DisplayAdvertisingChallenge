{
 "metadata": {
  "name": "",
  "signature": "sha256:66c8590aa23c81492e7a57286082aa6a5ba96fe8e7c4ac07eee3fd8273c19061"
 },
 "nbformat": 3,
 "nbformat_minor": 0,
 "worksheets": [
  {
   "cells": [
    {
     "cell_type": "code",
     "collapsed": false,
     "input": [
      "!ls .."
     ],
     "language": "python",
     "metadata": {},
     "outputs": [
      {
       "output_type": "stream",
       "stream": "stdout",
       "text": [
        "bin    dev_ipynbs  hunkaggle\t       random_submission.csv  setup.py\ttrain.csv\r\n",
        "build  dist\t   hunkaggle.egg-info  README.md\t      test.csv\r\n"
       ]
      }
     ],
     "prompt_number": 23
    },
    {
     "cell_type": "code",
     "collapsed": false,
     "input": [
      "\n",
      "data_file_path = \"../train.csv\"\n",
      "output_dir = \"DisplayAdvertisingChallenge_Columns\"\n",
      "\n",
      "\n"
     ],
     "language": "python",
     "metadata": {},
     "outputs": [],
     "prompt_number": 1
    },
    {
     "cell_type": "code",
     "collapsed": false,
     "input": [
      "import os\n",
      "import numpy as np"
     ],
     "language": "python",
     "metadata": {},
     "outputs": [],
     "prompt_number": 2
    },
    {
     "cell_type": "code",
     "collapsed": false,
     "input": [
      "if not output_dir in os.listdir(\".\"):\n",
      "    os.mkdir(output_dir)"
     ],
     "language": "python",
     "metadata": {},
     "outputs": [],
     "prompt_number": 3
    },
    {
     "cell_type": "code",
     "collapsed": false,
     "input": [
      "with open(data_file_path,\"r\") as rf:\n",
      "    colnames_line = rf.readline()\n",
      "    colnames = colnames_line.strip().split(\",\")"
     ],
     "language": "python",
     "metadata": {},
     "outputs": [],
     "prompt_number": 4
    },
    {
     "cell_type": "code",
     "collapsed": false,
     "input": [
      "rf = open(data_file_path,\"r\")\n",
      "rf.readline()\n",
      "data = rf.readline()"
     ],
     "language": "python",
     "metadata": {},
     "outputs": [],
     "prompt_number": 5
    },
    {
     "cell_type": "code",
     "collapsed": false,
     "input": [
      "np.where(np.array(data.strip().split(\",\")) == \"\")"
     ],
     "language": "python",
     "metadata": {},
     "outputs": [
      {
       "metadata": {},
       "output_type": "pyout",
       "prompt_number": 6,
       "text": [
        "(array([13, 36]),)"
       ]
      }
     ],
     "prompt_number": 6
    },
    {
     "cell_type": "code",
     "collapsed": false,
     "input": [
      "colnames[15]"
     ],
     "language": "python",
     "metadata": {},
     "outputs": [
      {
       "metadata": {},
       "output_type": "pyout",
       "prompt_number": 7,
       "text": [
        "'C1'"
       ]
      }
     ],
     "prompt_number": 7
    },
    {
     "cell_type": "code",
     "collapsed": false,
     "input": [],
     "language": "python",
     "metadata": {},
     "outputs": [],
     "prompt_number": 7
    },
    {
     "cell_type": "code",
     "collapsed": false,
     "input": [
      "one_col_idx = range(len(colnames))[0]"
     ],
     "language": "python",
     "metadata": {},
     "outputs": [],
     "prompt_number": 8
    },
    {
     "cell_type": "code",
     "collapsed": false,
     "input": [
      "one_col_name = colnames[one_col_idx]\n",
      "one_col_name"
     ],
     "language": "python",
     "metadata": {},
     "outputs": [
      {
       "metadata": {},
       "output_type": "pyout",
       "prompt_number": 9,
       "text": [
        "'Id'"
       ]
      }
     ],
     "prompt_number": 9
    },
    {
     "cell_type": "code",
     "collapsed": false,
     "input": [
      "\n",
      "def get_one_idx_data(one_col_idx, data_file_path):\n",
      "    with open(data_file_path,\"r\") as rf:\n",
      "        colnames_line = rf.readline()\n",
      "        colnames = colnames_line.strip().split(\",\")\n",
      "        \n",
      "        data_list = []\n",
      "        one_line_str = \"temp_str\"\n",
      "\n",
      "        while one_line_str != \"\":\n",
      "            one_line_str = rf.readline()\n",
      "            one_line_str_data = one_line_str.strip().split(\",\")\n",
      "            if len(one_line_str_data) == len(colnames):\n",
      "                data_list.append(one_line_str.strip().split(\",\")[one_col_idx])\n",
      "            else:\n",
      "                print \"one_line_str = \",one_line_str\n",
      "    \n",
      "    return {\"name\":colnames[one_col_idx],\"data\":data_list}\n",
      "\n"
     ],
     "language": "python",
     "metadata": {},
     "outputs": [],
     "prompt_number": 10
    },
    {
     "cell_type": "code",
     "collapsed": false,
     "input": [
      "%time data = get_one_idx_data(36, data_file_path)"
     ],
     "language": "python",
     "metadata": {},
     "outputs": [
      {
       "output_type": "stream",
       "stream": "stdout",
       "text": [
        "one_line_str =  \n",
        "CPU times: user 3min 16s, sys: 3.6 s, total: 3min 19s\n",
        "Wall time: 3min 26s\n"
       ]
      }
     ],
     "prompt_number": 11
    },
    {
     "cell_type": "code",
     "collapsed": false,
     "input": [
      "data[\"name\"]"
     ],
     "language": "python",
     "metadata": {},
     "outputs": [
      {
       "metadata": {},
       "output_type": "pyout",
       "prompt_number": 12,
       "text": [
        "'C22'"
       ]
      }
     ],
     "prompt_number": 12
    },
    {
     "cell_type": "code",
     "collapsed": false,
     "input": [
      "import numpy as np "
     ],
     "language": "python",
     "metadata": {},
     "outputs": [],
     "prompt_number": 13
    },
    {
     "cell_type": "code",
     "collapsed": false,
     "input": [],
     "language": "python",
     "metadata": {},
     "outputs": [],
     "prompt_number": 13
    },
    {
     "cell_type": "code",
     "collapsed": false,
     "input": [
      "one_col = np.array(data[\"data\"])"
     ],
     "language": "python",
     "metadata": {},
     "outputs": [],
     "prompt_number": 14
    },
    {
     "cell_type": "code",
     "collapsed": false,
     "input": [
      "class OneColumnData(object):\n",
      "    def __init__(self, one_col_data):\n",
      "        self.uu, self.ui, self.ii = np.unique(one_col_data[\"data\"],return_inverse=True,return_index=True)\n",
      "        self.name = one_col_data[\"name\"]\n",
      "    \n",
      "    \n",
      "        "
     ],
     "language": "python",
     "metadata": {},
     "outputs": [],
     "prompt_number": 15
    },
    {
     "cell_type": "code",
     "collapsed": false,
     "input": [
      "one_col_data = OneColumnData(data)"
     ],
     "language": "python",
     "metadata": {},
     "outputs": [],
     "prompt_number": 16
    },
    {
     "cell_type": "code",
     "collapsed": false,
     "input": [
      "one_col_data.__dict__"
     ],
     "language": "python",
     "metadata": {},
     "outputs": [
      {
       "metadata": {},
       "output_type": "pyout",
       "prompt_number": 18,
       "text": [
        "{'ii': array([ 0,  0, 12, ...,  0,  0,  0]),\n",
        " 'name': 'C22',\n",
        " 'ui': array([       0, 10224704,   856083,  1214991,   138977,    11071,\n",
        "          164541,    17350,   568551,      241,     3073,        5,\n",
        "               2,       47,       24,     1769,    14531,   104141]),\n",
        " 'uu': array(['', '032641cc', '12370385', '1856e93d', '24eb7cbf', '28f45308',\n",
        "        '2ec53c35', '49e825c5', '648f4da7', '78e2e389', '8651fddb',\n",
        "        '8ec974f4', 'ad3062eb', 'c0061c6d', 'c9d4222a', 'ccfd4002',\n",
        "        'd9ce1838', 'f4dc011d'], \n",
        "       dtype='|S8')}"
       ]
      }
     ],
     "prompt_number": 18
    },
    {
     "cell_type": "code",
     "collapsed": false,
     "input": [
      "one_col_data.name"
     ],
     "language": "python",
     "metadata": {},
     "outputs": [
      {
       "metadata": {},
       "output_type": "pyout",
       "prompt_number": 21,
       "text": [
        "'C22'"
       ]
      }
     ],
     "prompt_number": 21
    },
    {
     "cell_type": "code",
     "collapsed": false,
     "input": [],
     "language": "python",
     "metadata": {},
     "outputs": []
    },
    {
     "cell_type": "code",
     "collapsed": false,
     "input": [
      "import cPickle as pickle"
     ],
     "language": "python",
     "metadata": {},
     "outputs": [],
     "prompt_number": 18
    },
    {
     "cell_type": "code",
     "collapsed": false,
     "input": [
      "one_col_data_pickle = pickle.dumps(one_col_data)"
     ],
     "language": "python",
     "metadata": {},
     "outputs": [],
     "prompt_number": 37
    },
    {
     "cell_type": "code",
     "collapsed": false,
     "input": [],
     "language": "python",
     "metadata": {},
     "outputs": []
    },
    {
     "cell_type": "code",
     "collapsed": false,
     "input": [
      "one_col"
     ],
     "language": "python",
     "metadata": {},
     "outputs": [
      {
       "metadata": {},
       "output_type": "pyout",
       "prompt_number": 23,
       "text": [
        "array(['', '', 'ad3062eb', ..., '', '', ''], \n",
        "      dtype='|S8')"
       ]
      }
     ],
     "prompt_number": 23
    },
    {
     "cell_type": "code",
     "collapsed": false,
     "input": [
      "uu,ui,ii = np.unique(one_col,return_inverse=True,return_index=True)"
     ],
     "language": "python",
     "metadata": {},
     "outputs": [],
     "prompt_number": 17
    },
    {
     "cell_type": "code",
     "collapsed": false,
     "input": [
      "uu"
     ],
     "language": "python",
     "metadata": {},
     "outputs": [
      {
       "metadata": {},
       "output_type": "pyout",
       "prompt_number": 25,
       "text": [
        "array(['', '032641cc', '12370385', '1856e93d', '24eb7cbf', '28f45308',\n",
        "       '2ec53c35', '49e825c5', '648f4da7', '78e2e389', '8651fddb',\n",
        "       '8ec974f4', 'ad3062eb', 'c0061c6d', 'c9d4222a', 'ccfd4002',\n",
        "       'd9ce1838', 'f4dc011d'], \n",
        "      dtype='|S8')"
       ]
      }
     ],
     "prompt_number": 25
    },
    {
     "cell_type": "code",
     "collapsed": false,
     "input": [
      "ui"
     ],
     "language": "python",
     "metadata": {},
     "outputs": [
      {
       "metadata": {},
       "output_type": "pyout",
       "prompt_number": 19,
       "text": [
        "array([       0, 10224704,   856083,  1214991,   138977,    11071,\n",
        "         164541,    17350,   568551,      241,     3073,        5,\n",
        "              2,       47,       24,     1769,    14531,   104141])"
       ]
      }
     ],
     "prompt_number": 19
    },
    {
     "cell_type": "code",
     "collapsed": false,
     "input": [
      "ii"
     ],
     "language": "python",
     "metadata": {},
     "outputs": [
      {
       "metadata": {},
       "output_type": "pyout",
       "prompt_number": 27,
       "text": [
        "array([ 0,  0, 12, ...,  0,  0,  0])"
       ]
      }
     ],
     "prompt_number": 27
    },
    {
     "cell_type": "code",
     "collapsed": false,
     "input": [
      "np.where(ii==0)[0].shape"
     ],
     "language": "python",
     "metadata": {},
     "outputs": [
      {
       "metadata": {},
       "output_type": "pyout",
       "prompt_number": 28,
       "text": [
        "(34955073,)"
       ]
      }
     ],
     "prompt_number": 28
    },
    {
     "cell_type": "code",
     "collapsed": false,
     "input": [
      "one_col"
     ],
     "language": "python",
     "metadata": {},
     "outputs": [
      {
       "metadata": {},
       "output_type": "pyout",
       "prompt_number": 26,
       "text": [
        "array(['', '', 'ad3062eb', ..., '', '', ''], \n",
        "      dtype='|S8')"
       ]
      }
     ],
     "prompt_number": 26
    },
    {
     "cell_type": "code",
     "collapsed": false,
     "input": [],
     "language": "python",
     "metadata": {},
     "outputs": []
    },
    {
     "cell_type": "code",
     "collapsed": false,
     "input": [
      "from PlaYdata.core.base import ValuesMatrix"
     ],
     "language": "python",
     "metadata": {},
     "outputs": [],
     "prompt_number": 31
    },
    {
     "cell_type": "code",
     "collapsed": false,
     "input": [
      "val_col_mat = ValuesMatrix(data=data[\"data\"],force2d=\"as_col\")"
     ],
     "language": "python",
     "metadata": {},
     "outputs": [],
     "prompt_number": 33
    },
    {
     "cell_type": "code",
     "collapsed": false,
     "input": [
      "idm = val_col_mat.build_index_data_matrix()"
     ],
     "language": "python",
     "metadata": {},
     "outputs": [],
     "prompt_number": 36
    },
    {
     "cell_type": "code",
     "collapsed": false,
     "input": [
      "idm.__dict__"
     ],
     "language": "python",
     "metadata": {},
     "outputs": [
      {
       "metadata": {},
       "output_type": "pyout",
       "prompt_number": 39,
       "text": [
        "{'index_matrix': IndexMatrix([[ 0],\n",
        "        [ 0],\n",
        "        [12],\n",
        "        ..., \n",
        "        [ 0],\n",
        "        [ 0],\n",
        "        [ 0]]),\n",
        " 'states_matrix': StatesMatrix([['', '032641cc', '12370385', '1856e93d', '24eb7cbf', '28f45308',\n",
        "         '2ec53c35', '49e825c5', '648f4da7', '78e2e389', '8651fddb',\n",
        "         '8ec974f4', 'ad3062eb', 'c0061c6d', 'c9d4222a', 'ccfd4002',\n",
        "         'd9ce1838', 'f4dc011d']], \n",
        "       dtype='|S8')}"
       ]
      }
     ],
     "prompt_number": 39
    },
    {
     "cell_type": "code",
     "collapsed": false,
     "input": [],
     "language": "python",
     "metadata": {},
     "outputs": []
    }
   ],
   "metadata": {}
  }
 ]
}